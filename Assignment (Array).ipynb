{
 "cells": [
  {
   "cell_type": "markdown",
   "id": "fbd77400",
   "metadata": {},
   "source": [
    "# Assignment (Array):"
   ]
  },
  {
   "cell_type": "markdown",
   "id": "0d13d6d8",
   "metadata": {},
   "source": [
    "1. Given an array, check if it contains any duplicates or not.\n",
    "arr = [1, 2, 4, 2, 5, 9]\n",
    "Output = True\n",
    "\n",
    "\n"
   ]
  },
  {
   "cell_type": "code",
   "execution_count": 13,
   "id": "776929bf",
   "metadata": {},
   "outputs": [
    {
     "name": "stdout",
     "output_type": "stream",
     "text": [
      "True\n"
     ]
    }
   ],
   "source": [
    "arr=[1,2,4,2,5,9]\n",
    "arr1=[]     # Create an empty array\n",
    "for i in arr:\n",
    "    if i not in arr1:    # Condition to check i is not in arr1\n",
    "        arr1.append(i)   # If condition become true then i will append in the arr1.  \n",
    "    else:\n",
    "        print(True)      # If duplicate value found then print True\n",
    "        \n",
    "\n",
    "        \n",
    "# Time Coplexity: O(n)\n",
    "#Space coplexity: O(n)"
   ]
  },
  {
   "cell_type": "markdown",
   "id": "009df4ff",
   "metadata": {},
   "source": [
    "2. Given an array and an integer k, rotate the array to the right by k steps.\n",
    "arr = [1, 2, 3, 4, 5, 6, 7] k = 3\n",
    "Output = [5, 6, 7, 1, 2, 3, 4]\n",
    "\n",
    "\n",
    "\n"
   ]
  },
  {
   "cell_type": "code",
   "execution_count": 14,
   "id": "501711b5",
   "metadata": {},
   "outputs": [
    {
     "name": "stdout",
     "output_type": "stream",
     "text": [
      "5 6 7 1 2 3 4 \n",
      "\n"
     ]
    }
   ],
   "source": [
    "def Rotation(a,n,k):\n",
    "    #If rotation is greater then size of array\n",
    "    \n",
    "    k=k%n\n",
    "    for i in range(0,n):\n",
    "        if(i<k):\n",
    "            print(a[n+i-k], end=\" \")    #print rightmost Kth elements\n",
    "        else:\n",
    "            print(a[i-k], end = \" \")    # print array after Kth element\n",
    "    print(\"\\n\")\n",
    "    \n",
    "#driver code\n",
    "arr = [1, 2, 3, 4, 5, 6, 7]\n",
    "n = len(arr)\n",
    "k=3\n",
    "Rotation(arr,n,k)\n",
    "\n",
    "\n",
    "# Time Cmplexity: O(n)\n",
    "#Space Coplexity: O(1)"
   ]
  },
  {
   "cell_type": "markdown",
   "id": "5d058e53",
   "metadata": {},
   "source": [
    "3. Reverse the given array in-place, means without using any extra data structure.\n",
    "arr = [2, 4, 5, 7, 9, 12]\n",
    "Output = [12, 9, 7, 5, 4, 2]\n",
    "\n",
    "\n",
    "\n"
   ]
  },
  {
   "cell_type": "code",
   "execution_count": 15,
   "id": "b857818a",
   "metadata": {},
   "outputs": [
    {
     "data": {
      "text/plain": [
       "[12, 9, 7, 5, 4, 2]"
      ]
     },
     "execution_count": 15,
     "metadata": {},
     "output_type": "execute_result"
    }
   ],
   "source": [
    "arr = [2, 4, 5, 7, 9, 12]\n",
    "arr[::-1]"
   ]
  },
  {
   "cell_type": "markdown",
   "id": "7a5f1fe8",
   "metadata": {},
   "source": [
    "4. Given an array of integers, find the maximum element in an array\n",
    "\n",
    "arr = [10, 5, 20, 8, 15]\n",
    "\n",
    "Output = 20\n",
    "\n",
    "\n",
    "\n",
    "  "
   ]
  },
  {
   "cell_type": "code",
   "execution_count": 16,
   "id": "199e2965",
   "metadata": {},
   "outputs": [
    {
     "name": "stdout",
     "output_type": "stream",
     "text": [
      "Max value in the array :  20\n"
     ]
    }
   ],
   "source": [
    "def Max_Element(arr):\n",
    "    max = arr[0]              # Assign first index to max variable\n",
    "    for i in range(1,n):      # range start from 1\n",
    "        if arr[i]>max:        # compare if arr[1] is greater then max then assign that value to max variable\n",
    "            max = arr[i]\n",
    "    return max                \n",
    "        \n",
    "#driver code\n",
    "arr = [10, 5, 20, 8, 15]\n",
    "n= len(arr)\n",
    "Max_Value = Max_Element(arr)\n",
    "print(\"Max value in the array : \",Max_Value)\n",
    "\n",
    "# Time Coplexity : O(n)\n",
    "# Space Complexity: O(1)"
   ]
  },
  {
   "cell_type": "markdown",
   "id": "0bb95afa",
   "metadata": {},
   "source": [
    "5. Given a sorted array, remove the duplicate element without using any extra data structure.\n",
    "arr = [1, 1, 2, 2, 2, 3, 3, 4, 4, 4, 5, 5]\n",
    "Output = [1, 2, 3, 4, 5]"
   ]
  },
  {
   "cell_type": "code",
   "execution_count": 24,
   "id": "c531cb0f",
   "metadata": {},
   "outputs": [
    {
     "name": "stdout",
     "output_type": "stream",
     "text": [
      "1 2 3 4 5 "
     ]
    }
   ],
   "source": [
    "def Remove_Duplicates(arr):\n",
    "    \n",
    "    if n == 0 or n == 1:\n",
    "        return n\n",
    "    \n",
    "    # To store index of next unique element\n",
    "    j = 0\n",
    "    \n",
    "    # Just maintaining another updated index j\n",
    "    for i in range(n - 1):\n",
    "        if arr[i] != arr[i + 1]:\n",
    "            arr[j] = arr[i]\n",
    "            j += 1\n",
    "            \n",
    "    arr[j] = arr[n - 1]\n",
    "    return j + 1\n",
    "\n",
    "# driver code\n",
    "\n",
    "arr = [1, 1, 2, 2, 2, 3, 3, 4, 4, 4, 5, 5]\n",
    "n = len(arr)\n",
    "result = Remove_Duplicates(arr)\n",
    "for i in range(result):\n",
    "        print(arr[i], end=\" \")\n",
    "        \n",
    "        \n",
    "        \n",
    "# Time complexity: O(n)\n",
    "# Space Complexity: O(1)"
   ]
  },
  {
   "cell_type": "code",
   "execution_count": null,
   "id": "61386aa2",
   "metadata": {},
   "outputs": [],
   "source": []
  },
  {
   "cell_type": "code",
   "execution_count": null,
   "id": "2a6308eb",
   "metadata": {},
   "outputs": [],
   "source": []
  }
 ],
 "metadata": {
  "kernelspec": {
   "display_name": "Python 3 (ipykernel)",
   "language": "python",
   "name": "python3"
  },
  "language_info": {
   "codemirror_mode": {
    "name": "ipython",
    "version": 3
   },
   "file_extension": ".py",
   "mimetype": "text/x-python",
   "name": "python",
   "nbconvert_exporter": "python",
   "pygments_lexer": "ipython3",
   "version": "3.9.7"
  }
 },
 "nbformat": 4,
 "nbformat_minor": 5
}
