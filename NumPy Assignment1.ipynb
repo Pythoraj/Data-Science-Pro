{
 "cells": [
  {
   "cell_type": "markdown",
   "id": "1b259f68",
   "metadata": {},
   "source": [
    "# 1. What is a Python library? Why do we use Python libraries?\n",
    "\n",
    "Answer:\n",
    "\n",
    "Python Library:  \n",
    "A Python library is a collection of related modules. It contains bundles of code that can be used repeatedly in different programs. It makes Python Programming simpler and more convenient for the programmer. As we don’t need to write the same code again and again for different programs. Python libraries play a very vital role in the fields of Machine Learning, Data Science, Data Visualization, etc.\n",
    "\n",
    "Use Of Python Library: \n",
    "\n",
    "1. For the easy maintenance of the code.\n",
    "2. We split the code into different parts and we can use that code later whenever we need it.\n",
    "3. Code reusability.\n"
   ]
  },
  {
   "cell_type": "markdown",
   "id": "458f96f5",
   "metadata": {},
   "source": [
    "# 2. What is the difference between the Numpy array and List?\n",
    "Difference b/w Numpy Array and List:\n",
    "\n",
    "List: \n",
    "- List is a data structure that is used in Python. \n",
    "- List is a mutable data structure.\n",
    "- List can be either homogeneous or heterogeneous\n",
    "- A Python list's versatility makes it an optimal alternative to an array\n",
    "\n",
    "Numpy Array: \n",
    "- All of the elements in the array a homogeneous.\n",
    "- Size will be fixed into the array.\n",
    "- Numpy array is used for mathematical calculation.\n"
   ]
  },
  {
   "cell_type": "markdown",
   "id": "f856f6b6",
   "metadata": {},
   "source": [
    "# 3. Find the shape, size and dimensions of the following array?\n",
    "[[1,2,3,4],\n",
    "[5,6,7,8],\n",
    "[9,10,11,12]]"
   ]
  },
  {
   "cell_type": "code",
   "execution_count": 2,
   "id": "99ea8a0b",
   "metadata": {},
   "outputs": [],
   "source": [
    "List = [[1,2,3,4], [5,6,7,8], [9,10,11,12]]    # List assign to a variable"
   ]
  },
  {
   "cell_type": "code",
   "execution_count": 3,
   "id": "e6368f4b",
   "metadata": {},
   "outputs": [
    {
     "name": "stdout",
     "output_type": "stream",
     "text": [
      "[[1, 2, 3, 4], [5, 6, 7, 8], [9, 10, 11, 12]]\n"
     ]
    }
   ],
   "source": [
    "print(List)     # Print the List"
   ]
  },
  {
   "cell_type": "code",
   "execution_count": 4,
   "id": "79d24367",
   "metadata": {},
   "outputs": [],
   "source": [
    "import numpy as np        # Import NumPy as np from numpy library"
   ]
  },
  {
   "cell_type": "code",
   "execution_count": 5,
   "id": "4547829d",
   "metadata": {},
   "outputs": [
    {
     "name": "stdout",
     "output_type": "stream",
     "text": [
      "[[ 1  2  3  4]\n",
      " [ 5  6  7  8]\n",
      " [ 9 10 11 12]]\n"
     ]
    }
   ],
   "source": [
    "Arr = np.array(List)    # Converting list into the NumPy Array\n",
    "print(Arr)"
   ]
  },
  {
   "cell_type": "code",
   "execution_count": 6,
   "id": "a5072da5",
   "metadata": {},
   "outputs": [
    {
     "data": {
      "text/plain": [
       "(3, 4)"
      ]
     },
     "execution_count": 6,
     "metadata": {},
     "output_type": "execute_result"
    }
   ],
   "source": [
    "np.shape(Arr)       # Shape of Array"
   ]
  },
  {
   "cell_type": "code",
   "execution_count": 7,
   "id": "b180e0d3",
   "metadata": {},
   "outputs": [
    {
     "data": {
      "text/plain": [
       "12"
      ]
     },
     "execution_count": 7,
     "metadata": {},
     "output_type": "execute_result"
    }
   ],
   "source": [
    "np.size(Arr)       # Size Of Array"
   ]
  },
  {
   "cell_type": "code",
   "execution_count": 8,
   "id": "87a2031d",
   "metadata": {},
   "outputs": [
    {
     "data": {
      "text/plain": [
       "2"
      ]
     },
     "execution_count": 8,
     "metadata": {},
     "output_type": "execute_result"
    }
   ],
   "source": [
    "np.ndim(Arr)      # Dimension of Array"
   ]
  },
  {
   "cell_type": "markdown",
   "id": "11b8fc24",
   "metadata": {},
   "source": [
    "# 4. Writer a python code to access first row of the following array?\n",
    "[[1,2,3,4],\n",
    "[5,6,7,8],\n",
    "[9,10,11,12]]"
   ]
  },
  {
   "cell_type": "code",
   "execution_count": 9,
   "id": "18e8c689",
   "metadata": {},
   "outputs": [
    {
     "name": "stdout",
     "output_type": "stream",
     "text": [
      "[[1, 2, 3, 4], [5, 6, 7, 8], [9, 10, 11, 12]]\n"
     ]
    }
   ],
   "source": [
    "List = [[1,2,3,4], [5,6,7,8], [9,10,11,12]]       # List assign to a variable\n",
    "print(List)"
   ]
  },
  {
   "cell_type": "code",
   "execution_count": 14,
   "id": "9b07839f",
   "metadata": {},
   "outputs": [
    {
     "name": "stdout",
     "output_type": "stream",
     "text": [
      "[[ 1  2  3  4]\n",
      " [ 5  6  7  8]\n",
      " [ 9 10 11 12]]\n"
     ]
    }
   ],
   "source": [
    "Arr = np.array(List)         # Converting list into the NumPy Array\n",
    "print(Arr)"
   ]
  },
  {
   "cell_type": "code",
   "execution_count": 15,
   "id": "bdd74a9d",
   "metadata": {},
   "outputs": [
    {
     "data": {
      "text/plain": [
       "array([1, 2, 3, 4])"
      ]
     },
     "execution_count": 15,
     "metadata": {},
     "output_type": "execute_result"
    }
   ],
   "source": [
    "# We can access any element from array using index.\n",
    "# Here I access first row from the array below\n",
    "Arr[0]     \n"
   ]
  },
  {
   "cell_type": "markdown",
   "id": "14256f69",
   "metadata": {},
   "source": [
    "# 5. How do you access the element at the third row and fourth column from the given array?\n",
    "[[1,2,3,4], [5,6,7,8], [9,10,11,12]]"
   ]
  },
  {
   "cell_type": "code",
   "execution_count": 16,
   "id": "55ed8d9d",
   "metadata": {},
   "outputs": [
    {
     "name": "stdout",
     "output_type": "stream",
     "text": [
      "[[1, 2, 3, 4], [5, 6, 7, 8], [9, 10, 11, 12]]\n"
     ]
    }
   ],
   "source": [
    "List = [[1,2,3,4], [5,6,7,8], [9,10,11,12]]       # List assign to a variable\n",
    "print(List)"
   ]
  },
  {
   "cell_type": "code",
   "execution_count": 17,
   "id": "639b7e59",
   "metadata": {},
   "outputs": [
    {
     "name": "stdout",
     "output_type": "stream",
     "text": [
      "[[ 1  2  3  4]\n",
      " [ 5  6  7  8]\n",
      " [ 9 10 11 12]]\n"
     ]
    }
   ],
   "source": [
    "Arr = np.array(List)         # Converting list into the NumPy Array\n",
    "print(Arr)"
   ]
  },
  {
   "cell_type": "code",
   "execution_count": 23,
   "id": "1c60369f",
   "metadata": {},
   "outputs": [
    {
     "data": {
      "text/plain": [
       "12"
      ]
     },
     "execution_count": 23,
     "metadata": {},
     "output_type": "execute_result"
    }
   ],
   "source": [
    "Arr[2,3]     # Accessing array element from third row  and fourth column"
   ]
  },
  {
   "cell_type": "markdown",
   "id": "f708efba",
   "metadata": {},
   "source": [
    "# 6. Write a code to extract all odd indexed element from the given NumPy Array?\n",
    "[[1,2,3,4], [5,6,7,8], [9,10,11,12]]"
   ]
  },
  {
   "cell_type": "code",
   "execution_count": 27,
   "id": "515cbe43",
   "metadata": {},
   "outputs": [
    {
     "name": "stdout",
     "output_type": "stream",
     "text": [
      "[[1, 2, 3, 4], [5, 6, 7, 8], [9, 10, 11, 12]]\n"
     ]
    }
   ],
   "source": [
    "List = [[1,2,3,4], [5,6,7,8], [9,10,11,12]]       # List assign to a variable\n",
    "print(List)"
   ]
  },
  {
   "cell_type": "code",
   "execution_count": 28,
   "id": "c58f3513",
   "metadata": {},
   "outputs": [
    {
     "name": "stdout",
     "output_type": "stream",
     "text": [
      "[[ 1  2  3  4]\n",
      " [ 5  6  7  8]\n",
      " [ 9 10 11 12]]\n"
     ]
    }
   ],
   "source": [
    "Arr = np.array(List)         # Converting list into the NumPy Array\n",
    "print(Arr)"
   ]
  },
  {
   "cell_type": "code",
   "execution_count": 33,
   "id": "3c69bd1e",
   "metadata": {},
   "outputs": [
    {
     "data": {
      "text/plain": [
       "array([[ 1,  3],\n",
       "       [ 5,  7],\n",
       "       [ 9, 11]])"
      ]
     },
     "execution_count": 33,
     "metadata": {},
     "output_type": "execute_result"
    }
   ],
   "source": [
    "Arr[0:3,0:3:2]     # Access all odd indexed element from the NumPy Array"
   ]
  },
  {
   "cell_type": "code",
   "execution_count": null,
   "id": "32eb4a4d",
   "metadata": {},
   "outputs": [],
   "source": []
  },
  {
   "cell_type": "code",
   "execution_count": null,
   "id": "f7c36218",
   "metadata": {},
   "outputs": [],
   "source": []
  }
 ],
 "metadata": {
  "kernelspec": {
   "display_name": "Python 3 (ipykernel)",
   "language": "python",
   "name": "python3"
  },
  "language_info": {
   "codemirror_mode": {
    "name": "ipython",
    "version": 3
   },
   "file_extension": ".py",
   "mimetype": "text/x-python",
   "name": "python",
   "nbconvert_exporter": "python",
   "pygments_lexer": "ipython3",
   "version": "3.9.7"
  }
 },
 "nbformat": 4,
 "nbformat_minor": 5
}
