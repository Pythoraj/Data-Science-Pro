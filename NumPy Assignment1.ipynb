{
 "cells": [
  {
   "cell_type": "markdown",
   "id": "1b259f68",
   "metadata": {},
   "source": [
    "# 1. What is a Python library? Why do we use Python libraries?\n",
    "\n",
    "Answer:\n",
    "\n",
    "Python Library:  \n",
    "A Python library is a collection of related modules. It contains bundles of code that can be used repeatedly in different programs. It makes Python Programming simpler and more convenient for the programmer. As we don’t need to write the same code again and again for different programs. Python libraries play a very vital role in the fields of Machine Learning, Data Science, Data Visualization, etc.\n",
    "\n",
    "Use Of Python Library: \n",
    "\n",
    "1. For the easy maintenance of the code.\n",
    "2. We split the code into different parts and we can use that code later whenever we need it.\n",
    "3. Code reusability.\n"
   ]
  },
  {
   "cell_type": "markdown",
   "id": "458f96f5",
   "metadata": {},
   "source": [
    "# 2. What is the difference between the Numpy array and List?\n",
    "Difference b/w Numpy Array and List:\n",
    "\n",
    "List: \n",
    "- List is a data structure that is used in Python. \n",
    "- List is a mutable data structure.\n",
    "- List can be either homogeneous or heterogeneous\n",
    "- A Python list's versatility makes it an optimal alternative to an array\n",
    "\n",
    "Numpy Array: \n",
    "- All of the elements in the array a homogeneous.\n",
    "- Size will be fixed into the array.\n",
    "- Numpy array is used for mathematical calculation.\n"
   ]
  },
  {
   "cell_type": "markdown",
   "id": "f856f6b6",
   "metadata": {},
   "source": [
    "# 3. Find the shape, size and dimensions of the following array?\n",
    "[[1,2,3,4],\n",
    "[5,6,7,8],\n",
    "[9,10,11,12]]"
   ]
  },
  {
   "cell_type": "code",
   "execution_count": 2,
   "id": "99ea8a0b",
   "metadata": {},
   "outputs": [],
   "source": [
    "List = [[1,2,3,4], [5,6,7,8], [9,10,11,12]]    # List assign to a variable"
   ]
  },
  {
   "cell_type": "code",
   "execution_count": 3,
   "id": "e6368f4b",
   "metadata": {},
   "outputs": [
    {
     "name": "stdout",
     "output_type": "stream",
     "text": [
      "[[1, 2, 3, 4], [5, 6, 7, 8], [9, 10, 11, 12]]\n"
     ]
    }
   ],
   "source": [
    "print(List)     # Print the List"
   ]
  },
  {
   "cell_type": "code",
   "execution_count": 2,
   "id": "79d24367",
   "metadata": {},
   "outputs": [],
   "source": [
    "import numpy as np        # Import NumPy as np from numpy library"
   ]
  },
  {
   "cell_type": "code",
   "execution_count": 4,
   "id": "4547829d",
   "metadata": {},
   "outputs": [
    {
     "name": "stdout",
     "output_type": "stream",
     "text": [
      "[[ 1  2  3  4]\n",
      " [ 5  6  7  8]\n",
      " [ 9 10 11 12]]\n"
     ]
    }
   ],
   "source": [
    "Arr = np.array(List)    # Converting list into the NumPy Array\n",
    "print(Arr)"
   ]
  },
  {
   "cell_type": "code",
   "execution_count": 5,
   "id": "a5072da5",
   "metadata": {},
   "outputs": [
    {
     "data": {
      "text/plain": [
       "(3, 4)"
      ]
     },
     "execution_count": 5,
     "metadata": {},
     "output_type": "execute_result"
    }
   ],
   "source": [
    "np.shape(Arr)       # Shape of Array"
   ]
  },
  {
   "cell_type": "code",
   "execution_count": 6,
   "id": "b180e0d3",
   "metadata": {},
   "outputs": [
    {
     "data": {
      "text/plain": [
       "12"
      ]
     },
     "execution_count": 6,
     "metadata": {},
     "output_type": "execute_result"
    }
   ],
   "source": [
    "np.size(Arr)       # Size Of Array"
   ]
  },
  {
   "cell_type": "code",
   "execution_count": 7,
   "id": "87a2031d",
   "metadata": {},
   "outputs": [
    {
     "data": {
      "text/plain": [
       "2"
      ]
     },
     "execution_count": 7,
     "metadata": {},
     "output_type": "execute_result"
    }
   ],
   "source": [
    "np.ndim(Arr)      # Dimension of Array"
   ]
  },
  {
   "cell_type": "markdown",
   "id": "11b8fc24",
   "metadata": {},
   "source": [
    "# 4. Writer a python code to access first row of the following array?\n",
    "[[1,2,3,4],\n",
    "[5,6,7,8],\n",
    "[9,10,11,12]]"
   ]
  },
  {
   "cell_type": "code",
   "execution_count": 8,
   "id": "18e8c689",
   "metadata": {},
   "outputs": [
    {
     "name": "stdout",
     "output_type": "stream",
     "text": [
      "[[1, 2, 3, 4], [5, 6, 7, 8], [9, 10, 11, 12]]\n"
     ]
    }
   ],
   "source": [
    "List = [[1,2,3,4], [5,6,7,8], [9,10,11,12]]       # List assign to a variable\n",
    "print(List)"
   ]
  },
  {
   "cell_type": "code",
   "execution_count": 9,
   "id": "9b07839f",
   "metadata": {},
   "outputs": [
    {
     "name": "stdout",
     "output_type": "stream",
     "text": [
      "[[ 1  2  3  4]\n",
      " [ 5  6  7  8]\n",
      " [ 9 10 11 12]]\n"
     ]
    }
   ],
   "source": [
    "Arr = np.array(List)         # Converting list into the NumPy Array\n",
    "print(Arr)"
   ]
  },
  {
   "cell_type": "code",
   "execution_count": 10,
   "id": "bdd74a9d",
   "metadata": {},
   "outputs": [
    {
     "data": {
      "text/plain": [
       "array([1, 2, 3, 4])"
      ]
     },
     "execution_count": 10,
     "metadata": {},
     "output_type": "execute_result"
    }
   ],
   "source": [
    "# We can access any element from array using index.\n",
    "# Here I access first row from the array below\n",
    "Arr[0]     \n"
   ]
  },
  {
   "cell_type": "markdown",
   "id": "14256f69",
   "metadata": {},
   "source": [
    "# 5. How do you access the element at the third row and fourth column from the given array?\n",
    "[[1,2,3,4], [5,6,7,8], [9,10,11,12]]"
   ]
  },
  {
   "cell_type": "code",
   "execution_count": 11,
   "id": "55ed8d9d",
   "metadata": {},
   "outputs": [
    {
     "name": "stdout",
     "output_type": "stream",
     "text": [
      "[[1, 2, 3, 4], [5, 6, 7, 8], [9, 10, 11, 12]]\n"
     ]
    }
   ],
   "source": [
    "List = [[1,2,3,4], [5,6,7,8], [9,10,11,12]]       # List assign to a variable\n",
    "print(List)"
   ]
  },
  {
   "cell_type": "code",
   "execution_count": 12,
   "id": "639b7e59",
   "metadata": {},
   "outputs": [
    {
     "name": "stdout",
     "output_type": "stream",
     "text": [
      "[[ 1  2  3  4]\n",
      " [ 5  6  7  8]\n",
      " [ 9 10 11 12]]\n"
     ]
    }
   ],
   "source": [
    "Arr = np.array(List)         # Converting list into the NumPy Array\n",
    "print(Arr)"
   ]
  },
  {
   "cell_type": "code",
   "execution_count": 13,
   "id": "1c60369f",
   "metadata": {},
   "outputs": [
    {
     "data": {
      "text/plain": [
       "12"
      ]
     },
     "execution_count": 13,
     "metadata": {},
     "output_type": "execute_result"
    }
   ],
   "source": [
    "Arr[2,3]     # Accessing array element from third row  and fourth column"
   ]
  },
  {
   "cell_type": "markdown",
   "id": "f708efba",
   "metadata": {},
   "source": [
    "# 6. Write a code to extract all odd indexed element from the given NumPy Array?\n",
    "[[1,2,3,4], [5,6,7,8], [9,10,11,12]]"
   ]
  },
  {
   "cell_type": "code",
   "execution_count": 14,
   "id": "515cbe43",
   "metadata": {},
   "outputs": [
    {
     "name": "stdout",
     "output_type": "stream",
     "text": [
      "[[1, 2, 3, 4], [5, 6, 7, 8], [9, 10, 11, 12]]\n"
     ]
    }
   ],
   "source": [
    "List = [[1,2,3,4], [5,6,7,8], [9,10,11,12]]       # List assign to a variable\n",
    "print(List)"
   ]
  },
  {
   "cell_type": "code",
   "execution_count": 15,
   "id": "c58f3513",
   "metadata": {},
   "outputs": [
    {
     "name": "stdout",
     "output_type": "stream",
     "text": [
      "[[ 1  2  3  4]\n",
      " [ 5  6  7  8]\n",
      " [ 9 10 11 12]]\n"
     ]
    }
   ],
   "source": [
    "Arr = np.array(List)         # Converting list into the NumPy Array\n",
    "print(Arr)"
   ]
  },
  {
   "cell_type": "code",
   "execution_count": 16,
   "id": "3c69bd1e",
   "metadata": {},
   "outputs": [
    {
     "data": {
      "text/plain": [
       "array([[ 1,  3],\n",
       "       [ 5,  7],\n",
       "       [ 9, 11]])"
      ]
     },
     "execution_count": 16,
     "metadata": {},
     "output_type": "execute_result"
    }
   ],
   "source": [
    "Arr[0:3,0:3:2]     # Access all odd indexed element from the NumPy Array"
   ]
  },
  {
   "cell_type": "markdown",
   "id": "6063b358",
   "metadata": {},
   "source": [
    "Explaination: \n",
    "    - We have cretaed a variable name List to store given list, and the print the List variable.\n",
    "    - Again we have created a variable named as Arr to store array, and also print Arr result. \n",
    "    - In the last step we have created the logic to find the all odd elemnt from the Arrar.\n",
    "      Arr[0:3,0:3:2] "
   ]
  },
  {
   "cell_type": "markdown",
   "id": "d09d3138",
   "metadata": {},
   "source": [
    "# 7. How can you generate a random 3x3 matrix with values between 0's and 1's."
   ]
  },
  {
   "cell_type": "code",
   "execution_count": 76,
   "id": "1a66a3f7",
   "metadata": {},
   "outputs": [
    {
     "name": "stdout",
     "output_type": "stream",
     "text": [
      "Random number between 0's and 1's\n",
      "\n",
      " [[0.59663991 0.53862019 0.4415045 ]\n",
      " [0.66584325 0.7591779  0.78238142]\n",
      " [0.41261386 0.85028889 0.44263721]]\n"
     ]
    }
   ],
   "source": [
    "Arr = np.random.random((3,3))     # random mothod is used to generate random number\n",
    "print(\"Random number between 0's and 1's\")\n",
    "\n",
    "print(\"\\n\", Arr)\n"
   ]
  },
  {
   "cell_type": "markdown",
   "id": "37354108",
   "metadata": {},
   "source": [
    "# 8. Describe the difference between np.random.rand and np.random.randn?"
   ]
  },
  {
   "cell_type": "raw",
   "id": "ed552430",
   "metadata": {},
   "source": [
    "Difference between np.random.rand and np.random.randn:\n",
    "\n",
    "np.random.rand : \n",
    "    1. The numpy.random.rand() function creates an array of specified shapes fills it with random values and generates random          numbers with Numpy\n",
    "    2. The mejor difference is it returns only positive value.\n",
    "    3. Example:\n",
    "       A = np.random.rand(3,3)\n",
    "       print(A)\n",
    "       O/P:\n",
    "       [[0.04924137 0.51733678 0.90813988]\n",
    "       [0.72378293 0.4356423  0.66374591]\n",
    "       [0.41140252 0.64144604 0.09494794]]\n",
    "       \n",
    "np.random.randn: \n",
    "    1. The numpy.random.randn() function creates an array of specified shape and fills it with random values as per standard          normal distribution. \n",
    "    2. If positive arguments are provided, randn generates an array of shape (d0, d1, …, dn), filled with random floats sampled        from a univariate “normal” (Gaussian) distribution of mean 0 and variance 1.\n",
    "    3. Example: \n",
    "       B = np.random.randn(3,3)\n",
    "       print(B)\n",
    "       O/P:\n",
    "       [[ 0.50587454 -0.22563837 -0.21887707]\n",
    "       [-1.00935525 -0.24367877  0.83508745]\n",
    "       [ 0.63983629 -0.23735535 -1.89468159]]\n",
    "       \n",
    "Please refer code below for more understanding."
   ]
  },
  {
   "cell_type": "code",
   "execution_count": 103,
   "id": "c27ca113",
   "metadata": {},
   "outputs": [
    {
     "name": "stdout",
     "output_type": "stream",
     "text": [
      "[[0.18092334 0.60290385 0.66154669]\n",
      " [0.14215629 0.42359444 0.87261025]\n",
      " [0.18384494 0.39124213 0.3855874 ]]\n"
     ]
    }
   ],
   "source": [
    "A = np.random.rand(3,3)\n",
    "print(A)"
   ]
  },
  {
   "cell_type": "code",
   "execution_count": 104,
   "id": "0c7d5f99",
   "metadata": {},
   "outputs": [
    {
     "name": "stdout",
     "output_type": "stream",
     "text": [
      "[[-0.09001226 -0.62266808 -0.44395586]\n",
      " [ 0.82657168  0.07641651  0.51889059]\n",
      " [ 0.14649043 -0.1715755   0.29663788]]\n"
     ]
    }
   ],
   "source": [
    "B = np.random.randn(3,3)\n",
    "print(B)"
   ]
  },
  {
   "cell_type": "markdown",
   "id": "aa1f22a7",
   "metadata": {},
   "source": [
    "# 9. Write code to increase the dimension of the following array?\n",
    "[[1, 2, 3, 4]\n",
    "[5, 6, 7, 8],\n",
    "[9, 10, 11, 12]]"
   ]
  },
  {
   "cell_type": "code",
   "execution_count": 132,
   "id": "af219619",
   "metadata": {},
   "outputs": [
    {
     "name": "stdout",
     "output_type": "stream",
     "text": [
      "[[1, 2, 3, 4], [5, 6, 7, 8], [9, 10, 11, 12]]\n"
     ]
    }
   ],
   "source": [
    "L = [[1, 2, 3, 4],[5,6,7,8],[9,10,11,12]]\n",
    "print(L)"
   ]
  },
  {
   "cell_type": "code",
   "execution_count": 133,
   "id": "04a8950a",
   "metadata": {},
   "outputs": [
    {
     "name": "stdout",
     "output_type": "stream",
     "text": [
      "[[ 1  2  3  4]\n",
      " [ 5  6  7  8]\n",
      " [ 9 10 11 12]]\n"
     ]
    }
   ],
   "source": [
    "Arr = np.array(L)\n",
    "print(Arr)"
   ]
  },
  {
   "cell_type": "code",
   "execution_count": 134,
   "id": "e85df051",
   "metadata": {},
   "outputs": [
    {
     "data": {
      "text/plain": [
       "(3, 4)"
      ]
     },
     "execution_count": 134,
     "metadata": {},
     "output_type": "execute_result"
    }
   ],
   "source": [
    "np.shape(Arr)"
   ]
  },
  {
   "cell_type": "code",
   "execution_count": 136,
   "id": "cda47d8f",
   "metadata": {},
   "outputs": [
    {
     "name": "stdout",
     "output_type": "stream",
     "text": [
      "[[[ 1  2  3  4]]\n",
      "\n",
      " [[ 5  6  7  8]]\n",
      "\n",
      " [[ 9 10 11 12]]]\n"
     ]
    }
   ],
   "source": [
    "Arr1 = np.expand_dims(Arr, axis = 1)       # Using np.expand_dims() method we can increase dimention or axis by one at time.\n",
    "print(Arr1)"
   ]
  },
  {
   "cell_type": "markdown",
   "id": "6b52bcc7",
   "metadata": {},
   "source": [
    "# 10. How to transpose the following array in NumPy?\n",
    "[[1, 2, 3, 4]\n",
    "[5, 6, 7, 8],\n",
    "[9, 10, 11, 12]]"
   ]
  },
  {
   "cell_type": "markdown",
   "id": "412718b4",
   "metadata": {},
   "source": [
    "Note: Transpose Matrix: The transpose of a matrix is found by interchanging its rows into columns or columns into rows.\n",
    "\n"
   ]
  },
  {
   "cell_type": "code",
   "execution_count": 139,
   "id": "fb83d16d",
   "metadata": {},
   "outputs": [
    {
     "name": "stdout",
     "output_type": "stream",
     "text": [
      "[[1, 2, 3, 4], [5, 6, 7, 8], [9, 10, 11, 12]]\n"
     ]
    }
   ],
   "source": [
    "List = [[1, 2, 3, 4],[5, 6, 7, 8], [9, 10, 11, 12]]\n",
    "print(List)"
   ]
  },
  {
   "cell_type": "code",
   "execution_count": 141,
   "id": "1b64f8d6",
   "metadata": {},
   "outputs": [
    {
     "name": "stdout",
     "output_type": "stream",
     "text": [
      "[[ 1  2  3  4]\n",
      " [ 5  6  7  8]\n",
      " [ 9 10 11 12]]\n"
     ]
    }
   ],
   "source": [
    "Arr = np.array(List)\n",
    "print(Arr)"
   ]
  },
  {
   "cell_type": "code",
   "execution_count": 143,
   "id": "c6529891",
   "metadata": {},
   "outputs": [
    {
     "name": "stdout",
     "output_type": "stream",
     "text": [
      "[[ 1  5  9]\n",
      " [ 2  6 10]\n",
      " [ 3  7 11]\n",
      " [ 4  8 12]]\n"
     ]
    }
   ],
   "source": [
    "# To transpose the matrix we used np.tranform()method\n",
    "Arr1 = np.transpose(Arr)       \n",
    "print(Arr1)"
   ]
  },
  {
   "cell_type": "markdown",
   "id": "f9ed8829",
   "metadata": {},
   "source": [
    "# 11. Consider the following matrix:\n",
    "Matrix A2 = [[1, 2, 3, 4] [5, 6, 7, 8],[9, 10, 11, 12]]\n",
    "Matrix B2 = [[1, 2, 3, 4] [5, 6, 7, 8],[9, 10, 11, 12]]\n",
    "Perform the following operation using Python\n",
    "1. Index wise multiplication\n",
    "2. Matrix Multiplication\n",
    "3. Add both the matrix\n",
    "4. Suntract matrix B from A\n",
    "5. Divide matrix B by A"
   ]
  },
  {
   "cell_type": "code",
   "execution_count": 151,
   "id": "513319d0",
   "metadata": {},
   "outputs": [],
   "source": [
    "A2 = [[1, 2, 3, 4] ,[5, 6, 7, 8],[9, 10, 11, 12]]\n",
    "B2 = [[1, 2, 3, 4] ,[5, 6, 7, 8],[9, 10, 11, 12]]\n",
    "\n",
    "# Converting the list into the Numpy Array\n",
    "Arr1 = np.array(A2)\n",
    "Arr2 = np.array(B2)"
   ]
  },
  {
   "cell_type": "code",
   "execution_count": 156,
   "id": "759b1012",
   "metadata": {},
   "outputs": [
    {
     "name": "stdout",
     "output_type": "stream",
     "text": [
      "[[  1   4   9  16]\n",
      " [ 25  36  49  64]\n",
      " [ 81 100 121 144]]\n"
     ]
    }
   ],
   "source": [
    "# 1. Index wise multiplication\n",
    "# For index wise multiplication we should use np.multipy() method\n",
    "C2 = np.multiply(Arr1, Arr2)\n",
    "print(C2)"
   ]
  },
  {
   "cell_type": "code",
   "execution_count": 155,
   "id": "ec512096",
   "metadata": {},
   "outputs": [
    {
     "data": {
      "text/plain": [
       "array([[  1,   4,   9,  16],\n",
       "       [ 25,  36,  49,  64],\n",
       "       [ 81, 100, 121, 144]])"
      ]
     },
     "execution_count": 155,
     "metadata": {},
     "output_type": "execute_result"
    }
   ],
   "source": [
    "# 2. Matrix Multiplication\n",
    "Arr1*Arr2"
   ]
  },
  {
   "cell_type": "code",
   "execution_count": 152,
   "id": "73c35ec6",
   "metadata": {},
   "outputs": [
    {
     "name": "stdout",
     "output_type": "stream",
     "text": [
      "[[ 2  4  6  8]\n",
      " [10 12 14 16]\n",
      " [18 20 22 24]]\n"
     ]
    }
   ],
   "source": [
    "# 3.Add both the matrix:\n",
    "print(Arr1+Arr2)"
   ]
  },
  {
   "cell_type": "code",
   "execution_count": 153,
   "id": "fb46e66d",
   "metadata": {},
   "outputs": [
    {
     "name": "stdout",
     "output_type": "stream",
     "text": [
      "[[0 0 0 0]\n",
      " [0 0 0 0]\n",
      " [0 0 0 0]]\n"
     ]
    }
   ],
   "source": [
    "# 4. Suntract matrix B from A\n",
    "print(Arr2-Arr1)"
   ]
  },
  {
   "cell_type": "code",
   "execution_count": 154,
   "id": "e0db4b7b",
   "metadata": {},
   "outputs": [
    {
     "data": {
      "text/plain": [
       "array([[1., 1., 1., 1.],\n",
       "       [1., 1., 1., 1.],\n",
       "       [1., 1., 1., 1.]])"
      ]
     },
     "execution_count": 154,
     "metadata": {},
     "output_type": "execute_result"
    }
   ],
   "source": [
    "# 5. Divide matrix B by A\n",
    "Arr2/Arr1"
   ]
  },
  {
   "cell_type": "markdown",
   "id": "9f897948",
   "metadata": {},
   "source": [
    "# 12. Which function in Numpy can be used to swap the byte order of an array?"
   ]
  },
  {
   "cell_type": "markdown",
   "id": "5683648c",
   "metadata": {},
   "source": [
    "- numpy.ndarray.byteswap() function is used in Numpy to swap the byte order of an array.\n",
    "\n",
    "numpy.ndarray.byteswap() function:\n",
    "numpy.ndarray.byteswap() function toggle between low-endian and big-endian data representation by returning a byteswapped array, optionally swapped in-place. Arrays of byte-strings are not swapped. The real and imaginary parts of a complex number are swapped individually.\n",
    "\n",
    "Parameters:\n",
    "inplacebool, optional\n",
    "If True, swap bytes in-place, default is False.\n",
    "\n",
    "Returns:\n",
    "outndarray\n",
    "The byteswapped array. If inplace is True, this is a view to self."
   ]
  },
  {
   "cell_type": "markdown",
   "id": "d70362b1",
   "metadata": {},
   "source": [
    "Example: "
   ]
  },
  {
   "cell_type": "code",
   "execution_count": 15,
   "id": "ed8be798",
   "metadata": {},
   "outputs": [
    {
     "data": {
      "text/plain": [
       "array([   1,  256, 8755], dtype=int16)"
      ]
     },
     "execution_count": 15,
     "metadata": {},
     "output_type": "execute_result"
    }
   ],
   "source": [
    "A = np.array([1, 256, 8755], dtype=np.int16)\n",
    "A"
   ]
  },
  {
   "cell_type": "code",
   "execution_count": 16,
   "id": "c55b544f",
   "metadata": {},
   "outputs": [
    {
     "data": {
      "text/plain": [
       "array([  256,     1, 13090], dtype=int16)"
      ]
     },
     "execution_count": 16,
     "metadata": {},
     "output_type": "execute_result"
    }
   ],
   "source": [
    "A.byteswap(inplace=True)"
   ]
  },
  {
   "cell_type": "code",
   "execution_count": 9,
   "id": "bdf876d3",
   "metadata": {},
   "outputs": [
    {
     "data": {
      "text/plain": [
       "array([b'ceg', b'fac'], dtype='|S3')"
      ]
     },
     "execution_count": 9,
     "metadata": {},
     "output_type": "execute_result"
    }
   ],
   "source": [
    "#Arrays of byte-strings are not swapped\n",
    "A = np.array([b'ceg', b'fac'])\n",
    "A.byteswap()"
   ]
  },
  {
   "cell_type": "markdown",
   "id": "776a4428",
   "metadata": {},
   "source": [
    "# 13. What is the significance of the np.linalg.inv function?"
   ]
  },
  {
   "cell_type": "markdown",
   "id": "ada6c606",
   "metadata": {},
   "source": [
    "The function numpy.linalg.inv() is available in the NumPy module and is used to compute the inverse matrix in Python."
   ]
  },
  {
   "cell_type": "code",
   "execution_count": 36,
   "id": "42d5c4d5",
   "metadata": {},
   "outputs": [],
   "source": [
    "# Taking a 3 * 3 matrix\n",
    "A = np.array([[1,2,3],[5,6,7],[9,10,11]])"
   ]
  },
  {
   "cell_type": "code",
   "execution_count": 37,
   "id": "6ccd84d8",
   "metadata": {},
   "outputs": [
    {
     "data": {
      "text/plain": [
       "array([[ 1,  2,  3],\n",
       "       [ 5,  6,  7],\n",
       "       [ 9, 10, 11]])"
      ]
     },
     "execution_count": 37,
     "metadata": {},
     "output_type": "execute_result"
    }
   ],
   "source": [
    "A"
   ]
  },
  {
   "cell_type": "code",
   "execution_count": 38,
   "id": "44382d66",
   "metadata": {},
   "outputs": [
    {
     "data": {
      "text/plain": [
       "array([[-1.93011413e+15,  3.86022825e+15, -1.93011413e+15],\n",
       "       [ 3.86022825e+15, -7.72045650e+15,  3.86022825e+15],\n",
       "       [-1.93011413e+15,  3.86022825e+15, -1.93011413e+15]])"
      ]
     },
     "execution_count": 38,
     "metadata": {},
     "output_type": "execute_result"
    }
   ],
   "source": [
    "# Calculating the inverse of the matrix\n",
    "np.linalg.inv(A)"
   ]
  },
  {
   "cell_type": "markdown",
   "id": "c4b24a6d",
   "metadata": {},
   "source": [
    "# 14. What does the np.reshape function do, and how is it used?"
   ]
  },
  {
   "cell_type": "markdown",
   "id": "0f950047",
   "metadata": {},
   "source": [
    "The numpy.reshape() function shapes an array without changing the data of the array."
   ]
  },
  {
   "cell_type": "code",
   "execution_count": 41,
   "id": "5f2a37ba",
   "metadata": {},
   "outputs": [
    {
     "data": {
      "text/plain": [
       "array([0, 1, 2, 3, 4, 5, 6, 7, 8, 9])"
      ]
     },
     "execution_count": 41,
     "metadata": {},
     "output_type": "execute_result"
    }
   ],
   "source": [
    "# Creating an array using np.arange() function\n",
    "Arr = np.arange(10)\n",
    "Arr"
   ]
  },
  {
   "cell_type": "code",
   "execution_count": 42,
   "id": "ffcae4b0",
   "metadata": {},
   "outputs": [
    {
     "data": {
      "text/plain": [
       "array([[0, 1, 2, 3, 4],\n",
       "       [5, 6, 7, 8, 9]])"
      ]
     },
     "execution_count": 42,
     "metadata": {},
     "output_type": "execute_result"
    }
   ],
   "source": [
    "# Shape array with 2 rows and 5 columns\n",
    "Arr.reshape(2,5)"
   ]
  },
  {
   "cell_type": "code",
   "execution_count": 43,
   "id": "b66074dd",
   "metadata": {},
   "outputs": [
    {
     "data": {
      "text/plain": [
       "array([[0, 1],\n",
       "       [2, 3],\n",
       "       [4, 5],\n",
       "       [6, 7],\n",
       "       [8, 9]])"
      ]
     },
     "execution_count": 43,
     "metadata": {},
     "output_type": "execute_result"
    }
   ],
   "source": [
    "# shape array with 5 rows and 2 columns\n",
    "Arr.reshape(5,2)"
   ]
  },
  {
   "cell_type": "code",
   "execution_count": 45,
   "id": "3c47a1fa",
   "metadata": {},
   "outputs": [
    {
     "data": {
      "text/plain": [
       "array([[0],\n",
       "       [1],\n",
       "       [2],\n",
       "       [3],\n",
       "       [4],\n",
       "       [5],\n",
       "       [6],\n",
       "       [7],\n",
       "       [8],\n",
       "       [9]])"
      ]
     },
     "execution_count": 45,
     "metadata": {},
     "output_type": "execute_result"
    }
   ],
   "source": [
    "# shape array with 10 rows and 1 columns\n",
    "Arr.reshape(10,1)"
   ]
  },
  {
   "cell_type": "markdown",
   "id": "b1beb522",
   "metadata": {},
   "source": [
    "# 15. What is broadcasting in Numpy?"
   ]
  },
  {
   "cell_type": "markdown",
   "id": "5352914a",
   "metadata": {},
   "source": [
    "\n",
    "The term broadcasting describes how NumPy treats arrays with different shapes during arithmetic operations. Subject to certain constraints, the smaller array is “broadcast” across the larger array so that they have compatible shapes. Broadcasting provides a means of vectorizing array operations so that looping occurs in C instead of Python. It does this without making needless copies of data and usually leads to efficient algorithm implementations. There are, however, cases where broadcasting is a bad idea because it leads to inefficient use of memory that slows computation."
   ]
  },
  {
   "cell_type": "markdown",
   "id": "79b8afea",
   "metadata": {},
   "source": [
    "# General Broadcasting Rules"
   ]
  },
  {
   "cell_type": "markdown",
   "id": "3df7aaa9",
   "metadata": {},
   "source": [
    "When operating on two arrays, NumPy compares their shapes element-wise. It starts with the trailing (i.e. rightmost) dimension and works its way left. Two dimensions are compatible when,\n",
    "1. they are equal, or\n",
    "2. one of them is 1.\n",
    "\n",
    "If these conditions are not met, a \"ValueError: operands could not be broadcast together\" exception is thrown, indicating that the arrays have incompatible shapes.\n",
    "\n",
    "Input arrays do not need to have the same number of dimensions. The resulting array will have the same number of dimensions as the input array with the greatest number of dimensions, where the size of each dimension is the largest size of the corresponding dimension among the input arrays. Note that missing dimensions are assumed to have size one."
   ]
  },
  {
   "cell_type": "code",
   "execution_count": 60,
   "id": "87843faa",
   "metadata": {},
   "outputs": [],
   "source": [
    "a = np.array([[ 0.0,  0.0,  0.0],\n",
    "              [10.0, 10.0, 10.0],\n",
    "              [20.0, 20.0, 20.0],\n",
    "              [30.0, 30.0, 30.0]])"
   ]
  },
  {
   "cell_type": "code",
   "execution_count": 61,
   "id": "64a7e2e9",
   "metadata": {},
   "outputs": [],
   "source": [
    "b = np.array([1.0, 2.0, 3.0])"
   ]
  },
  {
   "cell_type": "code",
   "execution_count": 62,
   "id": "f7aef2cc",
   "metadata": {},
   "outputs": [
    {
     "data": {
      "text/plain": [
       "array([[ 1.,  2.,  3.],\n",
       "       [11., 12., 13.],\n",
       "       [21., 22., 23.],\n",
       "       [31., 32., 33.]])"
      ]
     },
     "execution_count": 62,
     "metadata": {},
     "output_type": "execute_result"
    }
   ],
   "source": [
    "a + b   # Broadcasting two arrays"
   ]
  },
  {
   "cell_type": "markdown",
   "id": "2ce5fec7",
   "metadata": {},
   "source": [
    "Note: A one dimensional array added to a two dimensional array results in broadcasting if number of 1-d array elements matches the number of 2-d array columns."
   ]
  },
  {
   "cell_type": "code",
   "execution_count": 65,
   "id": "b2a34207",
   "metadata": {},
   "outputs": [],
   "source": [
    "b = np.array([1.0, 2.0, 3.0, 4.0])"
   ]
  },
  {
   "cell_type": "code",
   "execution_count": 66,
   "id": "9b4cd8e2",
   "metadata": {},
   "outputs": [
    {
     "ename": "ValueError",
     "evalue": "operands could not be broadcast together with shapes (4,3) (4,) ",
     "output_type": "error",
     "traceback": [
      "\u001b[1;31m---------------------------------------------------------------------------\u001b[0m",
      "\u001b[1;31mValueError\u001b[0m                                Traceback (most recent call last)",
      "Cell \u001b[1;32mIn[66], line 1\u001b[0m\n\u001b[1;32m----> 1\u001b[0m a \u001b[38;5;241m+\u001b[39m b\n",
      "\u001b[1;31mValueError\u001b[0m: operands could not be broadcast together with shapes (4,3) (4,) "
     ]
    }
   ],
   "source": [
    "a + b"
   ]
  },
  {
   "cell_type": "markdown",
   "id": "5ad55aa8",
   "metadata": {},
   "source": [
    "Note: A one dimensional array added to a two dimensional array results in broadcasting if number of 1-d array elements matches the number of 2-d array columns."
   ]
  }
 ],
 "metadata": {
  "kernelspec": {
   "display_name": "Python 3 (ipykernel)",
   "language": "python",
   "name": "python3"
  },
  "language_info": {
   "codemirror_mode": {
    "name": "ipython",
    "version": 3
   },
   "file_extension": ".py",
   "mimetype": "text/x-python",
   "name": "python",
   "nbconvert_exporter": "python",
   "pygments_lexer": "ipython3",
   "version": "3.11.5"
  }
 },
 "nbformat": 4,
 "nbformat_minor": 5
}
