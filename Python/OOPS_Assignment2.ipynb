{
  "nbformat": 4,
  "nbformat_minor": 0,
  "metadata": {
    "colab": {
      "provenance": []
    },
    "kernelspec": {
      "name": "python3",
      "display_name": "Python 3"
    },
    "language_info": {
      "name": "python"
    }
  },
  "cells": [
    {
      "cell_type": "markdown",
      "source": [
        "**Constructor:**"
      ],
      "metadata": {
        "id": "d91mN6Hnkgoi"
      }
    },
    {
      "cell_type": "markdown",
      "source": [
        "**1. What is a constructor in Python? Explain its purpose and usage.**"
      ],
      "metadata": {
        "id": "B16JbVPuklsC"
      }
    },
    {
      "cell_type": "markdown",
      "source": [
        "**Constructors in Python**\n",
        "\n",
        "In Python, a constructor is a special method that is automatically called when an object of a class is created. It's used to initialize the attributes (variables) of the object and perform any necessary setup.\n",
        "\n",
        "**Purpose:**\n",
        "\n",
        "- **Initialization:** To set initial values for an object's attributes.\n",
        "- **Setup:** To perform any necessary setup tasks, such as connecting to databases or initializing resources.\n",
        "- **Customization:** To provide a way to customize object creation based on different parameters.\n",
        "\n",
        "**Usage:**\n",
        "\n",
        "The constructor is defined within a class using the `__init__` method. It automatically takes the `self` parameter as the first argument, which refers to the newly created object.\n",
        "\n",
        "**Example:**\n",
        "\n",
        "```python\n",
        "class Person:\n",
        "    def __init__(self, name, age):\n",
        "        self.name = name\n",
        "        self.age = age\n",
        "\n",
        "# Create a person object\n",
        "person1 = Person(\"Alice\", 30)\n",
        "\n",
        "# Access the object's attributes\n",
        "print(person1.name)  # Output: Alice\n",
        "print(person1.age)  # Output: 30\n",
        "```\n",
        "\n",
        "In this example:\n",
        "- The `Person` class defines a constructor `__init__` that takes two parameters: `name` and `age`.\n",
        "- Inside the constructor, the `self.name` and `self.age` attributes are assigned the values passed as arguments.\n",
        "- When a `Person` object is created using `person1 = Person(\"Alice\", 30)`, the constructor is automatically called, and the `name` and `age` attributes are initialized.\n",
        "\n",
        "**Key Points:**\n",
        "\n",
        "- Constructors are automatically called when an object is created.\n",
        "- They are used to initialize attributes and perform setup tasks.\n",
        "- The `self` parameter refers to the newly created object.\n",
        "- Constructors can take any number of parameters, depending on the class's requirements.\n"
      ],
      "metadata": {
        "id": "xFYW5bU4kvsC"
      }
    },
    {
      "cell_type": "markdown",
      "source": [
        "2. Differentiate between a parameterless constructor and a parameterized constructor in Python."
      ],
      "metadata": {
        "id": "prNGaD0kkzeu"
      }
    },
    {
      "cell_type": "markdown",
      "source": [
        "**Parameterless Constructor:**\n",
        "\n",
        "* **Definition:** A constructor that doesn't take any arguments.\n",
        "* **Purpose:** Used for basic initialization or when no initial values are required for attributes.\n",
        "* **Syntax:**\n",
        "\n",
        "```python\n",
        "class MyClass:\n",
        "    def __init__(self):\n",
        "        # Initialization code here\n",
        "```\n",
        "\n",
        "**Parameterized Constructor:**\n",
        "\n",
        "* **Definition:** A constructor that takes one or more arguments.\n",
        "* **Purpose:** Used to provide initial values for attributes based on specific parameters.\n",
        "* **Syntax:**\n",
        "\n",
        "```python\n",
        "class MyClass:\n",
        "    def __init__(self, arg1, arg2, ...):\n",
        "        # Initialization code using the arguments\n",
        "```\n",
        "\n",
        "**Key Differences:**\n",
        "\n",
        "| Feature | Parameterless Constructor | Parameterized Constructor |\n",
        "|---|---|---|\n",
        "| Arguments | No arguments | One or more arguments |\n",
        "| Purpose | Basic initialization or when no initial values are needed | Providing initial values for attributes |\n",
        "| Usage | When default values are sufficient or no customization is required | When flexibility is needed in object creation |\n",
        "\n",
        "**Example:**\n",
        "\n",
        "```python\n",
        "class Person:\n",
        "    def __init__(self):\n",
        "        self.name = \"Unknown\"\n",
        "        self.age = 0\n",
        "\n",
        "class Person:\n",
        "    def __init__(self, name, age):\n",
        "        self.name = name\n",
        "        self.age = age\n",
        "```\n",
        "\n",
        "In the first example, the `Person` class has a parameterless constructor that sets default values for `name` and `age`. In the second example, the `Person` class has a parameterized constructor that allows you to provide specific values for `name` and `age` when creating an object.\n",
        "\n",
        "**Choosing the Right Constructor:**\n",
        "\n",
        "- Use a parameterless constructor when you don't need to provide initial values for attributes or when you want to use default values.\n",
        "- Use a parameterized constructor when you need flexibility in object creation and want to provide specific values for attributes.\n"
      ],
      "metadata": {
        "id": "oS-PtZcrk_9n"
      }
    },
    {
      "cell_type": "markdown",
      "source": [
        "**3. How do you define a constructor in a Python class? Provide an example.**"
      ],
      "metadata": {
        "id": "waZVwS1elDyA"
      }
    },
    {
      "cell_type": "markdown",
      "source": [
        "**A constructor in Python is a special method that is automatically called when an object of a class is created.** Its primary purpose is to initialize the attributes (variables) of the object and perform any necessary setup.\n",
        "\n",
        "**Defining a Constructor:**\n",
        "\n",
        "In Python, the constructor is defined using the `__init__` method within a class. The `self` parameter is always the first argument of this method, representing the newly created object.\n",
        "\n",
        "**Example:**\n",
        "\n",
        "```python\n",
        "class Dog:\n",
        "    def __init__(self, name, breed):\n",
        "        self.name = name\n",
        "        self.breed = breed\n",
        "\n",
        "# Create a Dog object\n",
        "my_dog = Dog(\"Buddy\", \"Golden Retriever\")\n",
        "```\n",
        "\n",
        "In this example:\n",
        "- The `Dog` class defines a constructor `__init__` that takes two parameters: `name` and `breed`.\n",
        "- Inside the constructor, the `self.name` and `self.breed` attributes are assigned the values passed as arguments.\n",
        "- When a `Dog` object is created using `my_dog = Dog(\"Buddy\", \"Golden Retriever\")`, the constructor is automatically called, and the `name` and `breed` attributes are initialized.\n",
        "\n",
        "**Key Points:**\n",
        "\n",
        "- Constructors are automatically called when an object is created.\n",
        "- They are used to initialize attributes and perform setup tasks.\n",
        "- The `self` parameter refers to the newly created object.\n",
        "- Constructors can take any number of parameters, depending on the class's requirements.\n"
      ],
      "metadata": {
        "id": "5ktCSvCclMHw"
      }
    },
    {
      "cell_type": "markdown",
      "source": [
        "**4. Explain the `__init__` method in Python and its role in constructors.**"
      ],
      "metadata": {
        "id": "Q9Hs5UqMlQ7h"
      }
    },
    {
      "cell_type": "markdown",
      "source": [
        "**The `__init__` method in Python is a special method that serves as the constructor for a class.** It's automatically called when an object of the class is created. Its primary purpose is to initialize the attributes (variables) of the newly created object and perform any necessary setup.\n",
        "\n",
        "**Key Roles:**\n",
        "\n",
        "1. **Attribute Initialization:** The `__init__` method is where you typically assign initial values to the object's attributes. These attributes define the properties and characteristics of the object.\n",
        "2. **Setup:** You can use this method to perform any necessary setup tasks, such as connecting to databases, initializing resources, or validating input data.\n",
        "3. **Customization:** The `__init__` method allows you to customize object creation based on different parameters. By taking arguments, you can create objects with different initial states.\n",
        "\n",
        "**Syntax:**\n",
        "\n",
        "```python\n",
        "class MyClass:\n",
        "    def __init__(self, arg1, arg2, ...):\n",
        "        self.attribute1 = arg1\n",
        "        self.attribute2 = arg2\n",
        "        # ... other initialization code\n",
        "```\n",
        "\n",
        "**Example:**\n",
        "\n",
        "```python\n",
        "class Person:\n",
        "    def __init__(self, name, age):\n",
        "        self.name = name\n",
        "        self.age = age\n",
        "\n",
        "# Create a Person object\n",
        "person1 = Person(\"Alice\", 30)\n",
        "```\n",
        "\n",
        "In this example:\n",
        "\n",
        "- The `Person` class defines a constructor `__init__` that takes two parameters: `name` and `age`.\n",
        "- Inside the constructor, the `self.name` and `self.age` attributes are assigned the values passed as arguments.\n",
        "- When a `Person` object is created using `person1 = Person(\"Alice\", 30)`, the `__init__` method is automatically called, and the `name` and `age` attributes are initialized.\n",
        "\n",
        "**Important Points:**\n",
        "\n",
        "- The `self` parameter is always the first argument of the `__init__` method, representing the newly created object.\n",
        "- You can define multiple constructors within a class by providing different parameter lists.\n",
        "- Constructors can be used to implement default values for attributes.\n",
        "\n"
      ],
      "metadata": {
        "id": "2sXn-5SJlXSz"
      }
    },
    {
      "cell_type": "markdown",
      "source": [
        "5. In a class named `Person`, create a constructor that initializes the `name` and `age` attributes. Provide an\n",
        "example of creating an object of this class."
      ],
      "metadata": {
        "id": "D1E3aEXclfxl"
      }
    },
    {
      "cell_type": "code",
      "execution_count": 1,
      "metadata": {
        "id": "MQD_YKsikWbb"
      },
      "outputs": [],
      "source": [
        "class Person:\n",
        "    def __init__(self, name, age):\n",
        "        \"\"\"\n",
        "        Initializes a Person object.\n",
        "\n",
        "        Args:\n",
        "            name (str): The name of the person.\n",
        "            age (int): The age of the person.\n",
        "        \"\"\"\n",
        "        self.name = name\n",
        "        self.age = age\n",
        "\n",
        "    def __str__(self):\n",
        "        \"\"\"\n",
        "        Returns a string representation of the person.\n",
        "\n",
        "        Returns:\n",
        "            str: A string representation of the person.\n",
        "        \"\"\"\n",
        "        return f\"Person: {self.name}, Age: {self.age}\""
      ]
    },
    {
      "cell_type": "markdown",
      "source": [
        "The Person class has attributes for the\n",
        "name and age of a person.\n",
        "The __init__ method is a special method in Python classes known as a constructor. It is called when an object is created from the class and it allows the class to initialize the attributes of the class.\n",
        "The __str__ method returns a string representation of the person."
      ],
      "metadata": {
        "id": "Amx1g_7JlrtQ"
      }
    },
    {
      "cell_type": "code",
      "source": [
        "person = Person(\"John Doe\", 30)\n",
        "print(person)  # Output: Person: John Doe, Age: 30"
      ],
      "metadata": {
        "colab": {
          "base_uri": "https://localhost:8080/"
        },
        "id": "XFW2n7h_lygV",
        "outputId": "a317836a-7f2a-4ec1-bd68-cefdbc086517"
      },
      "execution_count": 2,
      "outputs": [
        {
          "output_type": "stream",
          "name": "stdout",
          "text": [
            "Person: John Doe, Age: 30\n"
          ]
        }
      ]
    },
    {
      "cell_type": "markdown",
      "source": [
        "**6. How can you call a constructor explicitly in Python? Give an example.**"
      ],
      "metadata": {
        "id": "OhVZwLfKmBEd"
      }
    },
    {
      "cell_type": "markdown",
      "source": [
        "**Calling a Constructor Explicitly in Python**\n",
        "\n",
        "In Python, you typically don't need to call a constructor explicitly. When you create an object using the `ClassName()` syntax, the constructor is automatically invoked.\n",
        "\n",
        "However, there are a few scenarios where you might want to call a constructor explicitly:\n",
        "\n",
        "1. **Inheritance:** When creating a subclass, you can call the constructor of the parent class using the `super()` function. This is often done to initialize inherited attributes or methods.\n",
        "\n",
        "   ```python\n",
        "   class Animal:\n",
        "       def __init__(self, name):\n",
        "           self.name = name\n",
        "\n",
        "   class Dog(Animal):\n",
        "       def __init__(self, name, breed):\n",
        "           super().__init__(name)  # Explicitly calls the parent class constructor\n",
        "           self.breed = breed\n",
        "   ```\n",
        "\n",
        "2. **Metaclasses:** Metaclasses are classes that create other classes. In metaclass definitions, you can explicitly call the constructor of the metaclass using `super().__new__()`.\n",
        "\n",
        "   ```python\n",
        "   class MyMetaclass(type):\n",
        "       def __new__(cls, name, bases, attrs):\n",
        "           # ... metaclass logic\n",
        "           return super().__new__(cls, name, bases, attrs)\n",
        "   ```\n",
        "\n",
        "3. **Custom Object Creation:** In rare cases, you might want to create an object using a different mechanism than the standard `ClassName()` syntax. In such cases, you can explicitly call the constructor using the `__new__` method.\n",
        "\n",
        "   ```python\n",
        "   class MyClass:\n",
        "       def __new__(cls, *args, **kwargs):\n",
        "           instance = super().__new__(cls)\n",
        "           # ... custom object creation logic\n",
        "           return instance\n",
        "   ```\n",
        "\n"
      ],
      "metadata": {
        "id": "a9-_jIS6mKjW"
      }
    },
    {
      "cell_type": "markdown",
      "source": [
        "**7. What is the significance of the `self` parameter in Python constructors? Explain with an example.**"
      ],
      "metadata": {
        "id": "yx6es5D7mM5n"
      }
    },
    {
      "cell_type": "markdown",
      "source": [
        "**The `self` parameter in Python constructors is a reference to the newly created object.** It's used to access and modify the object's attributes within the constructor.\n",
        "\n",
        "**Significance:**\n",
        "\n",
        "- **Attribute Access:** The `self` parameter allows you to access and modify the object's attributes directly within the constructor.\n",
        "- **Object Identity:** It uniquely identifies the object and distinguishes it from other objects of the same class.\n",
        "- **Method Binding:** When you define methods within a class, the `self` parameter is automatically passed as the first argument to the method. This allows the method to access and modify the object's attributes.\n",
        "\n",
        "**Example:**\n",
        "\n",
        "```python\n",
        "class Person:\n",
        "    def __init__(self, name, age):\n",
        "        self.name = name\n",
        "        self.age = age\n",
        "\n",
        "# Create a Person object\n",
        "person1 = Person(\"Alice\", 30)\n",
        "\n",
        "# Access attributes using self\n",
        "print(person1.name)  # Output: Alice\n",
        "print(person1.age)  # Output: 30\n",
        "```\n",
        "\n",
        "In this example:\n",
        "\n",
        "- The `Person` class defines a constructor `__init__` that takes two parameters: `name` and `age`.\n",
        "- Inside the constructor, the `self.name` and `self.age` attributes are assigned the values passed as arguments using the `self` parameter.\n",
        "- When a `Person` object is created using `person1 = Person(\"Alice\", 30)`, the `self` parameter refers to the newly created `person1` object.\n",
        "- You can access the object's attributes using `self.name` and `self.age` within the constructor.\n",
        "\n",
        "**Key Points:**\n",
        "\n",
        "- The `self` parameter is essential for defining object-oriented classes in Python.\n",
        "- It provides a way to access and modify the object's attributes within methods.\n",
        "- The `self` parameter is automatically passed as the first argument to methods defined within a class.\n"
      ],
      "metadata": {
        "id": "t6Q6RrbxmUoz"
      }
    },
    {
      "cell_type": "markdown",
      "source": [
        "**8. Discuss the concept of default constructors in Python. When are they used?**"
      ],
      "metadata": {
        "id": "IAOOtFrTmYYB"
      }
    },
    {
      "cell_type": "markdown",
      "source": [
        "**Default Constructors in Python**\n",
        "\n",
        "A default constructor in Python is a constructor that doesn't take any arguments. It's automatically called when an object of a class is created without specifying any arguments.\n",
        "\n",
        "**When to Use Default Constructors:**\n",
        "\n",
        "- **Basic Initialization:** When you need to initialize attributes with default values without requiring specific parameters from the user.\n",
        "- **Flexibility:** Default constructors provide flexibility in object creation, allowing users to create objects with default values or customize them with arguments.\n",
        "- **Inheritance:** Default constructors can be used in base classes to provide a common initialization for derived classes.\n",
        "\n",
        "**Example:**\n",
        "\n",
        "```python\n",
        "class Book:\n",
        "    def __init__(self):\n",
        "        self.title = \"Unknown\"\n",
        "        self.author = \"Unknown\"\n",
        "        self.year = 0\n",
        "\n",
        "# Create a Book object with default values\n",
        "book1 = Book()\n",
        "print(book1.title)  # Output: Unknown\n",
        "```\n",
        "\n",
        "In this example, the `Book` class has a default constructor that sets default values for the `title`, `author`, and `year` attributes. When a `Book` object is created without any arguments, the default constructor is called, and the attributes are initialized with the default values.\n",
        "\n",
        "**Key Points:**\n",
        "\n",
        "- Default constructors are defined using the `__init__` method without any parameters.\n",
        "- They provide a convenient way to create objects with default values.\n",
        "- They can be used in combination with parameterized constructors to offer flexibility in object creation.\n"
      ],
      "metadata": {
        "id": "Ibnwd6_Jmd5L"
      }
    },
    {
      "cell_type": "markdown",
      "source": [
        "9. Create a Python class called `Rectangle` with a constructor that initializes the `width` and `height`\n",
        "attributes. Provide a method to calculate the area of the rectangle."
      ],
      "metadata": {
        "id": "bD5ThWSWmh_7"
      }
    },
    {
      "cell_type": "code",
      "source": [
        "class Rectangle:\n",
        "    def __init__(self, width, height):\n",
        "        \"\"\"\n",
        "        Initializes a Rectangle object.\n",
        "\n",
        "        Args:\n",
        "            width (float): The width of the rectangle.\n",
        "            height (float): The height of the rectangle.\n",
        "        \"\"\"\n",
        "        self.width = width\n",
        "        self.height = height\n",
        "\n",
        "    def calculate_area(self):\n",
        "        \"\"\"\n",
        "        Calculates the area of the rectangle.\n",
        "\n",
        "        Returns:\n",
        "            float: The area of the rectangle.\n",
        "        \"\"\"\n",
        "        return self.width * self.height\n",
        "\n",
        "    def __str__(self):\n",
        "        \"\"\"\n",
        "        Returns a string representation of the rectangle.\n",
        "\n",
        "        Returns:\n",
        "            str: A string representation of the rectangle.\n",
        "        \"\"\"\n",
        "        return f\"Rectangle: Width = {self.width}, Height = {self.height}, Area = {self.calculate_area()}\""
      ],
      "metadata": {
        "id": "c4NL6RpXlzKY"
      },
      "execution_count": 3,
      "outputs": []
    },
    {
      "cell_type": "code",
      "source": [
        "rectangle = Rectangle(5, 10)\n",
        "print(rectangle)  # Output: Rectangle: Width = 5, Height = 10, Area = 50\n",
        "print(rectangle.calculate_area())  # Output: 50"
      ],
      "metadata": {
        "colab": {
          "base_uri": "https://localhost:8080/"
        },
        "id": "F3VsGreNmsD-",
        "outputId": "841c3998-657f-4ce0-91ee-154c5d9d5f05"
      },
      "execution_count": 4,
      "outputs": [
        {
          "output_type": "stream",
          "name": "stdout",
          "text": [
            "Rectangle: Width = 5, Height = 10, Area = 50\n",
            "50\n"
          ]
        }
      ]
    },
    {
      "cell_type": "markdown",
      "source": [
        "10. How can you have multiple constructors in a Python class? Explain with an example."
      ],
      "metadata": {
        "id": "UNPyJjJYnC2B"
      }
    },
    {
      "cell_type": "markdown",
      "source": [
        "**Multiple Constructors in Python**\n",
        "\n",
        "Python doesn't directly support multiple constructors. However, you can achieve a similar effect by using a combination of default arguments and class methods.\n",
        "\n",
        "**Using Default Arguments:**\n",
        "\n",
        "- Define a constructor with default arguments for parameters that might not always be provided.\n",
        "- This allows you to create objects with different initial values without defining multiple constructors.\n",
        "\n",
        "**Example:**\n",
        "\n",
        "```python\n",
        "class Book:\n",
        "    def __init__(self, title=\"Unknown\", author=\"Unknown\", year=0):\n",
        "        self.title = title\n",
        "        self.author = author\n",
        "        self.year = year\n",
        "```\n",
        "\n",
        "In this example, the `Book` class has a single constructor with default arguments for the `title`, `author`, and `year` parameters. This allows you to create objects with different initial values:\n",
        "\n",
        "```python\n",
        "book1 = Book()  # Uses default values\n",
        "book2 = Book(\"The Hitchhiker's Guide to the Galaxy\", \"Douglas Adams\", 1979)  # Provides specific values\n",
        "```\n",
        "\n",
        "**Using Class Methods:**\n",
        "\n",
        "- Define a class method that acts as a factory for creating objects with different configurations.\n",
        "- This method can call the constructor with appropriate arguments based on the provided parameters.\n",
        "\n",
        "**Example:**\n",
        "\n",
        "```python\n",
        "class Book:\n",
        "    def __init__(self, title, author, year):\n",
        "        self.title = title\n",
        "        self.author = author\n",
        "        self.year = year\n",
        "\n",
        "    @classmethod\n",
        "    def from_dict(cls, book_data):\n",
        "        return cls(book_data['title'], book_data['author'], book_data['year'])\n",
        "```\n",
        "\n",
        "In this example, the `from_dict` class method creates a `Book` object from a dictionary containing the book's data. This allows you to create objects from different data sources without directly calling the constructor.\n",
        "\n",
        "**Key Points:**\n",
        "\n",
        "- Python doesn't have direct support for multiple constructors.\n",
        "- You can achieve a similar effect using default arguments or class methods.\n",
        "- Default arguments provide flexibility in object creation without defining multiple constructors.\n",
        "- Class methods can act as factories for creating objects with different configurations.\n",
        "\n"
      ],
      "metadata": {
        "id": "wRkjOk8fnF4B"
      }
    },
    {
      "cell_type": "markdown",
      "source": [
        "**11. What is method overloading, and how is it related to constructors in Python?**"
      ],
      "metadata": {
        "id": "qNIgaKPjnHoT"
      }
    },
    {
      "cell_type": "markdown",
      "source": [
        "**Method Overloading in Python**\n",
        "\n",
        "Method overloading is the ability to define multiple methods with the same name but different parameters within a class. This allows you to create methods that can handle different input arguments.\n",
        "\n",
        "**Note:** Python does not support true method overloading in the same way as languages like Java or C++. However, you can achieve a similar effect using default arguments, variable-length arguments (`*args` and `**kwargs`), and polymorphism.\n",
        "\n",
        "**Using Default Arguments:**\n",
        "\n",
        "- Define methods with the same name but different default arguments.\n",
        "- This allows you to create methods that can handle different numbers of arguments.\n",
        "\n",
        "**Example:**\n",
        "\n",
        "```python\n",
        "class Calculator:\n",
        "    def add(self, x, y=0):\n",
        "        return x + y\n",
        "```\n",
        "\n",
        "**Using Variable-Length Arguments:**\n",
        "\n",
        "- Use `*args` and `**kwargs` to create methods that can handle an arbitrary number of arguments.\n",
        "\n",
        "**Example:**\n",
        "\n",
        "```python\n",
        "class Calculator:\n",
        "    def add(self, *args):\n",
        "        return sum(args)\n",
        "```\n",
        "\n",
        "**Polymorphism:**\n",
        "\n",
        "- While not strictly method overloading, polymorphism allows you to define methods with the same name in different classes, providing flexibility in how objects are handled.\n",
        "\n",
        "**Example:**\n",
        "\n",
        "```python\n",
        "class Animal:\n",
        "    def make_sound(self):\n",
        "        pass\n",
        "\n",
        "class Dog(Animal):\n",
        "    def make_sound(self):\n",
        "        print(\"Woof!\")\n",
        "\n",
        "class Cat(Animal):\n",
        "    def make_sound(self):\n",
        "        print(\"Meow!\")\n",
        "```\n",
        "\n",
        "**Relationship to Constructors:**\n",
        "\n",
        "While not directly related to method overloading, constructors can also be considered a form of method overloading. A constructor is a special method with the same name as the class (`__init__`) that is automatically called when an object is created. You can define multiple constructors with different parameters to provide different ways to create objects.\n",
        "\n",
        "**In conclusion,** while Python doesn't support true method overloading in the same way as other languages, you can achieve similar functionality using default arguments, variable-length arguments, and polymorphism. Constructors are also a form of method overloading, allowing you to define multiple ways to create objects.\n"
      ],
      "metadata": {
        "id": "DbZAf4E5vqoR"
      }
    },
    {
      "cell_type": "markdown",
      "source": [
        "**12. Explain the use of the `super()` function in Python constructors. Provide an example.**"
      ],
      "metadata": {
        "id": "JGK35lVPvwSv"
      }
    },
    {
      "cell_type": "markdown",
      "source": [
        "**The `super()` function in Python is used to access the parent class's methods and attributes.** It's particularly useful when a class inherits from another class and you need to call the parent class's constructor or methods.\n",
        "\n",
        "**Purpose:**\n",
        "\n",
        "- **Inheritance:** To call the parent class's constructor or methods from within a child class.\n",
        "- **Method Overriding:** To call the parent class's implementation of a method from within a child class's overridden method.\n",
        "\n",
        "**Example:**\n",
        "\n",
        "```python\n",
        "class Animal:\n",
        "    def __init__(self, name):\n",
        "        self.name = name\n",
        "\n",
        "    def make_sound(self):\n",
        "        print(\"Generic animal sound\")\n",
        "\n",
        "class Dog(Animal):\n",
        "    def __init__(self, name, breed):\n",
        "        super().__init__(name)  # Calls the parent class's constructor\n",
        "        self.breed = breed\n",
        "\n",
        "    def make_sound(self):\n",
        "        super().make_sound()  # Calls the parent class's make_sound method\n",
        "        print(\"Woof!\")\n",
        "\n",
        "# Create a Dog object\n",
        "dog = Dog(\"Buddy\", \"Golden Retriever\")\n",
        "dog.make_sound()\n",
        "```\n",
        "\n",
        "In this example:\n",
        "\n",
        "- The `Animal` class is the parent class, and the `Dog` class is the child class.\n",
        "- The `Dog` class's constructor explicitly calls the parent class's constructor using `super().__init__(name)`. This initializes the `name` attribute inherited from the parent class.\n",
        "- The `Dog` class's `make_sound` method overrides the parent class's `make_sound` method. It first calls the parent class's `make_sound` method using `super().make_sound()`, and then adds its own specific behavior (printing \"Woof!\").\n",
        "\n",
        "**Key Points:**\n",
        "\n",
        "- `super()` is used to access the parent class's methods and attributes.\n",
        "- It's commonly used in inheritance to call the parent class's constructor or methods.\n",
        "- It's essential for maintaining proper inheritance relationships and avoiding issues like method overriding.\n",
        "\n"
      ],
      "metadata": {
        "id": "JYVI1sO1v5HS"
      }
    },
    {
      "cell_type": "markdown",
      "source": [
        "13. Create a class called `Book` with a constructor that initializes the `title`, `author`, and `published_year`\n",
        "attributes. Provide a method to display book details."
      ],
      "metadata": {
        "id": "df6Dal2dv_pZ"
      }
    },
    {
      "cell_type": "code",
      "source": [
        "class Book:\n",
        "    def __init__(self, title, author, published_year):\n",
        "        self.title = title\n",
        "        self.author = author\n",
        "        self.published_year = published_year\n",
        "\n",
        "    def display_details(self):\n",
        "        print(f\"Title: {self.title}\")\n",
        "        print(f\"Author: {self.author}\")\n",
        "        print(f\"Published Year: {self.published_year}\")\n",
        "\n",
        "my_book = Book(\"The Hitchhiker's Guide to the Galaxy\", \"Douglas Adams\", 1979)\n",
        "my_book.display_details()"
      ],
      "metadata": {
        "colab": {
          "base_uri": "https://localhost:8080/"
        },
        "id": "6vfCFZzbmvEv",
        "outputId": "25f38f1a-ba4a-42a7-f370-e3e59aa267f7"
      },
      "execution_count": 5,
      "outputs": [
        {
          "output_type": "stream",
          "name": "stdout",
          "text": [
            "Title: The Hitchhiker's Guide to the Galaxy\n",
            "Author: Douglas Adams\n",
            "Published Year: 1979\n"
          ]
        }
      ]
    },
    {
      "cell_type": "markdown",
      "source": [
        "14. Discuss the differences between constructors and regular methods in Python classes."
      ],
      "metadata": {
        "id": "_TCu8YLlwKtH"
      }
    },
    {
      "cell_type": "markdown",
      "source": [
        "I've already provided a comprehensive response to this prompt. Here's a summary of the key differences between constructors and regular methods in Python classes:\n",
        "\n",
        "**Constructors:**\n",
        "\n",
        "* **Purpose:** Automatically called when an object of the class is created. Used to initialize attributes and perform any necessary setup.\n",
        "* **Syntax:** Defined using the `__init__` method within the class.\n",
        "* **Parameters:** Can take parameters for initialization.\n",
        "* **Return Value:** Implicitly returns the newly created object.\n",
        "* **Usage:** Primarily used for object initialization.\n",
        "\n",
        "**Regular Methods:**\n",
        "\n",
        "* **Purpose:** Define the behavior of objects of the class. Can be called on instances of the class.\n",
        "* **Syntax:** Defined within the class using the standard function syntax.\n",
        "* **Parameters:** Can take parameters for method operations.\n",
        "* **Return Value:** Can return any value or None.\n",
        "* **Usage:** Used to implement the functionality of the class, such as calculations, modifications, or interactions with other objects.\n",
        "\n",
        "**Key Differences:**\n",
        "\n",
        "| Feature | Constructor | Regular Method |\n",
        "|---|---|---|\n",
        "| Purpose | Object initialization | Object behavior |\n",
        "| Syntax | `__init__` method | Standard function syntax |\n",
        "| Parameters | Can take parameters for initialization | Can take parameters for method operations |\n",
        "| Return Value | Implicitly returns the newly created object | Can return any value or None |\n",
        "| Usage | Called automatically upon object creation | Can be called explicitly on object instances |\n",
        "\n",
        "**Example:**\n",
        "\n",
        "```python\n",
        "class Person:\n",
        "    def __init__(self, name, age):  # Constructor\n",
        "        self.name = name\n",
        "        self.age = age\n",
        "\n",
        "    def greet(self):  # Regular method\n",
        "        print(\"Hello, my name is\", self.name)\n",
        "\n",
        "# Create a Person object\n",
        "person = Person(\"Alice\", 30)\n",
        "\n",
        "# Call the regular method\n",
        "person.greet()\n",
        "```\n",
        "\n",
        "In this example, the `__init__` method is the constructor, used to initialize the `name` and `age` attributes. The `greet` method is a regular method that can be called on the `person` object to print a greeting message.\n",
        "\n",
        "**In summary,** constructors are primarily for object initialization, while regular methods define the behavior and functionality of objects. They serve different purposes and have distinct characteristics within a class.\n"
      ],
      "metadata": {
        "id": "IaSLawJgwLCq"
      }
    },
    {
      "cell_type": "markdown",
      "source": [
        "15. Explain the role of the `self` parameter in instance variable initialization within a constructor."
      ],
      "metadata": {
        "id": "4HGdCTDCwlHH"
      }
    },
    {
      "cell_type": "markdown",
      "source": [
        "**The `self` parameter in Python constructors is crucial for initializing instance variables.** It represents the newly created object itself, allowing you to access and modify its attributes within the constructor.\n",
        "\n",
        "**Key Roles:**\n",
        "\n",
        "1. **Attribute Access:** The `self` parameter provides a way to access and modify the object's attributes directly within the constructor.\n",
        "2. **Object Identity:** It uniquely identifies the object and distinguishes it from other objects of the same class.\n",
        "3. **Method Binding:** When you define methods within a class, the `self` parameter is automatically passed as the first argument to the method. This allows the method to access and modify the object's attributes.\n",
        "\n",
        "**Example:**\n",
        "\n",
        "```python\n",
        "class Person:\n",
        "    def __init__(self, name, age):\n",
        "        self.name = name\n",
        "        self.age = age\n",
        "```\n",
        "\n",
        "In this example:\n",
        "\n",
        "- The `Person` class defines a constructor `__init__` that takes two parameters: `name` and `age`.\n",
        "- Inside the constructor, the `self.name` and `self.age` attributes are assigned the values passed as arguments using the `self` parameter.\n",
        "- When a `Person` object is created using `person1 = Person(\"Alice\", 30)`, the `self` parameter refers to the newly created `person1` object.\n",
        "- You can access the object's attributes using `self.name` and `self.age` within the constructor.\n",
        "\n",
        "**Significance:**\n",
        "\n",
        "- The `self` parameter is essential for defining object-oriented classes in Python.\n",
        "- It provides a way to access and modify the object's attributes within methods.\n",
        "- The `self` parameter is automatically passed as the first argument to methods defined within a class.\n",
        "\n"
      ],
      "metadata": {
        "id": "-Kh7l7wJwnVK"
      }
    },
    {
      "cell_type": "markdown",
      "source": [
        "16. How do you prevent a class from having multiple instances by using constructors in Python? Provide an\n",
        "example."
      ],
      "metadata": {
        "id": "TyowbTMrwz6v"
      }
    },
    {
      "cell_type": "markdown",
      "source": [
        "**Preventing Multiple Instances with a Singleton Pattern**\n",
        "\n",
        "While Python doesn't have a built-in mechanism to strictly enforce a single instance of a class, you can implement the Singleton pattern to achieve this. The Singleton pattern ensures that there is only one instance of a class and provides a global point of access to that instance.\n",
        "\n",
        "**Here's a common implementation using a class attribute:**\n",
        "\n",
        "```python\n",
        "class Singleton:\n",
        "    _instance = None\n",
        "\n",
        "    def __new__(cls):\n",
        "        if not cls._instance:\n",
        "            cls._instance = super().__new__(cls)\n",
        "        return cls._instance\n",
        "\n",
        "    def __init__(self):\n",
        "        print(\"Singleton object created\")\n",
        "```\n",
        "\n",
        "**Explanation:**\n",
        "\n",
        "1. **Class Attribute:** The `_instance` attribute is a class attribute that holds the reference to the single instance of the class.\n",
        "2. **`__new__` Method:** The `__new__` method is a special method that is called before `__init__`. It checks if an instance already exists. If not, it creates a new instance and stores it in the `_instance` attribute. If an instance already exists, it returns the existing instance.\n",
        "3. **`__init__` Method:** The `__init__` method is the regular constructor, which is called only once when the first instance is created.\n",
        "\n",
        "**Usage:**\n",
        "\n",
        "```python\n",
        "singleton1 = Singleton()\n",
        "singleton2 = Singleton()\n",
        "\n",
        "print(singleton1 is singleton2)  # Output: True\n",
        "```\n",
        "\n",
        "In this example, both `singleton1` and `singleton2` refer to the same instance of the `Singleton` class, ensuring that only one instance is created.\n",
        "\n",
        "**Key Points:**\n",
        "\n",
        "- The Singleton pattern is a design pattern, not a language feature.\n",
        "- The implementation can vary slightly depending on specific requirements and use cases.\n",
        "- Be cautious when using the Singleton pattern, as it can make your code less flexible and testable.\n",
        "- Consider using dependency injection or other techniques for managing singleton-like behavior in larger applications.\n"
      ],
      "metadata": {
        "id": "fA9-lb-YxD5f"
      }
    },
    {
      "cell_type": "markdown",
      "source": [
        "17. Create a Python class called `Student` with a constructor that takes a list of subjects as a parameter and\n",
        "initializes the `subjects` attribute."
      ],
      "metadata": {
        "id": "SRUC35cwxx6o"
      }
    },
    {
      "cell_type": "code",
      "source": [
        "class Student:\n",
        "    def __init__(self, subjects):\n",
        "        self.subjects = subjects\n",
        "\n",
        "student1 = Student([\"Math\", \"Science\", \"English\"])\n",
        "print(student1)"
      ],
      "metadata": {
        "colab": {
          "base_uri": "https://localhost:8080/"
        },
        "id": "qvM4F6Yqwbuq",
        "outputId": "892a35b9-6ffb-4204-ea3e-ce5d0567b773"
      },
      "execution_count": 7,
      "outputs": [
        {
          "output_type": "stream",
          "name": "stdout",
          "text": [
            "<__main__.Student object at 0x7d2cf74f9e10>\n"
          ]
        }
      ]
    },
    {
      "cell_type": "markdown",
      "source": [
        "18. What is the purpose of the `__del__` method in Python classes, and how does it relate to constructors?"
      ],
      "metadata": {
        "id": "aJE7YNiYyTIs"
      }
    },
    {
      "cell_type": "markdown",
      "source": [
        "**The `__del__` method in Python classes is a special method that is called when an object is about to be garbage collected.** It's often referred to as the destructor.\n",
        "\n",
        "**Purpose:**\n",
        "\n",
        "- **Cleanup:** To perform any necessary cleanup tasks before the object is destroyed.\n",
        "- **Resource Deallocation:** To release resources acquired by the object, such as file handles, network connections, or memory allocations.\n",
        "\n",
        "**Relationship to Constructors:**\n",
        "\n",
        "While constructors are called when an object is created, the `__del__` method is called when an object is about to be destroyed. They are essentially opposites in terms of their timing.\n",
        "\n",
        "**Note:**\n",
        "\n",
        "- The exact timing of garbage collection in Python is not guaranteed, and the `__del__` method might not always be called at a predictable time.\n",
        "- It's generally recommended to use context managers or explicit resource management techniques for reliable resource deallocation, rather than relying solely on the `__del__` method.\n",
        "\n",
        "**Example:**\n",
        "\n",
        "```python\n",
        "class FileHandler:\n",
        "    def __init__(self, filename):\n",
        "        self.file = open(filename, \"w\")\n",
        "\n",
        "    def __del__(self):\n",
        "        self.file.close()\n",
        "```\n",
        "\n",
        "In this example, the `FileHandler` class has a constructor that opens a file and a `__del__` method that closes the file when the object is destroyed. This ensures that the file is properly closed even if an exception occurs or the object is no longer needed.\n"
      ],
      "metadata": {
        "id": "-KzxuMvbybxt"
      }
    },
    {
      "cell_type": "markdown",
      "source": [
        "19. Explain the use of constructor chaining in Python. Provide a practical example."
      ],
      "metadata": {
        "id": "Th73y1iSyfAp"
      }
    },
    {
      "cell_type": "markdown",
      "source": [
        "**Constructor Chaining in Python**\n",
        "\n",
        "Constructor chaining is a technique in object-oriented programming where a subclass's constructor calls the constructor of its parent class. This is often done to initialize inherited attributes or to provide a common initialization for derived classes.\n",
        "\n",
        "**How it works:**\n",
        "\n",
        "- The `super()` function is used to call the parent class's constructor.\n",
        "- The `super()` function takes no arguments and returns a proxy object that can be used to call the parent class's methods.\n",
        "- The child class's constructor can then call the parent class's constructor using `super().__init__(args)`, where `args` are the arguments to be passed to the parent class's constructor.\n",
        "\n",
        "**Example:**\n",
        "\n",
        "```python\n",
        "class Animal:\n",
        "    def __init__(self, name):\n",
        "        self.name = name\n",
        "\n",
        "class Dog(Animal):\n",
        "    def __init__(self, name, breed):\n",
        "        super().__init__(name)  # Calls the parent class's constructor\n",
        "        self.breed = breed\n",
        "```\n",
        "\n",
        "In this example, the `Dog` class inherits from the `Animal` class. The `Dog` constructor calls the `Animal` constructor using `super().__init__(name)`, which initializes the `name` attribute inherited from the parent class. The `Dog` constructor also initializes its own `breed` attribute.\n",
        "\n",
        "**Practical Use Cases:**\n",
        "\n",
        "- **Inheriting attributes:** When a subclass needs to initialize attributes inherited from the parent class.\n",
        "- **Providing common initialization:** When you want to ensure that all derived classes share a common initialization process.\n",
        "- **Extending functionality:** When you want to add additional functionality to a subclass while still using the parent class's initialization.\n",
        "\n",
        "**Benefits:**\n",
        "\n",
        "- **Code reusability:** Avoids redundant code by reusing the parent class's initialization logic.\n",
        "- **Maintainability:** Makes code easier to maintain and understand by separating concerns.\n",
        "- **Flexibility:** Allows for customization of initialization in derived classes.\n",
        "\n",
        "By using constructor chaining, you can write more organized, modular, and reusable Python code.\n"
      ],
      "metadata": {
        "id": "vhK0nFsDymZk"
      }
    },
    {
      "cell_type": "markdown",
      "source": [
        "20. Create a Python class called `Car` with a default constructor that initializes the `make` and `model`\n",
        "attributes. Provide a method to display car information."
      ],
      "metadata": {
        "id": "rEi9WQ5Cytfi"
      }
    },
    {
      "cell_type": "code",
      "source": [
        "class Car:\n",
        "    def __init__(self, make, model):\n",
        "        \"\"\"\n",
        "        Default constructor to initialize the make and model attributes.\n",
        "\n",
        "        Args:\n",
        "            make (str): The make of the car.\n",
        "            model (str): The model of the car.\n",
        "        \"\"\"\n",
        "        self.make = make\n",
        "        self.model = model\n",
        "\n",
        "    def display_car_info(self):\n",
        "        \"\"\"\n",
        "        Method to display car information.\n",
        "\n",
        "        Returns:\n",
        "            str: A string containing the make and model of the car.\n",
        "        \"\"\"\n",
        "        return f\"Make: {self.make}, Model: {self.model}\""
      ],
      "metadata": {
        "id": "b9AI83VVx_yb"
      },
      "execution_count": 8,
      "outputs": []
    },
    {
      "cell_type": "code",
      "source": [
        "my_car = Car(\"Toyota\", \"Corolla\")\n",
        "print(my_car.display_car_info())"
      ],
      "metadata": {
        "colab": {
          "base_uri": "https://localhost:8080/"
        },
        "id": "iDAU5DYSzFxn",
        "outputId": "8d0b29f0-b123-44bc-8e75-10b8f244ccc5"
      },
      "execution_count": 10,
      "outputs": [
        {
          "output_type": "stream",
          "name": "stdout",
          "text": [
            "Make: Toyota, Model: Corolla\n"
          ]
        }
      ]
    },
    {
      "cell_type": "markdown",
      "source": [
        "**Inheritance:**"
      ],
      "metadata": {
        "id": "86qPmnlqzLUG"
      }
    },
    {
      "cell_type": "markdown",
      "source": [
        "1. What is inheritance in Python? Explain its significance in object-oriented programming."
      ],
      "metadata": {
        "id": "PCHVnvz1zQzx"
      }
    },
    {
      "cell_type": "markdown",
      "source": [
        "**Inheritance in Python**\n",
        "\n",
        "Inheritance is a fundamental concept in object-oriented programming (OOP) that allows you to create new classes (derived classes or subclasses) based on existing classes (base classes or superclasses). This promotes code reusability and modularity.\n",
        "\n",
        "**Significance of Inheritance in OOP:**\n",
        "\n",
        "- **Code Reusability:** By inheriting from a base class, you can reuse the attributes and methods defined in that class without having to rewrite them. This saves time and effort.\n",
        "- **Modularity:** Inheritance helps break down complex problems into smaller, more manageable components. Each class can focus on a specific aspect of the problem, making the code easier to understand and maintain.\n",
        "- **Polymorphism:** Inheritance is essential for polymorphism, which allows objects of different classes to be treated as if they were objects of the same class. This makes code more flexible and adaptable.\n",
        "- **Extensibility:** Inheritance allows you to extend the functionality of existing classes by adding new attributes and methods to derived classes.\n",
        "\n",
        "**Example:**\n",
        "\n",
        "```python\n",
        "class Animal:\n",
        "    def __init__(self, name):\n",
        "        self.name = name\n",
        "\n",
        "    def make_sound(self):\n",
        "        print(\"Generic animal sound\")\n",
        "\n",
        "class Dog(Animal):\n",
        "    def make_sound(self):\n",
        "        print(\"Woof!\")\n",
        "\n",
        "class Cat(Animal):\n",
        "    def make_sound(self):\n",
        "        print(\"Meow!\")\n",
        "```\n",
        "\n",
        "In this example, the `Dog` and `Cat` classes inherit from the `Animal` class. They inherit the `name` attribute and the `make_sound` method from the `Animal` class. However, they can override the `make_sound` method to provide their own specific implementations. This demonstrates the concept of polymorphism, where objects of different classes (Dog and Cat) can be treated as if they were objects of the same class (Animal).\n",
        "\n"
      ],
      "metadata": {
        "id": "iIfANsmDzwjN"
      }
    },
    {
      "cell_type": "markdown",
      "source": [
        "2. Differentiate between single inheritance and multiple inheritance in Python. Provide examples for each."
      ],
      "metadata": {
        "id": "XJVlCIQNz1_s"
      }
    },
    {
      "cell_type": "markdown",
      "source": [
        "**Single Inheritance:**\n",
        "\n",
        "* **Definition:** A class inherits from only one parent class.\n",
        "* **Example:**\n",
        "\n",
        "```python\n",
        "class Animal:\n",
        "    def __init__(self, name):\n",
        "        self.name = name\n",
        "\n",
        "    def make_sound(self):\n",
        "        print(\"Generic animal sound\")\n",
        "\n",
        "class Dog(Animal):\n",
        "    def bark(self):\n",
        "        print(\"Woof!\")\n",
        "```\n",
        "\n",
        "In this example, the `Dog` class inherits from the `Animal` class. This is an example of single inheritance.\n",
        "\n",
        "**Multiple Inheritance:**\n",
        "\n",
        "* **Definition:** A class inherits from more than one parent class.\n",
        "* **Example:**\n",
        "\n",
        "```python\n",
        "class Vehicle:\n",
        "    def __init__(self, color):\n",
        "        self.color = color\n",
        "\n",
        "class LandVehicle:\n",
        "    def __init__(self, wheels):\n",
        "        self.wheels = wheels\n",
        "\n",
        "class Car(Vehicle, LandVehicle):\n",
        "    def __init__(self, color, wheels, make, model):\n",
        "        Vehicle.__init__(self, color)\n",
        "        LandVehicle.__init__(self, wheels)\n",
        "        self.make = make\n",
        "        self.model = model\n",
        "```\n",
        "\n",
        "In this example, the `Car` class inherits from both the `Vehicle` and `LandVehicle` classes. This is an example of multiple inheritance.\n",
        "\n",
        "**Key Differences:**\n",
        "\n",
        "| Feature | Single Inheritance | Multiple Inheritance |\n",
        "|---|---|---|\n",
        "| Number of parent classes | One | More than one |\n",
        "| Syntax | `class DerivedClass(BaseClass):` | `class DerivedClass(BaseClass1, BaseClass2, ...):` |\n",
        "| Complexity | Generally simpler | Can be more complex, especially when dealing with diamond-shaped hierarchies |\n",
        "| Potential Issues | None | Diamond-shaped hierarchies can lead to ambiguity in method resolution |\n",
        "\n",
        "**Diamond-Shaped Hierarchies:**\n",
        "\n",
        "Diamond-shaped hierarchies occur when a class inherits from two classes that have a common ancestor. This can lead to ambiguity in method resolution if both parent classes have a method with the same name.\n",
        "\n",
        "To avoid such conflicts, Python uses the Method Resolution Order (MRO) algorithm to determine the order in which methods are searched. The MRO ensures that a class's own methods are searched first, followed by its parent classes in a depth-first, left-to-right order.\n"
      ],
      "metadata": {
        "id": "bu9SLg6hz8kW"
      }
    },
    {
      "cell_type": "markdown",
      "source": [
        "3. Create a Python class called `Vehicle` with attributes `color` and `speed`. Then, create a child class called\n",
        "`Car` that inherits from `Vehicle` and adds a `brand` attribute. Provide an example of creating a `Car` object."
      ],
      "metadata": {
        "id": "eVULHDHq0IpL"
      }
    },
    {
      "cell_type": "code",
      "source": [
        "class Vehicle:\n",
        "    def __init__(self, color, speed):\n",
        "        \"\"\"\n",
        "        Default constructor to initialize the color and speed attributes.\n",
        "\n",
        "        Args:\n",
        "            color (str): The color of the vehicle.\n",
        "            speed (int): The speed of the vehicle.\n",
        "        \"\"\"\n",
        "        self.color = color\n",
        "        self.speed = speed\n",
        "\n",
        "    def display_vehicle_info(self):\n",
        "        \"\"\"\n",
        "        Method to display vehicle information.\n",
        "\n",
        "        Returns:\n",
        "            str: A string containing the color and speed of the vehicle.\n",
        "        \"\"\"\n",
        "        return f\"Color: {self.color}, Speed: {self.speed} km/h\"\n",
        "\n",
        "\n",
        "class Car(Vehicle):\n",
        "    def __init__(self, color, speed, brand):\n",
        "        \"\"\"\n",
        "        Default constructor to initialize the color, speed, and brand attributes.\n",
        "\n",
        "        Args:\n",
        "            color (str): The color of the car.\n",
        "            speed (int): The speed of the car.\n",
        "            brand (str): The brand of the car.\n",
        "        \"\"\"\n",
        "        super().__init__(color, speed)\n",
        "        self.brand = brand\n",
        "\n",
        "    def display_car_info(self):\n",
        "        \"\"\"\n",
        "        Method to display car information.\n",
        "\n",
        "        Returns:\n",
        "            str: A string containing the color, speed, and brand of the car.\n",
        "        \"\"\"\n",
        "        return f\"{self.display_vehicle_info()}, Brand: {self.brand}\""
      ],
      "metadata": {
        "id": "tsqCPcYBzIFN"
      },
      "execution_count": 11,
      "outputs": []
    },
    {
      "cell_type": "code",
      "source": [
        "my_car = Car(\"Red\", 120, \"Toyota\")\n",
        "print(my_car.display_car_info())"
      ],
      "metadata": {
        "colab": {
          "base_uri": "https://localhost:8080/"
        },
        "id": "JagFQ87w0MuF",
        "outputId": "d6df98b2-60ec-4bb9-ec4a-a7cc90f9fd99"
      },
      "execution_count": 12,
      "outputs": [
        {
          "output_type": "stream",
          "name": "stdout",
          "text": [
            "Color: Red, Speed: 120 km/h, Brand: Toyota\n"
          ]
        }
      ]
    },
    {
      "cell_type": "markdown",
      "source": [
        "4. Explain the concept of method overriding in inheritance. Provide a practical example."
      ],
      "metadata": {
        "id": "6NhMA9860ahY"
      }
    },
    {
      "cell_type": "markdown",
      "source": [
        "**Method Overriding in Inheritance**\n",
        "\n",
        "Method overriding occurs when a subclass defines a method with the same name as a method in its parent class. This allows the subclass to provide its own implementation for that method, while still inheriting the parent class's version.\n",
        "\n",
        "**Significance:**\n",
        "\n",
        "- **Polymorphism:** Method overriding is essential for achieving polymorphism, where objects of different classes can be treated as if they were objects of the same class.\n",
        "- **Customization:** It allows subclasses to customize the behavior of inherited methods to fit their specific needs.\n",
        "\n",
        "**Example:**\n",
        "\n",
        "```python\n",
        "class Animal:\n",
        "    def make_sound(self):\n",
        "        print(\"Generic animal sound\")\n",
        "\n",
        "class Dog(Animal):\n",
        "    def make_sound(self):\n",
        "        print(\"Woof!\")\n",
        "\n",
        "class Cat(Animal):\n",
        "    def make_sound(self):\n",
        "        print(\"Meow!\")\n",
        "```\n",
        "\n",
        "In this example, both the `Dog` and `Cat` classes override the `make_sound` method inherited from the `Animal` class. This allows them to provide their own specific implementations for the `make_sound` behavior.\n",
        "\n",
        "**Key Points:**\n",
        "\n",
        "- The overridden method in the subclass must have the same name, parameters, and return type as the method in the parent class.\n",
        "- When an object of a subclass calls the overridden method, the subclass's implementation is used.\n",
        "- Method overriding can be used to create more specific or customized behavior in derived classes.\n"
      ],
      "metadata": {
        "id": "YBlzoi1U0TJy"
      }
    },
    {
      "cell_type": "markdown",
      "source": [
        "5. How can you access the methods and attributes of a parent class from a child class in Python? Give an\n",
        "example."
      ],
      "metadata": {
        "id": "fmnkldbT0iQo"
      }
    },
    {
      "cell_type": "markdown",
      "source": [
        "**Accessing Parent Class Methods and Attributes from a Child Class**\n",
        "\n",
        "In Python, you can access the methods and attributes of a parent class from a child class using the following techniques:\n",
        "\n",
        "**1. Direct Access:**\n",
        "\n",
        "- If the parent class's methods and attributes are not overridden in the child class, you can directly access them using the `self` keyword.\n",
        "\n",
        "**Example:**\n",
        "\n",
        "```python\n",
        "class Animal:\n",
        "    def __init__(self, name):\n",
        "        self.name = name\n",
        "\n",
        "    def make_sound(self):\n",
        "        print(\"Generic animal sound\")\n",
        "\n",
        "class Dog(Animal):\n",
        "    def bark(self):\n",
        "        print(\"Woof!\")\n",
        "\n",
        "# Create a Dog object\n",
        "dog = Dog(\"Buddy\")\n",
        "\n",
        "# Access the parent class's attributes and methods\n",
        "print(dog.name)  # Output: Buddy\n",
        "dog.make_sound()  # Output: Generic animal sound\n",
        "```\n",
        "\n",
        "**2. Using `super()`:**\n",
        "\n",
        "- The `super()` function can be used to call the parent class's methods or access its attributes, even if they are overridden in the child class.\n",
        "\n",
        "**Example:**\n",
        "\n",
        "```python\n",
        "class Animal:\n",
        "    def __init__(self, name):\n",
        "        self.name = name\n",
        "\n",
        "    def make_sound(self):\n",
        "        print(\"Generic animal sound\")\n",
        "\n",
        "class Dog(Animal):\n",
        "    def __init__(self, name, breed):\n",
        "        super().__init__(name)\n",
        "        self.breed = breed\n",
        "\n",
        "    def make_sound(self):\n",
        "        super().make_sound()  # Calls the parent class's make_sound method\n",
        "        print(\"Woof!\")\n",
        "```\n",
        "\n",
        "In this example, the `Dog` class calls the parent class's `__init__` method using `super().__init__(name)` and overrides the `make_sound` method. However, it can still call the parent class's `make_sound` method using `super().make_sound()`.\n",
        "\n"
      ],
      "metadata": {
        "id": "6GTSgx2_0t-Q"
      }
    },
    {
      "cell_type": "markdown",
      "source": [
        "6. Discuss the use of the `super()` function in Python inheritance. When and why is it used? Provide an\n",
        "example."
      ],
      "metadata": {
        "id": "Uaj0UzVp01K7"
      }
    },
    {
      "cell_type": "markdown",
      "source": [
        "In Python, you can access the methods and attributes of a parent class from a child class using the `super()` function or by directly referencing the parent class name. The `super()` function is more commonly used because it automatically handles inheritance in a dynamic and maintainable way, especially in cases of multiple inheritance.\n",
        "\n",
        "### Example Using `super()`\n",
        "```python\n",
        "class Parent:\n",
        "    def __init__(self, name):\n",
        "        self.name = name\n",
        "\n",
        "    def greet(self):\n",
        "        return f\"Hello, {self.name}!\"\n",
        "\n",
        "class Child(Parent):\n",
        "    def __init__(self, name, age):\n",
        "        super().__init__(name)  # Call the parent class's constructor\n",
        "        self.age = age\n",
        "\n",
        "    def introduce(self):\n",
        "        parent_greeting = super().greet()  # Call the parent class's greet method\n",
        "        return f\"{parent_greeting} I am {self.age} years old.\"\n",
        "\n",
        "# Usage\n",
        "child = Child(\"Alice\", 12)\n",
        "print(child.introduce())\n",
        "```\n",
        "\n",
        "### Explanation\n",
        "1. **Constructor (`__init__`)**: The child class's constructor calls the parent class's constructor using `super().__init__(name)` to ensure that the `name` attribute is correctly initialized.\n",
        "2. **Accessing Parent Methods**: The `introduce` method in the child class calls the parent class's `greet` method using `super().greet()`.\n",
        "3. **Output**: The `introduce` method combines the greeting from the parent class with additional information specific to the child class.\n",
        "\n",
        "### Example Output\n",
        "```\n",
        "Hello, Alice! I am 12 years old.\n",
        "```\n",
        "\n",
        "### Example Using Parent Class Name Directly\n",
        "```python\n",
        "class Child(Parent):\n",
        "    def __init__(self, name, age):\n",
        "        Parent.__init__(self, name)  # Direct call to the parent class's constructor\n",
        "        self.age = age\n",
        "\n",
        "    def introduce(self):\n",
        "        parent_greeting = Parent.greet(self)  # Direct call to the parent class's greet method\n",
        "        return f\"{parent_greeting} I am {self.age} years old.\"\n",
        "```\n",
        "\n",
        "Both approaches achieve the same result, but `super()` is generally preferred due to its flexibility in more complex inheritance scenarios."
      ],
      "metadata": {
        "id": "4SqMs92I06BO"
      }
    },
    {
      "cell_type": "markdown",
      "source": [
        "7. Create a Python class called `Animal` with a method `speak()`. Then, create child classes `Dog` and `Cat` that inherit from 'Animal' and override the \"speak()\" method. Provide an example of using these classes."
      ],
      "metadata": {
        "id": "_6HMv6QV1CiJ"
      }
    },
    {
      "cell_type": "code",
      "source": [
        "class Animal:\n",
        "    def __init__(self, name):\n",
        "        \"\"\"\n",
        "        Default constructor to initialize the name attribute.\n",
        "\n",
        "        Args:\n",
        "            name (str): The name of the animal.\n",
        "        \"\"\"\n",
        "        self.name = name\n",
        "\n",
        "    def speak(self):\n",
        "        \"\"\"\n",
        "        Method to make the animal speak.\n",
        "\n",
        "        Returns:\n",
        "            str: A string representing the sound made by the animal.\n",
        "        \"\"\"\n",
        "        return f\"{self.name} makes a sound.\"\n",
        "\n",
        "\n",
        "class Dog(Animal):\n",
        "    def __init__(self, name):\n",
        "        \"\"\"\n",
        "        Default constructor to initialize the name attribute.\n",
        "\n",
        "        Args:\n",
        "            name (str): The name of the dog.\n",
        "        \"\"\"\n",
        "        super().__init__(name)\n",
        "\n",
        "    def speak(self):\n",
        "        \"\"\"\n",
        "        Method to make the dog speak.\n",
        "\n",
        "        Returns:\n",
        "            str: A string representing the sound made by the dog.\n",
        "        \"\"\"\n",
        "        return f\"{self.name} says: Woof!\"\n",
        "\n",
        "\n",
        "class Cat(Animal):\n",
        "    def __init__(self, name):\n",
        "        \"\"\"\n",
        "        Default constructor to initialize the name attribute.\n",
        "\n",
        "        Args:\n",
        "            name (str): The name of the cat.\n",
        "        \"\"\"\n",
        "        super().__init__(name)\n",
        "\n",
        "    def speak(self):\n",
        "        \"\"\"\n",
        "        Method to make the cat speak.\n",
        "\n",
        "        Returns:\n",
        "            str: A string representing the sound made by the cat.\n",
        "        \"\"\"\n",
        "        return f\"{self.name} says: Meow!\""
      ],
      "metadata": {
        "id": "wgacSg0v0Q06"
      },
      "execution_count": 13,
      "outputs": []
    },
    {
      "cell_type": "code",
      "source": [
        "my_dog = Dog(\"Fido\")\n",
        "print(my_dog.speak())  # Output: Fido says: Woof!\n",
        "\n",
        "my_cat = Cat(\"Whiskers\")\n",
        "print(my_cat.speak())  # Output: Whiskers says: Meow!\n",
        "\n",
        "my_animal = Animal(\"Unknown\")\n",
        "print(my_animal.speak())  # Output: Unknown makes a sound."
      ],
      "metadata": {
        "colab": {
          "base_uri": "https://localhost:8080/"
        },
        "id": "bcsSX1WS1x6R",
        "outputId": "77595439-58d3-4cdf-e3bd-35f4693d4a59"
      },
      "execution_count": 14,
      "outputs": [
        {
          "output_type": "stream",
          "name": "stdout",
          "text": [
            "Fido says: Woof!\n",
            "Whiskers says: Meow!\n",
            "Unknown makes a sound.\n"
          ]
        }
      ]
    },
    {
      "cell_type": "markdown",
      "source": [
        "8. Explain the role of the `isinstance()` function in Python and how it relates to inheritance."
      ],
      "metadata": {
        "id": "TIUIANuk16rq"
      }
    },
    {
      "cell_type": "markdown",
      "source": [
        "**The `isinstance()` function in Python is used to check if an object is an instance of a specific class or a subclass of that class.** It returns `True` if the object is an instance of the class or its subclasses, and `False` otherwise.\n",
        "\n",
        "**Relationship to Inheritance:**\n",
        "\n",
        "The `isinstance()` function is closely related to inheritance because it allows you to determine if an object belongs to a certain class hierarchy. This is especially useful when working with polymorphic objects, where objects of different classes can be treated as if they were objects of the same class.\n",
        "\n",
        "**Example:**\n",
        "\n",
        "```python\n",
        "class Animal:\n",
        "    pass\n",
        "\n",
        "class Dog(Animal):\n",
        "    pass\n",
        "\n",
        "class Cat(Animal):\n",
        "    pass\n",
        "\n",
        "animal1 = Animal()\n",
        "dog1 = Dog()\n",
        "cat1 = Cat()\n",
        "\n",
        "print(isinstance(animal1, Animal))  # Output: True\n",
        "print(isinstance(dog1, Animal))  # Output: True\n",
        "print(isinstance(cat1, Animal))  # Output: True\n",
        "\n",
        "print(isinstance(dog1, Dog))  # Output: True\n",
        "print(isinstance(cat1, Dog))  # Output: False\n",
        "\n",
        "print(isinstance(dog1, Cat))  # Output: False\n",
        "```\n",
        "\n",
        "In this example, the `Animal` class is the base class, and the `Dog` and `Cat` classes are derived classes. The `isinstance()` function can be used to check if an object is an instance of the `Animal` class or any of its subclasses.\n",
        "\n",
        "**Key Points:**\n",
        "\n",
        "- The `isinstance()` function takes two arguments: the object to be checked and the class or tuple of classes to compare against.\n",
        "- It returns `True` if the object is an instance of the specified class or its subclasses.\n",
        "- It's commonly used to check the type of an object or to implement polymorphic behavior.\n",
        "\n"
      ],
      "metadata": {
        "id": "QSy2Ciau2AHq"
      }
    },
    {
      "cell_type": "markdown",
      "source": [
        "9. What is the purpose of the `issubclass()` function in Python? Provide an example."
      ],
      "metadata": {
        "id": "z9-O0IUS2CQ9"
      }
    },
    {
      "cell_type": "markdown",
      "source": [
        "**The `issubclass()` function in Python is used to check if a class is a subclass of another class.** It returns `True` if the first class is a subclass of the second class, and `False` otherwise.\n",
        "\n",
        "**Example:**\n",
        "\n",
        "```python\n",
        "class Animal:\n",
        "    pass\n",
        "\n",
        "class Dog(Animal):\n",
        "    pass\n",
        "\n",
        "class Cat(Animal):\n",
        "    pass\n",
        "\n",
        "print(issubclass(Dog, Animal))  # Output: True\n",
        "print(issubclass(Cat, Animal))  # Output: True\n",
        "print(issubclass(Animal, Dog))  # Output: False\n",
        "```\n",
        "\n",
        "In this example, the `issubclass()` function is used to check if the `Dog` and `Cat` classes are subclasses of the `Animal` class.\n",
        "\n",
        "**Key Points:**\n",
        "\n",
        "- The `issubclass()` function takes two arguments: the subclass and the superclass.\n",
        "- It returns `True` if the subclass is a direct or indirect subclass of the superclass.\n",
        "- It's often used in conjunction with inheritance and polymorphism to determine class relationships.\n"
      ],
      "metadata": {
        "id": "1qGpoZMn2E_x"
      }
    },
    {
      "cell_type": "markdown",
      "source": [
        "10. Discuss the concept of constructor inheritance in Python. How are constructors inherited in child classes?"
      ],
      "metadata": {
        "id": "m2hxUTDM2TXF"
      }
    },
    {
      "cell_type": "markdown",
      "source": [
        "**Constructor Inheritance in Python**\n",
        "\n",
        "In Python, constructors are not directly inherited from parent classes. However, a child class's constructor can explicitly call the parent class's constructor to initialize inherited attributes or provide a common initialization for derived classes.\n",
        "\n",
        "**How Constructors Are Inherited:**\n",
        "\n",
        "1. **Explicit Call using `super()`:**\n",
        "   - The `super()` function is used to access the parent class's methods and attributes.\n",
        "   - In the child class's constructor, you can call the parent class's constructor using `super().__init__(args)`, where `args` are the arguments to be passed to the parent class's constructor.\n",
        "\n",
        "   ```python\n",
        "   class Animal:\n",
        "       def __init__(self, name):\n",
        "           self.name = name\n",
        "\n",
        "   class Dog(Animal):\n",
        "       def __init__(self, name, breed):\n",
        "           super().__init__(name)  # Calls the parent class's constructor\n",
        "           self.breed = breed\n",
        "   ```\n",
        "\n",
        "2. **Implicit Call:**\n",
        "   - If the child class doesn't define its own constructor, Python implicitly calls the parent class's constructor. However, this behavior is not recommended as it can lead to unexpected results if the child class needs to perform additional initialization.\n",
        "\n",
        "**Key Points:**\n",
        "\n",
        "- Constructors are not directly inherited in Python.\n",
        "- Child classes can explicitly call the parent class's constructor using `super().__init__()`.\n",
        "- This allows for common initialization and avoids redundant code.\n",
        "- Explicitly calling the parent class's constructor is often considered best practice to ensure proper initialization of inherited attributes.\n",
        "\n"
      ],
      "metadata": {
        "id": "qJNcG8842aiV"
      }
    },
    {
      "cell_type": "markdown",
      "source": [
        "11. Create a Python class called `Shape` with a method `area()` that calculates the area of a shape. Then, create child classes `Circle` and `Rectangle` that inherit from `Shape` and implement the `area()` method\n",
        "accordingly. Provide an example."
      ],
      "metadata": {
        "id": "JGzVfT4A2c5E"
      }
    },
    {
      "cell_type": "code",
      "source": [
        "import math\n",
        "\n",
        "class Shape:\n",
        "    def __init__(self):\n",
        "        pass\n",
        "\n",
        "    def area(self):\n",
        "        \"\"\"\n",
        "        Method to calculate the area of a shape.\n",
        "\n",
        "        Returns:\n",
        "            float: The area of the shape.\n",
        "        \"\"\"\n",
        "        raise NotImplementedError(\"Subclasses must implement this method\")\n",
        "\n",
        "\n",
        "class Circle(Shape):\n",
        "    def __init__(self, radius):\n",
        "        \"\"\"\n",
        "        Default constructor to initialize the radius attribute.\n",
        "\n",
        "        Args:\n",
        "            radius (float): The radius of the circle.\n",
        "        \"\"\"\n",
        "        self.radius = radius\n",
        "\n",
        "    def area(self):\n",
        "        \"\"\"\n",
        "        Method to calculate the area of a circle.\n",
        "\n",
        "        Returns:\n",
        "            float: The area of the circle.\n",
        "        \"\"\"\n",
        "        return math.pi * (self.radius ** 2)\n",
        "\n",
        "\n",
        "class Rectangle(Shape):\n",
        "    def __init__(self, length, width):\n",
        "        \"\"\"\n",
        "        Default constructor to initialize the length and width attributes.\n",
        "\n",
        "        Args:\n",
        "            length (float): The length of the rectangle.\n",
        "            width (float): The width of the rectangle.\n",
        "        \"\"\"\n",
        "        self.length = length\n",
        "        self.width = width\n",
        "\n",
        "    def area(self):\n",
        "        \"\"\"\n",
        "        Method to calculate the area of a rectangle.\n",
        "\n",
        "        Returns:\n",
        "            float: The area of the rectangle.\n",
        "        \"\"\"\n",
        "        return self.length * self.width\n",
        "\n",
        "\n",
        "# Example usage:\n",
        "circle = Circle(5)\n",
        "print(f\"Area of circle: {circle.area()}\")\n",
        "\n",
        "rectangle = Rectangle(4, 6)\n",
        "print(f\"Area of rectangle: {rectangle.area()}\")"
      ],
      "metadata": {
        "colab": {
          "base_uri": "https://localhost:8080/"
        },
        "id": "FO97Fwll10Ru",
        "outputId": "ddd37235-4880-4e46-94da-f32ed25584b8"
      },
      "execution_count": 15,
      "outputs": [
        {
          "output_type": "stream",
          "name": "stdout",
          "text": [
            "Area of circle: 78.53981633974483\n",
            "Area of rectangle: 24\n"
          ]
        }
      ]
    },
    {
      "cell_type": "markdown",
      "source": [
        "12. Explain the use of abstract base classes (ABCs) in Python and how they relate to inheritance. Provide an\n",
        "example using the `abc` module."
      ],
      "metadata": {
        "id": "rPbsHV4Q2sS2"
      }
    },
    {
      "cell_type": "markdown",
      "source": [
        "**Abstract Base Classes (ABCs) in Python**\n",
        "\n",
        "Abstract Base Classes (ABCs) are a mechanism in Python that provide a way to define the common interface for a group of related classes without requiring them to implement all the methods. They are used to enforce a common structure and behavior across derived classes.\n",
        "\n",
        "**Purpose:**\n",
        "\n",
        "- **Interface Definition:** ABCs define a common interface for a group of classes, ensuring that they have the same methods.\n",
        "- **Code Encapsulation:** They promote code encapsulation by separating the interface definition from the implementation details.\n",
        "- **Polymorphism:** ABCs can be used to achieve polymorphism, where objects of different classes can be treated as if they were objects of the same class.\n",
        "- **Code Testing:** ABCs can be used to create unit tests that verify whether derived classes adhere to the expected interface.\n",
        "\n",
        "**Using the `abc` Module:**\n",
        "\n",
        "Python's `abc` module provides tools for creating and using ABCs. The `abstractmethod` decorator is used to mark methods as abstract, indicating that they must be implemented in derived classes.\n",
        "\n",
        "**Example:**\n",
        "\n",
        "```python\n",
        "from abc import ABC, abstractmethod\n",
        "\n",
        "class Shape(ABC):\n",
        "    @abstractmethod\n",
        "    def area(self):\n",
        "        pass\n",
        "\n",
        "class Rectangle(Shape):\n",
        "    def __init__(self, width, height):\n",
        "        self.width = width\n",
        "        self.height = height\n",
        "\n",
        "    def area(self):\n",
        "        return self.width * self.height\n",
        "\n",
        "class Circle(Shape):\n",
        "    def __init__(self, radius):\n",
        "        self.radius = radius\n",
        "\n",
        "    def area(self):\n",
        "        return 3.14159 * self.radius * self.radius\n",
        "\n",
        "# Create instances of Rectangle and Circle\n",
        "rectangle = Rectangle(4, 3)\n",
        "circle = Circle(5)\n",
        "\n",
        "# Calculate areas using the common interface\n",
        "print(rectangle.area())  # Output: 12\n",
        "print(circle.area())  # Output: 78.53975\n",
        "```\n",
        "\n",
        "In this example:\n",
        "\n",
        "- The `Shape` class is an abstract base class that defines the `area` method as abstract.\n",
        "- The `Rectangle` and `Circle` classes inherit from the `Shape` class and provide their own implementations for the `area` method.\n",
        "- The `abstractmethod` decorator ensures that derived classes must implement the `area` method.\n",
        "- This allows you to treat `Rectangle` and `Circle` objects as if they were objects of the same type (Shape) and calculate their areas using the common `area` method.\n"
      ],
      "metadata": {
        "id": "fmuS8IJX2v3p"
      }
    },
    {
      "cell_type": "markdown",
      "source": [
        "13. How can you prevent a child class from modifying certain attributes or methods inherited from a parent\n",
        "class in Python?"
      ],
      "metadata": {
        "id": "W4TK7d9o2zys"
      }
    },
    {
      "cell_type": "markdown",
      "source": [
        "**Preventing Modification of Inherited Attributes or Methods in Python**\n",
        "\n",
        "To prevent a child class from modifying certain attributes or methods inherited from a parent class, you can use the following techniques:\n",
        "\n",
        "**1. Declare Attributes as Private:**\n",
        "\n",
        "- Prefix attribute names with a double underscore (`__`) to make them private. This prevents direct access from outside the class and its subclasses.\n",
        "\n",
        "**Example:**\n",
        "\n",
        "```python\n",
        "class Parent:\n",
        "    def __init__(self):\n",
        "        self.__private_attribute = 10\n",
        "\n",
        "class Child(Parent):\n",
        "    pass\n",
        "\n",
        "# Accessing the private attribute will raise an AttributeError\n",
        "child = Child()\n",
        "print(child.__private_attribute)  # Raises AttributeError\n",
        "```\n",
        "\n",
        "**2. Use Property Decorators:**\n",
        "\n",
        "- Use the `@property` decorator to create properties that control access to attributes. You can define getter and setter methods to control how the attribute is accessed and modified.\n",
        "\n",
        "**Example:**\n",
        "\n",
        "```python\n",
        "class Parent:\n",
        "    def __init__(self):\n",
        "        self._private_attribute = 10\n",
        "\n",
        "    @property\n",
        "    def private_attribute(self):\n",
        "        return self._private_attribute\n",
        "\n",
        "    @private_attribute.setter\n",
        "    def private_attribute(self, value):\n",
        "        if value > 0:\n",
        "            self._private_attribute = value\n",
        "        else:\n",
        "            raise ValueError(\"Value must be positive\")\n",
        "\n",
        "class Child(Parent):\n",
        "    pass\n",
        "\n",
        "# Accessing the private attribute using the property\n",
        "child = Child()\n",
        "child.private_attribute = 5  # Valid\n",
        "child.private_attribute = -2  # Raises ValueError\n",
        "```\n",
        "\n",
        "**3. Use Abstract Base Classes (ABCs):**\n",
        "\n",
        "- Define abstract methods in the parent class using the `@abstractmethod` decorator. This ensures that derived classes must implement these methods.\n",
        "\n",
        "**Example:**\n",
        "\n",
        "```python\n",
        "from abc import ABC, abstractmethod\n",
        "\n",
        "class Parent(ABC):\n",
        "    @abstractmethod\n",
        "    def protected_method(self):\n",
        "        pass\n",
        "\n",
        "class Child(Parent):\n",
        "    def protected_method(self):\n",
        "        print(\"Child's implementation\")\n",
        "```\n",
        "\n",
        "In this example, the `protected_method` in the `Parent` class is abstract, so the `Child` class must provide its own implementation. This prevents the `Child` class from modifying the parent class's implementation of the method.\n",
        "\n",
        "**Choosing the Right Approach:**\n",
        "\n",
        "- The best approach depends on your specific use case and the level of control you want to have over attribute and method access.\n",
        "- Private attributes provide the most restrictive level of access, while property decorators offer more flexibility in controlling modifications.\n",
        "- Abstract base classes are useful for enforcing a common interface and preventing derived classes from modifying certain methods.\n",
        "\n"
      ],
      "metadata": {
        "id": "2QH5n8Dv3A28"
      }
    },
    {
      "cell_type": "markdown",
      "source": [
        "14. Create a Python class called `Employee` with attributes `name` and `salary`. Then, create a child class\n",
        "`Manager` that inherits from `Employee` and adds an attribute `department`. Provide an example."
      ],
      "metadata": {
        "id": "NMZou3ql3HpJ"
      }
    },
    {
      "cell_type": "code",
      "source": [
        "class Employee:\n",
        "    def __init__(self, name, salary):\n",
        "        \"\"\"\n",
        "        Default constructor to initialize the name and salary attributes.\n",
        "\n",
        "        Args:\n",
        "            name (str): The name of the employee.\n",
        "            salary (float): The salary of the employee.\n",
        "        \"\"\"\n",
        "        self.name = name\n",
        "        self.salary = salary\n",
        "\n",
        "    def display_info(self):\n",
        "        \"\"\"\n",
        "        Method to display the employee's information.\n",
        "\n",
        "        Returns:\n",
        "            str: A string representation of the employee's information.\n",
        "        \"\"\"\n",
        "        return f\"Name: {self.name}, Salary: {self.salary}\"\n",
        "\n",
        "\n",
        "class Manager(Employee):\n",
        "    def __init__(self, name, salary, department):\n",
        "        \"\"\"\n",
        "        Default constructor to initialize the name, salary, and department attributes.\n",
        "\n",
        "        Args:\n",
        "            name (str): The name of the manager.\n",
        "            salary (float): The salary of the manager.\n",
        "            department (str): The department of the manager.\n",
        "        \"\"\"\n",
        "        super().__init__(name, salary)\n",
        "        self.department = department\n",
        "\n",
        "    def display_info(self):\n",
        "        \"\"\"\n",
        "        Method to display the manager's information.\n",
        "\n",
        "        Returns:\n",
        "            str: A string representation of the manager's information.\n",
        "        \"\"\"\n",
        "        return f\"Name: {self.name}, Salary: {self.salary}, Department: {self.department}\"\n",
        "\n",
        "\n",
        "# Example usage:\n",
        "employee = Employee(\"John Doe\", 50000)\n",
        "print(employee.display_info())\n",
        "\n",
        "manager = Manager(\"Jane Smith\", 70000, \"Marketing\")\n",
        "print(manager.display_info())"
      ],
      "metadata": {
        "colab": {
          "base_uri": "https://localhost:8080/"
        },
        "id": "Nr9HsTJn2mrU",
        "outputId": "12fcb26a-b5c2-445b-d15e-90c296250ddf"
      },
      "execution_count": 16,
      "outputs": [
        {
          "output_type": "stream",
          "name": "stdout",
          "text": [
            "Name: John Doe, Salary: 50000\n",
            "Name: Jane Smith, Salary: 70000, Department: Marketing\n"
          ]
        }
      ]
    },
    {
      "cell_type": "markdown",
      "source": [
        "15. Discuss the concept of method overloading in Python inheritance. How does it differ from method\n",
        "overriding?"
      ],
      "metadata": {
        "id": "yvpBY3g93L4_"
      }
    },
    {
      "cell_type": "markdown",
      "source": [
        "**Method Overloading in Python**\n",
        "\n",
        "While Python doesn't support true method overloading in the same way as other languages like Java or C++, you can achieve similar functionality using:\n",
        "\n",
        "1. **Default Arguments:** Define methods with the same name but different default arguments. This allows you to create methods that can handle different numbers of arguments.\n",
        "\n",
        "   ```python\n",
        "   class Calculator:\n",
        "       def add(self, x, y=0):\n",
        "           return x + y\n",
        "   ```\n",
        "\n",
        "2. **Variable-Length Arguments:** Use `*args` and `**kwargs` to create methods that can handle an arbitrary number of arguments.\n",
        "\n",
        "   ```python\n",
        "   class Calculator:\n",
        "       def add(self, *args):\n",
        "           return sum(args)\n",
        "   ```\n",
        "\n",
        "**Comparison to Method Overriding**\n",
        "\n",
        "Method overloading and method overriding are related concepts, but they have distinct characteristics:\n",
        "\n",
        "| Feature | Method Overloading | Method Overriding |\n",
        "|---|---|---|\n",
        "| Definition | Defining multiple methods with the same name but different parameters within a class. | Defining a method in a subclass with the same name as a method in the parent class. |\n",
        "| Purpose | To create methods that can handle different input arguments. | To provide a specific implementation for a method inherited from the parent class. |\n",
        "| Mechanism | Default arguments, variable-length arguments | Overriding the parent class's method with a different implementation in the child class. |\n",
        "| Inheritance | Not directly related to inheritance | Strongly related to inheritance |\n",
        "\n",
        "**In summary,** while Python doesn't have direct support for method overloading, you can achieve similar functionality using default arguments, variable-length arguments, and polymorphism. Method overriding, on the other hand, is a fundamental concept in object-oriented programming that allows you to customize the behavior of inherited methods.\n"
      ],
      "metadata": {
        "id": "N8Nw66Qc3XJu"
      }
    },
    {
      "cell_type": "markdown",
      "source": [
        "16. Explain the purpose of the `__init__()` method in Python inheritance and how it is utilized in child classes."
      ],
      "metadata": {
        "id": "tBPbMG423Yr8"
      }
    },
    {
      "cell_type": "markdown",
      "source": [
        "The `__init__()` method in Python is a special method, also known as a constructor, that is automatically called when an instance of a class is created. Its primary purpose is to initialize the object's attributes and perform any setup required for the instance.\n",
        "\n",
        "### Purpose in Inheritance\n",
        "In the context of inheritance, the `__init__()` method plays a crucial role in ensuring that both the parent class and the child class are properly initialized. When a child class inherits from a parent class, the child class can either:\n",
        "1. **Inherit the Parent's `__init__()` Method**: Use the `__init__()` method from the parent class without any modifications.\n",
        "2. **Override the Parent's `__init__()` Method**: Define its own `__init__()` method to customize initialization, while still possibly calling the parent's `__init__()` method to handle the initialization of attributes inherited from the parent class.\n",
        "\n",
        "### Utilizing `__init__()` in Child Classes\n",
        "\n",
        "#### 1. **Inheriting the Parent's `__init__()` Method**\n",
        "If the child class doesn't define its own `__init__()` method, it automatically inherits the `__init__()` method from the parent class.\n",
        "\n",
        "```python\n",
        "class Parent:\n",
        "    def __init__(self, name):\n",
        "        self.name = name\n",
        "\n",
        "class Child(Parent):\n",
        "    pass\n",
        "\n",
        "# Usage\n",
        "child = Child(\"Alice\")\n",
        "print(child.name)  # Outputs: Alice\n",
        "```\n",
        "- **Explanation**:\n",
        "  - Here, the `Child` class doesn't define an `__init__()` method, so it inherits the `Parent` class's `__init__()` method. When `Child` is instantiated, it initializes the `name` attribute just like the `Parent` class does.\n",
        "\n",
        "#### 2. **Overriding the Parent's `__init__()` Method**\n",
        "A child class can define its own `__init__()` method to add or modify the initialization process. However, if the child class still needs the initialization defined in the parent class, it should explicitly call the parent's `__init__()` method using `super()`.\n",
        "\n",
        "```python\n",
        "class Parent:\n",
        "    def __init__(self, name):\n",
        "        self.name = name\n",
        "\n",
        "class Child(Parent):\n",
        "    def __init__(self, name, age):\n",
        "        super().__init__(name)  # Call the parent's __init__() method\n",
        "        self.age = age\n",
        "\n",
        "# Usage\n",
        "child = Child(\"Alice\", 12)\n",
        "print(child.name)  # Outputs: Alice\n",
        "print(child.age)   # Outputs: 12\n",
        "```\n",
        "\n",
        "- **Explanation**:\n",
        "  - The `Child` class defines its own `__init__()` method, adding an additional `age` attribute.\n",
        "  - The `super().__init__(name)` call ensures that the `name` attribute is initialized using the `Parent` class's `__init__()` method, while the `age` attribute is handled by the `Child` class's `__init__()` method.\n",
        "\n",
        "### Summary\n",
        "\n",
        "- **Initialization in Inheritance**: The `__init__()` method in inheritance ensures that both the parent and child classes' attributes are properly initialized. When you create an instance of a child class, the constructor (`__init__()`) handles the setup of the instance.\n",
        "- **Inheriting vs. Overriding**: Child classes can inherit the parent's `__init__()` method as is, or override it to provide additional functionality or customization. When overriding, `super()` is commonly used to call the parent’s `__init__()` method, ensuring that the parent’s initialization logic is executed.\n",
        "- **Customization**: This mechanism allows for flexible and extensible class hierarchies, where each class in the hierarchy can be responsible for initializing its own unique attributes while leveraging the initialization logic of its parent classes."
      ],
      "metadata": {
        "id": "Jo2jsVws3jWU"
      }
    },
    {
      "cell_type": "markdown",
      "source": [
        "17. Create a Python class called `Bird` with a method `fly()`. Then, create child classes `Eagle` and `Sparrow` that inherit from `Bird` and implement the `fly()` method differently. Provide an example of using these\n",
        "classes."
      ],
      "metadata": {
        "id": "YNXYpGZ236lj"
      }
    },
    {
      "cell_type": "code",
      "source": [
        "class Bird:\n",
        "    def __init__(self, name):\n",
        "        \"\"\"\n",
        "        Default constructor to initialize the bird's name.\n",
        "\n",
        "        Args:\n",
        "            name (str): The name of the bird.\n",
        "        \"\"\"\n",
        "        self.name = name\n",
        "\n",
        "    def fly(self):\n",
        "        \"\"\"\n",
        "        Method to make the bird fly.\n",
        "\n",
        "        Returns:\n",
        "            str: A string representation of the bird flying.\n",
        "        \"\"\"\n",
        "        raise NotImplementedError(\"Subclasses must implement fly() method\")\n",
        "\n",
        "\n",
        "class Eagle(Bird):\n",
        "    def __init__(self, name):\n",
        "        super().__init__(name)\n",
        "\n",
        "    def fly(self):\n",
        "        \"\"\"\n",
        "        Method to make the eagle fly.\n",
        "\n",
        "        Returns:\n",
        "            str: A string representation of the eagle flying.\n",
        "        \"\"\"\n",
        "        return f\"{self.name} the eagle is soaring high in the sky!\"\n",
        "\n",
        "\n",
        "class Sparrow(Bird):\n",
        "    def __init__(self, name):\n",
        "        super().__init__(name)\n",
        "\n",
        "    def fly(self):\n",
        "        \"\"\"\n",
        "        Method to make the sparrow fly.\n",
        "\n",
        "        Returns:\n",
        "            str: A string representation of the sparrow flying.\n",
        "        \"\"\"\n",
        "        return f\"{self.name} the sparrow is flying quickly and erratically!\"\n",
        "\n",
        "\n",
        "# Example usage:\n",
        "eagle = Eagle(\"Eddie\")\n",
        "print(eagle.fly())\n",
        "\n",
        "sparrow = Sparrow(\"Sammy\")\n",
        "print(sparrow.fly())"
      ],
      "metadata": {
        "colab": {
          "base_uri": "https://localhost:8080/"
        },
        "id": "-ugfSjBf3Oh3",
        "outputId": "7cc158cb-493e-423d-9173-4d9665dcd7c0"
      },
      "execution_count": 17,
      "outputs": [
        {
          "output_type": "stream",
          "name": "stdout",
          "text": [
            "Eddie the eagle is soaring high in the sky!\n",
            "Sammy the sparrow is flying quickly and erratically!\n"
          ]
        }
      ]
    },
    {
      "cell_type": "markdown",
      "source": [
        "18. What is the \"diamond problem\" in multiple inheritance, and how does Python address it?"
      ],
      "metadata": {
        "id": "gzjClhQb4HoY"
      }
    },
    {
      "cell_type": "markdown",
      "source": [
        "**The Diamond Problem**\n",
        "\n",
        "In multiple inheritance, the diamond problem occurs when a class inherits from two classes that have a common ancestor. This can lead to ambiguity in method resolution, as the class may have multiple implementations of the same method from its parent classes.\n",
        "\n",
        "**Example:**\n",
        "\n",
        "```python\n",
        "class Animal:\n",
        "    def make_sound(self):\n",
        "        print(\"Generic animal sound\")\n",
        "\n",
        "class Bird:\n",
        "    def fly(self):\n",
        "        print(\"Flying\")\n",
        "\n",
        "class Parrot(Animal, Bird):\n",
        "    pass\n",
        "```\n",
        "\n",
        "In this example, the `Parrot` class inherits from both the `Animal` and `Bird` classes. Both `Animal` and `Bird` have a `make_sound` method. If a `Parrot` object calls the `make_sound` method, it's not clear which implementation should be used: the one from `Animal` or the one from `Bird`.\n",
        "\n",
        "**Python's Solution: Method Resolution Order (MRO)**\n",
        "\n",
        "Python uses the Method Resolution Order (MRO) algorithm to determine the order in which methods are searched when a method is called on an object. The MRO ensures that a class's own methods are searched first, followed by its parent classes in a depth-first, left-to-right order.\n",
        "\n",
        "In the example above, the MRO for the `Parrot` class would be: `Parrot`, `Animal`, `Bird`. This means that if a `Parrot` object calls the `make_sound` method, the `Parrot` class's own implementation will be searched first. If no implementation is found, the `Animal` class's implementation will be searched, followed by the `Bird` class's implementation.\n",
        "\n",
        "**Key Points:**\n",
        "\n",
        "- The diamond problem can occur in multiple inheritance when a class has multiple parent classes with a common ancestor.\n",
        "- Python's MRO algorithm helps resolve this ambiguity by determining the order in which methods are searched.\n",
        "- The MRO is calculated using a depth-first, left-to-right traversal of the class hierarchy.\n",
        "\n"
      ],
      "metadata": {
        "id": "kbfdrcEa4Ot_"
      }
    },
    {
      "cell_type": "markdown",
      "source": [
        "19. Discuss the concept of \"is-a\" and \"has-a\" relationships in inheritance, and provide examples of each."
      ],
      "metadata": {
        "id": "177VN19m4qqu"
      }
    },
    {
      "cell_type": "markdown",
      "source": [
        "**\"Is-a\" and \"Has-a\" Relationships in Inheritance**\n",
        "\n",
        "In object-oriented programming, inheritance is often used to model relationships between classes. Two common types of relationships are \"is-a\" and \"has-a.\"\n",
        "\n",
        "**1. \"Is-a\" Relationship:**\n",
        "\n",
        "* **Description:** This relationship indicates that one class is a specialized version of another class. In other words, a subclass \"is a\" type of its superclass.\n",
        "* **Example:**\n",
        "  - A `Dog` is a type of `Animal`.\n",
        "  - A `Car` is a type of `Vehicle`.\n",
        "\n",
        "**2. \"Has-a\" Relationship:**\n",
        "\n",
        "* **Description:** This relationship indicates that a class contains or uses another class as a component. In other words, a class \"has a\" relationship with another class.\n",
        "* **Example:**\n",
        "  - A `Person` has a `Address`.\n",
        "  - A `Book` has an `Author`.\n",
        "\n",
        "**Key Differences:**\n",
        "\n",
        "| Feature | \"Is-a\" Relationship | \"Has-a\" Relationship |\n",
        "|---|---|---|\n",
        "| Inheritance | Yes | No |\n",
        "| Composition | No | Yes |\n",
        "| Relationship | Specialization | Association |\n",
        "\n",
        "**Example:**\n",
        "\n",
        "```python\n",
        "class Animal:\n",
        "    def __init__(self, name):\n",
        "        self.name = name\n",
        "\n",
        "    def make_sound(self):\n",
        "        print(\"Generic animal sound\")\n",
        "\n",
        "class Dog(Animal):\n",
        "    def bark(self):\n",
        "        print(\"Woof!\")\n",
        "\n",
        "class Person:\n",
        "    def __init__(self, name, address):\n",
        "        self.name = name\n",
        "        self.address = address\n",
        "```\n",
        "\n",
        "In this example:\n",
        "\n",
        "- `Dog` is a subclass of `Animal` (**\"is-a\"** relationship).\n",
        "- A `Person` object has an `Address` object as an attribute (**\"has-a\"** relationship).\n",
        "\n",
        "**Choosing the Right Relationship:**\n",
        "\n",
        "The choice between \"is-a\" and \"has-a\" relationships depends on the nature of the relationship between the classes. If one class is a specialized version of another, an \"is-a\" relationship is appropriate. If one class contains or uses another class as a component, a \"has-a\" relationship is appropriate.\n",
        "\n",
        "By understanding these two relationships, you can design more effective and maintainable object-oriented code.\n"
      ],
      "metadata": {
        "id": "24LZTbxB4Zpr"
      }
    },
    {
      "cell_type": "markdown",
      "source": [
        "20. Create a Python class hierarchy for a university system. Start with a base class `Person` and create child\n",
        "classes `Student` and `Professor`, each with their own attributes and methods. Provide an example of using\n",
        "these classes in a university context."
      ],
      "metadata": {
        "id": "Pnlr6hRD4uX3"
      }
    },
    {
      "cell_type": "code",
      "source": [
        "class Person:\n",
        "    def __init__(self, name, email):\n",
        "        \"\"\"\n",
        "        Default constructor to initialize a person's name and email.\n",
        "\n",
        "        Args:\n",
        "            name (str): The person's name.\n",
        "            email (str): The person's email address.\n",
        "        \"\"\"\n",
        "        self.name = name\n",
        "        self.email = email\n",
        "\n",
        "    def __str__(self):\n",
        "        \"\"\"\n",
        "        Returns a string representation of the person.\n",
        "\n",
        "        Returns:\n",
        "            str: A string representation of the person.\n",
        "        \"\"\"\n",
        "        return f\"{self.name} ({self.email})\"\n",
        "\n",
        "\n",
        "class Student(Person):\n",
        "    def __init__(self, name, email, student_id, major):\n",
        "        \"\"\"\n",
        "        Constructor to initialize a student's attributes.\n",
        "\n",
        "        Args:\n",
        "            name (str): The student's name.\n",
        "            email (str): The student's email address.\n",
        "            student_id (int): The student's unique ID.\n",
        "            major (str): The student's major.\n",
        "        \"\"\"\n",
        "        super().__init__(name, email)\n",
        "        self.student_id = student_id\n",
        "        self.major = major\n",
        "        self.courses = []  # Initialize an empty list to store courses\n",
        "\n",
        "    def enroll_course(self, course):\n",
        "        \"\"\"\n",
        "        Method to enroll a student in a course.\n",
        "\n",
        "        Args:\n",
        "            course (str): The course name.\n",
        "        \"\"\"\n",
        "        self.courses.append(course)\n",
        "        print(f\"{self.name} has enrolled in {course}.\")\n",
        "\n",
        "    def __str__(self):\n",
        "        \"\"\"\n",
        "        Returns a string representation of the student.\n",
        "\n",
        "        Returns:\n",
        "            str: A string representation of the student.\n",
        "        \"\"\"\n",
        "        return f\"{self.name} ({self.email}) - Student ID: {self.student_id}, Major: {self.major}\"\n",
        "\n",
        "\n",
        "class Professor(Person):\n",
        "    def __init__(self, name, email, professor_id, department):\n",
        "        \"\"\"\n",
        "        Constructor to initialize a professor's attributes.\n",
        "\n",
        "        Args:\n",
        "            name (str): The professor's name.\n",
        "            email (str): The professor's email address.\n",
        "            professor_id (int): The professor's unique ID.\n",
        "            department (str): The professor's department.\n",
        "        \"\"\"\n",
        "        super().__init__(name, email)\n",
        "        self.professor_id = professor_id\n",
        "        self.department = department\n",
        "        self.courses_taught = []  # Initialize an empty list to store courses taught\n",
        "\n",
        "    def teach_course(self, course):\n",
        "        \"\"\"\n",
        "        Method to assign a course to a professor.\n",
        "\n",
        "        Args:\n",
        "            course (str): The course name.\n",
        "        \"\"\"\n",
        "        self.courses_taught.append(course)\n",
        "        print(f\"{self.name} is teaching {course}.\")\n",
        "\n",
        "    def __str__(self):\n",
        "        \"\"\"\n",
        "        Returns a string representation of the professor.\n",
        "\n",
        "        Returns:\n",
        "            str: A string representation of the professor.\n",
        "        \"\"\"\n",
        "        return f\"{self.name} ({self.email}) - Professor ID: {self.professor_id}, Department: {self.department}\"\n",
        "\n",
        "\n",
        "# Example usage:\n",
        "student1 = Student(\"John Doe\", \"johndoe@example.com\", 12345, \"Computer Science\")\n",
        "print(student1)\n",
        "student1.enroll_course(\"Introduction to Python\")\n",
        "student1.enroll_course(\"Data Structures\")\n",
        "\n",
        "professor1 = Professor(\"Dr. Jane Smith\", \"janesmith@example.com\", 67890, \"Mathematics\")\n",
        "print(professor1)\n",
        "professor1.teach_course(\"Calculus I\")\n",
        "professor1.teach_course(\"Linear Algebra\")\n",
        "\n",
        "print(\"\\nUniversity Directory:\")\n",
        "print(\"Students:\")\n",
        "print(student1)\n",
        "print(\"Professors:\")\n",
        "print(professor1)"
      ],
      "metadata": {
        "colab": {
          "base_uri": "https://localhost:8080/"
        },
        "id": "WpJNEBoN4LHx",
        "outputId": "a704e654-f4fa-4222-ef16-9cf3b91e4cd8"
      },
      "execution_count": 18,
      "outputs": [
        {
          "output_type": "stream",
          "name": "stdout",
          "text": [
            "John Doe (johndoe@example.com) - Student ID: 12345, Major: Computer Science\n",
            "John Doe has enrolled in Introduction to Python.\n",
            "John Doe has enrolled in Data Structures.\n",
            "Dr. Jane Smith (janesmith@example.com) - Professor ID: 67890, Department: Mathematics\n",
            "Dr. Jane Smith is teaching Calculus I.\n",
            "Dr. Jane Smith is teaching Linear Algebra.\n",
            "\n",
            "University Directory:\n",
            "Students:\n",
            "John Doe (johndoe@example.com) - Student ID: 12345, Major: Computer Science\n",
            "Professors:\n",
            "Dr. Jane Smith (janesmith@example.com) - Professor ID: 67890, Department: Mathematics\n"
          ]
        }
      ]
    },
    {
      "cell_type": "markdown",
      "source": [
        "**Encapsulation:**"
      ],
      "metadata": {
        "id": "GYRS_7um5Cnh"
      }
    },
    {
      "cell_type": "markdown",
      "source": [
        "1. Explain the concept of encapsulation in Python. What is its role in object-oriented programming?"
      ],
      "metadata": {
        "id": "6XkpwWjs5GBu"
      }
    },
    {
      "cell_type": "markdown",
      "source": [
        "**Encapsulation** is a fundamental principle in object-oriented programming (OOP) that involves bundling data (attributes) and the methods that operate on that data into a single unit, called a class. This concept helps hide the internal state of an object from the outside world, providing a controlled interface for interacting with the object's data and methods.\n",
        "\n",
        "**Key Benefits of Encapsulation:**\n",
        "\n",
        "- **Data Hiding:** By encapsulating data within a class, you can control access to it, preventing accidental modification or misuse.\n",
        "- **Abstraction:** Encapsulation allows you to focus on the object's interface (public methods) rather than its internal implementation, promoting abstraction and modularity.\n",
        "- **Modularity:** Encapsulated objects can be treated as self-contained units, making it easier to reuse and maintain code.\n",
        "- **Flexibility:** Encapsulation allows you to modify the internal implementation of a class without affecting its external interface, providing flexibility and maintainability.\n",
        "\n",
        "**Implementing Encapsulation in Python:**\n",
        "\n",
        "While Python doesn't have strict access modifiers like `public`, `private`, and `protected`, you can achieve encapsulation through conventions and programming practices:\n",
        "\n",
        "- **Naming Conventions:** Use a single underscore (`_`) to indicate that an attribute or method is intended to be private. This is a convention, not a strict rule, but it's widely followed.\n",
        "- **Method Access:** Expose methods that provide controlled access to the object's data. This allows you to validate input, perform necessary calculations, or enforce constraints.\n",
        "\n",
        "**Example:**\n",
        "\n",
        "```python\n",
        "class BankAccount:\n",
        "    def __init__(self, balance):\n",
        "        self.__balance = balance\n",
        "\n",
        "    def deposit(self, amount):\n",
        "        self.__balance += amount\n",
        "\n",
        "    def withdraw(self, amount):\n",
        "        if amount <= self.__balance:\n",
        "            self.__balance -= amount\n",
        "        else:\n",
        "            print(\"Insufficient funds\")\n",
        "\n",
        "    def get_balance(self):\n",
        "        return self.__balance\n",
        "```\n",
        "\n",
        "In this example, the `BankAccount` class encapsulates the `__balance` attribute and provides methods for depositing and withdrawing funds. The `__balance` attribute is considered private due to the leading underscore, and access to it is controlled through the `deposit` and `withdraw` methods.\n",
        "\n"
      ],
      "metadata": {
        "id": "uOGQ_m7m5IkN"
      }
    },
    {
      "cell_type": "markdown",
      "source": [
        "2. Describe the key principles of encapsulation, including access control and data hiding."
      ],
      "metadata": {
        "id": "E4RTeOJj5Pxi"
      }
    },
    {
      "cell_type": "markdown",
      "source": [
        "**Key Principles of Encapsulation**\n",
        "\n",
        "Encapsulation is a fundamental principle in object-oriented programming that involves bundling data (attributes) and the methods that operate on that data into a single unit, called a class. It helps to hide the internal state of an object from the outside world, providing a controlled interface for interacting with the object's data and methods.\n",
        "\n",
        "**1. Access Control:**\n",
        "\n",
        "- **Private Members:** Attributes and methods prefixed with a double underscore (`__`) are considered private within the class. They are not directly accessible from outside the class or its subclasses. This provides a strong level of encapsulation.\n",
        "- **Protected Members:** Attributes and methods prefixed with a single underscore (`_`) are considered protected. They are accessible within the class and its subclasses, but not from outside the class hierarchy. This provides a moderate level of encapsulation.\n",
        "- **Public Members:** Attributes and methods that are not prefixed with underscores are considered public and can be accessed from anywhere.\n",
        "\n",
        "**2. Data Hiding:**\n",
        "\n",
        "- Data hiding refers to the practice of preventing direct access to an object's internal state. By encapsulating data within a class and providing controlled access through methods, you can protect the data from unauthorized modification or misuse.\n",
        "\n",
        "**Example:**\n",
        "\n",
        "```python\n",
        "class BankAccount:\n",
        "    def __init__(self, balance):\n",
        "        self.__balance = balance  # Private attribute\n",
        "\n",
        "    def deposit(self, amount):\n",
        "        self.__balance += amount\n",
        "\n",
        "    def withdraw(self, amount):\n",
        "        if amount <= self.__balance:\n",
        "            self.__balance -= amount\n",
        "        else:\n",
        "            print(\"Insufficient funds\")\n",
        "\n",
        "    def get_balance(self):\n",
        "        return self.__balance\n",
        "```\n",
        "\n",
        "In this example:\n",
        "\n",
        "- The `__balance` attribute is considered private and can only be accessed and modified through the `deposit` and `withdraw` methods.\n",
        "- This provides a controlled interface for interacting with the account's balance, preventing unauthorized access or modification.\n"
      ],
      "metadata": {
        "id": "lChEsXBP5Tg9"
      }
    },
    {
      "cell_type": "markdown",
      "source": [
        "3. How can you achieve encapsulation in Python classes? Provide an example."
      ],
      "metadata": {
        "id": "lkFDD4qS5bOP"
      }
    },
    {
      "cell_type": "markdown",
      "source": [
        "**Achieving Encapsulation in Python**\n",
        "\n",
        "While Python doesn't have strict access modifiers like `public`, `private`, and `protected`, you can achieve encapsulation through conventions and programming practices:\n",
        "\n",
        "1. **Naming Conventions:**\n",
        "   - Use a single underscore (`_`) to indicate that an attribute or method is intended to be private. This is a convention, not a strict rule, but it's widely followed.\n",
        "\n",
        "2. **Method Access:**\n",
        "   - Expose methods that provide controlled access to the object's data. This allows you to validate input, perform necessary calculations, or enforce constraints.\n",
        "\n",
        "**Example:**\n",
        "\n",
        "```python\n",
        "class BankAccount:\n",
        "    def __init__(self, balance):\n",
        "        self.__balance = balance\n",
        "\n",
        "    def deposit(self, amount):\n",
        "        self.__balance += amount\n",
        "\n",
        "    def withdraw(self, amount):\n",
        "        if amount <= self.__balance:\n",
        "            self.__balance -= amount\n",
        "        else:\n",
        "            print(\"Insufficient funds\")\n",
        "\n",
        "    def get_balance(self):\n",
        "        return self.__balance\n",
        "```\n",
        "\n",
        "In this example:\n",
        "\n",
        "- The `__balance` attribute is considered private due to the leading underscore.\n",
        "- The `deposit`, `withdraw`, and `get_balance` methods provide controlled access to the `__balance` attribute.\n",
        "- This encapsulates the internal state of the `BankAccount` object, preventing direct modification and ensuring data integrity.\n",
        "\n",
        "**Key Points:**\n",
        "\n",
        "- Encapsulation is achieved through conventions and programming practices rather than strict language rules.\n",
        "- Using a single underscore (`_`) for attribute and method names is a common convention to indicate privacy.\n",
        "- Exposing methods that provide controlled access to the object's data is essential for encapsulation.\n"
      ],
      "metadata": {
        "id": "Q809i5ek5ew_"
      }
    },
    {
      "cell_type": "markdown",
      "source": [
        "4. Discuss the difference between public, private, and protected access modifiers in Python."
      ],
      "metadata": {
        "id": "yJpR_H4z5iZF"
      }
    },
    {
      "cell_type": "markdown",
      "source": [
        "**Python doesn't have explicit public, private, and protected access modifiers like languages like Java or C++.** However, it uses a convention to indicate the intended visibility of attributes and methods:\n",
        "\n",
        "- **Public:** Attributes and methods that are not prefixed with underscores (`_`) are considered public and can be accessed from anywhere.\n",
        "- **Private:** Attributes and methods prefixed with a double underscore (`__`) are considered private within the class. They are not directly accessible from outside the class or its subclasses. This is a convention, not a strict rule.\n",
        "- **Protected:** Attributes and methods prefixed with a single underscore (`_`) are considered protected. They are accessible within the class and its subclasses, but not from outside the class hierarchy. This is also a convention.\n",
        "\n",
        "**Example:**\n",
        "\n",
        "```python\n",
        "class MyClass:\n",
        "    public_attribute = 10\n",
        "\n",
        "    def __init__(self):\n",
        "        self._protected_attribute = 20\n",
        "        self.__private_attribute = 30\n",
        "\n",
        "    def public_method(self):\n",
        "        print(\"Public method\")\n",
        "\n",
        "    def _protected_method(self):\n",
        "        print(\"Protected method\")\n",
        "\n",
        "    def __private_method(self):\n",
        "        print(\"Private method\")\n",
        "```\n",
        "\n",
        "In this example:\n",
        "\n",
        "- `public_attribute` is a public attribute.\n",
        "- `_protected_attribute` is considered a protected attribute.\n",
        "- `__private_attribute` is considered a private attribute.\n",
        "\n",
        "**Key Points:**\n",
        "\n",
        "- Python's access modifiers are based on naming conventions rather than strict language rules.\n",
        "- Public members are accessible from anywhere.\n",
        "- Protected members are accessible within the class and its subclasses.\n",
        "- Private members are intended to be accessed only within the class.\n",
        "\n",
        "While Python doesn't have explicit access modifiers, understanding these conventions can help you write more organized and maintainable code.\n"
      ],
      "metadata": {
        "id": "Z2THGAeT5mDa"
      }
    },
    {
      "cell_type": "markdown",
      "source": [
        "5. Create a Python class called `Person` with a private attribute `__name`. Provide methods to get and set the\n",
        "name attribute."
      ],
      "metadata": {
        "id": "yRtRR95f5p0i"
      }
    },
    {
      "cell_type": "code",
      "source": [
        "class Person:\n",
        "    def __init__(self, name):\n",
        "        \"\"\"\n",
        "        Default constructor to initialize a person's name.\n",
        "\n",
        "        Args:\n",
        "            name (str): The person's name.\n",
        "        \"\"\"\n",
        "        self.__name = name  # Private attribute __name\n",
        "\n",
        "    def get_name(self):\n",
        "        \"\"\"\n",
        "        Method to get the person's name.\n",
        "\n",
        "        Returns:\n",
        "            str: The person's name.\n",
        "        \"\"\"\n",
        "        return self.__name\n",
        "\n",
        "    def set_name(self, name):\n",
        "        \"\"\"\n",
        "        Method to set the person's name.\n",
        "\n",
        "        Args:\n",
        "            name (str): The new name for the person.\n",
        "        \"\"\"\n",
        "        self.__name = name\n",
        "\n",
        "    def __str__(self):\n",
        "        \"\"\"\n",
        "        Returns a string representation of the person.\n",
        "\n",
        "        Returns:\n",
        "            str: A string representation of the person.\n",
        "        \"\"\"\n",
        "        return f\"Person: {self.get_name()}\"\n",
        "\n",
        "\n",
        "# Example usage:\n",
        "person = Person(\"John Doe\")\n",
        "print(person)  # Output: Person: John Doe\n",
        "\n",
        "print(person.get_name())  # Output: John Doe\n",
        "\n",
        "person.set_name(\"Jane Smith\")\n",
        "print(person.get_name())  # Output: Jane Smith\n",
        "\n",
        "print(person)  # Output: Person: Jane Smith"
      ],
      "metadata": {
        "colab": {
          "base_uri": "https://localhost:8080/"
        },
        "id": "APt-Fq1k4_r2",
        "outputId": "ed70178e-5fbb-4d84-b11f-35d35d252073"
      },
      "execution_count": 19,
      "outputs": [
        {
          "output_type": "stream",
          "name": "stdout",
          "text": [
            "Person: John Doe\n",
            "John Doe\n",
            "Jane Smith\n",
            "Person: Jane Smith\n"
          ]
        }
      ]
    },
    {
      "cell_type": "markdown",
      "source": [
        "6. Explain the purpose of getter and setter methods in encapsulation. Provide examples."
      ],
      "metadata": {
        "id": "76L__cIY5wGk"
      }
    },
    {
      "cell_type": "markdown",
      "source": [
        "Getter and setter methods are essential concepts in encapsulation, a fundamental principle of object-oriented programming (OOP). Encapsulation is the practice of bundling data (attributes) and methods that operate on the data into a single unit or class, while restricting direct access to some of the object's components. This is typically achieved by making attributes private and controlling access to them through getter and setter methods.\n",
        "\n",
        "### Purpose of Getter and Setter Methods\n",
        "\n",
        "1. **Encapsulation and Data Hiding**:\n",
        "   - Getter and setter methods allow you to control how the attributes of a class are accessed or modified. By using these methods, you can hide the internal representation of the data and only expose what is necessary.\n",
        "\n",
        "2. **Validation and Control**:\n",
        "   - Setters can include validation logic to ensure that the data being set meets certain criteria before it's assigned to an attribute. This helps maintain the integrity of the data.\n",
        "   - Getters can be used to control how data is accessed or to compute values dynamically when requested.\n",
        "\n",
        "3. **Read-Only or Write-Only Access**:\n",
        "   - By using only a getter or a setter, you can make an attribute read-only (accessible but not modifiable) or write-only (modifiable but not accessible).\n",
        "\n",
        "4. **Flexibility**:\n",
        "   - If the internal implementation of an attribute changes, you can update the getter and setter methods without affecting the external code that interacts with the class.\n",
        "\n",
        "### Example\n",
        "\n",
        "```python\n",
        "class BankAccount:\n",
        "    def __init__(self, owner, balance=0):\n",
        "        self.owner = owner\n",
        "        self._balance = balance  # Private attribute (by convention)\n",
        "\n",
        "    # Getter for balance\n",
        "    @property\n",
        "    def balance(self):\n",
        "        return self._balance\n",
        "\n",
        "    # Setter for balance\n",
        "    @balance.setter\n",
        "    def balance(self, amount):\n",
        "        if amount < 0:\n",
        "            raise ValueError(\"Balance cannot be negative.\")\n",
        "        self._balance = amount\n",
        "\n",
        "    # Method to deposit money\n",
        "    def deposit(self, amount):\n",
        "        if amount > 0:\n",
        "            self._balance += amount\n",
        "        else:\n",
        "            raise ValueError(\"Deposit amount must be positive.\")\n",
        "\n",
        "    # Method to withdraw money\n",
        "    def withdraw(self, amount):\n",
        "        if 0 < amount <= self._balance:\n",
        "            self._balance -= amount\n",
        "        else:\n",
        "            raise ValueError(\"Invalid withdrawal amount.\")\n",
        "\n",
        "# Usage\n",
        "account = BankAccount(\"Alice\", 100)\n",
        "\n",
        "# Accessing the balance using the getter\n",
        "print(account.balance)  # Outputs: 100\n",
        "\n",
        "# Depositing money\n",
        "account.deposit(50)\n",
        "print(account.balance)  # Outputs: 150\n",
        "\n",
        "# Attempting to set a negative balance using the setter (will raise an error)\n",
        "# account.balance = -100  # Raises: ValueError: Balance cannot be negative.\n",
        "\n",
        "# Withdrawing money\n",
        "account.withdraw(70)\n",
        "print(account.balance)  # Outputs: 80\n",
        "```\n",
        "\n",
        "### Explanation\n",
        "\n",
        "1. **Private Attribute**:\n",
        "   - The `_balance` attribute is considered private (denoted by the single underscore `_`), meaning it should not be accessed directly outside the class.\n",
        "\n",
        "2. **Getter (`@property`)**:\n",
        "   - The `balance()` method is decorated with `@property`, making it a getter method. This allows you to access the `_balance` attribute via `account.balance` without directly accessing the private attribute. The getter provides controlled access to the attribute.\n",
        "\n",
        "3. **Setter (`@balance.setter`)**:\n",
        "   - The `balance()` method with the `@balance.setter` decorator allows you to modify the `_balance` attribute via `account.balance = amount`. The setter includes validation logic to ensure the balance cannot be set to a negative value.\n",
        "\n",
        "4. **Deposit and Withdraw Methods**:\n",
        "   - These methods provide a controlled way to modify the balance while ensuring that the operations are valid. The balance cannot be directly changed without going through the validation logic in these methods.\n",
        "\n",
        "### Benefits\n",
        "- **Encapsulation**: The internal state (`_balance`) is protected, and any modifications must go through controlled methods.\n",
        "- **Data Integrity**: The setter ensures that the balance cannot be set to an invalid value.\n",
        "- **Ease of Maintenance**: If the internal logic or representation of the balance needs to change, you can modify the getter and setter methods without affecting external code.\n",
        "\n",
        "### Summary\n",
        "Getter and setter methods are integral to encapsulation in OOP. They allow you to control access to an object's attributes, enforce validation, and maintain data integrity while providing flexibility in how attributes are managed and accessed."
      ],
      "metadata": {
        "id": "mNV2l-XH53Qk"
      }
    },
    {
      "cell_type": "markdown",
      "source": [
        "7. What is name mangling in Python, and how does it affect encapsulation?"
      ],
      "metadata": {
        "id": "XqEW8__U6Ah-"
      }
    },
    {
      "cell_type": "markdown",
      "source": [
        "**Name Mangling in Python**\n",
        "\n",
        "Name mangling is a technique in Python that automatically adds a leading double underscore (`__`) to the names of private attributes and methods within a class. This helps to prevent accidental access or modification of these members from outside the class.\n",
        "\n",
        "**How it works:**\n",
        "\n",
        "- When a name starts with two underscores (`__`), Python automatically adds the class name and a leading underscore to the name.\n",
        "- This makes the name unique to the class and prevents it from being accessed directly from outside the class.\n",
        "\n",
        "**Example:**\n",
        "\n",
        "```python\n",
        "class MyClass:\n",
        "    def __init__(self):\n",
        "        self.__private_attribute = 10\n",
        "\n",
        "    def get_private_attribute(self):\n",
        "        return self.__private_attribute\n",
        "```\n",
        "\n",
        "In this example, the `__private_attribute` attribute will be mangled to `_MyClass__private_attribute`. This makes it difficult (but not impossible) to access directly from outside the `MyClass` class.\n",
        "\n",
        "**Impact on Encapsulation:**\n",
        "\n",
        "Name mangling helps to improve encapsulation by making it more difficult to accidentally access or modify private members. However, it's important to note that it's not a foolproof mechanism. Determined users can still access private members using techniques like introspection or reflection.\n",
        "\n",
        "**Key Points:**\n",
        "\n",
        "- Name mangling is an automatic process in Python.\n",
        "- It adds a leading double underscore and the class name to private attribute and method names.\n",
        "- It helps to improve encapsulation by making private members less accessible.\n",
        "- While it can be difficult to access private members using name mangling, it's not impossible.\n"
      ],
      "metadata": {
        "id": "Cn6Se4vd6DWU"
      }
    },
    {
      "cell_type": "markdown",
      "source": [
        "8. Create a Python class called `BankAccount` with private attributes for the account balance (`__balance`) and account number(__ account_number).Provide methods for depositing and withdrawing money."
      ],
      "metadata": {
        "id": "X0l8gtIe6Qns"
      }
    },
    {
      "cell_type": "code",
      "source": [
        "class BankAccount:\n",
        "    def __init__(self, account_number, initial_balance=0):\n",
        "        \"\"\"\n",
        "        Default constructor to initialize a bank account.\n",
        "\n",
        "        Args:\n",
        "            account_number (str): The account number.\n",
        "            initial_balance (float, optional): The initial balance. Defaults to 0.\n",
        "        \"\"\"\n",
        "        self.__account_number = account_number  # Private attribute __account_number\n",
        "        self.__balance = initial_balance  # Private attribute __balance\n",
        "\n",
        "    def get_account_number(self):\n",
        "        \"\"\"\n",
        "        Method to get the account number.\n",
        "\n",
        "        Returns:\n",
        "            str: The account number.\n",
        "        \"\"\"\n",
        "        return self.__account_number\n",
        "\n",
        "    def get_balance(self):\n",
        "        \"\"\"\n",
        "        Method to get the current balance.\n",
        "\n",
        "        Returns:\n",
        "            float: The current balance.\n",
        "        \"\"\"\n",
        "        return self.__balance\n",
        "\n",
        "    def deposit(self, amount):\n",
        "        \"\"\"\n",
        "        Method to deposit money into the account.\n",
        "\n",
        "        Args:\n",
        "            amount (float): The amount to deposit.\n",
        "        \"\"\"\n",
        "        if amount > 0:\n",
        "            self.__balance += amount\n",
        "            print(f\"Deposited ${amount:.2f} into account {self.__account_number}. New balance: ${self.__balance:.2f}\")\n",
        "        else:\n",
        "            print(\"Invalid deposit amount. Please try again.\")\n",
        "\n",
        "    def withdraw(self, amount):\n",
        "        \"\"\"\n",
        "        Method to withdraw money from the account.\n",
        "\n",
        "        Args:\n",
        "            amount (float): The amount to withdraw.\n",
        "        \"\"\"\n",
        "        if 0 < amount <= self.__balance:\n",
        "            self.__balance -= amount\n",
        "            print(f\"Withdrew ${amount:.2f} from account {self.__account_number}. New balance: ${self.__balance:.2f}\")\n",
        "        elif amount <= 0:\n",
        "            print(\"Invalid withdrawal amount. Please try again.\")\n",
        "        else:\n",
        "            print(\"Insufficient funds. Please try again.\")\n",
        "\n",
        "    def __str__(self):\n",
        "        \"\"\"\n",
        "        Returns a string representation of the bank account.\n",
        "\n",
        "        Returns:\n",
        "            str: A string representation of the bank account.\n",
        "        \"\"\"\n",
        "        return f\"Account {self.__account_number}: Balance = ${self.__balance:.2f}\"\n",
        "\n",
        "\n",
        "# Example usage:\n",
        "account = BankAccount(\"1234567890\", 1000)\n",
        "print(account)  # Output: Account 1234567890: Balance = $1000.00\n",
        "\n",
        "account.deposit(500)\n",
        "print(account)  # Output: Account 1234567890: Balance = $1500.00\n",
        "\n",
        "account.withdraw(200)\n",
        "print(account)  # Output: Account 1234567890: Balance = $1300.00\n",
        "\n",
        "account.withdraw(1500)\n",
        "print(account)  # Output: Account 1234567890: Balance = $1300.00 (Insufficient funds)"
      ],
      "metadata": {
        "colab": {
          "base_uri": "https://localhost:8080/"
        },
        "id": "VuaUxy1L5xyN",
        "outputId": "0634f232-97d1-4087-9f4d-c9c454355b97"
      },
      "execution_count": 20,
      "outputs": [
        {
          "output_type": "stream",
          "name": "stdout",
          "text": [
            "Account 1234567890: Balance = $1000.00\n",
            "Deposited $500.00 into account 1234567890. New balance: $1500.00\n",
            "Account 1234567890: Balance = $1500.00\n",
            "Withdrew $200.00 from account 1234567890. New balance: $1300.00\n",
            "Account 1234567890: Balance = $1300.00\n",
            "Insufficient funds. Please try again.\n",
            "Account 1234567890: Balance = $1300.00\n"
          ]
        }
      ]
    },
    {
      "cell_type": "markdown",
      "source": [
        "9. Discuss the advantages of encapsulation in terms of code maintainability and security."
      ],
      "metadata": {
        "id": "z50hRoiq6vhe"
      }
    },
    {
      "cell_type": "markdown",
      "source": [
        "**Advantages of Encapsulation in Terms of Code Maintainability and Security**\n",
        "\n",
        "Encapsulation is a fundamental principle in object-oriented programming that significantly improves code maintainability and security.\n",
        "\n",
        "**Code Maintainability:**\n",
        "\n",
        "- **Modularity:** Encapsulation breaks down complex systems into smaller, self-contained units, making code easier to understand, manage, and modify.\n",
        "- **Flexibility:** Encapsulation allows you to change the internal implementation of a class without affecting its external interface, providing flexibility and ease of maintenance.\n",
        "- **Reusability:** Encapsulated objects can be reused in different parts of your code, reducing redundancy and improving code efficiency.\n",
        "- **Testability:** Encapsulation makes it easier to write unit tests for individual components of your code, as you can focus on testing the public interface without worrying about the internal implementation.\n",
        "\n",
        "**Security:**\n",
        "\n",
        "- **Data Protection:** Encapsulation helps protect your data from unauthorized access or modification. By hiding the internal state of an object and providing controlled access through methods, you can prevent unintended changes.\n",
        "- **Reduced Risk of Errors:** Encapsulation can help reduce the risk of errors by limiting the scope of potential side effects. When changes are made to a class, their impact is more contained.\n",
        "- **Security Audits:** Encapsulated code is easier to audit for security vulnerabilities because the focus can be on the public interface and the methods that interact with the object's data.\n",
        "\n",
        "In summary, encapsulation provides numerous benefits in terms of code maintainability and security. By following the principles of encapsulation, you can write more organized, flexible, and secure Python code.\n"
      ],
      "metadata": {
        "id": "RRr19K6K6wv1"
      }
    },
    {
      "cell_type": "markdown",
      "source": [
        "10. How can you access private attributes in Python? Provide an example demonstrating the use of name\n",
        "mangling."
      ],
      "metadata": {
        "id": "lQn6rM1x6-IX"
      }
    },
    {
      "cell_type": "markdown",
      "source": [
        "**Accessing Private Attributes in Python**\n",
        "\n",
        "While Python doesn't have strict private access modifiers, it uses a convention known as **name mangling** to make attributes and methods less accessible from outside a class. Name mangling automatically adds a leading double underscore (`__`) and the class name to the name of private members.\n",
        "\n",
        "**Example:**\n",
        "\n",
        "```python\n",
        "class MyClass:\n",
        "    def __init__(self):\n",
        "        self.__private_attribute = 10\n",
        "\n",
        "    def get_private_attribute(self):\n",
        "        return self.__private_attribute\n",
        "```\n",
        "\n",
        "In this example, the `__private_attribute` attribute will be mangled to `_MyClass__private_attribute`. This makes it difficult (but not impossible) to access directly from outside the `MyClass` class.\n",
        "\n",
        "**Accessing Private Attributes Directly (Not recommended):**\n",
        "\n",
        "While it's generally discouraged to directly access private attributes from outside a class, it's technically possible using introspection techniques. However, this is not considered good practice as it can break encapsulation and make your code less maintainable.\n",
        "\n",
        "**Example:**\n",
        "\n",
        "```python\n",
        "instance = MyClass()\n",
        "print(instance._MyClass__private_attribute)  # Accessing the mangled attribute\n",
        "```\n",
        "\n",
        "**Important Notes:**\n",
        "\n",
        "- Name mangling is a convention, not a strict rule. It's primarily used to discourage accidental access to private members.\n",
        "- Directly accessing private attributes can lead to unexpected behavior and make your code less maintainable.\n",
        "- It's generally recommended to use public methods to access and modify the internal state of an object.\n",
        "\n",
        "**Best Practices:**\n",
        "\n",
        "- Use private attributes to encapsulate the internal state of a class.\n",
        "- Provide public methods to access and modify private attributes in a controlled manner.\n",
        "- Avoid directly accessing private attributes from outside a class unless absolutely necessary.\n"
      ],
      "metadata": {
        "id": "t6rG8Uyw7Bib"
      }
    },
    {
      "cell_type": "markdown",
      "source": [
        "11. Create a Python class hierarchy for a school system, including classes for students, teachers, and courses,\n",
        "and implement encapsulation principles to protect sensitive information."
      ],
      "metadata": {
        "id": "LlGowG5A7HOK"
      }
    },
    {
      "cell_type": "code",
      "source": [
        "class Person:\n",
        "    def __init__(self, name, email):\n",
        "        \"\"\"\n",
        "        Default constructor to initialize a person.\n",
        "\n",
        "        Args:\n",
        "            name (str): The person's name.\n",
        "            email (str): The person's email.\n",
        "        \"\"\"\n",
        "        self.__name = name  # Private attribute __name\n",
        "        self.__email = email  # Private attribute __email\n",
        "\n",
        "    def get_name(self):\n",
        "        \"\"\"\n",
        "        Method to get the person's name.\n",
        "\n",
        "        Returns:\n",
        "            str: The person's name.\n",
        "        \"\"\"\n",
        "        return self.__name\n",
        "\n",
        "    def get_email(self):\n",
        "        \"\"\"\n",
        "        Method to get the person's email.\n",
        "\n",
        "        Returns:\n",
        "            str: The person's email.\n",
        "        \"\"\"\n",
        "        return self.__email\n",
        "\n",
        "\n",
        "class Student(Person):\n",
        "    def __init__(self, name, email, student_id, gpa=0.0):\n",
        "        \"\"\"\n",
        "        Default constructor to initialize a student.\n",
        "\n",
        "        Args:\n",
        "            name (str): The student's name.\n",
        "            email (str): The student's email.\n",
        "            student_id (str): The student's ID.\n",
        "            gpa (float, optional): The student's GPA. Defaults to 0.0.\n",
        "        \"\"\"\n",
        "        super().__init__(name, email)\n",
        "        self.__student_id = student_id  # Private attribute __student_id\n",
        "        self.__gpa = gpa  # Private attribute __gpa\n",
        "        self.__courses = []  # Private attribute __courses\n",
        "\n",
        "    def get_student_id(self):\n",
        "        \"\"\"\n",
        "        Method to get the student's ID.\n",
        "\n",
        "        Returns:\n",
        "            str: The student's ID.\n",
        "        \"\"\"\n",
        "        return self.__student_id\n",
        "\n",
        "    def get_gpa(self):\n",
        "        \"\"\"\n",
        "        Method to get the student's GPA.\n",
        "\n",
        "        Returns:\n",
        "            float: The student's GPA.\n",
        "        \"\"\"\n",
        "        return self.__gpa\n",
        "\n",
        "    def add_course(self, course):\n",
        "        \"\"\"\n",
        "        Method to add a course to the student's schedule.\n",
        "\n",
        "        Args:\n",
        "            course (Course): The course to add.\n",
        "        \"\"\"\n",
        "        self.__courses.append(course)\n",
        "\n",
        "    def get_courses(self):\n",
        "        \"\"\"\n",
        "        Method to get the student's courses.\n",
        "\n",
        "        Returns:\n",
        "            list: A list of courses.\n",
        "        \"\"\"\n",
        "        return self.__courses\n",
        "\n",
        "\n",
        "class Teacher(Person):\n",
        "    def __init__(self, name, email, teacher_id):\n",
        "        \"\"\"\n",
        "        Default constructor to initialize a teacher.\n",
        "\n",
        "        Args:\n",
        "            name (str): The teacher's name.\n",
        "            email (str): The teacher's email.\n",
        "            teacher_id (str): The teacher's ID.\n",
        "        \"\"\"\n",
        "        super().__init__(name, email)\n",
        "        self.__teacher_id = teacher_id  # Private attribute __teacher_id\n",
        "        self.__courses = []  # Private attribute __courses\n",
        "\n",
        "    def get_teacher_id(self):\n",
        "        \"\"\"\n",
        "        Method to get the teacher's ID.\n",
        "\n",
        "        Returns:\n",
        "            str: The teacher's ID.\n",
        "        \"\"\"\n",
        "        return self.__teacher_id\n",
        "\n",
        "    def add_course(self, course):\n",
        "        \"\"\"\n",
        "        Method to add a course to the teacher's schedule.\n",
        "\n",
        "        Args:\n",
        "            course (Course): The course to add.\n",
        "        \"\"\"\n",
        "        self.__courses.append(course)\n",
        "\n",
        "    def get_courses(self):\n",
        "        \"\"\"\n",
        "        Method to get the teacher's courses.\n",
        "\n",
        "        Returns:\n",
        "            list: A list of courses.\n",
        "        \"\"\"\n",
        "        return self.__courses\n",
        "\n",
        "\n",
        "class Course:\n",
        "    def __init__(self, course_id, course_name, credits):\n",
        "        \"\"\"\n",
        "        Default constructor to initialize a course.\n",
        "\n",
        "        Args:\n",
        "            course_id (str): The course ID.\n",
        "            course_name (str): The course name.\n",
        "            credits (int): The course credits.\n",
        "        \"\"\"\n",
        "        self.__course_id = course_id  # Private attribute __course_id\n",
        "        self.__course_name = course_name  # Private attribute __course_name\n",
        "        self.__credits = credits  # Private attribute __credits\n",
        "\n",
        "    def get_course_id(self):\n",
        "        \"\"\"\n",
        "        Method to get the course ID.\n",
        "\n",
        "        Returns:\n",
        "            str: The course ID.\n",
        "        \"\"\"\n",
        "        return self.__course_id\n",
        "\n",
        "    def get_course_name(self):\n",
        "        \"\"\"\n",
        "        Method to get the course name.\n",
        "\n",
        "        Returns:\n",
        "            str: The course name.\n",
        "        \"\"\"\n",
        "        return self.__course_name\n",
        "\n",
        "    def get_credits(self):\n",
        "        \"\"\"\n",
        "        Method to get the course credits.\n",
        "\n",
        "        Returns:\n",
        "            int: The course credits.\n",
        "        \"\"\"\n",
        "        return self.__credits\n",
        "\n",
        "\n",
        "# Example usage:\n",
        "student = Student(\"John Doe\", \"johndoe@example.com\", \"S123456\")\n",
        "print(student.get_name())  # Output: John Doe\n",
        "print(student.get_email())  # Output: johndoe@example.com\n",
        "print(student.get_student_id())  # Output: S123456\n",
        "\n",
        "teacher = Teacher(\"Jane Smith\", \"janesmith@example.com\", \"T123456\")\n",
        "print(teacher.get_name())  #"
      ],
      "metadata": {
        "colab": {
          "base_uri": "https://localhost:8080/"
        },
        "id": "JepeU0AE6BQP",
        "outputId": "7c090f85-1241-4f47-fd95-24b27ee48ee3"
      },
      "execution_count": 21,
      "outputs": [
        {
          "output_type": "stream",
          "name": "stdout",
          "text": [
            "John Doe\n",
            "johndoe@example.com\n",
            "S123456\n",
            "Jane Smith\n"
          ]
        }
      ]
    },
    {
      "cell_type": "markdown",
      "source": [
        "12. Explain the concept of property decorators in Python and how they relate to encapsulation."
      ],
      "metadata": {
        "id": "Bu3ejExP7K0j"
      }
    },
    {
      "cell_type": "markdown",
      "source": [
        "Property decorators in Python provide a mechanism to define methods that can be accessed like attributes, facilitating a more controlled and encapsulated approach to managing an object's attributes. This concept is closely tied to the principle of encapsulation, which is fundamental in object-oriented programming (OOP). Encapsulation involves bundling data (attributes) and methods that operate on that data into a single unit or class, while restricting direct access to some of the object's components.\n",
        "\n",
        "### Property Decorators in Python\n",
        "\n",
        "Python provides three primary property decorators:\n",
        "\n",
        "1. **`@property`**: Used to define a getter method that allows you to access an attribute.\n",
        "2. **`@<property_name>.setter`**: Used to define a setter method that allows you to set or modify an attribute.\n",
        "3. **`@<property_name>.deleter`**: Used to define a deleter method that allows you to delete an attribute.\n",
        "\n",
        "### How Property Decorators Relate to Encapsulation\n",
        "\n",
        "1. **Control Over Attribute Access**:\n",
        "   - Property decorators allow you to control how attributes are accessed and modified. This ensures that attributes are only accessed or modified in the ways that you define, which is a core aspect of encapsulation.\n",
        "\n",
        "2. **Data Hiding and Abstraction**:\n",
        "   - By using property decorators, you can hide the internal implementation details of an attribute. For example, you can change the way an attribute is calculated or stored without changing the interface that external code uses to interact with that attribute.\n",
        "\n",
        "3. **Validation**:\n",
        "   - Setters allow you to add validation logic when setting an attribute's value, ensuring that the object remains in a valid state. This encapsulates the logic for maintaining data integrity within the class itself.\n",
        "\n",
        "4. **Read-Only or Write-Only Attributes**:\n",
        "   - By defining only a getter without a setter, you can create read-only attributes that can be accessed but not modified. Conversely, defining only a setter can create write-only attributes.\n",
        "\n",
        "### Example of Property Decorators\n",
        "\n",
        "```python\n",
        "class Rectangle:\n",
        "    def __init__(self, width, height):\n",
        "        self._width = width\n",
        "        self._height = height\n",
        "\n",
        "    # Getter for width\n",
        "    @property\n",
        "    def width(self):\n",
        "        return self._width\n",
        "\n",
        "    # Setter for width with validation\n",
        "    @width.setter\n",
        "    def width(self, value):\n",
        "        if value <= 0:\n",
        "            raise ValueError(\"Width must be positive.\")\n",
        "        self._width = value\n",
        "\n",
        "    # Getter for height\n",
        "    @property\n",
        "    def height(self):\n",
        "        return self._height\n",
        "\n",
        "    # Setter for height with validation\n",
        "    @height.setter\n",
        "    def height(self, value):\n",
        "        if value <= 0:\n",
        "            raise ValueError(\"Height must be positive.\")\n",
        "        self._height = value\n",
        "\n",
        "    # Read-only property for area\n",
        "    @property\n",
        "    def area(self):\n",
        "        return self._width * self._height\n",
        "\n",
        "# Usage\n",
        "rect = Rectangle(10, 5)\n",
        "print(rect.width)  # Outputs: 10\n",
        "print(rect.height)  # Outputs: 5\n",
        "print(rect.area)    # Outputs: 50\n",
        "\n",
        "rect.width = 15  # Valid update\n",
        "print(rect.area)  # Outputs: 75\n",
        "\n",
        "# rect.width = -5  # Raises ValueError: Width must be positive.\n",
        "# rect.area = 100  # Raises AttributeError: can't set attribute\n",
        "```\n",
        "\n",
        "### Explanation\n",
        "\n",
        "- **Encapsulation**:\n",
        "  - The `_width` and `_height` attributes are private (indicated by the leading underscore) and are not meant to be accessed directly from outside the class.\n",
        "  - The `width` and `height` properties are used to access these attributes. The setters ensure that only valid values can be assigned, protecting the integrity of the object.\n",
        "\n",
        "- **Abstraction**:\n",
        "  - The `area` property is a computed attribute that is derived from `width` and `height`. The user of the class doesn't need to know how the area is calculated; they just access it as if it were a regular attribute.\n",
        "\n",
        "- **Read-Only Property**:\n",
        "  - The `area` property is read-only because it only has a getter. This ensures that it cannot be accidentally modified.\n",
        "\n",
        "### Summary\n",
        "\n",
        "Property decorators in Python provide a way to encapsulate the access to an object's attributes, offering a controlled interface for getting, setting, and deleting attributes. They help maintain the integrity of the object's state by allowing you to add validation logic, hide internal implementation details, and enforce read-only or write-only access. This makes your code more robust, flexible, and easier to maintain, all while adhering to the principles of encapsulation in OOP."
      ],
      "metadata": {
        "id": "PZykS1ag8hFz"
      }
    },
    {
      "cell_type": "markdown",
      "source": [
        "13. What is data hiding, and why is it important in encapsulation? Provide examples."
      ],
      "metadata": {
        "id": "MV_mVPMo8a8G"
      }
    },
    {
      "cell_type": "markdown",
      "source": [
        "**Data Hiding** is a fundamental principle in object-oriented programming (OOP) that involves restricting direct access to an object's internal state. This helps to protect the data from unauthorized modification or misuse, ensuring the integrity and consistency of the object.\n",
        "\n",
        "**Why Data Hiding is Important:**\n",
        "\n",
        "- **Security:** By preventing direct access to an object's data, you can protect it from malicious actors who might try to manipulate or exploit it.\n",
        "- **Encapsulation:** Data hiding is a key component of encapsulation, which involves bundling data and the methods that operate on it into a single unit.\n",
        "- **Maintainability:** Encapsulating data makes code easier to maintain and modify, as changes to the internal implementation are less likely to affect other parts of the code.\n",
        "- **Flexibility:** Data hiding allows you to change the internal implementation of a class without affecting its external interface, providing flexibility and adaptability.\n",
        "\n",
        "**Examples:**\n",
        "\n",
        "1. **Bank Account:**\n",
        "   ```python\n",
        "   class BankAccount:\n",
        "       def __init__(self, balance):\n",
        "           self.__balance = balance\n",
        "\n",
        "       def deposit(self, amount):\n",
        "           self.__balance += amount\n",
        "\n",
        "       def withdraw(self, amount):\n",
        "           if amount <= self.__balance:\n",
        "               self.__balance -= amount\n",
        "           else:\n",
        "               print(\"Insufficient funds\")\n",
        "\n",
        "       def get_balance(self):\n",
        "           return self.__balance\n",
        "   ```\n",
        "   In this example, the `__balance` attribute is private, and access to it is controlled through the `deposit`, `withdraw`, and `get_balance` methods. This prevents direct modification of the balance and ensures that it's only updated through valid operations.\n",
        "\n",
        "2. **Employee Class:**\n",
        "   ```python\n",
        "   class Employee:\n",
        "       def __init__(self, name, salary):\n",
        "           self.__name = name\n",
        "           self.__salary = salary\n",
        "\n",
        "       def get_name(self):\n",
        "           return self.__name\n",
        "\n",
        "       def set_salary(self, salary):\n",
        "           if salary >= 0:\n",
        "               self.__salary = salary\n",
        "           else:\n",
        "               print(\"Salary cannot be negative\")\n",
        "   ```\n",
        "   In this example, the `__name` and `__salary` attributes are private, and access to them is controlled through the `get_name` and `set_salary` methods. This prevents unauthorized modification of the employee's information and ensures that the salary is always positive.\n"
      ],
      "metadata": {
        "id": "O1XfTito8kIE"
      }
    },
    {
      "cell_type": "markdown",
      "source": [
        "14. Create a Python class called `Employee` with private attributes for salary (`__salary`) and employee ID (`__employee_id`). Provide a method to calculate yearly bonuses."
      ],
      "metadata": {
        "id": "Oiwxdzdq82Yd"
      }
    },
    {
      "cell_type": "code",
      "source": [
        "class Employee:\n",
        "    def __init__(self, employee_id, salary):\n",
        "        \"\"\"\n",
        "        Default constructor to initialize an employee.\n",
        "\n",
        "        Args:\n",
        "            employee_id (str): The employee ID.\n",
        "            salary (float): The employee's salary.\n",
        "        \"\"\"\n",
        "        self.__employee_id = employee_id  # Private attribute __employee_id\n",
        "        self.__salary = salary  # Private attribute __salary\n",
        "\n",
        "    def get_employee_id(self):\n",
        "        \"\"\"\n",
        "        Method to get the employee ID.\n",
        "\n",
        "        Returns:\n",
        "            str: The employee ID.\n",
        "        \"\"\"\n",
        "        return self.__employee_id\n",
        "\n",
        "    def get_salary(self):\n",
        "        \"\"\"\n",
        "        Method to get the employee's salary.\n",
        "\n",
        "        Returns:\n",
        "            float: The employee's salary.\n",
        "        \"\"\"\n",
        "        return self.__salary\n",
        "\n",
        "    def calculate_yearly_bonus(self, bonus_percentage):\n",
        "        \"\"\"\n",
        "        Method to calculate the yearly bonus.\n",
        "\n",
        "        Args:\n",
        "            bonus_percentage (float): The bonus percentage.\n",
        "\n",
        "        Returns:\n",
        "            float: The yearly bonus.\n",
        "        \"\"\"\n",
        "        if bonus_percentage > 0:\n",
        "            bonus_amount = (bonus_percentage / 100) * self.__salary\n",
        "            return bonus_amount\n",
        "        else:\n",
        "            return 0\n",
        "\n",
        "\n",
        "# Example usage:\n",
        "employee = Employee(\"E123456\", 50000)\n",
        "print(employee.get_employee_id())  # Output: E123456\n",
        "print(employee.get_salary())  # Output: 50000.0\n",
        "\n",
        "bonus_percentage = 10\n",
        "yearly_bonus = employee.calculate_yearly_bonus(bonus_percentage)\n",
        "print(f\"Yearly bonus: ${yearly_bonus:.2f}\")  # Output: Yearly bonus: $5000.00"
      ],
      "metadata": {
        "colab": {
          "base_uri": "https://localhost:8080/"
        },
        "id": "epo32GXO7La2",
        "outputId": "e230b669-4cb9-4c95-b010-34a2ec528b51"
      },
      "execution_count": 22,
      "outputs": [
        {
          "output_type": "stream",
          "name": "stdout",
          "text": [
            "E123456\n",
            "50000\n",
            "Yearly bonus: $5000.00\n"
          ]
        }
      ]
    },
    {
      "cell_type": "markdown",
      "source": [
        "15. Discuss the use of accessors and mutators in encapsulation. How do they help maintain control over\n",
        "attribute access?"
      ],
      "metadata": {
        "id": "qNJvOsZz9GQi"
      }
    },
    {
      "cell_type": "markdown",
      "source": [
        "Accessors and mutators, commonly known as **getter** and **setter** methods, are integral to the concept of encapsulation in object-oriented programming (OOP). Encapsulation involves bundling the data (attributes) and methods that operate on the data within a single unit (a class), while controlling access to the internal state of the object.\n",
        "\n",
        "### Accessors (Getters) and Mutators (Setters)\n",
        "\n",
        "- **Accessor (Getter)**:\n",
        "  - An accessor, or getter, is a method that retrieves or \"gets\" the value of an attribute. It allows read-only access to the attribute, meaning that external code can view the value of the attribute but cannot modify it directly.\n",
        "  \n",
        "- **Mutator (Setter)**:\n",
        "  - A mutator, or setter, is a method that updates or \"sets\" the value of an attribute. It allows controlled modification of the attribute, often including validation logic to ensure that any changes made to the attribute are valid.\n",
        "\n",
        "### How Accessors and Mutators Support Encapsulation\n",
        "\n",
        "1. **Control Over Attribute Access**:\n",
        "   - By using accessors and mutators, you can control how attributes of a class are accessed and modified. This prevents external code from directly accessing or altering the internal state of an object, thus safeguarding the integrity of the object.\n",
        "\n",
        "2. **Validation**:\n",
        "   - Mutators (setters) provide a place to implement validation logic. For example, if an attribute should only accept positive numbers, the setter can enforce this rule. Without setters, external code could potentially set invalid values directly.\n",
        "\n",
        "3. **Abstraction**:\n",
        "   - Accessors and mutators allow you to hide the internal implementation details of an attribute. The attribute's internal representation can be changed without affecting how external code interacts with it, as long as the accessors and mutators remain consistent.\n",
        "\n",
        "4. **Read-Only and Write-Only Attributes**:\n",
        "   - Accessors (without corresponding mutators) can create read-only attributes, ensuring that external code can view the attribute's value but cannot change it.\n",
        "   - Mutators (without corresponding accessors) can create write-only attributes, where external code can set the value but cannot directly retrieve it.\n",
        "\n",
        "5. **Maintaining Object Integrity**:\n",
        "   - By centralizing the access and modification of attributes within accessors and mutators, you ensure that any changes to an object's state happen in a controlled and predictable manner. This reduces the risk of errors or inconsistencies in the object's state.\n",
        "\n",
        "### Example of Accessors and Mutators\n",
        "\n",
        "```python\n",
        "class Person:\n",
        "    def __init__(self, name, age):\n",
        "        self._name = name\n",
        "        self._age = age\n",
        "\n",
        "    # Accessor for name\n",
        "    @property\n",
        "    def name(self):\n",
        "        return self._name\n",
        "\n",
        "    # Mutator for name\n",
        "    @name.setter\n",
        "    def name(self, new_name):\n",
        "        if not new_name:\n",
        "            raise ValueError(\"Name cannot be empty.\")\n",
        "        self._name = new_name\n",
        "\n",
        "    # Accessor for age\n",
        "    @property\n",
        "    def age(self):\n",
        "        return self._age\n",
        "\n",
        "    # Mutator for age with validation\n",
        "    @age.setter\n",
        "    def age(self, new_age):\n",
        "        if new_age < 0:\n",
        "            raise ValueError(\"Age cannot be negative.\")\n",
        "        self._age = new_age\n",
        "\n",
        "# Usage\n",
        "person = Person(\"Alice\", 30)\n",
        "\n",
        "# Using accessors (getters)\n",
        "print(person.name)  # Outputs: Alice\n",
        "print(person.age)   # Outputs: 30\n",
        "\n",
        "# Using mutators (setters) with validation\n",
        "person.name = \"Bob\"  # Valid update\n",
        "person.age = 25      # Valid update\n",
        "\n",
        "# Invalid updates\n",
        "# person.age = -5  # Raises ValueError: Age cannot be negative.\n",
        "# person.name = \"\"  # Raises ValueError: Name cannot be empty.\n",
        "```\n",
        "\n",
        "### Explanation\n",
        "\n",
        "- **Controlled Access**:\n",
        "  - The `_name` and `_age` attributes are encapsulated within the `Person` class. Direct access to these attributes is prevented by convention (indicated by the leading underscore).\n",
        "  \n",
        "- **Getters (Accessors)**:\n",
        "  - The `name` and `age` properties provide read access to the `_name` and `_age` attributes, respectively.\n",
        "\n",
        "- **Setters (Mutators)**:\n",
        "  - The `name` and `age` setters allow controlled modification of the `_name` and `_age` attributes. They include validation logic to ensure that the attributes are set to valid values.\n",
        "\n",
        "### Benefits of Using Accessors and Mutators\n",
        "\n",
        "- **Data Integrity**:\n",
        "  - By using mutators with validation logic, you ensure that only valid data can be assigned to an attribute, thus maintaining the integrity of the object.\n",
        "\n",
        "- **Encapsulation**:\n",
        "  - Accessors and mutators keep the internal state of an object hidden from the outside world, exposing only what is necessary through controlled methods.\n",
        "\n",
        "- **Flexibility**:\n",
        "  - The internal implementation of an attribute can change without affecting external code, as long as the accessors and mutators remain consistent.\n",
        "\n",
        "- **Error Prevention**:\n",
        "  - By restricting direct access to attributes and enforcing rules through setters, you minimize the risk of bugs or unintended behavior caused by invalid data.\n",
        "\n",
        "### Summary\n",
        "\n",
        "Accessors (getters) and mutators (setters) are key tools in enforcing encapsulation in OOP. They help maintain control over how attributes of a class are accessed and modified, ensuring that an object's internal state remains consistent and valid. By using accessors and mutators, you can protect the internal data, enforce rules and constraints, and provide a clear and controlled interface for interacting with the object."
      ],
      "metadata": {
        "id": "Lv5D-IYz9K8s"
      }
    },
    {
      "cell_type": "markdown",
      "source": [
        "16. What are the potential drawbacks or disadvantages of using encapsulation in Python?"
      ],
      "metadata": {
        "id": "fZkb-aa49M8H"
      }
    },
    {
      "cell_type": "markdown",
      "source": [
        "**Potential Drawbacks of Encapsulation in Python**\n",
        "\n",
        "While encapsulation offers numerous benefits, there are also some potential drawbacks to consider:\n",
        "\n",
        "1. **Increased Complexity:** Encapsulating data and methods can sometimes make your code more complex, especially for smaller or simpler classes.\n",
        "2. **Performance Overhead:** In some cases, accessing encapsulated data through methods can introduce a slight performance overhead compared to directly accessing public attributes. However, this is usually negligible in modern programming environments.\n",
        "3. **Flexibility Limitations:** Encapsulation can sometimes limit flexibility, as it restricts direct access to an object's internal state. This can make it more difficult to modify or extend the object's behavior in certain scenarios.\n",
        "4. **Potential for Misuse:** Encapsulation doesn't guarantee complete security. Determined users can still find ways to bypass encapsulation and access private members, especially in complex systems.\n",
        "\n",
        "**Balancing the Trade-offs:**\n",
        "\n",
        "While these drawbacks exist, the benefits of encapsulation generally outweigh the costs in most cases. By carefully considering the trade-offs and using encapsulation judiciously, you can write more secure, maintainable, and flexible code.\n",
        "\n",
        "**Key Points:**\n",
        "\n",
        "- Encapsulation is a powerful tool, but it's essential to use it wisely.\n",
        "- Weigh the benefits against the potential drawbacks for your specific use case.\n",
        "- Consider the complexity of your code and the security requirements of your application.\n",
        "- Use encapsulation effectively to improve your code's quality and maintainability.\n"
      ],
      "metadata": {
        "id": "l_8yelMF9RVT"
      }
    },
    {
      "cell_type": "markdown",
      "source": [
        "17. Create a Python class for a library system that encapsulates book information, including titles, authors,\n",
        "and availability status."
      ],
      "metadata": {
        "id": "m0G8kcEc9UnR"
      }
    },
    {
      "cell_type": "code",
      "source": [
        "class Book:\n",
        "    def __init__(self, title, author, availability=True):\n",
        "        \"\"\"\n",
        "        Default constructor to initialize a book.\n",
        "\n",
        "        Args:\n",
        "            title (str): The book title.\n",
        "            author (str): The book author.\n",
        "            availability (bool, optional): The book availability status. Defaults to True.\n",
        "        \"\"\"\n",
        "        self.__title = title  # Private attribute __title\n",
        "        self.__author = author  # Private attribute __author\n",
        "        self.__availability = availability  # Private attribute __availability\n",
        "\n",
        "    def get_title(self):\n",
        "        \"\"\"\n",
        "        Method to get the book title.\n",
        "\n",
        "        Returns:\n",
        "            str: The book title.\n",
        "        \"\"\"\n",
        "        return self.__title\n",
        "\n",
        "    def get_author(self):\n",
        "        \"\"\"\n",
        "        Method to get the book author.\n",
        "\n",
        "        Returns:\n",
        "            str: The book author.\n",
        "        \"\"\"\n",
        "        return self.__author\n",
        "\n",
        "    def get_availability(self):\n",
        "        \"\"\"\n",
        "        Method to get the book availability status.\n",
        "\n",
        "        Returns:\n",
        "            bool: The book availability status.\n",
        "        \"\"\"\n",
        "        return self.__availability\n",
        "\n",
        "    def set_availability(self, availability):\n",
        "        \"\"\"\n",
        "        Method to set the book availability status.\n",
        "\n",
        "        Args:\n",
        "            availability (bool): The new availability status.\n",
        "        \"\"\"\n",
        "        self.__availability = availability\n",
        "\n",
        "    def __str__(self):\n",
        "        \"\"\"\n",
        "        Method to return a string representation of the book.\n",
        "\n",
        "        Returns:\n",
        "            str: A string representation of the book.\n",
        "        \"\"\"\n",
        "        availability_status = \"Available\" if self.__availability else \"Not Available\"\n",
        "        return f\"{self.__title} by {self.__author} - {availability_status}\"\n",
        "\n",
        "\n",
        "# Example usage:\n",
        "book1 = Book(\"To Kill a Mockingbird\", \"Harper Lee\")\n",
        "print(book1)  # Output: To Kill a Mockingbird by Harper Lee - Available\n",
        "\n",
        "book2 = Book(\"1984\", \"George Orwell\", False)\n",
        "print(book2)  # Output: 1984 by George Orwell - Not Available\n",
        "\n",
        "book1.set_availability(False)\n",
        "print(book1)  # Output: To Kill a Mockingbird by Harper Lee - Not Available"
      ],
      "metadata": {
        "colab": {
          "base_uri": "https://localhost:8080/"
        },
        "id": "43DP7e4A9Axq",
        "outputId": "b4e92dc6-4f73-4986-d389-103ae7e3e7a8"
      },
      "execution_count": 23,
      "outputs": [
        {
          "output_type": "stream",
          "name": "stdout",
          "text": [
            "To Kill a Mockingbird by Harper Lee - Available\n",
            "1984 by George Orwell - Not Available\n",
            "To Kill a Mockingbird by Harper Lee - Not Available\n"
          ]
        }
      ]
    },
    {
      "cell_type": "markdown",
      "source": [
        "18. Explain how encapsulation enhances code reusability and modularity in Python programs."
      ],
      "metadata": {
        "id": "vk4HQn6I9c0k"
      }
    },
    {
      "cell_type": "markdown",
      "source": [
        "**Encapsulation and Code Reusability and Modularity**\n",
        "\n",
        "Encapsulation, a fundamental principle in object-oriented programming (OOP), significantly enhances code reusability and modularity.\n",
        "\n",
        "**Code Reusability:**\n",
        "\n",
        "* **Self-Contained Units:** Encapsulated objects are self-contained units, meaning they can be reused in different parts of your code without worrying about their internal implementation. This reduces redundancy and promotes code reuse.\n",
        "* **Flexibility:** Encapsulation allows you to change the internal implementation of a class without affecting its external interface. This makes it easier to reuse the class in different contexts and adapt it to changing requirements.\n",
        "\n",
        "**Modularity:**\n",
        "\n",
        "* **Separation of Concerns:** Encapsulation separates the concerns of an object's behavior from its implementation details. This makes the code more modular and easier to understand and maintain.\n",
        "* **Component-Based Development:** Encapsulated objects can be treated as components that can be combined and reused in different ways to build more complex systems.\n",
        "* **Testability:** Encapsulation makes it easier to write unit tests for individual components of your code, as you can focus on testing the public interface without worrying about the internal implementation.\n",
        "\n",
        "**Example:**\n",
        "\n",
        "```python\n",
        "class Car:\n",
        "    def __init__(self, make, model):\n",
        "        self.__make = make\n",
        "        self.__model = model\n",
        "\n",
        "    def get_make(self):\n",
        "        return self.__make\n",
        "\n",
        "    def get_model(self):\n",
        "        return self.__model\n",
        "\n",
        "# Using the Car class in different parts of your code\n",
        "car1 = Car(\"Toyota\", \"Corolla\")\n",
        "car2 = Car(\"Honda\", \"Civic\")\n",
        "\n",
        "# Access car information\n",
        "print(car1.get_make())\n",
        "print(car2.get_model())\n",
        "```\n",
        "\n",
        "In this example, the `Car` class is encapsulated, providing a clear interface for interacting with car objects. This makes it reusable in different parts of your code, promoting modularity and reducing redundancy.\n",
        "\n",
        "**In summary, encapsulation enhances code reusability and modularity by:**\n",
        "\n",
        "- Creating self-contained units that can be reused in different contexts.\n",
        "- Separating concerns and making code easier to understand and maintain.\n",
        "- Promoting component-based development.\n",
        "- Improving code testability.\n"
      ],
      "metadata": {
        "id": "HXja0bpf9em_"
      }
    },
    {
      "cell_type": "markdown",
      "source": [
        "19. Describe the concept of information hiding in encapsulation. Why is it essential in software development?"
      ],
      "metadata": {
        "id": "VDTShouc9quK"
      }
    },
    {
      "cell_type": "markdown",
      "source": [
        "Information hiding is a fundamental concept in encapsulation that involves concealing the internal details of an object's implementation from the outside world. The primary goal of information hiding is to protect an object's internal state and implementation details from being accessed or modified directly by external code. Instead, interactions with the object are mediated through a well-defined interface.\n",
        "\n",
        "### Concept of Information Hiding\n",
        "\n",
        "1. **Internal State Concealment**:\n",
        "   - Information hiding ensures that the internal attributes and methods of an object are not exposed to external code. This is achieved by using access controls such as private or protected attributes and methods.\n",
        "\n",
        "2. **Public Interface**:\n",
        "   - The object provides a public interface, usually through public methods or properties, which external code uses to interact with the object. This interface is carefully designed to expose only the necessary functionalities while hiding the complexities of the internal implementation.\n",
        "\n",
        "3. **Controlled Access**:\n",
        "   - Access to the internal state is controlled via getter and setter methods (accessors and mutators). This allows you to enforce rules and validation when accessing or modifying the internal state.\n",
        "\n",
        "4. **Abstraction**:\n",
        "   - Information hiding supports abstraction by allowing you to define what an object does without specifying how it does it. This abstraction simplifies the interaction with the object, as users of the object do not need to understand its internal workings.\n",
        "\n",
        "### Importance of Information Hiding in Software Development\n",
        "\n",
        "1. **Reduced Complexity**:\n",
        "   - By hiding implementation details, you reduce the complexity of interacting with an object. Users of the object only need to understand the public interface, making the object easier to use and understand.\n",
        "\n",
        "2. **Enhanced Maintainability**:\n",
        "   - Information hiding allows you to change the internal implementation of a class without affecting the external code that relies on it. This means you can make improvements or fixes to the internal logic without risking breakages in other parts of the system.\n",
        "\n",
        "3. **Improved Security**:\n",
        "   - Hiding internal data helps protect the integrity and security of the object's state. External code cannot directly modify or access sensitive data, reducing the risk of unintended modifications or security vulnerabilities.\n",
        "\n",
        "4. **Encapsulation and Modularity**:\n",
        "   - Information hiding is a key aspect of encapsulation and modularity. It helps in creating self-contained modules with well-defined interfaces, which can be developed, tested, and debugged independently. This modular approach contributes to a more organized and maintainable codebase.\n",
        "\n",
        "5. **Ease of Refactoring**:\n",
        "   - With information hiding, you can refactor the internal implementation of a class without impacting the classes or modules that use it. This flexibility is essential for evolving software and improving code quality over time.\n",
        "\n",
        "6. **Reduced Coupling**:\n",
        "   - Information hiding reduces the coupling between different parts of a system. By exposing only what is necessary through a public interface, you minimize the dependencies between components, making it easier to manage and evolve the system.\n",
        "\n",
        "### Example of Information Hiding\n",
        "\n",
        "```python\n",
        "class BankAccount:\n",
        "    def __init__(self, account_number, balance=0):\n",
        "        self._account_number = account_number\n",
        "        self._balance = balance\n",
        "\n",
        "    # Public method to deposit money\n",
        "    def deposit(self, amount):\n",
        "        if amount > 0:\n",
        "            self._balance += amount\n",
        "        else:\n",
        "            raise ValueError(\"Deposit amount must be positive.\")\n",
        "\n",
        "    # Public method to withdraw money\n",
        "    def withdraw(self, amount):\n",
        "        if 0 < amount <= self._balance:\n",
        "            self._balance -= amount\n",
        "        else:\n",
        "            raise ValueError(\"Invalid withdrawal amount.\")\n",
        "\n",
        "    # Public method to get the current balance\n",
        "    def get_balance(self):\n",
        "        return self._balance\n",
        "\n",
        "# Usage\n",
        "account = BankAccount(\"123456\", 1000)\n",
        "print(account.get_balance())  # Outputs: 1000\n",
        "account.deposit(500)\n",
        "print(account.get_balance())  # Outputs: 1500\n",
        "account.withdraw(200)\n",
        "print(account.get_balance())  # Outputs: 1300\n",
        "\n",
        "# Direct access to internal state is not allowed\n",
        "# print(account._balance)  # Should be avoided\n",
        "```\n",
        "\n",
        "### Explanation\n",
        "\n",
        "- **Internal State Concealment**:\n",
        "  - The `_balance` attribute is private (by convention) and is not directly accessible from outside the class. The underscore indicates that it is intended for internal use only.\n",
        "\n",
        "- **Public Interface**:\n",
        "  - The `deposit`, `withdraw`, and `get_balance` methods provide a controlled way to interact with the `BankAccount` object. External code interacts with these methods without needing to know the details of how the balance is managed internally.\n",
        "\n",
        "- **Controlled Access**:\n",
        "  - The `deposit` and `withdraw` methods include validation to ensure that only valid operations are performed on the balance. This helps maintain the integrity of the object’s state.\n",
        "\n",
        "### Summary\n",
        "\n",
        "Information hiding in encapsulation is crucial for managing complexity, ensuring security, and maintaining the integrity of an object's internal state. By concealing implementation details and providing a controlled public interface, information hiding simplifies the use of objects, enhances maintainability, and supports modular and secure software design. It allows developers to make changes to an object's internal workings without affecting the broader system, leading to more robust and flexible software."
      ],
      "metadata": {
        "id": "68KFKNoZ-Atv"
      }
    },
    {
      "cell_type": "markdown",
      "source": [
        "20. Create a Python class called `Customer` with private attributes for customer details like name, address,\n",
        "and contact information. Implement encapsulation to ensure data integrity and security."
      ],
      "metadata": {
        "id": "J-ANqKH9-BC3"
      }
    },
    {
      "cell_type": "code",
      "source": [
        "class Customer:\n",
        "    def __init__(self, name, address, contact_number, email):\n",
        "        \"\"\"\n",
        "        Default constructor to initialize a customer.\n",
        "\n",
        "        Args:\n",
        "            name (str): The customer's name.\n",
        "            address (str): The customer's address.\n",
        "            contact_number (str): The customer's contact number.\n",
        "            email (str): The customer's email.\n",
        "        \"\"\"\n",
        "        self.__name = name  # Private attribute __name\n",
        "        self.__address = address  # Private attribute __address\n",
        "        self.__contact_number = contact_number  # Private attribute __contact_number\n",
        "        self.__email = email  # Private attribute __email\n",
        "\n",
        "    def get_name(self):\n",
        "        \"\"\"\n",
        "        Method to get the customer's name.\n",
        "\n",
        "        Returns:\n",
        "            str: The customer's name.\n",
        "        \"\"\"\n",
        "        return self.__name\n",
        "\n",
        "    def get_address(self):\n",
        "        \"\"\"\n",
        "        Method to get the customer's address.\n",
        "\n",
        "        Returns:\n",
        "            str: The customer's address.\n",
        "        \"\"\"\n",
        "        return self.__address\n",
        "\n",
        "    def get_contact_number(self):\n",
        "        \"\"\"\n",
        "        Method to get the customer's contact number.\n",
        "\n",
        "        Returns:\n",
        "            str: The customer's contact number.\n",
        "        \"\"\"\n",
        "        return self.__contact_number\n",
        "\n",
        "    def get_email(self):\n",
        "        \"\"\"\n",
        "        Method to get the customer's email.\n",
        "\n",
        "        Returns:\n",
        "            str: The customer's email.\n",
        "        \"\"\"\n",
        "        return self.__email\n",
        "\n",
        "    def set_name(self, name):\n",
        "        \"\"\"\n",
        "        Method to set the customer's name.\n",
        "\n",
        "        Args:\n",
        "            name (str): The new customer name.\n",
        "        \"\"\"\n",
        "        self.__name = name\n",
        "\n",
        "    def set_address(self, address):\n",
        "        \"\"\"\n",
        "        Method to set the customer's address.\n",
        "\n",
        "        Args:\n",
        "            address (str): The new customer address.\n",
        "        \"\"\"\n",
        "        self.__address = address\n",
        "\n",
        "    def set_contact_number(self, contact_number):\n",
        "        \"\"\"\n",
        "        Method to set the customer's contact number.\n",
        "\n",
        "        Args:\n",
        "            contact_number (str): The new customer contact number.\n",
        "        \"\"\"\n",
        "        self.__contact_number = contact_number\n",
        "\n",
        "    def set_email(self, email):\n",
        "        \"\"\"\n",
        "        Method to set the customer's email.\n",
        "\n",
        "        Args:\n",
        "            email (str): The new customer email.\n",
        "        \"\"\"\n",
        "        self.__email = email\n",
        "\n",
        "    def __str__(self):\n",
        "        \"\"\"\n",
        "        Method to return a string representation of the customer.\n",
        "\n",
        "        Returns:\n",
        "            str: A string representation of the customer.\n",
        "        \"\"\"\n",
        "        return f\"Name: {self.__name}, Address: {self.__address}, Contact Number: {self.__contact_number}, Email: {self.__email}\"\n",
        "\n",
        "\n",
        "# Example usage:\n",
        "customer = Customer(\"John Doe\", \"123 Main St\", \"123-456-7890\", \"johndoe@example.com\")\n",
        "print(customer)  # Output: Name: John Doe, Address: 123 Main St, Contact Number: 123-456-7890, Email: johndoe@example.com\n",
        "\n",
        "customer.set_address(\"456 Elm St\")\n",
        "print(customer)  # Output: Name: John Doe, Address: 456 Elm St, Contact Number: 123-456-7890, Email: johndoe@example.com"
      ],
      "metadata": {
        "colab": {
          "base_uri": "https://localhost:8080/"
        },
        "id": "AKA-0WdY9drp",
        "outputId": "f12d717d-7695-4daa-8355-bae5c57e205d"
      },
      "execution_count": 24,
      "outputs": [
        {
          "output_type": "stream",
          "name": "stdout",
          "text": [
            "Name: John Doe, Address: 123 Main St, Contact Number: 123-456-7890, Email: johndoe@example.com\n",
            "Name: John Doe, Address: 456 Elm St, Contact Number: 123-456-7890, Email: johndoe@example.com\n"
          ]
        }
      ]
    },
    {
      "cell_type": "markdown",
      "source": [
        "**Polymorphism:**"
      ],
      "metadata": {
        "id": "WbCOV908-YLf"
      }
    },
    {
      "cell_type": "markdown",
      "source": [
        "1. What is polymorphism in Python? Explain how it is related to object-oriented programming."
      ],
      "metadata": {
        "id": "0JSK9NcV-cJ3"
      }
    },
    {
      "cell_type": "markdown",
      "source": [
        "**Polymorphism** is a fundamental concept in object-oriented programming (OOP) that allows objects of different classes to be treated as if they were objects of the same class. It promotes flexibility, code reusability, and dynamic behavior in your programs.\n",
        "\n",
        "**Key Aspects of Polymorphism:**\n",
        "\n",
        "- **Method Overriding:** When a subclass defines a method with the same name as a method in its parent class, it's called method overriding. This allows objects of different classes to respond differently to the same method call.\n",
        "- **Duck Typing:** Python uses duck typing, which means that the type of an object is determined by its behavior rather than its explicit class. If an object has the necessary methods and attributes, it can be treated as if it were an instance of that class.\n",
        "\n",
        "**Significance of Polymorphism:**\n",
        "\n",
        "- **Flexibility:** Polymorphism allows you to write more flexible and adaptable code. You can treat objects of different classes in a uniform way, making your code easier to maintain and extend.\n",
        "- **Code Reusability:** Polymorphism promotes code reusability by allowing you to write generic functions or methods that can work with objects of different types.\n",
        "- **Dynamic Behavior:** Polymorphism enables dynamic behavior at runtime, as the actual method to be called is determined based on the object's type at the time of the call.\n",
        "\n",
        "**Example:**\n",
        "\n",
        "```python\n",
        "class Animal:\n",
        "    def make_sound(self):\n",
        "        print(\"Generic animal sound\")\n",
        "\n",
        "class Dog(Animal):\n",
        "    def make_sound(self):\n",
        "        print(\"Woof!\")\n",
        "\n",
        "class Cat(Animal):\n",
        "    def make_sound(self):\n",
        "        print(\"Meow!\")\n",
        "\n",
        "def animal_sounds(animals):\n",
        "    for animal in animals:\n",
        "        animal.make_sound()\n",
        "\n",
        "animals = [Dog(), Cat(), Animal()]\n",
        "animal_sounds(animals)\n",
        "```\n",
        "\n",
        "In this example:\n",
        "\n",
        "- The `Animal` class defines a `make_sound` method.\n",
        "- The `Dog` and `Cat` classes override the `make_sound` method to provide their own specific implementations.\n",
        "- The `animal_sounds` function can take a list of any `Animal` objects, and it will call the appropriate `make_sound` method for each object.\n",
        "\n",
        "This demonstrates polymorphism, as objects of different classes (Dog, Cat, and Animal) are treated as if they were objects of the same class (Animal) within the `animal_sounds` function.\n"
      ],
      "metadata": {
        "id": "CaAJD6Bx-jsa"
      }
    },
    {
      "cell_type": "markdown",
      "source": [
        "2. Describe the difference between compile-time polymorphism and runtime polymorphism in Python."
      ],
      "metadata": {
        "id": "MkxecbJV-kZQ"
      }
    },
    {
      "cell_type": "markdown",
      "source": [
        "In object-oriented programming, polymorphism allows objects of different classes to be treated as objects of a common superclass, particularly through methods that can operate on these objects in a generalized way. In Python, polymorphism can be categorized into two types: **compile-time polymorphism** and **runtime polymorphism**. Although Python is dynamically typed and does not have traditional compile-time polymorphism as seen in statically typed languages, understanding the concepts can be useful in appreciating how polymorphism works in different programming contexts.\n",
        "\n",
        "### Compile-Time Polymorphism\n",
        "\n",
        "**Compile-time polymorphism** (also known as static polymorphism) occurs when the method or function to be invoked is determined at compile time. This type of polymorphism is common in statically typed languages such as C++ and Java. It is typically achieved through method overloading or function overloading, where multiple methods or functions have the same name but different parameter lists.\n",
        "\n",
        "In statically typed languages:\n",
        "- **Method Overloading**: Multiple methods with the same name but different parameter types or counts.\n",
        "- **Function Overloading**: Similar concept applied to functions outside of classes.\n",
        "\n",
        "**In Python**:\n",
        "- Python does not support method or function overloading in the traditional sense. Instead, Python relies on dynamic typing and uses default arguments or variable-length arguments to handle different scenarios.\n",
        "\n",
        "### Example in Python (using default arguments):\n",
        "\n",
        "```python\n",
        "class MathOperations:\n",
        "    def add(self, a, b, c=0):\n",
        "        return a + b + c\n",
        "\n",
        "# Usage\n",
        "math_op = MathOperations()\n",
        "print(math_op.add(5, 10))       # Outputs: 15 (c defaults to 0)\n",
        "print(math_op.add(5, 10, 15))   # Outputs: 30\n",
        "```\n",
        "\n",
        "### Runtime Polymorphism\n",
        "\n",
        "**Runtime polymorphism** (also known as dynamic polymorphism) occurs when the method to be invoked is determined at runtime. This type of polymorphism is achieved through method overriding and is a hallmark of object-oriented programming. It allows a subclass to provide a specific implementation of a method that is already defined in its superclass.\n",
        "\n",
        "In Python, runtime polymorphism is commonly implemented through method overriding and is facilitated by the dynamic nature of the language.\n",
        "\n",
        "### Example of Runtime Polymorphism in Python:\n",
        "\n",
        "```python\n",
        "class Animal:\n",
        "    def speak(self):\n",
        "        return \"Animal speaks\"\n",
        "\n",
        "class Dog(Animal):\n",
        "    def speak(self):\n",
        "        return \"Dog barks\"\n",
        "\n",
        "class Cat(Animal):\n",
        "    def speak(self):\n",
        "        return \"Cat meows\"\n",
        "\n",
        "# Usage\n",
        "animals = [Dog(), Cat(), Animal()]\n",
        "\n",
        "for animal in animals:\n",
        "    print(animal.speak())\n",
        "```\n",
        "\n",
        "**Explanation**:\n",
        "- **Superclass `Animal`**: Defines a method `speak()`.\n",
        "- **Subclasses `Dog` and `Cat`**: Override the `speak()` method with their specific implementations.\n",
        "- **Runtime Polymorphism**: When iterating through the list of `animals`, each object calls its own version of `speak()` at runtime. The method that gets executed depends on the actual type of the object, not the type of reference.\n",
        "\n",
        "### Key Differences\n",
        "\n",
        "1. **Time of Determination**:\n",
        "   - **Compile-Time Polymorphism**: Determined at compile time (e.g., method overloading in statically typed languages).\n",
        "   - **Runtime Polymorphism**: Determined at runtime (e.g., method overriding in Python).\n",
        "\n",
        "2. **Method Resolution**:\n",
        "   - **Compile-Time Polymorphism**: The method or function is resolved based on the method signatures at compile time.\n",
        "   - **Runtime Polymorphism**: The method that is invoked is resolved based on the object's actual type at runtime.\n",
        "\n",
        "3. **Implementation**:\n",
        "   - **Compile-Time Polymorphism**: Often achieved using method overloading or function overloading.\n",
        "   - **Runtime Polymorphism**: Achieved using method overriding, where a subclass provides a specific implementation for a method defined in its superclass.\n",
        "\n",
        "4. **Language Support**:\n",
        "   - **Compile-Time Polymorphism**: Supported by statically typed languages like C++ and Java.\n",
        "   - **Runtime Polymorphism**: Supported by dynamically typed languages like Python, where method overriding is common.\n",
        "\n",
        "### Summary\n",
        "\n",
        "In summary, compile-time polymorphism involves method resolution during compile time, often through method or function overloading, and is more relevant in statically typed languages. Runtime polymorphism involves method resolution during runtime through method overriding and is a core feature in dynamically typed languages like Python. Understanding both types of polymorphism provides a comprehensive view of how polymorphism can be implemented and utilized across different programming paradigms."
      ],
      "metadata": {
        "id": "rkjblv_q-uA4"
      }
    },
    {
      "cell_type": "markdown",
      "source": [
        "3. Create a Python class hierarchy for shapes (e.g., circle, square, triangle) and demonstrate polymorphism\n",
        "through a common method, such as `calculate_area()`."
      ],
      "metadata": {
        "id": "LL0iueV5-_Z8"
      }
    },
    {
      "cell_type": "markdown",
      "source": [
        "from math import pi\n",
        "\n",
        "class Shape:\n",
        "    def __init__(self):\n",
        "        pass\n",
        "\n",
        "    def calculate_area(self):\n",
        "        raise NotImplementedError(\"Subclasses must implement calculate_area() method\")\n",
        "\n",
        "class Circle(Shape):\n",
        "    def __init__(self, radius):\n",
        "        self.__radius = radius\n",
        "\n",
        "    def calculate_area(self):\n",
        "        return pi * (self.__radius ** 2)\n",
        "\n",
        "class Square(Shape):\n",
        "    def __init__(self, side):\n",
        "        self.__side = side\n",
        "\n",
        "    def calculate_area(self):\n",
        "        return self.__side ** 2\n",
        "\n",
        "class Triangle(Shape):\n",
        "    def __init__(self, base, height):\n",
        "        self.__base = base\n",
        "        self.__height = height\n",
        "\n",
        "    def calculate_area(self):\n",
        "        return 0.5 * self.__base * self.__height\n",
        "\n",
        "# Example usage:\n",
        "shapes = [\n",
        "    Circle(5),\n",
        "    Square(4),\n",
        "    Triangle(3, 4)\n",
        "]\n",
        "\n",
        "for shape in shapes:\n",
        "    print(f\"Area of {type(shape).__name__}: {shape.calculate_area()}\")"
      ],
      "metadata": {
        "id": "j17eE91a_G_k"
      }
    },
    {
      "cell_type": "markdown",
      "source": [
        "4. Explain the concept of method overriding in polymorphism. Provide an example."
      ],
      "metadata": {
        "id": "rt47jjwO_HoW"
      }
    },
    {
      "cell_type": "markdown",
      "source": [
        "**Method overriding** is a fundamental concept in object-oriented programming that allows a subclass to provide a specific implementation for a method that is already defined in its parent class. This enables you to customize the behavior of inherited methods without affecting the parent class's code.\n",
        "\n",
        "**Key points about method overriding:**\n",
        "\n",
        "- The overridden method in the subclass must have the same name, parameters, and return type as the method in the parent class.\n",
        "- The subclass's implementation of the method replaces the parent class's implementation when the method is called on an object of the subclass.\n",
        "- Method overriding is a key component of polymorphism, allowing objects of different classes to be treated as if they were objects of the same class.\n",
        "\n",
        "**Example:**\n",
        "\n",
        "```python\n",
        "class Animal:\n",
        "    def make_sound(self):\n",
        "        print(\"Generic animal sound\")\n",
        "\n",
        "class Dog(Animal):\n",
        "    def make_sound(self):\n",
        "        print(\"Woof!\")\n",
        "\n",
        "class Cat(Animal):\n",
        "    def make_sound(self):\n",
        "        print(\"Meow!\")\n",
        "```\n",
        "\n",
        "In this example, both the `Dog` and `Cat` classes override the `make_sound` method inherited from the `Animal` class. This allows them to provide their own specific implementations for the `make_sound` behavior.\n",
        "\n",
        "When you call the `make_sound` method on a `Dog` object, the `Dog` class's implementation will be executed. Similarly, when you call the `make_sound` method on a `Cat` object, the `Cat` class's implementation will be executed.\n",
        "\n",
        "**Benefits of method overriding:**\n",
        "\n",
        "- **Polymorphism:** Method overriding is essential for achieving polymorphism, which allows objects of different classes to be treated as if they were objects of the same class.\n",
        "- **Customization:** It allows you to customize the behavior of inherited methods to fit the specific needs of a subclass.\n",
        "- **Code reusability:** Method overriding can be used to reuse the basic functionality of a parent class while providing specialized implementations in derived classes.\n"
      ],
      "metadata": {
        "id": "t5E6JLUG_R_T"
      }
    },
    {
      "cell_type": "markdown",
      "source": [
        "5. How is polymorphism different from method overloading in Python? Provide examples for both."
      ],
      "metadata": {
        "id": "n8vaPsLv_T6P"
      }
    },
    {
      "cell_type": "markdown",
      "source": [
        "**Polymorphism vs. Method Overloading in Python**\n",
        "\n",
        "While both polymorphism and method overloading involve the ability to call methods with the same name, they have distinct characteristics and purposes:\n",
        "\n",
        "**Polymorphism:**\n",
        "\n",
        "- **Definition:** The ability of objects of different classes to be treated as if they were objects of the same class.\n",
        "- **Mechanism:** Achieved through method overriding, where a subclass provides its own implementation for a method inherited from the parent class.\n",
        "- **Key Points:**\n",
        "  - Involves different classes with the same method name.\n",
        "  - The method called is determined dynamically based on the object's type at runtime.\n",
        "  - Often used to create generic functions that can work with objects of different types.\n",
        "\n",
        "**Example:**\n",
        "\n",
        "```python\n",
        "class Animal:\n",
        "    def make_sound(self):\n",
        "        print(\"Generic animal sound\")\n",
        "\n",
        "class Dog(Animal):\n",
        "    def make_sound(self):\n",
        "        print(\"Woof!\")\n",
        "\n",
        "class Cat(Animal):\n",
        "    def make_sound(self):\n",
        "        print(\"Meow!\")\n",
        "\n",
        "def animal_sounds(animals):\n",
        "    for animal in animals:\n",
        "        animal.make_sound()\n",
        "```\n",
        "\n",
        "**Method Overloading:**\n",
        "\n",
        "- **Definition:** The ability to define multiple methods with the same name but different parameters within a class.\n",
        "- **Mechanism:** Achieved using default arguments, variable-length arguments, or keyword arguments.\n",
        "- **Key Points:**\n",
        "  - Involves multiple methods within the same class with the same name.\n",
        "  - The method called is determined based on the number and types of arguments passed to it.\n",
        "  - Often used to create more flexible and reusable methods.\n",
        "\n",
        "**Example:**\n",
        "\n",
        "```python\n",
        "class Calculator:\n",
        "    def add(self, x, y=0):\n",
        "        return x + y\n",
        "```\n",
        "\n",
        "**Key Differences:**\n",
        "\n",
        "| Feature | Polymorphism | Method Overloading |\n",
        "|---|---|---|\n",
        "| Classes involved | Different classes | Same class |\n",
        "| Mechanism | Method overriding | Default arguments, variable-length arguments |\n",
        "| Purpose | Treating objects of different classes as if they were the same | Creating methods that can handle different input arguments |\n",
        "\n",
        "In summary, polymorphism involves different classes with the same method name, while method overloading involves multiple methods within the same class with the same name. Polymorphism is often used to achieve dynamic behavior and code reusability, while method overloading is used to create more flexible and reusable methods.\n"
      ],
      "metadata": {
        "id": "9WPFOS2g_YNo"
      }
    },
    {
      "cell_type": "markdown",
      "source": [
        "6. Create a Python class called `Animal` with a method `speak()`. Then, create child classes like `Dog`, `Cat`, and `Bird`, each with their own `speak()` method. Demonstrate polymorphism by calling the `speak()` method\n",
        "on objects of different subclasses."
      ],
      "metadata": {
        "id": "U0zy6lLb_bja"
      }
    },
    {
      "cell_type": "code",
      "source": [
        "class Animal:\n",
        "    def __init__(self, name):\n",
        "        self.__name = name\n",
        "\n",
        "    def speak(self):\n",
        "        raise NotImplementedError(\"Subclasses must implement speak() method\")\n",
        "\n",
        "class Dog(Animal):\n",
        "    def speak(self):\n",
        "        return f\"{self._Animal__name} says: Woof!\"\n",
        "\n",
        "class Cat(Animal):\n",
        "    def speak(self):\n",
        "        return f\"{self._Animal__name} says: Meow!\"\n",
        "\n",
        "class Bird(Animal):\n",
        "    def speak(self):\n",
        "        return f\"{self._Animal__name} says: Chirp!\"\n",
        "\n",
        "# Example usage:\n",
        "animals = [\n",
        "    Dog(\"Fido\"),\n",
        "    Cat(\"Whiskers\"),\n",
        "    Bird(\"Tweety\")\n",
        "]\n",
        "\n",
        "for animal in animals:\n",
        "    print(animal.speak())\n"
      ],
      "metadata": {
        "colab": {
          "base_uri": "https://localhost:8080/"
        },
        "id": "OvbsIzdm-Oot",
        "outputId": "70a47147-3cdf-421f-c25d-652fee18faa1"
      },
      "execution_count": 25,
      "outputs": [
        {
          "output_type": "stream",
          "name": "stdout",
          "text": [
            "Fido says: Woof!\n",
            "Whiskers says: Meow!\n",
            "Tweety says: Chirp!\n"
          ]
        }
      ]
    },
    {
      "cell_type": "markdown",
      "source": [
        "7. Discuss the use of abstract methods and classes in achieving polymorphism in Python. Provide an example\n",
        "using the `abc` module."
      ],
      "metadata": {
        "id": "BsE7oSMs_pWh"
      }
    },
    {
      "cell_type": "markdown",
      "source": [
        "**Abstract Methods and Classes in Python**\n",
        "\n",
        "Abstract methods and classes are powerful tools in Python for achieving polymorphism and defining a common interface for related classes.\n",
        "\n",
        "**Abstract Methods:**\n",
        "\n",
        "- **Definition:** Methods declared using the `@abstractmethod` decorator are abstract methods. They don't have a body and must be implemented by derived classes.\n",
        "- **Purpose:** Enforces a common interface for derived classes, ensuring that they implement the necessary methods.\n",
        "- **Example:**\n",
        "\n",
        "```python\n",
        "from abc import ABC, abstractmethod\n",
        "\n",
        "class Shape(ABC):\n",
        "    @abstractmethod\n",
        "    def area(self):\n",
        "        pass\n",
        "```\n",
        "\n",
        "**Abstract Classes:**\n",
        "\n",
        "- **Definition:** Classes that contain at least one abstract method are abstract classes.\n",
        "- **Purpose:** Define a common interface for a group of related classes and prevent direct instantiation of the abstract class itself.\n",
        "\n",
        "**Achieving Polymorphism with Abstract Methods and Classes:**\n",
        "\n",
        "- **Define a common interface:** Create an abstract base class with abstract methods that define the common behavior for derived classes.\n",
        "- **Implement the interface:** Derived classes must implement all abstract methods defined in the base class.\n",
        "- **Treat objects as the same type:** Objects of derived classes can be treated as if they were objects of the base class, allowing for polymorphic behavior.\n",
        "\n",
        "**Example:**\n",
        "\n",
        "```python\n",
        "from abc import ABC, abstractmethod\n",
        "\n",
        "class Shape(ABC):\n",
        "    @abstractmethod\n",
        "    def area(self):\n",
        "        pass\n",
        "\n",
        "class Rectangle(Shape):\n",
        "    def __init__(self, width, height):\n",
        "        self.width = width\n",
        "        self.height = height\n",
        "\n",
        "    def area(self):\n",
        "        return self.width * self.height\n",
        "\n",
        "class Circle(Shape):\n",
        "    def __init__(self, radius):\n",
        "        self.radius = radius\n",
        "\n",
        "    def area(self):\n",
        "        return 3.14159 * self.radius * self.radius\n",
        "\n",
        "# Create instances of Rectangle and Circle\n",
        "rectangle = Rectangle(4, 3)\n",
        "circle = Circle(5)\n",
        "\n",
        "# Calculate areas using the common interface\n",
        "print(rectangle.area())  # Output: 12\n",
        "print(circle.area())  # Output: 78.53975\n",
        "```\n",
        "\n",
        "In this example:\n",
        "\n",
        "- The `Shape` class is an abstract base class that defines the `area` method as abstract.\n",
        "- The `Rectangle` and `Circle` classes implement the `area` method to calculate their respective areas.\n",
        "- The `animal_sounds` function can treat `Rectangle` and `Circle` objects as if they were objects of the same type (Shape), demonstrating polymorphism.\n",
        "\n",
        "**Benefits of Using Abstract Methods and Classes:**\n",
        "\n",
        "- Enforces a common interface for related classes.\n",
        "- Promotes code reusability and maintainability.\n",
        "- Improves code readability and understanding.\n",
        "- Facilitates polymorphism and dynamic behavior.\n",
        "\n"
      ],
      "metadata": {
        "id": "KcXD5VRE_tBv"
      }
    },
    {
      "cell_type": "markdown",
      "source": [
        "8. Create a Python class hierarchy for a vehicle system (e.g., car, bicycle, boat) and implement a polymorphic `start()` method that prints a message specific to each vehicle type."
      ],
      "metadata": {
        "id": "sswdVkZz_-sB"
      }
    },
    {
      "cell_type": "code",
      "source": [
        "class Vehicle:\n",
        "    def __init__(self, name):\n",
        "        self.__name = name\n",
        "\n",
        "    def start(self):\n",
        "        raise NotImplementedError(\"Subclasses must implement start() method\")\n",
        "\n",
        "class Car(Vehicle):\n",
        "    def start(self):\n",
        "        print(f\"Starting {self._Vehicle__name}... Vroom!\")\n",
        "\n",
        "class Bicycle(Vehicle):\n",
        "    def start(self):\n",
        "        print(f\"Pedaling {self._Vehicle__name}...\")\n",
        "\n",
        "class Boat(Vehicle):\n",
        "    def start(self):\n",
        "        print(f\"Launching {self._Vehicle__name}... Vroom!\")\n",
        "\n",
        "# Example usage:\n",
        "vehicles = [\n",
        "    Car(\"Toyota\"),\n",
        "    Bicycle(\"Schwinn\"),\n",
        "    Boat(\"Yacht\")\n",
        "]\n",
        "\n",
        "for vehicle in vehicles:\n",
        "    vehicle.start()\n"
      ],
      "metadata": {
        "colab": {
          "base_uri": "https://localhost:8080/"
        },
        "id": "jbYIS0xX_qI5",
        "outputId": "d60a9a75-8a8a-41a4-a6cb-696c0636627c"
      },
      "execution_count": 26,
      "outputs": [
        {
          "output_type": "stream",
          "name": "stdout",
          "text": [
            "Starting Toyota... Vroom!\n",
            "Pedaling Schwinn...\n",
            "Launching Yacht... Vroom!\n"
          ]
        }
      ]
    },
    {
      "cell_type": "markdown",
      "source": [
        "9. Explain the significance of the `isinstance()` and `issubclass()` functions in Python polymorphism."
      ],
      "metadata": {
        "id": "lx9DhzA9APm2"
      }
    },
    {
      "cell_type": "markdown",
      "source": [
        "**`isinstance()` and `issubclass()` in Python Polymorphism**\n",
        "\n",
        "These two functions play a crucial role in determining object and class relationships, which is essential for understanding polymorphism in Python.\n",
        "\n",
        "**`isinstance()`**\n",
        "\n",
        "- **Purpose:** Checks if an object is an instance of a specific class or a subclass of that class.\n",
        "- **Usage:** `isinstance(object, class)`\n",
        "- **Significance:**\n",
        "  - Helps identify objects that can be treated as instances of a particular class.\n",
        "  - Enables dynamic behavior and polymorphism.\n",
        "\n",
        "**Example:**\n",
        "\n",
        "```python\n",
        "class Animal:\n",
        "    pass\n",
        "\n",
        "class Dog(Animal):\n",
        "    pass\n",
        "\n",
        "dog = Dog()\n",
        "\n",
        "if isinstance(dog, Animal):\n",
        "    print(\"dog is an instance of Animal\")\n",
        "```\n",
        "\n",
        "**`issubclass()`**\n",
        "\n",
        "- **Purpose:** Checks if a class is a subclass of another class.\n",
        "- **Usage:** `issubclass(subclass, superclass)`\n",
        "- **Significance:**\n",
        "  - Determines class relationships and inheritance hierarchies.\n",
        "  - Can be used to implement generic functions that work with objects of different classes.\n",
        "\n",
        "**Example:**\n",
        "\n",
        "```python\n",
        "class Animal:\n",
        "    pass\n",
        "\n",
        "class Dog(Animal):\n",
        "    pass\n",
        "\n",
        "if issubclass(Dog, Animal):\n",
        "    print(\"Dog is a subclass of Animal\")\n",
        "```\n",
        "\n",
        "**Significance in Polymorphism:**\n",
        "\n",
        "Both functions are essential for understanding and implementing polymorphism in Python:\n",
        "\n",
        "- **`isinstance()`** helps determine if an object can be treated as a specific type, allowing for dynamic behavior and method calls.\n",
        "- **`issubclass()`** helps define class relationships and ensures that derived classes have the necessary methods and attributes.\n"
      ],
      "metadata": {
        "id": "inuNcPybAUfK"
      }
    },
    {
      "cell_type": "markdown",
      "source": [
        "10. What is the role of the `@abstractmethod` decorator in achieving polymorphism in Python? Provide an\n",
        "example."
      ],
      "metadata": {
        "id": "meL31MVtAWwM"
      }
    },
    {
      "cell_type": "markdown",
      "source": [
        "**The `@abstractmethod` decorator in Python is used to define abstract methods within abstract base classes.** Abstract methods are methods that have no implementation and must be overridden by derived classes.\n",
        "\n",
        "**Role in Achieving Polymorphism:**\n",
        "\n",
        "- **Enforces a Common Interface:** By requiring derived classes to implement abstract methods, the `@abstractmethod` decorator ensures that all classes in a hierarchy adhere to a common interface. This is essential for polymorphism, as it allows objects of different classes to be treated as if they were objects of the same class.\n",
        "- **Prevents Instantiation of Abstract Classes:** Abstract classes cannot be instantiated directly. This prevents the creation of incomplete objects that lack the necessary functionality.\n",
        "- **Promotes Code Reusability:** Abstract base classes can be used to define a generic interface for a group of related classes, promoting code reusability and maintainability.\n",
        "\n",
        "**Example:**\n",
        "\n",
        "```python\n",
        "from abc import ABC, abstractmethod\n",
        "\n",
        "class Shape(ABC):\n",
        "    @abstractmethod\n",
        "    def area(self):\n",
        "        pass\n",
        "\n",
        "class Rectangle(Shape):\n",
        "    def __init__(self, width, height):\n",
        "        self.width = width\n",
        "        self.height = height\n",
        "\n",
        "    def area(self):\n",
        "        return self.width * self.height\n",
        "\n",
        "class Circle(Shape):\n",
        "    def __init__(self, radius):\n",
        "        self.radius = radius\n",
        "\n",
        "    def area(self):\n",
        "        return 3.14159 * self.radius * self.radius\n",
        "\n",
        "# Create instances of Rectangle and Circle\n",
        "rectangle = Rectangle(4, 3)\n",
        "circle = Circle(5)\n",
        "\n",
        "# Calculate areas using the common interface\n",
        "print(rectangle.area())  # Output: 12\n",
        "print(circle.area())  # Output: 78.53975\n",
        "```\n",
        "\n",
        "In this example:\n",
        "\n",
        "- The `Shape` class is an abstract base class that defines the `area` method as abstract.\n",
        "- The `Rectangle` and `Circle` classes implement the `area` method to calculate their respective areas.\n",
        "- The `@abstractmethod` decorator ensures that derived classes must implement the `area` method.\n",
        "- This allows the `animal_sounds` function to treat `Rectangle` and `Circle` objects as if they were objects of the same type (Shape), demonstrating polymorphism.\n",
        "\n",
        "**In summary, the `@abstractmethod` decorator is a crucial tool for achieving polymorphism in Python by:**\n",
        "\n",
        "- Enforcing a common interface for related classes.\n",
        "- Preventing the instantiation of abstract classes.\n",
        "- Promoting code reusability and maintainability.\n"
      ],
      "metadata": {
        "id": "Fb9iUcWVAclP"
      }
    },
    {
      "cell_type": "markdown",
      "source": [
        "11. Create a Python class called `Shape` with a polymorphic method `area()` that calculates the area of different shapes(e.g., circle, rectangle, triangle)"
      ],
      "metadata": {
        "id": "2DH6ZCmDAeNg"
      }
    },
    {
      "cell_type": "code",
      "source": [
        "class Shape:\n",
        "    def __init__(self, name):\n",
        "        self.__name = name\n",
        "\n",
        "    def area(self):\n",
        "        raise NotImplementedError(\"Subclasses must implement area() method\")\n",
        "\n",
        "class Circle(Shape):\n",
        "    def __init__(self, name, radius):\n",
        "        super().__init__(name)\n",
        "        self.__radius = radius\n",
        "\n",
        "    def area(self):\n",
        "        return f\"The area of {self._Shape__name} is {3.14 * self.__radius ** 2} square units.\"\n",
        "\n",
        "class Rectangle(Shape):\n",
        "    def __init__(self, name, width, height):\n",
        "        super().__init__(name)\n",
        "        self.__width = width\n",
        "        self.__height = height\n",
        "\n",
        "    def area(self):\n",
        "        return f\"The area of {self._Shape__name} is {self.__width * self.__height} square units.\"\n",
        "\n",
        "class Triangle(Shape):\n",
        "    def __init__(self, name, base, height):\n",
        "        super().__init__(name)\n",
        "        self.__base = base\n",
        "        self.__height = height\n",
        "\n",
        "    def area(self):\n",
        "        return f\"The area of {self._Shape__name} is {(self.__base * self.__height) / 2} square units.\"\n",
        "\n",
        "# Example usage:\n",
        "shapes = [\n",
        "    Circle(\"Circle\", 3),\n",
        "    Rectangle(\"Rectangle\", 4, 5),\n",
        "    Triangle(\"Triangle\", 6, 8)\n",
        "]\n",
        "\n",
        "for shape in shapes:\n",
        "    print(shape.area())"
      ],
      "metadata": {
        "colab": {
          "base_uri": "https://localhost:8080/"
        },
        "id": "4ZCtEvMNAL-0",
        "outputId": "315f0b7a-e9e6-48d2-981d-a3a31fa26ef3"
      },
      "execution_count": 27,
      "outputs": [
        {
          "output_type": "stream",
          "name": "stdout",
          "text": [
            "The area of Circle is 28.26 square units.\n",
            "The area of Rectangle is 20 square units.\n",
            "The area of Triangle is 24.0 square units.\n"
          ]
        }
      ]
    },
    {
      "cell_type": "markdown",
      "source": [
        "12. Discuss the benefits of polymorphism in terms of code reusability and flexibility in Python programs."
      ],
      "metadata": {
        "id": "6KWvj-68BBCr"
      }
    },
    {
      "cell_type": "markdown",
      "source": [
        "**Benefits of Polymorphism in Python**\n",
        "\n",
        "Polymorphism is a fundamental concept in object-oriented programming that significantly enhances code reusability and flexibility. Here are some of its key benefits:\n",
        "\n",
        "**Code Reusability:**\n",
        "\n",
        "- **Generic Functions:** Polymorphism allows you to write generic functions that can work with objects of different types. This reduces code duplication and promotes reusability.\n",
        "- **Shared Behavior:** By defining a common interface (e.g., using abstract base classes), you can create functions that operate on objects of different classes that share that interface. This enables you to reuse code without having to write separate implementations for each class.\n",
        "\n",
        "**Flexibility:**\n",
        "\n",
        "- **Dynamic Behavior:** Polymorphism allows you to write code that can adapt to different object types at runtime. This makes your code more flexible and adaptable to changing requirements.\n",
        "- **Extensibility:** Polymorphism makes it easier to extend your codebase by adding new classes that implement the same interface. This promotes modularity and maintainability.\n",
        "- **Simplified Design:** Polymorphism can simplify the design of your code by allowing you to focus on the common behavior of objects rather than their specific types.\n",
        "\n",
        "**Example:**\n",
        "\n",
        "```python\n",
        "class Animal:\n",
        "    def make_sound(self):\n",
        "        print(\"Generic animal sound\")\n",
        "\n",
        "class Dog(Animal):\n",
        "    def make_sound(self):\n",
        "        print(\"Woof!\")\n",
        "\n",
        "class Cat(Animal):\n",
        "    def make_sound(self):\n",
        "        print(\"Meow!\")\n",
        "\n",
        "def animal_sounds(animals):\n",
        "    for animal in animals:\n",
        "        animal.make_sound()\n",
        "```\n",
        "\n",
        "In this example, the `animal_sounds` function can work with a list of any `Animal` objects, regardless of their specific type. This is due to polymorphism, which allows the function to call the appropriate `make_sound` method for each object based on its type.\n",
        "\n",
        "**In summary, polymorphism:**\n",
        "\n",
        "- Promotes code reusability by allowing you to write generic functions.\n",
        "- Enhances flexibility by enabling dynamic behavior and adaptability.\n",
        "- Simplifies code design by focusing on common interfaces rather than specific types.\n"
      ],
      "metadata": {
        "id": "zgT7Lw2bBEzL"
      }
    },
    {
      "cell_type": "markdown",
      "source": [
        "13. Explain the use of the `super()` function in Python polymorphism. How does it help call methods of parent\n",
        "classes?"
      ],
      "metadata": {
        "id": "icXEVS0kBIEW"
      }
    },
    {
      "cell_type": "markdown",
      "source": [
        "**The `super()` function in Python is used to call the parent class's methods from within a child class.** This is particularly useful when a subclass overrides a method inherited from the parent class and you want to call the parent class's implementation as well.\n",
        "\n",
        "**Here's how `super()` works in the context of polymorphism:**\n",
        "\n",
        "1. **Method Overriding:** When a subclass overrides a method from its parent class, the subclass's implementation takes precedence.\n",
        "2. **Calling the Parent Class's Method:** If you want to call the parent class's implementation of the overridden method, you can use `super()`.\n",
        "3. **Syntax:** `super().method_name(args)`\n",
        "\n",
        "**Example:**\n",
        "\n",
        "```python\n",
        "class Animal:\n",
        "    def make_sound(self):\n",
        "        print(\"Generic animal sound\")\n",
        "\n",
        "class Dog(Animal):\n",
        "    def make_sound(self):\n",
        "        super().make_sound()  # Calls the parent class's make_sound method\n",
        "        print(\"Woof!\")\n",
        "```\n",
        "\n",
        "In this example, the `Dog` class overrides the `make_sound` method. However, it also calls the parent class's `make_sound` method using `super().make_sound()`. This allows the `Dog` class to combine the behavior of both the parent and child classes.\n",
        "\n",
        "**Key Points:**\n",
        "\n",
        "- `super()` is used to access the parent class's methods and attributes.\n",
        "- It's commonly used in conjunction with method overriding to call the parent class's implementation.\n",
        "- It helps maintain proper inheritance relationships and avoid unintended side effects."
      ],
      "metadata": {
        "id": "Mp7InSPkBL0l"
      }
    },
    {
      "cell_type": "markdown",
      "source": [
        "14. Create a Python class hierarchy for a banking system with various account types (e.g., savings, checking, credit card) and demonstrate polymorphism by implementing a common wthdraw() method."
      ],
      "metadata": {
        "id": "FiLv4IioBP1r"
      }
    },
    {
      "cell_type": "code",
      "source": [
        "class Account:\n",
        "    def __init__(self, account_number, account_holder, balance):\n",
        "        self.__account_number = account_number\n",
        "        self.__account_holder = account_holder\n",
        "        self.__balance = balance\n",
        "\n",
        "    def withdraw(self, amount):\n",
        "        raise NotImplementedError(\"Subclasses must implement withdraw() method\")\n",
        "\n",
        "    def get_balance(self):\n",
        "        return self.__balance\n",
        "\n",
        "class SavingsAccount(Account):\n",
        "    def __init__(self, account_number, account_holder, balance, interest_rate):\n",
        "        super().__init__(account_number, account_holder, balance)\n",
        "        self.__interest_rate = interest_rate\n",
        "\n",
        "    def withdraw(self, amount):\n",
        "        if amount > self.get_balance():\n",
        "            return \"Insufficient funds\"\n",
        "        else:\n",
        "            self.__balance = amount\n",
        "            return f\"Withdrawal of {amount} successful. New balance: {self.get_balance()}\"\n",
        "\n",
        "class CheckingAccount(Account):\n",
        "    def __init__(self, account_number, account_holder, balance, overdraft_limit):\n",
        "        super().__init__(account_number, account_holder, balance)\n",
        "        self.__overdraft_limit = overdraft_limit\n",
        "\n",
        "    def withdraw(self, amount):\n",
        "        if amount > self.get_balance() + self.__overdraft_limit:\n",
        "            return \"Withdrawal exceeds overdraft limit\"\n",
        "        else:\n",
        "            self.__balance = amount\n",
        "            return f\"Withdrawal of {amount} successful. New balance: {self.get_balance()}\"\n",
        "\n",
        "class CreditCardAccount(Account):\n",
        "    def __init__(self, account_number, account_holder, balance, credit_limit):\n",
        "        super().__init__(account_number, account_holder, balance)\n",
        "        self.__credit_limit = credit_limit\n",
        "\n",
        "    def withdraw(self, amount):\n",
        "        if amount > self.__credit_limit - self.get_balance():\n",
        "            return \"Withdrawal exceeds credit limit\"\n",
        "        else:\n",
        "            self.__balance = amount\n",
        "            return f\"Withdrawal of {amount} successful. New balance: {self.get_balance()}\"\n",
        "\n",
        "# Example usage:\n",
        "accounts = [\n",
        "    SavingsAccount(\"SAV123\", \"John Doe\", 1000, 0.05),\n",
        "    CheckingAccount(\"CHK456\", \"Jane Doe\", 500, 200),\n",
        "    CreditCardAccount(\"CCD789\", \"Bob Smith\", 0, 1000)\n",
        "]\n",
        "\n",
        "for account in accounts:\n",
        "    print(f\"Withdrawing $200 from {account._Account__account_holder}'s account:\")\n",
        "    print(account.withdraw(200))\n",
        "    print()"
      ],
      "metadata": {
        "colab": {
          "base_uri": "https://localhost:8080/"
        },
        "id": "NR8QPc3jBALZ",
        "outputId": "b9193ea7-36d3-4581-ea79-4eda45ad5237"
      },
      "execution_count": 31,
      "outputs": [
        {
          "output_type": "stream",
          "name": "stdout",
          "text": [
            "Withdrawing $200 from John Doe's account:\n",
            "Withdrawal of 200 successful. New balance: 1000\n",
            "\n",
            "Withdrawing $200 from Jane Doe's account:\n",
            "Withdrawal of 200 successful. New balance: 500\n",
            "\n",
            "Withdrawing $200 from Bob Smith's account:\n",
            "Withdrawal of 200 successful. New balance: 0\n",
            "\n"
          ]
        }
      ]
    },
    {
      "cell_type": "markdown",
      "source": [
        "15. Describe the concept of operator overloading in Python and how it relates to polymorphism. Provide\n",
        "examples using operators like `+` and `*`."
      ],
      "metadata": {
        "id": "TeJ4kbIHBvjH"
      }
    },
    {
      "cell_type": "markdown",
      "source": [
        "**Operator Overloading in Python**\n",
        "\n",
        "Operator overloading is a feature in Python that allows you to define custom behavior for built-in operators (like `+`, `-`, `*`, `/`, etc.) when applied to objects of your own classes. This enables you to create more intuitive and expressive code.\n",
        "\n",
        "**How it works:**\n",
        "\n",
        "- Define special methods within your class that correspond to specific operators.\n",
        "- When the operator is applied to objects of your class, Python automatically calls the appropriate special method.\n",
        "\n",
        "**Examples:**\n",
        "\n",
        "**1. Overloading the `+` operator:**\n",
        "\n",
        "```python\n",
        "class Vector:\n",
        "    def __init__(self, x, y):\n",
        "        self.x = x\n",
        "        self.y = y\n",
        "\n",
        "    def __add__(self, other):\n",
        "        return Vector(self.x + other.x, self.y + other.y)\n",
        "\n",
        "v1 = Vector(2, 3)\n",
        "v2 = Vector(4, 5)\n",
        "result = v1 + v2\n",
        "print(result)  # Output: Vector(x=6, y=8)\n",
        "```\n",
        "\n",
        "**2. Overloading the `*` operator:**\n",
        "\n",
        "```python\n",
        "class Matrix:\n",
        "    def __init__(self, matrix):\n",
        "        self.matrix = matrix\n",
        "\n",
        "    def __mul__(self, other):\n",
        "        # Implement matrix multiplication logic\n",
        "        pass\n",
        "\n",
        "matrix1 = Matrix([[1, 2], [3, 4]])\n",
        "matrix2 = Matrix([[5, 6], [7, 8]])\n",
        "result = matrix1 * matrix2\n",
        "print(result)\n",
        "```\n",
        "\n",
        "**Relationship to Polymorphism:**\n",
        "\n",
        "Operator overloading is closely related to polymorphism. When you overload an operator, you're essentially defining a custom behavior for that operator based on the types of objects it's applied to. This allows you to treat objects of different classes in a uniform way, similar to how polymorphism works.\n",
        "\n",
        "**Key Points:**\n",
        "\n",
        "- Operator overloading is a powerful feature in Python that allows you to customize the behavior of built-in operators.\n",
        "- It's often used to create more intuitive and expressive code, especially when working with custom data structures.\n",
        "- Operator overloading is closely related to polymorphism and can be used to achieve similar effects.\n"
      ],
      "metadata": {
        "id": "TWg5Hk0nCpK1"
      }
    },
    {
      "cell_type": "markdown",
      "source": [
        "16. What is dynamic polymorphism, and how is it achieved in Python?"
      ],
      "metadata": {
        "id": "PAwHIgpwCquY"
      }
    },
    {
      "cell_type": "markdown",
      "source": [
        "**Dynamic Polymorphism**\n",
        "\n",
        "Dynamic polymorphism, also known as runtime polymorphism, is a mechanism in object-oriented programming where the method to be called is determined at runtime based on the actual type of the object. This allows for flexible and adaptable code, as the behavior of a method can vary depending on the specific object it's invoked on.\n",
        "\n",
        "**How it's Achieved in Python:**\n",
        "\n",
        "1. **Method Overriding:** Subclasses can override methods defined in their parent class. This means that when a method is called on an object, the appropriate implementation based on the object's actual type is executed.\n",
        "2. **Duck Typing:** Python uses duck typing, which means that the type of an object is determined by its behavior rather than its explicit class. If an object has the necessary methods and attributes, it can be treated as if it were an instance of that class.\n",
        "\n",
        "**Example:**\n",
        "\n",
        "```python\n",
        "class Animal:\n",
        "    def make_sound(self):\n",
        "        print(\"Generic animal sound\")\n",
        "\n",
        "class Dog(Animal):\n",
        "    def make_sound(self):\n",
        "        print(\"Woof!\")\n",
        "\n",
        "class Cat(Animal):\n",
        "    def make_sound(self):\n",
        "        print(\"Meow!\")\n",
        "\n",
        "def animal_sounds(animals):\n",
        "    for animal in animals:\n",
        "        animal.make_sound()\n",
        "\n",
        "animals = [Dog(), Cat(), Animal()]\n",
        "animal_sounds(animals)\n",
        "```\n",
        "\n",
        "In this example:\n",
        "\n",
        "- The `Animal` class defines a `make_sound` method.\n",
        "- The `Dog` and `Cat` classes override the `make_sound` method to provide their own specific implementations.\n",
        "- The `animal_sounds` function can take a list of any `Animal` objects, and it will call the appropriate `make_sound` method for each object.\n"
      ],
      "metadata": {
        "id": "VINzL4uqCv9j"
      }
    },
    {
      "cell_type": "markdown",
      "source": [
        "17. Create a Python class hierarchy for employees in a company (e.g., manager, developer, designer) and implement polymorphism through a common calculate_salary() method."
      ],
      "metadata": {
        "id": "4LiGPYiKCySL"
      }
    },
    {
      "cell_type": "code",
      "source": [
        "class Employee:\n",
        "    def __init__(self, employee_id, name, role):\n",
        "        self.__employee_id = employee_id\n",
        "        self.__name = name\n",
        "        self.__role = role\n",
        "\n",
        "    def calculate_salary(self):\n",
        "        raise NotImplementedError(\"Subclasses must implement calculate_salary() method\")\n",
        "\n",
        "class Manager(Employee):\n",
        "    def __init__(self, employee_id, name, role, base_salary, bonus):\n",
        "        super().__init__(employee_id, name, role)\n",
        "        self.__base_salary = base_salary\n",
        "        self.__bonus = bonus\n",
        "\n",
        "    def calculate_salary(self):\n",
        "        return self.__base_salary + self.__bonus\n",
        "\n",
        "class Developer(Employee):\n",
        "    def __init__(self, employee_id, name, role, hourly_rate, hours_worked):\n",
        "        super().__init__(employee_id, name, role)\n",
        "        self.__hourly_rate = hourly_rate\n",
        "        self.__hours_worked = hours_worked\n",
        "\n",
        "    def calculate_salary(self):\n",
        "        return self.__hourly_rate * self.__hours_worked\n",
        "\n",
        "class Designer(Employee):\n",
        "    def __init__(self, employee_id, name, role, daily_rate, days_worked):\n",
        "        super().__init__(employee_id, name, role)\n",
        "        self.__daily_rate = daily_rate\n",
        "        self.__days_worked = days_worked\n",
        "\n",
        "    def calculate_salary(self):\n",
        "        return self.__daily_rate * self.__days_worked\n",
        "\n",
        "# Example usage:\n",
        "employees = [\n",
        "    Manager(\"MGR001\", \"John Smith\", \"Manager\", 5000, 1000),\n",
        "    Developer(\"DEV002\", \"Jane Doe\", \"Developer\", 50, 80),\n",
        "    Designer(\"DES003\", \"Bob Johnson\", \"Designer\", 200, 20)\n",
        "]\n",
        "\n",
        "for employee in employees:\n",
        "    print(f\"Salary for {employee._Employee__name} ({employee._Employee__role}): {employee.calculate_salary()}\")"
      ],
      "metadata": {
        "colab": {
          "base_uri": "https://localhost:8080/"
        },
        "id": "DzhF5ic5BzQo",
        "outputId": "48caba50-ee48-45c4-c007-8fbbf5af0c2b"
      },
      "execution_count": 32,
      "outputs": [
        {
          "output_type": "stream",
          "name": "stdout",
          "text": [
            "Salary for John Smith (Manager): 6000\n",
            "Salary for Jane Doe (Developer): 4000\n",
            "Salary for Bob Johnson (Designer): 4000\n"
          ]
        }
      ]
    },
    {
      "cell_type": "markdown",
      "source": [
        "18. Discuss the concept of function pointers and how they can be used to achieve polymorphism in Python."
      ],
      "metadata": {
        "id": "LJ36krRZDHfR"
      }
    },
    {
      "cell_type": "markdown",
      "source": [
        "**Function Pointers in Python**\n",
        "\n",
        "While Python doesn't have explicit function pointers like languages like C++, it achieves a similar effect using **callable objects**. Callable objects are objects that can be called like functions. This includes functions, methods, and certain other types of objects.\n",
        "\n",
        "**Using Callable Objects for Polymorphism:**\n",
        "\n",
        "- **Store Functions in Variables:** You can store functions in variables and pass them as arguments to other functions.\n",
        "- **Call Callable Objects:** You can call callable objects using the same syntax as calling functions.\n",
        "\n",
        "**Example:**\n",
        "\n",
        "```python\n",
        "def add(x, y):\n",
        "    return x + y\n",
        "\n",
        "def subtract(x, y):\n",
        "    return x - y\n",
        "\n",
        "def operate(func, x, y):\n",
        "    return func(x, y)\n",
        "\n",
        "result = operate(add, 5, 3)\n",
        "print(result)  # Output: 8\n",
        "```\n",
        "\n",
        "In this example:\n",
        "\n",
        "- `add` and `subtract` are functions that can be stored in variables.\n",
        "- The `operate` function takes a function as an argument and calls it with the given `x` and `y` values.\n",
        "- This demonstrates how callable objects can be used to achieve a form of polymorphism, as the `operate` function can work with different functions based on the argument passed to it.\n",
        "\n",
        "**Key Points:**\n",
        "\n",
        "- Python doesn't have explicit function pointers, but it achieves a similar effect using callable objects.\n",
        "- Callable objects can be stored in variables and passed as arguments to other functions.\n",
        "- This allows for more flexible and dynamic code, similar to what function pointers provide in other languages.\n",
        "\n",
        "While Python doesn't have function pointers in the traditional sense, using callable objects provides a powerful mechanism for achieving polymorphism and dynamic behavior in your code.\n"
      ],
      "metadata": {
        "id": "iID0tKd7DOuk"
      }
    },
    {
      "cell_type": "markdown",
      "source": [
        "19. Explain the role of interfaces and abstract classes in polymorphism, drawing comparisons between them."
      ],
      "metadata": {
        "id": "wFeRzceODWBd"
      }
    },
    {
      "cell_type": "markdown",
      "source": [
        "**Interfaces and Abstract Classes in Polymorphism**\n",
        "\n",
        "Interfaces and abstract classes are both used to define a common contract or interface for a group of related classes. However, they have different characteristics and purposes:\n",
        "\n",
        "**Interfaces:**\n",
        "\n",
        "- **Definition:** An interface is a collection of abstract methods that define a contract for a class. It doesn't contain any implementation details.\n",
        "- **Purpose:** To define a common interface for related classes, ensuring that they have the same methods.\n",
        "- **Implementation:** Derived classes must implement all abstract methods defined in the interface.\n",
        "- **Multiple Inheritance:** A class can implement multiple interfaces.\n",
        "- **Example:**\n",
        "\n",
        "```python\n",
        "from abc import ABC, abstractmethod\n",
        "\n",
        "class Shape(ABC):\n",
        "    @abstractmethod\n",
        "    def area(self):\n",
        "        pass\n",
        "```\n",
        "\n",
        "**Abstract Classes:**\n",
        "\n",
        "- **Definition:** A class that contains at least one abstract method. It can also have concrete methods and attributes.\n",
        "- **Purpose:** To define a common interface for a group of related classes and provide a partial implementation.\n",
        "- **Implementation:** Derived classes must implement all abstract methods defined in the abstract class.\n",
        "- **Multiple Inheritance:** A class can inherit from multiple abstract classes.\n",
        "- **Example:**\n",
        "\n",
        "```python\n",
        "from abc import ABC, abstractmethod\n",
        "\n",
        "class Animal(ABC):\n",
        "    @abstractmethod\n",
        "    def make_sound(self):\n",
        "        pass\n",
        "\n",
        "    def eat(self):\n",
        "        print(\"Eating\")\n",
        "```\n",
        "\n",
        "**Key Differences:**\n",
        "\n",
        "| Feature | Interface | Abstract Class |\n",
        "|---|---|---|\n",
        "| Abstract methods | Only abstract methods | Can have both abstract and concrete methods |\n",
        "| Concrete methods | No concrete methods | Can have concrete methods |\n",
        "| Inheritance | Can be implemented by multiple classes | Can be inherited by multiple classes |\n",
        "| Purpose | Define a contract for a group of related classes | Provide a common interface and partial implementation |\n",
        "\n",
        "**In conclusion:**\n",
        "\n",
        "- Both interfaces and abstract classes are used to achieve polymorphism by defining a common interface for related classes.\n",
        "- Interfaces are more restrictive, requiring derived classes to implement all abstract methods.\n",
        "- Abstract classes can provide a partial implementation, making them more flexible in certain scenarios.\n",
        "- The choice between interfaces and abstract classes depends on the specific requirements of your application.\n"
      ],
      "metadata": {
        "id": "7E_8s963DZuK"
      }
    },
    {
      "cell_type": "markdown",
      "source": [
        "20. Create a Python class for a zoo simulation, demonstrating polymorphism with different animal types (e.g., mammals, birds, reptiles) and their behavior (e.g., eating, sleeping, making sounds)."
      ],
      "metadata": {
        "id": "6IgWRts9Dbnh"
      }
    },
    {
      "cell_type": "code",
      "source": [
        "class Animal:\n",
        "    def __init__(self, name):\n",
        "        self.name = name\n",
        "\n",
        "    def eat(self):\n",
        "        return f\"{self.name} is eating.\"\n",
        "\n",
        "    def sleep(self):\n",
        "        return f\"{self.name} is sleeping.\"\n",
        "\n",
        "    def make_sound(self):\n",
        "        return f\"{self.name} makes a sound.\"\n",
        "\n",
        "class Mammal(Animal):\n",
        "    def make_sound(self):\n",
        "        return f\"{self.name} makes a mammal sound.\"\n",
        "\n",
        "class Bird(Animal):\n",
        "    def make_sound(self):\n",
        "        return f\"{self.name} chirps.\"\n",
        "\n",
        "class Reptile(Animal):\n",
        "    def make_sound(self):\n",
        "        return f\"{self.name} makes a reptile sound.\"\n",
        "\n",
        "def main():\n",
        "    # Creating instances of different animals\n",
        "    lion = Mammal(\"Lion\")\n",
        "    parrot = Bird(\"Parrot\")\n",
        "    snake = Reptile(\"Snake\")\n",
        "\n",
        "    # List of animals\n",
        "    animals = [lion, parrot, snake]\n",
        "\n",
        "    # Demonstrate polymorphism\n",
        "    for animal in animals:\n",
        "        print(animal.eat())\n",
        "        print(animal.sleep())\n",
        "        print(animal.make_sound())\n",
        "        print()  # Empty line for better readability\n",
        "\n",
        "if __name__ == \"__main__\":\n",
        "    main()\n",
        "\n",
        "\n"
      ],
      "metadata": {
        "colab": {
          "base_uri": "https://localhost:8080/"
        },
        "id": "CyfYhsgEDK0t",
        "outputId": "95bde6f0-e34a-4df0-e963-90dc96d59c48"
      },
      "execution_count": 36,
      "outputs": [
        {
          "output_type": "stream",
          "name": "stdout",
          "text": [
            "Lion is eating.\n",
            "Lion is sleeping.\n",
            "Lion makes a mammal sound.\n",
            "\n",
            "Parrot is eating.\n",
            "Parrot is sleeping.\n",
            "Parrot chirps.\n",
            "\n",
            "Snake is eating.\n",
            "Snake is sleeping.\n",
            "Snake makes a reptile sound.\n",
            "\n"
          ]
        }
      ]
    },
    {
      "cell_type": "markdown",
      "source": [
        "**Abstraction:**"
      ],
      "metadata": {
        "id": "3sH_zPXQGlYF"
      }
    },
    {
      "cell_type": "markdown",
      "source": [
        "1. What is abstraction in Python, and how does it relate to object-oriented programming?"
      ],
      "metadata": {
        "id": "Gm8A56muG0k2"
      }
    },
    {
      "cell_type": "markdown",
      "source": [
        "**Abstraction** is a fundamental principle in object-oriented programming (OOP) that involves focusing on the essential features of an object while hiding its unnecessary details. It allows you to create models of real-world entities that capture their most relevant characteristics without getting bogged down in the complexities of their underlying implementation.\n",
        "\n",
        "**Key aspects of abstraction:**\n",
        "\n",
        "- **Information Hiding:** Abstraction involves hiding the internal implementation details of an object from the outside world. This makes the object easier to use and understand, as you only need to know its public interface.\n",
        "- **Focus on Essentials:** Abstraction allows you to focus on the essential features of an object, ignoring the irrelevant details. This simplifies the design and development process.\n",
        "- **Modularity:** Abstraction promotes modularity by breaking down complex systems into smaller, more manageable components.\n",
        "- **Reusability:** Abstract classes and interfaces can be used to create reusable code that can be applied in different contexts.\n",
        "\n",
        "**Example:**\n",
        "\n",
        "```python\n",
        "class Car:\n",
        "    def __init__(self, make, model):\n",
        "        self.make = make\n",
        "        self.model = model\n",
        "\n",
        "    def start(self):\n",
        "        print(\"Starting the car\")\n",
        "\n",
        "    def stop(self):\n",
        "        print(\"Stopping the car\")\n",
        "```\n",
        "\n",
        "In this example, the `Car` class represents a car. The `make` and `model` attributes are the essential features of a car, while the internal implementation of the `start` and `stop` methods is hidden. Users of the `Car` class only need to know how to interact with these methods, not the underlying details of how the car actually starts and stops.\n",
        "\n",
        "**Relationship to OOP:**\n",
        "\n",
        "Abstraction is a core principle of OOP. It allows you to create well-defined classes that encapsulate data and behavior, making your code more organized, modular, and reusable. By focusing on the essential features of objects, you can build more robust and maintainable software.\n"
      ],
      "metadata": {
        "id": "-pfhMBZIG3Qq"
      }
    },
    {
      "cell_type": "markdown",
      "source": [
        "2. Describe the benefits of abstraction in terms of code organization and complexity reduction."
      ],
      "metadata": {
        "id": "Hu8H9llwG4yE"
      }
    },
    {
      "cell_type": "markdown",
      "source": [
        "**Benefits of Abstraction in Code Organization and Complexity Reduction**\n",
        "\n",
        "Abstraction is a powerful tool in object-oriented programming that significantly improves code organization and reduces complexity. Here are some of its key benefits:\n",
        "\n",
        "**Code Organization:**\n",
        "\n",
        "- **Modularization:** Abstraction breaks down complex systems into smaller, more manageable components. This makes the code easier to understand, maintain, and modify.\n",
        "- **Separation of Concerns:** Abstraction helps to separate concerns by focusing on the essential features of objects and hiding the irrelevant details. This improves code readability and maintainability.\n",
        "- **Hierarchical Structure:** Abstraction allows you to create a hierarchical structure of classes, where more complex objects can be built from simpler ones. This promotes a clear and organized codebase.\n",
        "\n",
        "**Complexity Reduction:**\n",
        "\n",
        "- **Simplified Interface:** Abstraction provides a simplified interface for interacting with objects, hiding the underlying complexity of their implementation. This makes the code easier to use and understand.\n",
        "- **Reduced Cognitive Load:** By focusing on the essential features of objects, abstraction reduces the cognitive load on developers, making it easier to reason about and work with the code.\n",
        "- **Flexibility:** Abstraction makes it easier to modify or extend the implementation of a class without affecting its external interface. This provides flexibility and adaptability.\n",
        "\n",
        "**Example:**\n",
        "\n",
        "```python\n",
        "class Car:\n",
        "    def __init__(self, make, model):\n",
        "        self.make = make\n",
        "        self.model = model\n",
        "\n",
        "    def start(self):\n",
        "        print(\"Starting the car\")\n",
        "\n",
        "    def stop(self):\n",
        "        print(\"Stopping the car\")\n",
        "```\n",
        "\n",
        "In this example, the `Car` class represents a car at a high level of abstraction. Users of the class only need to know how to interact with the `start` and `stop` methods, without worrying about the underlying mechanics of the car. This simplifies the code and makes it easier to use and understand.\n",
        "\n"
      ],
      "metadata": {
        "id": "VzDuiK_vG8zB"
      }
    },
    {
      "cell_type": "markdown",
      "source": [
        "3. Create a Python class called `Shape` with an abstract method `calculate_area()`. Then, create child classes (e.g., `Circle`, `Rectangle`) that implement the `calculate_area()` method. Provide an example of\n",
        "using these classes."
      ],
      "metadata": {
        "id": "zzFVzkrkHAfQ"
      }
    },
    {
      "cell_type": "code",
      "source": [
        "from abc import ABC, abstractmethod\n",
        "import math\n",
        "\n",
        "class Shape(ABC):\n",
        "    @abstractmethod\n",
        "    def calculate_area(self):\n",
        "        pass\n",
        "\n",
        "class Circle(Shape):\n",
        "    def __init__(self, radius):\n",
        "        self.__radius = radius\n",
        "\n",
        "    def calculate_area(self):\n",
        "        return math.pi * (self.__radius ** 2)\n",
        "\n",
        "class Rectangle(Shape):\n",
        "    def __init__(self, width, height):\n",
        "        self.__width = width\n",
        "        self.__height = height\n",
        "\n",
        "    def calculate_area(self):\n",
        "        return self.__width * self.__height\n",
        "\n",
        "# Example usage:\n",
        "shapes = [\n",
        "    Circle(5),\n",
        "    Rectangle(4, 6)\n",
        "]\n",
        "\n",
        "for shape in shapes:\n",
        "    if isinstance(shape, Circle):\n",
        "        print(f\"Circle with radius {shape._Circle__radius}:\")\n",
        "    elif isinstance(shape, Rectangle):\n",
        "        print(f\"Rectangle with width {shape._Rectangle__width} and height {shape._Rectangle__height}:\")\n",
        "    print(f\"Area: {shape.calculate_area()}\")\n",
        "    print()"
      ],
      "metadata": {
        "colab": {
          "base_uri": "https://localhost:8080/"
        },
        "id": "cXm46nv5Dx0g",
        "outputId": "929b52b5-4913-4f3c-d3c4-06e8c7d02bfc"
      },
      "execution_count": 37,
      "outputs": [
        {
          "output_type": "stream",
          "name": "stdout",
          "text": [
            "Circle with radius 5:\n",
            "Area: 78.53981633974483\n",
            "\n",
            "Rectangle with width 4 and height 6:\n",
            "Area: 24\n",
            "\n"
          ]
        }
      ]
    },
    {
      "cell_type": "markdown",
      "source": [
        "4. Explain the concept of abstract classes in Python and how they are defined using the `abc` module. Provide\n",
        "an example."
      ],
      "metadata": {
        "id": "FpWzXBoRIbSR"
      }
    },
    {
      "cell_type": "markdown",
      "source": [
        "**Abstract Classes in Python**\n",
        "\n",
        "An abstract class is a class that cannot be instantiated directly. It serves as a blueprint or template for other classes, defining a common interface or contract that derived classes must adhere to. Abstract classes often contain abstract methods, which are methods that have no implementation. Derived classes must provide implementations for these abstract methods.\n",
        "\n",
        "**Defining Abstract Classes Using the `abc` Module:**\n",
        "\n",
        "Python's `abc` module provides the necessary tools for defining abstract classes. The `ABC` class and the `abstractmethod` decorator are used for this purpose.\n",
        "\n",
        "**Example:**\n",
        "\n",
        "```python\n",
        "from abc import ABC, abstractmethod\n",
        "\n",
        "class Shape(ABC):\n",
        "    @abstractmethod\n",
        "    def area(self):\n",
        "        pass\n",
        "\n",
        "class Rectangle(Shape):\n",
        "    def __init__(self, width, height):\n",
        "        self.width = width\n",
        "        self.height = height\n",
        "\n",
        "    def area(self):\n",
        "        return self.width * self.height\n",
        "\n",
        "class Circle(Shape):\n",
        "    def __init__(self, radius):\n",
        "        self.radius = radius\n",
        "\n",
        "    def area(self):\n",
        "        return 3.14159 * self.radius * self.radius\n",
        "```\n",
        "\n",
        "In this example:\n",
        "\n",
        "- The `Shape` class is an abstract base class. It defines the `area` method as abstract using the `@abstractmethod` decorator.\n",
        "- The `Rectangle` and `Circle` classes inherit from the `Shape` class and provide their own implementations for the `area` method.\n",
        "- Since `Shape` is abstract, you cannot create instances of it directly. You must create instances of its derived classes (e.g., `Rectangle` and `Circle`).\n",
        "\n",
        "**Key Points:**\n",
        "\n",
        "- Abstract classes cannot be instantiated directly.\n",
        "- Abstract classes must contain at least one abstract method.\n",
        "- Derived classes must implement all abstract methods defined in the parent abstract class.\n",
        "- Abstract classes are useful for defining a common interface for related classes and enforcing a consistent structure.\n",
        "\n"
      ],
      "metadata": {
        "id": "nkHW1M9AImjA"
      }
    },
    {
      "cell_type": "markdown",
      "source": [
        "5. How do abstract classes differ from regular classes in Python? Discuss their use cases."
      ],
      "metadata": {
        "id": "C0xKYt1QIiel"
      }
    },
    {
      "cell_type": "markdown",
      "source": [
        "**Abstract Classes**\n",
        "\n",
        "* **Purpose:** Define a common interface for a group of related classes, enforcing a consistent structure and behavior.\n",
        "* **Characteristics:**\n",
        "  - Cannot be instantiated directly.\n",
        "  - May contain abstract methods (methods without implementation).\n",
        "  - Derived classes must implement all abstract methods.\n",
        "* **Usage:**\n",
        "  - To define a blueprint for other classes.\n",
        "  - To ensure that derived classes adhere to a specific interface.\n",
        "  - To promote code reusability and maintainability.\n",
        "\n",
        "**Regular Classes**\n",
        "\n",
        "* **Purpose:** Represent objects with their own data and behavior.\n",
        "* **Characteristics:**\n",
        "  - Can be instantiated directly.\n",
        "  - May contain both concrete and abstract methods.\n",
        "  - Can be used as base classes for other classes.\n",
        "* **Usage:**\n",
        "  - To create concrete objects and define their properties and methods.\n",
        "  - To represent real-world entities or abstract concepts.\n",
        "\n",
        "**Key Differences:**\n",
        "\n",
        "| Feature | Abstract Class | Regular Class |\n",
        "|---|---|---|\n",
        "| Instantiation | Cannot be instantiated | Can be instantiated |\n",
        "| Abstract methods | Must contain at least one abstract method | May or may not contain abstract methods |\n",
        "| Derived classes | Derived classes must implement abstract methods | Derived classes can inherit concrete methods |\n",
        "| Purpose | Define a common interface, enforce structure | Represent objects and provide functionality |\n",
        "\n",
        "**In summary:**\n",
        "\n",
        "- **Abstract classes** are blueprints for other classes, defining a common interface and enforcing structure.\n",
        "- **Regular classes** represent objects and can be instantiated directly.\n",
        "- Abstract classes are often used to create hierarchies of classes, while regular classes are used to represent specific objects or concepts.\n"
      ],
      "metadata": {
        "id": "NsaQJjkqIyXo"
      }
    },
    {
      "cell_type": "markdown",
      "source": [
        "6. Create a Python class for a bank account and demonstrate abstraction by hiding the account balance and\n",
        "providing methods to deposit and withdraw funds."
      ],
      "metadata": {
        "id": "eXluBc_WI1dP"
      }
    },
    {
      "cell_type": "code",
      "source": [
        "class BankAccount:\n",
        "    def __init__(self, initial_balance=0):\n",
        "        self.__balance = initial_balance\n",
        "\n",
        "    def deposit(self, amount):\n",
        "        if amount > 0:\n",
        "            self.__balance += amount\n",
        "            return f\"Deposited ${amount:.2f}. New balance: ${self.__balance:.2f}\"\n",
        "        else:\n",
        "            return \"Invalid deposit amount.\"\n",
        "\n",
        "    def withdraw(self, amount):\n",
        "        if 0 < amount <= self.__balance:\n",
        "            self.__balance -= amount\n",
        "            return f\"Withdrew ${amount:.2f}. New balance: ${self.__balance:.2f}\"\n",
        "        elif amount <= 0:\n",
        "            return \"Invalid withdrawal amount.\"\n",
        "        else:\n",
        "            return \"Insufficient funds.\"\n",
        "\n",
        "    def get_balance(self):\n",
        "        return f\"Current balance: ${self.__balance:.2f}\"\n",
        "\n",
        "# Example usage:\n",
        "account = BankAccount(1000)\n",
        "print(account.get_balance())  # Current balance: $1000.00\n",
        "print(account.deposit(500))  # Deposited $500.00. New balance: $1500.00\n",
        "print(account.withdraw(200))  # Withdrew $200.00. New balance: $1300.00\n",
        "print(account.get_balance())  # Current balance: $1300.00\n",
        "print(account.withdraw(1500))  # Insufficient funds."
      ],
      "metadata": {
        "colab": {
          "base_uri": "https://localhost:8080/"
        },
        "id": "_dH6RoyhIXB6",
        "outputId": "3b6bde4d-6b97-408e-f0f4-b9de449a2d90"
      },
      "execution_count": 38,
      "outputs": [
        {
          "output_type": "stream",
          "name": "stdout",
          "text": [
            "Current balance: $1000.00\n",
            "Deposited $500.00. New balance: $1500.00\n",
            "Withdrew $200.00. New balance: $1300.00\n",
            "Current balance: $1300.00\n",
            "Insufficient funds.\n"
          ]
        }
      ]
    },
    {
      "cell_type": "markdown",
      "source": [
        "7. Discuss the concept of interface classes in Python and their role in achieving abstraction."
      ],
      "metadata": {
        "id": "N2u884d0I7pR"
      }
    },
    {
      "cell_type": "markdown",
      "source": [
        "**Interfaces in Python**\n",
        "\n",
        "While Python doesn't have a built-in construct for interfaces like some other languages, it can achieve a similar effect using abstract base classes (ABCs) from the `abc` module.\n",
        "\n",
        "**Abstract Base Classes (ABCs):**\n",
        "\n",
        "- **Purpose:** Define a common interface for a group of related classes, ensuring that they have the same methods.\n",
        "- **Characteristics:**\n",
        "  - Cannot be instantiated directly.\n",
        "  - Must contain at least one abstract method (method without implementation).\n",
        "  - Derived classes must implement all abstract methods.\n",
        "- **Usage:**\n",
        "  - To enforce a consistent structure and behavior across derived classes.\n",
        "  - To promote code reusability and maintainability.\n",
        "\n",
        "**Example:**\n",
        "\n",
        "```python\n",
        "from abc import ABC, abstractmethod\n",
        "\n",
        "class Shape(ABC):\n",
        "    @abstractmethod\n",
        "    def area(self):\n",
        "        pass\n",
        "```\n",
        "\n",
        "In this example, the `Shape` class is an abstract base class that defines the `area` method as abstract. Derived classes like `Rectangle` and `Circle` must implement this method to be considered instances of `Shape`.\n",
        "\n",
        "**Role in Achieving Abstraction:**\n",
        "\n",
        "- **Common Interface:** ABCs provide a common interface that derived classes must adhere to. This helps to achieve abstraction by focusing on the essential features and behaviors of objects.\n",
        "- **Encapsulation:** ABCs can be used to encapsulate the common interface, making it easier to reason about and use the derived classes.\n",
        "- **Polymorphism:** ABCs are essential for achieving polymorphism, as they allow objects of different classes to be treated as if they were objects of the same class.\n",
        "\n",
        "**In conclusion:**\n",
        "\n",
        "While Python doesn't have a built-in construct for interfaces, abstract base classes (ABCs) can be used to achieve a similar effect. ABCs provide a powerful mechanism for defining common interfaces, enforcing structure, and promoting abstraction in Python code.\n"
      ],
      "metadata": {
        "id": "1SpI_gxYI-9I"
      }
    },
    {
      "cell_type": "markdown",
      "source": [
        "8. Create a Python class hierarchy for animals and implement abstraction by defining common methods (e.g., `eat()`, `sleep()`) in an abstract base class."
      ],
      "metadata": {
        "id": "pGmBa9sWJF4A"
      }
    },
    {
      "cell_type": "code",
      "source": [
        "from abc import ABC, abstractmethod\n",
        "\n",
        "class Animal(ABC):\n",
        "    @abstractmethod\n",
        "    def eat(self):\n",
        "        pass\n",
        "\n",
        "    @abstractmethod\n",
        "    def sleep(self):\n",
        "        pass\n",
        "\n",
        "class Mammal(Animal):\n",
        "    def eat(self):\n",
        "        return \"Eating...\"\n",
        "\n",
        "    def sleep(self):\n",
        "        return \"Sleeping...\"\n",
        "\n",
        "class Bird(Animal):\n",
        "    def eat(self):\n",
        "        return \"Pecking at food...\"\n",
        "\n",
        "    def sleep(self):\n",
        "        return \"Roosting...\"\n",
        "\n",
        "class Dog(Mammal):\n",
        "    def eat(self):\n",
        "        return \"Gobbling up kibble...\"\n",
        "\n",
        "    def sleep(self):\n",
        "        return \"Snoring...\"\n",
        "\n",
        "class Parrot(Bird):\n",
        "    def eat(self):\n",
        "        return \"Cracking open seeds...\"\n",
        "\n",
        "    def sleep(self):\n",
        "        return \"Perching quietly...\"\n",
        "\n",
        "# Example usage:\n",
        "animals = [\n",
        "    Dog(),\n",
        "    Parrot()\n",
        "]\n",
        "\n",
        "for animal in animals:\n",
        "    print(animal.eat())\n",
        "    print(animal.sleep())\n",
        "    print()"
      ],
      "metadata": {
        "colab": {
          "base_uri": "https://localhost:8080/"
        },
        "id": "ktgr5ll2I8ZI",
        "outputId": "6dab0c74-d5e0-40c7-9837-83e0ccf78201"
      },
      "execution_count": 39,
      "outputs": [
        {
          "output_type": "stream",
          "name": "stdout",
          "text": [
            "Gobbling up kibble...\n",
            "Snoring...\n",
            "\n",
            "Cracking open seeds...\n",
            "Perching quietly...\n",
            "\n"
          ]
        }
      ]
    },
    {
      "cell_type": "markdown",
      "source": [
        "9. Explain the significance of encapsulation in achieving abstraction. Provide examples."
      ],
      "metadata": {
        "id": "u0VKF_DiJMBP"
      }
    },
    {
      "cell_type": "markdown",
      "source": [
        "**Encapsulation and Abstraction**\n",
        "\n",
        "Encapsulation and abstraction are closely related concepts in object-oriented programming (OOP). Encapsulation involves bundling data and the methods that operate on that data into a single unit, while abstraction focuses on the essential features of an object, hiding the unnecessary details.\n",
        "\n",
        "**Significance of Encapsulation in Achieving Abstraction:**\n",
        "\n",
        "1. **Information Hiding:** Encapsulation helps to hide the internal implementation details of an object, making it easier to focus on its essential features. This is a key aspect of abstraction, as it allows you to treat objects as black boxes that provide specific functionality without needing to understand their internal workings.\n",
        "2. **Controlled Access:** Encapsulation provides controlled access to an object's data and methods through a well-defined interface. This prevents unauthorized access or modification, ensuring the integrity of the object's state.\n",
        "3. **Modularity:** Encapsulated objects can be treated as self-contained units, making it easier to reuse them in different parts of your code. This promotes modularity and reduces code complexity.\n",
        "4. **Flexibility:** Encapsulation allows you to change the internal implementation of a class without affecting its external interface. This provides flexibility and makes it easier to adapt your code to changing requirements.\n",
        "\n",
        "**Example:**\n",
        "\n",
        "```python\n",
        "class Car:\n",
        "    def __init__(self, make, model):\n",
        "        self.__make = make\n",
        "        self.__model = model\n",
        "\n",
        "    def get_make(self):\n",
        "        return self.__make\n",
        "\n",
        "    def get_model(self):\n",
        "        return self.__model\n",
        "\n",
        "    def start(self):\n",
        "        print(\"Starting the car\")\n",
        "\n",
        "    def stop(self):\n",
        "        print(\"Stopping the car\")\n",
        "```\n",
        "\n",
        "In this example, the `Car` class encapsulates the `make` and `model` attributes and provides methods to access and modify them. This hides the internal implementation of the car, making it easier to use and understand. Users of the `Car` class only need to know how to interact with the public methods, without worrying about the details of how the car works.\n",
        "\n",
        "**In conclusion:**\n",
        "\n",
        "Encapsulation plays a crucial role in achieving abstraction by providing a controlled interface for interacting with objects and hiding their internal implementation details. This makes code more modular, reusable, and easier to understand and maintain.\n"
      ],
      "metadata": {
        "id": "BUZAL0suJS--"
      }
    },
    {
      "cell_type": "markdown",
      "source": [
        "10. What is the purpose of abstract methods, and how do they enforce abstraction in Python classes?"
      ],
      "metadata": {
        "id": "s6_rL1usJZAW"
      }
    },
    {
      "cell_type": "markdown",
      "source": [
        "**Abstract Methods in Python**\n",
        "\n",
        "Abstract methods are methods declared within an abstract class using the `@abstractmethod` decorator. They have no implementation and must be overridden by derived classes.\n",
        "\n",
        "**Purpose:**\n",
        "\n",
        "- **Define a Common Interface:** Abstract methods define a common interface for a group of related classes. This ensures that all derived classes have the same methods, promoting consistency and making it easier to work with objects of different classes.\n",
        "- **Prevent Instantiation of Abstract Classes:** Abstract classes cannot be instantiated directly. This prevents the creation of incomplete objects that lack the necessary functionality.\n",
        "- **Enforce Implementation:** By requiring derived classes to implement abstract methods, abstract classes ensure that they have the necessary behavior to be considered valid instances of the class.\n",
        "\n",
        "**Example:**\n",
        "\n",
        "```python\n",
        "from abc import ABC, abstractmethod\n",
        "\n",
        "class Shape(ABC):\n",
        "    @abstractmethod\n",
        "    def area(self):\n",
        "        pass\n",
        "\n",
        "class Rectangle(Shape):\n",
        "    def __init__(self, width, height):\n",
        "        self.width = width\n",
        "        self.height = height\n",
        "\n",
        "    def area(self):\n",
        "        return self.width * self.height\n",
        "\n",
        "class Circle(Shape):\n",
        "    def __init__(self, radius):\n",
        "        self.radius = radius\n",
        "\n",
        "    def area(self):\n",
        "        return 3.14159 * self.radius * self.radius\n",
        "```\n",
        "\n",
        "In this example:\n",
        "\n",
        "- The `Shape` class is an abstract base class that defines the `area` method as abstract.\n",
        "- The `Rectangle` and `Circle` classes must implement the `area` method to be considered valid subclasses of `Shape`.\n",
        "- This ensures that all shapes have a consistent interface and can be used in a polymorphic way.\n",
        "\n",
        "**Significance of Abstract Methods in Abstraction:**\n",
        "\n",
        "- **Enforces a Common Interface:** Abstract methods define a contract that derived classes must adhere to, promoting abstraction and making the code more predictable.\n",
        "- **Prevents Incomplete Objects:** By preventing direct instantiation of abstract classes, abstract methods help ensure that objects are always complete and have the necessary functionality.\n",
        "- **Promotes Code Reusability:** Abstract classes can be used to create reusable code that can be extended and customized by derived classes.\n"
      ],
      "metadata": {
        "id": "oSPK93D0JgKU"
      }
    },
    {
      "cell_type": "markdown",
      "source": [
        "11. Create a Python class for a vehicle system and demonstrate abstraction by defining common methods (e.g., `start()`, `stop()`) in an abstract base class."
      ],
      "metadata": {
        "id": "-m0FH3zyJiYa"
      }
    },
    {
      "cell_type": "code",
      "source": [
        "from abc import ABC, abstractmethod\n",
        "\n",
        "class Vehicle(ABC):\n",
        "    \"\"\"Abstract base class for vehicles.\"\"\"\n",
        "    def __init__(self, name):\n",
        "        self.name = name\n",
        "\n",
        "    @abstractmethod\n",
        "    def start(self):\n",
        "        \"\"\"Start the vehicle.\"\"\"\n",
        "        pass\n",
        "\n",
        "    @abstractmethod\n",
        "    def stop(self):\n",
        "        \"\"\"Stop the vehicle.\"\"\"\n",
        "        pass\n",
        "\n",
        "class Car(Vehicle):\n",
        "    \"\"\"Concrete class for cars.\"\"\"\n",
        "    def start(self):\n",
        "        print(f\"Starting {self.name}...\")\n",
        "\n",
        "    def stop(self):\n",
        "        print(f\"Stopping {self.name}...\")\n",
        "\n",
        "class Motorcycle(Vehicle):\n",
        "    \"\"\"Concrete class for motorcycles.\"\"\"\n",
        "    def start(self):\n",
        "        print(f\"Starting {self.name}...\")\n",
        "\n",
        "    def stop(self):\n",
        "        print(f\"Stopping {self.name}...\")\n",
        "\n",
        "# Create instances of Car and Motorcycle\n",
        "my_car = Car(\"Toyota\")\n",
        "my_motorcycle = Motorcycle(\"Honda\")\n",
        "\n",
        "# Demonstrate the start and stop methods\n",
        "my_car.start()\n",
        "my_car.stop()\n",
        "my_motorcycle.start()\n",
        "my_motorcycle.stop()"
      ],
      "metadata": {
        "colab": {
          "base_uri": "https://localhost:8080/"
        },
        "id": "MzAloEymJOBZ",
        "outputId": "fff0ca3a-6096-4991-a262-d1148953a4ac"
      },
      "execution_count": 40,
      "outputs": [
        {
          "output_type": "stream",
          "name": "stdout",
          "text": [
            "Starting Toyota...\n",
            "Stopping Toyota...\n",
            "Starting Honda...\n",
            "Stopping Honda...\n"
          ]
        }
      ]
    },
    {
      "cell_type": "markdown",
      "source": [
        "12. Describe the use of abstract properties in Python and how they can be employed in abstract classes."
      ],
      "metadata": {
        "id": "4N0RHnBDJuPZ"
      }
    },
    {
      "cell_type": "markdown",
      "source": [
        "**Abstract Properties in Python**\n",
        "\n",
        "Abstract properties are a powerful feature in Python that allow you to define a common interface for properties across a group of related classes. They are similar to abstract methods, but they are used specifically for properties.\n",
        "\n",
        "**Defining Abstract Properties:**\n",
        "\n",
        "To define an abstract property, you use the `@abstractmethod` decorator on a property getter or setter. This indicates that derived classes must provide their own implementation for that property.\n",
        "\n",
        "**Example:**\n",
        "\n",
        "```python\n",
        "from abc import ABC, abstractmethod\n",
        "\n",
        "class Shape(ABC):\n",
        "    @property\n",
        "    @abstractmethod\n",
        "    def area(self):\n",
        "        pass\n",
        "\n",
        "    @area.setter\n",
        "    @abstractmethod\n",
        "    def area(self, value):\n",
        "        pass\n",
        "```\n",
        "\n",
        "In this example, the `Shape` class defines an abstract property `area`. Both the getter and setter for this property are marked as abstract, meaning derived classes must implement both of them.\n",
        "\n",
        "**Usage in Abstract Classes:**\n",
        "\n",
        "Abstract properties are often used in abstract classes to define a common interface for a group of related classes. This ensures that all derived classes have consistent properties and behavior.\n",
        "\n",
        "**Example:**\n",
        "\n",
        "```python\n",
        "from abc import ABC, abstractmethod\n",
        "\n",
        "class Shape(ABC):\n",
        "    @property\n",
        "    @abstractmethod\n",
        "    def area(self):\n",
        "        pass\n",
        "\n",
        "    @area.setter\n",
        "    @abstractmethod\n",
        "    def area(self, value):\n",
        "        pass\n",
        "\n",
        "class Rectangle(Shape):\n",
        "    def __init__(self, width, height):\n",
        "        self._area = width * height\n",
        "\n",
        "    @property\n",
        "    def area(self):\n",
        "        return self._area\n",
        "\n",
        "    @area.setter\n",
        "    def area(self, value):\n",
        "        if value >= 0:\n",
        "            self._area = value\n",
        "        else:\n",
        "            raise ValueError(\"Area cannot be negative\")\n",
        "\n",
        "# Create a Rectangle object\n",
        "rectangle = Rectangle(4, 3)\n",
        "\n",
        "# Access and modify the area property\n",
        "print(rectangle.area)  # Output: 12\n",
        "rectangle.area = 15\n",
        "print(rectangle.area)  # Output: 15\n",
        "```\n",
        "\n",
        "**Key Points:**\n",
        "\n",
        "- Abstract properties are defined using the `@abstractmethod` decorator on both the getter and setter.\n",
        "- Derived classes must implement both the getter and setter for abstract properties.\n",
        "- Abstract properties can be used to define a common interface for properties across a group of related classes.\n",
        "- They can be used to enforce data validation and consistency.\n",
        "\n"
      ],
      "metadata": {
        "id": "Jk0bmVK7JxJn"
      }
    },
    {
      "cell_type": "markdown",
      "source": [
        "13. Create a Python class hierarchy for employees in a company (e.g., manager, developer, designer) and implement abstraction by defining a common `get_salary()` method."
      ],
      "metadata": {
        "id": "sQA6ebBwJ9Db"
      }
    },
    {
      "cell_type": "code",
      "source": [
        "from abc import ABC, abstractmethod\n",
        "\n",
        "class Employee(ABC):\n",
        "    \"\"\"Abstract base class for employees.\"\"\"\n",
        "    def __init__(self, name, salary):\n",
        "        self.name = name\n",
        "        self.salary = salary\n",
        "\n",
        "    @abstractmethod\n",
        "    def get_salary(self):\n",
        "        \"\"\"Get the employee's salary.\"\"\"\n",
        "        pass\n",
        "\n",
        "class Manager(Employee):\n",
        "    \"\"\"Concrete class for managers.\"\"\"\n",
        "    def get_salary(self):\n",
        "        return self.salary * 1.2  # Managers get a 20% bonus\n",
        "\n",
        "class Developer(Employee):\n",
        "    \"\"\"Concrete class for developers.\"\"\"\n",
        "    def get_salary(self):\n",
        "        return self.salary  # Developers get their base salary\n",
        "\n",
        "class Designer(Employee):\n",
        "    \"\"\"Concrete class for designers.\"\"\"\n",
        "    def get_salary(self):\n",
        "        return self.salary * 0.9  # Designers get a 10% discount\n",
        "\n",
        "# Create instances of Manager, Developer, and Designer\n",
        "john_manager = Manager(\"John\", 100000)\n",
        "jane_developer = Developer(\"Jane\", 80000)\n",
        "bob_designer = Designer(\"Bob\", 60000)\n",
        "\n",
        "# Demonstrate the get_salary method\n",
        "print(f\"John's salary: ${john_manager.get_salary():.2f}\")\n",
        "print(f\"Jane's salary: ${jane_developer.get_salary():.2f}\")\n",
        "print(f\"Bob's salary: ${bob_designer.get_salary():.2f}\")"
      ],
      "metadata": {
        "colab": {
          "base_uri": "https://localhost:8080/"
        },
        "id": "NAlTfN0hJu4G",
        "outputId": "04b1dc1f-bb70-4238-813d-9643befa51f4"
      },
      "execution_count": 41,
      "outputs": [
        {
          "output_type": "stream",
          "name": "stdout",
          "text": [
            "John's salary: $120000.00\n",
            "Jane's salary: $80000.00\n",
            "Bob's salary: $54000.00\n"
          ]
        }
      ]
    },
    {
      "cell_type": "markdown",
      "source": [
        "14. Discuss the differences between abstract classes and concrete classes in Python, including their\n",
        "instantiation."
      ],
      "metadata": {
        "id": "xqP-9A1JKFGz"
      }
    },
    {
      "cell_type": "markdown",
      "source": [
        "**Abstract Classes vs. Concrete Classes in Python**\n",
        "\n",
        "**Abstract Classes:**\n",
        "\n",
        "- **Definition:** Classes that cannot be instantiated directly. They serve as blueprints for other classes.\n",
        "- **Characteristics:**\n",
        "  - Must contain at least one abstract method.\n",
        "  - Derived classes must implement all abstract methods.\n",
        "- **Purpose:**\n",
        "  - Define a common interface for related classes.\n",
        "  - Enforce consistent structure and behavior.\n",
        "  - Promote code reusability.\n",
        "- **Instantiation:** Cannot be instantiated directly.\n",
        "\n",
        "**Concrete Classes:**\n",
        "\n",
        "- **Definition:** Classes that can be instantiated to create objects.\n",
        "- **Characteristics:**\n",
        "  - May or may not contain abstract methods.\n",
        "  - Can provide implementations for abstract methods inherited from abstract classes.\n",
        "- **Purpose:**\n",
        "  - Represent real-world entities or abstract concepts.\n",
        "  - Provide functionality and data.\n",
        "- **Instantiation:** Can be instantiated to create objects.\n",
        "\n",
        "**Key Differences:**\n",
        "\n",
        "| Feature | Abstract Class | Concrete Class |\n",
        "|---|---|---|\n",
        "| Instantiation | Cannot be instantiated | Can be instantiated |\n",
        "| Abstract methods | Must contain at least one abstract method | May or may not contain abstract methods |\n",
        "| Derived classes | Derived classes must implement abstract methods | Derived classes can inherit concrete methods |\n",
        "| Purpose | Define a common interface, enforce structure | Represent objects and provide functionality |\n",
        "\n",
        "**Example:**\n",
        "\n",
        "```python\n",
        "from abc import ABC, abstractmethod\n",
        "\n",
        "class Shape(ABC):\n",
        "    @abstractmethod\n",
        "    def area(self):\n",
        "        pass\n",
        "\n",
        "class Rectangle(Shape):\n",
        "    def __init__(self, width, height):\n",
        "        self.width = width\n",
        "        self.height = height\n",
        "\n",
        "    def area(self):\n",
        "        return self.width * self.height\n",
        "\n",
        "# Create an instance of a concrete class\n",
        "rectangle = Rectangle(4, 3)\n",
        "print(rectangle.area())  # Output: 12\n",
        "\n",
        "# Attempt to create an instance of an abstract class (will raise an error)\n",
        "shape = Shape()  # Raises TypeError\n",
        "```\n"
      ],
      "metadata": {
        "id": "14bVDndoKOST"
      }
    },
    {
      "cell_type": "markdown",
      "source": [
        "15. Explain the concept of abstract data types (ADTs) and their role in achieving abstraction in Python."
      ],
      "metadata": {
        "id": "3UdSGHEWKSdZ"
      }
    },
    {
      "cell_type": "markdown",
      "source": [
        "**Abstract Data Types (ADTs) in Python**\n",
        "\n",
        "ADTs are a programming concept that defines the behavior and operations of a data structure without specifying its underlying implementation. They focus on what the data structure can do rather than how it's implemented.\n",
        "\n",
        "**Role in Abstraction:**\n",
        "\n",
        "ADTs play a crucial role in achieving abstraction by:\n",
        "\n",
        "- **Hiding Implementation Details:** ADTs allow you to focus on the interface or contract that the data structure provides, without worrying about the specific data structures or algorithms used internally.\n",
        "- **Promoting Code Reusability:** By defining a common interface for different data structures, ADTs can promote code reusability. Functions or methods that operate on ADTs can work with different implementations of the same ADT.\n",
        "- **Enhancing Maintainability:** ADTs make code more maintainable by separating the interface from the implementation. Changes to the implementation can be made without affecting the code that uses the ADT.\n",
        "\n",
        "**Examples of ADTs in Python:**\n",
        "\n",
        "- **Lists:** ADTs for ordered collections of elements.\n",
        "- **Dictionaries:** ADTs for key-value pairs.\n",
        "- **Sets:** ADTs for unordered collections of unique elements.\n",
        "- **Stacks:** ADTs for last-in-first-out (LIFO) data structures.\n",
        "- **Queues:** ADTs for first-in-first-out (FIFO) data structures.\n",
        "\n",
        "**Python's Built-in ADTs:**\n",
        "\n",
        "Python provides built-in ADTs that you can use directly:\n",
        "\n",
        "- `list`: Represents ordered collections of elements.\n",
        "- `dict`: Represents key-value pairs.\n",
        "- `set`: Represents unordered collections of unique elements.\n",
        "\n",
        "**Custom ADTs:**\n",
        "\n",
        "You can also create your own custom ADTs by defining classes that implement the desired behavior and interface.\n",
        "\n",
        "**Benefits of Using ADTs:**\n",
        "\n",
        "- **Improved Code Readability:** ADTs can make your code more readable by using familiar terms and concepts.\n",
        "- **Simplified Design:** ADTs can simplify the design of your code by focusing on the behavior of data structures rather than their implementation details.\n",
        "- **Flexibility:** ADTs can be implemented using different underlying data structures, providing flexibility and adaptability.\n"
      ],
      "metadata": {
        "id": "eXn9SorRKZy2"
      }
    },
    {
      "cell_type": "markdown",
      "source": [
        "16. Create a Python class for a computer system, demonstrating abstraction by defining common methods(e.g., power_on(), shutdown()) in an abstract base class."
      ],
      "metadata": {
        "id": "HlsbHfsXKcHf"
      }
    },
    {
      "cell_type": "code",
      "source": [
        "from abc import ABC, abstractmethod\n",
        "\n",
        "class Computer(ABC):\n",
        "    \"\"\"Abstract base class for computers.\"\"\"\n",
        "    def __init__(self, name):\n",
        "        self.name = name\n",
        "        self.is_powered_on = False\n",
        "\n",
        "    @abstractmethod\n",
        "    def power_on(self):\n",
        "        \"\"\"Power on the computer.\"\"\"\n",
        "        pass\n",
        "\n",
        "    @abstractmethod\n",
        "    def shutdown(self):\n",
        "        \"\"\"Shut down the computer.\"\"\"\n",
        "        pass\n",
        "\n",
        "class Laptop(Computer):\n",
        "    \"\"\"Concrete class for laptops.\"\"\"\n",
        "    def power_on(self):\n",
        "        if not self.is_powered_on:\n",
        "            print(f\"Powering on {self.name}...\")\n",
        "            self.is_powered_on = True\n",
        "        else:\n",
        "            print(f\"{self.name} is already powered on.\")\n",
        "\n",
        "    def shutdown(self):\n",
        "        if self.is_powered_on:\n",
        "            print(f\"Shutting down {self.name}...\")\n",
        "            self.is_powered_on = False\n",
        "        else:\n",
        "            print(f\"{self.name} is already shut down.\")\n",
        "\n",
        "class Desktop(Computer):\n",
        "    \"\"\"Concrete class for desktops.\"\"\"\n",
        "    def power_on(self):\n",
        "        if not self.is_powered_on:\n",
        "            print(f\"Powering on {self.name}...\")\n",
        "            self.is_powered_on = True\n",
        "        else:\n",
        "            print(f\"{self.name} is already powered on.\")\n",
        "\n",
        "    def shutdown(self):\n",
        "        if self.is_powered_on:\n",
        "            print(f\"Shutting down {self.name}...\")\n",
        "            self.is_powered_on = False\n",
        "        else:\n",
        "            print(f\"{self.name} is already shut down.\")\n",
        "\n",
        "# Create instances of Laptop and Desktop\n",
        "my_laptop = Laptop(\"Dell XPS\")\n",
        "my_desktop = Desktop(\"Apple iMac\")\n",
        "\n",
        "# Demonstrate the power_on and shutdown methods\n",
        "my_laptop.power_on()\n",
        "my_laptop.shutdown()\n",
        "my_desktop.power_on()\n",
        "my_desktop.shutdown()"
      ],
      "metadata": {
        "colab": {
          "base_uri": "https://localhost:8080/"
        },
        "id": "Hz9YD2IdKH06",
        "outputId": "9f4a6c83-9638-4299-d1e2-fe64e20a20c9"
      },
      "execution_count": 42,
      "outputs": [
        {
          "output_type": "stream",
          "name": "stdout",
          "text": [
            "Powering on Dell XPS...\n",
            "Shutting down Dell XPS...\n",
            "Powering on Apple iMac...\n",
            "Shutting down Apple iMac...\n"
          ]
        }
      ]
    },
    {
      "cell_type": "markdown",
      "source": [
        "17. Discuss the benefits of using abstraction in large-scale software development projects."
      ],
      "metadata": {
        "id": "1FWQMTufK4kC"
      }
    },
    {
      "cell_type": "markdown",
      "source": [
        "**Benefits of Abstraction in Large-Scale Software Development Projects**\n",
        "\n",
        "Abstraction is a fundamental principle in object-oriented programming that significantly enhances the development and maintenance of large-scale software projects. Here are some of its key benefits:\n",
        "\n",
        "**1. Modularity and Reusability:**\n",
        "\n",
        "- **Component-Based Development:** Abstraction allows you to break down complex systems into smaller, self-contained components. This promotes modularity, making the code easier to understand, maintain, and reuse.\n",
        "- **Code Reusability:** By focusing on the essential features of objects, abstraction can lead to more reusable code. Components that are well-encapsulated and have clear interfaces can be used in multiple parts of your application.\n",
        "\n",
        "**2. Improved Maintainability:**\n",
        "\n",
        "- **Reduced Complexity:** Abstraction helps to simplify the code by hiding unnecessary details and focusing on the essential features. This makes it easier to understand and maintain the codebase.\n",
        "- **Isolation of Changes:** Encapsulated components can be modified without affecting other parts of the application, reducing the risk of introducing unintended side effects.\n",
        "- **Easier Testing:** Abstraction makes it easier to write unit tests for individual components, as you can focus on testing their public interfaces without worrying about the internal implementation.\n",
        "\n",
        "**3. Enhanced Scalability:**\n",
        "\n",
        "- **Flexibility:** Abstraction allows you to make changes to the underlying implementation of a component without affecting its external interface. This makes it easier to scale the application to handle larger workloads or new requirements.\n",
        "- **Extensibility:** Abstraction promotes extensibility by allowing you to add new features or components to the application without modifying existing code.\n",
        "\n",
        "**4. Improved Collaboration:**\n",
        "\n",
        "- **Shared Understanding:** Abstraction can help to create a shared understanding of the system among team members. By defining clear interfaces and focusing on the essential features, it becomes easier to collaborate and work together effectively.\n",
        "- **Reduced Complexity for New Developers:** Abstraction can make it easier for new developers to understand and contribute to the project, as they can focus on the high-level concepts without getting lost in the details.\n",
        "\n",
        "**In summary, abstraction is a powerful tool that can significantly improve the quality, maintainability, and scalability of large-scale software projects.** By focusing on the essential features of objects and hiding unnecessary details, you can create more modular, reusable, and extensible code.\n"
      ],
      "metadata": {
        "id": "1RTX-231LB5h"
      }
    },
    {
      "cell_type": "markdown",
      "source": [
        "18. Explain how abstraction enhances code reusability and modularity in Python programs."
      ],
      "metadata": {
        "id": "wspSo0G9LE5U"
      }
    },
    {
      "cell_type": "markdown",
      "source": [
        "**Abstraction and Code Reusability and Modularity**\n",
        "\n",
        "Abstraction, a fundamental principle in object-oriented programming (OOP), significantly enhances code reusability and modularity.\n",
        "\n",
        "**Code Reusability:**\n",
        "\n",
        "- **Self-Contained Units:** Encapsulated objects, created through abstraction, are self-contained units, meaning they can be reused in different parts of your code without worrying about their internal implementation. This reduces redundancy and promotes code reuse.\n",
        "- **Flexibility:** Abstraction allows you to change the internal implementation of a class without affecting its external interface. This makes it easier to reuse the class in different contexts and adapt it to changing requirements.\n",
        "\n",
        "**Modularity:**\n",
        "\n",
        "- **Separation of Concerns:** Abstraction separates the concerns of an object's behavior from its implementation details. This makes the code more modular and easier to understand and maintain.\n",
        "- **Component-Based Development:** Encapsulated objects can be treated as components that can be combined and reused in different ways to build more complex systems.\n",
        "- **Testability:** Abstraction makes it easier to write unit tests for individual components of your code, as you can focus on testing the public interface without worrying about the internal implementation.\n",
        "\n",
        "**Example:**\n",
        "\n",
        "```python\n",
        "class Car:\n",
        "    def __init__(self, make, model):\n",
        "        self.__make = make\n",
        "        self.__model = model\n",
        "\n",
        "    def get_make(self):\n",
        "        return self.__make\n",
        "\n",
        "    def get_model(self):\n",
        "        return self.__model\n",
        "\n",
        "    def start(self):\n",
        "        print(\"Starting the car\")\n",
        "\n",
        "    def stop(self):\n",
        "        print(\"Stopping the car\")\n",
        "```\n",
        "\n",
        "In this example, the `Car` class is encapsulated, providing a clear interface for interacting with car objects. This makes it reusable in different parts of your code, promoting modularity and reducing redundancy.\n",
        "\n",
        "**In summary, encapsulation enhances code reusability and modularity by:**\n",
        "\n",
        "- Creating self-contained units that can be reused in different contexts.\n",
        "- Separating concerns and making code easier to understand and maintain.\n",
        "- Promoting component-based development.\n",
        "- Improving code testability.\n"
      ],
      "metadata": {
        "id": "SrlE079lLIKg"
      }
    },
    {
      "cell_type": "markdown",
      "source": [
        "19. Create a Python class for a library system, implementing abstraction by defining common methods (e.g., `add_book()`, `borrow_book()`) in an abstract base class."
      ],
      "metadata": {
        "id": "-WfanI7FLLFA"
      }
    },
    {
      "cell_type": "code",
      "source": [
        "from abc import ABC, abstractmethod\n",
        "\n",
        "class Library(ABC):\n",
        "    \"\"\"Abstract base class for libraries.\"\"\"\n",
        "    def __init__(self, name):\n",
        "        self.name = name\n",
        "        self.books = {}\n",
        "\n",
        "    @abstractmethod\n",
        "    def add_book(self, title, author, isbn):\n",
        "        \"\"\"Add a book to the library.\"\"\"\n",
        "        pass\n",
        "\n",
        "    @abstractmethod\n",
        "    def borrow_book(self, title):\n",
        "        \"\"\"Borrow a book from the library.\"\"\"\n",
        "        pass\n",
        "\n",
        "    @abstractmethod\n",
        "    def return_book(self, title):\n",
        "        \"\"\"Return a book to the library.\"\"\"\n",
        "        pass\n",
        "\n",
        "class PublicLibrary(Library):\n",
        "    \"\"\"Concrete class for public libraries.\"\"\"\n",
        "    def add_book(self, title, author, isbn):\n",
        "        if title not in self.books:\n",
        "            self.books[title] = {\"author\": author, \"isbn\": isbn, \"available\": True}\n",
        "            print(f\"Added '{title}' by {author} to the library.\")\n",
        "        else:\n",
        "            print(f\"'{title}' by {author} is already in the library.\")\n",
        "\n",
        "    def borrow_book(self, title):\n",
        "        if title in self.books and self.books[title][\"available\"]:\n",
        "            self.books[title][\"available\"] = False\n",
        "            print(f\"You have borrowed '{title}'.\")\n",
        "        elif title not in self.books:\n",
        "            print(f\"'{title}' is not in the library.\")\n",
        "        else:\n",
        "            print(f\"'{title}' is currently not available.\")\n",
        "\n",
        "    def return_book(self, title):\n",
        "        if title in self.books and not self.books[title][\"available\"]:\n",
        "            self.books[title][\"available\"] = True\n",
        "            print(f\"You have returned '{title}'.\")\n",
        "        elif title not in self.books:\n",
        "            print(f\"'{title}' is not in the library.\")\n",
        "        else:\n",
        "            print(f\"'{title}' is already available.\")\n",
        "\n",
        "class UniversityLibrary(Library):\n",
        "    \"\"\"Concrete class for university libraries.\"\"\"\n",
        "    def add_book(self, title, author, isbn):\n",
        "        if title not in self.books:\n",
        "            self.books[title] = {\"author\": author, \"isbn\": isbn, \"available\": True, \"reserved\": False}\n",
        "            print(f\"Added '{title}' by {author} to the library.\")\n",
        "        else:\n",
        "            print(f\"'{title}' by {author} is already in the library.\")\n",
        "\n",
        "    def borrow_book(self, title):\n",
        "        if title in self.books and self.books[title][\"available\"] and not self.books[title][\"reserved\"]:\n",
        "            self.books[title][\"available\"] = False\n",
        "            print(f\"You have borrowed '{title}'.\")\n",
        "        elif title not in self.books:\n",
        "            print(f\"'{title}' is not in the library.\")\n",
        "        elif self.books[title][\"reserved\"]:\n",
        "            print(f\"'{title}' is reserved by another user.\")\n",
        "        else:\n",
        "            print(f\"'{title}' is currently not available.\")\n",
        "\n",
        "    def return_book(self, title):\n",
        "        if title in self.books and not self.books[title][\"available\"]:\n",
        "            self.books[title][\"available\"] = True\n",
        "            print(f\"You have returned '{title}'.\")\n",
        "        elif title not in self.books:\n",
        "            print(f\"'{title}' is not in the library.\")\n",
        "        else:\n",
        "            print(f\"'{title}' is already available.\")\n",
        "\n",
        "# Create instances of PublicLibrary and UniversityLibrary\n",
        "public_library = PublicLibrary(\"New York Public Library\")\n",
        "university_library = UniversityLibrary(\"Harvard University Library\")\n",
        "\n",
        "# Demonstrate the add_book, borrow_book, and return_book methods\n",
        "public_library.add_book(\"To Kill a Mockingbird\", \"Harper Lee\", \"9780061120084\")\n",
        "public_library.borrow_book(\"To Kill a Mockingbird\")\n",
        "public_library.return_book(\"To Kill a Mockingbird\")\n",
        "\n",
        "university_library.add_book(\"Introduction to Algorithms\", \"Thomas H. Cormen\", \"9780262033848\")\n",
        "university_library.borrow_book(\"Introduction to Algorithms\")\n",
        "university_library.return_book(\"Introduction to Algorithms\")"
      ],
      "metadata": {
        "colab": {
          "base_uri": "https://localhost:8080/"
        },
        "id": "cUQZpE1QK8ty",
        "outputId": "8e890f48-80cc-413f-c0cb-46e509efdcba"
      },
      "execution_count": 43,
      "outputs": [
        {
          "output_type": "stream",
          "name": "stdout",
          "text": [
            "Added 'To Kill a Mockingbird' by Harper Lee to the library.\n",
            "You have borrowed 'To Kill a Mockingbird'.\n",
            "You have returned 'To Kill a Mockingbird'.\n",
            "Added 'Introduction to Algorithms' by Thomas H. Cormen to the library.\n",
            "You have borrowed 'Introduction to Algorithms'.\n",
            "You have returned 'Introduction to Algorithms'.\n"
          ]
        }
      ]
    },
    {
      "cell_type": "markdown",
      "source": [
        "20. Describe the concept of method abstraction in Python and how it relates to polymorphism."
      ],
      "metadata": {
        "id": "ATSL3yTNLTB7"
      }
    },
    {
      "cell_type": "markdown",
      "source": [
        "**Method Abstraction in Python**\n",
        "\n",
        "Method abstraction is a technique in object-oriented programming where you define a common interface for a group of related methods, without specifying their exact implementation. This allows you to treat objects of different classes in a uniform way, promoting polymorphism.\n",
        "\n",
        "**Key Aspects of Method Abstraction:**\n",
        "\n",
        "- **Common Interface:** Define a common interface for a group of methods, specifying their names, parameters, and return types.\n",
        "- **Implementation Details:** Hide the specific implementation details of the methods, allowing for flexibility and customization.\n",
        "- **Polymorphism:** Method abstraction is closely related to polymorphism. By defining a common interface, you can create functions that can work with objects of different classes, as long as they implement the required methods.\n",
        "\n",
        "**Example:**\n",
        "\n",
        "```python\n",
        "class Animal:\n",
        "    def make_sound(self):\n",
        "        print(\"Generic animal sound\")\n",
        "\n",
        "class Dog(Animal):\n",
        "    def make_sound(self):\n",
        "        print(\"Woof!\")\n",
        "\n",
        "class Cat(Animal):\n",
        "    def make_sound(self):\n",
        "        print(\"Meow!\")\n",
        "\n",
        "def animal_sounds(animals):\n",
        "    for animal in animals:\n",
        "        animal.make_sound()\n",
        "```\n",
        "\n",
        "In this example, the `make_sound` method is a common interface for all `Animal` objects. The specific implementation of the `make_sound` method varies depending on the class (Dog or Cat), but the overall behavior is consistent.\n",
        "\n",
        "**Benefits of Method Abstraction:**\n",
        "\n",
        "- **Polymorphism:** Method abstraction enables polymorphism, allowing objects of different classes to be treated as if they were objects of the same class.\n",
        "- **Flexibility:** It makes your code more flexible and adaptable, as you can easily add new classes that implement the common interface.\n",
        "- **Code Reusability:** By defining a common interface, you can write generic functions that can work with objects of different classes, promoting code reusability.\n",
        "\n",
        "**In summary, method abstraction is a powerful technique in Python that:**\n",
        "\n",
        "- Defines a common interface for related methods.\n",
        "- Hides implementation details.\n",
        "- Promotes polymorphism and flexibility.\n",
        "- Enhances code reusability.\n"
      ],
      "metadata": {
        "id": "JW3qEyhiLY0Z"
      }
    },
    {
      "cell_type": "markdown",
      "source": [
        "**Composition:**"
      ],
      "metadata": {
        "id": "JOB8XSSmLhfQ"
      }
    },
    {
      "cell_type": "markdown",
      "source": [
        "1. Explain the concept of composition in Python and how it is used to build complex objects from simpler ones."
      ],
      "metadata": {
        "id": "hQPpunV3Ljab"
      }
    },
    {
      "cell_type": "markdown",
      "source": [
        "**Composition** is a fundamental concept in object-oriented programming (OOP) that involves building complex objects by combining simpler objects. It represents a \"has-a\" relationship between classes, meaning a class can contain or reference objects of other classes.\n",
        "\n",
        "**Key points about composition:**\n",
        "\n",
        "* **Building blocks:** Composition allows you to create complex objects by combining smaller, more reusable components.\n",
        "* **Flexibility:** It provides a flexible way to design and structure your code, as you can easily modify or replace components without affecting the overall structure.\n",
        "* **Reusability:** By using existing components, you can avoid duplicating code and promote reusability.\n",
        "* **Decoupling:** Composition can help decouple different parts of your code, making it easier to maintain and test.\n",
        "\n",
        "**Example:**\n",
        "\n",
        "```python\n",
        "class Engine:\n",
        "    def start(self):\n",
        "        print(\"Engine started\")\n",
        "\n",
        "class Wheels:\n",
        "    def rotate(self):\n",
        "        print(\"Wheels rotating\")\n",
        "\n",
        "class Car:\n",
        "    def __init__(self):\n",
        "        self.engine = Engine()\n",
        "        self.wheels = Wheels()\n",
        "\n",
        "    def drive(self):\n",
        "        self.engine.start()\n",
        "        self.wheels.rotate()\n",
        "```\n",
        "\n",
        "In this example, the `Car` class is composed of an `Engine` and `Wheels` object. The `Car` class can use the functionality of these components to perform its own actions.\n",
        "\n",
        "**Benefits of using composition:**\n",
        "\n",
        "* **Flexibility:** You can easily change the components used by a class without affecting its overall interface.\n",
        "* **Reusability:** Components can be reused in multiple classes, reducing code duplication.\n",
        "* **Maintainability:** Composition can make your code easier to maintain by separating concerns and promoting modularity.\n",
        "* **Clarity:** Composition can make your code more readable and understandable by clearly showing the relationships between different objects.\n"
      ],
      "metadata": {
        "id": "WunDUiFPLngZ"
      }
    },
    {
      "cell_type": "markdown",
      "source": [
        "2. Describe the difference between composition and inheritance in object-oriented programming."
      ],
      "metadata": {
        "id": "CGpF5767Luh4"
      }
    },
    {
      "cell_type": "markdown",
      "source": [
        "**Composition** and **Inheritance** are two fundamental concepts in object-oriented programming that are often used to achieve code reusability and modularity. However, they have distinct characteristics and are used in different scenarios.\n",
        "\n",
        "**Inheritance:**\n",
        "\n",
        "* **Represents an \"is-a\" relationship:** A subclass is a specialized version of its parent class.\n",
        "* **Syntax:** Uses the `class` keyword and parentheses to specify the parent class.\n",
        "* **Relationship:** Parent-child relationship.\n",
        "* **Example:**\n",
        "  ```python\n",
        "  class Animal:\n",
        "      # ...\n",
        "  class Dog(Animal):\n",
        "      # ...\n",
        "  ```\n",
        "\n",
        "**Composition:**\n",
        "\n",
        "* **Represents a \"has-a\" relationship:** A class contains or uses another class as a component.\n",
        "* **Syntax:** Declares an instance variable of the other class within the class.\n",
        "* **Relationship:** Part-whole relationship.\n",
        "* **Example:**\n",
        "  ```python\n",
        "  class Engine:\n",
        "      # ...\n",
        "  class Car:\n",
        "      def __init__(self):\n",
        "          self.engine = Engine()\n",
        "  ```\n",
        "\n",
        "**Key Differences:**\n",
        "\n",
        "| Feature | Inheritance | Composition |\n",
        "|---|---|---|\n",
        "| Relationship | \"is-a\" | \"has-a\" |\n",
        "| Syntax | `class DerivedClass(BaseClass):` | Instance variable of another class |\n",
        "| Coupling | Tightly coupled | Loosely coupled |\n",
        "| Flexibility | Less flexible (can't change parent class after creation) | More flexible (can change components dynamically) |\n",
        "| Hierarchy | Creates a hierarchical structure | Creates a flat structure |\n",
        "\n",
        "**When to Use Which:**\n",
        "\n",
        "- **Inheritance:** Use inheritance when there's a clear \"is-a\" relationship between classes and you want to reuse code from the parent class.\n",
        "- **Composition:** Use composition when a class needs to use the functionality of another class but doesn't have a direct \"is-a\" relationship. This provides more flexibility and avoids tight coupling.\n",
        "\n",
        "**In summary:**\n",
        "\n",
        "* **Inheritance** is suitable for modeling \"is-a\" relationships and sharing common code between classes.\n",
        "* **Composition** is suitable for modeling \"has-a\" relationships and building complex objects from simpler components.\n"
      ],
      "metadata": {
        "id": "ciqUlz9SLxIr"
      }
    },
    {
      "cell_type": "markdown",
      "source": [
        "3. Create a Python class called `Author` with attributes for name and birthdate. Then, create a `Book` class\n",
        "that contains an instance of `Author` as a composition. Provide an example of creating a `Book` object."
      ],
      "metadata": {
        "id": "OAgBgo8WL80-"
      }
    },
    {
      "cell_type": "code",
      "source": [
        "class Author:\n",
        "    \"\"\"Class representing an author.\"\"\"\n",
        "    def __init__(self, name, birthdate):\n",
        "        self.name = name\n",
        "        self.birthdate = birthdate\n",
        "\n",
        "    def __str__(self):\n",
        "        return f\"{self.name} (born {self.birthdate})\"\n",
        "\n",
        "\n",
        "class Book:\n",
        "    \"\"\"Class representing a book.\"\"\"\n",
        "    def __init__(self, title, author, isbn):\n",
        "        self.title = title\n",
        "        self.author = author\n",
        "        self.isbn = isbn\n",
        "\n",
        "    def __str__(self):\n",
        "        return f\"{self.title} by {self.author} (ISBN: {self.isbn})\"\n",
        "\n",
        "\n",
        "# Create an Author object\n",
        "author = Author(\"J.K. Rowling\", \"1965-07-31\")\n",
        "\n",
        "# Create a Book object with the Author object as a composition\n",
        "book = Book(\"Harry Potter and the Philosopher's Stone\", author, \"9780747532743\")\n",
        "\n",
        "# Print the Book object\n",
        "print(book)"
      ],
      "metadata": {
        "colab": {
          "base_uri": "https://localhost:8080/"
        },
        "id": "2MzMzUnpLTz6",
        "outputId": "6796d0bb-9898-473f-cc01-6c3381937e95"
      },
      "execution_count": 44,
      "outputs": [
        {
          "output_type": "stream",
          "name": "stdout",
          "text": [
            "Harry Potter and the Philosopher's Stone by J.K. Rowling (born 1965-07-31) (ISBN: 9780747532743)\n"
          ]
        }
      ]
    },
    {
      "cell_type": "markdown",
      "source": [
        "4. Discuss the benefits of using composition over inheritance in Python, especially in terms of code flexibility\n",
        "and reusability."
      ],
      "metadata": {
        "id": "liTPKFAKMBCK"
      }
    },
    {
      "cell_type": "markdown",
      "source": [
        "**Benefits of Using Composition Over Inheritance in Python**\n",
        "\n",
        "While inheritance can be a powerful tool, composition often offers greater flexibility and reusability in Python. Here are some key advantages:\n",
        "\n",
        "**Flexibility:**\n",
        "\n",
        "* **Dynamic Composition:** You can change the components of a class dynamically, allowing for more flexible and adaptable designs. This is particularly useful in scenarios where the relationships between classes might change over time.\n",
        "* **Avoidance of Tight Coupling:** Composition promotes loose coupling between classes, meaning changes to one class are less likely to affect other classes. This makes your code more maintainable and easier to modify.\n",
        "\n",
        "**Reusability:**\n",
        "\n",
        "* **Smaller, More Reusable Components:** Composition encourages you to break down complex objects into smaller, more focused components. These components can often be reused in different parts of your application or even in other projects.\n",
        "* **Avoidance of Inheritance Hierarchies:** Overreliance on inheritance can lead to complex class hierarchies that can be difficult to understand and maintain. Composition provides a more flexible alternative, allowing you to build complex objects without creating deep inheritance chains.\n",
        "\n",
        "**Example:**\n",
        "\n",
        "```python\n",
        "class Engine:\n",
        "    # ...\n",
        "\n",
        "class Wheels:\n",
        "    # ...\n",
        "\n",
        "class Car:\n",
        "    def __init__(self):\n",
        "        self.engine = Engine()\n",
        "        self.wheels = Wheels()\n",
        "\n",
        "    # ...\n",
        "```\n",
        "\n",
        "In this example, the `Car` class uses composition to include an `Engine` and `Wheels` object. This allows for more flexibility, as you can easily change the type of engine or wheels used in the `Car` without modifying the `Car` class itself.\n",
        "\n",
        "**In summary:**\n",
        "\n",
        "* **Composition** offers greater flexibility and reusability compared to inheritance.\n",
        "* **Dynamic Composition:** Allows you to change components at runtime.\n",
        "* **Loose Coupling:** Reduces the impact of changes to individual components.\n",
        "* **Smaller, More Reusable Components:** Encourages the creation of smaller, more focused components.\n",
        "* **Avoidance of Inheritance Hierarchies:** Provides a more flexible alternative to deep inheritance chains.\n"
      ],
      "metadata": {
        "id": "5h83aV5SMJOi"
      }
    },
    {
      "cell_type": "markdown",
      "source": [
        "5. How can you implement composition in Python classes? Provide examples of using composition to create\n",
        "complex objects."
      ],
      "metadata": {
        "id": "aBW6eMZdMO_4"
      }
    },
    {
      "cell_type": "markdown",
      "source": [
        "**Implementing Composition in Python**\n",
        "\n",
        "Composition is a technique in object-oriented programming that involves building complex objects by combining simpler objects. To implement composition in Python, you typically:\n",
        "\n",
        "1. **Create component classes:** Define smaller, simpler classes that represent the components of the larger object.\n",
        "2. **Include instances of these components as attributes:** In the larger class, create instance variables to hold references to the component objects.\n",
        "3. **Use the component objects:** Access and use the methods and attributes of the component objects within the larger class.\n",
        "\n",
        "**Example:**\n",
        "\n",
        "```python\n",
        "class Engine:\n",
        "    def start(self):\n",
        "        print(\"Engine started\")\n",
        "\n",
        "class Wheels:\n",
        "    def rotate(self):\n",
        "        print(\"Wheels rotating\")\n",
        "\n",
        "class Car:\n",
        "    def __init__(self):\n",
        "        self.engine = Engine()\n",
        "        self.wheels = Wheels()\n",
        "\n",
        "    def drive(self):\n",
        "        self.engine.start()\n",
        "        self.wheels.rotate()\n",
        "```\n",
        "\n",
        "In this example:\n",
        "\n",
        "- `Engine` and `Wheels` are component classes that represent parts of a car.\n",
        "- The `Car` class contains instances of `Engine` and `Wheels` as attributes.\n",
        "- The `Car` class uses the methods of the `Engine` and `Wheels` objects to perform its actions.\n",
        "\n",
        "**Additional Examples:**\n",
        "\n",
        "- A `Person` class can be composed of a `Name` class, an `Address` class, and a `ContactInfo` class.\n",
        "- A `Document` class can be composed of a `Header` class, a `Body` class, and a `Footer` class.\n",
        "- A `Database` class can be composed of a `Connection` class, a `Table` class, and a `Query` class.\n",
        "\n",
        "**Benefits of Composition:**\n",
        "\n",
        "- **Flexibility:** You can easily change the components used by a class without affecting its overall interface.\n",
        "- **Reusability:** Components can be reused in multiple classes, reducing code duplication.\n",
        "- **Decoupling:** Composition promotes loose coupling between classes, making your code more maintainable and easier to modify.\n"
      ],
      "metadata": {
        "id": "MLYe2ZA1MUX1"
      }
    },
    {
      "cell_type": "markdown",
      "source": [
        "6. Create a Python class hierarchy for a music player system, using composition to represent playlists and\n",
        "songs."
      ],
      "metadata": {
        "id": "TlBddzixMY8O"
      }
    },
    {
      "cell_type": "code",
      "source": [
        "class Song:\n",
        "    \"\"\"Class representing a song.\"\"\"\n",
        "    def __init__(self, title, artist, duration):\n",
        "        self.title = title\n",
        "        self.artist = artist\n",
        "        self.duration = duration\n",
        "\n",
        "    def __str__(self):\n",
        "        return f\"{self.title} by {self.artist} ({self.duration})\"\n",
        "\n",
        "\n",
        "class Playlist:\n",
        "    \"\"\"Class representing a playlist.\"\"\"\n",
        "    def __init__(self, name):\n",
        "        self.name = name\n",
        "        self.songs = []\n",
        "\n",
        "    def add_song(self, song):\n",
        "        self.songs.append(song)\n",
        "\n",
        "    def remove_song(self, song):\n",
        "        self.songs.remove(song)\n",
        "\n",
        "    def __str__(self):\n",
        "        return f\"{self.name} ({len(self.songs)} songs)\"\n",
        "\n",
        "\n",
        "class MusicPlayer:\n",
        "    \"\"\"Class representing a music player.\"\"\"\n",
        "    def __init__(self, name):\n",
        "        self.name = name\n",
        "        self.playlists = []\n",
        "\n",
        "    def create_playlist(self, name):\n",
        "        playlist = Playlist(name)\n",
        "        self.playlists.append(playlist)\n",
        "        return playlist\n",
        "\n",
        "    def add_song_to_playlist(self, playlist_name, song):\n",
        "        for playlist in self.playlists:\n",
        "            if playlist.name == playlist_name:\n",
        "                playlist.add_song(song)\n",
        "                return\n",
        "        print(f\"Playlist '{playlist_name}' not found.\")\n",
        "\n",
        "    def play_song(self, song):\n",
        "        print(f\"Playing '{song.title}' by {song.artist}\")\n",
        "\n",
        "    def __str__(self):\n",
        "        return f\"{self.name} Music Player ({len(self.playlists)} playlists)\"\n",
        "\n",
        "\n",
        "# Create a MusicPlayer object\n",
        "music_player = MusicPlayer(\"My Music Player\")\n",
        "\n",
        "# Create a playlist\n",
        "playlist = music_player.create_playlist(\"My Favorites\")\n",
        "\n",
        "# Create some songs\n",
        "song1 = Song(\"Happy\", \"Pharrell Williams\", \"3:53\")\n",
        "song2 = Song(\"Uptown Funk\", \"Mark Ronson ft. Bruno Mars\", \"4:38\")\n",
        "song3 = Song(\"Can't Stop the Feeling!\", \"Justin Timberlake\", \"3:56\")\n",
        "\n",
        "# Add songs to the playlist\n",
        "music_player.add_song_to_playlist(\"My Favorites\", song1)\n",
        "music_player.add_song_to_playlist(\"My Favorites\", song2)\n",
        "music_player.add_song_to_playlist(\"My Favorites\", song3)\n",
        "\n",
        "# Play a song\n",
        "music_player.play_song(song1)\n",
        "\n",
        "# Print the music player and playlist\n",
        "print(music_player)\n",
        "print(playlist)"
      ],
      "metadata": {
        "colab": {
          "base_uri": "https://localhost:8080/"
        },
        "id": "OCDfV39UMFkr",
        "outputId": "17ef90b8-0103-4f64-88af-38598baa105a"
      },
      "execution_count": 45,
      "outputs": [
        {
          "output_type": "stream",
          "name": "stdout",
          "text": [
            "Playing 'Happy' by Pharrell Williams\n",
            "My Music Player Music Player (1 playlists)\n",
            "My Favorites (3 songs)\n"
          ]
        }
      ]
    },
    {
      "cell_type": "markdown",
      "source": [
        "7. Explain the concept of \"has-a\" relationships in composition and how it helps design software systems."
      ],
      "metadata": {
        "id": "_xEKoUw9Mf7d"
      }
    },
    {
      "cell_type": "markdown",
      "source": [
        "**\"Has-a\" Relationships in Composition**\n",
        "\n",
        "In object-oriented programming, a \"has-a\" relationship indicates that a class contains or uses another class as a component. This means one object is composed of other objects.\n",
        "\n",
        "**How it Helps Design Software Systems**\n",
        "\n",
        "* **Modularity:** Composition breaks down complex systems into smaller, more manageable components. This makes the code easier to understand, maintain, and modify.\n",
        "* **Flexibility:** Composition provides flexibility by allowing you to change the components of a class without affecting its overall interface. This makes it easier to adapt your code to changing requirements.\n",
        "* **Reusability:** Components can be reused in multiple classes, reducing code duplication and improving efficiency.\n",
        "* **Decoupling:** Composition promotes loose coupling between classes, making your code less tightly coupled and more maintainable.\n",
        "* **Clarity:** Composition can make your code more readable and understandable by clearly showing the relationships between different objects.\n",
        "\n",
        "**Example:**\n",
        "\n",
        "```python\n",
        "class Engine:\n",
        "    # ...\n",
        "\n",
        "class Wheels:\n",
        "    # ...\n",
        "\n",
        "class Car:\n",
        "    def __init__(self):\n",
        "        self.engine = Engine()\n",
        "        self.wheels = Wheels()\n",
        "```\n",
        "\n",
        "In this example, a `Car` \"has-a\" `Engine` and \"has-a\" `Wheels`. This composition allows the `Car` to use the functionality of these components to perform its actions.\n",
        "\n",
        "**In summary:**\n",
        "\n",
        "\"Has-a\" relationships in composition provide a powerful way to build complex systems from smaller, reusable components. They promote modularity, flexibility, and maintainability, making your code easier to understand, modify, and extend.\n"
      ],
      "metadata": {
        "id": "E5YFgdrSMhmH"
      }
    },
    {
      "cell_type": "markdown",
      "source": [
        "8. Create a Python class for a computer system, using composition to represent components like CPU, RAM,\n",
        "and storage devices."
      ],
      "metadata": {
        "id": "UW2JneIpMktC"
      }
    },
    {
      "cell_type": "code",
      "source": [
        "class CPU:\n",
        "    \"\"\"Class representing a CPU.\"\"\"\n",
        "    def __init__(self, model, speed):\n",
        "        self.model = model\n",
        "        self.speed = speed\n",
        "\n",
        "    def __str__(self):\n",
        "        return f\"{self.model} ({self.speed} GHz)\"\n",
        "\n",
        "\n",
        "class RAM:\n",
        "    \"\"\"Class representing RAM.\"\"\"\n",
        "    def __init__(self, capacity):\n",
        "        self.capacity = capacity\n",
        "\n",
        "    def __str__(self):\n",
        "        return f\"{self.capacity} GB RAM\"\n",
        "\n",
        "\n",
        "class StorageDevice:\n",
        "    \"\"\"Class representing a storage device.\"\"\"\n",
        "    def __init__(self, type, capacity):\n",
        "        self.type = type\n",
        "        self.capacity = capacity\n",
        "\n",
        "    def __str__(self):\n",
        "        return f\"{self.type} ({self.capacity} GB)\"\n",
        "\n",
        "\n",
        "class Computer:\n",
        "    \"\"\"Class representing a computer system.\"\"\"\n",
        "    def __init__(self, name):\n",
        "        self.name = name\n",
        "        self.cpu = None\n",
        "        self.ram = None\n",
        "        self.storage_devices = []\n",
        "\n",
        "    def add_cpu(self, cpu):\n",
        "        self.cpu = cpu\n",
        "\n",
        "    def add_ram(self, ram):\n",
        "        self.ram = ram\n",
        "\n",
        "    def add_storage_device(self, storage_device):\n",
        "        self.storage_devices.append(storage_device)\n",
        "\n",
        "    def __str__(self):\n",
        "        components = [f\"CPU: {self.cpu}\", f\"RAM: {self.ram}\"]\n",
        "        for i, storage_device in enumerate(self.storage_devices):\n",
        "            components.append(f\"Storage Device {i+1}: {storage_device}\")\n",
        "        return f\"{self.name}\\n\" + \"\\n\".join(components)\n",
        "\n",
        "\n",
        "# Create a Computer object\n",
        "computer = Computer(\"My Computer\")\n",
        "\n",
        "# Create components\n",
        "cpu = CPU(\"Intel Core i7\", 3.2)\n",
        "ram = RAM(16)\n",
        "storage_device1 = StorageDevice(\"SSD\", 512)\n",
        "storage_device2 = StorageDevice(\"HDD\", 1024)\n",
        "\n",
        "# Add components to the computer\n",
        "computer.add_cpu(cpu)\n",
        "computer.add_ram(ram)\n",
        "computer.add_storage_device(storage_device1)\n",
        "computer.add_storage_device(storage_device2)\n",
        "\n",
        "# Print the computer\n",
        "print(computer)"
      ],
      "metadata": {
        "colab": {
          "base_uri": "https://localhost:8080/"
        },
        "id": "nMb9Sa7tMbeg",
        "outputId": "1dcac584-fa3c-4483-f3d4-24dbc7796f40"
      },
      "execution_count": 46,
      "outputs": [
        {
          "output_type": "stream",
          "name": "stdout",
          "text": [
            "My Computer\n",
            "CPU: Intel Core i7 (3.2 GHz)\n",
            "RAM: 16 GB RAM\n",
            "Storage Device 1: SSD (512 GB)\n",
            "Storage Device 2: HDD (1024 GB)\n"
          ]
        }
      ]
    },
    {
      "cell_type": "markdown",
      "source": [
        "9. Describe the concept of \"delegation\" in composition and how it simplifies the design of complex systems."
      ],
      "metadata": {
        "id": "0FWIHylJMoQ4"
      }
    },
    {
      "cell_type": "markdown",
      "source": [
        "**Delegation in Composition**\n",
        "\n",
        "Delegation is a technique in object-oriented programming where an object delegates a task to another object, rather than handling it itself. This is often used in conjunction with composition, where a class contains instances of other classes.\n",
        "\n",
        "**How Delegation Simplifies Design:**\n",
        "\n",
        "1. **Separation of Concerns:** Delegation helps to separate concerns by breaking down complex tasks into smaller, more focused subtasks. This makes the code easier to understand and maintain.\n",
        "2. **Reusability:** By delegating tasks to other objects, you can reuse their functionality in multiple places, reducing code duplication.\n",
        "3. **Flexibility:** Delegation provides flexibility by allowing you to change the implementation of a delegated task without affecting the class that delegates it. This makes your code more adaptable to changes.\n",
        "4. **Maintainability:** Delegation can make your code more maintainable by isolating changes to specific components. This reduces the risk of unintended side effects and makes it easier to debug and fix issues.\n",
        "\n",
        "**Example:**\n",
        "\n",
        "```python\n",
        "class Database:\n",
        "    def query(self, sql):\n",
        "        # ...\n",
        "\n",
        "class User:\n",
        "    def __init__(self):\n",
        "        self.database = Database()\n",
        "\n",
        "    def get_data(self, query):\n",
        "        return self.database.query(query)\n",
        "```\n",
        "\n",
        "In this example, the `User` class delegates the task of executing database queries to the `Database` class. This simplifies the `User` class and makes it more focused on user-related tasks.\n",
        "\n",
        "**Key Points:**\n",
        "\n",
        "- Delegation is a powerful technique for simplifying complex systems.\n",
        "- It helps to separate concerns and promote reusability.\n",
        "- It can make your code more flexible and maintainable.\n",
        "- Delegation often involves using composition to create relationships between objects.\n"
      ],
      "metadata": {
        "id": "cP51h0gcMx4m"
      }
    },
    {
      "cell_type": "markdown",
      "source": [
        "10. Create a Python class for a car, using composition to represent components like the engine, wheels, and\n",
        "transmission."
      ],
      "metadata": {
        "id": "oVVefxSQM5bn"
      }
    },
    {
      "cell_type": "code",
      "source": [
        "class Engine:\n",
        "    \"\"\"Class representing a car engine.\"\"\"\n",
        "    def __init__(self, type, horsepower):\n",
        "        self.type = type\n",
        "        self.horsepower = horsepower\n",
        "\n",
        "    def __str__(self):\n",
        "        return f\"{self.type} Engine ({self.horsepower} HP)\"\n",
        "\n",
        "\n",
        "class Wheel:\n",
        "    \"\"\"Class representing a car wheel.\"\"\"\n",
        "    def __init__(self, size, type):\n",
        "        self.size = size\n",
        "        self.type = type\n",
        "\n",
        "    def __str__(self):\n",
        "        return f\"{self.size} {self.type} Wheel\"\n",
        "\n",
        "\n",
        "class Transmission:\n",
        "    \"\"\"Class representing a car transmission.\"\"\"\n",
        "    def __init__(self, type, gears):\n",
        "        self.type = type\n",
        "        self.gears = gears\n",
        "\n",
        "    def __str__(self):\n",
        "        return f\"{self.type} Transmission ({self.gears} gears)\"\n",
        "\n",
        "\n",
        "class Car:\n",
        "    \"\"\"Class representing a car.\"\"\"\n",
        "    def __init__(self, make, model, year):\n",
        "        self.make = make\n",
        "        self.model = model\n",
        "        self.year = year\n",
        "        self.engine = None\n",
        "        self.wheels = []\n",
        "        self.transmission = None\n",
        "\n",
        "    def add_engine(self, engine):\n",
        "        self.engine = engine\n",
        "\n",
        "    def add_wheel(self, wheel):\n",
        "        self.wheels.append(wheel)\n",
        "\n",
        "    def add_transmission(self, transmission):\n",
        "        self.transmission = transmission\n",
        "\n",
        "    def __str__(self):\n",
        "        components = [f\"Make: {self.make}\", f\"Model: {self.model}\", f\"Year: {self.year}\"]\n",
        "        components.append(f\"Engine: {self.engine}\")\n",
        "        wheels_str = \", \".join(str(wheel) for wheel in self.wheels)\n",
        "        components.append(f\"Wheels: {wheels_str}\")\n",
        "        components.append(f\"Transmission: {self.transmission}\")\n",
        "        return \"\\n\".join(components)\n",
        "\n",
        "\n",
        "# Create a Car object\n",
        "car = Car(\"Toyota\", \"Corolla\", 2022)\n",
        "\n",
        "# Create components\n",
        "engine = Engine(\"Gasoline\", 150)\n",
        "wheel1 = Wheel(17, \"Alloy\")\n",
        "wheel2 = Wheel(17, \"Alloy\")\n",
        "wheel3 = Wheel(17, \"Alloy\")\n",
        "wheel4 = Wheel(17, \"Alloy\")\n",
        "transmission = Transmission(\"Automatic\", 6)\n",
        "\n",
        "# Add components to the car\n",
        "car.add_engine(engine)\n",
        "car.add_wheel(wheel1)\n",
        "car.add_wheel(wheel2)\n",
        "car.add_wheel(wheel3)\n",
        "car.add_wheel(wheel4)\n",
        "car.add_transmission(transmission)\n",
        "\n",
        "# Print the car\n",
        "print(car)"
      ],
      "metadata": {
        "colab": {
          "base_uri": "https://localhost:8080/"
        },
        "id": "iX2EMRVgMrv0",
        "outputId": "7cc48809-ba7a-4265-8a43-c1f51cd54eae"
      },
      "execution_count": 47,
      "outputs": [
        {
          "output_type": "stream",
          "name": "stdout",
          "text": [
            "Make: Toyota\n",
            "Model: Corolla\n",
            "Year: 2022\n",
            "Engine: Gasoline Engine (150 HP)\n",
            "Wheels: 17 Alloy Wheel, 17 Alloy Wheel, 17 Alloy Wheel, 17 Alloy Wheel\n",
            "Transmission: Automatic Transmission (6 gears)\n"
          ]
        }
      ]
    },
    {
      "cell_type": "markdown",
      "source": [
        "11. How can you encapsulate and hide the details of composed objects in Python classes to maintain\n",
        "abstraction?"
      ],
      "metadata": {
        "id": "BahmmigKM8KP"
      }
    },
    {
      "cell_type": "markdown",
      "source": [
        "**Encapsulating Composed Objects in Python**\n",
        "\n",
        "To encapsulate and hide the details of composed objects in Python, you can:\n",
        "\n",
        "1. **Make the component objects private:** This prevents direct access to the component objects from outside the class, ensuring that the internal structure of the class remains hidden.\n",
        "\n",
        "   ```python\n",
        "   class Car:\n",
        "       def __init__(self):\n",
        "           self.__engine = Engine()\n",
        "           self.__wheels = Wheels()\n",
        "   ```\n",
        "\n",
        "2. **Provide public methods to access and modify components:** This allows you to control how the components are used and prevent unauthorized access or modification.\n",
        "\n",
        "   ```python\n",
        "   class Car:\n",
        "       def __init__(self):\n",
        "           self.__engine = Engine()\n",
        "           self.__wheels = Wheels()\n",
        "\n",
        "       def start(self):\n",
        "           self.__engine.start()\n",
        "\n",
        "       def stop(self):\n",
        "           self.__engine.stop()\n",
        "   ```\n",
        "\n",
        "3. **Use property decorators:** You can use property decorators to provide a controlled interface for accessing and modifying the component objects. This can help to enforce data validation and consistency.\n",
        "\n",
        "   ```python\n",
        "   class Car:\n",
        "       def __init__(self):\n",
        "           self.__engine = Engine()\n",
        "\n",
        "       @property\n",
        "       def engine(self):\n",
        "           return self.__engine\n",
        "\n",
        "       @engine.setter\n",
        "       def engine(self, engine):\n",
        "           self.__engine = engine\n",
        "   ```\n",
        "\n",
        "4. **Avoid exposing internal details:** Avoid exposing the component objects directly to the outside world. Instead, provide methods that use the components to perform specific tasks.\n",
        "\n",
        "**Example:**\n",
        "\n",
        "```python\n",
        "class Car:\n",
        "    def __init__(self):\n",
        "        self.__engine = Engine()\n",
        "        self.__wheels = Wheels()\n",
        "\n",
        "    def start(self):\n",
        "        self.__engine.start()\n",
        "        self.__wheels.rotate()\n",
        "\n",
        "    def stop(self):\n",
        "        self.__engine.stop()\n",
        "        self.__wheels.stop_rotating()\n",
        "```\n",
        "\n",
        "In this example, the `Car` class encapsulates the `Engine` and `Wheels` objects, providing a controlled interface for interacting with them. This helps to maintain abstraction and prevents unauthorized access to the internal components.\n",
        "\n"
      ],
      "metadata": {
        "id": "dK9FkbrONCTb"
      }
    },
    {
      "cell_type": "markdown",
      "source": [
        "12. Create a Python class for a university course, using composition to represent students, instructors, and\n",
        "course materials."
      ],
      "metadata": {
        "id": "_Q0NRMzDNN9f"
      }
    },
    {
      "cell_type": "code",
      "source": [
        "class Student:\n",
        "    def __init__(self, name, student_id):\n",
        "        self.name = name\n",
        "        self.student_id = student_id\n",
        "\n",
        "    def __str__(self):\n",
        "        return f\"Student: {self.name} (ID: {self.student_id})\"\n",
        "\n",
        "class Instructor:\n",
        "    def __init__(self, name, employee_id):\n",
        "        self.name = name\n",
        "        self.employee_id = employee_id\n",
        "\n",
        "    def __str__(self):\n",
        "        return f\"Instructor: {self.name} (Employee ID: {self.employee_id})\"\n",
        "\n",
        "class CourseMaterial:\n",
        "    def __init__(self, title, material_type):\n",
        "        self.title = title\n",
        "        self.material_type = material_type\n",
        "\n",
        "    def __str__(self):\n",
        "        return f\"{self.material_type}: {self.title}\"\n",
        "\n",
        "class Course:\n",
        "    def __init__(self, course_code, course_name, instructor):\n",
        "        self.course_code = course_code\n",
        "        self.course_name = course_name\n",
        "        self.instructor = instructor\n",
        "        self.students = []\n",
        "        self.materials = []\n",
        "\n",
        "    def add_student(self, student):\n",
        "        self.students.append(student)\n",
        "\n",
        "    def add_material(self, material):\n",
        "        self.materials.append(material)\n",
        "\n",
        "    def __str__(self):\n",
        "        students_list = \"\\n\".join(str(student) for student in self.students)\n",
        "        materials_list = \"\\n\".join(str(material) for material in self.materials)\n",
        "        return (f\"Course Code: {self.course_code}\\n\"\n",
        "                f\"Course Name: {self.course_name}\\n\"\n",
        "                f\"Instructor: {self.instructor}\\n\"\n",
        "                f\"Students:\\n{students_list}\\n\"\n",
        "                f\"Materials:\\n{materials_list}\")\n",
        "\n",
        "# Example usage\n",
        "def main():\n",
        "    # Creating instructor\n",
        "    instructor = Instructor(\"Dr. Jane Smith\", \"I12345\")\n",
        "\n",
        "    # Creating students\n",
        "    student1 = Student(\"Alice Johnson\", \"S001\")\n",
        "    student2 = Student(\"Bob Brown\", \"S002\")\n",
        "\n",
        "    # Creating course materials\n",
        "    material1 = CourseMaterial(\"Introduction to Python\", \"Textbook\")\n",
        "    material2 = CourseMaterial(\"Python Programming Cheatsheet\", \"Handout\")\n",
        "\n",
        "    # Creating a course\n",
        "    course = Course(\"CS101\", \"Introduction to Computer Science\", instructor)\n",
        "    course.add_student(student1)\n",
        "    course.add_student(student2)\n",
        "    course.add_material(material1)\n",
        "    course.add_material(material2)\n",
        "\n",
        "    # Print course details\n",
        "    print(course)\n",
        "\n",
        "if __name__ == \"__main__\":\n",
        "    main()\n"
      ],
      "metadata": {
        "colab": {
          "base_uri": "https://localhost:8080/"
        },
        "id": "3JJY8NUQNWZO",
        "outputId": "80a12f49-8598-4847-9f09-c1e8339f4dbd"
      },
      "execution_count": 48,
      "outputs": [
        {
          "output_type": "stream",
          "name": "stdout",
          "text": [
            "Course Code: CS101\n",
            "Course Name: Introduction to Computer Science\n",
            "Instructor: Instructor: Dr. Jane Smith (Employee ID: I12345)\n",
            "Students:\n",
            "Student: Alice Johnson (ID: S001)\n",
            "Student: Bob Brown (ID: S002)\n",
            "Materials:\n",
            "Textbook: Introduction to Python\n",
            "Handout: Python Programming Cheatsheet\n"
          ]
        }
      ]
    },
    {
      "cell_type": "markdown",
      "source": [
        "13. Discuss the challenges and drawbacks of composition, such as increased complexity and potential for\n",
        "tight coupling between objects."
      ],
      "metadata": {
        "id": "EF-kISwtNh1N"
      }
    },
    {
      "cell_type": "markdown",
      "source": [
        "**Challenges and Drawbacks of Composition**\n",
        "\n",
        "While composition offers many benefits, it's important to be aware of its potential drawbacks:\n",
        "\n",
        "**Increased Complexity:**\n",
        "\n",
        "* **Nested Structure:** Composition can introduce a more nested structure to your code, making it potentially more complex to understand and maintain.\n",
        "* **Dependency Management:** Managing the dependencies between components can become more challenging, especially in large-scale systems.\n",
        "\n",
        "**Potential for Tight Coupling:**\n",
        "\n",
        "* **Overreliance on Components:** If a class is heavily dependent on its components, it can become tightly coupled, making it more difficult to modify or reuse.\n",
        "* **Circular Dependencies:** Be careful to avoid circular dependencies between components, as this can lead to complex and difficult-to-maintain code.\n",
        "\n",
        "**Addressing These Challenges:**\n",
        "\n",
        "To mitigate these drawbacks, consider the following strategies:\n",
        "\n",
        "* **Keep Components Small and Focused:** Break down complex objects into smaller, more focused components to reduce complexity.\n",
        "* **Use Dependency Injection:** Dependency injection can help to decouple components and make your code more flexible and maintainable.\n",
        "* **Avoid Circular Dependencies:** Carefully design your class hierarchy to prevent circular dependencies.\n",
        "* **Balance Abstraction and Complexity:** While abstraction is beneficial, avoid excessive abstraction that can make your code unnecessarily complex.\n",
        "\n",
        "**Conclusion:**\n",
        "\n",
        "While composition offers many advantages, it's important to be aware of its potential drawbacks and use it judiciously. By following best practices and carefully considering the trade-offs, you can effectively leverage composition to create well-structured and maintainable Python code.\n"
      ],
      "metadata": {
        "id": "dQhoNOOBNuI6"
      }
    },
    {
      "cell_type": "markdown",
      "source": [
        "14. Create a Python class hierarchy for a restaurant system, using composition to represent menus, dishes,\n",
        "and ingredients."
      ],
      "metadata": {
        "id": "8asQ9gaoNyzG"
      }
    },
    {
      "cell_type": "code",
      "source": [
        "class Ingredient:\n",
        "    \"\"\"Class representing an ingredient.\"\"\"\n",
        "    def __init__(self, name, quantity):\n",
        "        self.name = name\n",
        "        self.quantity = quantity\n",
        "\n",
        "    def __str__(self):\n",
        "        return f\"{self.name} ({self.quantity})\"\n",
        "\n",
        "\n",
        "class Dish:\n",
        "    \"\"\"Class representing a dish.\"\"\"\n",
        "    def __init__(self, name, price, ingredients):\n",
        "        self.name = name\n",
        "        self.price = price\n",
        "        self.ingredients = ingredients\n",
        "\n",
        "    def __str__(self):\n",
        "        ingredients_str = \", \".join(str(ingredient) for ingredient in self.ingredients)\n",
        "        return f\"{self.name} (${self.price:.2f}): {ingredients_str}\"\n",
        "\n",
        "\n",
        "class Menu:\n",
        "    \"\"\"Class representing a menu.\"\"\"\n",
        "    def __init__(self, name, dishes):\n",
        "        self.name = name\n",
        "        self.dishes = dishes\n",
        "\n",
        "    def __str__(self):\n",
        "        dishes_str = \"\\n\".join(str(dish) for dish in self.dishes)\n",
        "        return f\"{self.name} Menu:\\n{dishes_str}\"\n",
        "\n",
        "\n",
        "class Restaurant:\n",
        "    \"\"\"Class representing a restaurant.\"\"\"\n",
        "    def __init__(self, name, menus):\n",
        "        self.name = name\n",
        "        self.menus = menus\n",
        "\n",
        "    def __str__(self):\n",
        "        menus_str = \"\\n\\n\".join(str(menu) for menu in self.menus)\n",
        "        return f\"{self.name} Restaurant:\\n{menus_str}\"\n",
        "\n",
        "\n",
        "# Create ingredients\n",
        "ingredient1 = Ingredient(\"Chicken Breast\", \"1 lb\")\n",
        "ingredient2 = Ingredient(\"Rice\", \"2 cups\")\n",
        "ingredient3 = Ingredient(\"Vegetables\", \"1 cup\")\n",
        "\n",
        "# Create dishes\n",
        "dish1 = Dish(\"Chicken Fried Rice\", 12.99, [ingredient1, ingredient2, ingredient3])\n",
        "dish2 = Dish(\"Veggie Burger\", 9.99, [Ingredient(\"Beef Patty\", \"1 patty\"), Ingredient(\"Lettuce\", \"1 cup\"), Ingredient(\"Tomato\", \"1 cup\")])\n",
        "\n",
        "# Create menus\n",
        "menu1 = Menu(\"Lunch Menu\", [dish1, dish2])\n",
        "menu2 = Menu(\"Dinner Menu\", [dish1, Dish(\"Steak\", 24.99, [Ingredient(\"Steak\", \"1 lb\"), Ingredient(\"Potatoes\", \"2 cups\")])])\n",
        "\n",
        "# Create a restaurant\n",
        "restaurant = Restaurant(\"Bistro\", [menu1, menu2])\n",
        "\n",
        "# Print the restaurant\n",
        "print(restaurant)"
      ],
      "metadata": {
        "colab": {
          "base_uri": "https://localhost:8080/"
        },
        "id": "1Qu130bdM_II",
        "outputId": "427c0210-dfec-438e-9bd6-b51a22511ec0"
      },
      "execution_count": 49,
      "outputs": [
        {
          "output_type": "stream",
          "name": "stdout",
          "text": [
            "Bistro Restaurant:\n",
            "Lunch Menu Menu:\n",
            "Chicken Fried Rice ($12.99): Chicken Breast (1 lb), Rice (2 cups), Vegetables (1 cup)\n",
            "Veggie Burger ($9.99): Beef Patty (1 patty), Lettuce (1 cup), Tomato (1 cup)\n",
            "\n",
            "Dinner Menu Menu:\n",
            "Chicken Fried Rice ($12.99): Chicken Breast (1 lb), Rice (2 cups), Vegetables (1 cup)\n",
            "Steak ($24.99): Steak (1 lb), Potatoes (2 cups)\n"
          ]
        }
      ]
    },
    {
      "cell_type": "markdown",
      "source": [
        "15. Explain how composition enhances code maintainability and modularity in Python programs."
      ],
      "metadata": {
        "id": "Ft_XvE9ON3Xw"
      }
    },
    {
      "cell_type": "markdown",
      "source": [
        "**Composition and Code Maintainability and Modularity**\n",
        "\n",
        "Composition, a fundamental principle in object-oriented programming, significantly enhances code maintainability and modularity.\n",
        "\n",
        "**Code Maintainability:**\n",
        "\n",
        "- **Separation of Concerns:** Composition breaks down complex systems into smaller, more focused components, making it easier to understand and maintain each part independently.\n",
        "- **Isolation of Changes:** Changes to one component are less likely to affect other parts of the system, reducing the risk of unintended side effects.\n",
        "- **Easier Debugging:** Composition can make it easier to debug and fix issues, as you can focus on specific components and their interactions.\n",
        "\n",
        "**Modularity:**\n",
        "\n",
        "- **Reusable Components:** Composition encourages the creation of smaller, more reusable components that can be used in different parts of your application or even in other projects.\n",
        "- **Flexibility:** Composition provides flexibility by allowing you to change the components of a class without affecting its overall interface. This makes it easier to adapt your code to changing requirements.\n",
        "- **Extensibility:** Composition makes it easier to extend your code by adding new components or modifying existing ones.\n",
        "\n",
        "**Example:**\n",
        "\n",
        "```python\n",
        "class Engine:\n",
        "    # ...\n",
        "\n",
        "class Wheels:\n",
        "    # ...\n",
        "\n",
        "class Car:\n",
        "    def __init__(self):\n",
        "        self.engine = Engine()\n",
        "        self.wheels = Wheels()\n",
        "\n",
        "    # ...\n",
        "```\n",
        "\n",
        "In this example, the `Car` class uses composition to include an `Engine` and `Wheels` object. This makes the `Car` class more modular and maintainable, as changes to the `Engine` or `Wheels` components can be made without affecting the `Car` class directly.\n",
        "\n",
        "**Key Points:**\n",
        "\n",
        "- Composition promotes code maintainability by separating concerns and reducing the impact of changes.\n",
        "- It enhances modularity by allowing you to create reusable components.\n",
        "- Composition makes your code more flexible and adaptable to changing requirements.\n"
      ],
      "metadata": {
        "id": "evy2POF1N4l3"
      }
    },
    {
      "cell_type": "markdown",
      "source": [
        "16. Create a Python class for a computer game character, using composition to represent attributes like\n",
        "weapons, armor, and inventory."
      ],
      "metadata": {
        "id": "l2b__Q_AOJ1k"
      }
    },
    {
      "cell_type": "code",
      "source": [
        "class Weapon:\n",
        "    \"\"\"Class representing a weapon.\"\"\"\n",
        "    def __init__(self, name, damage):\n",
        "        self.name = name\n",
        "        self.damage = damage\n",
        "\n",
        "    def __str__(self):\n",
        "        return f\"{self.name} (+{self.damage} damage)\"\n",
        "\n",
        "\n",
        "class Armor:\n",
        "    \"\"\"Class representing armor.\"\"\"\n",
        "    def __init__(self, name, defense):\n",
        "        self.name = name\n",
        "        self.defense = defense\n",
        "\n",
        "    def __str__(self):\n",
        "        return f\"{self.name} (+{self.defense} defense)\"\n",
        "\n",
        "\n",
        "class Item:\n",
        "    \"\"\"Class representing an item in the inventory.\"\"\"\n",
        "    def __init__(self, name, description):\n",
        "        self.name = name\n",
        "        self.description = description\n",
        "\n",
        "    def __str__(self):\n",
        "        return f\"{self.name}: {self.description}\"\n",
        "\n",
        "\n",
        "class Character:\n",
        "    \"\"\"Class representing a game character.\"\"\"\n",
        "    def __init__(self, name, health, weapon, armor, inventory):\n",
        "        self.name = name\n",
        "        self.health = health\n",
        "        self.weapon = weapon\n",
        "        self.armor = armor\n",
        "        self.inventory = inventory\n",
        "\n",
        "    def __str__(self):\n",
        "        weapon_str = f\"Weapon: {self.weapon}\" if self.weapon else \"No weapon\"\n",
        "        armor_str = f\"Armor: {self.armor}\" if self.armor else \"No armor\"\n",
        "        inventory_str = \"\\n\".join(str(item) for item in self.inventory)\n",
        "        return f\"{self.name} (Health: {self.health}):\\n{weapon_str}\\n{armor_str}\\nInventory:\\n{inventory_str}\"\n",
        "\n",
        "\n",
        "# Create a character\n",
        "sword = Weapon(\"Sword\", 10)\n",
        "leather_armor = Armor(\"Leather Armor\", 2)\n",
        "potion = Item(\"Healing Potion\", \"Restores 10 health\")\n",
        "character = Character(\"Eryndor\", 100, sword, leather_armor, [potion])\n",
        "\n",
        "# Print the character\n",
        "print(character)"
      ],
      "metadata": {
        "colab": {
          "base_uri": "https://localhost:8080/"
        },
        "id": "3ifVOZA8N4Fx",
        "outputId": "65ab89f5-a7f8-4cdf-cc85-5a8fa65560e0"
      },
      "execution_count": 50,
      "outputs": [
        {
          "output_type": "stream",
          "name": "stdout",
          "text": [
            "Eryndor (Health: 100):\n",
            "Weapon: Sword (+10 damage)\n",
            "Armor: Leather Armor (+2 defense)\n",
            "Inventory:\n",
            "Healing Potion: Restores 10 health\n"
          ]
        }
      ]
    },
    {
      "cell_type": "markdown",
      "source": [
        "17. Describe the concept of \"aggregation\" in composition and how it differs from simple composition."
      ],
      "metadata": {
        "id": "LkFhLHGAORbD"
      }
    },
    {
      "cell_type": "markdown",
      "source": [
        "**Aggregation** is a specific type of composition where one object is strongly associated with another but doesn't have a lifetime dependency on it. In other words, the composed object can exist independently, even if the containing object is destroyed.\n",
        "\n",
        "**Key differences between aggregation and simple composition:**\n",
        "\n",
        "* **Lifetime Dependency:** In aggregation, the composed object can exist independently of the containing object. In simple composition, the composed object's lifetime is often tied to the containing object.\n",
        "* **Ownership:** In aggregation, the containing object doesn't \"own\" the composed object in the same way as in simple composition. The composed object can be shared by multiple containing objects.\n",
        "* **Example:**\n",
        "  - **Aggregation:** A car has a navigation system. The navigation system can exist independently of the car.\n",
        "  - **Simple Composition:** A book has pages. The pages cannot exist independently of the book.\n",
        "\n",
        "**Using Aggregation in Python:**\n",
        "\n",
        "To implement aggregation in Python, you can simply create instance variables of the composed objects within the containing class. The composed objects can be created and destroyed independently.\n",
        "\n",
        "**Example:**\n",
        "\n",
        "```python\n",
        "class NavigationSystem:\n",
        "    # ...\n",
        "\n",
        "class Car:\n",
        "    def __init__(self):\n",
        "        self.navigation_system = NavigationSystem()\n",
        "```\n",
        "\n",
        "In this example, the `Car` class has an aggregation relationship with the `NavigationSystem` class. The `NavigationSystem` object can exist independently of the `Car` object.\n",
        "\n",
        "**Benefits of Aggregation:**\n",
        "\n",
        "* **Flexibility:** Aggregation provides more flexibility than simple composition, as it allows for a looser coupling between objects.\n",
        "* **Reusability:** Composed objects can be reused in multiple contexts, promoting code reusability.\n",
        "* **Maintainability:** Aggregation can make your code easier to maintain by separating concerns and reducing dependencies.\n",
        "\n",
        "**In summary:**\n",
        "\n",
        "* **Aggregation** is a specific type of composition where the composed object can exist independently of the containing object.\n",
        "* It provides greater flexibility and reusability compared to simple composition.\n",
        "* To implement aggregation in Python, create instance variables of the composed objects within the containing class.\n"
      ],
      "metadata": {
        "id": "SJ0dYQFvOT8c"
      }
    },
    {
      "cell_type": "markdown",
      "source": [
        "18. Create a Python class for a house, using composition to represent rooms, furniture, and appliances."
      ],
      "metadata": {
        "id": "qFgovjJSOXam"
      }
    },
    {
      "cell_type": "code",
      "source": [
        "class Furniture:\n",
        "    \"\"\"Class representing a piece of furniture.\"\"\"\n",
        "    def __init__(self, name, description):\n",
        "        self.name = name\n",
        "        self.description = description\n",
        "\n",
        "    def __str__(self):\n",
        "        return f\"{self.name}: {self.description}\"\n",
        "\n",
        "\n",
        "class Appliance:\n",
        "    \"\"\"Class representing an appliance.\"\"\"\n",
        "    def __init__(self, name, description):\n",
        "        self.name = name\n",
        "        self.description = description\n",
        "\n",
        "    def __str__(self):\n",
        "        return f\"{self.name}: {self.description}\"\n",
        "\n",
        "\n",
        "class Room:\n",
        "    \"\"\"Class representing a room in the house.\"\"\"\n",
        "    def __init__(self, name, furniture=None, appliances=None):\n",
        "        self.name = name\n",
        "        self.furniture = furniture if furniture else []\n",
        "        self.appliances = appliances if appliances else []\n",
        "\n",
        "    def add_furniture(self, furniture):\n",
        "        self.furniture.append(furniture)\n",
        "\n",
        "    def add_appliance(self, appliance):\n",
        "        self.appliances.append(appliance)\n",
        "\n",
        "    def __str__(self):\n",
        "        furniture_str = \"\\n\".join(str(item) for item in self.furniture)\n",
        "        appliances_str = \"\\n\".join(str(item) for item in self.appliances)\n",
        "        return f\"{self.name}:\\nFurniture:\\n{furniture_str}\\nAppliances:\\n{appliances_str}\"\n",
        "\n",
        "\n",
        "class House:\n",
        "    \"\"\"Class representing a house.\"\"\"\n",
        "    def __init__(self, address, rooms=None):\n",
        "        self.address = address\n",
        "        self.rooms = rooms if rooms else []\n",
        "\n",
        "    def add_room(self, room):\n",
        "        self.rooms.append(room)\n",
        "\n",
        "    def __str__(self):\n",
        "        rooms_str = \"\\n\\n\".join(str(room) for room in self.rooms)\n",
        "        return f\"{self.address}:\\n{rooms_str}\"\n",
        "\n",
        "\n",
        "# Create a house\n",
        "living_room = Room(\"Living Room\")\n",
        "living_room.add_furniture(Furniture(\"Sofa\", \"A comfortable sofa\"))\n",
        "living_room.add_furniture(Furniture(\"TV Stand\", \"A TV stand with storage\"))\n",
        "living_room.add_appliance(Appliance(\"TV\", \"A 40-inch LED TV\"))\n",
        "\n",
        "kitchen = Room(\"Kitchen\")\n",
        "kitchen.add_furniture(Furniture(\"Dining Table\", \"A wooden dining table\"))\n",
        "kitchen.add_appliance(Appliance(\"Refrigerator\", \"A stainless steel refrigerator\"))\n",
        "\n",
        "house = House(\"123 Main St\", [living_room, kitchen])\n",
        "\n",
        "# Print the house\n",
        "print(house)"
      ],
      "metadata": {
        "colab": {
          "base_uri": "https://localhost:8080/"
        },
        "id": "789pmlWcONax",
        "outputId": "9e118189-a78f-4827-df63-2ba45bb357fe"
      },
      "execution_count": 51,
      "outputs": [
        {
          "output_type": "stream",
          "name": "stdout",
          "text": [
            "123 Main St:\n",
            "Living Room:\n",
            "Furniture:\n",
            "Sofa: A comfortable sofa\n",
            "TV Stand: A TV stand with storage\n",
            "Appliances:\n",
            "TV: A 40-inch LED TV\n",
            "\n",
            "Kitchen:\n",
            "Furniture:\n",
            "Dining Table: A wooden dining table\n",
            "Appliances:\n",
            "Refrigerator: A stainless steel refrigerator\n"
          ]
        }
      ]
    },
    {
      "cell_type": "markdown",
      "source": [
        "19. How can you achieve flexibility in composed objects by allowing them to be replaced or modified\n",
        "dynamically at runtime?"
      ],
      "metadata": {
        "id": "5k71ivtoOeCB"
      }
    },
    {
      "cell_type": "markdown",
      "source": [
        "**Achieving Flexibility in Composed Objects**\n",
        "\n",
        "To achieve flexibility in composed objects, you can:\n",
        "\n",
        "1. **Use Dependency Injection:** This involves passing dependencies (components) to a class as arguments in its constructor or setter methods. This allows you to dynamically inject different components into the class at runtime.\n",
        "\n",
        "   ```python\n",
        "   class Car:\n",
        "       def __init__(self, engine, wheels):\n",
        "           self.engine = engine\n",
        "           self.wheels = wheels\n",
        "   ```\n",
        "\n",
        "2. **Use a Factory Pattern:** A factory pattern can create different instances of a component based on configuration or user input. This allows you to dynamically choose which component to use.\n",
        "\n",
        "   ```python\n",
        "   class EngineFactory:\n",
        "       def create_engine(self, type):\n",
        "           if type == \"electric\":\n",
        "               return ElectricEngine()\n",
        "           elif type == \"gas\":\n",
        "               return GasEngine()\n",
        "           else:\n",
        "               raise ValueError(\"Invalid engine type\")\n",
        "   ```\n",
        "\n",
        "3. **Use a Plugin Architecture:** A plugin architecture allows you to add or remove components dynamically at runtime. This provides flexibility and extensibility.\n",
        "\n",
        "   ```python\n",
        "   class PluginManager:\n",
        "       def load_plugin(self, plugin_name):\n",
        "           # Load and return the plugin object\n",
        "   ```\n",
        "\n",
        "**Example:**\n",
        "\n",
        "```python\n",
        "class Car:\n",
        "    def __init__(self, engine, wheels):\n",
        "        self.engine = engine\n",
        "        self.wheels = wheels\n",
        "\n",
        "    def drive(self):\n",
        "        self.engine.start()\n",
        "        self.wheels.rotate()\n",
        "\n",
        "# Create different instances of Engine and Wheels\n",
        "electric_engine = ElectricEngine()\n",
        "gas_engine = GasEngine()\n",
        "sport_wheels = SportWheels()\n",
        "regular_wheels = RegularWheels()\n",
        "\n",
        "# Create a Car object with different components\n",
        "car1 = Car(electric_engine, sport_wheels)\n",
        "car2 = Car(gas_engine, regular_wheels)\n",
        "```\n",
        "\n"
      ],
      "metadata": {
        "id": "vJFHuoiVOlBh"
      }
    },
    {
      "cell_type": "markdown",
      "source": [
        "20. Create a Python class for a social media application, using composition to represent users, posts, and\n",
        "comments."
      ],
      "metadata": {
        "id": "jh39MOV2OpZZ"
      }
    },
    {
      "cell_type": "code",
      "source": [
        "class Comment:\n",
        "    \"\"\"Class representing a comment on a post.\"\"\"\n",
        "    def __init__(self, text, user):\n",
        "        self.text = text\n",
        "        self.user = user\n",
        "\n",
        "    def __str__(self):\n",
        "        return f\"{self.user.username}: {self.text}\"\n",
        "\n",
        "\n",
        "class Post:\n",
        "    \"\"\"Class representing a post on the social media platform.\"\"\"\n",
        "    def __init__(self, text, user, comments=None):\n",
        "        self.text = text\n",
        "        self.user = user\n",
        "        self.comments = comments if comments else []\n",
        "\n",
        "    def add_comment(self, comment):\n",
        "        self.comments.append(comment)\n",
        "\n",
        "    def __str__(self):\n",
        "        comments_str = \"\\n\".join(str(comment) for comment in self.comments)\n",
        "        return f\"{self.user.username}: {self.text}\\nComments:\\n{comments_str}\"\n",
        "\n",
        "\n",
        "class User:\n",
        "    \"\"\"Class representing a user on the social media platform.\"\"\"\n",
        "    def __init__(self, username, posts=None):\n",
        "        self.username = username\n",
        "        self.posts = posts if posts else []\n",
        "\n",
        "    def add_post(self, post):\n",
        "        self.posts.append(post)\n",
        "\n",
        "    def __str__(self):\n",
        "        posts_str = \"\\n\\n\".join(str(post) for post in self.posts)\n",
        "        return f\"{self.username}:\\n{posts_str}\"\n",
        "\n",
        "\n",
        "class SocialMediaApp:\n",
        "    \"\"\"Class representing the social media application.\"\"\"\n",
        "    def __init__(self, users=None):\n",
        "        self.users = users if users else []\n",
        "\n",
        "    def add_user(self, user):\n",
        "        self.users.append(user)\n",
        "\n",
        "    def __str__(self):\n",
        "        users_str = \"\\n\\n\".join(str(user) for user in self.users)\n",
        "        return f\"Social Media App:\\n{users_str}\"\n",
        "\n",
        "\n",
        "# Create a social media app\n",
        "app = SocialMediaApp()\n",
        "\n",
        "# Create users\n",
        "user1 = User(\"john_doe\")\n",
        "user2 = User(\"jane_doe\")\n",
        "\n",
        "# Create posts\n",
        "post1 = Post(\"Hello, world!\", user1)\n",
        "post2 = Post(\"This is my second post!\", user1)\n",
        "post3 = Post(\"Hi, friends!\", user2)\n",
        "\n",
        "# Add comments to posts\n",
        "post1.add_comment(Comment(\"Nice post!\", user2))\n",
        "post2.add_comment(Comment(\"Great job!\", user2))\n",
        "post3.add_comment(Comment(\"Hi!\", user1))\n",
        "\n",
        "# Add posts to users\n",
        "user1.add_post(post1)\n",
        "user1.add_post(post2)\n",
        "user2.add_post(post3)\n",
        "\n",
        "# Add users to the social media app\n",
        "app.add_user(user1)\n",
        "app.add_user(user2)\n",
        "\n",
        "# Print the social media app\n",
        "print(app)"
      ],
      "metadata": {
        "colab": {
          "base_uri": "https://localhost:8080/"
        },
        "id": "lYmRUnAhOetl",
        "outputId": "beca53ef-506e-49e6-93b5-c171d28653e7"
      },
      "execution_count": 52,
      "outputs": [
        {
          "output_type": "stream",
          "name": "stdout",
          "text": [
            "Social Media App:\n",
            "john_doe:\n",
            "john_doe: Hello, world!\n",
            "Comments:\n",
            "jane_doe: Nice post!\n",
            "\n",
            "john_doe: This is my second post!\n",
            "Comments:\n",
            "jane_doe: Great job!\n",
            "\n",
            "jane_doe:\n",
            "jane_doe: Hi, friends!\n",
            "Comments:\n",
            "john_doe: Hi!\n"
          ]
        }
      ]
    },
    {
      "cell_type": "code",
      "source": [],
      "metadata": {
        "id": "IKRVcrbhOvyZ"
      },
      "execution_count": null,
      "outputs": []
    }
  ]
}