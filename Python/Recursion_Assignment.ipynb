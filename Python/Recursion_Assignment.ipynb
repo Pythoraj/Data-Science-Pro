{
  "nbformat": 4,
  "nbformat_minor": 0,
  "metadata": {
    "colab": {
      "provenance": []
    },
    "kernelspec": {
      "name": "python3",
      "display_name": "Python 3"
    },
    "language_info": {
      "name": "python"
    }
  },
  "cells": [
    {
      "cell_type": "markdown",
      "source": [
        "Q.1 Can you explain the logic and working of the Tower of Hanoi algorithm by writing a Java program?\n",
        "How does the recursion work, and how are the movements of disks between rods accomplished?"
      ],
      "metadata": {
        "id": "ZnaGWSoOeGuq"
      }
    },
    {
      "cell_type": "markdown",
      "source": [
        "**Logic and Working:**\n",
        "\n",
        "The Tower of Hanoi is a classic mathematical puzzle involving three rods and a number of disks of different sizes. The goal is to move all the disks from one rod to another, following these rules:\n",
        "\n",
        "1. Only one disk can be moved at a time.\n",
        "2. A larger disk cannot be placed on top of a smaller disk.\n",
        "\n",
        "The problem can be solved recursively by breaking it down into smaller subproblems.\n",
        "\n",
        "**Recursive Solution:**\n",
        "\n",
        "1. **Base Case:** If there is only one disk (n = 1), move it directly from the source rod to the target rod.\n",
        "2. **Recursive Case:**\n",
        "   - Move n-1 disks from the source rod to the auxiliary rod using the target rod as the intermediate.\n",
        "   - Move the largest disk (n-th disk) from the source rod to the target rod.\n",
        "   - Move n-1 disks from the auxiliary rod to the target rod using the source rod as the intermediate.\n",
        "\n",
        "**Java Program:**\n",
        "\n",
        "```java\n",
        "public class TowerOfHanoi {\n",
        "    public static void main(String[] args) {\n",
        "        int n = 3; // Number of disks\n",
        "        towerOfHanoi(n, 'A', 'B', 'C');\n",
        "    }\n",
        "\n",
        "    public static void towerOfHanoi(int n, char source, char destination, char auxiliary) {\n",
        "        if (n == 1) {\n",
        "            System.out.println(\"Move disk 1 from \" + source + \" to \" + destination);\n",
        "            return;\n",
        "        }\n",
        "\n",
        "        towerOfHanoi(n - 1, source, auxiliary, destination);\n",
        "        System.out.println(\"Move disk \" + n + \" from \" + source + \" to \" + destination);\n",
        "        towerOfHanoi(n - 1, auxiliary, destination, source);\n",
        "    }\n",
        "}\n",
        "```\n",
        "\n",
        "**Explanation:**\n",
        "\n",
        "- The `towerOfHanoi` function takes the number of disks (n), the source rod, the destination rod, and the auxiliary rod as input.\n",
        "- The base case checks if there is only one disk. If so, it moves it directly.\n",
        "- In the recursive case:\n",
        "    - It recursively moves n-1 disks from the source to the auxiliary rod using the destination as the intermediate.\n",
        "    - It moves the largest disk (n-th disk) from the source to the destination.\n",
        "    - It recursively moves n-1 disks from the auxiliary to the destination using the source as the intermediate.\n",
        "\n",
        "**How Recursion Works:**\n",
        "\n",
        "The `towerOfHanoi` function calls itself recursively with smaller values of n until the base case is reached. The recursive calls build up a stack of function calls, and each call returns after completing its subproblem. This allows the algorithm to efficiently solve the problem by breaking it down into smaller, manageable steps.\n",
        "\n",
        "**Disk Movements:**\n",
        "\n",
        "The output of the program will show the sequence of disk movements. For example, for 3 disks:\n",
        "\n",
        "```\n",
        "Move disk 1 from A to C\n",
        "Move disk 2 from A to B\n",
        "Move disk 1 from C to B\n",
        "Move disk 3 from A to C\n",
        "Move disk 1 from B to A\n",
        "Move disk 2 from B to C\n",
        "Move disk 1 from A to C\n",
        "```\n",
        "\n",
        "This sequence demonstrates how the disks are moved between the rods according to the rules of the Tower of Hanoi puzzle.\n"
      ],
      "metadata": {
        "id": "xw45n-FeeI0t"
      }
    },
    {
      "cell_type": "markdown",
      "source": [
        "Q.2 Given two strings word1 and word2, return the minimum number of operations required to convert word1\n",
        "to word2.\n",
        "\n",
        "Example 1:\n",
        "Input: word1 = \"horse\", word2 = \"ros\"\n",
        "Output: 3\n",
        "Explanation:\n",
        "horse -> rorse (replace 'h' with 'r')\n",
        "rorse -> rose (remove 'r')\n",
        "rose -> ros (remove 'e')"
      ],
      "metadata": {
        "id": "RfueB_HReo7V"
      }
    },
    {
      "cell_type": "markdown",
      "source": [
        "\n",
        "**Here's a Python implementation using dynamic programming:**\n",
        "\n",
        "```python\n",
        "def minDistance(word1, word2):\n",
        "    m, n = len(word1), len(word2)\n",
        "    dp = [[0] * (n + 1) for _ in range(m + 1)]\n",
        "\n",
        "    for i in range(m + 1):\n",
        "        dp[i][0] = i\n",
        "    for j in range(n + 1):\n",
        "        dp[0][j] = j\n",
        "\n",
        "    for i in range(1, m + 1):\n",
        "        for j in range(1, n + 1):\n",
        "            if word1[i - 1] == word2[j - 1]:\n",
        "                dp[i][j] = dp[i - 1][j - 1]\n",
        "            else:\n",
        "                dp[i][j] = min(dp[i - 1][j - 1] + 1,  # Replace\n",
        "                              dp[i - 1][j] + 1,      # Delete\n",
        "                              dp[i][j - 1] + 1)      # Insert\n",
        "\n",
        "    return dp[m][n]\n",
        "\n",
        "# Example usage:\n",
        "word1 = \"horse\"\n",
        "word2 = \"ros\"\n",
        "result = minDistance(word1, word2)\n",
        "print(result)  # Output: 3\n",
        "```\n",
        "\n",
        "**Explanation:**\n",
        "\n",
        "1. **Create a 2D dp table:** We create a dynamic programming table `dp` of size (m+1) x (n+1) to store the minimum number of operations required to convert the first i characters of word1 to the first j characters of word2.\n",
        "2. **Initialize the first row and column:** We initialize the first row and column of the `dp` table with the number of operations required to insert or delete characters.\n",
        "3. **Iterate through the remaining cells:**\n",
        "   - If the corresponding characters in word1 and word2 are the same, the minimum number of operations is the same as the previous diagonal cell (no operation needed).\n",
        "   - Otherwise, we consider the three possible operations:\n",
        "     - **Replace:** dp[i-1][j-1] + 1 (replace the current character)\n",
        "     - **Delete:** dp[i-1][j] + 1 (delete the current character from word1)\n",
        "     - **Insert:** dp[i][j-1] + 1 (insert the current character from word2)\n",
        "   - We take the minimum of these three values and store it in the current cell of the `dp` table.\n",
        "4. **Return the result:** The final value in `dp[m][n]` represents the minimum number of operations required to convert word1 to word2.\n"
      ],
      "metadata": {
        "id": "GuxnH-Zve6UJ"
      }
    },
    {
      "cell_type": "markdown",
      "source": [
        "Q. 3 Print the max value of the array [ 13, 1, -3, 22, 5]."
      ],
      "metadata": {
        "id": "pCHvPvqwflfY"
      }
    },
    {
      "cell_type": "code",
      "source": [
        "arr = [13, 1, -3, 22, 5]\n",
        "max_val = arr[0]\n",
        "for num in arr[1:]:\n",
        "    if num > max_val:\n",
        "        max_val = num\n",
        "print(\"Max value:\", max_val)"
      ],
      "metadata": {
        "colab": {
          "base_uri": "https://localhost:8080/"
        },
        "id": "mhFGuFZTeFc6",
        "outputId": "b1692a0a-12f1-430b-90fb-d2df704921a3"
      },
      "execution_count": 1,
      "outputs": [
        {
          "output_type": "stream",
          "name": "stdout",
          "text": [
            "Max value: 22\n"
          ]
        }
      ]
    },
    {
      "cell_type": "markdown",
      "source": [
        "The maximum value in the array [13, 1, -3, 22, 5] is 22."
      ],
      "metadata": {
        "id": "-gKOGA5TfsYs"
      }
    },
    {
      "cell_type": "markdown",
      "source": [
        "Q.4 Find the sum of the values of the array [92, 23, 15, -20, 10]."
      ],
      "metadata": {
        "id": "rv3iimaXgCgD"
      }
    },
    {
      "cell_type": "code",
      "execution_count": 2,
      "metadata": {
        "colab": {
          "base_uri": "https://localhost:8080/"
        },
        "id": "lsGqRm7IeEdz",
        "outputId": "7de40895-af95-4b5e-8756-6946960b8e9e"
      },
      "outputs": [
        {
          "output_type": "stream",
          "name": "stdout",
          "text": [
            "Sum: 120\n"
          ]
        }
      ],
      "source": [
        "arr = [92, 23, 15, -20, 10]\n",
        "sum_val = 0\n",
        "for num in arr:\n",
        "    sum_val += num\n",
        "print(\"Sum:\", sum_val)"
      ]
    },
    {
      "cell_type": "markdown",
      "source": [
        "So, the sum of the values in the array is 120."
      ],
      "metadata": {
        "id": "d7DlCtN-gEgs"
      }
    },
    {
      "cell_type": "markdown",
      "source": [
        "Q.5 Given a number n. Print if it is an armstrong number or not.An armstrong number is a number if the sum\n",
        "of every digit in that number raised to the power of total digits in that number is equal to the number.\n",
        "Example : 153 = 1^3 + 5^3 + 3^3 = 1 + 125 + 27 = 153 hence 153 is an armstrong number. (Easy)\n",
        "\n",
        "Input1 : 153\n",
        "Output1 : Yes\n",
        "\n",
        "Input 2 : 134\n",
        "Output2 : No"
      ],
      "metadata": {
        "id": "4xo2eNvpgY2Q"
      }
    },
    {
      "cell_type": "code",
      "source": [
        "def is_armstrong(n):\n",
        "    num_str = str(n)\n",
        "    num_digits = len(num_str)\n",
        "    sum_val = 0\n",
        "    for digit in num_str:\n",
        "        sum_val += int(digit) ** num_digits\n",
        "    if sum_val == n:\n",
        "        return \"Yes\"\n",
        "    else:\n",
        "        return \"No\"\n",
        "\n",
        "# Test cases\n",
        "print(is_armstrong(153))  # Output: Yes\n",
        "print(is_armstrong(134))  # Output: No"
      ],
      "metadata": {
        "colab": {
          "base_uri": "https://localhost:8080/"
        },
        "id": "Mgig293IgPpa",
        "outputId": "c3cc85d8-1d8e-4abc-c786-1a6fa01e2611"
      },
      "execution_count": 3,
      "outputs": [
        {
          "output_type": "stream",
          "name": "stdout",
          "text": [
            "Yes\n",
            "No\n"
          ]
        }
      ]
    }
  ]
}