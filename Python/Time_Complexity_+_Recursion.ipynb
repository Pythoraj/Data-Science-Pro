{
  "nbformat": 4,
  "nbformat_minor": 0,
  "metadata": {
    "colab": {
      "provenance": []
    },
    "kernelspec": {
      "name": "python3",
      "display_name": "Python 3"
    },
    "language_info": {
      "name": "python"
    }
  },
  "cells": [
    {
      "cell_type": "markdown",
      "source": [
        "**Problem 1 :**"
      ],
      "metadata": {
        "id": "J6Z6cV5I7N30"
      }
    },
    {
      "cell_type": "code",
      "execution_count": 1,
      "metadata": {
        "colab": {
          "base_uri": "https://localhost:8080/"
        },
        "id": "ha0Uh8aZ7InM",
        "outputId": "f78c1aa5-2d86-4642-9bf4-4b49628bbabf"
      },
      "outputs": [
        {
          "output_type": "stream",
          "name": "stdout",
          "text": [
            "[1, 1, 2, 3, 6, 8, 10]\n"
          ]
        }
      ],
      "source": [
        "def quicksort(arr):\n",
        "    if len(arr) <= 1:\n",
        "        return arr\n",
        "    pivot = arr[len(arr) // 2]\n",
        "    left = [x for x in arr if x < pivot]\n",
        "    middle = [x for x in arr if x == pivot]\n",
        "    right = [x for x in arr if x > pivot]\n",
        "    return quicksort(left) + middle + quicksort(right)\n",
        "arr = [3, 6, 8, 10, 1, 2, 1]\n",
        "print(quicksort(arr))"
      ]
    },
    {
      "cell_type": "markdown",
      "source": [
        "Explanation:\n",
        "Base case: If the array has one or zero elements (len(arr) <= 1), it's already sorted, so it returns arr.\n",
        "Pivot selection: It selects the middle element as the pivot (arr[len(arr) // 2]).\n",
        "\n",
        "Partitioning: The array is divided into three lists:\n",
        "\n",
        "left: elements less than the pivot.\n",
        "middle: elements equal to the pivot.\n",
        "right: elements greater than the pivot.\n",
        "\n",
        "Recursive call: It recursively sorts the left and right partitions and concatenates them with the middle partition."
      ],
      "metadata": {
        "id": "vfrIHTE87tMm"
      }
    },
    {
      "cell_type": "markdown",
      "source": [
        "**Problem 2 :**"
      ],
      "metadata": {
        "id": "nMVHfmNF8F-v"
      }
    },
    {
      "cell_type": "code",
      "source": [
        "def nested_loop_example(matrix):\n",
        "    rows, cols = len(matrix), len(matrix[0])\n",
        "    total = 0\n",
        "    for i in range(rows):\n",
        "        for j in range(cols):\n",
        "            total += matrix[i][j]\n",
        "    return total\n",
        "\n",
        "matrix = [\n",
        "    [1, 2, 3],\n",
        "    [4, 5, 6],\n",
        "    [7, 8, 9]\n",
        "]\n",
        "\n",
        "print(nested_loop_example(matrix))\n"
      ],
      "metadata": {
        "colab": {
          "base_uri": "https://localhost:8080/"
        },
        "id": "WAYhi3q27oCb",
        "outputId": "068ef422-d133-4911-fc64-af7f2c378c7c"
      },
      "execution_count": 2,
      "outputs": [
        {
          "output_type": "stream",
          "name": "stdout",
          "text": [
            "45\n"
          ]
        }
      ]
    },
    {
      "cell_type": "markdown",
      "source": [
        "**Problem 3 :**"
      ],
      "metadata": {
        "id": "w3-Z3R6z8iq5"
      }
    },
    {
      "cell_type": "code",
      "source": [
        "def example_function(arr):\n",
        "    result = 0\n",
        "    for element in arr:\n",
        "        result += element\n",
        "    return result\n",
        "arr = [1, 2, 3, 4, 5]\n",
        "print(example_function(arr))\n"
      ],
      "metadata": {
        "colab": {
          "base_uri": "https://localhost:8080/"
        },
        "id": "J1BTs9n38ao0",
        "outputId": "305124d6-8eff-4b88-9a49-405c05fd141f"
      },
      "execution_count": 3,
      "outputs": [
        {
          "output_type": "stream",
          "name": "stdout",
          "text": [
            "15\n"
          ]
        }
      ]
    },
    {
      "cell_type": "markdown",
      "source": [
        "**Problem 4 :**"
      ],
      "metadata": {
        "id": "mbHXsGsr8zv_"
      }
    },
    {
      "cell_type": "code",
      "source": [
        "def longest_increasing_subsequence(nums):\n",
        "    n = len(nums)\n",
        "    lis = [1] * n\n",
        "    for i in range(1, n):\n",
        "        for j in range(0, i):\n",
        "            if nums[i] > nums[j] and lis[i] < lis[j] + 1:\n",
        "                lis[i] = lis[j] + 1\n",
        "    return max(lis)\n",
        "nums = [10, 22, 9, 33, 21, 50, 41, 60, 80]\n",
        "print(longest_increasing_subsequence(nums))\n"
      ],
      "metadata": {
        "colab": {
          "base_uri": "https://localhost:8080/"
        },
        "id": "oEa7aWys8tjG",
        "outputId": "3c3a8f91-e96c-4061-9744-6eed47dd1df2"
      },
      "execution_count": 4,
      "outputs": [
        {
          "output_type": "stream",
          "name": "stdout",
          "text": [
            "6\n"
          ]
        }
      ]
    },
    {
      "cell_type": "markdown",
      "source": [
        "**Problem 5 :**"
      ],
      "metadata": {
        "id": "AqonQygf9Dgi"
      }
    },
    {
      "cell_type": "code",
      "source": [
        "def mysterious_function(arr):\n",
        "    n = len(arr)\n",
        "    result = 0\n",
        "    for i in range(n):\n",
        "        for j in range(i, n):\n",
        "            result += arr[i] * arr[j]\n",
        "    return result\n",
        "arr = [1, 2, 3]\n",
        "print(mysterious_function(arr))\n"
      ],
      "metadata": {
        "colab": {
          "base_uri": "https://localhost:8080/"
        },
        "id": "vFwN8Vvw8_93",
        "outputId": "0745f9dd-1d88-4c92-c9c1-f261dc66412a"
      },
      "execution_count": 5,
      "outputs": [
        {
          "output_type": "stream",
          "name": "stdout",
          "text": [
            "25\n"
          ]
        }
      ]
    },
    {
      "cell_type": "markdown",
      "source": [
        "**Problem 6 : Sum of Digits**\n",
        "\n",
        "Write a recursive function to calculate the sum of digits of a given positive integer.\n",
        "sum_of_digits(123) -> 6"
      ],
      "metadata": {
        "id": "ZrXOBIsk9ak5"
      }
    },
    {
      "cell_type": "code",
      "source": [
        "def sum_of_digits(n):\n",
        "    # Base case: if n is a single digit, return n\n",
        "    if n == 0:\n",
        "        return 0\n",
        "    else:\n",
        "        # Recursive case: add the last digit to the sum of digits of the remaining number\n",
        "        return n % 10 + sum_of_digits(n // 10)\n",
        "print(sum_of_digits(123))  # Output: 6\n"
      ],
      "metadata": {
        "colab": {
          "base_uri": "https://localhost:8080/"
        },
        "id": "tZ0msnof9R8O",
        "outputId": "e97e89d3-6d44-4961-e4d5-81ceebeebce9"
      },
      "execution_count": 6,
      "outputs": [
        {
          "output_type": "stream",
          "name": "stdout",
          "text": [
            "6\n"
          ]
        }
      ]
    },
    {
      "cell_type": "markdown",
      "source": [
        "**Problem 7: Fibonacci Series**\n",
        "\n",
        "Write a recursive function to generate the first n numbers of the Fibonacci series.\n",
        "fibonacci_series(6) -> [0, 1, 1, 2, 3, 5]"
      ],
      "metadata": {
        "id": "QEO6poRx92EY"
      }
    },
    {
      "cell_type": "code",
      "source": [
        "def fibonacci(n):\n",
        "    # Base cases: the first two numbers of the Fibonacci series\n",
        "    if n == 0:\n",
        "        return 0\n",
        "    elif n == 1:\n",
        "        return 1\n",
        "    else:\n",
        "        # Recursive case: sum of the previous two Fibonacci numbers\n",
        "        return fibonacci(n - 1) + fibonacci(n - 2)\n",
        "\n",
        "def fibonacci_series(n):\n",
        "    series = []\n",
        "    for i in range(n):\n",
        "        series.append(fibonacci(i))\n",
        "    return series\n",
        "\n",
        "\n",
        "print(fibonacci_series(6))  # Output: [0, 1, 1, 2, 3, 5]\n"
      ],
      "metadata": {
        "colab": {
          "base_uri": "https://localhost:8080/"
        },
        "id": "D2b2Codb9oO_",
        "outputId": "7e71a3b3-6aaa-4957-ea6d-f3c1ff720423"
      },
      "execution_count": 7,
      "outputs": [
        {
          "output_type": "stream",
          "name": "stdout",
          "text": [
            "[0, 1, 1, 2, 3, 5]\n"
          ]
        }
      ]
    },
    {
      "cell_type": "markdown",
      "source": [
        "**Problem 8 : Subset Sum**\n",
        "\n",
        "Given a set of positive integers and a target sum, write a recursive function to determine if there exists a subset\n",
        "of the integers that adds up to the target sum.\n",
        "subset_sum([3, 34, 4, 12, 5, 2], 9) -> True"
      ],
      "metadata": {
        "id": "iOLO3RUi-FZQ"
      }
    },
    {
      "cell_type": "code",
      "source": [
        "def subset_sum(arr, target):\n",
        "    # Base case 1: If target is 0, a subset exists (the empty subset)\n",
        "    if target == 0:\n",
        "        return True\n",
        "    # Base case 2: If no items left in the array and target is not 0, no subset can be found\n",
        "    if len(arr) == 0:\n",
        "        return False\n",
        "\n",
        "    # If the last element is greater than the target, ignore it\n",
        "    if arr[-1] > target:\n",
        "        return subset_sum(arr[:-1], target)\n",
        "\n",
        "    # Check two possibilities:\n",
        "    # 1. Include the last element in the subset\n",
        "    # 2. Exclude the last element from the subset\n",
        "    return subset_sum(arr[:-1], target - arr[-1]) or subset_sum(arr[:-1], target)\n",
        "arr = [3, 34, 4, 12, 5, 2]\n",
        "target = 9\n",
        "print(subset_sum(arr, target))  # Output: True\n"
      ],
      "metadata": {
        "colab": {
          "base_uri": "https://localhost:8080/"
        },
        "id": "Q9KCCnIU-AjI",
        "outputId": "e4b50b38-eec2-47b4-a04c-610f0cb032f3"
      },
      "execution_count": 8,
      "outputs": [
        {
          "output_type": "stream",
          "name": "stdout",
          "text": [
            "True\n"
          ]
        }
      ]
    },
    {
      "cell_type": "markdown",
      "source": [
        "**Problem 9: Word Break**\n",
        "\n",
        "Given a non-empty string and a dictionary of words, write a recursive function to determine if the string can be\n",
        "segmented into a space-separated sequence of dictionary words.\n",
        "word_break( leetcode , [ leet , code ]) -> True"
      ],
      "metadata": {
        "id": "-2TnktIn-Xyz"
      }
    },
    {
      "cell_type": "code",
      "source": [
        "def word_break(s, word_dict):\n",
        "    # Base case: if the string is empty, it can be segmented (empty string is a valid segmentation)\n",
        "    if not s:\n",
        "        return True\n",
        "\n",
        "    # Recursive case: try to segment the string\n",
        "    for i in range(1, len(s) + 1):\n",
        "        # Check if the prefix is in the dictionary and recursively check the remaining part\n",
        "        if s[:i] in word_dict and word_break(s[i:], word_dict):\n",
        "            return True\n",
        "\n",
        "    # If no valid segmentation is found, return False\n",
        "    return False\n",
        "s = \"leetcode\"\n",
        "word_dict = [\"leet\", \"code\"]\n",
        "print(word_break(s, word_dict))  # Output: True\n"
      ],
      "metadata": {
        "colab": {
          "base_uri": "https://localhost:8080/"
        },
        "id": "vfdKk65V-TZ9",
        "outputId": "8f93a658-fd74-4517-93ed-31578d341a95"
      },
      "execution_count": 9,
      "outputs": [
        {
          "output_type": "stream",
          "name": "stdout",
          "text": [
            "True\n"
          ]
        }
      ]
    },
    {
      "cell_type": "markdown",
      "source": [
        "**Problem 10 : N-Queens**\n",
        "\n",
        "Implement a recursive function to solve the N Queens problem, where you have to place N queens on an N×N\n",
        "chessboard in such a way that no two queens threaten each other.\n",
        "\n",
        "n_queens(4)\n",
        "[\n",
        "[\".Q..\",\n",
        "\"...Q\",\n",
        "\"Q...\",\n",
        "\"..Q.\"],\n",
        "[\"..Q.\",\n",
        "\"Q...\",\n",
        "\"...Q\",\n",
        "\".Q..\"]\n",
        "]"
      ],
      "metadata": {
        "id": "6YRHUbGx-nzk"
      }
    },
    {
      "cell_type": "code",
      "source": [
        "def is_safe(board, row, col, n):\n",
        "    # Check if there's a queen in the same column\n",
        "    for i in range(row):\n",
        "        if board[i][col] == 'Q':\n",
        "            return False\n",
        "\n",
        "    # Check upper-left diagonal\n",
        "    for i, j in zip(range(row, -1, -1), range(col, -1, -1)):\n",
        "        if board[i][j] == 'Q':\n",
        "            return False\n",
        "\n",
        "    # Check upper-right diagonal\n",
        "    for i, j in zip(range(row, -1, -1), range(col, n)):\n",
        "        if board[i][j] == 'Q':\n",
        "            return False\n",
        "\n",
        "    return True\n",
        "\n",
        "def solve_n_queens_helper(board, row, n, solutions):\n",
        "    if row == n:\n",
        "        # A valid solution is found, append a copy of the board\n",
        "        solutions.append([\"\".join(row) for row in board])\n",
        "        return\n",
        "\n",
        "    for col in range(n):\n",
        "        if is_safe(board, row, col, n):\n",
        "            # Place a queen at board[row][col]\n",
        "            board[row][col] = 'Q'\n",
        "            # Recur to place the rest of the queens\n",
        "            solve_n_queens_helper(board, row + 1, n, solutions)\n",
        "            # Backtrack and remove the queen\n",
        "            board[row][col] = '.'\n",
        "\n",
        "def n_queens(n):\n",
        "    board = [['.' for _ in range(n)] for _ in range(n)]\n",
        "    solutions = []\n",
        "    solve_n_queens_helper(board, 0, n, solutions)\n",
        "    return solutions\n",
        "\n",
        "solutions = n_queens(4)\n",
        "for solution in solutions:\n",
        "    for row in solution:\n",
        "        print(row)\n",
        "    print()  # Print a blank line between different solutions\n"
      ],
      "metadata": {
        "colab": {
          "base_uri": "https://localhost:8080/"
        },
        "id": "fJNK279m-gqZ",
        "outputId": "31938010-5a9a-4f20-8b2c-c9394d67d01b"
      },
      "execution_count": 10,
      "outputs": [
        {
          "output_type": "stream",
          "name": "stdout",
          "text": [
            ".Q..\n",
            "...Q\n",
            "Q...\n",
            "..Q.\n",
            "\n",
            "..Q.\n",
            "Q...\n",
            "...Q\n",
            ".Q..\n",
            "\n"
          ]
        }
      ]
    },
    {
      "cell_type": "code",
      "source": [],
      "metadata": {
        "id": "xOcGp2s1-9Wg"
      },
      "execution_count": null,
      "outputs": []
    }
  ]
}