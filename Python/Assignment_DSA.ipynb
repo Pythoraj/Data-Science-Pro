{
  "nbformat": 4,
  "nbformat_minor": 0,
  "metadata": {
    "colab": {
      "provenance": []
    },
    "kernelspec": {
      "name": "python3",
      "display_name": "Python 3"
    },
    "language_info": {
      "name": "python"
    }
  },
  "cells": [
    {
      "cell_type": "markdown",
      "source": [
        "Problem 1: Reverse a singly linked list.\n",
        "Input: 1 -> 2 -> 3 -> 4 -> 5\n",
        "Output: 5 -> 4 -> 3 -> 2 -> 1"
      ],
      "metadata": {
        "id": "8v-KAYZ4nyGD"
      }
    },
    {
      "cell_type": "code",
      "execution_count": null,
      "metadata": {
        "colab": {
          "base_uri": "https://localhost:8080/"
        },
        "id": "CApZR5MsnvrU",
        "outputId": "d43a27bd-2bcf-4e5a-97e5-befc41f9f2be"
      },
      "outputs": [
        {
          "output_type": "stream",
          "name": "stdout",
          "text": [
            "5 -> 4 -> 3 -> 2 -> 1 -> \n"
          ]
        }
      ],
      "source": [
        "class ListNode:\n",
        "    def __init__(self, val=0, next=None):\n",
        "        self.val = val\n",
        "        self.next = next\n",
        "\n",
        "def reverseList(head):\n",
        "    \"\"\"\n",
        "    Reverses a singly linked list.\n",
        "\n",
        "    Args:\n",
        "        head: The head of the linked list.\n",
        "\n",
        "    Returns:\n",
        "        The head of the reversed linked list.\n",
        "    \"\"\"\n",
        "\n",
        "    prev = None\n",
        "    current = head\n",
        "    next = None\n",
        "\n",
        "    while current:\n",
        "        next = current.next\n",
        "        current.next = prev\n",
        "        prev = current\n",
        "        current = next\n",
        "\n",
        "    return prev\n",
        "\n",
        "# Example usage:\n",
        "head = ListNode(1)\n",
        "head.next = ListNode(2)\n",
        "head.next.next = ListNode(3)\n",
        "head.next.next.next = ListNode(4)\n",
        "head.next.next.next.next = ListNode(5)\n",
        "\n",
        "reversed_head = reverseList(head)\n",
        "\n",
        "# Print the reversed linked list\n",
        "current = reversed_head\n",
        "while current:\n",
        "    print(current.val, end=\" -> \")\n",
        "    current = current.next\n",
        "print()"
      ]
    },
    {
      "cell_type": "markdown",
      "source": [
        "Problem 2: Merge two sorted linked lists into one sorted linked list.\n",
        "Input: List 1: 1 -> 3 -> 5, List 2: 2 -> 4 -> 6\n",
        "Output: 1 -> 2 -> 3 -> 4 -> 5 -> 6"
      ],
      "metadata": {
        "id": "BbPgR57NptAe"
      }
    },
    {
      "cell_type": "code",
      "source": [
        "class ListNode:\n",
        "    def __init__(self, val=0, next=None):\n",
        "        self.val = val\n",
        "        self.next = next\n",
        "\n",
        "def mergeTwoLists(list1, list2):\n",
        "    \"\"\"\n",
        "    Merges two sorted linked lists into one sorted linked list.\n",
        "\n",
        "    Args:\n",
        "        list1: The head of the first sorted linked list.\n",
        "        list2: The head of the second sorted linked list.\n",
        "\n",
        "    Returns:\n",
        "        The head of the merged sorted linked list.\n",
        "    \"\"\"\n",
        "\n",
        "    dummy = ListNode()\n",
        "    current = dummy\n",
        "\n",
        "    while list1 and list2:\n",
        "        if list1.val <= list2.val:\n",
        "            current.next = list1\n",
        "            list1 = list1.next\n",
        "        else:\n",
        "            current.next = list2\n",
        "            list2 = list2.next\n",
        "        current = current.next\n",
        "\n",
        "    if list1:\n",
        "        current.next = list1\n",
        "    if list2:\n",
        "        current.next = list2\n",
        "\n",
        "    return dummy.next\n",
        "\n",
        "# Example usage:\n",
        "list1 = ListNode(1)\n",
        "list1.next = ListNode(3)\n",
        "list1.next.next = ListNode(5)\n",
        "\n",
        "list2 = ListNode(2)\n",
        "list2.next = ListNode(4)\n",
        "list2.next.next = ListNode(6)\n",
        "\n",
        "merged_list = mergeTwoLists(list1, list2)\n",
        "\n",
        "# Print the merged linked list\n",
        "while merged_list:\n",
        "    print(merged_list.val, end=\" -> \")\n",
        "    merged_list = merged_list.next\n",
        "print()"
      ],
      "metadata": {
        "colab": {
          "base_uri": "https://localhost:8080/"
        },
        "id": "a6FE0Dedpdf4",
        "outputId": "aec82d54-af4f-47f2-af2a-896986b481cb"
      },
      "execution_count": null,
      "outputs": [
        {
          "output_type": "stream",
          "name": "stdout",
          "text": [
            "1 -> 2 -> 3 -> 4 -> 5 -> 6 -> \n"
          ]
        }
      ]
    },
    {
      "cell_type": "markdown",
      "source": [
        "Problem 3: Remove the nth node from the end of a linked list.\n",
        "Input: 1 -> 2 -> 3 -> 4 -> 5, n = 2\n",
        "Output: 1 -> 2 -> 3 -> 5"
      ],
      "metadata": {
        "id": "miujbEgYp4vA"
      }
    },
    {
      "cell_type": "code",
      "source": [
        "class ListNode:\n",
        "    def __init__(self, val=0, next=None):\n",
        "        self.val = val\n",
        "        self.next = next\n",
        "\n",
        "def removeNthFromEnd(head, n):\n",
        "    \"\"\"\n",
        "    Removes the nth node from the end of the linked list.\n",
        "\n",
        "    Args:\n",
        "        head: The head of the linked list.\n",
        "        n: The position of the node to be removed from the end.\n",
        "\n",
        "    Returns:\n",
        "        The head of the modified linked list.\n",
        "    \"\"\"\n",
        "\n",
        "    fast = head\n",
        "    slow = head\n",
        "\n",
        "    # Move fast pointer n steps ahead\n",
        "    for i in range(n):\n",
        "        fast = fast.next\n",
        "\n",
        "    # Move both pointers until fast reaches the end\n",
        "    while fast:\n",
        "        fast = fast.next\n",
        "        slow = slow.next\n",
        "\n",
        "    # If slow is pointing to the head, remove the head\n",
        "    if slow == head:\n",
        "        return head.next\n",
        "\n",
        "    # Otherwise, remove the slow pointer's next node\n",
        "    slow.next = slow.next.next\n",
        "\n",
        "    return head\n",
        "\n",
        "# Example usage:\n",
        "head = ListNode(1)\n",
        "head.next = ListNode(2)\n",
        "head.next.next = ListNode(3)\n",
        "head.next.next.next = ListNode(4)\n",
        "head.next.next.next.next = ListNode(5)\n",
        "\n",
        "n = 2\n",
        "result = removeNthFromEnd(head, n)\n",
        "\n",
        "# Print the modified linked list\n",
        "while result:\n",
        "    print(result.val, end=\" -> \")\n",
        "    result = result.next\n",
        "print()"
      ],
      "metadata": {
        "colab": {
          "base_uri": "https://localhost:8080/"
        },
        "id": "6CwNZDkZp35j",
        "outputId": "066f82d4-18c0-4781-a29b-bb38445b93d6"
      },
      "execution_count": null,
      "outputs": [
        {
          "output_type": "stream",
          "name": "stdout",
          "text": [
            "1 -> 2 -> 3 -> 4 -> \n"
          ]
        }
      ]
    },
    {
      "cell_type": "markdown",
      "source": [
        "Problem 4: Find the intersection point of two linked lists.\n",
        "Input: List 1: 1 -> 2 -> 3 -> 4, List 2: 9 -> 8 -> 3 -> 4\n",
        "Output: Node with value 3"
      ],
      "metadata": {
        "id": "T4l2L-9WqKnX"
      }
    },
    {
      "cell_type": "code",
      "source": [
        "class ListNode:\n",
        "    def __init__(self, val=0, next=None):\n",
        "        self.val = val\n",
        "        self.next = next\n",
        "\n",
        "def getIntersectionNode(headA, headB):\n",
        "    \"\"\"\n",
        "    Finds the intersection point of two singly linked lists.\n",
        "\n",
        "    Args:\n",
        "        headA: The head of the first linked list.\n",
        "        headB: The head of the second linked list.\n",
        "\n",
        "    Returns:\n",
        "        The intersecting node, or None if there is no intersection.\n",
        "    \"\"\"\n",
        "\n",
        "    ptr1 = headA\n",
        "    ptr2 = headB\n",
        "\n",
        "    while ptr1 != ptr2:\n",
        "        ptr1 = ptr1.next if ptr1 else headB\n",
        "        ptr2 = ptr2.next if ptr2 else headA\n",
        "\n",
        "    return ptr1\n",
        "\n",
        "# Example usage:\n",
        "headA = ListNode(1)\n",
        "headA.next = ListNode(2)\n",
        "headA.next.next = ListNode(3)\n",
        "headA.next.next.next = ListNode(4)\n",
        "\n",
        "headB = ListNode(9)\n",
        "headB.next = ListNode(8)\n",
        "headB.next.next = headA.next.next  # Simulating an intersection\n",
        "\n",
        "intersection_node = getIntersectionNode(headA, headB)\n",
        "\n",
        "if intersection_node:\n",
        "    print(\"Intersection point:\", intersection_node.val)\n",
        "else:\n",
        "    print(\"No intersection found\")"
      ],
      "metadata": {
        "colab": {
          "base_uri": "https://localhost:8080/"
        },
        "id": "fMIz-zruqCNZ",
        "outputId": "c23c9604-b4ec-44fd-ba33-2f3b13cbc82f"
      },
      "execution_count": null,
      "outputs": [
        {
          "output_type": "stream",
          "name": "stdout",
          "text": [
            "Intersection point: 3\n"
          ]
        }
      ]
    },
    {
      "cell_type": "markdown",
      "source": [
        "Problem 5: Remove duplicates from a sorted linked list.\n",
        "Input: 1 -> 1 -> 2 -> 3 -> 3\n",
        "Output: 1 -> 2 -> 3"
      ],
      "metadata": {
        "id": "v9O1sWixqXXT"
      }
    },
    {
      "cell_type": "code",
      "source": [
        "class ListNode:\n",
        "    def __init__(self, val=0, next=None):\n",
        "        self.val = val\n",
        "        self.next = next\n",
        "\n",
        "def deleteDuplicates(head):\n",
        "    \"\"\"\n",
        "    Removes duplicates from a sorted linked list.\n",
        "\n",
        "    Args:\n",
        "        head: The head of the sorted linked list.\n",
        "\n",
        "    Returns:\n",
        "        The head of the linked list with duplicates removed.\n",
        "    \"\"\"\n",
        "\n",
        "    current = head\n",
        "\n",
        "    while current:\n",
        "        while current.next and current.next.val == current.val:\n",
        "            current.next = current.next.next\n",
        "        current = current.next\n",
        "\n",
        "    return head\n",
        "\n",
        "# Example usage:\n",
        "head = ListNode(1)\n",
        "head.next = ListNode(1)\n",
        "head.next.next = ListNode(2)\n",
        "head.next.next.next = ListNode(3)\n",
        "head.next.next.next.next = ListNode(3)\n",
        "\n",
        "result = deleteDuplicates(head)\n",
        "\n",
        "# Print the modified linked list\n",
        "while result:\n",
        "    print(result.val, end=\" -> \")\n",
        "    result = result.next\n",
        "print()"
      ],
      "metadata": {
        "colab": {
          "base_uri": "https://localhost:8080/"
        },
        "id": "EdH8Oe9zqTAw",
        "outputId": "c85fd71b-dbcb-480f-db3c-b172557d2fe2"
      },
      "execution_count": null,
      "outputs": [
        {
          "output_type": "stream",
          "name": "stdout",
          "text": [
            "1 -> 2 -> 3 -> \n"
          ]
        }
      ]
    },
    {
      "cell_type": "markdown",
      "source": [
        "Problem 6: Add two numbers represented by linked lists (where each node contains a single digit).\n",
        "\n",
        "Input: List 1: 2 -> 4 -> 3, List 2: 5 -> 6 -> 4 (represents 342 + 465)\n",
        "Output: 7 -> 0 -> 8 (represents 807)"
      ],
      "metadata": {
        "id": "UMqTKR4VqfC6"
      }
    },
    {
      "cell_type": "code",
      "source": [
        "class ListNode:\n",
        "    def __init__(self, val=0, next=None):\n",
        "        self.val = val\n",
        "        self.next = next\n",
        "\n",
        "def addTwoNumbers(l1: ListNode, l2: ListNode) -> ListNode:\n",
        "    dummy_head = ListNode(0)\n",
        "    current = dummy_head\n",
        "    carry = 0\n",
        "\n",
        "    # Traverse both lists\n",
        "    while l1 or l2 or carry:\n",
        "        # Get the values if nodes exist, otherwise 0\n",
        "        val1 = l1.val if l1 else 0\n",
        "        val2 = l2.val if l2 else 0\n",
        "\n",
        "        # Compute the sum and carry\n",
        "        total = val1 + val2 + carry\n",
        "        carry = total // 10\n",
        "        current.next = ListNode(total % 10)\n",
        "\n",
        "        # Move to the next nodes\n",
        "        current = current.next\n",
        "        if l1:\n",
        "            l1 = l1.next\n",
        "        if l2:\n",
        "            l2 = l2.next\n",
        "\n",
        "    return dummy_head.next\n",
        "\n",
        "# Helper function to print the linked list\n",
        "def printList(node):\n",
        "    while node:\n",
        "        print(node.val, end=\" -> \" if node.next else \"\\n\")\n",
        "        node = node.next\n",
        "\n",
        "# Example usage\n",
        "l1 = ListNode(2, ListNode(4, ListNode(3)))\n",
        "l2 = ListNode(5, ListNode(6, ListNode(4)))\n",
        "\n",
        "result = addTwoNumbers(l1, l2)\n",
        "printList(result)\n"
      ],
      "metadata": {
        "colab": {
          "base_uri": "https://localhost:8080/"
        },
        "id": "z5eF6CB4qahp",
        "outputId": "27bce00a-52d8-4b49-ca89-5c4a5919be7d"
      },
      "execution_count": null,
      "outputs": [
        {
          "output_type": "stream",
          "name": "stdout",
          "text": [
            "7 -> 0 -> 8\n"
          ]
        }
      ]
    },
    {
      "cell_type": "markdown",
      "source": [
        "Problem 7: Swap nodes in pairs in a linked list.\n",
        "Input: 1 -> 2 -> 3 -> 4\n",
        "Output: 2 -> 1 -> 4 -> 3"
      ],
      "metadata": {
        "id": "iB1UZmWYrDQr"
      }
    },
    {
      "cell_type": "code",
      "source": [
        "class ListNode:\n",
        "    def __init__(self, val=0, next=None):\n",
        "        self.val = val\n",
        "        self.next = next\n",
        "\n",
        "def swapPairs(head):\n",
        "    \"\"\"\n",
        "    Swaps nodes in pairs in a linked list.\n",
        "\n",
        "    Args:\n",
        "        head: The head of the linked list.\n",
        "\n",
        "    Returns:\n",
        "        The head of the modified linked list.\n",
        "    \"\"\"\n",
        "\n",
        "    if not head or not head.next:\n",
        "        return head\n",
        "\n",
        "    # Swap the first two nodes\n",
        "    first = head\n",
        "    second = head.next\n",
        "    first.next = second.next\n",
        "    second.next = first\n",
        "\n",
        "    # Recursively swap the remaining pairs\n",
        "    first.next = swapPairs(first.next)\n",
        "\n",
        "    return second\n",
        "\n",
        "# Example usage:\n",
        "head = ListNode(1)\n",
        "head.next = ListNode(2)\n",
        "head.next.next = ListNode(3)\n",
        "head.next.next.next = ListNode(4)\n",
        "\n",
        "result = swapPairs(head)\n",
        "\n",
        "# Print the modified linked list\n",
        "while result:\n",
        "    print(result.val, end=\" -> \")\n",
        "    result = result.next\n",
        "print()"
      ],
      "metadata": {
        "colab": {
          "base_uri": "https://localhost:8080/"
        },
        "id": "BzKjiF7eq7zA",
        "outputId": "70a24d9d-59cb-48b3-d73d-ba60bc2d4dd1"
      },
      "execution_count": null,
      "outputs": [
        {
          "output_type": "stream",
          "name": "stdout",
          "text": [
            "2 -> 1 -> 4 -> 3 -> \n"
          ]
        }
      ]
    },
    {
      "cell_type": "markdown",
      "source": [
        "Problem 8: Reverse nodes in a linked list in groups of k.\n",
        "Input: 1 -> 2 -> 3 -> 4 -> 5, k = 3\n",
        "Output: 3 -> 2 -> 1 -> 4 -> 5"
      ],
      "metadata": {
        "id": "qqd2frAyrQzt"
      }
    },
    {
      "cell_type": "code",
      "source": [
        "class ListNode:\n",
        "    def __init__(self, val=0, next=None):\n",
        "        self.val = val\n",
        "        self.next = next\n",
        "\n",
        "def reverseKGroup(head: ListNode, k: int) -> ListNode:\n",
        "    # Helper function to reverse a linked list between two nodes\n",
        "    def reverse(start: ListNode, end: ListNode) -> ListNode:\n",
        "        prev = None\n",
        "        curr = start\n",
        "        while curr != end:\n",
        "            next_node = curr.next\n",
        "            curr.next = prev\n",
        "            prev = curr\n",
        "            curr = next_node\n",
        "        return prev\n",
        "\n",
        "    # Dummy node to handle edge cases\n",
        "    dummy = ListNode(0)\n",
        "    dummy.next = head\n",
        "    prev_group_end = dummy\n",
        "\n",
        "    while True:\n",
        "        # Find the start and end of the current group\n",
        "        group_start = prev_group_end.next\n",
        "        group_end = prev_group_end\n",
        "        # Move the group_end pointer k nodes forward\n",
        "        for _ in range(k):\n",
        "            group_end = group_end.next\n",
        "            if not group_end:\n",
        "                # If there are less than k nodes left, return the list as is\n",
        "                return dummy.next\n",
        "\n",
        "        # Reverse the current group\n",
        "        next_group_start = group_end.next\n",
        "        reverse(group_start, group_end.next)\n",
        "\n",
        "        # Connect the reversed group to the previous part of the list\n",
        "        prev_group_end.next = group_end\n",
        "        group_start.next = next_group_start\n",
        "\n",
        "        # Move the pointer to the end of the reversed group\n",
        "        prev_group_end = group_start\n",
        "\n",
        "# Helper function to print the linked list\n",
        "def printList(node):\n",
        "    while node:\n",
        "        print(node.val, end=\" -> \" if node.next else \"\\n\")\n",
        "        node = node.next\n",
        "\n",
        "# Example usage\n",
        "l = ListNode(1, ListNode(2, ListNode(3, ListNode(4, ListNode(5)))))\n",
        "k = 3\n",
        "\n",
        "result = reverseKGroup(l, k)\n",
        "printList(result)"
      ],
      "metadata": {
        "colab": {
          "base_uri": "https://localhost:8080/"
        },
        "id": "gKy1AelMrKny",
        "outputId": "4c813459-1d80-446a-9913-dd66dfd99795"
      },
      "execution_count": null,
      "outputs": [
        {
          "output_type": "stream",
          "name": "stdout",
          "text": [
            "3 -> 2 -> 1 -> 4 -> 5\n"
          ]
        }
      ]
    },
    {
      "cell_type": "markdown",
      "source": [
        "Problem 9: Determine if a linked list is a palindrome.\n",
        "Input: 1 -> 2 -> 2 -> 1\n",
        "Output: True"
      ],
      "metadata": {
        "id": "2YTuMm4Zr1bL"
      }
    },
    {
      "cell_type": "code",
      "source": [
        "class ListNode:\n",
        "    def __init__(self, val=0, next=None):\n",
        "        self.val = val\n",
        "        self.next = next\n",
        "\n",
        "def isPalindrome(head):\n",
        "    \"\"\"\n",
        "    Checks if a linked list is a palindrome.\n",
        "\n",
        "    Args:\n",
        "        head: The head of the linked list.\n",
        "\n",
        "    Returns:\n",
        "        True if the linked list is a palindrome, False otherwise.\n",
        "    \"\"\"\n",
        "\n",
        "    # Find the middle node using the slow and fast pointer technique\n",
        "    slow = fast = head\n",
        "\n",
        "    while fast and fast.next:\n",
        "        slow = slow.next\n",
        "        fast = fast.next.next\n",
        "\n",
        "    # Reverse the second half of the linked list\n",
        "    second_half = reverseList(slow)\n",
        "\n",
        "    # Compare the first half and the reversed second half\n",
        "    first_half = head\n",
        "    while second_half:\n",
        "        if first_half.val != second_half.val:\n",
        "            return False\n",
        "        first_half = first_half.next\n",
        "        second_half = second_half.next\n",
        "\n",
        "    return True\n",
        "\n",
        "def reverseList(head):\n",
        "    \"\"\"\n",
        "    Reverses a linked list.\n",
        "\n",
        "    Args:\n",
        "        head: The head of the linked list.\n",
        "\n",
        "    Returns:\n",
        "        The head of the reversed linked list.\n",
        "    \"\"\"\n",
        "\n",
        "    prev = None\n",
        "    current = head\n",
        "    next = None\n",
        "\n",
        "    while current:\n",
        "        next = current.next\n",
        "        current.next = prev\n",
        "        prev = current\n",
        "        current = next\n",
        "\n",
        "    return prev\n",
        "\n",
        "# Example usage:\n",
        "head = ListNode(1)\n",
        "head.next = ListNode(2)\n",
        "head.next.next = ListNode(2)\n",
        "head.next.next.next = ListNode(1)\n",
        "\n",
        "is_palindrome = isPalindrome(head)\n",
        "print(is_palindrome)  # Output: True"
      ],
      "metadata": {
        "colab": {
          "base_uri": "https://localhost:8080/"
        },
        "id": "6Vl3y8ZfrT6c",
        "outputId": "3e9ec3b5-d6db-4873-c88d-5bf4d52da720"
      },
      "execution_count": null,
      "outputs": [
        {
          "output_type": "stream",
          "name": "stdout",
          "text": [
            "True\n"
          ]
        }
      ]
    },
    {
      "cell_type": "markdown",
      "source": [
        "Problem 10: Rotate a linked list to the right by k places.\n",
        "Input: 1 -> 2 -> 3 -> 4 -> 5, k = 2\n",
        "Output: 4 -> 5 -> 1 -> 2 -> 3"
      ],
      "metadata": {
        "id": "eqtNS1vMtZ6l"
      }
    },
    {
      "cell_type": "code",
      "source": [
        "class ListNode:\n",
        "    def __init__(self, val=0, next=None):\n",
        "        self.val = val\n",
        "        self.next = next\n",
        "\n",
        "def rotateRight(head: ListNode, k: int) -> ListNode:\n",
        "    # Edge case: if the list is empty or has only one node, or k is 0\n",
        "    if not head or not head.next or k == 0:\n",
        "        return head\n",
        "\n",
        "    # Step 1: Find the length of the list and the last node\n",
        "    length = 1\n",
        "    tail = head\n",
        "    while tail.next:\n",
        "        tail = tail.next\n",
        "        length += 1\n",
        "\n",
        "    # Step 2: Calculate the effective rotation\n",
        "    k = k % length\n",
        "    if k == 0:\n",
        "        return head\n",
        "\n",
        "    # Step 3: Form a circular linked list by connecting the tail to the head\n",
        "    tail.next = head\n",
        "\n",
        "    # Step 4: Find the new tail (the node before the new head)\n",
        "    new_tail_position = length - k\n",
        "    new_tail = head\n",
        "    for _ in range(new_tail_position - 1):\n",
        "        new_tail = new_tail.next\n",
        "\n",
        "    # Step 5: Break the cycle and set the new head\n",
        "    new_head = new_tail.next\n",
        "    new_tail.next = None\n",
        "\n",
        "    return new_head\n",
        "\n",
        "# Helper function to print the linked list\n",
        "def printList(node):\n",
        "    while node:\n",
        "        print(node.val, end=\" -> \" if node.next else \"\\n\")\n",
        "        node = node.next\n",
        "\n",
        "# Example usage\n",
        "l = ListNode(1, ListNode(2, ListNode(3, ListNode(4, ListNode(5)))))\n",
        "k = 2\n",
        "\n",
        "result = rotateRight(l, k)\n",
        "printList(result)\n"
      ],
      "metadata": {
        "colab": {
          "base_uri": "https://localhost:8080/"
        },
        "id": "B70EZar_r7jq",
        "outputId": "073af240-3d3d-444e-ebde-1f67df4292cf"
      },
      "execution_count": null,
      "outputs": [
        {
          "output_type": "stream",
          "name": "stdout",
          "text": [
            "4 -> 5 -> 1 -> 2 -> 3\n"
          ]
        }
      ]
    },
    {
      "cell_type": "markdown",
      "source": [
        "Problem 11: Flatten a multilevel doubly linked list.\n",
        "Input: 1 <-> 2 <-> 3 <-> 7 <-> 8 <-> 11 -> 12, 4 <-> 5 -> 9 -> 10, 6 -> 13\n",
        "Output: 1 <-> 2 <-> 3 <-> 4 <-> 5 <-> 6 <-> 7 <-> 8 <-> 9 <-> 10 <-> 11 <-> 12 <-> 13"
      ],
      "metadata": {
        "id": "2HhBLqxrvuPI"
      }
    },
    {
      "cell_type": "code",
      "source": [
        "class Node:\n",
        "    def __init__(self, val, prev=None, next=None, child=None):\n",
        "        self.val = val\n",
        "        self.prev = prev\n",
        "        self.next = next\n",
        "        self.child = child\n",
        "\n",
        "def flatten(head: Node) -> Node:\n",
        "    if not head:\n",
        "        return head\n",
        "\n",
        "    # Helper function to recursively flatten the list\n",
        "    def flatten_recursively(node: Node) -> Node:\n",
        "        current = node\n",
        "        last = None  # To keep track of the last processed node\n",
        "\n",
        "        while current:\n",
        "            next_node = current.next  # Save next node\n",
        "            # If there's a child, flatten it\n",
        "            if current.child:\n",
        "                # Recursively flatten the child list\n",
        "                child_last = flatten_recursively(current.child)\n",
        "\n",
        "                # Connect current node to the child\n",
        "                current.next = current.child\n",
        "                current.child.prev = current\n",
        "\n",
        "                # If there was a next node, connect the last node of the child to the next node\n",
        "                if next_node:\n",
        "                    child_last.next = next_node\n",
        "                    next_node.prev = child_last\n",
        "\n",
        "                # Clear the child pointer\n",
        "                current.child = None\n",
        "                last = child_last  # The last node of the flattened child list\n",
        "            else:\n",
        "                last = current\n",
        "\n",
        "            current = next_node\n",
        "\n",
        "        return last\n",
        "\n",
        "    flatten_recursively(head)\n",
        "    return head\n",
        "\n",
        "# Helper function to print the doubly linked list\n",
        "def printList(node):\n",
        "    while node:\n",
        "        print(node.val, end=\" <-> \" if node.next else \"\\n\")\n",
        "        node = node.next\n",
        "\n",
        "# Example usage\n",
        "# Create the linked list\n",
        "head = Node(1)\n",
        "node2 = Node(2)\n",
        "node3 = Node(3)\n",
        "node4 = Node(4)\n",
        "node5 = Node(5)\n",
        "node6 = Node(6)\n",
        "node7 = Node(7)\n",
        "node8 = Node(8)\n",
        "node9 = Node(9)\n",
        "node10 = Node(10)\n",
        "node11 = Node(11)\n",
        "node12 = Node(12)\n",
        "node13 = Node(13)\n",
        "\n",
        "# Set up connections\n",
        "head.next = node2\n",
        "node2.prev = head\n",
        "node2.next = node3\n",
        "node3.prev = node2\n",
        "node3.next = node4\n",
        "node4.prev = node3\n",
        "node4.next = node5\n",
        "node5.prev = node4\n",
        "node5.next = node6\n",
        "node6.prev = node5\n",
        "\n",
        "node3.child = node7\n",
        "node7.next = node8\n",
        "node8.prev = node7\n",
        "node8.child = node11\n",
        "node11.next = node12\n",
        "node12.prev = node11\n",
        "\n",
        "node5.child = node9\n",
        "node9.next = node10\n",
        "node10.prev = node9\n",
        "\n",
        "node6.child = node13\n",
        "\n",
        "# Flatten the multilevel doubly linked list\n",
        "flattened_head = flatten(head)\n",
        "\n",
        "# Print the flattened list\n",
        "printList(flattened_head)\n"
      ],
      "metadata": {
        "id": "vMx5oNoZtiYK",
        "colab": {
          "base_uri": "https://localhost:8080/"
        },
        "outputId": "5fd39eb6-b54b-491d-b872-53f46570a72f"
      },
      "execution_count": null,
      "outputs": [
        {
          "output_type": "stream",
          "name": "stdout",
          "text": [
            "1 <-> 2 <-> 3 <-> 7 <-> 8 <-> 11 <-> 12 <-> 4 <-> 5 <-> 9 <-> 10 <-> 6 <-> 13\n"
          ]
        }
      ]
    },
    {
      "cell_type": "markdown",
      "source": [
        "Problem 12: Rearrange a linked list such that all even positioned nodes are placed at the end.\n",
        "Input: 1 -> 2 -> 3 -> 4 -> 5\n",
        "Output: 1 -> 3 -> 5 -> 2 -> 4"
      ],
      "metadata": {
        "id": "S7Xvfgafv-dC"
      }
    },
    {
      "cell_type": "code",
      "source": [
        "class ListNode:\n",
        "    def __init__(self, val=0, next=None):\n",
        "        self.val = val\n",
        "        self.next = next\n",
        "\n",
        "def rearrangeEvenOdd(head: ListNode) -> ListNode:\n",
        "    if not head or not head.next:\n",
        "        return head\n",
        "\n",
        "    # Initialize pointers for odd and even lists\n",
        "    odd = head\n",
        "    even = head.next\n",
        "    even_head = even  # Save the head of the even list\n",
        "\n",
        "    # Traverse the list, separating odd and even nodes\n",
        "    while even and even.next:\n",
        "        odd.next = even.next  # Link the next odd node\n",
        "        odd = odd.next        # Move odd pointer to the next odd node\n",
        "        even.next = odd.next  # Link the next even node\n",
        "        even = even.next      # Move even pointer to the next even node\n",
        "\n",
        "    # Attach the even list to the end of the odd list\n",
        "    odd.next = even_head\n",
        "\n",
        "    return head\n",
        "\n",
        "# Helper function to print the linked list\n",
        "def printList(node):\n",
        "    while node:\n",
        "        print(node.val, end=\" -> \" if node.next else \"\\n\")\n",
        "        node = node.next\n",
        "\n",
        "# Example usage\n",
        "l = ListNode(1, ListNode(2, ListNode(3, ListNode(4, ListNode(5)))))\n",
        "\n",
        "result = rearrangeEvenOdd(l)\n",
        "printList(result)\n"
      ],
      "metadata": {
        "colab": {
          "base_uri": "https://localhost:8080/"
        },
        "id": "XE-4f27cv6iI",
        "outputId": "fd9c74ed-7cba-41d1-94b0-354802c6e427"
      },
      "execution_count": null,
      "outputs": [
        {
          "output_type": "stream",
          "name": "stdout",
          "text": [
            "1 -> 3 -> 5 -> 2 -> 4\n"
          ]
        }
      ]
    },
    {
      "cell_type": "markdown",
      "source": [
        "Problem 13: Given a non-negative number represented as a linked list, add one to it.\n",
        "Input: 1 -> 2 -> 3 (represents the number 123)\n",
        "Output: 1 -> 2 -> 4 (represents the number 124)"
      ],
      "metadata": {
        "id": "127diN_OwZBx"
      }
    },
    {
      "cell_type": "code",
      "source": [
        "class ListNode:\n",
        "    def __init__(self, val=0, next=None):\n",
        "        self.val = val\n",
        "        self.next = next\n",
        "\n",
        "# Helper function to reverse a linked list\n",
        "def reverseList(head: ListNode) -> ListNode:\n",
        "    prev = None\n",
        "    current = head\n",
        "    while current:\n",
        "        next_node = current.next\n",
        "        current.next = prev\n",
        "        prev = current\n",
        "        current = next_node\n",
        "    return prev\n",
        "\n",
        "# Function to add one to the number represented by the linked list\n",
        "def addOne(head: ListNode) -> ListNode:\n",
        "    # Step 1: Reverse the linked list\n",
        "    head = reverseList(head)\n",
        "\n",
        "    # Step 2: Add 1 to the least significant digit\n",
        "    current = head\n",
        "    carry = 1\n",
        "    while current:\n",
        "        current.val += carry\n",
        "        if current.val == 10:\n",
        "            current.val = 0\n",
        "            carry = 1\n",
        "        else:\n",
        "            carry = 0\n",
        "            break\n",
        "        if not current.next:\n",
        "            break\n",
        "        current = current.next\n",
        "\n",
        "    # Step 3: If there's still a carry at the end, add a new node\n",
        "    if carry == 1 and not current.next:\n",
        "        current.next = ListNode(1)\n",
        "\n",
        "    # Step 4: Reverse the list back to its original order\n",
        "    head = reverseList(head)\n",
        "\n",
        "    return head\n",
        "\n",
        "# Helper function to print the linked list\n",
        "def printList(node):\n",
        "    while node:\n",
        "        print(node.val, end=\" -> \" if node.next else \"\\n\")\n",
        "        node = node.next\n",
        "\n",
        "# Example usage\n",
        "l = ListNode(1, ListNode(2, ListNode(3)))\n",
        "\n",
        "result = addOne(l)\n",
        "printList(result)\n"
      ],
      "metadata": {
        "colab": {
          "base_uri": "https://localhost:8080/"
        },
        "id": "6lshYOPywTRx",
        "outputId": "a4bde3cf-a93d-468e-ce1e-11fca3f5eb24"
      },
      "execution_count": null,
      "outputs": [
        {
          "output_type": "stream",
          "name": "stdout",
          "text": [
            "1 -> 2 -> 4\n"
          ]
        }
      ]
    },
    {
      "cell_type": "markdown",
      "source": [
        "Problem 14: Given a sorted array and a target value, return the index if the target is found. If not, return the\n",
        "index where it would be inserted.\n",
        "Input: nums = [1, 3, 5, 6], target = 5\n",
        "Output: 2"
      ],
      "metadata": {
        "id": "OtCF1ppmwqzM"
      }
    },
    {
      "cell_type": "code",
      "source": [
        "def searchInsert(nums, target):\n",
        "    low, high = 0, len(nums) - 1\n",
        "\n",
        "    while low <= high:\n",
        "        mid = (low + high) // 2\n",
        "\n",
        "        if nums[mid] == target:\n",
        "            return mid\n",
        "        elif nums[mid] < target:\n",
        "            low = mid + 1\n",
        "        else:\n",
        "            high = mid - 1\n",
        "\n",
        "    # If the target is not found, low will be the insertion point\n",
        "    return low\n",
        "\n",
        "# Example usage\n",
        "nums = [1, 3, 5, 6]\n",
        "target = 5\n",
        "result = searchInsert(nums, target)\n",
        "print(result)\n"
      ],
      "metadata": {
        "colab": {
          "base_uri": "https://localhost:8080/"
        },
        "id": "PEuCvJLnwkjC",
        "outputId": "287d5181-6d1e-4a83-ab5c-ec578bab7ddd"
      },
      "execution_count": null,
      "outputs": [
        {
          "output_type": "stream",
          "name": "stdout",
          "text": [
            "2\n"
          ]
        }
      ]
    },
    {
      "cell_type": "markdown",
      "source": [
        "Problem 15: Find the minimum element in a rotated sorted array.\n",
        "Input: [4, 5, 6, 7, 0, 1, 2]\n",
        "Output: 0"
      ],
      "metadata": {
        "id": "rkPqDHYWxAQ2"
      }
    },
    {
      "cell_type": "code",
      "source": [
        "def findMin(nums):\n",
        "    low, high = 0, len(nums) - 1\n",
        "\n",
        "    while low < high:\n",
        "        mid = (low + high) // 2\n",
        "\n",
        "        # If middle element is greater than the rightmost element, the minimum is in the right half\n",
        "        if nums[mid] > nums[high]:\n",
        "            low = mid + 1\n",
        "        else:\n",
        "            high = mid  # Minimum could be at mid or in the left half\n",
        "\n",
        "    # At the end of the loop, low == high and it points to the minimum element\n",
        "    return nums[low]\n",
        "\n",
        "# Example usage\n",
        "nums = [4, 5, 6, 7, 0, 1, 2]\n",
        "result = findMin(nums)\n",
        "print(result)\n"
      ],
      "metadata": {
        "colab": {
          "base_uri": "https://localhost:8080/"
        },
        "id": "UufiXSk6w6d3",
        "outputId": "9b269da1-9dae-4988-f5f3-2dd387f7bb4e"
      },
      "execution_count": null,
      "outputs": [
        {
          "output_type": "stream",
          "name": "stdout",
          "text": [
            "0\n"
          ]
        }
      ]
    },
    {
      "cell_type": "markdown",
      "source": [
        "Problem 16: Search for a target value in a rotated sorted array.\n",
        "Input: nums = [4, 5, 6, 7, 0, 1, 2], target = 0\n",
        "Output: 4"
      ],
      "metadata": {
        "id": "QpyBuq45xOdT"
      }
    },
    {
      "cell_type": "code",
      "source": [
        "def search(nums, target):\n",
        "    low, high = 0, len(nums) - 1\n",
        "\n",
        "    while low <= high:\n",
        "        mid = (low + high) // 2\n",
        "\n",
        "        # If the target is found, return the index\n",
        "        if nums[mid] == target:\n",
        "            return mid\n",
        "\n",
        "        # Check if the left half is sorted\n",
        "        if nums[low] <= nums[mid]:\n",
        "            # If target lies in the sorted left half\n",
        "            if nums[low] <= target < nums[mid]:\n",
        "                high = mid - 1\n",
        "            else:\n",
        "                low = mid + 1\n",
        "        # Otherwise, the right half is sorted\n",
        "        else:\n",
        "            # If target lies in the sorted right half\n",
        "            if nums[mid] < target <= nums[high]:\n",
        "                low = mid + 1\n",
        "            else:\n",
        "                high = mid - 1\n",
        "\n",
        "    # If the target is not found, return -1\n",
        "    return -1\n",
        "\n",
        "# Example usage\n",
        "nums = [4, 5, 6, 7, 0, 1, 2]\n",
        "target = 0\n",
        "result = search(nums, target)\n",
        "print(result)\n"
      ],
      "metadata": {
        "colab": {
          "base_uri": "https://localhost:8080/"
        },
        "id": "-YGQZ2TExMAp",
        "outputId": "5c68d7c6-b07d-4ede-f76b-533ea7d39e82"
      },
      "execution_count": null,
      "outputs": [
        {
          "output_type": "stream",
          "name": "stdout",
          "text": [
            "4\n"
          ]
        }
      ]
    },
    {
      "cell_type": "markdown",
      "source": [
        "Problem 17: Find the peak element in an array. A peak element is greater than its neighbors.\n",
        "Input: nums = [1, 2, 3, 1]\n",
        "Output: 2 (index of peak element)"
      ],
      "metadata": {
        "id": "GIxPwZC6x3Vf"
      }
    },
    {
      "cell_type": "code",
      "source": [
        "def findPeakElement(nums):\n",
        "    low, high = 0, len(nums) - 1\n",
        "\n",
        "    while low < high:\n",
        "        mid = (low + high) // 2\n",
        "\n",
        "        # Compare mid element with the next element\n",
        "        if nums[mid] > nums[mid + 1]:\n",
        "            # The peak is on the left side (including mid)\n",
        "            high = mid\n",
        "        else:\n",
        "            # The peak is on the right side (excluding mid)\n",
        "            low = mid + 1\n",
        "\n",
        "    # When low == high, we have found the peak element\n",
        "    return low\n",
        "\n",
        "# Example usage\n",
        "nums = [1, 2, 3, 1]\n",
        "result = findPeakElement(nums)\n",
        "print(result)\n"
      ],
      "metadata": {
        "colab": {
          "base_uri": "https://localhost:8080/"
        },
        "id": "F8ruQq5MxtnQ",
        "outputId": "693ec2d7-56cd-40ee-bad4-3a5a5ee55405"
      },
      "execution_count": null,
      "outputs": [
        {
          "output_type": "stream",
          "name": "stdout",
          "text": [
            "2\n"
          ]
        }
      ]
    },
    {
      "cell_type": "markdown",
      "source": [
        "Problem 18: Given a m x n matrix where each row and column is sorted in ascending order, count the number\n",
        "of negative numbers.\n",
        "Input: grid = [[4, 3, 2, -1], [3, 2, 1, -1], [1, 1, -1, -2], [-1, -1, -2, -3]]\n",
        "Output: 8"
      ],
      "metadata": {
        "id": "A-hbWLPgyNAi"
      }
    },
    {
      "cell_type": "code",
      "source": [
        "def countNegatives(grid):\n",
        "    # Get the dimensions of the matrix\n",
        "    rows, cols = len(grid), len(grid[0])\n",
        "\n",
        "    # Start from the top-right corner of the matrix\n",
        "    row, col = 0, cols - 1\n",
        "    count = 0\n",
        "\n",
        "    # Traverse the matrix\n",
        "    while row < rows and col >= 0:\n",
        "        if grid[row][col] < 0:\n",
        "            # If the current number is negative, count all elements in this column below it\n",
        "            count += (rows - row)\n",
        "            # Move left to the next column\n",
        "            col -= 1\n",
        "        else:\n",
        "            # If the current number is non-negative, move down to the next row\n",
        "            row += 1\n",
        "\n",
        "    return count\n",
        "\n",
        "# Example usage\n",
        "grid = [[4, 3, 2, -1], [3, 2, 1, -1], [1, 1, -1, -2], [-1, -1, -2, -3]]\n",
        "result = countNegatives(grid)\n",
        "print(result)\n"
      ],
      "metadata": {
        "colab": {
          "base_uri": "https://localhost:8080/"
        },
        "id": "6zMQBfCOyGdd",
        "outputId": "770d2a79-63d1-4e6f-ccfd-1d9c62bc2590"
      },
      "execution_count": null,
      "outputs": [
        {
          "output_type": "stream",
          "name": "stdout",
          "text": [
            "8\n"
          ]
        }
      ]
    },
    {
      "cell_type": "markdown",
      "source": [
        "Problem 19: Given a 2D matrix sorted in ascending order in each row, and the first integer of each row is\n",
        "greater than the last integer of the previous row, determine if a target value is present in the matrix.\n",
        "\n",
        "Input: matrix = [[1, 3, 5, 7], [10, 11, 16, 20], [23, 30, 34, 60]], target = 3\n",
        "Output: True"
      ],
      "metadata": {
        "id": "ZIWYOSWgzN_4"
      }
    },
    {
      "cell_type": "code",
      "source": [
        "def search_in_matrix(matrix, target):\n",
        "    \"\"\"\n",
        "    Searches for a target value in a row-wise and column-wise sorted 2D matrix.\n",
        "\n",
        "    Args:\n",
        "        matrix: The sorted 2D matrix.\n",
        "        target: The target value to search for.\n",
        "\n",
        "    Returns:\n",
        "        True if the target is found, False otherwise.\n",
        "    \"\"\"\n",
        "\n",
        "    rows = len(matrix)\n",
        "    cols = len(matrix[0])\n",
        "\n",
        "    # Start from the top right corner\n",
        "    row = 0\n",
        "    col = cols - 1\n",
        "\n",
        "    while row < rows and col >= 0:\n",
        "        if matrix[row][col] == target:\n",
        "            return True\n",
        "        elif matrix[row][col] > target:\n",
        "            col -= 1\n",
        "        else:\n",
        "            row += 1\n",
        "\n",
        "    return False\n",
        "\n",
        "# Example usage:\n",
        "matrix = [[1, 3, 5, 7], [10, 11, 16, 20], [23, 30, 34, 60]]\n",
        "target = 3\n",
        "result = search_in_matrix(matrix, target)\n",
        "print(result)  # Output: True"
      ],
      "metadata": {
        "colab": {
          "base_uri": "https://localhost:8080/"
        },
        "id": "OsW5SysRzGf-",
        "outputId": "2bfd9f77-29a3-45cb-fdb2-3dcda58bb195"
      },
      "execution_count": null,
      "outputs": [
        {
          "output_type": "stream",
          "name": "stdout",
          "text": [
            "True\n"
          ]
        }
      ]
    },
    {
      "cell_type": "markdown",
      "source": [
        "Problem 20: Find Median in Two Sorted Arrays\n",
        "Problem: Given two sorted arrays, find the median of the combined sorted array.\n",
        "\n",
        "Input: nums1 = [1, 3], nums2 = [2]\n",
        "Output: 2.0"
      ],
      "metadata": {
        "id": "2YK6sOs5zfGj"
      }
    },
    {
      "cell_type": "code",
      "source": [
        "def findMedianSortedArrays(nums1, nums2):\n",
        "    # Ensure that nums1 is the smaller array\n",
        "    if len(nums1) > len(nums2):\n",
        "        nums1, nums2 = nums2, nums1\n",
        "\n",
        "    m, n = len(nums1), len(nums2)\n",
        "    low, high = 0, m\n",
        "\n",
        "    while low <= high:\n",
        "        partition1 = (low + high) // 2\n",
        "        partition2 = (m + n + 1) // 2 - partition1\n",
        "\n",
        "        # Edge cases\n",
        "        maxLeft1 = float('-inf') if partition1 == 0 else nums1[partition1 - 1]\n",
        "        minRight1 = float('inf') if partition1 == m else nums1[partition1]\n",
        "\n",
        "        maxLeft2 = float('-inf') if partition2 == 0 else nums2[partition2 - 1]\n",
        "        minRight2 = float('inf') if partition2 == n else nums2[partition2]\n",
        "\n",
        "        # Check if the partition is correct\n",
        "        if maxLeft1 <= minRight2 and maxLeft2 <= minRight1:\n",
        "            # If the combined array length is odd\n",
        "            if (m + n) % 2 == 1:\n",
        "                return max(maxLeft1, maxLeft2)\n",
        "            # If the combined array length is even\n",
        "            else:\n",
        "                return (max(maxLeft1, maxLeft2) + min(minRight1, minRight2)) / 2.0\n",
        "        elif maxLeft1 > minRight2:\n",
        "            # Move the partition in nums1 to the left\n",
        "            high = partition1 - 1\n",
        "        else:\n",
        "            # Move the partition in nums1 to the right\n",
        "            low = partition1 + 1\n",
        "\n",
        "# Example usage\n",
        "nums1 = [1, 3]\n",
        "nums2 = [2]\n",
        "result = findMedianSortedArrays(nums1, nums2)\n",
        "print(result)\n"
      ],
      "metadata": {
        "colab": {
          "base_uri": "https://localhost:8080/"
        },
        "id": "-fUcury9zdet",
        "outputId": "b865f5d6-268a-4b17-a498-9fc2a27ea085"
      },
      "execution_count": null,
      "outputs": [
        {
          "output_type": "stream",
          "name": "stdout",
          "text": [
            "2\n"
          ]
        }
      ]
    },
    {
      "cell_type": "markdown",
      "source": [
        "Problem 21: Given a sorted character array and a target letter, find the smallest letter in the array that is\n",
        "greater than the target.\n",
        "\n",
        "Input: letters = ['c', 'f', 'j'], target = a\n",
        "Output: 'c'"
      ],
      "metadata": {
        "id": "7nSDTYZnz7tq"
      }
    },
    {
      "cell_type": "code",
      "source": [
        "def nextGreatestLetter(letters, target):\n",
        "    \"\"\"\n",
        "    Finds the smallest letter in the array that is greater than the target.\n",
        "\n",
        "    Args:\n",
        "        letters: A sorted array of characters.\n",
        "        target: The target character.\n",
        "\n",
        "    Returns:\n",
        "        The smallest character greater than the target, or the first character if none exists.\n",
        "    \"\"\"\n",
        "\n",
        "    left, right = 0, len(letters) - 1\n",
        "\n",
        "    while left < right:\n",
        "        mid = (left + right) // 2\n",
        "        if letters[mid] <= target:\n",
        "            left = mid + 1\n",
        "        else:\n",
        "            right = mid\n",
        "\n",
        "    return letters[left % len(letters)]\n",
        "\n",
        "# Example usage:\n",
        "letters = ['c', 'f', 'j']\n",
        "target = 'a'\n",
        "result = nextGreatestLetter(letters, target)\n",
        "print(result)"
      ],
      "metadata": {
        "colab": {
          "base_uri": "https://localhost:8080/"
        },
        "id": "Frdc3lx8znkg",
        "outputId": "f3e698f8-8aee-4619-b185-45b4204b074b"
      },
      "execution_count": null,
      "outputs": [
        {
          "output_type": "stream",
          "name": "stdout",
          "text": [
            "c\n"
          ]
        }
      ]
    },
    {
      "cell_type": "markdown",
      "source": [
        "Problem 22: Given an array with n objects colored red, white, or blue, sort them in-place so that objects of\n",
        "the same color are adjacent, with the colors in the order red, white, and blue.\n",
        "\n",
        "Input: nums = [2, 0, 2, 1, 1, 0]\n",
        "Output: [0, 0, 1, 1, 2, 2]"
      ],
      "metadata": {
        "id": "P1d-mGD50IvT"
      }
    },
    {
      "cell_type": "code",
      "source": [
        "def sortColors(nums):\n",
        "    \"\"\"\n",
        "    Sorts an array of 0s, 1s, and 2s in-place.\n",
        "\n",
        "    Args:\n",
        "        nums: The array to be sorted.\n",
        "    \"\"\"\n",
        "\n",
        "    low = 0\n",
        "    mid = 0\n",
        "    high = len(nums) - 1\n",
        "\n",
        "    while mid <= high:\n",
        "        if nums[mid] == 0:\n",
        "            nums[low], nums[mid] = nums[mid], nums[low]\n",
        "            low += 1\n",
        "            mid += 1\n",
        "        elif nums[mid] == 2:\n",
        "            nums[mid], nums[high] = nums[high], nums[mid]\n",
        "            high -= 1\n",
        "        else:\n",
        "            mid += 1\n",
        "\n",
        "# Example usage:\n",
        "nums = [2, 0, 2, 1, 1, 0]\n",
        "sortColors(nums)\n",
        "print(nums)"
      ],
      "metadata": {
        "colab": {
          "base_uri": "https://localhost:8080/"
        },
        "id": "eapVtesRz_Ai",
        "outputId": "06f72c46-be5b-4967-eae7-da2e961fbbc9"
      },
      "execution_count": null,
      "outputs": [
        {
          "output_type": "stream",
          "name": "stdout",
          "text": [
            "[0, 0, 1, 1, 2, 2]\n"
          ]
        }
      ]
    },
    {
      "cell_type": "markdown",
      "source": [
        "Problem 23: Find the kth largest element in an unsorted array.\n",
        "Input: nums = [3, 2, 1, 5, 6, 4], k = 2\n",
        "Output: 5"
      ],
      "metadata": {
        "id": "8SOwdv2F0TgF"
      }
    },
    {
      "cell_type": "code",
      "source": [
        "import random\n",
        "\n",
        "def partition(nums, left, right):\n",
        "    pivot = nums[right]\n",
        "    i = left\n",
        "    for j in range(left, right):\n",
        "        if nums[j] <= pivot:\n",
        "            nums[i], nums[j] = nums[j], nums[i]\n",
        "            i += 1\n",
        "    nums[i], nums[right] = nums[right], nums[i]\n",
        "    return i\n",
        "\n",
        "def quickselect(nums, left, right, k):\n",
        "    if left == right:\n",
        "        return nums[left]\n",
        "\n",
        "    pivot_index = partition(nums, left, right)\n",
        "\n",
        "    # The pivot is in its final sorted position\n",
        "    if pivot_index == k:\n",
        "        return nums[pivot_index]\n",
        "    elif pivot_index < k:\n",
        "        return quickselect(nums, pivot_index + 1, right, k)\n",
        "    else:\n",
        "        return quickselect(nums, left, pivot_index - 1, k)\n",
        "\n",
        "def findKthLargest(nums, k):\n",
        "    # We are looking for the (n-k)th smallest element in 0-indexed array\n",
        "    return quickselect(nums, 0, len(nums) - 1, len(nums) - k)\n",
        "\n",
        "# Example usage\n",
        "nums = [3, 2, 1, 5, 6, 4]\n",
        "k = 2\n",
        "result = findKthLargest(nums, k)\n",
        "print(result)\n"
      ],
      "metadata": {
        "colab": {
          "base_uri": "https://localhost:8080/"
        },
        "id": "zC8WrNTH0OP3",
        "outputId": "24cb41f5-088d-45ca-dd80-c4fa0a6c66b7"
      },
      "execution_count": null,
      "outputs": [
        {
          "output_type": "stream",
          "name": "stdout",
          "text": [
            "5\n"
          ]
        }
      ]
    },
    {
      "cell_type": "markdown",
      "source": [
        "Problem 24: Given an unsorted array, reorder it in-place such that nums[0] <= nums[1] >= nums[2] <= nums[3]...\n",
        "\n",
        "Input: nums = [3, 5, 2, 1, 6, 4]\n",
        "Output: [3, 5, 1, 6, 2, 4]"
      ],
      "metadata": {
        "id": "w0uimeWP1c6X"
      }
    },
    {
      "cell_type": "code",
      "source": [
        "def wiggleSort(nums):\n",
        "    \"\"\"\n",
        "    Reorders an unsorted array in-place to satisfy the pattern nums[0] <= nums[1] >= nums[2] <= nums[3]...\n",
        "\n",
        "    Args:\n",
        "        nums: The unsorted array.\n",
        "    \"\"\"\n",
        "\n",
        "    n = len(nums)\n",
        "    for i in range(1, n):\n",
        "        if (i % 2 == 1 and nums[i] < nums[i - 1]) or (i % 2 == 0 and nums[i] > nums[i - 1]):\n",
        "            nums[i], nums[i - 1] = nums[i - 1], nums[i]\n",
        "\n",
        "# Example usage:\n",
        "nums = [3, 5, 2, 1, 6, 4]\n",
        "wiggleSort(nums)\n",
        "print(nums)"
      ],
      "metadata": {
        "colab": {
          "base_uri": "https://localhost:8080/"
        },
        "id": "FhuvVGHt0aJ4",
        "outputId": "184aaad9-98cc-4279-d6a6-75920b7df8c0"
      },
      "execution_count": null,
      "outputs": [
        {
          "output_type": "stream",
          "name": "stdout",
          "text": [
            "[3, 5, 1, 6, 2, 4]\n"
          ]
        }
      ]
    },
    {
      "cell_type": "markdown",
      "source": [
        "Problem 25: Given an array of integers, calculate the sum of all its elements.\n",
        "\n",
        "Input: [1, 2, 3, 4, 5]\n",
        "Output: 15"
      ],
      "metadata": {
        "id": "2hGvAHUw1l9s"
      }
    },
    {
      "cell_type": "code",
      "source": [
        "def calculate_sum(arr):\n",
        "    \"\"\"\n",
        "    Calculates the sum of all elements in an array.\n",
        "\n",
        "    Args:\n",
        "        arr: The input array.\n",
        "\n",
        "    Returns:\n",
        "        The sum of the elements.\n",
        "    \"\"\"\n",
        "\n",
        "    sum = 0\n",
        "    for num in arr:\n",
        "        sum += num\n",
        "    return sum\n",
        "\n",
        "# Example usage:\n",
        "nums = [1, 2, 3, 4, 5]\n",
        "result = calculate_sum(nums)\n",
        "print(result)  # Output: 15"
      ],
      "metadata": {
        "colab": {
          "base_uri": "https://localhost:8080/"
        },
        "id": "ohsTplQm1jhe",
        "outputId": "9bd8914b-70ab-4b23-c081-43b5f83e1e49"
      },
      "execution_count": null,
      "outputs": [
        {
          "output_type": "stream",
          "name": "stdout",
          "text": [
            "15\n"
          ]
        }
      ]
    },
    {
      "cell_type": "markdown",
      "source": [
        "Problem 26:Find the maximum element in an array of integers.\n",
        "Input: [3, 7, 2, 9, 4, 1]\n",
        "Output: 9"
      ],
      "metadata": {
        "id": "oXVuStf29nzZ"
      }
    },
    {
      "cell_type": "code",
      "source": [
        "def find_maximum(arr):\n",
        "    \"\"\"\n",
        "    Finds the maximum element in an array of integers.\n",
        "\n",
        "    Args:\n",
        "        arr: The input array.\n",
        "\n",
        "    Returns:\n",
        "        The maximum element in the array.\n",
        "    \"\"\"\n",
        "\n",
        "    if not arr:\n",
        "        return None  # Handle empty array\n",
        "\n",
        "    max_element = arr[0]\n",
        "    for num in arr:\n",
        "        if num > max_element:\n",
        "            max_element = num\n",
        "    return max_element\n",
        "\n",
        "# Example usage:\n",
        "nums = [3, 7, 2, 9, 4, 1]\n",
        "result = find_maximum(nums)\n",
        "print(result)"
      ],
      "metadata": {
        "id": "V_8F_YOB1tpv",
        "colab": {
          "base_uri": "https://localhost:8080/"
        },
        "outputId": "23a38968-0c3d-4528-8764-fda648f37c43"
      },
      "execution_count": 33,
      "outputs": [
        {
          "output_type": "stream",
          "name": "stdout",
          "text": [
            "9\n"
          ]
        }
      ]
    },
    {
      "cell_type": "markdown",
      "source": [
        "Problem 27: Implement linear search to find the index of a target element in an array.\n",
        "Input: [5, 3, 8, 2, 7, 4], target = 8\n",
        "Output: 2"
      ],
      "metadata": {
        "id": "Yf6tVvPD9wtc"
      }
    },
    {
      "cell_type": "code",
      "source": [
        "def linear_search(arr, target):\n",
        "    \"\"\"\n",
        "    Performs linear search to find the index of a target element in an array.\n",
        "\n",
        "    Args:\n",
        "        arr: The input array.\n",
        "        target: The target element to search for.\n",
        "\n",
        "    Returns:\n",
        "        The index of the target element if found, -1 otherwise.\n",
        "    \"\"\"\n",
        "\n",
        "    for i in range(len(arr)):\n",
        "        if arr[i] == target:\n",
        "            return i\n",
        "    return -1\n",
        "\n",
        "# Example usage:\n",
        "nums = [5, 3, 8, 2, 7, 4]\n",
        "target = 8\n",
        "index = linear_search(nums, target)\n",
        "if index != -1:\n",
        "    print(\"Target found at index:\", index)\n",
        "else:\n",
        "    print(\"Target not found in the array\")"
      ],
      "metadata": {
        "colab": {
          "base_uri": "https://localhost:8080/"
        },
        "id": "15q5AQu29uIE",
        "outputId": "1e15d7eb-b762-41bc-d54d-c843a670b2e8"
      },
      "execution_count": 34,
      "outputs": [
        {
          "output_type": "stream",
          "name": "stdout",
          "text": [
            "Target found at index: 2\n"
          ]
        }
      ]
    },
    {
      "cell_type": "markdown",
      "source": [
        "Problem 28 Calculate the factorial of a given number.\n",
        "Input: 5\n",
        "Output: 120 (as 5! = 5 * 4 * 3 * 2 * 1 = 120)"
      ],
      "metadata": {
        "id": "as6_J83S9_BB"
      }
    },
    {
      "cell_type": "code",
      "source": [
        "def factorial(n):\n",
        "    \"\"\"\n",
        "    Calculates the factorial of a given number.\n",
        "\n",
        "    Args:\n",
        "        n: The number for which to calculate the factorial.\n",
        "\n",
        "    Returns:\n",
        "        The factorial of the number.\n",
        "    \"\"\"\n",
        "\n",
        "    if n == 0 or n == 1:\n",
        "        return 1\n",
        "    else:\n",
        "        return n * factorial(n - 1)\n",
        "\n",
        "# Example usage:\n",
        "num = 5\n",
        "result = factorial(num)\n",
        "print(\"Factorial of\", num, \"is\", result)"
      ],
      "metadata": {
        "colab": {
          "base_uri": "https://localhost:8080/"
        },
        "id": "QpXtlU0q98f6",
        "outputId": "e42e74d4-5470-423c-e1b3-b7980816eefd"
      },
      "execution_count": 35,
      "outputs": [
        {
          "output_type": "stream",
          "name": "stdout",
          "text": [
            "Factorial of 5 is 120\n"
          ]
        }
      ]
    },
    {
      "cell_type": "markdown",
      "source": [
        "Problem 29: Check if a given number is a prime number.\n",
        "Input: 7\n",
        "Output: True"
      ],
      "metadata": {
        "id": "iUGsKndy-M6A"
      }
    },
    {
      "cell_type": "code",
      "source": [
        "def is_prime(num):\n",
        "    \"\"\"\n",
        "    Checks if a given number is prime.\n",
        "\n",
        "    Args:\n",
        "        num: The number to check.\n",
        "\n",
        "    Returns:\n",
        "        True if the number is prime, False otherwise.\n",
        "    \"\"\"\n",
        "\n",
        "    if num <= 1:\n",
        "        return False\n",
        "    if num <= 3:\n",
        "        return True\n",
        "    if num % 2 == 0 or num % 3 == 0:\n",
        "        return False\n",
        "\n",
        "    i = 5\n",
        "    while i * i <= num:\n",
        "        if num % i == 0 or num % (i + 2) == 0:\n",
        "            return False\n",
        "        i += 6\n",
        "\n",
        "    return True\n",
        "\n",
        "# Example usage:\n",
        "num = 7\n",
        "if is_prime(num):\n",
        "    print(num, \"is a prime number\")\n",
        "else:\n",
        "    print(num, \"is not a prime number\")"
      ],
      "metadata": {
        "colab": {
          "base_uri": "https://localhost:8080/"
        },
        "id": "n9wRGCJI-G4U",
        "outputId": "b20ce980-0aaa-4e8f-dfdf-6dbfdc6b6136"
      },
      "execution_count": 36,
      "outputs": [
        {
          "output_type": "stream",
          "name": "stdout",
          "text": [
            "7 is a prime number\n"
          ]
        }
      ]
    },
    {
      "cell_type": "markdown",
      "source": [
        "Problem 30: Generate the Fibonacci series up to a given number n.\n",
        "Input: 8\n",
        "Output: [0, 1, 1, 2, 3, 5, 8, 13]"
      ],
      "metadata": {
        "id": "Pg47_IYa-bhl"
      }
    },
    {
      "cell_type": "code",
      "source": [
        "def generate_fibonacci(n):\n",
        "    # Initialize the first two Fibonacci numbers\n",
        "    fib_sequence = [0, 1]\n",
        "\n",
        "    # Continue generating Fibonacci numbers until we exceed n\n",
        "    while True:\n",
        "        next_fib = fib_sequence[-1] + fib_sequence[-2]\n",
        "        if next_fib > n:\n",
        "            break\n",
        "        fib_sequence.append(next_fib)\n",
        "\n",
        "    return fib_sequence\n",
        "\n",
        "# Example usage\n",
        "n = 8\n",
        "result = generate_fibonacci(n)\n",
        "print(result)\n"
      ],
      "metadata": {
        "colab": {
          "base_uri": "https://localhost:8080/"
        },
        "id": "NUpSsb_h-RGL",
        "outputId": "c1df414f-eb3c-4ca3-a5c9-861824704782"
      },
      "execution_count": 39,
      "outputs": [
        {
          "output_type": "stream",
          "name": "stdout",
          "text": [
            "[0, 1, 1, 2, 3, 5, 8]\n"
          ]
        }
      ]
    },
    {
      "cell_type": "markdown",
      "source": [
        "Problem 31: Calculate the power of a number using recursion.\n",
        "Input: base = 3, exponent = 4\n",
        "Output: 81 (as 3^4 = 3 * 3 * 3 * 3 = 81)"
      ],
      "metadata": {
        "id": "8ybuN_1l_gVR"
      }
    },
    {
      "cell_type": "code",
      "source": [
        "def calculate_power(base, exponent):\n",
        "    \"\"\"\n",
        "    Calculates the power of a number using recursion.\n",
        "\n",
        "    Args:\n",
        "        base: The base number.\n",
        "        exponent: The exponent.\n",
        "\n",
        "    Returns:\n",
        "        The result of the calculation.\n",
        "    \"\"\"\n",
        "\n",
        "    if exponent == 0:\n",
        "        return 1\n",
        "    else:\n",
        "        return base * calculate_power(base, exponent - 1)\n",
        "\n",
        "# Example usage:\n",
        "base = 3\n",
        "exponent = 4\n",
        "result = calculate_power(base, exponent)\n",
        "print(base, \"^\", exponent, \"=\", result)"
      ],
      "metadata": {
        "colab": {
          "base_uri": "https://localhost:8080/"
        },
        "id": "0f_QJgPj-k2b",
        "outputId": "44d08f22-16d5-46d2-f14e-c2ac9c9c46cc"
      },
      "execution_count": 40,
      "outputs": [
        {
          "output_type": "stream",
          "name": "stdout",
          "text": [
            "3 ^ 4 = 81\n"
          ]
        }
      ]
    },
    {
      "cell_type": "markdown",
      "source": [
        "Problem 32: Reverse a given string.\n",
        "Input: \"hello\"\n",
        "Output: \"olleh\""
      ],
      "metadata": {
        "id": "qCU_lFx1_o_k"
      }
    },
    {
      "cell_type": "code",
      "source": [
        "def reverse_string(string):\n",
        "    \"\"\"\n",
        "    Reverses a given string.\n",
        "\n",
        "    Args:\n",
        "        string: The input string.\n",
        "\n",
        "    Returns:\n",
        "        The reversed string.\n",
        "    \"\"\"\n",
        "\n",
        "    reversed_string = \"\"\n",
        "    for char in string:\n",
        "        reversed_string = char + reversed_string\n",
        "    return reversed_string\n",
        "\n",
        "# Example usage:\n",
        "string = \"hello\"\n",
        "result = reverse_string(string)\n",
        "print(\"Reversed string:\", result)"
      ],
      "metadata": {
        "colab": {
          "base_uri": "https://localhost:8080/"
        },
        "id": "lFpFOC2Y_lfN",
        "outputId": "11764ceb-f3e8-4e60-9863-67e2def2dbb2"
      },
      "execution_count": 41,
      "outputs": [
        {
          "output_type": "stream",
          "name": "stdout",
          "text": [
            "Reversed string: olleh\n"
          ]
        }
      ]
    },
    {
      "cell_type": "code",
      "source": [],
      "metadata": {
        "id": "xWyO23fm_tJj"
      },
      "execution_count": null,
      "outputs": []
    }
  ]
}