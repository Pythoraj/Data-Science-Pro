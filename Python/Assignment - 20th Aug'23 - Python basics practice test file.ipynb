{
 "cells": [
  {
   "cell_type": "markdown",
   "id": "e7b32a41-38c0-4e22-9877-c9d0bb6b4e53",
   "metadata": {},
   "source": [
    "TOPIC: String Based Assignment Problem"
   ]
  },
  {
   "cell_type": "markdown",
   "id": "44f08340-f45e-4578-9d43-4ef84b3a6119",
   "metadata": {},
   "source": [
    "1. Write a program to reverse a string."
   ]
  },
  {
   "cell_type": "code",
   "execution_count": 3,
   "id": "8e7f95f5-f2af-4bd1-a61b-7f720bafbe7e",
   "metadata": {},
   "outputs": [
    {
     "name": "stdout",
     "output_type": "stream",
     "text": [
      "Reverse String :  ecneicS ataD rof nohtyP\n"
     ]
    }
   ],
   "source": [
    "# To reverse the string we can use slicing \n",
    "String = 'Python for Data Science'\n",
    "Reverse = String[::-1]\n",
    "print(\"Reverse String : \", Reverse)"
   ]
  },
  {
   "cell_type": "markdown",
   "id": "64445aa3-dc4b-40be-9066-098d474cce10",
   "metadata": {},
   "source": [
    "2. Check if a string is a palindrome."
   ]
  },
  {
   "cell_type": "code",
   "execution_count": 9,
   "id": "0402845d-8a36-41dc-8fb9-55d4a90ea42d",
   "metadata": {},
   "outputs": [
    {
     "name": "stdin",
     "output_type": "stream",
     "text": [
      "Please enter the string : MADAM\n"
     ]
    },
    {
     "name": "stdout",
     "output_type": "stream",
     "text": [
      "isPalindrome - Yes\n"
     ]
    }
   ],
   "source": [
    "isPalindrome = input('Please enter the string :')        # We take here user input\n",
    "if isPalindrome == isPalindrome[::-1]:                   # Condition to check palindrome\n",
    "    print('isPalindrome - Yes')\n",
    "else:\n",
    "    print('isPalindrome - No')"
   ]
  },
  {
   "cell_type": "markdown",
   "id": "b4e7db5f-06e9-4499-a326-930531cc54db",
   "metadata": {},
   "source": [
    "3. Convert a string to uppercase."
   ]
  },
  {
   "cell_type": "code",
   "execution_count": 13,
   "id": "6ce965f1-4b17-40ea-83e9-99debaae3aac",
   "metadata": {},
   "outputs": [
    {
     "data": {
      "text/plain": [
       "'PW SKILLS'"
      ]
     },
     "execution_count": 13,
     "metadata": {},
     "output_type": "execute_result"
    }
   ],
   "source": [
    "UpperCase_String = 'pw skills'\n",
    "UpperCase_String.upper()      # upper() method is used to convert string into upper case."
   ]
  },
  {
   "cell_type": "markdown",
   "id": "bdb84059-dfdd-47c0-9128-fb79363272d5",
   "metadata": {},
   "source": [
    "4. Convert a string to lowercase."
   ]
  },
  {
   "cell_type": "code",
   "execution_count": 14,
   "id": "e42b8ef0-5a25-4e17-b394-ddc91bcef31e",
   "metadata": {},
   "outputs": [
    {
     "data": {
      "text/plain": [
       "'pw skills'"
      ]
     },
     "execution_count": 14,
     "metadata": {},
     "output_type": "execute_result"
    }
   ],
   "source": [
    "UpperCase_String = 'PW SKILLS'\n",
    "UpperCase_String.lower()       # lower() method is used to convert the string into upper case."
   ]
  },
  {
   "cell_type": "markdown",
   "id": "f52aced3-c499-4bf6-82b2-1d27c8c7ebbb",
   "metadata": {},
   "source": [
    "5. Count the number of vowels in a string."
   ]
  },
  {
   "cell_type": "code",
   "execution_count": 21,
   "id": "b23c6e89-e562-4c27-8fcb-4b5610f553b6",
   "metadata": {},
   "outputs": [
    {
     "name": "stdin",
     "output_type": "stream",
     "text": [
      "Please enter string to check whether its vowel or not Rajkumar\n"
     ]
    },
    {
     "name": "stdout",
     "output_type": "stream",
     "text": [
      "Count of vowel in the given string is  3\n"
     ]
    }
   ],
   "source": [
    "# Count the number of vowels in a string.\n",
    "User_Input = input('Please enter string to check whether its vowel or not')    # User Input\n",
    "Vowel = ['a','e','i','o','u']\n",
    "Count = 0                                                                      # It will count the occurrences of vowel \n",
    "for i in range(len(User_Input)):                                               # It will iterate the user input\n",
    "    if User_Input[i] in Vowel:                                                 # it will check whether the vowel exist in the user input or not\n",
    "        Count+=1                                                               # If the condition is true then the count will increase\n",
    "print(\"Count of vowel in the given string is \",Count)                                                                   # print the out put"
   ]
  },
  {
   "cell_type": "markdown",
   "id": "f60b69c0-87a1-40c2-b590-14ba0d528969",
   "metadata": {},
   "source": [
    "6. Count the number of consonants in a string."
   ]
  },
  {
   "cell_type": "code",
   "execution_count": 22,
   "id": "20fcb37e-542c-4ef0-8d73-6f8ab907264e",
   "metadata": {},
   "outputs": [
    {
     "name": "stdin",
     "output_type": "stream",
     "text": [
      "Please enter string to check whether its consonants or not Rajkumar Rajbhar\n"
     ]
    },
    {
     "name": "stdout",
     "output_type": "stream",
     "text": [
      "Count of consonants in the given string is  11\n"
     ]
    }
   ],
   "source": [
    "# Count the number of consonants in a string.\n",
    "User_Input = input('Please enter string to check whether its consonants or not')    # User Input\n",
    "Vowel = ['a','e','i','o','u']\n",
    "Count = 0                                                                      # It will count the occurrences of consonants. \n",
    "for i in range(len(User_Input)):                                               # It will iterate the user input\n",
    "    if User_Input[i] not in Vowel:                                             # it will check whether the consonants exist in the user input or not\n",
    "        Count+=1                                                               # If the condition is true then the count will increase\n",
    "print(\"Count of consonants in the given string is \",Count)   "
   ]
  },
  {
   "cell_type": "markdown",
   "id": "6700f47a-f283-4a0d-8096-5b78847797f7",
   "metadata": {},
   "source": [
    "7. Remove all whitespaces from a string."
   ]
  },
  {
   "cell_type": "code",
   "execution_count": 24,
   "id": "2d698c7f-b7bc-4c6e-a933-4ea6a1382d3d",
   "metadata": {},
   "outputs": [
    {
     "name": "stdin",
     "output_type": "stream",
     "text": [
      "Please enter the string:  Remove all whitespaces from a string.\n"
     ]
    },
    {
     "data": {
      "text/plain": [
       "'Removeallwhitespacesfromastring.'"
      ]
     },
     "execution_count": 24,
     "metadata": {},
     "output_type": "execute_result"
    }
   ],
   "source": [
    "Remove_WhiteSpace = input(\"Please enter the string: \")\n",
    "Remove_WhiteSpace.replace(\" \", \"\")         # he we remode the while space from the strings"
   ]
  },
  {
   "cell_type": "markdown",
   "id": "8ba67641-1261-4994-939e-fdef8c8020a4",
   "metadata": {},
   "source": [
    "8. Find the length of a string without using the `len()` function."
   ]
  },
  {
   "cell_type": "code",
   "execution_count": 25,
   "id": "855c3754-2911-4756-9f35-4cc7cebd2125",
   "metadata": {},
   "outputs": [
    {
     "name": "stdin",
     "output_type": "stream",
     "text": [
      "please enter your string:  Rajkumar Rajbhar\n"
     ]
    },
    {
     "name": "stdout",
     "output_type": "stream",
     "text": [
      "16\n"
     ]
    }
   ],
   "source": [
    "Length_Of_String = input(\"Please enter your string: \")   # User Input for string\n",
    "Count = 0                                                # It will store the count of the string char\n",
    "for i in range(len(Length_Of_String)):                   # iteration for char count\n",
    "    Count+=1                                             # Increament the count value with 1 \n",
    "print(Count)                                             # It will print the count of char from user input string"
   ]
  },
  {
   "cell_type": "markdown",
   "id": "1088dd4c-1dc1-4f66-9e7d-c9493c913c18",
   "metadata": {},
   "source": [
    "9. Check if a string contains a specific word."
   ]
  },
  {
   "cell_type": "code",
   "execution_count": 33,
   "id": "8666525e-5da2-4333-943a-609a743b4f3f",
   "metadata": {},
   "outputs": [
    {
     "name": "stdin",
     "output_type": "stream",
     "text": [
      "Please enter your string:  pw is good for data science course\n",
      "Please enter specific word:  good\n"
     ]
    },
    {
     "name": "stdout",
     "output_type": "stream",
     "text": [
      "Yes, this string contain the specific words \"good\".\n"
     ]
    }
   ],
   "source": [
    "# User input for the actual string\n",
    "User_Input = input(\"Please enter your string: \")\n",
    "\n",
    "# User input for specific words or char\n",
    "Specific_Words = input(\"Please enter specific word: \")\n",
    "\n",
    "# This condition checks whether string has specific words or not \n",
    "if Specific_Words in User_Input:\n",
    "    print(f'Yes, this string contain the specific words \"{Specific_Words}\".')\n",
    "else:\n",
    "    print(f'No, string have not contact specific words \"{Specific_Words}\".')\n"
   ]
  },
  {
   "cell_type": "markdown",
   "id": "ddb1595d-8663-427e-a889-992c3230e8c9",
   "metadata": {},
   "source": [
    "10. Replace a word in a string with another word."
   ]
  },
  {
   "cell_type": "code",
   "execution_count": 35,
   "id": "c7af53be-6ad2-47b6-aefe-6a346b049fb8",
   "metadata": {},
   "outputs": [
    {
     "data": {
      "text/plain": [
       "'PW Skills for Data Science'"
      ]
     },
     "execution_count": 35,
     "metadata": {},
     "output_type": "execute_result"
    }
   ],
   "source": [
    "String = 'PW Skills for IIT & NEET'\n",
    "Specific_String = \"Data Science\"\n",
    "String.replace(\"IIT & NEET\", Specific_String)         # we have replace string ' IIT & NEET' with new string 'Data Science'"
   ]
  },
  {
   "cell_type": "markdown",
   "id": "8b5b88dd-a6d0-42eb-9c69-c2c4af08a6be",
   "metadata": {},
   "source": [
    "11. Count the occurrences of a word in a string."
   ]
  },
  {
   "cell_type": "code",
   "execution_count": 37,
   "id": "a23a7a19-c97a-4179-af87-ccdc79ff73a1",
   "metadata": {},
   "outputs": [],
   "source": [
    "A = \"Count the occurrences of a word in a string.\""
   ]
  },
  {
   "cell_type": "code",
   "execution_count": 47,
   "id": "47e18e1c-216f-46ab-b6c3-f9a34f7a867e",
   "metadata": {},
   "outputs": [
    {
     "name": "stdout",
     "output_type": "stream",
     "text": [
      "1\n"
     ]
    }
   ],
   "source": [
    "# String\n",
    "User_String = \"PW Lab is a platform where we can perform coding for data science\"\n",
    "\n",
    "# Specific string\n",
    "word = \"perform\"\n",
    "\n",
    "# We used the split()method to split string into list\n",
    "A = User_String.split()\n",
    "Count = 0   \n",
    "for i in range(len(A)):\n",
    "    if A[i] == word:\n",
    "        Count+=1    # Increase count if the condition gets true\n",
    "print(Count)"
   ]
  },
  {
   "cell_type": "markdown",
   "id": "ad57e229-a8dc-4d33-899e-32a94afcdf80",
   "metadata": {},
   "source": [
    "12. Find the first occurrence of a word in a string."
   ]
  },
  {
   "cell_type": "code",
   "execution_count": 53,
   "id": "c4abe9e3-559e-4ee3-9487-7a912d556af6",
   "metadata": {},
   "outputs": [
    {
     "name": "stdout",
     "output_type": "stream",
     "text": [
      "perform\n",
      "perform\n",
      "perform\n"
     ]
    }
   ],
   "source": [
    "# String\n",
    "User_String = \"PW Lab is a platform where we can perform coding for data science perform perform perform. \"\n",
    "\n",
    "# Specific string\n",
    "word = \"perform\"\n",
    "\n",
    "# We used the split()method to split string into list\n",
    "A = User_String.split()\n",
    "#Count = 0   \n",
    "for i in range(len(A)):\n",
    "    if A[i] != word:\n",
    "       # Count+=1    # Increase count if the condition gets true\n",
    "        False\n",
    "    else:\n",
    "        print(A[i])\n",
    "#print(Count)"
   ]
  },
  {
   "cell_type": "code",
   "execution_count": null,
   "id": "b4416e15-716b-47f0-a0f7-518f540c5aba",
   "metadata": {},
   "outputs": [],
   "source": []
  },
  {
   "cell_type": "code",
   "execution_count": null,
   "id": "59563577-655d-40e7-8350-52257190c478",
   "metadata": {},
   "outputs": [],
   "source": []
  },
  {
   "cell_type": "code",
   "execution_count": null,
   "id": "56f97ca1-e7d9-4761-8764-bd0a97a49619",
   "metadata": {},
   "outputs": [],
   "source": []
  },
  {
   "cell_type": "code",
   "execution_count": null,
   "id": "117ff731-106c-4286-a0d2-06d32f43abd9",
   "metadata": {},
   "outputs": [],
   "source": []
  },
  {
   "cell_type": "code",
   "execution_count": null,
   "id": "978a9c12-23a8-460b-b126-22a68b44f615",
   "metadata": {},
   "outputs": [],
   "source": []
  }
 ],
 "metadata": {
  "kernelspec": {
   "display_name": "Python 3 (ipykernel)",
   "language": "python",
   "name": "python3"
  },
  "language_info": {
   "codemirror_mode": {
    "name": "ipython",
    "version": 3
   },
   "file_extension": ".py",
   "mimetype": "text/x-python",
   "name": "python",
   "nbconvert_exporter": "python",
   "pygments_lexer": "ipython3",
   "version": "3.11.5"
  }
 },
 "nbformat": 4,
 "nbformat_minor": 5
}
