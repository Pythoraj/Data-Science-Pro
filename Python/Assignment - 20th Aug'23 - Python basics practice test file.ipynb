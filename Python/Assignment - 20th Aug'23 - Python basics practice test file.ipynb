{
 "cells": [
  {
   "cell_type": "markdown",
   "id": "e7b32a41-38c0-4e22-9877-c9d0bb6b4e53",
   "metadata": {},
   "source": [
    "TOPIC: String Based Assignment Problem"
   ]
  },
  {
   "cell_type": "markdown",
   "id": "44f08340-f45e-4578-9d43-4ef84b3a6119",
   "metadata": {},
   "source": [
    "1. Write a program to reverse a string."
   ]
  },
  {
   "cell_type": "code",
   "execution_count": 1,
   "id": "8e7f95f5-f2af-4bd1-a61b-7f720bafbe7e",
   "metadata": {},
   "outputs": [
    {
     "name": "stdout",
     "output_type": "stream",
     "text": [
      "Reverse String :  ecneicS ataD rof nohtyP\n"
     ]
    }
   ],
   "source": [
    "# To reverse the string we can use slicing \n",
    "String = 'Python for Data Science'\n",
    "Reverse = String[::-1]\n",
    "print(\"Reverse String : \", Reverse)"
   ]
  },
  {
   "cell_type": "markdown",
   "id": "64445aa3-dc4b-40be-9066-098d474cce10",
   "metadata": {},
   "source": [
    "2. Check if a string is a palindrome."
   ]
  },
  {
   "cell_type": "code",
   "execution_count": 2,
   "id": "0402845d-8a36-41dc-8fb9-55d4a90ea42d",
   "metadata": {},
   "outputs": [
    {
     "name": "stdin",
     "output_type": "stream",
     "text": [
      "Please enter the string : q\n"
     ]
    },
    {
     "name": "stdout",
     "output_type": "stream",
     "text": [
      "isPalindrome - Yes\n"
     ]
    }
   ],
   "source": [
    "isPalindrome = input('Please enter the string :')        # We take here user input\n",
    "if isPalindrome == isPalindrome[::-1]:                   # Condition to check palindrome\n",
    "    print('isPalindrome - Yes')\n",
    "else:\n",
    "    print('isPalindrome - No')"
   ]
  },
  {
   "cell_type": "markdown",
   "id": "b4e7db5f-06e9-4499-a326-930531cc54db",
   "metadata": {},
   "source": [
    "3. Convert a string to uppercase."
   ]
  },
  {
   "cell_type": "code",
   "execution_count": 3,
   "id": "6ce965f1-4b17-40ea-83e9-99debaae3aac",
   "metadata": {},
   "outputs": [
    {
     "data": {
      "text/plain": [
       "'PW SKILLS'"
      ]
     },
     "execution_count": 3,
     "metadata": {},
     "output_type": "execute_result"
    }
   ],
   "source": [
    "UpperCase_String = 'pw skills'\n",
    "UpperCase_String.upper()      # upper() method is used to convert string into upper case."
   ]
  },
  {
   "cell_type": "markdown",
   "id": "bdb84059-dfdd-47c0-9128-fb79363272d5",
   "metadata": {},
   "source": [
    "4. Convert a string to lowercase."
   ]
  },
  {
   "cell_type": "code",
   "execution_count": 4,
   "id": "e42b8ef0-5a25-4e17-b394-ddc91bcef31e",
   "metadata": {},
   "outputs": [
    {
     "data": {
      "text/plain": [
       "'pw skills'"
      ]
     },
     "execution_count": 4,
     "metadata": {},
     "output_type": "execute_result"
    }
   ],
   "source": [
    "UpperCase_String = 'PW SKILLS'\n",
    "UpperCase_String.lower()       # lower() method is used to convert the string into upper case."
   ]
  },
  {
   "cell_type": "markdown",
   "id": "f52aced3-c499-4bf6-82b2-1d27c8c7ebbb",
   "metadata": {},
   "source": [
    "5. Count the number of vowels in a string."
   ]
  },
  {
   "cell_type": "code",
   "execution_count": 5,
   "id": "b23c6e89-e562-4c27-8fcb-4b5610f553b6",
   "metadata": {},
   "outputs": [
    {
     "name": "stdin",
     "output_type": "stream",
     "text": [
      "Please enter string to check whether its vowel or not q\n"
     ]
    },
    {
     "name": "stdout",
     "output_type": "stream",
     "text": [
      "Count of vowel in the given string is  0\n"
     ]
    }
   ],
   "source": [
    "# Count the number of vowels in a string.\n",
    "User_Input = input('Please enter string to check whether its vowel or not')    # User Input\n",
    "Vowel = ['a','e','i','o','u']\n",
    "Count = 0                                                                      # It will count the occurrences of vowel \n",
    "for i in range(len(User_Input)):                                               # It will iterate the user input\n",
    "    if User_Input[i] in Vowel:                                                 # it will check whether the vowel exist in the user input or not\n",
    "        Count+=1                                                               # If the condition is true then the count will increase\n",
    "print(\"Count of vowel in the given string is \",Count)                                                                   # print the out put"
   ]
  },
  {
   "cell_type": "markdown",
   "id": "f60b69c0-87a1-40c2-b590-14ba0d528969",
   "metadata": {},
   "source": [
    "6. Count the number of consonants in a string."
   ]
  },
  {
   "cell_type": "code",
   "execution_count": 6,
   "id": "20fcb37e-542c-4ef0-8d73-6f8ab907264e",
   "metadata": {},
   "outputs": [
    {
     "name": "stdin",
     "output_type": "stream",
     "text": [
      "Please enter string to check whether its consonants or not \n"
     ]
    },
    {
     "name": "stdout",
     "output_type": "stream",
     "text": [
      "Count of consonants in the given string is  0\n"
     ]
    }
   ],
   "source": [
    "# Count the number of consonants in a string.\n",
    "User_Input = input('Please enter string to check whether its consonants or not')    # User Input\n",
    "Vowel = ['a','e','i','o','u']\n",
    "Count = 0                                                                      # It will count the occurrences of consonants. \n",
    "for i in range(len(User_Input)):                                               # It will iterate the user input\n",
    "    if User_Input[i] not in Vowel:                                             # it will check whether the consonants exist in the user input or not\n",
    "        Count+=1                                                               # If the condition is true then the count will increase\n",
    "print(\"Count of consonants in the given string is \",Count)   "
   ]
  },
  {
   "cell_type": "markdown",
   "id": "6700f47a-f283-4a0d-8096-5b78847797f7",
   "metadata": {},
   "source": [
    "7. Remove all whitespaces from a string."
   ]
  },
  {
   "cell_type": "code",
   "execution_count": 7,
   "id": "2d698c7f-b7bc-4c6e-a933-4ea6a1382d3d",
   "metadata": {},
   "outputs": [
    {
     "name": "stdin",
     "output_type": "stream",
     "text": [
      "Please enter the string:  q\n"
     ]
    },
    {
     "data": {
      "text/plain": [
       "'q'"
      ]
     },
     "execution_count": 7,
     "metadata": {},
     "output_type": "execute_result"
    }
   ],
   "source": [
    "Remove_WhiteSpace = input(\"Please enter the string: \")\n",
    "Remove_WhiteSpace.replace(\" \", \"\")         # he we remode the while space from the strings"
   ]
  },
  {
   "cell_type": "markdown",
   "id": "8ba67641-1261-4994-939e-fdef8c8020a4",
   "metadata": {},
   "source": [
    "8. Find the length of a string without using the `len()` function."
   ]
  },
  {
   "cell_type": "code",
   "execution_count": 8,
   "id": "855c3754-2911-4756-9f35-4cc7cebd2125",
   "metadata": {},
   "outputs": [
    {
     "name": "stdin",
     "output_type": "stream",
     "text": [
      "Please enter your string:  q\n"
     ]
    },
    {
     "name": "stdout",
     "output_type": "stream",
     "text": [
      "1\n"
     ]
    }
   ],
   "source": [
    "Length_Of_String = input(\"Please enter your string: \")   # User Input for string\n",
    "Count = 0                                                # It will store the count of the string char\n",
    "for i in range(len(Length_Of_String)):                   # iteration for char count\n",
    "    Count+=1                                             # Increament the count value with 1 \n",
    "print(Count)                                             # It will print the count of char from user input string"
   ]
  },
  {
   "cell_type": "markdown",
   "id": "1088dd4c-1dc1-4f66-9e7d-c9493c913c18",
   "metadata": {},
   "source": [
    "9. Check if a string contains a specific word."
   ]
  },
  {
   "cell_type": "code",
   "execution_count": 9,
   "id": "8666525e-5da2-4333-943a-609a743b4f3f",
   "metadata": {},
   "outputs": [
    {
     "name": "stdin",
     "output_type": "stream",
     "text": [
      "Please enter your string:  q\n",
      "Please enter specific word:  q\n"
     ]
    },
    {
     "name": "stdout",
     "output_type": "stream",
     "text": [
      "Yes, this string contain the specific words \"q\".\n"
     ]
    }
   ],
   "source": [
    "# User input for the actual string\n",
    "User_Input = input(\"Please enter your string: \")\n",
    "\n",
    "# User input for specific words or char\n",
    "Specific_Words = input(\"Please enter specific word: \")\n",
    "\n",
    "# This condition checks whether string has specific words or not \n",
    "if Specific_Words in User_Input:\n",
    "    print(f'Yes, this string contain the specific words \"{Specific_Words}\".')\n",
    "else:\n",
    "    print(f'No, string have not contact specific words \"{Specific_Words}\".')\n"
   ]
  },
  {
   "cell_type": "markdown",
   "id": "ddb1595d-8663-427e-a889-992c3230e8c9",
   "metadata": {},
   "source": [
    "10. Replace a word in a string with another word."
   ]
  },
  {
   "cell_type": "code",
   "execution_count": 10,
   "id": "c7af53be-6ad2-47b6-aefe-6a346b049fb8",
   "metadata": {},
   "outputs": [
    {
     "data": {
      "text/plain": [
       "'PW Skills for Data Science'"
      ]
     },
     "execution_count": 10,
     "metadata": {},
     "output_type": "execute_result"
    }
   ],
   "source": [
    "String = 'PW Skills for IIT & NEET'\n",
    "Specific_String = \"Data Science\"\n",
    "String.replace(\"IIT & NEET\", Specific_String)         # we have replace string ' IIT & NEET' with new string 'Data Science'"
   ]
  },
  {
   "cell_type": "markdown",
   "id": "8b5b88dd-a6d0-42eb-9c69-c2c4af08a6be",
   "metadata": {},
   "source": [
    "11. Count the occurrences of a word in a string."
   ]
  },
  {
   "cell_type": "code",
   "execution_count": 11,
   "id": "a23a7a19-c97a-4179-af87-ccdc79ff73a1",
   "metadata": {},
   "outputs": [],
   "source": [
    "A = \"Count the occurrences of a word in a string.\""
   ]
  },
  {
   "cell_type": "code",
   "execution_count": 12,
   "id": "47e18e1c-216f-46ab-b6c3-f9a34f7a867e",
   "metadata": {},
   "outputs": [
    {
     "name": "stdout",
     "output_type": "stream",
     "text": [
      "1\n"
     ]
    }
   ],
   "source": [
    "# String\n",
    "User_String = \"PW Lab is a platform where we can perform coding for data science\"\n",
    "\n",
    "# Specific string\n",
    "word = \"perform\"\n",
    "\n",
    "# We used the split()method to split string into list\n",
    "A = User_String.split()\n",
    "Count = 0   \n",
    "for i in range(len(A)):\n",
    "    if A[i] == word:\n",
    "        Count+=1    # Increase count if the condition gets true\n",
    "print(Count)"
   ]
  },
  {
   "cell_type": "markdown",
   "id": "ad57e229-a8dc-4d33-899e-32a94afcdf80",
   "metadata": {},
   "source": [
    "12. Find the first occurrence of a word in a string."
   ]
  },
  {
   "cell_type": "code",
   "execution_count": 13,
   "id": "c4abe9e3-559e-4ee3-9487-7a912d556af6",
   "metadata": {},
   "outputs": [
    {
     "name": "stdout",
     "output_type": "stream",
     "text": [
      "perform\n",
      "perform\n",
      "perform\n"
     ]
    }
   ],
   "source": [
    "# String\n",
    "User_String = \"PW Lab is a platform where we can perform coding for data science perform perform perform. \"\n",
    "\n",
    "# Specific string\n",
    "word = \"perform\"\n",
    "\n",
    "# We used the split()method to split string into list\n",
    "A = User_String.split()\n",
    "#Count = 0   \n",
    "for i in range(len(A)):\n",
    "    if A[i] != word:\n",
    "       # Count+=1    # Increase count if the condition gets true\n",
    "        False\n",
    "    else:\n",
    "        print(A[i])\n",
    "#print(Count)"
   ]
  },
  {
   "cell_type": "markdown",
   "id": "2bcc650d-17c0-4a99-85b1-d98532e8d286",
   "metadata": {},
   "source": [
    "17. Check if a string starts with a specific word or phrase."
   ]
  },
  {
   "cell_type": "code",
   "execution_count": 14,
   "id": "59563577-655d-40e7-8350-52257190c478",
   "metadata": {},
   "outputs": [
    {
     "name": "stdout",
     "output_type": "stream",
     "text": [
      "Yes! this string start with specific word\n"
     ]
    }
   ],
   "source": [
    "# Check if a string starts with a specific word or phrase.\n",
    "String = \"PW Lab is a platform where we can perform coding for data science perform perform perform.\"\n",
    "Word = 'PW'\n",
    "\n",
    "# We have use startwith() function to check specific word.\n",
    "if String.startswith(Word):\n",
    "    print('Yes! this string start with specific word')\n",
    "else:\n",
    "    print('No! this string start with specific word')"
   ]
  },
  {
   "cell_type": "markdown",
   "id": "2c207354-dc1f-4bec-9f1f-241c57c8aecf",
   "metadata": {},
   "source": [
    "18. Check if a string ends with a specific word or phrase."
   ]
  },
  {
   "cell_type": "code",
   "execution_count": 15,
   "id": "117ff731-106c-4286-a0d2-06d32f43abd9",
   "metadata": {},
   "outputs": [
    {
     "name": "stdout",
     "output_type": "stream",
     "text": [
      "Yes! this string is end with specific word\n"
     ]
    }
   ],
   "source": [
    "# Check if a string end with a specific word or phrase.\n",
    "String = \"PW Lab is a platform where we can perform coding for data science perform perform perform\"\n",
    "Word = 'perform'\n",
    "\n",
    "# We have use endwith() function to check specific word.\n",
    "if String.endswith(Word):\n",
    "    print('Yes! this string is end with specific word')\n",
    "else:\n",
    "    print('No! this string is not end with specific word')"
   ]
  },
  {
   "cell_type": "markdown",
   "id": "e1566e32-fcb2-4431-a94d-7018b0e84d4e",
   "metadata": {},
   "source": [
    "19. Convert a string to title case (e.g., \"hello world\" to \"Hello World\")"
   ]
  },
  {
   "cell_type": "code",
   "execution_count": 16,
   "id": "23d5f67b-2185-44a8-81ae-75e627d4458a",
   "metadata": {},
   "outputs": [
    {
     "data": {
      "text/plain": [
       "'Pw Lab Is A Platform Where We Can Perform Coding For Data Science Perform Perform Perform'"
      ]
     },
     "execution_count": 16,
     "metadata": {},
     "output_type": "execute_result"
    }
   ],
   "source": [
    "# String\n",
    "String = \"PW Lab is a platform where we can perform coding for data science perform perform perform\"\n",
    "\n",
    "# We have used the title() function to convert the string into title format.\n",
    "String.title()"
   ]
  },
  {
   "cell_type": "markdown",
   "id": "2240c979-76e8-4b17-995d-1d0698037698",
   "metadata": {},
   "source": [
    "20. Find the longest word in a string"
   ]
  },
  {
   "cell_type": "code",
   "execution_count": 17,
   "id": "00ef384e-7ef9-460f-930b-9d7112cf017a",
   "metadata": {},
   "outputs": [
    {
     "data": {
      "text/plain": [
       "'platform'"
      ]
     },
     "execution_count": 17,
     "metadata": {},
     "output_type": "execute_result"
    }
   ],
   "source": [
    "String = \"PW Lab is a platform where we can perform coding for data science\"\n",
    "\n",
    "# Here we have used the split() method to split sentences into list.\n",
    "A = String.split()    \n",
    "\n",
    "# We have used max() function to check the maximum length \n",
    "# and key = len parameter to check the string length.\n",
    "\n",
    "max(A, key=len)"
   ]
  },
  {
   "cell_type": "markdown",
   "id": "1843e07e-23dd-49cc-8676-05f342dc49d6",
   "metadata": {},
   "source": [
    "21. Find the shortest word in a string."
   ]
  },
  {
   "cell_type": "code",
   "execution_count": 18,
   "id": "8eefebe5-d616-4d9f-b9d9-553e860a7ba9",
   "metadata": {},
   "outputs": [
    {
     "data": {
      "text/plain": [
       "'a'"
      ]
     },
     "execution_count": 18,
     "metadata": {},
     "output_type": "execute_result"
    }
   ],
   "source": [
    "# String\n",
    "String = \"PW Lab is a platform where we can perform coding for data science\"\n",
    "\n",
    "# Here we have used the split() method to split sentences into list.\n",
    "A = String.split()\n",
    "\n",
    "# We have used min() function to check the minimum length \n",
    "# and key = len parameter to check the string length.\n",
    "min(A, key=len)"
   ]
  },
  {
   "cell_type": "markdown",
   "id": "ec58199b-5841-478e-9fb5-7c086f143bb3",
   "metadata": {},
   "source": [
    "22. Reverse the order of words in a string."
   ]
  },
  {
   "cell_type": "code",
   "execution_count": 19,
   "id": "2a54d13b-4879-4645-8b7f-ca81b700ff5c",
   "metadata": {},
   "outputs": [
    {
     "data": {
      "text/plain": [
       "['science',\n",
       " 'data',\n",
       " 'for',\n",
       " 'coding',\n",
       " 'perform',\n",
       " 'can',\n",
       " 'we',\n",
       " 'where',\n",
       " 'platform',\n",
       " 'a',\n",
       " 'is',\n",
       " 'Lab',\n",
       " 'PW']"
      ]
     },
     "execution_count": 19,
     "metadata": {},
     "output_type": "execute_result"
    }
   ],
   "source": [
    "# String\n",
    "String = \"PW Lab is a platform where we can perform coding for data science\"\n",
    "\n",
    "# We have split the word from the string\n",
    "Split_String = String.split()\n",
    "\n",
    "# Reverse the split words\n",
    "Split_String[::-1]"
   ]
  },
  {
   "cell_type": "markdown",
   "id": "4ca9ef4f-7e2c-49e8-bcfa-d406eae3e148",
   "metadata": {},
   "source": [
    "23. Check if a string is alphanumeric."
   ]
  },
  {
   "cell_type": "code",
   "execution_count": 20,
   "id": "668c1a49-6212-4657-baa3-256cd3a9753d",
   "metadata": {},
   "outputs": [
    {
     "data": {
      "text/plain": [
       "True"
      ]
     },
     "execution_count": 20,
     "metadata": {},
     "output_type": "execute_result"
    }
   ],
   "source": [
    "# String\n",
    "String = \"ABC123\"\n",
    "\n",
    "# isalnum() method is used to check the alpha-numeric string.\n",
    "\n",
    "String.isalnum()\n",
    "\n",
    "#A string is alpha-numeric if all characters in the string are alpha-numeric and\n",
    "#there is at least one character in the string."
   ]
  },
  {
   "cell_type": "markdown",
   "id": "61ee76b2-db6f-4d14-93d2-299af7c845cc",
   "metadata": {},
   "source": [
    "24. Extract all digits from a string."
   ]
  },
  {
   "cell_type": "code",
   "execution_count": 21,
   "id": "a142543c-c05c-4a3e-a3ed-91d95a3243ab",
   "metadata": {},
   "outputs": [
    {
     "name": "stdout",
     "output_type": "stream",
     "text": [
      "All digit extracted from given string:  [123]\n"
     ]
    }
   ],
   "source": [
    "# String\n",
    "String = \"A B C 123\"\n",
    "\n",
    "# Created an empty list to append digits from the string\n",
    "Digit = []\n",
    "\n",
    "# We have iterate and split the string\n",
    "for i in String.split():\n",
    "    # We have used isnumeric() to find the digit from the string\n",
    "    if i.isnumeric():\n",
    "        # Append the integer into Digit.\n",
    "        Digit.append(int(i))\n",
    "# We have used the print function to print output.\n",
    "print(\"All digit extracted from given string: \", Digit)"
   ]
  },
  {
   "cell_type": "markdown",
   "id": "2f963162-4e66-457e-9338-c873337e9947",
   "metadata": {},
   "source": [
    "25. Extract all alphabets from a string."
   ]
  },
  {
   "cell_type": "code",
   "execution_count": 22,
   "id": "8c6d1ce7-9487-4577-8497-55c46827e884",
   "metadata": {},
   "outputs": [
    {
     "name": "stdout",
     "output_type": "stream",
     "text": [
      "All alphabets extracted from given strings:  ['A', 'l', 'l', 'a', 'l', 'p', 'h', 'a', 'b', 'e', 't', 's', 'e', 'x', 't', 'r', 'a', 'c', 't', 'e', 'd', 'f', 'r', 'o', 'm', 'g', 'i', 'v', 'e', 'n', 's', 't', 'r', 'i', 'n', 'g', 's']\n"
     ]
    }
   ],
   "source": [
    "# String\n",
    "String = \"All alphabets extracted from given strings : 123\"\n",
    "\n",
    "# Created an empty list to append Alphabets from the string\n",
    "Alphabets= []\n",
    "\n",
    "# We have iterated the string\n",
    "for i in String:\n",
    "    # We have used isalpha() to find the Alphabets from the string\n",
    "    if i.isalpha():\n",
    "        # Append the alphabet into Alphabets.\n",
    "        Alphabets.append(str(i))\n",
    "# We have used the print function to print output.\n",
    "print(\"All alphabets extracted from given strings: \", Alphabets)"
   ]
  },
  {
   "cell_type": "markdown",
   "id": "594db536-40b3-4b0c-ac68-bb120dee57bb",
   "metadata": {},
   "source": [
    "26. Count the number of uppercase letters in a string"
   ]
  },
  {
   "cell_type": "code",
   "execution_count": 23,
   "id": "47c4efea-17c6-4009-b584-324887ddb414",
   "metadata": {},
   "outputs": [
    {
     "name": "stdout",
     "output_type": "stream",
     "text": [
      "Uppercase letters:  ['COUNT', 'STRING']\n"
     ]
    }
   ],
   "source": [
    "String = 'COUNT the number of uppercase letters in a STRING'\n",
    "Split = String.split()                              # Splite the string\n",
    "Uppercase_Latters = []                              # Uppercase_Latters = [] will hold the uppercase value\n",
    "for i in Split:                                     # Iterate split string\n",
    "    if i.isupper():                                 # It will check whether the string is uppercase or not\n",
    "        Uppercase_Latters.append(i)                 # Uppend the uppercase string into Uppercase_Latters variable\n",
    "print('Uppercase letters: ', Uppercase_Latters)     # Print the output."
   ]
  },
  {
   "cell_type": "markdown",
   "id": "97a9dd74-4f73-4539-8461-c81f8e82ade4",
   "metadata": {},
   "source": [
    "27. Count the number of lowercase letters in a string."
   ]
  },
  {
   "cell_type": "code",
   "execution_count": 24,
   "id": "c4160167-df48-49dc-a409-7ec77be6a609",
   "metadata": {},
   "outputs": [
    {
     "name": "stdout",
     "output_type": "stream",
     "text": [
      "Lowercase Letters:  ['the', 'number', 'of', 'uppercase', 'letters', 'in', 'a']\n"
     ]
    }
   ],
   "source": [
    "String = 'COUNT the number of uppercase letters in a STRING'\n",
    "Split = String.split()                              # Splite the string\n",
    "Lowercase_Latters = []                              # Lowercase_Latters = [] will hold the lowercase value\n",
    "for i in Split:                                     # Iterate split string\n",
    "    if i.islower():                                 # It will check whether the string is lowercase or not\n",
    "        Lowercase_Latters.append(i)                 # Uppend the lowercase string into Lowercase_Latters variable\n",
    "print('Lowercase Letters: ', Lowercase_Latters)     # Print the output."
   ]
  },
  {
   "cell_type": "markdown",
   "id": "7c7235a2-31ff-4c2a-aac2-4cd369fc1755",
   "metadata": {},
   "source": [
    "28. Swap the case of each character in a string."
   ]
  },
  {
   "cell_type": "code",
   "execution_count": 25,
   "id": "41692d64-9fd5-414b-80b1-be15d13c99e1",
   "metadata": {},
   "outputs": [
    {
     "data": {
      "text/plain": [
       "'sllikS WP'"
      ]
     },
     "execution_count": 25,
     "metadata": {},
     "output_type": "execute_result"
    }
   ],
   "source": [
    "String = 'PW Skills'\n",
    "String[::-1]        # To swap the string we can use slicing."
   ]
  },
  {
   "cell_type": "markdown",
   "id": "13d110b0-1e4b-4ea6-b105-4be6f970f0f8",
   "metadata": {},
   "source": [
    "29. Remove a specific word from a string."
   ]
  },
  {
   "cell_type": "code",
   "execution_count": 26,
   "id": "f11d1458-5616-45a3-b09f-47deab0442d7",
   "metadata": {},
   "outputs": [
    {
     "data": {
      "text/plain": [
       "'PW  Skills'"
      ]
     },
     "execution_count": 26,
     "metadata": {},
     "output_type": "execute_result"
    }
   ],
   "source": [
    "String = 'PW is Skills'\n",
    "String.replace('is','')    # replace() function will use to remove spacific word from the String."
   ]
  },
  {
   "cell_type": "markdown",
   "id": "d17cc81b-4e0a-4921-9ba4-606048a798d6",
   "metadata": {},
   "source": [
    "30. Check if a string is a valid email address"
   ]
  },
  {
   "cell_type": "code",
   "execution_count": 27,
   "id": "f9e7d4c7-7af5-4a5c-b67a-4fefa0984413",
   "metadata": {},
   "outputs": [
    {
     "name": "stdout",
     "output_type": "stream",
     "text": [
      "True\n",
      "The email address is not valid. It must have exactly one @-sign.\n"
     ]
    },
    {
     "name": "stderr",
     "output_type": "stream",
     "text": [
      "C:\\Users\\astral.rajkumar\\AppData\\Local\\Temp\\ipykernel_25232\\2426089123.py:7: DeprecationWarning: dict-like access to the return value of validate_email is deprecated and may not be supported in the future.\n",
      "  email = v[\"email\"]\n"
     ]
    }
   ],
   "source": [
    "from email_validator import validate_email, EmailNotValidError\n",
    "def check(email):\n",
    "\ttry:\n",
    "\t# validate and get info\n",
    "\t\tv = validate_email(email) \n",
    "\t\t# replace with normalized form\n",
    "\t\temail = v[\"email\"] \n",
    "\t\tprint(\"True\")\n",
    "\texcept EmailNotValidError as e:\n",
    "\t\t# email is not valid, the exception message is human-readable\n",
    "\t\tprint(str(e))\n",
    "\n",
    "check(\"my.ownsite@our-earth.org\")\n",
    "check(\"ankitrai326.com\")\n"
   ]
  },
  {
   "cell_type": "code",
   "execution_count": 28,
   "id": "52cd7e07-64ac-427b-a6ab-dd5aec8e1a40",
   "metadata": {},
   "outputs": [
    {
     "name": "stdout",
     "output_type": "stream",
     "text": [
      "Python 3.11.5\n"
     ]
    }
   ],
   "source": [
    "! python --version"
   ]
  },
  {
   "cell_type": "code",
   "execution_count": 29,
   "id": "440b7f37-be5b-4b43-aa85-111c418a14d9",
   "metadata": {},
   "outputs": [
    {
     "name": "stdout",
     "output_type": "stream",
     "text": [
      "Requirement already satisfied: email_validator in c:\\users\\astral.rajkumar\\appdata\\local\\anaconda3\\lib\\site-packages (2.1.1)Note: you may need to restart the kernel to use updated packages.\n",
      "\n",
      "Requirement already satisfied: dnspython>=2.0.0 in c:\\users\\astral.rajkumar\\appdata\\local\\anaconda3\\lib\\site-packages (from email_validator) (2.6.1)\n",
      "Requirement already satisfied: idna>=2.0.0 in c:\\users\\astral.rajkumar\\appdata\\local\\anaconda3\\lib\\site-packages (from email_validator) (3.4)\n"
     ]
    }
   ],
   "source": [
    "pip install email_validator"
   ]
  },
  {
   "cell_type": "markdown",
   "id": "d364b66a-1d76-442c-9f55-2f35b49f78b3",
   "metadata": {},
   "source": [
    "31. Extract the username from an email address string."
   ]
  },
  {
   "cell_type": "code",
   "execution_count": 30,
   "id": "4c1e5fec-6432-404c-8bbb-fa55b436aa3f",
   "metadata": {},
   "outputs": [
    {
     "name": "stdout",
     "output_type": "stream",
     "text": [
      "Original Email: rajkumar.rajbhar2605@gmail.com\n",
      "Extract the name from the said Email address:\n",
      "rajkumarrajbhar\n"
     ]
    }
   ],
   "source": [
    "# Define a function to extract the name from an email address\n",
    "def test(email_address):\n",
    "    # Find the index of the '@' symbol in the email address\n",
    "    r = email_address.index(\"@\")\n",
    "    \n",
    "    # Use a generator expression to join alphabetic characters before the '@' symbol\n",
    "    return \"\".join(l for l in email_address[:r] if l.isalpha())\n",
    "\n",
    "# Initialize an email address\n",
    "email_address = \"rajkumar.rajbhar2605@gmail.com\"\n",
    "print(\"Original Email:\", email_address)\n",
    "\n",
    "# Print a message indicating the extraction of the name from the email address\n",
    "print(\"Extract the name from the said Email address:\")\n",
    "\n",
    "# Call the function to extract the name and print the result\n",
    "print(test(email_address))\n",
    "\n"
   ]
  },
  {
   "cell_type": "markdown",
   "id": "0cbdebdc-7686-4977-bd01-51616f35f80e",
   "metadata": {},
   "source": [
    "32. Extract the domain name from an email address string."
   ]
  },
  {
   "cell_type": "code",
   "execution_count": 31,
   "id": "b8b33f5d-3aa7-461b-b3b2-17f0beda8155",
   "metadata": {},
   "outputs": [
    {
     "name": "stdout",
     "output_type": "stream",
     "text": [
      "The original string is : rajkumar.rajbhar2605@gmail.com\n",
      "The extracted domain name : gmail.com\n"
     ]
    }
   ],
   "source": [
    "# Extract domain name from Email address\n",
    "# Using index() + slicing \n",
    "\n",
    "# initializing strings\n",
    "test_str = 'rajkumar.rajbhar2605@gmail.com'\n",
    "\n",
    "# printing original string\n",
    "print(\"The original string is : \" + str(test_str))\n",
    "\n",
    "# slicing domain name using slicing \n",
    "res = test_str[test_str.index('@') + 1 : ]\n",
    "\n",
    "# printing result \n",
    "print(\"The extracted domain name : \" + str(res)) \n"
   ]
  },
  {
   "cell_type": "markdown",
   "id": "b9c07c0e-96bf-4022-aac2-2854045e9e0f",
   "metadata": {},
   "source": [
    "33. Replace multiple spaces in a string with a single space."
   ]
  },
  {
   "cell_type": "code",
   "execution_count": 32,
   "id": "b0a9e295-be0d-4563-8698-d7abfc5ccdc0",
   "metadata": {},
   "outputs": [
    {
     "name": "stdout",
     "output_type": "stream",
     "text": [
      "Below string is after removed extra spaces\n",
      "\n",
      "Replace multiple spaces in a string with a single space.\n"
     ]
    }
   ],
   "source": [
    "# String\n",
    "String = \"Replace   multiple    spaces in a   string with a single space.\"\n",
    "#Split = String.split()   \n",
    "#print(' '.join(Split))\n",
    "print(\"Below string is after removed extra spaces\\n\")\n",
    "print(' '.join(String.split()))    # Here first split the string and then join it together"
   ]
  },
  {
   "cell_type": "markdown",
   "id": "55c1a9df-2117-44b8-b679-d2b1d84053c7",
   "metadata": {},
   "source": [
    "34. Check if a string is a valid URL."
   ]
  },
  {
   "cell_type": "code",
   "execution_count": 33,
   "id": "8c17d76c-b09d-457b-934f-31773048a341",
   "metadata": {},
   "outputs": [
    {
     "name": "stdout",
     "output_type": "stream",
     "text": [
      "URLs:  ['https://accounts.pwskills.com/login?domain=pwskills.com&redirectUrl=%2F&action=logout', 'https://pwskills.com/learn/']\n"
     ]
    }
   ],
   "source": [
    "String = \"Our official website is https://accounts.pwskills.com/login?domain=pwskills.com&redirectUrl=%2F&action=logout and my account is https://pwskills.com/learn/\"\n",
    "Split = String.split()\n",
    "URL = []\n",
    "for i in Split:\n",
    "    if i.startswith('https') or i.startswith('htts'):\n",
    "        URL.append(i)\n",
    "print('URLs: ', URL)"
   ]
  },
  {
   "cell_type": "markdown",
   "id": "03410419-8983-4911-9717-05bf8d06423e",
   "metadata": {},
   "source": [
    "35. Extract the protocol (http or https) from a URL string."
   ]
  },
  {
   "cell_type": "code",
   "execution_count": 34,
   "id": "1f8cd54e-f9cd-4e3a-841e-59221f5244a5",
   "metadata": {},
   "outputs": [
    {
     "name": "stdout",
     "output_type": "stream",
     "text": [
      "https\n"
     ]
    }
   ],
   "source": [
    "# String\n",
    "String = \"https://accounts.pwskills.com/login?domain=pwskills.com&redirectUrl=%2F&action=logout\"\n",
    "\n",
    "# find the index of the specified string.\n",
    "Index = String.index(':')\n",
    "\n",
    "# Empty list to hold the value\n",
    "Protocol = []\n",
    "\n",
    "#Iterator with string slicing\n",
    "for i in String[:Index]:\n",
    "    if i.isalpha():      \n",
    "        Protocol.append(i)\n",
    "\n",
    "# Join the characters.\n",
    "print(''.join(Protocol))\n"
   ]
  },
  {
   "cell_type": "markdown",
   "id": "526f3bfb-007f-4463-bfa5-689088c29014",
   "metadata": {},
   "source": [
    "36. Find the frequency of each character in a string."
   ]
  },
  {
   "cell_type": "code",
   "execution_count": 35,
   "id": "6b387699-7fdb-41e6-8410-0dac93165187",
   "metadata": {},
   "outputs": [
    {
     "name": "stdout",
     "output_type": "stream",
     "text": [
      "Count of all characters in GeeksforGeeks is :\n",
      "  {'r': 4, 'a': 5, 'j': 2, 'k': 1, 'u': 1, 'm': 3, '.': 2, 'b': 1, 'h': 1, '2': 1, '6': 1, '0': 1, '5': 1, '@': 1, 'g': 1, 'i': 1, 'l': 1, 'c': 1, 'o': 1}\n"
     ]
    }
   ],
   "source": [
    "# Python3 code to demonstrate\n",
    "# each occurrence frequency using\n",
    "# naive method\n",
    "\n",
    "# initializing string\n",
    "String = \"Find the frequency of each character in a string.\"\n",
    "\n",
    "# using the naive method to get the count of each element in the string\n",
    "all_freq = {}\n",
    "for i in test_str:\n",
    "\tif i in all_freq:\n",
    "\t\tall_freq[i] += 1\n",
    "\telse:\n",
    "\t\tall_freq[i] = 1\n",
    "# printing result\n",
    "print(\"Count of all characters in GeeksforGeeks is :\\n \", str(all_freq))\n"
   ]
  },
  {
   "cell_type": "code",
   "execution_count": 36,
   "id": "f44c76cd-030b-4b82-ab81-f19d7e0d4ff9",
   "metadata": {},
   "outputs": [],
   "source": [
    "# Need to check Q.36"
   ]
  },
  {
   "cell_type": "markdown",
   "id": "617f03d0-67e7-4adf-b431-e8c581116882",
   "metadata": {},
   "source": [
    "37. Remove all punctuation from a string."
   ]
  },
  {
   "cell_type": "code",
   "execution_count": 37,
   "id": "0d0c0d57-9cee-47b7-89ce-60eaac88a7a9",
   "metadata": {},
   "outputs": [
    {
     "name": "stdout",
     "output_type": "stream",
     "text": [
      "What are All of the Punctuation Marks\n"
     ]
    }
   ],
   "source": [
    "import string\n",
    "String = \"What are All: of the Punctuation Marks?\"\n",
    "String = String.translate(str.maketrans('', '', string.punctuation))\n",
    "print(String)"
   ]
  },
  {
   "cell_type": "markdown",
   "id": "9d0e525f-4428-4a87-8eef-9ec456bbe8f6",
   "metadata": {},
   "source": [
    "38. Check if a string contains only digits."
   ]
  },
  {
   "cell_type": "code",
   "execution_count": 38,
   "id": "23cb69c6-c2a7-4959-b50f-1395abd7f2d5",
   "metadata": {},
   "outputs": [
    {
     "name": "stdin",
     "output_type": "stream",
     "text": [
      "Please enter your string:   q\n"
     ]
    },
    {
     "name": "stdout",
     "output_type": "stream",
     "text": [
      "False\n"
     ]
    }
   ],
   "source": [
    "String = input(\"Please enter your string:  \")\n",
    "#String = 'Rajkumar Rajbhar roll number is 1001'\n",
    "if String.isdigit():\n",
    "    print(True)\n",
    "else:\n",
    "    print(False)\n",
    "        "
   ]
  },
  {
   "cell_type": "markdown",
   "id": "beff2d4d-ef6b-4d76-9aef-b3465c992cc2",
   "metadata": {},
   "source": [
    "39. Check if a string contains only alphabets."
   ]
  },
  {
   "cell_type": "code",
   "execution_count": 39,
   "id": "83c18353-8be8-4311-9d32-876c632fcba9",
   "metadata": {},
   "outputs": [
    {
     "name": "stdin",
     "output_type": "stream",
     "text": [
      "Please enter your string:   q\n"
     ]
    },
    {
     "name": "stdout",
     "output_type": "stream",
     "text": [
      "True\n"
     ]
    }
   ],
   "source": [
    "String = input(\"Please enter your string:  \")\n",
    "#String = 'Rajkumar Rajbhar roll number is 1001'\n",
    "if String.isalpha():\n",
    "    print(True)\n",
    "else:\n",
    "    print(False)"
   ]
  },
  {
   "cell_type": "markdown",
   "id": "6715ee88-b660-4cf7-9f14-284dac6b12bd",
   "metadata": {},
   "source": [
    "40. Convert a string to a list of characters."
   ]
  },
  {
   "cell_type": "code",
   "execution_count": 40,
   "id": "92955726-dbd5-4bf0-944f-f17aee171415",
   "metadata": {},
   "outputs": [
    {
     "name": "stdout",
     "output_type": "stream",
     "text": [
      "['C', 'o', 'n', 'v', 'e', 'r', 't', ' ', 'a', ' ', 's', 't', 'r', 'i', 'n', 'g', ' ', 't', 'o', ' ', 'a', ' ', 'l', 'i', 's', 't', ' ', 'o', 'f', ' ', 'c', 'h', 'a', 'r', 'a', 'c', 't', 'e', 'r', 's']\n"
     ]
    }
   ],
   "source": [
    "String =\"Convert a string to a list of characters\"\n",
    "Char = []\n",
    "for i in String:\n",
    "    Char.append(i)\n",
    "print(Char)"
   ]
  },
  {
   "cell_type": "markdown",
   "id": "0ce5eeb2-7bf1-4ceb-a2bc-878ed1491726",
   "metadata": {},
   "source": [
    "41. Check if two strings are anagrams."
   ]
  },
  {
   "cell_type": "code",
   "execution_count": 41,
   "id": "8df5ff04-b247-4357-ae57-0df0ca96d100",
   "metadata": {},
   "outputs": [
    {
     "name": "stdout",
     "output_type": "stream",
     "text": [
      "Yes! strings are anagrams\n"
     ]
    }
   ],
   "source": [
    "S1 = 'listen'\n",
    "S2 = 'silent'\n",
    "# The sorted strings are checked \n",
    "if sorted(S1) == sorted(S2):\n",
    "    print(\"Yes! strings are anagrams\")\n",
    "else:\n",
    "    print('Ohh no.. strings are not anagrams')"
   ]
  },
  {
   "cell_type": "markdown",
   "id": "3bb4e89c-4ce5-472e-907d-3f1bfe278ca5",
   "metadata": {},
   "source": [
    "42. Encode a string using a Caesar cipher."
   ]
  },
  {
   "cell_type": "code",
   "execution_count": 42,
   "id": "07fb5b22-b73b-45a5-ae65-668898173ee8",
   "metadata": {},
   "outputs": [
    {
     "name": "stdout",
     "output_type": "stream",
     "text": [
      "Text: ATTACKATONCE\n",
      "Shift : 4\n",
      "Cipher: EXXEGOEXSRGI\n"
     ]
    }
   ],
   "source": [
    "#A Python program to illustrate the Caesar Cipher Technique\n",
    "\n",
    "def encrypt(text,s):\n",
    "\tresult = \"\"\n",
    "\n",
    "\t# traverse text\n",
    "\tfor i in range(len(text)):\n",
    "\t\tchar = text[i]\n",
    "\n",
    "\t\t# Encrypt uppercase characters\n",
    "\t\tif (char.isupper()):\n",
    "\t\t\tresult += chr((ord(char) + s-65) % 26 + 65)\n",
    "\t\t# Encrypt lowercase characters\n",
    "\t\telse:\n",
    "\t\t\tresult += chr((ord(char) + s - 97) % 26 + 97)\n",
    "\n",
    "\treturn result\n",
    "\n",
    "\n",
    "\n",
    "#check the above function\n",
    "text = \"ATTACKATONCE\"\n",
    "s = 4\n",
    "print (\"Text: \" + text)\n",
    "print (\"Shift : \" + str(s))\n",
    "print (\"Cipher: \" + encrypt(text,s))\n"
   ]
  },
  {
   "cell_type": "markdown",
   "id": "46d9b6dc-1a57-4d18-b836-193a8c8b2c85",
   "metadata": {},
   "source": [
    "43. Decode a Caesar cipher encoded string."
   ]
  },
  {
   "cell_type": "code",
   "execution_count": 43,
   "id": "42376f9f-2f7e-4cd2-a3df-769d3fbb4f22",
   "metadata": {},
   "outputs": [
    {
     "name": "stdout",
     "output_type": "stream",
     "text": [
      "Rovv_\n"
     ]
    }
   ],
   "source": [
    "def decode_caesar_cipher(encoded_string, shift):\n",
    "    decoded_string = \"\"\n",
    "    for char in encoded_string:\n",
    "        if char.isalpha():\n",
    "            # Get the ASCII value of the character.\n",
    "            ascii_value = ord(char)\n",
    "            # Shift the character back by the shift value.\n",
    "            ascii_value -= shift\n",
    "\n",
    "            # Wrap around if the character goes below 'A'.\n",
    "            if ascii_value < ord('A'):\n",
    "                ascii_value += 26\n",
    "                # Convert the ASCII value back to a character.\n",
    "            decoded_string += chr(ascii_value)\n",
    "        else:\n",
    "          # Add the non-alphabetic character to the decoded string.\n",
    "            decoded_string += char\n",
    "\n",
    "    return decoded_string\n",
    "\n",
    "# Example usage:\n",
    "\n",
    "encoded_string = \"Uryyb\"\n",
    "shift = 3\n",
    "decoded_string = decode_caesar_cipher(encoded_string, shift)\n",
    "print(decoded_string)"
   ]
  },
  {
   "cell_type": "markdown",
   "id": "bfc7573e-3c22-49cc-8b40-60b1dcafd9b1",
   "metadata": {},
   "source": [
    "44. Find the most frequent word in a string."
   ]
  },
  {
   "cell_type": "code",
   "execution_count": 44,
   "id": "c5366ce9-e2c8-4479-975d-5a346d3bd08f",
   "metadata": {},
   "outputs": [
    {
     "name": "stdout",
     "output_type": "stream",
     "text": [
      "The original list is : ['gfg is best for geeks', 'geeks love gfg', 'gfg is best']\n",
      "Word with maximum frequency : gfg\n"
     ]
    }
   ],
   "source": [
    "# Python3 code to demonstrate the working of\n",
    "# Most frequent word in Strings List\n",
    "# Using loop + max() + split() + defaultdict()\n",
    "from collections import defaultdict\n",
    "\n",
    "# initializing Matrix\n",
    "test_list = [\"gfg is best for geeks\", \"geeks love gfg\", \"gfg is best\"]\n",
    "\n",
    "# printing original list\n",
    "print(\"The original list is : \" + str(test_list))\n",
    "\n",
    "temp = defaultdict(int)\n",
    "\n",
    "# memoizing count\n",
    "for sub in test_list:\n",
    "\tfor wrd in sub.split():\n",
    "\t\ttemp[wrd] += 1\n",
    "\n",
    "# getting max frequency\n",
    "res = max(temp, key=temp.get)\n",
    "\n",
    "# printing result\n",
    "print(\"Word with maximum frequency : \" + str(res))\n"
   ]
  },
  {
   "cell_type": "markdown",
   "id": "e583b0a2-2a8f-43fd-8df0-8fdcd531775f",
   "metadata": {},
   "source": [
    "45. Find all unique words in a string."
   ]
  },
  {
   "cell_type": "code",
   "execution_count": 45,
   "id": "640723a6-7ac1-43d9-ad7c-35ca1b2c3edb",
   "metadata": {},
   "outputs": [
    {
     "name": "stdin",
     "output_type": "stream",
     "text": [
      " q\n"
     ]
    },
    {
     "name": "stdout",
     "output_type": "stream",
     "text": [
      "{'q'}\n"
     ]
    }
   ],
   "source": [
    "x = input()   # User input\n",
    "unique_characters = set(x)   # user input will convert into set\n",
    "print(unique_characters)     # print output."
   ]
  },
  {
   "cell_type": "markdown",
   "id": "415d79a5-1fcd-49f0-8238-450ae80e973d",
   "metadata": {},
   "source": [
    "46. Count the number of syllables in a string."
   ]
  },
  {
   "cell_type": "code",
   "execution_count": 46,
   "id": "2fc8531f-fe76-4108-a096-42b57deef439",
   "metadata": {},
   "outputs": [
    {
     "name": "stdout",
     "output_type": "stream",
     "text": [
      "2\n",
      "3\n",
      "3\n",
      "3\n",
      "4\n"
     ]
    }
   ],
   "source": [
    "\"\"\"Counts the number of syllables in a word.\n",
    "  Args:\n",
    "    word: A string.\n",
    "  Returns:\n",
    "    The number of syllables in the word.\n",
    "\"\"\"\n",
    "def count_syllables(word):\n",
    "    # Convert the word to lowercase.\n",
    "    word = word.lower()\n",
    "\n",
    "    # Count the number of vowels.\n",
    "    num_vowels = 0\n",
    "    for char in word:\n",
    "        if char in \"aeiouy\":\n",
    "            num_vowels += 1\n",
    "\n",
    "    # Count the number of syllables.\n",
    "    num_syllables = 0\n",
    "    for i in range(len(word)):\n",
    "        if word[i] in \"aeiouy\" and (i == 0 or word[i - 1] not in \"aeiouy\"):\n",
    "            num_syllables += 1\n",
    "\n",
    "    # If the word ends in \"e\", remove it unless it is preceded by another vowel.\n",
    "    if word[-1] == \"e\" and word[-2] not in \"aeiouy\":\n",
    "        num_syllables -= 1\n",
    "\n",
    "    # Return the number of syllables.\n",
    "    return num_syllables\n",
    "\n",
    "# Print the output of the given input\n",
    "\n",
    "print(count_syllables(\"hello\"))  # 2\n",
    "print(count_syllables(\"computer\"))  # 3\n",
    "print(count_syllables(\"elephant\"))  # 3\n",
    "print(count_syllables(\"facetious\"))  # 4\n",
    "print(count_syllables(\"rhythmically\"))  # 5"
   ]
  },
  {
   "cell_type": "markdown",
   "id": "cbadd791-f6e2-457c-8cb1-2dcbb190249e",
   "metadata": {},
   "source": [
    "47. Check if a string contains any special characters."
   ]
  },
  {
   "cell_type": "code",
   "execution_count": 47,
   "id": "f2dc8785-cf74-46e5-b5b9-01ef79b6bf55",
   "metadata": {},
   "outputs": [
    {
     "name": "stdout",
     "output_type": "stream",
     "text": [
      "The string does not contain special characters.\n",
      "The string contains special characters.\n"
     ]
    }
   ],
   "source": [
    "def has_special_char(s):\n",
    "    for c in s:\n",
    "        if not (c.isalpha() or c.isdigit() or c == ' '):\n",
    "            return True\n",
    "    return False\n",
    "    \n",
    "# Test the function\n",
    "s = \"Hello World\"\n",
    "if has_special_char(s):\n",
    "    print(\"The string contains special characters.\")\n",
    "else:\n",
    "    print(\"The string does not contain special characters.\")\n",
    "\n",
    "s = \"Hello@World\"\n",
    "if has_special_char(s):\n",
    "    print(\"The string contains special characters.\")\n",
    "else:\n",
    "    print(\"The string does not contain special characters.\")"
   ]
  },
  {
   "cell_type": "markdown",
   "id": "a541301b-89e0-421d-abc8-c0afe0cac7af",
   "metadata": {},
   "source": [
    "49. Insert a word at the nth position in a string."
   ]
  },
  {
   "cell_type": "code",
   "execution_count": 48,
   "id": "1c4d4811-ec80-4f00-82fa-88e2bcfe2640",
   "metadata": {},
   "outputs": [
    {
     "name": "stdout",
     "output_type": "stream",
     "text": [
      "This hellois a test string.\n"
     ]
    }
   ],
   "source": [
    "def insert_word_at_nth_position(string, word, n):\n",
    "\n",
    "  # Check if the position is valid.\n",
    "  if n < 0 or n > len(string):\n",
    "    raise ValueError(\"Invalid position.\")\n",
    "\n",
    "  # Split the string into two parts at the nth position.\n",
    "  first_part = string[:n]\n",
    "  second_part = string[n:]\n",
    "\n",
    "  # Insert the word into the first part.\n",
    "  new_string = first_part + word + second_part\n",
    "\n",
    "  # Return the new string.\n",
    "  return new_string\n",
    "\n",
    "# Example usage:\n",
    "string = \"This is a test string.\"\n",
    "word = \"hello\"\n",
    "n = 5\n",
    "new_string = insert_word_at_nth_position(string, word, n)\n",
    "print(new_string)"
   ]
  },
  {
   "cell_type": "markdown",
   "id": "7fcf69f1-824e-4813-b581-08dc91cc4bed",
   "metadata": {},
   "source": [
    "50. Convert a CSV string to a list of lists."
   ]
  },
  {
   "cell_type": "code",
   "execution_count": 49,
   "id": "cb0b5e75-d297-40ee-bd15-94e142cf892c",
   "metadata": {},
   "outputs": [
    {
     "name": "stdout",
     "output_type": "stream",
     "text": [
      "[[], ['name', ' age', ' occupation'], ['Alice', ' 25', ' Software Engineer'], ['Bob', ' 30', ' Data Scientist'], ['Carol', '28', ' Product Manager']]\n"
     ]
    }
   ],
   "source": [
    "# Here we are importing csv module\n",
    "import csv\n",
    "\n",
    "# Creating a function.\n",
    "def convert_csv_string_to_list_of_lists(csv_string):\n",
    "    \n",
    "    reader = csv.reader(csv_string.splitlines())\n",
    "    list_of_lists = []\n",
    "    for row in reader:\n",
    "        list_of_lists.append(row)\n",
    "    return list_of_lists\n",
    "\n",
    "# Example usage:\n",
    "csv_string = \"\"\"\n",
    "name, age, occupation\n",
    "Alice, 25, Software Engineer\n",
    "Bob, 30, Data Scientist\n",
    "Carol,28, Product Manager\n",
    "\"\"\"\n",
    "\n",
    "list_of_lists = convert_csv_string_to_list_of_lists(csv_string)\n",
    "print(list_of_lists)"
   ]
  },
  {
   "cell_type": "code",
   "execution_count": null,
   "id": "07326787-c026-49a2-8f1f-973f24c2e36d",
   "metadata": {},
   "outputs": [],
   "source": []
  },
  {
   "cell_type": "markdown",
   "id": "66ea4203-0457-4367-ac7a-5997805a2206",
   "metadata": {},
   "source": [
    "List Based Practice Problem :"
   ]
  },
  {
   "cell_type": "markdown",
   "id": "3825af67-a4d7-4633-8521-12de611801f1",
   "metadata": {},
   "source": [
    "1. Create a list with integers from 1 to 10."
   ]
  },
  {
   "cell_type": "code",
   "execution_count": 50,
   "id": "d52f08a6-2b6e-4f6d-87c2-aa922fb822b4",
   "metadata": {},
   "outputs": [
    {
     "name": "stdout",
     "output_type": "stream",
     "text": [
      "[1, 2, 3, 4, 5, 6, 7, 8, 9, 10]\n"
     ]
    }
   ],
   "source": [
    "# list created with integers from 1 to 10\n",
    "List = [1,2,3,4,5,6,7,8,9,10]\n",
    "print(List)"
   ]
  },
  {
   "cell_type": "markdown",
   "id": "91a2b3e5-d8a3-4ae1-9f40-881c7125040b",
   "metadata": {},
   "source": [
    "2. Find the length of a list without using the `len()` function."
   ]
  },
  {
   "cell_type": "code",
   "execution_count": 51,
   "id": "1408a8db-b8d6-47bb-b7cc-121a9475ef12",
   "metadata": {},
   "outputs": [
    {
     "name": "stdout",
     "output_type": "stream",
     "text": [
      "Length of string:  10\n"
     ]
    }
   ],
   "source": [
    "Count = 0\n",
    "for i in List:\n",
    "    Count+=1\n",
    "\n",
    "print('Length of string: ', Count)"
   ]
  },
  {
   "cell_type": "markdown",
   "id": "d17de294-9b44-4a0b-b0fd-c39372f777b0",
   "metadata": {},
   "source": [
    "3. Append an element to the end of a list."
   ]
  },
  {
   "cell_type": "code",
   "execution_count": 52,
   "id": "7b1c75f6-ac97-4568-b78e-c57c688b5667",
   "metadata": {},
   "outputs": [
    {
     "name": "stdout",
     "output_type": "stream",
     "text": [
      "[1, 2, 3, 4, 5, 6, 7, 8, 9, 10, 11]\n"
     ]
    }
   ],
   "source": [
    "List.append(11)\n",
    "print(List)"
   ]
  },
  {
   "cell_type": "markdown",
   "id": "d4b7cfb3-e19e-4e5f-805d-79384de810e9",
   "metadata": {},
   "source": [
    "4. Insert an element at a specific index in a list."
   ]
  },
  {
   "cell_type": "code",
   "execution_count": 53,
   "id": "49f3ba1e-92b5-4829-8967-9ec3374fa470",
   "metadata": {},
   "outputs": [
    {
     "name": "stdout",
     "output_type": "stream",
     "text": [
      "[1, 2, 3, 3.5, 4, 5, 6, 7, 8, 9, 10, 11]\n"
     ]
    }
   ],
   "source": [
    "List.insert(3,3.5)\n",
    "print(List)"
   ]
  },
  {
   "cell_type": "markdown",
   "id": "f12ddd52-5417-4e68-a3b0-c71b1d2a33bc",
   "metadata": {},
   "source": [
    "5. Remove an element from a list by its value."
   ]
  },
  {
   "cell_type": "code",
   "execution_count": 54,
   "id": "052b08cd-00b1-45d5-b1fa-ffad3c4dd130",
   "metadata": {},
   "outputs": [
    {
     "name": "stdout",
     "output_type": "stream",
     "text": [
      "[1, 2, 3.5, 4, 5, 6, 7, 8, 9, 10, 11]\n"
     ]
    }
   ],
   "source": [
    "List.remove(3)\n",
    "print(List)"
   ]
  },
  {
   "cell_type": "markdown",
   "id": "229888ee-ce99-4df2-a550-6ba8bde0edd5",
   "metadata": {},
   "source": [
    "5. Remove an element from a list by its index."
   ]
  },
  {
   "cell_type": "code",
   "execution_count": 55,
   "id": "26f556db-7cce-41d8-bedd-3c933baee8d3",
   "metadata": {},
   "outputs": [
    {
     "name": "stdout",
     "output_type": "stream",
     "text": [
      "[1, 2, 3.5, 4, 5, 7, 8, 9, 10, 11]\n"
     ]
    }
   ],
   "source": [
    "List.pop(5)\n",
    "print(List)"
   ]
  },
  {
   "cell_type": "markdown",
   "id": "574d132e-8c50-424f-af61-3eae653f448c",
   "metadata": {},
   "source": [
    "7. Check if an element exists in a list."
   ]
  },
  {
   "cell_type": "code",
   "execution_count": 61,
   "id": "99ad24a9-3807-473b-bfac-092d917d3eeb",
   "metadata": {},
   "outputs": [
    {
     "name": "stdin",
     "output_type": "stream",
     "text": [
      "Please enter an element 1\n"
     ]
    },
    {
     "name": "stdout",
     "output_type": "stream",
     "text": [
      "Yes! the given element is exist into the list \n"
     ]
    }
   ],
   "source": [
    "List1 = [1,2,3,4,5,6,7,8]\n",
    "a = int(input(\"Please enter an element\"))\n",
    "if a in List1:\n",
    "    print('Yes! the given element is exist into the list ')\n",
    "else:\n",
    "    print(\"Oh! an element t does not exist\")"
   ]
  },
  {
   "cell_type": "markdown",
   "id": "1a09fa74-91e1-46b0-9d14-b38c98445da0",
   "metadata": {},
   "source": [
    "8. Find the index of the first occurrence of an element in a list."
   ]
  },
  {
   "cell_type": "code",
   "execution_count": 73,
   "id": "e1ddea60-1cbe-4290-abdb-3839d2cad537",
   "metadata": {},
   "outputs": [
    {
     "name": "stdout",
     "output_type": "stream",
     "text": [
      "1\n"
     ]
    }
   ],
   "source": [
    "List1 = [1,2,2,3,4,5,6,7,8,1]   # List created\n",
    "Element = 2                   # Assign 1 to a variable.\n",
    "index = List1.index(Element)  # Here we are using index() fun to check the first occurence\n",
    "print(index)"
   ]
  },
  {
   "cell_type": "markdown",
   "id": "c7a69eb1-7f0d-4de6-8fa1-a1ae4614060d",
   "metadata": {},
   "source": [
    "9. Count the occurrences of an element in a list."
   ]
  },
  {
   "cell_type": "code",
   "execution_count": 74,
   "id": "eee95ed1-fe4b-4cfe-838c-45333344fa50",
   "metadata": {},
   "outputs": [
    {
     "name": "stdout",
     "output_type": "stream",
     "text": [
      "[0, 3, 4, 8]\n"
     ]
    }
   ],
   "source": [
    "numbers = [3, 1, 2, 3, 3, 4, 5, 6, 3, 7, 8, 9, 10]\n",
    "element = 3\n",
    "indices = [i for i, num in enumerate(numbers) if num == element]\n",
    "print(indices)"
   ]
  },
  {
   "cell_type": "markdown",
   "id": "ec63d63e-7cca-4ad0-8884-ef6a3d734c98",
   "metadata": {},
   "source": [
    "10. Reverse the order of elements in a list."
   ]
  },
  {
   "cell_type": "code",
   "execution_count": 77,
   "id": "c5e0651c-964b-4b23-89b9-0237bf9bf8fb",
   "metadata": {},
   "outputs": [
    {
     "name": "stdout",
     "output_type": "stream",
     "text": [
      "Reverse element of existing list :  [8, 7, 6, 5, 4, 3, 2, 1]\n"
     ]
    }
   ],
   "source": [
    "List1 = [1,2,3,4,5,6,7,8]\n",
    "List1.reverse()  # We used the reverse() fun to reverse the element of the list\n",
    "print(\"Reverse element of existing list : \",List1)"
   ]
  },
  {
   "cell_type": "markdown",
   "id": "0e805c3e-410b-4016-a82b-4e7caeb1f78a",
   "metadata": {},
   "source": [
    "11. Sort a list in ascending order."
   ]
  },
  {
   "cell_type": "code",
   "execution_count": 91,
   "id": "b09e7041-acf1-4e35-b7dd-4597608fedde",
   "metadata": {},
   "outputs": [
    {
     "name": "stdout",
     "output_type": "stream",
     "text": [
      "Original List: [76, 23, 45, 12, 54, 9]\n",
      "Sorted List in ascending order:  [9, 12, 23, 45, 54, 76]\n"
     ]
    }
   ],
   "source": [
    "#Python program to print a list \n",
    "# without using the sort() function\n",
    "# without an extra variable\n",
    "\n",
    "l1=[76, 23, 45, 12, 54, 9] \n",
    "print(\"Original List:\", l1)\n",
    "\n",
    "# Sorting list using nested loops\n",
    "for i in range(len(l1)):\n",
    "\tfor j in range(i+1, len(l1)):\n",
    "\t\tif l1[i] >= l1[j]:\n",
    "\t\t\tl1[i], l1[j] = l1[j],l1[i]\n",
    "            \n",
    "# sorted list\n",
    "print(\"Sorted List in ascending order: \", l1)\n"
   ]
  },
  {
   "cell_type": "code",
   "execution_count": 90,
   "id": "01189eb0-ba35-44d2-bbe9-75f756a80de3",
   "metadata": {},
   "outputs": [
    {
     "name": "stdout",
     "output_type": "stream",
     "text": [
      "Ascending order : [9, 12, 23, 45, 54, 76]\n"
     ]
    }
   ],
   "source": [
    "# We can use sort() method to sort the element.\n",
    "l1=[76, 23, 45, 12, 54, 9]\n",
    "l1.sort()\n",
    "print('Ascending order :',l1)"
   ]
  },
  {
   "cell_type": "markdown",
   "id": "c1fe6ca9-c47f-44dd-bca6-0d8cbd08bbec",
   "metadata": {},
   "source": [
    "12. Sort a list in descending order."
   ]
  },
  {
   "cell_type": "code",
   "execution_count": 87,
   "id": "c3da124a-0130-4862-bae8-b91a3a6f40da",
   "metadata": {},
   "outputs": [
    {
     "name": "stdout",
     "output_type": "stream",
     "text": [
      "Original List: [76, 23, 45, 12, 54, 9]\n",
      "Sorted List [76, 54, 45, 23, 12, 9]\n"
     ]
    }
   ],
   "source": [
    "#Python program to print a list without using the sort() function without an extra variable.\n",
    "\n",
    "l1=[76, 23, 45, 12, 54, 9] \n",
    "print(\"Original List:\", l1)\n",
    "\n",
    "# Sorting list using nested loops\n",
    "for i in range(len(l1)):\n",
    "\tfor j in range(i+1, len(l1)):\n",
    "\t\tif l1[i] <= l1[j]:\n",
    "\t\t\tl1[i], l1[j] = l1[j],l1[i]\n",
    "            \n",
    "# sorted list\n",
    "print(\"Sorted List in descending order\", l1)"
   ]
  },
  {
   "cell_type": "code",
   "execution_count": 89,
   "id": "58675ead-e01e-40d6-8332-dca320c3cbb7",
   "metadata": {},
   "outputs": [
    {
     "name": "stdout",
     "output_type": "stream",
     "text": [
      "Descending Order:  [76, 54, 45, 23, 12, 9]\n"
     ]
    }
   ],
   "source": [
    "# We can use sort() method and reverse = True to sort the element.\n",
    "l1=[76, 23, 45, 12, 54, 9]\n",
    "l1.sort(reverse=True)\n",
    "print(\"Descending Order: \",l1)"
   ]
  },
  {
   "cell_type": "markdown",
   "id": "89256e7f-11fc-40f1-950b-5ea635364de4",
   "metadata": {},
   "source": [
    "13. Create a list of even numbers from 1 to 20."
   ]
  },
  {
   "cell_type": "code",
   "execution_count": 103,
   "id": "efcb549b-eaac-477e-8862-64f795577b65",
   "metadata": {},
   "outputs": [
    {
     "name": "stdout",
     "output_type": "stream",
     "text": [
      "Even Number in list:  [2, 4, 6, 8, 10, 12, 14, 16, 18, 20]\n"
     ]
    }
   ],
   "source": [
    "Number = 20\n",
    "Even_Number = []\n",
    "for i in range(1,20):\n",
    "    if (i%2!=0):\n",
    "        i+=1\n",
    "        Even_Number.append(i)\n",
    "print(\"Even Number in list: \",Even_Number)"
   ]
  },
  {
   "cell_type": "markdown",
   "id": "f4965a56-5cb6-4727-b390-39b72a272c46",
   "metadata": {},
   "source": [
    "14. Create a list of odd numbers from 1 to 20."
   ]
  },
  {
   "cell_type": "code",
   "execution_count": 104,
   "id": "aca6887e-c7d2-4a43-aefb-f4a0f29fb4aa",
   "metadata": {},
   "outputs": [
    {
     "name": "stdout",
     "output_type": "stream",
     "text": [
      "Odd Number in list:  [3, 5, 7, 9, 11, 13, 15, 17, 19]\n"
     ]
    }
   ],
   "source": [
    "Number = 20\n",
    "Odd_Number = []\n",
    "for i in range(1,20):\n",
    "    if (i%2==0):\n",
    "        i+=1\n",
    "        Odd_Number.append(i)\n",
    "print(\"Odd Number in list: \",Odd_Number)"
   ]
  },
  {
   "cell_type": "markdown",
   "id": "5bd8975a-24d1-4ad5-a3c2-55fd5f0b757e",
   "metadata": {},
   "source": [
    "15. Find the sum of all elements in a list."
   ]
  },
  {
   "cell_type": "code",
   "execution_count": 111,
   "id": "26186d22-6384-4fe9-b2bd-9b60a8fe7db8",
   "metadata": {},
   "outputs": [
    {
     "name": "stdout",
     "output_type": "stream",
     "text": [
      "Sum of list elements =  99\n"
     ]
    }
   ],
   "source": [
    "List = [3, 5, 7, 9, 11, 13, 15, 17, 19]    # We have taken a list\n",
    "Sum = 0                                    # A variable created with zero value\n",
    "for i in List:                             # We used for loop for iterarion of the list elements\n",
    "    Sum = Sum+i                            # Sum logic\n",
    "print(\"Sum of list elements = \", Sum)"
   ]
  },
  {
   "cell_type": "markdown",
   "id": "06761753-65a4-4546-92a0-27250d005f01",
   "metadata": {},
   "source": [
    "16. Find the maximum value in a list."
   ]
  },
  {
   "cell_type": "code",
   "execution_count": 112,
   "id": "94d909c5-c870-430a-ba3f-d1bd9af5dd8b",
   "metadata": {},
   "outputs": [
    {
     "data": {
      "text/plain": [
       "4"
      ]
     },
     "execution_count": 112,
     "metadata": {},
     "output_type": "execute_result"
    }
   ],
   "source": [
    "List = [1,3,2,4]\n",
    "max(List)    "
   ]
  },
  {
   "cell_type": "code",
   "execution_count": 117,
   "id": "7251d0d5-dc7c-4790-9d1d-b907d97c240b",
   "metadata": {},
   "outputs": [
    {
     "name": "stdout",
     "output_type": "stream",
     "text": [
      "Largest element is: 99\n"
     ]
    }
   ],
   "source": [
    "# Function cretaed\n",
    "def myMax(list1):\n",
    "\tmax = list1[0]    # created a varaible and assign to list index\n",
    "\tfor x in list1:\n",
    "\t\tif x > max:   # Condition to check largest value\n",
    "\t\t\tmax = x\n",
    "\treturn max\n",
    "\n",
    "# Driver code\n",
    "list1 = [10, 20, 4, 45, 99]\n",
    "print(\"Largest element is:\", myMax(list1))\n"
   ]
  },
  {
   "cell_type": "markdown",
   "id": "903707f7-a32c-4c5a-9f4b-a1601244a2f9",
   "metadata": {},
   "source": [
    "17. Find the minimum value in a list."
   ]
  },
  {
   "cell_type": "code",
   "execution_count": 119,
   "id": "90ba912b-0a8e-42d5-bcbc-3c2d76ddcf50",
   "metadata": {},
   "outputs": [
    {
     "name": "stdout",
     "output_type": "stream",
     "text": [
      "Smallest element is: 4\n"
     ]
    }
   ],
   "source": [
    "# Function cretaed\n",
    "def mySmall(list1):\n",
    "\tmax = list1[0]    # created a varaible and assign to list index\n",
    "\tfor x in list1:\n",
    "\t\tif x < max:    # Condition to check smallest value\n",
    "\t\t\tmax = x\n",
    "\treturn max\n",
    "\n",
    "# Driver code\n",
    "list1 = [10, 20, 4, 45, 99]\n",
    "print(\"Smallest element is:\", mySmall(list1))"
   ]
  },
  {
   "cell_type": "markdown",
   "id": "498beb4a-f4c2-49e2-95dd-35d987d1d554",
   "metadata": {},
   "source": [
    "18. Create a list of squares of numbers from 1 to 10."
   ]
  },
  {
   "cell_type": "code",
   "execution_count": 20,
   "id": "354432d0-4f71-415c-9d70-0b03cfa6256c",
   "metadata": {},
   "outputs": [
    {
     "name": "stdout",
     "output_type": "stream",
     "text": [
      "Square root of the list : [1,2,3,4,5,6,7,8,9,10] \n",
      "1 | 4 | 9 | 16 | 25 | 36 | 49 | 64 | 81 | 100 | "
     ]
    }
   ],
   "source": [
    "Number = [1,2,3,4,5,6,7,8,9,10]\n",
    "print(\"Square root of the list : [1,2,3,4,5,6,7,8,9,10] \")\n",
    "for i in Number:\n",
    "    print(i*i, end=\" | \")   # this line of code is for square root"
   ]
  },
  {
   "cell_type": "markdown",
   "id": "649acbd4-f9f0-4652-992f-155605fa2925",
   "metadata": {},
   "source": [
    "19. Create a list of random numbers."
   ]
  },
  {
   "cell_type": "code",
   "execution_count": 21,
   "id": "bed96c37-882d-43dc-a995-9997cb361dcf",
   "metadata": {},
   "outputs": [],
   "source": [
    "import random"
   ]
  },
  {
   "cell_type": "code",
   "execution_count": 36,
   "id": "598cc76b-ecad-431d-a659-18bddc9e458e",
   "metadata": {},
   "outputs": [
    {
     "name": "stdout",
     "output_type": "stream",
     "text": [
      "[7, 3, 3, 6, 5, 10, 3, 1, 9, 1]\n"
     ]
    }
   ],
   "source": [
    "Random_Number_List = []      # Empty List\n",
    "Number = 10\n",
    "#Random_Number = random.randint(1,10)\n",
    "for Random in range(Number):\n",
    "    Random_Number_List.append(random.randint(1,10))      # random.randint() function is used to generate the random number\n",
    "print(Random_Number_List)                                # append() method is used to append random numbers into Random_Number_List = []"
   ]
  },
  {
   "cell_type": "markdown",
   "id": "1c9ee099-6028-4030-86a4-f432329ce34f",
   "metadata": {},
   "source": [
    "20. Remove duplicates from a list."
   ]
  },
  {
   "cell_type": "code",
   "execution_count": null,
   "id": "2678020f-b564-4524-9d8e-e1561aa38361",
   "metadata": {},
   "outputs": [],
   "source": [
    "def remove_duplicates(list1):     # we have created a function\n",
    "    set1 = set()                  # create a set() function\n",
    "    for item in list1:            # for loot to iterate list element\n",
    "        if item not in set1:      # this condition to check whether item is in set1 or not if no then\n",
    "            set1.add(item)        # item will add into set1\n",
    "    list1 = list(set1)\n",
    "    return list1\n",
    "\n",
    "# driver code\n",
    "list1 = [1, 2, 3, 4, 5, 1, 2, 3]  \n",
    "print(remove_duplicates(list1))   # function call"
   ]
  },
  {
   "cell_type": "markdown",
   "id": "6af3b636-cf43-4566-bd9b-05d64b28e16a",
   "metadata": {},
   "source": [
    "21. Find the common elements between two lists."
   ]
  },
  {
   "cell_type": "code",
   "execution_count": 7,
   "id": "2d9c2701-a05a-49f2-8973-1722b55b6e89",
   "metadata": {},
   "outputs": [
    {
     "name": "stdout",
     "output_type": "stream",
     "text": [
      "The common element of both list :  [1, 2]\n"
     ]
    }
   ],
   "source": [
    "List1 = [1,2,3,4]           # List1 created\n",
    "List2 = [1,2,5,6]           #List2 created\n",
    "Common_Element = []         # Empty list created\n",
    "for Element in List1:       # Iterate the list\n",
    "    if Element in List2:    # this login is used to check whether List1 element is exist into List2 or not\n",
    "        Common_Element.append(Element)     # If both lists have the same element then it will append the common element into the empty list.\n",
    "print(\"The common element of both list : \",Common_Element)       # print the output."
   ]
  },
  {
   "cell_type": "markdown",
   "id": "de7fa86d-dfb7-402f-9978-230a8f4a177e",
   "metadata": {},
   "source": [
    "22. Find the difference between two lists."
   ]
  },
  {
   "cell_type": "code",
   "execution_count": 10,
   "id": "4c9ded40-e82e-4eca-80c9-bceb1a704677",
   "metadata": {},
   "outputs": [
    {
     "name": "stdout",
     "output_type": "stream",
     "text": [
      "The different elements of both list :  [3, 4]\n"
     ]
    }
   ],
   "source": [
    "List1 = [1,2,3,4]           # List1 created\n",
    "List2 = [1,2,5,6]           #List2 created\n",
    "Diff_Element = []         # Empty list created\n",
    "for Element in List1:       # Iterate the list\n",
    "    if Element not in List2:    # this login is used to check whether List1 element is exist into List2 or not\n",
    "        Diff_Element.append(Element)     # Different elements will append into an empty list.\n",
    "print(\"The different elements of both list : \",Diff_Element)       # print the output."
   ]
  },
  {
   "cell_type": "markdown",
   "id": "396dbcd4-39ab-4079-a0c9-f6cbad38c2fc",
   "metadata": {},
   "source": [
    "23. Merge two lists."
   ]
  },
  {
   "cell_type": "code",
   "execution_count": 13,
   "id": "2ba3fe76-aa14-49ad-b64e-7a0001a0fc9c",
   "metadata": {},
   "outputs": [
    {
     "name": "stdout",
     "output_type": "stream",
     "text": [
      "Merge list:  [1, 2, 3, 4, 5, 6, 7, 8, 1, 2, 3]\n"
     ]
    }
   ],
   "source": [
    "List1 = [1,2,3,4,5,6]\n",
    "List2 = [7,8,1,2,3]\n",
    "List1.extend(List2)  # extand() is used to merge two list.\n",
    "print(\"Merge list: \",List1)"
   ]
  },
  {
   "cell_type": "markdown",
   "id": "d63a7e62-ddac-4a6f-993a-53502dfab0cb",
   "metadata": {},
   "source": [
    "24. Multiply all elements in a list by 2."
   ]
  },
  {
   "cell_type": "code",
   "execution_count": 15,
   "id": "6e9a6fdb-ed9b-4499-a115-6805fb3a772a",
   "metadata": {},
   "outputs": [
    {
     "name": "stdout",
     "output_type": "stream",
     "text": [
      "Multiply all elements in a list by 2 : [1,2,3,4,5,6,7,8,9,10] \n",
      "2 | 4 | 6 | 8 | 10 | 12 | 14 | 16 | 18 | 20 | "
     ]
    }
   ],
   "source": [
    "Number = [1,2,3,4,5,6,7,8,9,10]\n",
    "print(\"Multiply all elements in a list by 2 : [1,2,3,4,5,6,7,8,9,10] \")\n",
    "for i in Number:\n",
    "    print(i*2, end=\" | \")"
   ]
  },
  {
   "cell_type": "markdown",
   "id": "b093089c-25a6-4f45-8524-7c89d2bf08ea",
   "metadata": {},
   "source": [
    "25. Filter out all even numbers from a list."
   ]
  },
  {
   "cell_type": "code",
   "execution_count": 18,
   "id": "f62fdfbc-5ed3-41bc-ba39-be54461bf7de",
   "metadata": {},
   "outputs": [
    {
     "name": "stdout",
     "output_type": "stream",
     "text": [
      "Original List : [1,2,3,4,5,6,7,8,9,10] \n",
      "Even Number in the list: [2, 4, 6, 8, 10]\n"
     ]
    }
   ],
   "source": [
    "Number = [1,2,3,4,5,6,7,8,9,10]\n",
    "Even_Number = []\n",
    "print(\"Original List : [1,2,3,4,5,6,7,8,9,10] \")\n",
    "for i in Number:\n",
    "    if i%2==0:\n",
    "        Even_Number.append(i)\n",
    "    i=+1\n",
    "print(\"Even Number in the list:\", Even_Number)\n",
    "    "
   ]
  },
  {
   "cell_type": "markdown",
   "id": "34d030e9-e978-450f-acc3-9982d1ee9c93",
   "metadata": {},
   "source": [
    "26. Convert a list of strings to a list of integers."
   ]
  },
  {
   "cell_type": "code",
   "execution_count": 26,
   "id": "ebd18582-48a9-4f77-a44e-a98772d21ffe",
   "metadata": {},
   "outputs": [
    {
     "name": "stdout",
     "output_type": "stream",
     "text": [
      "Now modified list : [1, 2, 3, 4]\n"
     ]
    }
   ],
   "source": [
    "String_List =['1','2','3','4'] \n",
    "# using map() to perform conversion\n",
    "Modified_List = list(map(int, String_List))\n",
    "# Printing modified list\n",
    "print(\"Modified list :\", Modified_List)"
   ]
  },
  {
   "cell_type": "markdown",
   "id": "3dbfc6b5-ba35-40e7-84e8-ade6117c2f3d",
   "metadata": {},
   "source": [
    "27. Convert a list of integers to a list of strings."
   ]
  },
  {
   "cell_type": "code",
   "execution_count": 27,
   "id": "57185a80-bc26-4844-ba19-1975c6aa126c",
   "metadata": {},
   "outputs": [
    {
     "name": "stdout",
     "output_type": "stream",
     "text": [
      "Modified list : ['1', '2', '3', '4']\n"
     ]
    }
   ],
   "source": [
    "Int_List =[1, 2, 3, 4] \n",
    "# using map() to perform conversion\n",
    "Modified_List = list(map(str, Int_List))\n",
    "# Printing modified list\n",
    "print(\"Modified list :\", Modified_List)"
   ]
  },
  {
   "cell_type": "markdown",
   "id": "84b02906-fa03-436c-a36d-ffcb65e3a320",
   "metadata": {},
   "source": [
    "28. Flatten a nested list."
   ]
  },
  {
   "cell_type": "code",
   "execution_count": 30,
   "id": "fe4a5734-c7fe-43d7-a03b-16fc97812a66",
   "metadata": {
    "scrolled": true
   },
   "outputs": [
    {
     "name": "stdout",
     "output_type": "stream",
     "text": [
      "Flatten List: [1, 3, 'PW', 4, 5, 6, 'Skill']\n"
     ]
    }
   ],
   "source": [
    "Flatten = [i for row in [[1,3,\"PW\"], [4,5],[6,\"Skill\"]] for i in row]  # we used list comprehension t\n",
    "print(\"Flatten List:\",Flatten)\n"
   ]
  },
  {
   "cell_type": "markdown",
   "id": "995f593e-166c-4e4a-b955-4f80f039919b",
   "metadata": {},
   "source": [
    "29. Create a list of the first 10 Fibonacci numbers."
   ]
  },
  {
   "cell_type": "code",
   "execution_count": 8,
   "id": "23b6e7e7-5e69-410b-b367-e28ca19044a3",
   "metadata": {},
   "outputs": [
    {
     "name": "stdout",
     "output_type": "stream",
     "text": [
      "0 1 1 2 3 5 8 13 21 34 55 89 \n"
     ]
    }
   ],
   "source": [
    "Num = 10\n",
    "Num1 = 0\n",
    "Num2 = 1\n",
    "count = 1\n",
    "Next_Number = 1\n",
    "print(Num1,Num2, end=\" \")\n",
    "while count <= Num:                   # Logic implemented here\n",
    "    print(Next_Number, end=\" \")       # Print the next number\n",
    "    count += 1                        # Count will increase when the condition becomes true.\n",
    "    Num1, Num2 = Num2, Next_Number    # Assign number here\n",
    "    Next_Number = Num1 + Num2         \n",
    "print()"
   ]
  },
  {
   "cell_type": "markdown",
   "id": "04d7be05-fd91-48fc-8cc0-2e6278d6afea",
   "metadata": {},
   "source": [
    "30. Check if a list is sorted."
   ]
  },
  {
   "cell_type": "code",
   "execution_count": 15,
   "id": "9c11bf17-4bd9-46cf-b89e-6778ca36c81a",
   "metadata": {},
   "outputs": [
    {
     "name": "stdout",
     "output_type": "stream",
     "text": [
      "Original list : [3, 1, 4, 5, 8, 10]\n",
      "No, List is not sorted.\n"
     ]
    }
   ],
   "source": [
    "# Python3 code to demonstrate to check if the list is sorted using naive method \n",
    "\n",
    "# initializing list\n",
    "test_list = [3,1, 4, 5, 8, 10]\n",
    "\n",
    "# printing original list \n",
    "print (\"Original list : \" + str(test_list))\n",
    "\n",
    "# Using the naive method to check the sorted list \n",
    "flag = 0\n",
    "i = 1\n",
    "while i < len(test_list):\n",
    "\tif(test_list[i] < test_list[i - 1]):\n",
    "\t\tflag = 1\n",
    "\ti += 1\n",
    "\t\n",
    "# printing result\n",
    "if (not flag) :\n",
    "\tprint (\"Yes, List is sorted.\")\n",
    "else :\n",
    "\tprint (\"No, List is not sorted.\")\n",
    "\n",
    "    "
   ]
  },
  {
   "cell_type": "markdown",
   "id": "f3284b52-6e85-472d-ae5e-de175c2e6d35",
   "metadata": {},
   "source": [
    "31. Rotate a list to the left by `n` positions."
   ]
  },
  {
   "cell_type": "code",
   "execution_count": 35,
   "id": "9e101491-82db-4d45-b97c-74fff8e087b3",
   "metadata": {},
   "outputs": [
    {
     "name": "stdout",
     "output_type": "stream",
     "text": [
      "[6, 7, 8, 9, 10, 1, 2, 3, 4, 5]\n"
     ]
    }
   ],
   "source": [
    "List = [1,2,3,4,5,6,7,8,9,10]\n",
    "List1 = List[5:] + List[:5]     # Left to right rotation\n",
    "print(List1)"
   ]
  },
  {
   "cell_type": "markdown",
   "id": "0812e63b-9712-405a-b807-233d13b7aa3c",
   "metadata": {},
   "source": [
    "32. Rotate a list to the right by `n` positions."
   ]
  },
  {
   "cell_type": "code",
   "execution_count": 36,
   "id": "7d015e04-7862-4b1f-9f82-0ebada94abe9",
   "metadata": {},
   "outputs": [
    {
     "name": "stdout",
     "output_type": "stream",
     "text": [
      "[7, 8, 9, 10, 1, 2, 3, 4, 5, 6]\n"
     ]
    }
   ],
   "source": [
    "List = [1,2,3,4,5,6,7,8,9,10]\n",
    "List1 = List[-4:] + List[:-4]       #Right to left rotetion\n",
    "print(List1)"
   ]
  },
  {
   "cell_type": "markdown",
   "id": "80ac3a72-04b4-4be8-87f6-54b82bdae6fe",
   "metadata": {},
   "source": [
    "33. Create a list of prime numbers up to 50."
   ]
  },
  {
   "cell_type": "code",
   "execution_count": 39,
   "id": "57fe9c0f-871a-4f12-af6e-e0a8dcc2c5e2",
   "metadata": {},
   "outputs": [
    {
     "name": "stdout",
     "output_type": "stream",
     "text": [
      "Odd Number in list:  []\n"
     ]
    }
   ],
   "source": [
    "Number = 50\n",
    "Odd_Number = []\n",
    "for i in range(1,50):\n",
    "    if (i/i==0):\n",
    "        i+=1\n",
    "        Odd_Number.append(i)\n",
    "print(\"Odd Number in list: \",Odd_Number)"
   ]
  },
  {
   "cell_type": "markdown",
   "id": "cab3d24b-2a8f-4041-9866-3fdedc5e8b50",
   "metadata": {},
   "source": [
    "34. Split a list into chunks of size `n`."
   ]
  },
  {
   "cell_type": "code",
   "execution_count": 16,
   "id": "63b194fe-f242-41b6-aaf9-78d31bb7fa53",
   "metadata": {},
   "outputs": [
    {
     "name": "stdout",
     "output_type": "stream",
     "text": [
      "[1, 2, 3]\n",
      "[4, 5, 6]\n",
      "[7, 8, 9]\n"
     ]
    }
   ],
   "source": [
    "my_list = [1,2,3,4,5,6,7,8,9] \n",
    "Start = 0\n",
    "End = len(my_list)\n",
    "Step = 3\n",
    "# for loop to iterate the my_list till end\n",
    "for i in range(Start, End, Step):\n",
    "\n",
    "    # store i value into x variable\n",
    "    x = i\n",
    "    # Here we are slicing mylist \n",
    "    print(my_list[x:x+Step])  "
   ]
  },
  {
   "cell_type": "code",
   "execution_count": null,
   "id": "c9692e4b-fd6c-431c-99fb-401f39911a20",
   "metadata": {},
   "outputs": [],
   "source": []
  },
  {
   "cell_type": "markdown",
   "id": "423cc8f5-78fc-49c6-86f6-4e0a93e9a357",
   "metadata": {},
   "source": [
    "35. Find the second largest number in a list."
   ]
  },
  {
   "cell_type": "code",
   "execution_count": 37,
   "id": "e8442d4c-9109-42eb-b14d-1170f519af60",
   "metadata": {},
   "outputs": [
    {
     "name": "stdout",
     "output_type": "stream",
     "text": [
      "Second highest number is :  100\n"
     ]
    }
   ],
   "source": [
    "# Python program to find the second largest number in a list\n",
    "\n",
    "list1 = [10,20,4,45,99,100,154,60]\n",
    "\n",
    "# Check the max number b/w 0 and 1 index\n",
    "Max = max(list1[0], list1[1]) \n",
    "\n",
    "# Check the nim number b/w 0 and 1 index\n",
    "Second_Max = min(list1[0], list1[1]) \n",
    "\n",
    "# check the length of list\n",
    "n = len(list1)\n",
    "\n",
    "# iterate loop from index 2\n",
    "for i in range(2,n): \n",
    "    # here we will check the condition if list1[i] > Max satisfied then Max value will assign to Secondmax and Index of i will assign to Max\n",
    "\tif list1[i] > Max: \n",
    "\t\tSecond_Max = Max\n",
    "\t\tMax = list1[i] \n",
    "    # If the above condition is false then elif condition will exicute\n",
    "\telif (list1[i] > Second_Max) and (Max != list1[i]): \n",
    "\t\tSecond_Max = list1[i]\n",
    "    # If the above condition is false then elif condition will exicute\n",
    "\telif (Max == Second_Max) and (Second_Max != list1[i]):\n",
    "\t\tSecond_Max = list1[i]\n",
    "# It will print the second max value from the list.\n",
    "print(\"Second highest number is : \", str(Second_Max))\n"
   ]
  },
  {
   "cell_type": "markdown",
   "id": "d2e2426b-7076-4ea8-9748-b6d167e9a9e9",
   "metadata": {},
   "source": [
    "36. Replace every element in a list with its square."
   ]
  },
  {
   "cell_type": "code",
   "execution_count": 124,
   "id": "bf73a18d-97a5-4a58-808e-9bdc82621ef2",
   "metadata": {},
   "outputs": [
    {
     "name": "stdout",
     "output_type": "stream",
     "text": [
      "[1, 4, 9, 16, 25]\n"
     ]
    }
   ],
   "source": [
    "my_list = [1, 2, 3, 4, 5]\n",
    "for i in range(len(my_list)):\n",
    "        my_list[i] = my_list[i]**2\n",
    "print(my_list)"
   ]
  },
  {
   "cell_type": "markdown",
   "id": "b9630c3b-4d86-4b1d-968d-ca9ced9b1802",
   "metadata": {},
   "source": [
    "37. Convert a list to a dictionary where list elements become keys and their indices become values."
   ]
  },
  {
   "cell_type": "code",
   "execution_count": 126,
   "id": "1ea3a8ac-1ec9-4534-9452-6a6c8023d25f",
   "metadata": {},
   "outputs": [
    {
     "name": "stdout",
     "output_type": "stream",
     "text": [
      "{1: None, 2: None, 3: None, 4: None, 5: None}\n"
     ]
    }
   ],
   "source": [
    "my_list = [1, 2, 3, 4, 5]\n",
    "Dict = dict.fromkeys(my_list)\n",
    "print(Dict)"
   ]
  },
  {
   "cell_type": "markdown",
   "id": "7558d76d-3786-4112-a402-c729d01932fa",
   "metadata": {},
   "source": [
    "38. Shuffle the elements of a list randomly."
   ]
  },
  {
   "cell_type": "code",
   "execution_count": 134,
   "id": "b498e2f6-962f-46b5-9db3-0c1d9835a9c1",
   "metadata": {},
   "outputs": [
    {
     "name": "stdout",
     "output_type": "stream",
     "text": [
      "The original list is : [1, 4, 5, 6, 3]\n",
      "The shuffled list is : [3, 1, 5, 4, 6]\n"
     ]
    }
   ],
   "source": [
    "import random\n",
    "\n",
    "test_list = [1, 4, 5, 6, 3]\n",
    "\n",
    "print(\"The original list is : \" + str(test_list))\n",
    "\n",
    "# using random.shuffle() to shuffle a list\n",
    "random.shuffle(test_list)\n",
    "\n",
    "print(\"The shuffled list is : \" + str(test_list))\n"
   ]
  },
  {
   "cell_type": "markdown",
   "id": "12db731c-ef72-485d-b86a-8e78b8208696",
   "metadata": {},
   "source": [
    "39. Create a list of the first 10 factorial numbers."
   ]
  },
  {
   "cell_type": "code",
   "execution_count": 136,
   "id": "739c77a6-31f8-4001-a996-60e3251d5d41",
   "metadata": {},
   "outputs": [
    {
     "name": "stdout",
     "output_type": "stream",
     "text": [
      "0 1 1 2 3 5 8 13 21 34 55 89 \n"
     ]
    }
   ],
   "source": [
    "Num = 10\n",
    "Num1 = 0\n",
    "Num2 = 1\n",
    "count = 1\n",
    "Next_Number = 1\n",
    "print(Num1,Num2, end=\" \")\n",
    "while count <= Num:                   # Logic implemented here\n",
    "    print(Next_Number, end=\" \")       # Print the next number\n",
    "    count += 1                        # Count will increase when the condition becomes true.\n",
    "    Num1, Num2 = Num2, Next_Number    # Assign number here\n",
    "    Next_Number = Num1 + Num2         \n",
    "print()"
   ]
  },
  {
   "cell_type": "markdown",
   "id": "5db9ee07-357a-46fa-a1b9-05cc8e0af373",
   "metadata": {},
   "source": [
    "40. Check if two lists have at least one element in common."
   ]
  },
  {
   "cell_type": "code",
   "execution_count": 142,
   "id": "fe77c093-564e-4ecb-906a-f0b1be62665e",
   "metadata": {},
   "outputs": [
    {
     "name": "stdout",
     "output_type": "stream",
     "text": [
      "Is any common data here?  True\n"
     ]
    }
   ],
   "source": [
    "# Create a function\n",
    "def Common_Data(List1, List2):    \n",
    "    Result = False     \n",
    "    #Uterate both list one by one\n",
    "    for i in List1:\n",
    "        for j in List2:\n",
    "            if i==j:\n",
    "                Result = True\n",
    "                return Result\n",
    "    return Result\n",
    "List1 = [1,2,3,4,5]\n",
    "List2 = [5,6,7,8,9]\n",
    "# Function call\n",
    "print(\"Is any common data here? \",Common_Data(List1,List1))"
   ]
  },
  {
   "cell_type": "markdown",
   "id": "4e67c203-dcb5-4b81-a1b3-7a2f48b0f3c0",
   "metadata": {},
   "source": [
    "41. Remove all elements from a list."
   ]
  },
  {
   "cell_type": "code",
   "execution_count": 152,
   "id": "7d4897a7-8a4d-4543-ab89-53046dfe4630",
   "metadata": {},
   "outputs": [
    {
     "name": "stdout",
     "output_type": "stream",
     "text": [
      "[]\n"
     ]
    }
   ],
   "source": [
    "List1 = [1,2,3,4,5]\n",
    "# to remove all element from list we use clear() method\n",
    "List1.clear()\n",
    "print(List1)"
   ]
  },
  {
   "cell_type": "markdown",
   "id": "982b3278-5c4b-453b-88b4-e193a9933319",
   "metadata": {},
   "source": [
    "42. Replace negative numbers in a list with 0."
   ]
  },
  {
   "cell_type": "code",
   "execution_count": 168,
   "id": "6e663326-02a2-4a6b-aa60-03a61175e06e",
   "metadata": {},
   "outputs": [
    {
     "name": "stdout",
     "output_type": "stream",
     "text": [
      "List before change [1, -2, 3, -4, 5]\n",
      "List1 after change [1, 0, 3, 0, 5]\n"
     ]
    }
   ],
   "source": [
    "List1 = [1,-2,3,-4,5]\n",
    "print(\"List before change\", List1)\n",
    "for i in range(len(List1)):\n",
    "    # Here we check whether list element is less then 0 or not\n",
    "    if List1[i]<0:    \n",
    "        List1[i] = 0\n",
    "print(\"List1 after change\", List1)"
   ]
  },
  {
   "cell_type": "markdown",
   "id": "feb2e94b-325a-44a9-8ef3-a386a11f33fd",
   "metadata": {},
   "source": [
    "43. Convert a string into a list of words."
   ]
  },
  {
   "cell_type": "code",
   "execution_count": 171,
   "id": "1f74ca76-c1e2-4d53-b46d-68ea94808060",
   "metadata": {},
   "outputs": [
    {
     "data": {
      "text/plain": [
       "['P', 'W', ' ', 'S', 'K', 'I', 'L', 'L', 'S']"
      ]
     },
     "execution_count": 171,
     "metadata": {},
     "output_type": "execute_result"
    }
   ],
   "source": [
    "String = \"PW SKILLS\"\n",
    "list(String)"
   ]
  },
  {
   "cell_type": "markdown",
   "id": "3e435f05-622b-4175-ab75-7dfab0c9c102",
   "metadata": {},
   "source": [
    "44. Convert a list of words into a string."
   ]
  },
  {
   "cell_type": "code",
   "execution_count": 189,
   "id": "47db7794-f526-4965-85e4-87b6c531c6e6",
   "metadata": {},
   "outputs": [
    {
     "name": "stdout",
     "output_type": "stream",
     "text": [
      "PW SKILLS\n"
     ]
    }
   ],
   "source": [
    "List1 = ['P','W',' ','S','K','I','L','L','S']\n",
    "result = \"{}{}{}{}{}{}{}{}{}\".format(*List1)\n",
    "print(result)"
   ]
  },
  {
   "cell_type": "markdown",
   "id": "2a367f8f-2009-45b9-b71b-568c3ae959a7",
   "metadata": {},
   "source": [
    "45. Create a list of the first `n` powers of 2."
   ]
  },
  {
   "cell_type": "code",
   "execution_count": 223,
   "id": "bdb7347c-de3e-4878-8cc8-1def5e55f1e0",
   "metadata": {},
   "outputs": [
    {
     "name": "stdout",
     "output_type": "stream",
     "text": [
      "Squired Number:  [1, 4, 9, 16, 25, 36]\n"
     ]
    }
   ],
   "source": [
    "def Power(n):\n",
    "    My_List = []\n",
    "    for i in range(1,n+1):\n",
    "        Squred_Num = i**2\n",
    "        My_List.append(Squred_Num)\n",
    "    return My_List\n",
    "# Function Call\n",
    "print(\"Squired Number: \", Power(6))"
   ]
  },
  {
   "cell_type": "markdown",
   "id": "0948ec3a-91c3-4204-86fd-617eed50b5ee",
   "metadata": {},
   "source": [
    "46. Find the longest string in a list of strings."
   ]
  },
  {
   "cell_type": "code",
   "execution_count": 235,
   "id": "d93d2928-a044-4436-a927-ede7e78b9b75",
   "metadata": {},
   "outputs": [
    {
     "name": "stdout",
     "output_type": "stream",
     "text": [
      "Our Longest String In The List:  longest\n"
     ]
    }
   ],
   "source": [
    "def Longest_String(s):\n",
    "    Max_Len = -1\n",
    "    for i in My_List:\n",
    "        if len(i)>Max_Len:\n",
    "            Max_Len = len(i)\n",
    "            Res = i\n",
    "    return Res\n",
    "    \n",
    "# driver code\n",
    "My_List = ['Find',' ','the',' ', 'longest',' ', 'string',' ', 'in',' ', 'a',' ', 'list',' ', 'of',' ', 'strings']\n",
    "print(\"Our Longest String In The List: \",Longest_String(My_List))"
   ]
  },
  {
   "cell_type": "markdown",
   "id": "e502c889-696b-4945-ad50-91ba388610b6",
   "metadata": {},
   "source": [
    "47. Find the shortest string in a list of strings."
   ]
  },
  {
   "cell_type": "code",
   "execution_count": 253,
   "id": "c7259786-4869-4f2a-ada9-1467829581d2",
   "metadata": {},
   "outputs": [
    {
     "name": "stdout",
     "output_type": "stream",
     "text": [
      "The original list : ['PW', 'SKILLS', 'FOR', 'EVERYONE']\n",
      "Length of minimum string is : PW\n"
     ]
    }
   ],
   "source": [
    "# Python3 code to demonstrate working of Minimum String length using reduce() + lambda function\n",
    "from functools import reduce\n",
    "\n",
    "# Initialize list\n",
    "test_list = ['PW', 'SKILLS', 'FOR','EVERYONE']\n",
    "\n",
    "# Printing original list\n",
    "print(\"The original list : \" + str(test_list))\n",
    "\n",
    "# Minimum String length using reduce() + lambda function\n",
    "res = reduce(lambda x, y: x if len(x) < len(y) else y, test_list)\n",
    "print(\"Length of minimum string is : \" + str(res))\n"
   ]
  },
  {
   "cell_type": "markdown",
   "id": "12af7618-1113-4798-a8d1-5d4a7e5a0aae",
   "metadata": {},
   "source": [
    "48. Create a list of the first `n` triangular numbers."
   ]
  },
  {
   "cell_type": "code",
   "execution_count": 271,
   "id": "f3da2741-3864-460d-8b6d-163c3761f464",
   "metadata": {},
   "outputs": [
    {
     "name": "stdout",
     "output_type": "stream",
     "text": [
      "Triangular Numbers : 1 3 6 10 15 "
     ]
    }
   ],
   "source": [
    "# Function to find triangular number\n",
    "def triangular_series( n ):\n",
    "\tj = 1\n",
    "\tk = 1\n",
    "    \n",
    "\t# For each iteration increase j by 1 and add it to k\n",
    "\tfor i in range(1, n + 1):\n",
    "\t\tprint(k, end = ' ')\n",
    "\t\tj = j + 1 # Increasing j by 1\n",
    "\t\t\n",
    "\t\t# Add the value of j into k and update k\n",
    "\t\tk = k + j \n",
    "\t\t\n",
    "# Driven Code\n",
    "n = 5\n",
    "print('Triangular Numbers', end=' : ')\n",
    "triangular_series(n)\n"
   ]
  },
  {
   "cell_type": "markdown",
   "id": "5c219304-20ba-4cd9-afab-79b86ccb6e34",
   "metadata": {},
   "source": [
    "49. Check if a list contains another list as a subsequence."
   ]
  },
  {
   "cell_type": "code",
   "execution_count": 273,
   "id": "c5102691-6f94-49ea-ad42-05403b26d5b6",
   "metadata": {
    "scrolled": true
   },
   "outputs": [
    {
     "name": "stdout",
     "output_type": "stream",
     "text": [
      "True\n"
     ]
    }
   ],
   "source": [
    "# Function\n",
    "def removeElements(A, B):\n",
    "\t\n",
    "\tfor i in range(len(B)-len(A)+1):\n",
    "\t\tfor j in range(len(A)):\n",
    "\t\t\tif B[i + j] != A[j]:\n",
    "\t\t\t\tbreak\n",
    "\t\telse:\n",
    "\t\t\treturn True\n",
    "\t\n",
    "\treturn False\n",
    "\n",
    "# Initializing lists \n",
    "A = [1, 2]\n",
    "B = [1, 2, 3, 1, 1, 2, 2]\n",
    "\n",
    "# Printing result \n",
    "print(removeElements(A, B))\n"
   ]
  },
  {
   "cell_type": "markdown",
   "id": "8780630d-a880-4fcb-9e7b-165cffde9e9a",
   "metadata": {},
   "source": [
    "50. Swap two elements in a list by their indices."
   ]
  },
  {
   "cell_type": "code",
   "execution_count": 277,
   "id": "0e41a71c-56e2-4199-889c-fbfdc4973aba",
   "metadata": {},
   "outputs": [
    {
     "name": "stdout",
     "output_type": "stream",
     "text": [
      "[19, 65, 23, 90]\n"
     ]
    }
   ],
   "source": [
    "# Swap function\n",
    "def Swap_Positions(list, pos1, pos2):\n",
    "\t\n",
    "\tlist[pos1], list[pos2] = list[pos2], list[pos1]\n",
    "\treturn list\n",
    "\n",
    "# Driver function\n",
    "List = [23, 65, 19, 90]\n",
    "pos1, pos2 = 1, 3\n",
    "\n",
    "print(Swap_Positions(List, pos1-1, pos2-1))\n"
   ]
  },
  {
   "cell_type": "markdown",
   "id": "d2389ffb-b72c-44ad-9be2-5f8029d2e6a9",
   "metadata": {},
   "source": [
    "Tuple Based Practice Problem :"
   ]
  },
  {
   "cell_type": "markdown",
   "id": "585035c9-bf93-4bf6-9e28-415f3b52ffe1",
   "metadata": {},
   "source": [
    "1. Create a tuple with integers from 1 to 5."
   ]
  },
  {
   "cell_type": "code",
   "execution_count": 300,
   "id": "7691f743-45c8-454a-a15a-b4cf1d1a5a83",
   "metadata": {},
   "outputs": [
    {
     "name": "stdout",
     "output_type": "stream",
     "text": [
      "(1, 2, 3, 4, 5) <class 'tuple'>\n"
     ]
    }
   ],
   "source": [
    "Tuple = (1,2,3,4,5)\n",
    "type(Tuple)\n",
    "print(Tuple, type(Tuple))"
   ]
  },
  {
   "cell_type": "markdown",
   "id": "806d6b82-367d-41ae-a596-0b58af5fb699",
   "metadata": {},
   "source": [
    "2. Access the third element of a tuple."
   ]
  },
  {
   "cell_type": "code",
   "execution_count": 306,
   "id": "0688c51c-327d-4d32-8967-e1c9f7a03c70",
   "metadata": {},
   "outputs": [
    {
     "name": "stdout",
     "output_type": "stream",
     "text": [
      "Access the third element of a tuple:  3\n"
     ]
    }
   ],
   "source": [
    "Tuple = (1,2,3,4,5)\n",
    "print(\"Access the third element of a tuple: \",Tuple[2])"
   ]
  },
  {
   "cell_type": "markdown",
   "id": "34a672d9-d51d-4cdd-89c4-2cf68d1aae1d",
   "metadata": {},
   "source": [
    "3. Find the length of a tuple without using the `len()` function."
   ]
  },
  {
   "cell_type": "code",
   "execution_count": 308,
   "id": "bc3224ad-444c-4834-a36b-46e003dcca71",
   "metadata": {},
   "outputs": [
    {
     "data": {
      "text/plain": [
       "5"
      ]
     },
     "execution_count": 308,
     "metadata": {},
     "output_type": "execute_result"
    }
   ],
   "source": [
    "Tuple = (1,2,3,4,5)\n",
    "len(Tuple)"
   ]
  },
  {
   "cell_type": "markdown",
   "id": "7242bc79-c15d-42f1-91c3-31c589121802",
   "metadata": {},
   "source": [
    "4. Count the occurrences of an element in a tuple."
   ]
  },
  {
   "cell_type": "code",
   "execution_count": 324,
   "id": "856df76b-b9d3-4d40-840a-e4caea18baf9",
   "metadata": {},
   "outputs": [
    {
     "name": "stdout",
     "output_type": "stream",
     "text": [
      "the element 3 occurs 4 times\n"
     ]
    }
   ],
   "source": [
    "tuple1 = (3, 1, 2, 3, 3, 4, 5, 6, 3, 7, 8, 9, 10)\n",
    "indices = [i for i in tuple1 if i == 3]\n",
    "print(\"the element 3 occurs\", len(indices), \"times\")"
   ]
  },
  {
   "cell_type": "markdown",
   "id": "dded5eff-9446-4326-9d1a-06fc80f7cff0",
   "metadata": {},
   "source": [
    "5. Find the index of the first occurrence of an element in a tuple."
   ]
  },
  {
   "cell_type": "code",
   "execution_count": 15,
   "id": "c24bfc9e-39c2-4af7-830a-be80e609d13a",
   "metadata": {},
   "outputs": [
    {
     "name": "stdout",
     "output_type": "stream",
     "text": [
      "0\n"
     ]
    }
   ],
   "source": [
    "my_tuple = (10,1, 2, 3, 2, 4, 2, 5)\n",
    "index = my_tuple.index(10)\n",
    "print(index)"
   ]
  },
  {
   "cell_type": "markdown",
   "id": "3df2047d-c020-47cd-ba7c-d15a1762c655",
   "metadata": {},
   "source": [
    "6. Check if an element exists in a tuple."
   ]
  },
  {
   "cell_type": "code",
   "execution_count": 5,
   "id": "c553f373-451a-4e75-90ef-36daf2c8fc82",
   "metadata": {},
   "outputs": [
    {
     "name": "stdout",
     "output_type": "stream",
     "text": [
      "Element exist in the tuple\n"
     ]
    }
   ],
   "source": [
    "Num = 10\n",
    "Tuple = (1,2,4,6,10,8,9)\n",
    "for i in range(len(Tuple)):\n",
    "    if Tuple[i]==Num:\n",
    "        print(\"Element exist in the tuple\")\n",
    "        #break"
   ]
  },
  {
   "cell_type": "markdown",
   "id": "6a106b1b-6f0d-4531-91ed-9a2e6a4106b1",
   "metadata": {},
   "source": [
    "7. Convert a tuple to a list."
   ]
  },
  {
   "cell_type": "code",
   "execution_count": 330,
   "id": "e8f2fd5c-0f8a-4f70-ad7a-3647bc68781c",
   "metadata": {},
   "outputs": [
    {
     "name": "stdout",
     "output_type": "stream",
     "text": [
      "Convert a tuple to a list: [1, 2, 3, 4, 5, 6]\n"
     ]
    }
   ],
   "source": [
    "Tuple = (1,2,3,4,5,6)\n",
    "print(\"Convert a tuple to a list:\",list(Tuple))"
   ]
  },
  {
   "cell_type": "markdown",
   "id": "da0f90c9-4e0f-42fe-8ba8-0992100a0f12",
   "metadata": {},
   "source": [
    "8. Convert a list to a tuple."
   ]
  },
  {
   "cell_type": "code",
   "execution_count": 332,
   "id": "5b0f327a-bc48-4df3-b3aa-65e3bf29fa87",
   "metadata": {},
   "outputs": [
    {
     "name": "stdout",
     "output_type": "stream",
     "text": [
      "Convert a list to a tuple: (1, 2, 3, 4, 5, 6)\n"
     ]
    }
   ],
   "source": [
    "List = [1,2,3,4,5,6]\n",
    "Tuple = tuple(List)\n",
    "print(\"Convert a list to a tuple:\", Tuple)"
   ]
  },
  {
   "cell_type": "markdown",
   "id": "e5df5501-645a-42b3-9c7b-0ebb0123809e",
   "metadata": {},
   "source": [
    "9. Unpack the elements of a tuple into variables."
   ]
  },
  {
   "cell_type": "code",
   "execution_count": 340,
   "id": "1205e63b-5260-4467-865f-b1e253c4b232",
   "metadata": {},
   "outputs": [
    {
     "name": "stdout",
     "output_type": "stream",
     "text": [
      "apple\n",
      "banana\n",
      "cherry\n"
     ]
    }
   ],
   "source": [
    "#When we create a tuple, we normally assign values to it. This is called \"packing\" a tuple.\n",
    "#But, in Python, we are also allowed to extract the values back into variables. This is called \"unpacking\"  \n",
    "\n",
    "# Packing a tuple\n",
    "fruits = (\"apple\", \"banana\", \"cherry\")\n",
    "\n",
    "#Unpacking a tuple\n",
    "(green, yellow, red) = fruits\n",
    "\n",
    "# print the value\n",
    "print(green)\n",
    "print(yellow)\n",
    "print(red)"
   ]
  },
  {
   "cell_type": "markdown",
   "id": "e7b55016-4b49-4ca7-9fd2-6891647177fe",
   "metadata": {},
   "source": [
    "10. Create a tuple of even numbers from 1 to 10."
   ]
  },
  {
   "cell_type": "code",
   "execution_count": 42,
   "id": "507f8a4f-2c1e-4e86-b54f-2ba367e9d346",
   "metadata": {},
   "outputs": [
    {
     "name": "stdout",
     "output_type": "stream",
     "text": [
      "Tuple Items =  (1, 2, 3, 4, 5, 6, 7, 8, 9, 10)\n",
      "\n",
      "The Even Numbers in this Tuple are:\n",
      "2 | 4 | 6 | 8 | 10 | "
     ]
    }
   ],
   "source": [
    "Tuple = (1,2,3,4,5,6,7,8,9,10)\n",
    "print(\"Tuple Items = \", Tuple)\n",
    "\n",
    "print(\"\\nThe Even Numbers in this Tuple are:\")\n",
    "for i in range(len(Tuple)):\n",
    "    if(Tuple[i] % 2 == 0):\n",
    "        print(Tuple[i], end = \" | \")"
   ]
  },
  {
   "cell_type": "markdown",
   "id": "decded7e-35dc-4d53-a385-4b3c4c745be3",
   "metadata": {},
   "source": [
    "11. Create a tuple of odd numbers from 1 to 10."
   ]
  },
  {
   "cell_type": "code",
   "execution_count": 40,
   "id": "e9b623ca-a49e-4a6a-92cd-901df8ed59a9",
   "metadata": {},
   "outputs": [
    {
     "name": "stdout",
     "output_type": "stream",
     "text": [
      "Tuple Items =  (1, 2, 3, 4, 5, 6, 7, 8, 9, 10)\n",
      "\n",
      "The Odd Numbers in this Tuple are:\n",
      "1 | 3 | 5 | 7 | 9 | "
     ]
    }
   ],
   "source": [
    "# Tuple Odd Numbers\n",
    "Tuple = (1,2,3,4,5,6,7,8,9,10)\n",
    "print(\"Tuple Items = \", Tuple)\n",
    "\n",
    "print(\"\\nThe Odd Numbers in this Tuple are:\")\n",
    "for i in range(len(Tuple)):\n",
    "    if(Tuple[i] % 2 != 0):\n",
    "        print(Tuple[i], end = \" | \")"
   ]
  },
  {
   "cell_type": "markdown",
   "id": "1ea346e5-4ae4-4264-b882-6c23960852b3",
   "metadata": {},
   "source": [
    "12. Concatenate two tuples."
   ]
  },
  {
   "cell_type": "code",
   "execution_count": 49,
   "id": "a5bbbacb-8c42-4b5a-9544-7425f67ab633",
   "metadata": {},
   "outputs": [
    {
     "name": "stdout",
     "output_type": "stream",
     "text": [
      "Concatinated Tuple :  (1, 2, 3, 5, 6, 0)\n"
     ]
    }
   ],
   "source": [
    "Tuple1 = (1,2,3)\n",
    "Tuple2 = (5,6,0)\n",
    "Concatinated_Tuple = Tuple1+Tuple2\n",
    "print(\"Concatinated Tuple : \",Concatinated_Tuple)"
   ]
  },
  {
   "cell_type": "markdown",
   "id": "c70a1a2f-c95a-4b8d-888d-17728a5fa005",
   "metadata": {},
   "source": [
    "13. Repeat a tuple three times."
   ]
  },
  {
   "cell_type": "code",
   "execution_count": 55,
   "id": "6b43c82d-c0ae-4b31-affe-744e909d7e7b",
   "metadata": {},
   "outputs": [
    {
     "name": "stdout",
     "output_type": "stream",
     "text": [
      "((1, 2, 3), (1, 2, 3), (1, 2, 3))\n"
     ]
    }
   ],
   "source": [
    "Tuple = (1,2,3)\n",
    "Repeat_Tuple = (Tuple,)*3\n",
    "print(Repeat_Tuple)"
   ]
  },
  {
   "cell_type": "markdown",
   "id": "85b963e9-2b7f-401e-9fba-58a1cce1c551",
   "metadata": {},
   "source": [
    "14. Check if a tuple is empty."
   ]
  },
  {
   "cell_type": "code",
   "execution_count": 76,
   "id": "0bfcd556-36d1-4ccb-80a5-e934aab4248d",
   "metadata": {},
   "outputs": [
    {
     "name": "stdout",
     "output_type": "stream",
     "text": [
      "Tuple is not empty\n"
     ]
    }
   ],
   "source": [
    "Tuple = ()\n",
    "if not Tuple:\n",
    "    print(\"Tuple is empty\")\n",
    "else:\n",
    "    print('Tuple is not empty')"
   ]
  },
  {
   "cell_type": "markdown",
   "id": "ec258120-1702-4f1a-bf13-01f64d93c00e",
   "metadata": {},
   "source": [
    "15. Create a nested tuple."
   ]
  },
  {
   "cell_type": "code",
   "execution_count": 79,
   "id": "ce64e51a-c77c-49c5-ba30-4b1c6440dc6f",
   "metadata": {},
   "outputs": [
    {
     "name": "stdout",
     "output_type": "stream",
     "text": [
      "(1, 2, 3, (5, 4, 7), (8, 9, (10, 11)))\n"
     ]
    }
   ],
   "source": [
    "#zCreate a nested tuple.\n",
    "Nested_Tuple = (1,2,3,(5,4,7),(8,9,(10,11)))\n",
    "print(Nested_Tuple)"
   ]
  },
  {
   "cell_type": "markdown",
   "id": "1cb8e82b-c761-4659-8933-dad29837d726",
   "metadata": {},
   "source": [
    "16. Access the first element of a nested tuple."
   ]
  },
  {
   "cell_type": "code",
   "execution_count": 86,
   "id": "a8e44bb4-413e-4922-81a2-f1fec63a9484",
   "metadata": {},
   "outputs": [
    {
     "name": "stdout",
     "output_type": "stream",
     "text": [
      "[['d', 'd', 'd', 'd', 'd', 'd', 'd', 'd', 'd', 'd'], ['d', 'd', 'd', 'd', 'd', 'd']]\n"
     ]
    }
   ],
   "source": [
    "Nested_Tuple = [['d51', 'd874', 'd486', 'd329', 'd1328', 'd1268', 'd114', 'd792', 'd717', 'd522'], ['d51', 'd874', 'd486', 'd329', 'd1328', 'd1268']]\n",
    "new = [[item[0] for item in inner] for inner in Nested_Tuple]\n",
    "print(new)"
   ]
  },
  {
   "cell_type": "markdown",
   "id": "427440ca-b3eb-4365-b8b5-399d798164f3",
   "metadata": {},
   "source": [
    "17. Create a tuple with a single element."
   ]
  },
  {
   "cell_type": "code",
   "execution_count": 93,
   "id": "8456d13d-2931-4057-b14c-c35d38fb5b61",
   "metadata": {},
   "outputs": [
    {
     "name": "stdout",
     "output_type": "stream",
     "text": [
      "tuple with a single element:  1\n"
     ]
    }
   ],
   "source": [
    "Tuple = (1)\n",
    "print(\"tuple with a single element: \",Tuple)"
   ]
  },
  {
   "cell_type": "markdown",
   "id": "a8b3d1e2-091e-4bf2-ac6c-f0f75311fd4b",
   "metadata": {},
   "source": [
    "18. Compare two tuples."
   ]
  },
  {
   "cell_type": "code",
   "execution_count": 103,
   "id": "0a4d4cee-ca11-455d-a708-a5a80100064c",
   "metadata": {},
   "outputs": [
    {
     "name": "stdout",
     "output_type": "stream",
     "text": [
      "The original tuple 1 :  (1, 2, 3)\n",
      "The original tuple 2 :  (0, 1, 0)\n",
      "Are all elements in second tuple greater than first ? : False\n"
     ]
    }
   ],
   "source": [
    "tuple1 = (1, 2, 3)\n",
    "tuple2 = (0, 1, 0)\n",
    "print(\"The original tuple 1 : \" ,tuple1) \n",
    "print(\"The original tuple 2 : \" ,tuple2) \n",
    "res = False\n",
    "if tuple2 > tuple1:\n",
    "    res = True\n",
    "# printing result\n",
    "print(\"Are all elements in second tuple greater than first ? : \" + str(res))"
   ]
  },
  {
   "cell_type": "markdown",
   "id": "b1810adc-86e0-4554-9821-43b8f9c6530c",
   "metadata": {},
   "source": [
    "19. Delete a tuple."
   ]
  },
  {
   "cell_type": "code",
   "execution_count": 113,
   "id": "b8818b69-cca4-4eee-bcf8-73a9761c95a2",
   "metadata": {},
   "outputs": [
    {
     "ename": "NameError",
     "evalue": "name 'Tuple' is not defined",
     "output_type": "error",
     "traceback": [
      "\u001b[1;31m---------------------------------------------------------------------------\u001b[0m",
      "\u001b[1;31mNameError\u001b[0m                                 Traceback (most recent call last)",
      "Cell \u001b[1;32mIn[113], line 3\u001b[0m\n\u001b[0;32m      1\u001b[0m Tuple \u001b[38;5;241m=\u001b[39m (\u001b[38;5;241m1\u001b[39m,\u001b[38;5;241m2\u001b[39m)\n\u001b[0;32m      2\u001b[0m \u001b[38;5;28;01mdel\u001b[39;00m Tuple\n\u001b[1;32m----> 3\u001b[0m \u001b[38;5;28mprint\u001b[39m(Tuple)\n",
      "\u001b[1;31mNameError\u001b[0m: name 'Tuple' is not defined"
     ]
    }
   ],
   "source": [
    "Tuple = (1,2)\n",
    "del Tuple\n",
    "print(Tuple)"
   ]
  },
  {
   "cell_type": "markdown",
   "id": "f4de6baa-9a37-49b2-b571-b793fbdb22b7",
   "metadata": {},
   "source": [
    "20. Slice a tuple."
   ]
  },
  {
   "cell_type": "code",
   "execution_count": 116,
   "id": "d7b702eb-97e1-47c6-a73b-ae4fae2bac9b",
   "metadata": {},
   "outputs": [
    {
     "name": "stdout",
     "output_type": "stream",
     "text": [
      "(3, 4, 2, 890)\n"
     ]
    }
   ],
   "source": [
    "Tuple = (22, 3, 45, 4, 2.4, 2, 56, 890, 1)\n",
    "print(Tuple[1:9:2])"
   ]
  },
  {
   "cell_type": "markdown",
   "id": "ac880360-ede6-4ff9-8bf7-edd4f31fd0c6",
   "metadata": {},
   "source": [
    "21. Find the maximum value in a tuple."
   ]
  },
  {
   "cell_type": "code",
   "execution_count": 131,
   "id": "2f3a0e34-d108-443c-9eb3-58b073dcde05",
   "metadata": {},
   "outputs": [
    {
     "name": "stdout",
     "output_type": "stream",
     "text": [
      "Maximum value in a tuple:  890\n"
     ]
    }
   ],
   "source": [
    "Tuple = (22, 3, 45, 4, 2.4, 2, 56, 890, 1)\n",
    "Max_Value=max(Tuple)\n",
    "print(\"Maximum value in a tuple: \",Max_Value)"
   ]
  },
  {
   "cell_type": "markdown",
   "id": "b947569b-533e-4e85-acb4-d63e5c218941",
   "metadata": {},
   "source": [
    "22. Find the minimum value in a tuple."
   ]
  },
  {
   "cell_type": "code",
   "execution_count": 134,
   "id": "c97a01f7-ae3f-450c-a5af-0830e3127241",
   "metadata": {},
   "outputs": [
    {
     "name": "stdout",
     "output_type": "stream",
     "text": [
      "Minimum value in a tuple:  1\n"
     ]
    }
   ],
   "source": [
    "Tuple = (22, 3, 45, 4, 2.4, 2, 56, 890, 1)\n",
    "Min_Value=min(Tuple)\n",
    "print(\"Minimum value in a tuple: \",Min_Value)"
   ]
  },
  {
   "cell_type": "markdown",
   "id": "4979ad2a-6d13-40de-ae68-31bc54aff440",
   "metadata": {},
   "source": [
    "23. Convert a string to a tuple of characters."
   ]
  },
  {
   "cell_type": "code",
   "execution_count": 139,
   "id": "65be07cc-f389-483d-b64c-c5d562bfd7d5",
   "metadata": {},
   "outputs": [
    {
     "name": "stdout",
     "output_type": "stream",
     "text": [
      "Converted string into the tuple is:  ('P', 'W', ' ', 'S', 'K', 'I', 'L', 'L', 'S')\n"
     ]
    }
   ],
   "source": [
    "String = 'PW SKILLS'\n",
    "Tuple = tuple(String)\n",
    "print(\"Converted string into the tuple is: \",Tuple)"
   ]
  },
  {
   "cell_type": "markdown",
   "id": "16de285a-c6f5-4ee1-a776-1e18a3be424b",
   "metadata": {},
   "source": [
    "24. Convert a tuple of characters to a string."
   ]
  },
  {
   "cell_type": "code",
   "execution_count": 148,
   "id": "7ef0223e-95c4-40aa-b0ae-6667f314ebcb",
   "metadata": {},
   "outputs": [
    {
     "name": "stdout",
     "output_type": "stream",
     "text": [
      "Converted tuple into the string is:  PW SKILLS\n"
     ]
    }
   ],
   "source": [
    "Tuple = ('P', 'W', ' ', 'S', 'K', 'I', 'L', 'L', 'S')\n",
    "String = ''.join(Tuple)\n",
    "print(\"Converted tuple into the string is: \",String)"
   ]
  },
  {
   "cell_type": "markdown",
   "id": "2c29937a-b474-4141-aaa5-1f93919d61a7",
   "metadata": {},
   "source": [
    "25. Create a tuple from multiple data types."
   ]
  },
  {
   "cell_type": "code",
   "execution_count": 151,
   "id": "4951ec99-2866-4ef8-b20a-e65eda3954f5",
   "metadata": {},
   "outputs": [
    {
     "name": "stdout",
     "output_type": "stream",
     "text": [
      "('PW', 'Skills', 2024, 20000.0)\n"
     ]
    }
   ],
   "source": [
    "#tuple from multiple data types.\n",
    "Tuple = ('PW', 'Skills', 2024, 20000.0,)\n",
    "print(Tuple)"
   ]
  },
  {
   "cell_type": "markdown",
   "id": "a5bf76c7-edfc-4cda-b600-3942940e113b",
   "metadata": {},
   "source": [
    "26. Check if two tuples are identical."
   ]
  },
  {
   "cell_type": "code",
   "execution_count": 158,
   "id": "8869ae7d-929e-4e23-9965-d6bdd63a74f7",
   "metadata": {},
   "outputs": [
    {
     "name": "stdout",
     "output_type": "stream",
     "text": [
      "The original list 1 : [(10, 4), (2, 5)]\n",
      "The original list 2 : [(10, 4), (2, 5)]\n",
      "Yes! tuple lists is identical\n"
     ]
    }
   ],
   "source": [
    "# initialize list of tuples \n",
    "test_list1 = [(10, 4), (2, 5)] \n",
    "test_list2 = [(10, 4), (2, 5)] \n",
    "\n",
    "# printing original tuples lists \n",
    "print(\"The original list 1 : \" + str(test_list1)) \n",
    "print(\"The original list 2 : \" + str(test_list2)) \n",
    "\n",
    "# Check if two list of tuples are identical \n",
    "# using == operator \n",
    "if test_list1 == test_list2:\n",
    "    print(\"Yes! tuple lists is identical\")\n",
    "else:\n",
    "    print(\"Oh No! tuple lists is not identical\")"
   ]
  },
  {
   "cell_type": "markdown",
   "id": "7a066520-43ad-4d6f-b4ed-9b5f8decb975",
   "metadata": {},
   "source": [
    "27. Sort the elements of a tuple."
   ]
  },
  {
   "cell_type": "code",
   "execution_count": 169,
   "id": "7114a3b2-2847-4891-86f7-36d25c4eb2ca",
   "metadata": {},
   "outputs": [
    {
     "name": "stdout",
     "output_type": "stream",
     "text": [
      "The original tuple is : (22, 3, 45, 4, 2.4, 2, 56, 890, 1)\n",
      "Sorted Tuple:  [1, 2, 2.4, 3, 4, 22, 45, 56, 890]\n"
     ]
    }
   ],
   "source": [
    "Tuple = (22, 3, 45, 4, 2.4, 2, 56, 890, 1)\n",
    "print(\"The original tuple :\", Tuple)\n",
    "Sorted_Tuple = sorted(Tuple)\n",
    "print(\"Sorted Tuple: \",Sorted_Tuple)"
   ]
  },
  {
   "cell_type": "markdown",
   "id": "bea6acdd-bf62-4e6e-9aa0-92f3039d328b",
   "metadata": {},
   "source": [
    "28. Convert a tuple of integers to a tuple of strings."
   ]
  },
  {
   "cell_type": "code",
   "execution_count": 186,
   "id": "48c695d1-fb9e-456d-9207-656c3db9e68f",
   "metadata": {},
   "outputs": [
    {
     "name": "stdout",
     "output_type": "stream",
     "text": [
      "2234542.42568901\n"
     ]
    }
   ],
   "source": [
    "Tuple = (22, 3, 45, 4, 2.4, 2, 56, 890, 1)\n",
    "Tuple_Str =''.join(map(str, Tuple))\n",
    "print(Tuple_Str)"
   ]
  },
  {
   "cell_type": "markdown",
   "id": "6948df21-4f20-42c8-8268-8afee5bb2c50",
   "metadata": {},
   "source": [
    "29. Convert a tuple of strings to a tuple of integers."
   ]
  },
  {
   "cell_type": "code",
   "execution_count": 199,
   "id": "a777ee32-4f3c-4f82-91c2-fce2a0e070a0",
   "metadata": {},
   "outputs": [
    {
     "name": "stdout",
     "output_type": "stream",
     "text": [
      "(22, 3, 45, 4, 24, 2, 56, 890, 1)\n"
     ]
    }
   ],
   "source": [
    "Tuple = ('22', '3', '45', '4', '24', '2', '56', '890', '1')\n",
    "Tuple_Int =tuple(map(int, Tuple))\n",
    "print(Tuple_Int)"
   ]
  },
  {
   "cell_type": "markdown",
   "id": "76f8899f-455e-4084-a7f9-aa3a2490d7f4",
   "metadata": {},
   "source": [
    "30. Merge two tuples."
   ]
  },
  {
   "cell_type": "code",
   "execution_count": 206,
   "id": "11af428d-bfb4-463e-912f-214be31d5d1d",
   "metadata": {},
   "outputs": [
    {
     "name": "stdout",
     "output_type": "stream",
     "text": [
      "Marged Tuple :  (1, 2, 3, 5, 6, 0)\n",
      "('a', 'b', 'c', 'd', 'e', 'f')\n"
     ]
    }
   ],
   "source": [
    "# Approch-1\n",
    "Tuple1 = (1,2,3)\n",
    "Tuple2 = (5,6,0)\n",
    "Marge_Tuple = Tuple1+Tuple2\n",
    "print(\"Marged Tuple : \",Marge_Tuple)\n",
    "\n",
    "# Approch-2\n",
    "\n",
    "tuple1 = ('a', 'b', 'c')\n",
    "tuple2 = ('d', 'e', 'f')\n",
    "\n",
    "# The asterisk (*) is used to unpack the elements of the tuples which are then repacked into a new tuple.\n",
    "merged_tuple = (*tuple1, *tuple2)   \n",
    "print(merged_tuple)"
   ]
  },
  {
   "cell_type": "markdown",
   "id": "6d000777-81f2-452c-88fd-e4f228b14686",
   "metadata": {},
   "source": [
    "31. Flatten a nested tuple."
   ]
  },
  {
   "cell_type": "code",
   "execution_count": 1,
   "id": "39476a57-8bef-4b78-ac1c-df020f48a0bd",
   "metadata": {},
   "outputs": [
    {
     "name": "stdout",
     "output_type": "stream",
     "text": [
      "The original tuple : ((4, 5), ((4, 7), (8, 9), (10, 11)), ((9, 10), (3, 4)))\n",
      "The flattened tuple : ((4, 5), (4, 7), (8, 9), (10, 11), (9, 10), (3, 4))\n"
     ]
    }
   ],
   "source": [
    "# Python3 code to demonstrate working of \n",
    "# Flatten Nested Tuples\n",
    "# Using recursion + isinstance()\n",
    "\n",
    "# helper function\n",
    "def flatten(test_tuple):\n",
    "\t\n",
    "\tif isinstance(test_tuple, tuple) and len(test_tuple) == 2 and not isinstance(test_tuple[0], tuple):\n",
    "\t\tres = [test_tuple]\n",
    "\t\treturn tuple(res)\n",
    "\n",
    "\tres = []\n",
    "\tfor sub in test_tuple:\n",
    "\t\tres += flatten(sub)\n",
    "\treturn tuple(res)\n",
    "\n",
    "# initializing tuple\n",
    "test_tuple = ((4, 5), ((4, 7), (8, 9), (10, 11)), (((9, 10), (3, 4))))\n",
    "\n",
    "# printing original tuple\n",
    "print(\"The original tuple : \" + str(test_tuple))\n",
    "\n",
    "# Flatten Nested Tuples\n",
    "# Using recursion + isinstance()\n",
    "res = flatten(test_tuple)\n",
    "\n",
    "# printing result \n",
    "print(\"The flattened tuple : \" + str(res)) \n"
   ]
  },
  {
   "cell_type": "markdown",
   "id": "2f0c48d9-194a-4f56-9083-90c45cf8be83",
   "metadata": {},
   "source": [
    "32. Create a tuple of the first 5 prime numbers."
   ]
  },
  {
   "cell_type": "code",
   "execution_count": 2,
   "id": "49960c17-d351-41f4-b442-7899e026873d",
   "metadata": {},
   "outputs": [
    {
     "name": "stdout",
     "output_type": "stream",
     "text": [
      "Tuple of the first 5 prime numbers: (2, 3, 5, 7, 11)\n"
     ]
    }
   ],
   "source": [
    "# Function to check if a number is prime\n",
    "def is_prime(num):\n",
    "    if num <= 1:\n",
    "        return False\n",
    "    for i in range(2, int(num ** 0.5) + 1):\n",
    "        if num % i == 0:\n",
    "            return False\n",
    "    return True\n",
    "\n",
    "# Generate the first 5 prime numbers\n",
    "prime_numbers_list = [num for num in range(2, 100) if is_prime(num)][:5]\n",
    "\n",
    "# Convert the list to a tuple\n",
    "prime_numbers_tuple = tuple(prime_numbers_list)\n",
    "\n",
    "# Print the tuple of prime numbers\n",
    "print(\"Tuple of the first 5 prime numbers:\", prime_numbers_tuple)"
   ]
  },
  {
   "cell_type": "markdown",
   "id": "2ce12602-4efc-4354-b5ce-e9fa505ff5bd",
   "metadata": {},
   "source": [
    "33. Check if a tuple is a palindrome."
   ]
  },
  {
   "cell_type": "code",
   "execution_count": 5,
   "id": "a748e737-1fd0-4b13-a85e-026ff7b209cf",
   "metadata": {},
   "outputs": [
    {
     "name": "stdout",
     "output_type": "stream",
     "text": [
      "palindrome_tuple is a palindrome: True\n",
      "non_palindrome_tuple is a palindrome: False\n"
     ]
    }
   ],
   "source": [
    "# Function to check if a tuple is a palindrome\n",
    "def is_palindrome(tup):\n",
    "    return tup == tup[::-1]\n",
    "\n",
    "# Create tuples for testing\n",
    "palindrome_tuple = (1, 2, 3, 2, 1)\n",
    "non_palindrome_tuple = (1, 2, 3, 4, 5)\n",
    "\n",
    "# Check if the tuples are palindromes\n",
    "is_palindrome1 = is_palindrome(palindrome_tuple)\n",
    "is_palindrome2 = is_palindrome(non_palindrome_tuple)\n",
    "\n",
    "# Print the results\n",
    "print(\"palindrome_tuple is a palindrome:\", is_palindrome1)\n",
    "print(\"non_palindrome_tuple is a palindrome:\", is_palindrome2)"
   ]
  },
  {
   "cell_type": "markdown",
   "id": "e6895413-b002-40c0-aea6-0ace176785ef",
   "metadata": {},
   "source": [
    "34. Create a tuple of squares of numbers from 1 to 5."
   ]
  },
  {
   "cell_type": "code",
   "execution_count": 9,
   "id": "2c9db2bd-9ff9-4962-9886-e9df1eb292c2",
   "metadata": {},
   "outputs": [
    {
     "name": "stdout",
     "output_type": "stream",
     "text": [
      "Tuple of squares: (1, 4, 9, 16, 25)\n"
     ]
    }
   ],
   "source": [
    "# Create a tuple of squares using a list comprehension\n",
    "squares_tuple = tuple(x ** 2 for x in range(1, 6))\n",
    "\n",
    "# Print the tuple of squares\n",
    "print(\"Tuple of squares:\", squares_tuple)"
   ]
  },
  {
   "cell_type": "markdown",
   "id": "60a86309-e2a8-45cc-b3a4-b40324ff9e19",
   "metadata": {},
   "source": [
    "35. Filter out all even numbers from a tuple."
   ]
  },
  {
   "cell_type": "code",
   "execution_count": 12,
   "id": "e135add6-5b06-4346-8291-d0c674c84040",
   "metadata": {},
   "outputs": [
    {
     "name": "stdout",
     "output_type": "stream",
     "text": [
      "Filtered tuple: (1, 3, 5, 7, 9)\n"
     ]
    }
   ],
   "source": [
    "# Create a tuple\n",
    "original_tuple = (1, 2, 3, 4, 5, 6, 7, 8, 9, 10)\n",
    "\n",
    "# Filter out even numbers using a list comprehension\n",
    "filtered_tuple = tuple(num for num in original_tuple if num % 2 != 0)\n",
    "\n",
    "# Print the filtered tuple\n",
    "print(\"Filtered tuple:\", filtered_tuple)"
   ]
  },
  {
   "cell_type": "markdown",
   "id": "dc3ae55f-db15-4cdd-8daa-52d0472dea4e",
   "metadata": {},
   "source": [
    "36. Multiply all elements in a tuple by 2."
   ]
  },
  {
   "cell_type": "code",
   "execution_count": 15,
   "id": "f6387e9b-312f-454d-9475-cf1a4496b9b6",
   "metadata": {},
   "outputs": [
    {
     "name": "stdout",
     "output_type": "stream",
     "text": [
      "Doubled tuple: (2, 4, 6, 8, 10)\n"
     ]
    }
   ],
   "source": [
    "# Create a tuple\n",
    "original_tuple = (1, 2, 3, 4, 5)\n",
    "\n",
    "# Multiply all elements by 2 using a list comprehension and convert to a tuple\n",
    "doubled_tuple = tuple(num * 2 for num in original_tuple)\n",
    "\n",
    "# Print the doubled tuple\n",
    "print(\"Doubled tuple:\", doubled_tuple)"
   ]
  },
  {
   "cell_type": "markdown",
   "id": "5a1de5dd-9c25-49b5-a7ba-82810dc30acd",
   "metadata": {},
   "source": [
    "37. Create a tuple of random numbers."
   ]
  },
  {
   "cell_type": "code",
   "execution_count": 17,
   "id": "6fc5d272-c17e-40e1-b3c1-769eb685d99d",
   "metadata": {},
   "outputs": [
    {
     "name": "stdout",
     "output_type": "stream",
     "text": [
      "Random tuple: (88, 12, 85, 75, 87, 46, 56, 84, 18, 27)\n"
     ]
    }
   ],
   "source": [
    "import random\n",
    "\n",
    "# Create a tuple of random numbers using a list comprehension\n",
    "random_tuple = tuple(random.randint(1, 100) for _ in range(10))  # Generating 10 random numbers between 1 and 100\n",
    "\n",
    "# Print the tuple of random numbers\n",
    "print(\"Random tuple:\", random_tuple)"
   ]
  },
  {
   "cell_type": "markdown",
   "id": "1daa8c07-92ad-4f92-9c60-269802c3af98",
   "metadata": {},
   "source": [
    "38. Check if a tuple is sorted."
   ]
  },
  {
   "cell_type": "code",
   "execution_count": 20,
   "id": "2f4b3b0d-baec-48db-9446-06547b8607c7",
   "metadata": {},
   "outputs": [
    {
     "name": "stdout",
     "output_type": "stream",
     "text": [
      "sorted_tuple is sorted: True\n",
      "unsorted_tuple is sorted: False\n"
     ]
    }
   ],
   "source": [
    "# Function to check if a tuple is sorted\n",
    "def is_sorted(tup):\n",
    "    for i in range(len(tup) - 1):\n",
    "        if tup[i] > tup[i + 1]:\n",
    "            return False\n",
    "    return True\n",
    "\n",
    "# Create tuples for testing\n",
    "sorted_tuple = (1, 2, 3, 4, 5)\n",
    "unsorted_tuple = (5, 3, 1, 4, 2)\n",
    "\n",
    "# Check if the tuples are sorted\n",
    "is_sorted1 = is_sorted(sorted_tuple)\n",
    "is_sorted2 = is_sorted(unsorted_tuple)\n",
    "\n",
    "# Print the results\n",
    "print(\"sorted_tuple is sorted:\", is_sorted1)\n",
    "print(\"unsorted_tuple is sorted:\", is_sorted2)"
   ]
  },
  {
   "cell_type": "markdown",
   "id": "693b0348-6b80-47ff-bafc-ac809b5fa0ec",
   "metadata": {},
   "source": [
    "39. Rotate a tuple to the left by `n` positions."
   ]
  },
  {
   "cell_type": "code",
   "execution_count": 27,
   "id": "30f7ad92-41ad-46d8-bc7f-0c1d29051b32",
   "metadata": {},
   "outputs": [
    {
     "name": "stdout",
     "output_type": "stream",
     "text": [
      "(3, 4, 5, 1, 2)\n"
     ]
    }
   ],
   "source": [
    "def rotate_tuple_left(tup, n):\n",
    "    n = n % len(tup)  # Ensure n is within the range of tuple length\n",
    "    rotated_tuple = tup[n:] + tup[:n]  # Rotate the tuple\n",
    "    return rotated_tuple\n",
    "\n",
    "# Example tuple\n",
    "my_tuple = (1, 2, 3, 4, 5)\n",
    "n_positions = 2\n",
    "result = rotate_tuple_left(my_tuple, n_positions)\n",
    "print(result)"
   ]
  },
  {
   "cell_type": "markdown",
   "id": "77b6c7f3-faea-42f4-8abd-083868f62e15",
   "metadata": {},
   "source": [
    "40. Rotate a tuple to the right by `n` positions."
   ]
  },
  {
   "cell_type": "code",
   "execution_count": 30,
   "id": "bdb6436d-2b5f-4467-a627-4e366defaa70",
   "metadata": {},
   "outputs": [
    {
     "name": "stdout",
     "output_type": "stream",
     "text": [
      "(4, 5, 1, 2, 3)\n"
     ]
    }
   ],
   "source": [
    "def rotate_tuple_right(tup, n):\n",
    "    n = n % len(tup)  # Ensure n is within the range of tuple length\n",
    "    rotated_tuple = tup[-n:] + tup[:-n]  # Rotate the tuple\n",
    "    return rotated_tuple\n",
    "\n",
    "# Example tuple\n",
    "my_tuple = (1, 2, 3, 4, 5)\n",
    "n_positions = 2\n",
    "result = rotate_tuple_right(my_tuple, n_positions)\n",
    "print(result)"
   ]
  },
  {
   "cell_type": "markdown",
   "id": "ee583cca-e38c-4a14-bbf0-dbbb793cb90d",
   "metadata": {},
   "source": [
    "41. Create a tuple of the first 5 Fibonacci numbers."
   ]
  },
  {
   "cell_type": "code",
   "execution_count": 33,
   "id": "e996fe80-8e62-4c9c-8cee-cd8b8b9b0546",
   "metadata": {},
   "outputs": [
    {
     "name": "stdout",
     "output_type": "stream",
     "text": [
      "(0, 1, 1, 2, 3)\n"
     ]
    }
   ],
   "source": [
    "# Define a function to generate the first n Fibonacci numbers\n",
    "def generate_fibonacci(n):\n",
    "    fibonacci = [0, 1]  # Initialize the list with the first two Fibonacci numbers\n",
    "    while len(fibonacci) < n:  # Continue generating Fibonacci numbers until the list has n elements\n",
    "        next_number = fibonacci[-1] + fibonacci[-2]  # Calculate the next Fibonacci number\n",
    "        fibonacci.append(next_number)  # Add the next Fibonacci number to the list\n",
    "    return tuple(fibonacci)  # Convert the list to a tuple and return it\n",
    "\n",
    "# Call the generate_fibonacci function to create a tuple of the first 5 Fibonacci numbers\n",
    "fibonacci_tuple = generate_fibonacci(5)\n",
    "\n",
    "# Print the resulting tuple\n",
    "print(fibonacci_tuple)"
   ]
  },
  {
   "cell_type": "markdown",
   "id": "67fd0a9d-9401-4ba3-b006-fb341bd4143e",
   "metadata": {},
   "source": [
    "42. Create a tuple from user input."
   ]
  },
  {
   "cell_type": "code",
   "execution_count": 36,
   "id": "62775cfd-b543-4cc7-9a55-4b3c02c8e217",
   "metadata": {},
   "outputs": [
    {
     "name": "stdin",
     "output_type": "stream",
     "text": [
      "Enter elements separated by commas:  RAJKUMAR, RAJBHAR\n"
     ]
    },
    {
     "name": "stdout",
     "output_type": "stream",
     "text": [
      "User input tuple: ('RAJKUMAR', ' RAJBHAR')\n"
     ]
    }
   ],
   "source": [
    "# Taking user input for creating a tuple\n",
    "input_str = input(\"Enter elements separated by commas: \")\n",
    "\n",
    "# Splitting the input string into a list of strings\n",
    "input_list = input_str.split(',')\n",
    "\n",
    "# Converting the list of strings to a tuple\n",
    "user_tuple = tuple(input_list)\n",
    "\n",
    "# Printing the created tuple\n",
    "print(\"User input tuple:\", user_tuple)"
   ]
  },
  {
   "cell_type": "markdown",
   "id": "fb31fd39-5b57-498e-8165-38cccaaac4bd",
   "metadata": {},
   "source": [
    "43. Swap two elements in a tuple."
   ]
  },
  {
   "cell_type": "code",
   "execution_count": 39,
   "id": "c85a98a9-438e-418f-8edf-80c0d3d00651",
   "metadata": {},
   "outputs": [
    {
     "name": "stdout",
     "output_type": "stream",
     "text": [
      "Swapped tuple: (1, 4, 3, 2, 5)\n"
     ]
    }
   ],
   "source": [
    "# Create a tuple\n",
    "my_tuple = (1, 2, 3, 4, 5)\n",
    "\n",
    "# Swap elements at indices 1 and 3\n",
    "index1 = 1\n",
    "index2 = 3\n",
    "swapped_tuple = tuple(\n",
    "    my_tuple[i] if i not in (index1, index2) else\n",
    "    my_tuple[index2] if i == index1 else\n",
    "    my_tuple[index1]\n",
    "    for i in range(len(my_tuple))\n",
    ")\n",
    "\n",
    "# Print the swapped tuple\n",
    "print(\"Swapped tuple:\", swapped_tuple)"
   ]
  },
  {
   "cell_type": "markdown",
   "id": "d92f3896-ac01-44b7-a9a4-dd65533d107a",
   "metadata": {},
   "source": [
    "44. Reverse the elements of a tuple."
   ]
  },
  {
   "cell_type": "code",
   "execution_count": 42,
   "id": "68d46138-b1c8-439a-bab8-6e1099818b9c",
   "metadata": {},
   "outputs": [
    {
     "name": "stdout",
     "output_type": "stream",
     "text": [
      "Reversed tuple: (5, 4, 3, 2, 1)\n"
     ]
    }
   ],
   "source": [
    "# Create a tuple\n",
    "my_tuple = (1, 2, 3, 4, 5)\n",
    "\n",
    "# Reverse the elements using slicing\n",
    "reversed_tuple = my_tuple[::-1]\n",
    "\n",
    "# Print the reversed tuple\n",
    "print(\"Reversed tuple:\", reversed_tuple)"
   ]
  },
  {
   "cell_type": "markdown",
   "id": "8b27d4d9-d1bc-45a4-80d8-f883f940d9d3",
   "metadata": {},
   "source": [
    "45. Create a tuple of the first `n` powers of 2."
   ]
  },
  {
   "cell_type": "code",
   "execution_count": 45,
   "id": "74a44432-ecc8-4290-adbd-a281bbdebc7a",
   "metadata": {},
   "outputs": [
    {
     "name": "stdout",
     "output_type": "stream",
     "text": [
      "Tuple of the first 5 powers of 2: (1, 2, 4, 8, 16)\n"
     ]
    }
   ],
   "source": [
    "# Define the value of n\n",
    "n = 5\n",
    "\n",
    "# Create a tuple of the first n powers of 2 using a list comprehension\n",
    "powers_of_2_tuple = tuple(2 ** i for i in range(n))\n",
    "\n",
    "# Print the tuple of powers of 2\n",
    "print(\"Tuple of the first\", n, \"powers of 2:\", powers_of_2_tuple)"
   ]
  },
  {
   "cell_type": "markdown",
   "id": "6a7d3379-ab92-44bd-aaaf-1459218abc03",
   "metadata": {},
   "source": [
    "46. Find the longest string in a tuple of strings."
   ]
  },
  {
   "cell_type": "code",
   "execution_count": 48,
   "id": "d2f23c86-070e-41c0-8f59-6330e9620620",
   "metadata": {},
   "outputs": [
    {
     "name": "stdout",
     "output_type": "stream",
     "text": [
      "Longest string: watermelon\n"
     ]
    }
   ],
   "source": [
    "# Create a tuple of strings\n",
    "string_tuple = (\"apple\", \"banana\", \"grape\", \"kiwi\", \"watermelon\")\n",
    "\n",
    "# Find the longest string in the tuple\n",
    "longest_string = max(string_tuple, key=len)\n",
    "\n",
    "# Print the longest string\n",
    "print(\"Longest string:\", longest_string)"
   ]
  },
  {
   "cell_type": "markdown",
   "id": "6aaf3c57-c567-48de-9620-47d35cfba294",
   "metadata": {},
   "source": [
    "47. Find the shortest string in a tuple of strings."
   ]
  },
  {
   "cell_type": "code",
   "execution_count": 51,
   "id": "180573b9-deb8-4862-8ca0-5613e8f5882c",
   "metadata": {},
   "outputs": [
    {
     "name": "stdout",
     "output_type": "stream",
     "text": [
      "Shortest string: kiwi\n"
     ]
    }
   ],
   "source": [
    "# Create a tuple of strings\n",
    "string_tuple = (\"apple\", \"banana\", \"grape\", \"kiwi\", \"watermelon\")\n",
    "\n",
    "# Find the shortest string in the tuple\n",
    "shortest_string = min(string_tuple, key=len)\n",
    "\n",
    "# Print the shortest string\n",
    "print(\"Shortest string:\", shortest_string)"
   ]
  },
  {
   "cell_type": "markdown",
   "id": "325d867b-c21a-463b-b436-93b35fe97979",
   "metadata": {},
   "source": [
    "48. Create a tuple of the first `n` triangular numbers."
   ]
  },
  {
   "cell_type": "code",
   "execution_count": 54,
   "id": "b7033447-fbaa-4ee8-9c1f-648a65c0fd4c",
   "metadata": {},
   "outputs": [
    {
     "name": "stdout",
     "output_type": "stream",
     "text": [
      "Tuple of the first 5 triangular numbers: (1, 3, 6, 10, 15)\n"
     ]
    }
   ],
   "source": [
    "# Define the value of n\n",
    "n = 5\n",
    "\n",
    "# Create a tuple of the first n triangular numbers using a list comprehension\n",
    "triangular_numbers_tuple = tuple((i * (i + 1)) // 2 for i in range(1, n + 1))\n",
    "\n",
    "# Print the tuple of triangular numbers\n",
    "print(\"Tuple of the first\", n, \"triangular numbers:\", triangular_numbers_tuple)"
   ]
  },
  {
   "cell_type": "markdown",
   "id": "db106da5-aa5f-4832-820e-41aa89473078",
   "metadata": {},
   "source": [
    "49. Check if a tuple contains another tuple as a subsequence."
   ]
  },
  {
   "cell_type": "code",
   "execution_count": 57,
   "id": "4b38d791-0f7f-4906-b0f5-4233fe895d87",
   "metadata": {},
   "outputs": [
    {
     "name": "stdout",
     "output_type": "stream",
     "text": [
      "Main tuple contains subsequence tuple: True\n"
     ]
    }
   ],
   "source": [
    "# Function to check if a tuple contains another tuple as a subsequence\n",
    "def contains_subsequence(main_tuple, sub_tuple):\n",
    "    sub_length = len(sub_tuple)\n",
    "    for i in range(len(main_tuple) - sub_length + 1):\n",
    "        if main_tuple[i:i+sub_length] == sub_tuple:\n",
    "            return True\n",
    "    return False\n",
    "\n",
    "# Main tuple\n",
    "main_tuple = (1, 2, 3, 4, 5, 6, 7, 8, 9)\n",
    "\n",
    "# Subsequence tuple\n",
    "sub_tuple = (3, 4, 5)\n",
    "\n",
    "# Check if the main tuple contains the subsequence tuple\n",
    "contains_subseq = contains_subsequence(main_tuple, sub_tuple)\n",
    "\n",
    "# Print the result\n",
    "print(\"Main tuple contains subsequence tuple:\", contains_subseq)"
   ]
  },
  {
   "cell_type": "markdown",
   "id": "b1493afd-5fcf-4335-9a7b-d725e6ff7828",
   "metadata": {},
   "source": [
    "50. Create a tuple of alternating 1s and 0s of length `n`."
   ]
  },
  {
   "cell_type": "code",
   "execution_count": 83,
   "id": "f8915f17-3511-47e0-995b-e3f19903c15e",
   "metadata": {},
   "outputs": [
    {
     "name": "stdout",
     "output_type": "stream",
     "text": [
      "Tuple of alternating 1s and 0s: (0, 1, 0, 1, 0, 1, 0, 1, 0, 1)\n"
     ]
    }
   ],
   "source": [
    "# Define the value of n\n",
    "n = 10\n",
    "\n",
    "# Create a tuple of alternating 1s and 0s using a list comprehension\n",
    "alternating_tuple = tuple(i % 2 for i in range(n))\n",
    "\n",
    "# Print the tuple of alternating 1s and 0s\n",
    "print(\"Tuple of alternating 1s and 0s:\", alternating_tuple)"
   ]
  },
  {
   "cell_type": "markdown",
   "id": "eedb6773-c753-49f5-9de2-2e1dca550446",
   "metadata": {},
   "source": [
    "Set Based Practice Problem :"
   ]
  },
  {
   "cell_type": "markdown",
   "id": "34f7b4fa-501e-451a-a6c1-5ebfa1d3a098",
   "metadata": {},
   "source": [
    "1. Create a set with integers from 1 to 5."
   ]
  },
  {
   "cell_type": "code",
   "execution_count": 89,
   "id": "fa9b2746-a48a-477c-b878-4a3c8f590c10",
   "metadata": {},
   "outputs": [
    {
     "name": "stdout",
     "output_type": "stream",
     "text": [
      "{1, 2, 3, 4, 5}\n"
     ]
    }
   ],
   "source": [
    "# Step 1: Create an empty set\n",
    "my_set = set()\n",
    "\n",
    "# Step 2: Add integers from 1 to 5 to the set\n",
    "my_set.add(1)\n",
    "my_set.add(2)\n",
    "my_set.add(3)\n",
    "my_set.add(4)\n",
    "my_set.add(5)\n",
    "\n",
    "# Step 3: Print the final set\n",
    "print(my_set)## Set based problems:"
   ]
  },
  {
   "cell_type": "markdown",
   "id": "85757e53-f57e-4e56-b4a8-54811dafc9cb",
   "metadata": {},
   "source": [
    "2. Add an element to a set."
   ]
  },
  {
   "cell_type": "code",
   "execution_count": 92,
   "id": "03a20ccf-2bf1-48bf-b3f3-e6214776d4f9",
   "metadata": {},
   "outputs": [
    {
     "name": "stdout",
     "output_type": "stream",
     "text": [
      "Original set: {1, 2, 3, 4, 5}\n",
      "Set after adding element: {1, 2, 3, 4, 5, 6}\n"
     ]
    }
   ],
   "source": [
    "# Step 1: Create a set\n",
    "my_set = {1, 2, 3, 4, 5}\n",
    "\n",
    "# Step 2: Display the original set\n",
    "print(\"Original set:\", my_set)\n",
    "\n",
    "# Step 3: Add an element to the set\n",
    "element_to_add = 6\n",
    "my_set.add(element_to_add)\n",
    "\n",
    "# Step 4: Display the modified set\n",
    "print(\"Set after adding element:\", my_set)"
   ]
  },
  {
   "cell_type": "markdown",
   "id": "995a6566-ca52-4884-92c0-8481db7e0536",
   "metadata": {},
   "source": [
    "3. Remove an element from a set."
   ]
  },
  {
   "cell_type": "code",
   "execution_count": 98,
   "id": "6450c6d0-646d-401b-a69c-49bd3bc61475",
   "metadata": {},
   "outputs": [
    {
     "name": "stdout",
     "output_type": "stream",
     "text": [
      "Original Set: {1, 2, 3, 4, 5}\n",
      "Set after removing 3 : {1, 2, 4, 5}\n"
     ]
    }
   ],
   "source": [
    "# Step 1: Create a set with some elements\n",
    "my_set = {1, 2, 3, 4, 5}\n",
    "\n",
    "# Step 2: Print the original set\n",
    "print(\"Original Set:\", my_set)\n",
    "\n",
    "# Step 3: Choose an element to remove\n",
    "element_to_remove = 3\n",
    "\n",
    "# Step 4: Use the remove() method to remove the chosen element\n",
    "# Note: If the element is not present in the set, remove() raises a KeyError.\n",
    "my_set.remove(element_to_remove)\n",
    "\n",
    "# Step 5: Print the modified set after removal\n",
    "print(\"Set after removing\", element_to_remove, \":\", my_set)"
   ]
  },
  {
   "cell_type": "markdown",
   "id": "cee61c0d-34ea-4afe-ac93-4db0da373bba",
   "metadata": {},
   "source": [
    "4. Check if an element exists in a set."
   ]
  },
  {
   "cell_type": "code",
   "execution_count": 103,
   "id": "850a898c-869d-46d0-bfa1-f3b35de4d728",
   "metadata": {},
   "outputs": [
    {
     "name": "stdin",
     "output_type": "stream",
     "text": [
      "Enter the element to check:  4\n"
     ]
    },
    {
     "name": "stdout",
     "output_type": "stream",
     "text": [
      "4 does not exist in the set.\n"
     ]
    }
   ],
   "source": [
    "# Step 1: Create a set with some elements\n",
    "my_set = {1, 3, 5, 7, 9}\n",
    "\n",
    "# Step 2: Ask the user for the element they want to check\n",
    "element_to_check = int(input(\"Enter the element to check: \"))\n",
    "\n",
    "# Step 3: Use the \"in\" keyword to check if the element exists in the set\n",
    "if element_to_check in my_set:\n",
    "    # Step 4: If the element exists in the set, print a message\n",
    "    print(f\"{element_to_check} exists in the set.\")\n",
    "else:\n",
    "    # Step 5: If the element does not exist in the set, print a message\n",
    "    print(f\"{element_to_check} does not exist in the set.\")"
   ]
  },
  {
   "cell_type": "markdown",
   "id": "53079c19-5b93-4a01-b101-d300374a22b4",
   "metadata": {},
   "source": [
    "5. Find the length of a set without using the `len()` function."
   ]
  },
  {
   "cell_type": "code",
   "execution_count": 106,
   "id": "52abf255-e7f6-4725-8c44-ad1356e7a9a6",
   "metadata": {},
   "outputs": [
    {
     "name": "stdout",
     "output_type": "stream",
     "text": [
      "Length of the set: 5\n"
     ]
    }
   ],
   "source": [
    "# Create a set with some elements\n",
    "my_set = {1, 2, 3, 4, 5}\n",
    "\n",
    "# Initialize a variable to count the elements in the set\n",
    "count = 0\n",
    "\n",
    "# Iterate through each element in the set\n",
    "for _ in my_set:\n",
    "    # Increase the count by 1 for each element\n",
    "    count += 1\n",
    "\n",
    "# Print the count, which is the length of the set\n",
    "print(\"Length of the set:\", count)"
   ]
  },
  {
   "cell_type": "markdown",
   "id": "aba14544-5f4e-4d01-be9a-75afaeaf89a3",
   "metadata": {},
   "source": [
    "6. Clear all elements from a set."
   ]
  },
  {
   "cell_type": "code",
   "execution_count": 109,
   "id": "cc1bd319-33c1-4ee7-91c1-a8c4cee6c2b5",
   "metadata": {},
   "outputs": [
    {
     "name": "stdout",
     "output_type": "stream",
     "text": [
      "Original set: {1, 2, 3, 4, 5}\n",
      "Set after clearing: set()\n"
     ]
    }
   ],
   "source": [
    "# Step 1: Create a set with some elements\n",
    "my_set = {1, 2, 3, 4, 5}\n",
    "\n",
    "# Step 2: Display the original set\n",
    "print(\"Original set:\", my_set)\n",
    "\n",
    "# Step 3: Clear all elements from the set using the clear() method\n",
    "my_set.clear()\n",
    "\n",
    "# Step 4: Display the set after clearing\n",
    "print(\"Set after clearing:\", my_set)"
   ]
  },
  {
   "cell_type": "markdown",
   "id": "1d5a4cef-f4a3-4c0a-b48e-55266e4c9436",
   "metadata": {},
   "source": [
    "7. Create a set of even numbers from 1 to 10."
   ]
  },
  {
   "cell_type": "code",
   "execution_count": 112,
   "id": "9efa1c03-853f-492f-a3d2-668166def6b7",
   "metadata": {},
   "outputs": [
    {
     "name": "stdout",
     "output_type": "stream",
     "text": [
      "{2, 4, 6, 8, 10}\n"
     ]
    }
   ],
   "source": [
    "# Step 1: Initialize an empty set\n",
    "even_numbers_set = set()\n",
    "\n",
    "# Step 2: Iterate through numbers from 1 to 10\n",
    "for num in range(1, 11):\n",
    "    # Step 3: Check if the number is even\n",
    "    if num % 2 == 0:\n",
    "        # Step 4: Add the even number to the set\n",
    "        even_numbers_set.add(num)\n",
    "\n",
    "# Step 5: Print the set of even numbers\n",
    "print(even_numbers_set)"
   ]
  },
  {
   "cell_type": "markdown",
   "id": "c9e92d20-7473-4181-ad8b-a04eebb1f41a",
   "metadata": {},
   "source": [
    "8. Create a set of odd numbers from 1 to 10."
   ]
  },
  {
   "cell_type": "code",
   "execution_count": 115,
   "id": "1065415e-8033-476d-a531-da6573652fc7",
   "metadata": {},
   "outputs": [
    {
     "name": "stdout",
     "output_type": "stream",
     "text": [
      "{1, 3, 5, 7, 9}\n"
     ]
    }
   ],
   "source": [
    "# Step 1: Initialize an empty set to store odd numbers.\n",
    "odd_numbers_set = set()\n",
    "\n",
    "# Step 2: Iterate through numbers from 1 to 10.\n",
    "for num in range(1, 11):\n",
    "    # Step 3: Check if the current number is odd.\n",
    "    if num % 2 != 0:\n",
    "        # Step 4: If the number is odd, add it to the set.\n",
    "        odd_numbers_set.add(num)\n",
    "\n",
    "# Step 5: Print the final set of odd numbers.\n",
    "print(odd_numbers_set)"
   ]
  },
  {
   "cell_type": "markdown",
   "id": "31cecada-679c-44bb-8335-26847d43a9bd",
   "metadata": {},
   "source": [
    "9. Find the union of two sets."
   ]
  },
  {
   "cell_type": "code",
   "execution_count": 118,
   "id": "6547e2a2-4e61-430e-83b0-fc2f468566ca",
   "metadata": {},
   "outputs": [
    {
     "name": "stdout",
     "output_type": "stream",
     "text": [
      "Set 1: {1, 2, 3, 4, 5}\n",
      "Set 2: {4, 5, 6, 7, 8}\n",
      "Union of Set 1 and Set 2: {1, 2, 3, 4, 5, 6, 7, 8}\n"
     ]
    }
   ],
   "source": [
    "# Define two sets\n",
    "set1 = {1, 2, 3, 4, 5}\n",
    "set2 = {4, 5, 6, 7, 8}\n",
    "\n",
    "# Find the union of the two sets using the `union()` method\n",
    "union_result = set1.union(set2)\n",
    "\n",
    "# Print the original sets and their union\n",
    "print(\"Set 1:\", set1)\n",
    "print(\"Set 2:\", set2)\n",
    "print(\"Union of Set 1 and Set 2:\", union_result)"
   ]
  },
  {
   "cell_type": "markdown",
   "id": "d2e92a46-95b8-45bf-9f05-7a7a6322a9ca",
   "metadata": {},
   "source": [
    "10. Find the intersection of two sets."
   ]
  },
  {
   "cell_type": "code",
   "execution_count": 121,
   "id": "b093bcf7-5520-421d-8313-1627d488fd09",
   "metadata": {},
   "outputs": [
    {
     "name": "stdout",
     "output_type": "stream",
     "text": [
      "Set 1: {1, 2, 3, 4, 5}\n",
      "Set 2: {3, 4, 5, 6, 7}\n",
      "Intersection: {3, 4, 5}\n"
     ]
    }
   ],
   "source": [
    "# Create two sets\n",
    "set1 = {1, 2, 3, 4, 5}\n",
    "set2 = {3, 4, 5, 6, 7}\n",
    "\n",
    "# Find the intersection using the intersection() method\n",
    "intersection_result = set1.intersection(set2)\n",
    "\n",
    "# Print the original sets and the intersection\n",
    "print(\"Set 1:\", set1)\n",
    "print(\"Set 2:\", set2)\n",
    "print(\"Intersection:\", intersection_result)"
   ]
  },
  {
   "cell_type": "markdown",
   "id": "154c1588-e324-4faa-bed1-c802f045fcd6",
   "metadata": {},
   "source": [
    "11. Find the difference between two sets."
   ]
  },
  {
   "cell_type": "code",
   "execution_count": 124,
   "id": "bd7186ef-5dda-45e9-ac24-81ca83165ed8",
   "metadata": {},
   "outputs": [
    {
     "name": "stdout",
     "output_type": "stream",
     "text": [
      "Set 1: {1, 2, 3, 4, 5}\n",
      "Set 2: {3, 4, 5, 6, 7}\n",
      "Difference: {1, 2}\n"
     ]
    }
   ],
   "source": [
    "# Create two sets\n",
    "set1 = {1, 2, 3, 4, 5}\n",
    "set2 = {3, 4, 5, 6, 7}\n",
    "\n",
    "# Find the difference between the sets using the difference() method\n",
    "difference_set = set1.difference(set2)\n",
    "\n",
    "# Print the original sets and the difference set\n",
    "print(\"Set 1:\", set1)\n",
    "print(\"Set 2:\", set2)\n",
    "print(\"Difference:\", difference_set)"
   ]
  },
  {
   "cell_type": "markdown",
   "id": "5b07aa06-ed78-495d-acba-493981cfa7fa",
   "metadata": {},
   "source": [
    "12. Check if a set is a subset of another set."
   ]
  },
  {
   "cell_type": "code",
   "execution_count": 126,
   "id": "5f26cfd4-2a96-4d04-a79d-af32ef6a2b75",
   "metadata": {},
   "outputs": [
    {
     "name": "stdout",
     "output_type": "stream",
     "text": [
      "Is set1 a subset of set2: True\n"
     ]
    }
   ],
   "source": [
    "# Define the two sets\n",
    "set1 = {1, 2, 3}\n",
    "set2 = {1, 2, 3, 4, 5}\n",
    "\n",
    "# Use the \"issubset()\" method to check if set1 is a subset of set2\n",
    "is_subset = set1.issubset(set2)\n",
    "\n",
    "# Print the result\n",
    "print(\"Is set1 a subset of set2:\", is_subset)"
   ]
  },
  {
   "cell_type": "markdown",
   "id": "fde2d13e-05ac-47fb-9641-c4aac0a9d579",
   "metadata": {},
   "source": [
    "13. Check if a set is a superset of another set."
   ]
  },
  {
   "cell_type": "code",
   "execution_count": 128,
   "id": "6142c205-90f6-4104-9efd-db94a221775e",
   "metadata": {},
   "outputs": [
    {
     "name": "stdout",
     "output_type": "stream",
     "text": [
      "set1 is a superset of set2\n"
     ]
    }
   ],
   "source": [
    "# Create two sets\n",
    "set1 = {1, 2, 3, 4, 5, 6}\n",
    "set2 = {3, 4}\n",
    "\n",
    "# Check if set1 is a superset of set2\n",
    "is_superset = set1.issuperset(set2)\n",
    "\n",
    "# Print the result\n",
    "if is_superset:\n",
    "    print(\"set1 is a superset of set2\")\n",
    "else:\n",
    "    print(\"set1 is not a superset of set2\")"
   ]
  },
  {
   "cell_type": "markdown",
   "id": "8569a120-2fc6-4d79-9081-a310d8c24a47",
   "metadata": {},
   "source": [
    "14. Create a set from a list."
   ]
  },
  {
   "cell_type": "code",
   "execution_count": 145,
   "id": "1f7c26c7-8960-4d87-b9b4-50fc852869b5",
   "metadata": {},
   "outputs": [
    {
     "name": "stdout",
     "output_type": "stream",
     "text": [
      "Original List: [2, 4, 1, 4, 3, 2, 5]\n",
      "Set from List: {1, 2, 3, 4, 5}\n"
     ]
    }
   ],
   "source": [
    "# Step 1: Create a list of elements\n",
    "my_list = [2, 4, 1, 4, 3, 2, 5]\n",
    "\n",
    "# Step 2: Use the set() constructor to convert the list into a set\n",
    "# This automatically removes duplicates and creates a set with unique elements\n",
    "my_set = set(my_list)\n",
    "\n",
    "# Step 3: Print the original list and the resulting set\n",
    "print(\"Original List:\", my_list)\n",
    "print(\"Set from List:\", my_set)"
   ]
  },
  {
   "cell_type": "markdown",
   "id": "850c1c4b-d8a3-4ce5-ad4f-c82f21f81ca6",
   "metadata": {},
   "source": [
    "15. Convert a set to a list."
   ]
  },
  {
   "cell_type": "code",
   "execution_count": 148,
   "id": "b744dc3e-1066-4943-a8a4-9fb41d334768",
   "metadata": {},
   "outputs": [
    {
     "name": "stdout",
     "output_type": "stream",
     "text": [
      "Original Set: {1, 2, 3, 4, 5, 6, 9}\n",
      "Converted List: [1, 2, 3, 4, 5, 6, 9]\n"
     ]
    }
   ],
   "source": [
    "# Step 1: Create a set with some elements\n",
    "my_set = {3, 1, 4, 1, 5, 9, 2, 6, 5}\n",
    "\n",
    "# Step 2: Convert the set to a list using the list() function\n",
    "my_list = list(my_set)\n",
    "\n",
    "# Now, my_list contains the elements from my_set in list format\n",
    "\n",
    "# Step 3: Print the original set and the converted list\n",
    "print(\"Original Set:\", my_set)\n",
    "print(\"Converted List:\", my_list)"
   ]
  },
  {
   "cell_type": "markdown",
   "id": "069de019-e797-4506-9d97-09153cb5534b",
   "metadata": {},
   "source": [
    "16. Remove a random element from a set."
   ]
  },
  {
   "cell_type": "code",
   "execution_count": 152,
   "id": "4562157b-2778-4fd5-9442-7015f53dcc90",
   "metadata": {},
   "outputs": [
    {
     "name": "stdout",
     "output_type": "stream",
     "text": [
      "Original set: {1, 2, 3, 4, 5}\n",
      "Updated set after removing 4 : {1, 2, 3, 5}\n"
     ]
    }
   ],
   "source": [
    "import random  # Import the random module\n",
    "\n",
    "# Create a set with some elements\n",
    "my_set = {1, 2, 3, 4, 5}\n",
    "\n",
    "# Display the original set\n",
    "print(\"Original set:\", my_set)\n",
    "\n",
    "# Choose a random element from the set using the random.choice() function\n",
    "random_element = random.choice(list(my_set))\n",
    "\n",
    "# Remove the chosen random element from the set using the remove() method\n",
    "my_set.remove(random_element)\n",
    "\n",
    "# Display the updated set after removing the random element\n",
    "print(\"Updated set after removing\", random_element, \":\", my_set)"
   ]
  },
  {
   "cell_type": "markdown",
   "id": "27ea08d0-2432-4654-9738-6c4fe160ee38",
   "metadata": {},
   "source": [
    "17. Pop an element from a set."
   ]
  },
  {
   "cell_type": "code",
   "execution_count": 136,
   "id": "1b133fe0-fca3-440e-94db-275c9a809f32",
   "metadata": {},
   "outputs": [
    {
     "name": "stdout",
     "output_type": "stream",
     "text": [
      "Original set: {1, 2, 3, 4, 5}\n",
      "Popped element: 1\n",
      "Set after popping: {2, 3, 4, 5}\n"
     ]
    }
   ],
   "source": [
    "# Create a set with some elements\n",
    "my_set = {1, 2, 3, 4, 5}\n",
    "\n",
    "# Print the original set\n",
    "print(\"Original set:\", my_set)\n",
    "\n",
    "# Pop an element from the set using the pop() method\n",
    "popped_element = my_set.pop()\n",
    "\n",
    "# Print the element that was popped\n",
    "print(\"Popped element:\", popped_element)\n",
    "\n",
    "# Print the set after popping an element\n",
    "print(\"Set after popping:\", my_set)"
   ]
  },
  {
   "cell_type": "markdown",
   "id": "85ebcc09-630e-4a36-8fa2-bd9fe542f290",
   "metadata": {},
   "source": [
    "18. Check if two sets have no elements in common."
   ]
  },
  {
   "cell_type": "code",
   "execution_count": 157,
   "id": "c745b52c-f225-4d05-a515-29397fca61cf",
   "metadata": {},
   "outputs": [
    {
     "name": "stdout",
     "output_type": "stream",
     "text": [
      "The two sets have no elements in common.\n"
     ]
    }
   ],
   "source": [
    "# Step 1: Define two sets\n",
    "set1 = {1, 2, 3, 4}\n",
    "set2 = {5, 6, 7, 8}\n",
    "\n",
    "# Step 2: Check if the intersection of the two sets is empty\n",
    "# The intersection is the set of elements that are common to both sets\n",
    "common_elements = set1.intersection(set2)\n",
    "\n",
    "# Step 3: Check if the common_elements set is empty\n",
    "if not common_elements:\n",
    "    print(\"The two sets have no elements in common.\")\n",
    "else:\n",
    "    print(\"The two sets have common elements:\", common_elements)"
   ]
  },
  {
   "cell_type": "markdown",
   "id": "c21a88f4-c7ee-49fe-b8e8-9817f276802b",
   "metadata": {},
   "source": [
    "19. Find the symmetric difference between two sets."
   ]
  },
  {
   "cell_type": "code",
   "execution_count": 160,
   "id": "c8aa3e40-a0e5-4a48-b467-6664cf88b0e6",
   "metadata": {},
   "outputs": [
    {
     "name": "stdout",
     "output_type": "stream",
     "text": [
      "Symmetric Difference: {1, 2, 3, 6, 7, 8}\n"
     ]
    }
   ],
   "source": [
    "# Define two sets\n",
    "set1 = {1, 2, 3, 4, 5}\n",
    "set2 = {4, 5, 6, 7, 8}\n",
    "\n",
    "# Calculate the symmetric difference using the ^ operator\n",
    "symmetric_difference = set1 ^ set2\n",
    "\n",
    "# Print the symmetric difference\n",
    "print(\"Symmetric Difference:\", symmetric_difference)"
   ]
  },
  {
   "cell_type": "markdown",
   "id": "b204e036-9e2b-46a9-abf0-fa3a5d959820",
   "metadata": {},
   "source": [
    "20. Update a set with elements from another set."
   ]
  },
  {
   "cell_type": "code",
   "execution_count": 163,
   "id": "e9cfcc77-eced-45ef-9d73-f572febcd0e6",
   "metadata": {},
   "outputs": [
    {
     "name": "stdout",
     "output_type": "stream",
     "text": [
      "Set 1: {1, 2, 3}\n",
      "Set 2: {3, 4, 5}\n",
      "Updated Set 1: {1, 2, 3, 4, 5}\n"
     ]
    }
   ],
   "source": [
    "# Create the first set\n",
    "set1 = {1, 2, 3}\n",
    "print(\"Set 1:\", set1)\n",
    "\n",
    "# Create the second set\n",
    "set2 = {3, 4, 5}\n",
    "print(\"Set 2:\", set2)\n",
    "\n",
    "# Update set1 with elements from set2\n",
    "set1.update(set2)\n",
    "print(\"Updated Set 1:\", set1)"
   ]
  },
  {
   "cell_type": "markdown",
   "id": "43d22546-370f-4dd9-a887-ca597e616293",
   "metadata": {},
   "source": [
    "21. Create a set of the first 5 prime numbers."
   ]
  },
  {
   "cell_type": "code",
   "execution_count": 166,
   "id": "ebecb040-acdd-4ff8-ad37-cee1963348ee",
   "metadata": {},
   "outputs": [
    {
     "name": "stdout",
     "output_type": "stream",
     "text": [
      "Set of the first 5 prime numbers: {2, 3, 5, 7, 11}\n"
     ]
    }
   ],
   "source": [
    "# Function to check if a number is prime\n",
    "def is_prime(num):\n",
    "    if num <= 1:\n",
    "        return False\n",
    "    for i in range(2, int(num ** 0.5) + 1):\n",
    "        if num % i == 0:\n",
    "            return False\n",
    "    return True\n",
    "\n",
    "# Create an empty set to store the prime numbers\n",
    "prime_set = set()\n",
    "\n",
    "# Initialize the number to start checking for primes\n",
    "num = 2\n",
    "\n",
    "# Loop until we have found the first 5 prime numbers\n",
    "while len(prime_set) < 5:\n",
    "    # Check if the current number is prime using the is_prime function\n",
    "    if is_prime(num):\n",
    "        # If the number is prime, add it to the prime_set\n",
    "        prime_set.add(num)\n",
    "\n",
    "    # Move on to the next number for the next iteration\n",
    "    num += 1\n",
    "\n",
    "# Print the set of prime numbers\n",
    "print(\"Set of the first 5 prime numbers:\", prime_set)"
   ]
  },
  {
   "cell_type": "markdown",
   "id": "8d7d0809-e14a-4f2e-bab5-96ded87393e5",
   "metadata": {},
   "source": [
    "22. Check if two sets are identical."
   ]
  },
  {
   "cell_type": "code",
   "execution_count": 169,
   "id": "76501c65-d84d-4a1c-a429-8a87685074e0",
   "metadata": {},
   "outputs": [
    {
     "name": "stdout",
     "output_type": "stream",
     "text": [
      "The sets are identical.\n"
     ]
    }
   ],
   "source": [
    "# Step 1: Define two sets\n",
    "set1 = {1, 2, 3, 4, 5}\n",
    "set2 = {3, 1, 5, 2, 4}  # The order of elements doesn't matter in sets\n",
    "\n",
    "# Step 2: Check if the sets are identical using the `==` operator\n",
    "# Sets are unordered collections, so the order of elements doesn't matter.\n",
    "# The `==` operator compares the content of the sets.\n",
    "if set1 == set2:\n",
    "    print(\"The sets are identical.\")\n",
    "else:\n",
    "    print(\"The sets are not identical.\")"
   ]
  },
  {
   "cell_type": "markdown",
   "id": "bba90ccd-a499-4bac-b97b-5b7df0f3901b",
   "metadata": {},
   "source": [
    "23. Create a frozen set."
   ]
  },
  {
   "cell_type": "code",
   "execution_count": 174,
   "id": "5a3fceac-8f46-4d7d-b733-b7eb7fcedf57",
   "metadata": {},
   "outputs": [
    {
     "name": "stdout",
     "output_type": "stream",
     "text": [
      "Frozen Set: frozenset({1, 2, 3, 4, 5})\n"
     ]
    }
   ],
   "source": [
    "# Step 2: Define a list of elements that you want to include in the frozen set\n",
    "elements = [1, 2, 3, 4, 5]\n",
    "\n",
    "# Step 3: Create a frozen set using the 'frozenset' constructor and passing the list of elements\n",
    "my_frozen_set = frozenset(elements)\n",
    "\n",
    "# Step 4: Print the frozen set\n",
    "print(\"Frozen Set:\", my_frozen_set)"
   ]
  },
  {
   "cell_type": "markdown",
   "id": "5a2af829-b67d-47f2-81a1-ab8d65f11a20",
   "metadata": {},
   "source": [
    "24. Check if a set is disjoint with another set."
   ]
  },
  {
   "cell_type": "code",
   "execution_count": 177,
   "id": "802df323-9559-44cb-b89f-79be535e4992",
   "metadata": {},
   "outputs": [
    {
     "name": "stdout",
     "output_type": "stream",
     "text": [
      "Are the sets disjoint? True\n"
     ]
    }
   ],
   "source": [
    "# Step 1: Define the two sets you want to check for disjointness\n",
    "set1 = {1, 2, 3, 4}\n",
    "set2 = {5, 6, 7, 8}\n",
    "\n",
    "# Step 2: Use the `isdisjoint()` method to check if the sets are disjoint\n",
    "# The `isdisjoint()` method returns True if the sets have no common elements,\n",
    "# and False if they have at least one common element.\n",
    "disjoint_status = set1.isdisjoint(set2)\n",
    "\n",
    "# Step 3: Print the result\n",
    "print(\"Are the sets disjoint?\", disjoint_status)"
   ]
  },
  {
   "cell_type": "markdown",
   "id": "a0a106c9-128f-46f8-821a-7a54400865a8",
   "metadata": {},
   "source": [
    "25. Create a set of squares of numbers from 1 to 5."
   ]
  },
  {
   "cell_type": "code",
   "execution_count": 180,
   "id": "d550b5ab-3d6d-48f1-b044-cc65b0ecf5e0",
   "metadata": {},
   "outputs": [
    {
     "name": "stdout",
     "output_type": "stream",
     "text": [
      "{1, 4, 9, 16, 25}\n"
     ]
    }
   ],
   "source": [
    "# Step 1: Create an empty set to store the squares of numbers\n",
    "squares_set = set()\n",
    "\n",
    "# Step 2: Use a loop to iterate through numbers from 1 to 5\n",
    "for num in range(1, 6):\n",
    "    # Step 3: Calculate the square of the current number\n",
    "    square = num ** 2\n",
    "\n",
    "    # Step 4: Add the square to the set\n",
    "    squares_set.add(square)\n",
    "\n",
    "# Step 5: Print the set of squares\n",
    "print(squares_set)"
   ]
  },
  {
   "cell_type": "markdown",
   "id": "80fa4af3-4842-47c4-8d34-34e3976cf2eb",
   "metadata": {},
   "source": [
    "26. Filter out all even numbers from a set."
   ]
  },
  {
   "cell_type": "code",
   "execution_count": 183,
   "id": "321b3f1c-fdab-4930-9af1-095209bef9de",
   "metadata": {},
   "outputs": [
    {
     "name": "stdout",
     "output_type": "stream",
     "text": [
      "Original Set: {1, 2, 3, 4, 5}\n",
      "Even Numbers Set: {2, 4}\n"
     ]
    }
   ],
   "source": [
    "# Step 1: Create a set with integers from 1 to 5\n",
    "original_set = {1, 2, 3, 4, 5}\n",
    "\n",
    "# Step 2: Initialize an empty set to store the filtered even numbers\n",
    "even_numbers_set = set()\n",
    "\n",
    "# Step 3: Iterate through each element in the original set\n",
    "for num in original_set:\n",
    "    # Step 4: Check if the current number is even (divisible by 2)\n",
    "    if num % 2 == 0:\n",
    "        # Step 5: If even, add it to the even_numbers_set\n",
    "        even_numbers_set.add(num)\n",
    "\n",
    "# Step 6: Print the original set and the set containing even numbers\n",
    "print(\"Original Set:\", original_set)\n",
    "print(\"Even Numbers Set:\", even_numbers_set)"
   ]
  },
  {
   "cell_type": "markdown",
   "id": "b4cce35c-5bf7-4c36-a5e1-5eea945479ad",
   "metadata": {},
   "source": [
    "27. Multiply all elements in a set by 2."
   ]
  },
  {
   "cell_type": "code",
   "execution_count": 186,
   "id": "1b1a9b1f-a22a-4690-8d9f-339833a11739",
   "metadata": {},
   "outputs": [
    {
     "name": "stdout",
     "output_type": "stream",
     "text": [
      "Original Set: {1, 2, 3, 4, 5}\n",
      "Multiplied Set: {2, 4, 6, 8, 10}\n"
     ]
    }
   ],
   "source": [
    "# Create a set with integers from 1 to 5\n",
    "original_set = {1, 2, 3, 4, 5}\n",
    "\n",
    "# Initialize an empty set to store the multiplied elements\n",
    "multiplied_set = set()\n",
    "\n",
    "# Loop through each element in the original set\n",
    "for num in original_set:\n",
    "    # Multiply the current element by 2\n",
    "    multiplied_num = num * 2\n",
    "\n",
    "    # Add the multiplied element to the multiplied_set\n",
    "    multiplied_set.add(multiplied_num)\n",
    "\n",
    "# The original_set remains unchanged\n",
    "print(\"Original Set:\", original_set)\n",
    "\n",
    "# Display the set with elements multiplied by 2\n",
    "print(\"Multiplied Set:\", multiplied_set)"
   ]
  },
  {
   "cell_type": "markdown",
   "id": "6c49b5f9-4504-4825-bc76-4c007d7a0b18",
   "metadata": {},
   "source": [
    "28. Create a set of random numbers."
   ]
  },
  {
   "cell_type": "code",
   "execution_count": 189,
   "id": "d1cf9f6b-1573-4d0a-a14b-dc15fcbcf557",
   "metadata": {},
   "outputs": [
    {
     "name": "stdout",
     "output_type": "stream",
     "text": [
      "Generated set of random numbers: {5, 9, 44, 47, 20}\n"
     ]
    }
   ],
   "source": [
    "# Step 1: Import the `random` module to generate random numbers\n",
    "import random\n",
    "\n",
    "# Step 2: Define the number of random numbers you want in the set\n",
    "num_random_numbers = 5\n",
    "\n",
    "# Step 3: Initialize an empty set to store the random numbers\n",
    "random_number_set = set()\n",
    "\n",
    "# Step 4: Use a loop to generate random numbers and add them to the set\n",
    "for _ in range(num_random_numbers):\n",
    "    # Generate a random integer using the `randint` function from the `random` module\n",
    "    random_num = random.randint(1, 100)  # Generate a random number between 1 and 100\n",
    "    # Add the random number to the set\n",
    "    random_number_set.add(random_num)\n",
    "\n",
    "# Step 5: Print the generated set of random numbers\n",
    "print(\"Generated set of random numbers:\", random_number_set)"
   ]
  },
  {
   "cell_type": "markdown",
   "id": "7fb3684f-3924-4062-8828-087cee94857f",
   "metadata": {},
   "source": [
    "29. Check if a set is empty."
   ]
  },
  {
   "cell_type": "code",
   "execution_count": 192,
   "id": "81381a59-d97b-4064-8de9-f829f01e034e",
   "metadata": {},
   "outputs": [
    {
     "name": "stdout",
     "output_type": "stream",
     "text": [
      "The set is empty.\n"
     ]
    }
   ],
   "source": [
    "# Step 1: Create a set (you can replace this with your own set)\n",
    "my_set = set()\n",
    "\n",
    "# Step 2: Check if the set is empty using the 'if' statement\n",
    "if not my_set:\n",
    "    print(\"The set is empty.\")\n",
    "else:\n",
    "    print(\"The set is not empty.\")"
   ]
  },
  {
   "cell_type": "markdown",
   "id": "5842a54a-5909-4fe6-a795-477c9a8bc508",
   "metadata": {},
   "source": [
    "30. Create a nested set (hint: use frozenset)."
   ]
  },
  {
   "cell_type": "code",
   "execution_count": 195,
   "id": "ebb85a8a-121a-463f-8b4f-01bb2b914a8a",
   "metadata": {},
   "outputs": [
    {
     "name": "stdout",
     "output_type": "stream",
     "text": [
      "Nested Set: {frozenset({1, 2, 3, 4, 5}), frozenset({6, 7, 8, 9, 10})}\n"
     ]
    }
   ],
   "source": [
    "# Step 1: Create the inner sets\n",
    "set1 = {1, 2, 3, 4, 5}\n",
    "set2 = {6, 7, 8, 9, 10}\n",
    "\n",
    "# Step 2: Create frozensets from the inner sets\n",
    "frozen_set1 = frozenset(set1)\n",
    "frozen_set2 = frozenset(set2)\n",
    "\n",
    "# Step 3: Create the nested set using the frozensets\n",
    "nested_set = {frozen_set1, frozen_set2}\n",
    "\n",
    "# Print the nested set\n",
    "print(\"Nested Set:\", nested_set)"
   ]
  },
  {
   "cell_type": "markdown",
   "id": "ad9b4aa9-566e-4a44-91d4-0ccfd7ff7feb",
   "metadata": {},
   "source": [
    "31. Remove an element from a set using the discard method."
   ]
  },
  {
   "cell_type": "code",
   "execution_count": 198,
   "id": "99813e36-9b8d-4ba3-80b1-5a2ea61ad82a",
   "metadata": {},
   "outputs": [
    {
     "name": "stdout",
     "output_type": "stream",
     "text": [
      "Initial set: {1, 2, 3, 4, 5}\n",
      "Set after removing 3 : {1, 2, 4, 5}\n"
     ]
    }
   ],
   "source": [
    "# Create a set with some elements\n",
    "my_set = {1, 2, 3, 4, 5}\n",
    "\n",
    "# Display the initial set\n",
    "print(\"Initial set:\", my_set)\n",
    "\n",
    "# Define the element to be removed\n",
    "element_to_remove = 3\n",
    "\n",
    "# Use the discard() method to remove the element from the set\n",
    "# If the element is not present in the set, discard() won't raise an error\n",
    "my_set.discard(element_to_remove)\n",
    "\n",
    "# Display the set after removing the element\n",
    "print(\"Set after removing\", element_to_remove, \":\", my_set)"
   ]
  },
  {
   "cell_type": "markdown",
   "id": "bacd83a1-3058-4731-ae50-6e08a3b4cabe",
   "metadata": {},
   "source": [
    "32. Compare two sets."
   ]
  },
  {
   "cell_type": "code",
   "execution_count": 201,
   "id": "c1e508b6-bc9a-4bb9-9119-9456dd1aa34c",
   "metadata": {},
   "outputs": [
    {
     "name": "stdout",
     "output_type": "stream",
     "text": [
      "Set 1: {1, 2, 3, 4, 5}\n",
      "Set 2: {4, 5, 6, 7, 8}\n",
      "Is set1 a subset of set2? False\n",
      "Is set2 a subset of set1? False\n",
      "Intersection: {4, 5}\n",
      "Union: {1, 2, 3, 4, 5, 6, 7, 8}\n",
      "Elements in set1 but not in set2: {1, 2, 3}\n",
      "Elements in set2 but not in set1: {8, 6, 7}\n"
     ]
    }
   ],
   "source": [
    "# Step 1: Define two sets\n",
    "set1 = {1, 2, 3, 4, 5}\n",
    "set2 = {4, 5, 6, 7, 8}\n",
    "\n",
    "# Step 2: Use set operations to compare the sets\n",
    "# Check if set1 is a subset of set2\n",
    "is_subset = set1.issubset(set2)\n",
    "\n",
    "# Check if set2 is a subset of set1\n",
    "is_superset = set1.issuperset(set2)\n",
    "\n",
    "# Find the intersection of the sets\n",
    "intersection = set1.intersection(set2)\n",
    "\n",
    "# Find the union of the sets\n",
    "union = set1.union(set2)\n",
    "\n",
    "# Find the elements that are in set1 but not in set2\n",
    "difference1 = set1.difference(set2)\n",
    "\n",
    "# Find the elements that are in set2 but not in set1\n",
    "difference2 = set2.difference(set1)\n",
    "\n",
    "# Step 3: Print the results\n",
    "print(\"Set 1:\", set1)\n",
    "print(\"Set 2:\", set2)\n",
    "print(\"Is set1 a subset of set2?\", is_subset)\n",
    "print(\"Is set2 a subset of set1?\", is_superset)\n",
    "print(\"Intersection:\", intersection)\n",
    "print(\"Union:\", union)\n",
    "print(\"Elements in set1 but not in set2:\", difference1)\n",
    "print(\"Elements in set2 but not in set1:\", difference2)"
   ]
  },
  {
   "cell_type": "markdown",
   "id": "fb2dde85-8e73-43fc-883d-03a9fefd57fe",
   "metadata": {},
   "source": [
    "33. Create a set from a string."
   ]
  },
  {
   "cell_type": "code",
   "execution_count": 204,
   "id": "f764bb43-47e5-4c27-98f5-cebf5ce9debb",
   "metadata": {},
   "outputs": [
    {
     "name": "stdout",
     "output_type": "stream",
     "text": [
      "{'h', 'o', 'l', 'e'}\n"
     ]
    }
   ],
   "source": [
    "# Step 1: Define the input string\n",
    "input_string = \"hello\"\n",
    "\n",
    "# Step 2: Use the set() constructor to create a set from the characters in the string\n",
    "char_set = set(input_string)\n",
    "\n",
    "# Step 3: Print the resulting set\n",
    "print(char_set)"
   ]
  },
  {
   "cell_type": "markdown",
   "id": "a0e23f09-5b32-4d73-85b8-46cd287d9bda",
   "metadata": {},
   "source": [
    "34. Convert a set of strings to a set of integers."
   ]
  },
  {
   "cell_type": "code",
   "execution_count": 207,
   "id": "568757f6-f8ce-4109-a796-957add581269",
   "metadata": {},
   "outputs": [
    {
     "name": "stdout",
     "output_type": "stream",
     "text": [
      "Original String Set: {'456', '123', '789'}\n",
      "Converted Integer Set: {456, 123, 789}\n"
     ]
    }
   ],
   "source": [
    "# Step 1: Create a set of strings\n",
    "string_set = {\"123\", \"456\", \"789\"}\n",
    "\n",
    "# Step 2: Initialize an empty set to store integers\n",
    "integer_set = set()\n",
    "\n",
    "# Step 3: Iterate through each string in the string set\n",
    "for string in string_set:\n",
    "    # Step 4: Convert the string to an integer using the int() function\n",
    "    integer_value = int(string)\n",
    "\n",
    "    # Step 5: Add the integer to the integer set\n",
    "    integer_set.add(integer_value)\n",
    "\n",
    "# Step 6: Print the original string set and the converted integer set\n",
    "print(\"Original String Set:\", string_set)\n",
    "print(\"Converted Integer Set:\", integer_set)"
   ]
  },
  {
   "cell_type": "markdown",
   "id": "9fd53fa3-a55a-4e0f-8254-5595aa6e771c",
   "metadata": {},
   "source": [
    "35. Convert a set of integers to a set of strings."
   ]
  },
  {
   "cell_type": "code",
   "execution_count": 210,
   "id": "619debf9-b5f2-424f-8649-1a68e7eb017d",
   "metadata": {},
   "outputs": [
    {
     "name": "stdout",
     "output_type": "stream",
     "text": [
      "Original integers_set: {1, 2, 3, 4, 5}\n",
      "Converted strings_set: {'1', '2', '3', '5', '4'}\n"
     ]
    }
   ],
   "source": [
    "# Step 1: Create a set of integers\n",
    "integers_set = {1, 2, 3, 4, 5}\n",
    "\n",
    "# Step 2: Initialize an empty set to store the strings\n",
    "strings_set = set()\n",
    "\n",
    "# Step 3: Iterate through each integer in the integers_set\n",
    "for num in integers_set:\n",
    "    # Step 4: Convert the integer to a string using the str() function\n",
    "    num_str = str(num)\n",
    "\n",
    "    # Step 5: Add the string representation to the strings_set\n",
    "    strings_set.add(num_str)\n",
    "\n",
    "# Step 6: Print the original integers_set and the converted strings_set\n",
    "print(\"Original integers_set:\", integers_set)\n",
    "print(\"Converted strings_set:\", strings_set)"
   ]
  },
  {
   "cell_type": "markdown",
   "id": "538ba393-0614-4532-8504-0a931376ddf3",
   "metadata": {},
   "source": [
    "36. Create a set from a tuple."
   ]
  },
  {
   "cell_type": "code",
   "execution_count": 213,
   "id": "da510537-4b62-4d3f-9020-3727c5aab056",
   "metadata": {},
   "outputs": [
    {
     "name": "stdout",
     "output_type": "stream",
     "text": [
      "{1, 2, 3, 4, 5}\n"
     ]
    }
   ],
   "source": [
    "# Given tuple\n",
    "input_tuple = (1, 2, 3, 2, 4, 5, 1)\n",
    "\n",
    "# Step 1: Convert the tuple to a set\n",
    "output_set = set(input_tuple)\n",
    "# At this point, the set() function is used to convert the elements of the tuple into a set.\n",
    "# Since sets only contain unique elements, duplicate values are automatically removed.\n",
    "\n",
    "# Step 2: Print the resulting set\n",
    "print(output_set)\n",
    "# The set is now printed, and it will only contain the unique elements from the original tuple."
   ]
  },
  {
   "cell_type": "markdown",
   "id": "b1d8984c-1498-44b1-bf2e-030dbc96beaf",
   "metadata": {},
   "source": [
    "37. Convert a set to a tuple."
   ]
  },
  {
   "cell_type": "code",
   "execution_count": 216,
   "id": "b278c880-5a32-4b63-b761-72f39babc8e5",
   "metadata": {},
   "outputs": [
    {
     "name": "stdout",
     "output_type": "stream",
     "text": [
      "Original set: {1, 2, 3, 4, 5}\n",
      "Converted tuple: (1, 2, 3, 4, 5)\n"
     ]
    }
   ],
   "source": [
    "# Step 1: Create a set\n",
    "input_set = {1, 2, 3, 4, 5}\n",
    "\n",
    "# Step 2: Convert the set to a tuple\n",
    "output_tuple = tuple(input_set)\n",
    "\n",
    "# Step 3: Print the original set and the converted tuple\n",
    "print(\"Original set:\", input_set)\n",
    "print(\"Converted tuple:\", output_tuple)"
   ]
  },
  {
   "cell_type": "markdown",
   "id": "be217173-fc6e-436d-aa29-5a7b0f8b56ea",
   "metadata": {},
   "source": [
    "38. Find the maximum value in a set."
   ]
  },
  {
   "cell_type": "code",
   "execution_count": 219,
   "id": "40f2c9ef-0e38-4972-a9dd-5574a300bcef",
   "metadata": {},
   "outputs": [
    {
     "name": "stdout",
     "output_type": "stream",
     "text": [
      "Maximum value: 22\n"
     ]
    }
   ],
   "source": [
    "# Define a set with some values\n",
    "my_set = {15, 7, 22, 13, 8}\n",
    "\n",
    "# Initialize a variable to store the maximum value\n",
    "max_value = None\n",
    "\n",
    "# Iterate through each element in the set\n",
    "for num in my_set:\n",
    "    # Check if max_value is None (first iteration) or if the current number is greater than max_value\n",
    "    if max_value is None or num > max_value:\n",
    "        max_value = num  # Update max_value with the current number if it's greater\n",
    "\n",
    "# Print the maximum value\n",
    "print(\"Maximum value:\", max_value)"
   ]
  },
  {
   "cell_type": "markdown",
   "id": "eeaadb99-c8c9-425f-98f9-17108b59ecb9",
   "metadata": {},
   "source": [
    "39. Find the minimum value in a set."
   ]
  },
  {
   "cell_type": "code",
   "execution_count": 222,
   "id": "37d05e59-a67a-43c8-bb26-c457eae5ccae",
   "metadata": {},
   "outputs": [
    {
     "name": "stdout",
     "output_type": "stream",
     "text": [
      "The minimum value in the set is: 4\n"
     ]
    }
   ],
   "source": [
    "# Create a sample set of numbers\n",
    "number_set = {15, 8, 23, 4, 42, 11}\n",
    "\n",
    "# Initialize a variable to store the minimum value\n",
    "min_value = None\n",
    "\n",
    "# Iterate through each element in the set\n",
    "for num in number_set:\n",
    "    # Check if min_value is None (first iteration) or if num is smaller than the current min_value\n",
    "    if min_value is None or num < min_value:\n",
    "        # Update min_value to the current num since it's smaller\n",
    "        min_value = num\n",
    "\n",
    "# Print the minimum value found in the set\n",
    "print(\"The minimum value in the set is:\", min_value)"
   ]
  },
  {
   "cell_type": "markdown",
   "id": "efecef23-d5b6-41a4-ad93-cd8d002cff84",
   "metadata": {},
   "source": [
    "40. Create a set from user input."
   ]
  },
  {
   "cell_type": "code",
   "execution_count": 225,
   "id": "41c1d9f0-6b52-4346-a0df-e2996f3afe28",
   "metadata": {},
   "outputs": [
    {
     "name": "stdout",
     "output_type": "stream",
     "text": [
      "Enter elements for the set (type 'done' to finish):\n"
     ]
    },
    {
     "name": "stdin",
     "output_type": "stream",
     "text": [
      ">  done\n"
     ]
    },
    {
     "name": "stdout",
     "output_type": "stream",
     "text": [
      "Final set: set()\n"
     ]
    }
   ],
   "source": [
    "# Step 1: Initialize an empty set\n",
    "user_set = set()\n",
    "\n",
    "# Step 2: Get input from the user\n",
    "print(\"Enter elements for the set (type 'done' to finish):\")\n",
    "while True:\n",
    "    user_input = input(\"> \")  # Get input from the user\n",
    "\n",
    "    if user_input.lower() == 'done':\n",
    "        break  # Exit the loop if the user enters 'done'\n",
    "\n",
    "    # Step 3: Add the user input to the set\n",
    "    user_set.add(user_input)\n",
    "\n",
    "# Step 4: Display the final set created from user input\n",
    "print(\"Final set:\", user_set)"
   ]
  },
  {
   "cell_type": "markdown",
   "id": "6c0f166d-1a27-4746-a536-d86699d1543a",
   "metadata": {},
   "source": [
    "41. Check if the intersection of two sets is empty."
   ]
  },
  {
   "cell_type": "code",
   "execution_count": 228,
   "id": "28964a7e-3ba4-457a-8b2c-124cd7b4b072",
   "metadata": {},
   "outputs": [
    {
     "name": "stdout",
     "output_type": "stream",
     "text": [
      "The intersection of the two sets is not empty.\n"
     ]
    }
   ],
   "source": [
    "# Step 1: Define two sets\n",
    "set1 = {1, 2, 3, 4, 5}\n",
    "set2 = {4, 5, 6, 7, 8}\n",
    "\n",
    "# Step 2: Find the intersection of the two sets using the `intersection()` method\n",
    "intersection_result = set1.intersection(set2)\n",
    "\n",
    "# Step 3: Check if the intersection result is empty\n",
    "if not intersection_result:\n",
    "    print(\"The intersection of the two sets is empty.\")\n",
    "else:\n",
    "    print(\"The intersection of the two sets is not empty.\")"
   ]
  },
  {
   "cell_type": "markdown",
   "id": "9dfe1172-91ae-46e2-a420-74593588350c",
   "metadata": {},
   "source": [
    "42. Create a set of the first 5 Fibonacci numbers."
   ]
  },
  {
   "cell_type": "code",
   "execution_count": 231,
   "id": "790063b4-8c6e-43b8-a3c1-4697f7a51b58",
   "metadata": {},
   "outputs": [
    {
     "name": "stdout",
     "output_type": "stream",
     "text": [
      "Set of the first 5 Fibonacci numbers: {0, 1, 2, 3, 5}\n"
     ]
    }
   ],
   "source": [
    "# Create a set to store the first 5 Fibonacci numbers\n",
    "fibonacci_set = set()\n",
    "\n",
    "# Initialize the first two Fibonacci numbers\n",
    "a, b = 0, 1\n",
    "\n",
    "# Loop to generate the first 5 Fibonacci numbers\n",
    "for _ in range(6):\n",
    "    # Add the current Fibonacci number to the set\n",
    "    fibonacci_set.add(a)\n",
    "\n",
    "    # Calculate the next Fibonacci number\n",
    "    a, b = b, a + b\n",
    "\n",
    "# Print the set of Fibonacci numbers\n",
    "print(\"Set of the first 5 Fibonacci numbers:\", fibonacci_set)"
   ]
  },
  {
   "cell_type": "markdown",
   "id": "89a0813b-c08d-451c-84ea-e4fa1cf0be3b",
   "metadata": {},
   "source": [
    "43. Remove duplicates from a list using sets."
   ]
  },
  {
   "cell_type": "code",
   "execution_count": 234,
   "id": "ca5faf3e-7199-4c79-ac56-5fe47c24e098",
   "metadata": {},
   "outputs": [
    {
     "name": "stdout",
     "output_type": "stream",
     "text": [
      "Original List: [2, 4, 6, 8, 4, 10, 6, 12, 14, 8]\n",
      "List with Duplicates Removed: [2, 4, 6, 8, 10, 12, 14]\n"
     ]
    }
   ],
   "source": [
    "# Step 1: Define a list with duplicates\n",
    "original_list = [2, 4, 6, 8, 4, 10, 6, 12, 14, 8]\n",
    "\n",
    "# Step 2: Convert the list to a set\n",
    "unique_set = set(original_list)\n",
    "# Now, 'unique_set' contains only unique elements from 'original_list'\n",
    "\n",
    "# Step 3: Convert the set back to a list\n",
    "unique_list = list(unique_set)\n",
    "# Now, 'unique_list' is a list containing only unique elements\n",
    "\n",
    "# Step 4: Print the original list and the list with duplicates removed\n",
    "print(\"Original List:\", original_list)\n",
    "print(\"List with Duplicates Removed:\", unique_list)"
   ]
  },
  {
   "cell_type": "markdown",
   "id": "57fa225a-3357-4760-ace0-0e949fe4bfd5",
   "metadata": {},
   "source": [
    "44. Check if two sets have the same elements, regardless of their count."
   ]
  },
  {
   "cell_type": "code",
   "execution_count": 237,
   "id": "c9a65716-563d-4b60-8ee3-efa94710f1ff",
   "metadata": {},
   "outputs": [
    {
     "name": "stdout",
     "output_type": "stream",
     "text": [
      "The sets have the same elements.\n"
     ]
    }
   ],
   "source": [
    "def have_same_elements(set1, set2):\n",
    "    # Convert the sets to lists and sort them\n",
    "    sorted_list1 = sorted(list(set1))\n",
    "    sorted_list2 = sorted(list(set2))\n",
    "\n",
    "    # Compare the sorted lists to check if they are equal\n",
    "    return sorted_list1 == sorted_list2\n",
    "\n",
    "# Example sets\n",
    "set1 = {1, 2, 3, 2, 1}\n",
    "set2 = {3, 1, 2}\n",
    "\n",
    "# Check if the sets have the same elements\n",
    "result = have_same_elements(set1, set2)\n",
    "\n",
    "# Print the result\n",
    "if result:\n",
    "    print(\"The sets have the same elements.\")\n",
    "else:\n",
    "    print(\"The sets do not have the same elements.\")"
   ]
  },
  {
   "cell_type": "markdown",
   "id": "9c891a0b-d1dd-4f5b-b1b7-593395f3b57c",
   "metadata": {},
   "source": [
    "45. Create a set of the first `n` powers of 2."
   ]
  },
  {
   "cell_type": "code",
   "execution_count": 240,
   "id": "9c2e19b5-1cae-4a6d-9f68-b40d970c151d",
   "metadata": {},
   "outputs": [
    {
     "name": "stdout",
     "output_type": "stream",
     "text": [
      "{1, 2, 4, 8, 16}\n"
     ]
    }
   ],
   "source": [
    "def generate_powers_of_2(n):\n",
    "    # Initialize an empty set to store the powers of 2\n",
    "    powers_of_2 = set()\n",
    "\n",
    "    # Loop from 0 to n-1\n",
    "    for i in range(n):\n",
    "        # Calculate the current power of 2 using the exponentiation operator **\n",
    "        power = 2 ** i\n",
    "\n",
    "        # Add the current power of 2 to the set\n",
    "        powers_of_2.add(power)\n",
    "\n",
    "    # Return the set of powers of 2\n",
    "    return powers_of_2\n",
    "\n",
    "# Define the value of n\n",
    "n = 5\n",
    "\n",
    "# Call the function to generate the set of powers of 2\n",
    "powers_set = generate_powers_of_2(n)\n",
    "\n",
    "# Print the resulting set\n",
    "print(powers_set)"
   ]
  },
  {
   "cell_type": "markdown",
   "id": "d1e534e2-c578-4ede-a05c-0f95446198dc",
   "metadata": {},
   "source": [
    "46. Find the common elements between a set and a list."
   ]
  },
  {
   "cell_type": "code",
   "execution_count": 243,
   "id": "d02efe3b-6941-49c0-a426-09a7ac432144",
   "metadata": {},
   "outputs": [
    {
     "name": "stdout",
     "output_type": "stream",
     "text": [
      "Common elements: [7, 9, 12]\n"
     ]
    }
   ],
   "source": [
    "# Step 1: Define a set and a list\n",
    "my_set = {3, 7, 9, 12, 15}\n",
    "my_list = [7, 12, 5, 9]\n",
    "\n",
    "# Step 2: Convert the list to a set for efficient comparison\n",
    "list_to_set = set(my_list)\n",
    "\n",
    "# Step 3: Initialize an empty list to store common elements\n",
    "common_elements = []\n",
    "\n",
    "# Step 4: Iterate through the elements in the set\n",
    "for element in my_set:\n",
    "    # Step 5: Check if the element is present in the converted set (list_to_set)\n",
    "    if element in list_to_set:\n",
    "        # Step 6: If the element is present in both the set and the list, add it to the common_elements list\n",
    "        common_elements.append(element)\n",
    "\n",
    "# Step 7: Print the common elements\n",
    "print(\"Common elements:\", common_elements)"
   ]
  },
  {
   "cell_type": "markdown",
   "id": "4aa6ccf8-2ba8-499c-a991-00d3e20b0825",
   "metadata": {},
   "source": [
    "47. Create a set of the first `n` triangular numbers."
   ]
  },
  {
   "cell_type": "code",
   "execution_count": 246,
   "id": "2833371f-0321-4093-b7fd-9da3acef0176",
   "metadata": {},
   "outputs": [
    {
     "name": "stdin",
     "output_type": "stream",
     "text": [
      "Enter the value of n:  45\n"
     ]
    },
    {
     "name": "stdout",
     "output_type": "stream",
     "text": [
      "The set of the first 45 triangular numbers is: {1, 3, 6, 903, 136, 10, 1035, 780, 15, 528, 276, 21, 406, 153, 666, 28, 36, 171, 300, 45, 561, 946, 435, 820, 55, 190, 703, 66, 325, 78, 465, 210, 595, 91, 861, 990, 351, 741, 231, 105, 496, 630, 120, 378, 253}\n"
     ]
    }
   ],
   "source": [
    "def generate_triangular_numbers(n):\n",
    "    triangular_numbers = set()  # Create an empty set to store the triangular numbers\n",
    "    for i in range(1, n + 1):\n",
    "        triangular_number = i * (i + 1) // 2  # Calculate the ith triangular number using the formula\n",
    "        triangular_numbers.add(triangular_number)  # Add the calculated triangular number to the set\n",
    "    return triangular_numbers\n",
    "\n",
    "# Input the value of 'n'\n",
    "n = int(input(\"Enter the value of n: \"))\n",
    "\n",
    "# Call the function to generate the set of first 'n' triangular numbers\n",
    "triangular_set = generate_triangular_numbers(n)\n",
    "\n",
    "# Display the set of triangular numbers\n",
    "print(f\"The set of the first {n} triangular numbers is:\", triangular_set)"
   ]
  },
  {
   "cell_type": "markdown",
   "id": "8cdd83a3-4325-497a-b422-a98cbbeaa9b8",
   "metadata": {},
   "source": [
    "48. Check if a set contains another set as a subset."
   ]
  },
  {
   "cell_type": "code",
   "execution_count": 249,
   "id": "7f908940-9057-4390-a446-7a8ad297eeac",
   "metadata": {},
   "outputs": [
    {
     "name": "stdout",
     "output_type": "stream",
     "text": [
      "set2 is a subset of set1\n"
     ]
    }
   ],
   "source": [
    "# Define two sets\n",
    "set1 = {1, 2, 3, 4, 5}\n",
    "set2 = {3, 4}\n",
    "\n",
    "# Check if set2 is a subset of set1\n",
    "is_subset = set2.issubset(set1)\n",
    "\n",
    "# Print the result\n",
    "if is_subset:\n",
    "    print(\"set2 is a subset of set1\")\n",
    "else:\n",
    "    print(\"set2 is not a subset of set1\")"
   ]
  },
  {
   "cell_type": "markdown",
   "id": "b960ff12-908d-47cb-af79-ba78e38cb7d3",
   "metadata": {},
   "source": [
    "49. Create a set of alternating 1s and 0s of length `n`."
   ]
  },
  {
   "cell_type": "code",
   "execution_count": 252,
   "id": "efd5d15b-1e2d-415a-ad47-1104e11ad980",
   "metadata": {},
   "outputs": [
    {
     "name": "stdout",
     "output_type": "stream",
     "text": [
      "{0, 1}\n"
     ]
    }
   ],
   "source": [
    "def create_alternating_set(n):\n",
    "    # Initialize an empty set to store the alternating sequence.\n",
    "    alternating_set = set()\n",
    "\n",
    "    # Loop to generate alternating 1s and 0s.\n",
    "    for i in range(n):\n",
    "        # Alternate between adding 1 and 0 to the set based on whether i is even or odd.\n",
    "        if i % 2 == 0:\n",
    "            alternating_set.add(1)  # Add 1 if i is even.\n",
    "        else:\n",
    "            alternating_set.add(0)  # Add 0 if i is odd.\n",
    "\n",
    "    return alternating_set\n",
    "\n",
    "# Define the desired length of the alternating set.\n",
    "length_n = 10\n",
    "\n",
    "# Call the function to create the alternating set of length 'length_n'.\n",
    "result = create_alternating_set(length_n)\n",
    "\n",
    "# Print the resulting set.\n",
    "print(result)"
   ]
  },
  {
   "cell_type": "markdown",
   "id": "334d2c5a-19b4-41c8-b211-bbcc85973053",
   "metadata": {},
   "source": [
    "50. Merge multiple sets into one."
   ]
  },
  {
   "cell_type": "code",
   "execution_count": 255,
   "id": "696f181d-65a2-43aa-b787-67101ce7b756",
   "metadata": {},
   "outputs": [
    {
     "name": "stdout",
     "output_type": "stream",
     "text": [
      "Merged Set: {1, 2, 3, 4, 5, 6, 7}\n"
     ]
    }
   ],
   "source": [
    "# Step 1: Create multiple sets\n",
    "set1 = {1, 2, 3}\n",
    "set2 = {3, 4, 5}\n",
    "set3 = {5, 6, 7}\n",
    "\n",
    "# Step 2: Use the union() method to merge sets\n",
    "merged_set = set1.union(set2, set3)\n",
    "\n",
    "# Alternatively, you can use the | operator\n",
    "# merged_set = set1 | set2 | set3\n",
    "\n",
    "# Step 3: Print the merged set\n",
    "print(\"Merged Set:\", merged_set)"
   ]
  },
  {
   "cell_type": "code",
   "execution_count": null,
   "id": "4c2d9279-18fe-4c70-97c6-31f4a5278237",
   "metadata": {},
   "outputs": [],
   "source": []
  }
 ],
 "metadata": {
  "kernelspec": {
   "display_name": "Python 3 (ipykernel)",
   "language": "python",
   "name": "python3"
  },
  "language_info": {
   "codemirror_mode": {
    "name": "ipython",
    "version": 3
   },
   "file_extension": ".py",
   "mimetype": "text/x-python",
   "name": "python",
   "nbconvert_exporter": "python",
   "pygments_lexer": "ipython3",
   "version": "3.11.5"
  }
 },
 "nbformat": 4,
 "nbformat_minor": 5
}
