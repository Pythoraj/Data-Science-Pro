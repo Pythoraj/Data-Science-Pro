{
 "cells": [
  {
   "cell_type": "markdown",
   "id": "e7b32a41-38c0-4e22-9877-c9d0bb6b4e53",
   "metadata": {},
   "source": [
    "TOPIC: String Based Assignment Problem"
   ]
  },
  {
   "cell_type": "markdown",
   "id": "44f08340-f45e-4578-9d43-4ef84b3a6119",
   "metadata": {},
   "source": [
    "1. Write a program to reverse a string."
   ]
  },
  {
   "cell_type": "code",
   "execution_count": 1,
   "id": "8e7f95f5-f2af-4bd1-a61b-7f720bafbe7e",
   "metadata": {},
   "outputs": [
    {
     "name": "stdout",
     "output_type": "stream",
     "text": [
      "Reverse String :  ecneicS ataD rof nohtyP\n"
     ]
    }
   ],
   "source": [
    "# To reverse the string we can use slicing \n",
    "String = 'Python for Data Science'\n",
    "Reverse = String[::-1]\n",
    "print(\"Reverse String : \", Reverse)"
   ]
  },
  {
   "cell_type": "markdown",
   "id": "64445aa3-dc4b-40be-9066-098d474cce10",
   "metadata": {},
   "source": [
    "2. Check if a string is a palindrome."
   ]
  },
  {
   "cell_type": "code",
   "execution_count": 2,
   "id": "0402845d-8a36-41dc-8fb9-55d4a90ea42d",
   "metadata": {},
   "outputs": [
    {
     "name": "stdin",
     "output_type": "stream",
     "text": [
      "Please enter the string : madam\n"
     ]
    },
    {
     "name": "stdout",
     "output_type": "stream",
     "text": [
      "isPalindrome - Yes\n"
     ]
    }
   ],
   "source": [
    "isPalindrome = input('Please enter the string :')        # We take here user input\n",
    "if isPalindrome == isPalindrome[::-1]:                   # Condition to check palindrome\n",
    "    print('isPalindrome - Yes')\n",
    "else:\n",
    "    print('isPalindrome - No')"
   ]
  },
  {
   "cell_type": "markdown",
   "id": "b4e7db5f-06e9-4499-a326-930531cc54db",
   "metadata": {},
   "source": [
    "3. Convert a string to uppercase."
   ]
  },
  {
   "cell_type": "code",
   "execution_count": 3,
   "id": "6ce965f1-4b17-40ea-83e9-99debaae3aac",
   "metadata": {},
   "outputs": [
    {
     "data": {
      "text/plain": [
       "'PW SKILLS'"
      ]
     },
     "execution_count": 3,
     "metadata": {},
     "output_type": "execute_result"
    }
   ],
   "source": [
    "UpperCase_String = 'pw skills'\n",
    "UpperCase_String.upper()      # upper() method is used to convert string into upper case."
   ]
  },
  {
   "cell_type": "markdown",
   "id": "bdb84059-dfdd-47c0-9128-fb79363272d5",
   "metadata": {},
   "source": [
    "4. Convert a string to lowercase."
   ]
  },
  {
   "cell_type": "code",
   "execution_count": 4,
   "id": "e42b8ef0-5a25-4e17-b394-ddc91bcef31e",
   "metadata": {},
   "outputs": [
    {
     "data": {
      "text/plain": [
       "'pw skills'"
      ]
     },
     "execution_count": 4,
     "metadata": {},
     "output_type": "execute_result"
    }
   ],
   "source": [
    "UpperCase_String = 'PW SKILLS'\n",
    "UpperCase_String.lower()       # lower() method is used to convert the string into upper case."
   ]
  },
  {
   "cell_type": "markdown",
   "id": "f52aced3-c499-4bf6-82b2-1d27c8c7ebbb",
   "metadata": {},
   "source": [
    "5. Count the number of vowels in a string."
   ]
  },
  {
   "cell_type": "code",
   "execution_count": 5,
   "id": "b23c6e89-e562-4c27-8fcb-4b5610f553b6",
   "metadata": {},
   "outputs": [
    {
     "name": "stdin",
     "output_type": "stream",
     "text": [
      "Please enter string to check whether its vowel or not rajkumar\n"
     ]
    },
    {
     "name": "stdout",
     "output_type": "stream",
     "text": [
      "Count of vowel in the given string is  3\n"
     ]
    }
   ],
   "source": [
    "# Count the number of vowels in a string.\n",
    "User_Input = input('Please enter string to check whether its vowel or not')    # User Input\n",
    "Vowel = ['a','e','i','o','u']\n",
    "Count = 0                                                                      # It will count the occurrences of vowel \n",
    "for i in range(len(User_Input)):                                               # It will iterate the user input\n",
    "    if User_Input[i] in Vowel:                                                 # it will check whether the vowel exist in the user input or not\n",
    "        Count+=1                                                               # If the condition is true then the count will increase\n",
    "print(\"Count of vowel in the given string is \",Count)                                                                   # print the out put"
   ]
  },
  {
   "cell_type": "markdown",
   "id": "f60b69c0-87a1-40c2-b590-14ba0d528969",
   "metadata": {},
   "source": [
    "6. Count the number of consonants in a string."
   ]
  },
  {
   "cell_type": "code",
   "execution_count": 6,
   "id": "20fcb37e-542c-4ef0-8d73-6f8ab907264e",
   "metadata": {},
   "outputs": [
    {
     "name": "stdin",
     "output_type": "stream",
     "text": [
      "Please enter string to check whether its consonants or not Rajkumar\n"
     ]
    },
    {
     "name": "stdout",
     "output_type": "stream",
     "text": [
      "Count of consonants in the given string is  5\n"
     ]
    }
   ],
   "source": [
    "# Count the number of consonants in a string.\n",
    "User_Input = input('Please enter string to check whether its consonants or not')    # User Input\n",
    "Vowel = ['a','e','i','o','u']\n",
    "Count = 0                                                                      # It will count the occurrences of consonants. \n",
    "for i in range(len(User_Input)):                                               # It will iterate the user input\n",
    "    if User_Input[i] not in Vowel:                                             # it will check whether the consonants exist in the user input or not\n",
    "        Count+=1                                                               # If the condition is true then the count will increase\n",
    "print(\"Count of consonants in the given string is \",Count)   "
   ]
  },
  {
   "cell_type": "markdown",
   "id": "6700f47a-f283-4a0d-8096-5b78847797f7",
   "metadata": {},
   "source": [
    "7. Remove all whitespaces from a string."
   ]
  },
  {
   "cell_type": "code",
   "execution_count": 7,
   "id": "2d698c7f-b7bc-4c6e-a933-4ea6a1382d3d",
   "metadata": {},
   "outputs": [
    {
     "name": "stdin",
     "output_type": "stream",
     "text": [
      "Please enter the string:  Rajkuma  r\n"
     ]
    },
    {
     "data": {
      "text/plain": [
       "'Rajkumar'"
      ]
     },
     "execution_count": 7,
     "metadata": {},
     "output_type": "execute_result"
    }
   ],
   "source": [
    "Remove_WhiteSpace = input(\"Please enter the string: \")\n",
    "Remove_WhiteSpace.replace(\" \", \"\")         # he we remode the while space from the strings"
   ]
  },
  {
   "cell_type": "markdown",
   "id": "8ba67641-1261-4994-939e-fdef8c8020a4",
   "metadata": {},
   "source": [
    "8. Find the length of a string without using the `len()` function."
   ]
  },
  {
   "cell_type": "code",
   "execution_count": 8,
   "id": "855c3754-2911-4756-9f35-4cc7cebd2125",
   "metadata": {},
   "outputs": [
    {
     "name": "stdin",
     "output_type": "stream",
     "text": [
      "Please enter your string:  Rajumar\n"
     ]
    },
    {
     "name": "stdout",
     "output_type": "stream",
     "text": [
      "7\n"
     ]
    }
   ],
   "source": [
    "Length_Of_String = input(\"Please enter your string: \")   # User Input for string\n",
    "Count = 0                                                # It will store the count of the string char\n",
    "for i in range(len(Length_Of_String)):                   # iteration for char count\n",
    "    Count+=1                                             # Increament the count value with 1 \n",
    "print(Count)                                             # It will print the count of char from user input string"
   ]
  },
  {
   "cell_type": "markdown",
   "id": "1088dd4c-1dc1-4f66-9e7d-c9493c913c18",
   "metadata": {},
   "source": [
    "9. Check if a string contains a specific word."
   ]
  },
  {
   "cell_type": "code",
   "execution_count": 9,
   "id": "8666525e-5da2-4333-943a-609a743b4f3f",
   "metadata": {},
   "outputs": [
    {
     "name": "stdin",
     "output_type": "stream",
     "text": [
      "Please enter your string:  Python is a good programing\n",
      "Please enter specific word:  is\n"
     ]
    },
    {
     "name": "stdout",
     "output_type": "stream",
     "text": [
      "Yes, this string contain the specific words \"is\".\n"
     ]
    }
   ],
   "source": [
    "# User input for the actual string\n",
    "User_Input = input(\"Please enter your string: \")\n",
    "\n",
    "# User input for specific words or char\n",
    "Specific_Words = input(\"Please enter specific word: \")\n",
    "\n",
    "# This condition checks whether string has specific words or not \n",
    "if Specific_Words in User_Input:\n",
    "    print(f'Yes, this string contain the specific words \"{Specific_Words}\".')\n",
    "else:\n",
    "    print(f'No, string have not contact specific words \"{Specific_Words}\".')\n"
   ]
  },
  {
   "cell_type": "markdown",
   "id": "ddb1595d-8663-427e-a889-992c3230e8c9",
   "metadata": {},
   "source": [
    "10. Replace a word in a string with another word."
   ]
  },
  {
   "cell_type": "code",
   "execution_count": 10,
   "id": "c7af53be-6ad2-47b6-aefe-6a346b049fb8",
   "metadata": {},
   "outputs": [
    {
     "data": {
      "text/plain": [
       "'PW Skills for Data Science'"
      ]
     },
     "execution_count": 10,
     "metadata": {},
     "output_type": "execute_result"
    }
   ],
   "source": [
    "String = 'PW Skills for IIT & NEET'\n",
    "Specific_String = \"Data Science\"\n",
    "String.replace(\"IIT & NEET\", Specific_String)         # we have replace string ' IIT & NEET' with new string 'Data Science'"
   ]
  },
  {
   "cell_type": "markdown",
   "id": "8b5b88dd-a6d0-42eb-9c69-c2c4af08a6be",
   "metadata": {},
   "source": [
    "11. Count the occurrences of a word in a string."
   ]
  },
  {
   "cell_type": "code",
   "execution_count": 11,
   "id": "a23a7a19-c97a-4179-af87-ccdc79ff73a1",
   "metadata": {},
   "outputs": [],
   "source": [
    "A = \"Count the occurrences of a word in a string.\""
   ]
  },
  {
   "cell_type": "code",
   "execution_count": 12,
   "id": "47e18e1c-216f-46ab-b6c3-f9a34f7a867e",
   "metadata": {},
   "outputs": [
    {
     "name": "stdout",
     "output_type": "stream",
     "text": [
      "1\n"
     ]
    }
   ],
   "source": [
    "# String\n",
    "User_String = \"PW Lab is a platform where we can perform coding for data science\"\n",
    "\n",
    "# Specific string\n",
    "word = \"perform\"\n",
    "\n",
    "# We used the split()method to split string into list\n",
    "A = User_String.split()\n",
    "Count = 0   \n",
    "for i in range(len(A)):\n",
    "    if A[i] == word:\n",
    "        Count+=1    # Increase count if the condition gets true\n",
    "print(Count)"
   ]
  },
  {
   "cell_type": "markdown",
   "id": "ad57e229-a8dc-4d33-899e-32a94afcdf80",
   "metadata": {},
   "source": [
    "12. Find the first occurrence of a word in a string."
   ]
  },
  {
   "cell_type": "code",
   "execution_count": 13,
   "id": "c4abe9e3-559e-4ee3-9487-7a912d556af6",
   "metadata": {},
   "outputs": [
    {
     "name": "stdout",
     "output_type": "stream",
     "text": [
      "perform\n",
      "perform\n",
      "perform\n"
     ]
    }
   ],
   "source": [
    "# String\n",
    "User_String = \"PW Lab is a platform where we can perform coding for data science perform perform perform. \"\n",
    "\n",
    "# Specific string\n",
    "word = \"perform\"\n",
    "\n",
    "# We used the split()method to split string into list\n",
    "A = User_String.split()\n",
    "#Count = 0   \n",
    "for i in range(len(A)):\n",
    "    if A[i] != word:\n",
    "       # Count+=1    # Increase count if the condition gets true\n",
    "        False\n",
    "    else:\n",
    "        print(A[i])\n",
    "#print(Count)"
   ]
  },
  {
   "cell_type": "markdown",
   "id": "2bcc650d-17c0-4a99-85b1-d98532e8d286",
   "metadata": {},
   "source": [
    "17. Check if a string starts with a specific word or phrase."
   ]
  },
  {
   "cell_type": "code",
   "execution_count": 14,
   "id": "59563577-655d-40e7-8350-52257190c478",
   "metadata": {},
   "outputs": [
    {
     "name": "stdout",
     "output_type": "stream",
     "text": [
      "Yes! this string start with specific word\n"
     ]
    }
   ],
   "source": [
    "# Check if a string starts with a specific word or phrase.\n",
    "String = \"PW Lab is a platform where we can perform coding for data science perform perform perform.\"\n",
    "Word = 'PW'\n",
    "\n",
    "# We have use startwith() function to check specific word.\n",
    "if String.startswith(Word):\n",
    "    print('Yes! this string start with specific word')\n",
    "else:\n",
    "    print('No! this string start with specific word')"
   ]
  },
  {
   "cell_type": "markdown",
   "id": "2c207354-dc1f-4bec-9f1f-241c57c8aecf",
   "metadata": {},
   "source": [
    "18. Check if a string ends with a specific word or phrase."
   ]
  },
  {
   "cell_type": "code",
   "execution_count": 15,
   "id": "117ff731-106c-4286-a0d2-06d32f43abd9",
   "metadata": {},
   "outputs": [
    {
     "name": "stdout",
     "output_type": "stream",
     "text": [
      "Yes! this string is end with specific word\n"
     ]
    }
   ],
   "source": [
    "# Check if a string end with a specific word or phrase.\n",
    "String = \"PW Lab is a platform where we can perform coding for data science perform perform perform\"\n",
    "Word = 'perform'\n",
    "\n",
    "# We have use endwith() function to check specific word.\n",
    "if String.endswith(Word):\n",
    "    print('Yes! this string is end with specific word')\n",
    "else:\n",
    "    print('No! this string is not end with specific word')"
   ]
  },
  {
   "cell_type": "markdown",
   "id": "e1566e32-fcb2-4431-a94d-7018b0e84d4e",
   "metadata": {},
   "source": [
    "19. Convert a string to title case (e.g., \"hello world\" to \"Hello World\")"
   ]
  },
  {
   "cell_type": "code",
   "execution_count": 16,
   "id": "23d5f67b-2185-44a8-81ae-75e627d4458a",
   "metadata": {},
   "outputs": [
    {
     "data": {
      "text/plain": [
       "'Pw Lab Is A Platform Where We Can Perform Coding For Data Science Perform Perform Perform'"
      ]
     },
     "execution_count": 16,
     "metadata": {},
     "output_type": "execute_result"
    }
   ],
   "source": [
    "# String\n",
    "String = \"PW Lab is a platform where we can perform coding for data science perform perform perform\"\n",
    "\n",
    "# We have used the title() function to convert the string into title format.\n",
    "String.title()"
   ]
  },
  {
   "cell_type": "markdown",
   "id": "2240c979-76e8-4b17-995d-1d0698037698",
   "metadata": {},
   "source": [
    "20. Find the longest word in a string"
   ]
  },
  {
   "cell_type": "code",
   "execution_count": 17,
   "id": "00ef384e-7ef9-460f-930b-9d7112cf017a",
   "metadata": {},
   "outputs": [
    {
     "data": {
      "text/plain": [
       "'platform'"
      ]
     },
     "execution_count": 17,
     "metadata": {},
     "output_type": "execute_result"
    }
   ],
   "source": [
    "String = \"PW Lab is a platform where we can perform coding for data science\"\n",
    "\n",
    "# Here we have used the split() method to split sentences into list.\n",
    "A = String.split()    \n",
    "\n",
    "# We have used max() function to check the maximum length \n",
    "# and key = len parameter to check the string length.\n",
    "\n",
    "max(A, key=len)"
   ]
  },
  {
   "cell_type": "markdown",
   "id": "1843e07e-23dd-49cc-8676-05f342dc49d6",
   "metadata": {},
   "source": [
    "21. Find the shortest word in a string."
   ]
  },
  {
   "cell_type": "code",
   "execution_count": 18,
   "id": "8eefebe5-d616-4d9f-b9d9-553e860a7ba9",
   "metadata": {},
   "outputs": [
    {
     "data": {
      "text/plain": [
       "'a'"
      ]
     },
     "execution_count": 18,
     "metadata": {},
     "output_type": "execute_result"
    }
   ],
   "source": [
    "# String\n",
    "String = \"PW Lab is a platform where we can perform coding for data science\"\n",
    "\n",
    "# Here we have used the split() method to split sentences into list.\n",
    "A = String.split()\n",
    "\n",
    "# We have used min() function to check the minimum length \n",
    "# and key = len parameter to check the string length.\n",
    "min(A, key=len)"
   ]
  },
  {
   "cell_type": "markdown",
   "id": "ec58199b-5841-478e-9fb5-7c086f143bb3",
   "metadata": {},
   "source": [
    "22. Reverse the order of words in a string."
   ]
  },
  {
   "cell_type": "code",
   "execution_count": 19,
   "id": "2a54d13b-4879-4645-8b7f-ca81b700ff5c",
   "metadata": {},
   "outputs": [
    {
     "data": {
      "text/plain": [
       "['science',\n",
       " 'data',\n",
       " 'for',\n",
       " 'coding',\n",
       " 'perform',\n",
       " 'can',\n",
       " 'we',\n",
       " 'where',\n",
       " 'platform',\n",
       " 'a',\n",
       " 'is',\n",
       " 'Lab',\n",
       " 'PW']"
      ]
     },
     "execution_count": 19,
     "metadata": {},
     "output_type": "execute_result"
    }
   ],
   "source": [
    "# String\n",
    "String = \"PW Lab is a platform where we can perform coding for data science\"\n",
    "\n",
    "# We have split the word from the string\n",
    "Split_String = String.split()\n",
    "\n",
    "# Reverse the split words\n",
    "Split_String[::-1]"
   ]
  },
  {
   "cell_type": "markdown",
   "id": "4ca9ef4f-7e2c-49e8-bcfa-d406eae3e148",
   "metadata": {},
   "source": [
    "23. Check if a string is alphanumeric."
   ]
  },
  {
   "cell_type": "code",
   "execution_count": 20,
   "id": "668c1a49-6212-4657-baa3-256cd3a9753d",
   "metadata": {},
   "outputs": [
    {
     "data": {
      "text/plain": [
       "True"
      ]
     },
     "execution_count": 20,
     "metadata": {},
     "output_type": "execute_result"
    }
   ],
   "source": [
    "# String\n",
    "String = \"ABC123\"\n",
    "\n",
    "# isalnum() method is used to check the alpha-numeric string.\n",
    "\n",
    "String.isalnum()\n",
    "\n",
    "#A string is alpha-numeric if all characters in the string are alpha-numeric and\n",
    "#there is at least one character in the string."
   ]
  },
  {
   "cell_type": "markdown",
   "id": "61ee76b2-db6f-4d14-93d2-299af7c845cc",
   "metadata": {},
   "source": [
    "24. Extract all digits from a string."
   ]
  },
  {
   "cell_type": "code",
   "execution_count": 21,
   "id": "a142543c-c05c-4a3e-a3ed-91d95a3243ab",
   "metadata": {},
   "outputs": [
    {
     "name": "stdout",
     "output_type": "stream",
     "text": [
      "All digit extracted from given string:  [123]\n"
     ]
    }
   ],
   "source": [
    "# String\n",
    "String = \"A B C 123\"\n",
    "\n",
    "# Created an empty list to append digits from the string\n",
    "Digit = []\n",
    "\n",
    "# We have iterate and split the string\n",
    "for i in String.split():\n",
    "    # We have used isnumeric() to find the digit from the string\n",
    "    if i.isnumeric():\n",
    "        # Append the integer into Digit.\n",
    "        Digit.append(int(i))\n",
    "# We have used the print function to print output.\n",
    "print(\"All digit extracted from given string: \", Digit)"
   ]
  },
  {
   "cell_type": "markdown",
   "id": "2f963162-4e66-457e-9338-c873337e9947",
   "metadata": {},
   "source": [
    "25. Extract all alphabets from a string."
   ]
  },
  {
   "cell_type": "code",
   "execution_count": 22,
   "id": "8c6d1ce7-9487-4577-8497-55c46827e884",
   "metadata": {},
   "outputs": [
    {
     "name": "stdout",
     "output_type": "stream",
     "text": [
      "All alphabets extracted from given strings:  ['A', 'l', 'l', 'a', 'l', 'p', 'h', 'a', 'b', 'e', 't', 's', 'e', 'x', 't', 'r', 'a', 'c', 't', 'e', 'd', 'f', 'r', 'o', 'm', 'g', 'i', 'v', 'e', 'n', 's', 't', 'r', 'i', 'n', 'g', 's']\n"
     ]
    }
   ],
   "source": [
    "# String\n",
    "String = \"All alphabets extracted from given strings : 123\"\n",
    "\n",
    "# Created an empty list to append Alphabets from the string\n",
    "Alphabets= []\n",
    "\n",
    "# We have iterated the string\n",
    "for i in String:\n",
    "    # We have used isalpha() to find the Alphabets from the string\n",
    "    if i.isalpha():\n",
    "        # Append the alphabet into Alphabets.\n",
    "        Alphabets.append(str(i))\n",
    "# We have used the print function to print output.\n",
    "print(\"All alphabets extracted from given strings: \", Alphabets)"
   ]
  },
  {
   "cell_type": "markdown",
   "id": "594db536-40b3-4b0c-ac68-bb120dee57bb",
   "metadata": {},
   "source": [
    "26. Count the number of uppercase letters in a string"
   ]
  },
  {
   "cell_type": "code",
   "execution_count": 34,
   "id": "47c4efea-17c6-4009-b584-324887ddb414",
   "metadata": {},
   "outputs": [
    {
     "name": "stdout",
     "output_type": "stream",
     "text": [
      "Uppercase letters:  ['COUNT', 'STRING']\n"
     ]
    }
   ],
   "source": [
    "String = 'COUNT the number of uppercase letters in a STRING'\n",
    "Split = String.split()                              # Splite the string\n",
    "Uppercase_Latters = []                              # Uppercase_Latters = [] will hold the uppercase value\n",
    "for i in Split:                                     # Iterate split string\n",
    "    if i.isupper():                                 # It will check whether the string is uppercase or not\n",
    "        Uppercase_Latters.append(i)                 # Uppend the uppercase string into Uppercase_Latters variable\n",
    "print('Uppercase letters: ', Uppercase_Latters)     # Print the output."
   ]
  },
  {
   "cell_type": "markdown",
   "id": "97a9dd74-4f73-4539-8461-c81f8e82ade4",
   "metadata": {},
   "source": [
    "27. Count the number of lowercase letters in a string."
   ]
  },
  {
   "cell_type": "code",
   "execution_count": 38,
   "id": "c4160167-df48-49dc-a409-7ec77be6a609",
   "metadata": {},
   "outputs": [
    {
     "name": "stdout",
     "output_type": "stream",
     "text": [
      "Lowercase Letters:  ['the', 'number', 'of', 'uppercase', 'letters', 'in', 'a']\n"
     ]
    }
   ],
   "source": [
    "String = 'COUNT the number of uppercase letters in a STRING'\n",
    "Split = String.split()                              # Splite the string\n",
    "Lowercase_Latters = []                              # Lowercase_Latters = [] will hold the lowercase value\n",
    "for i in Split:                                     # Iterate split string\n",
    "    if i.islower():                                 # It will check whether the string is lowercase or not\n",
    "        Lowercase_Latters.append(i)                 # Uppend the lowercase string into Lowercase_Latters variable\n",
    "print('Lowercase Letters: ', Lowercase_Latters)     # Print the output."
   ]
  },
  {
   "cell_type": "markdown",
   "id": "7c7235a2-31ff-4c2a-aac2-4cd369fc1755",
   "metadata": {},
   "source": [
    "28. Swap the case of each character in a string."
   ]
  },
  {
   "cell_type": "code",
   "execution_count": 40,
   "id": "41692d64-9fd5-414b-80b1-be15d13c99e1",
   "metadata": {},
   "outputs": [
    {
     "data": {
      "text/plain": [
       "'sllikS WP'"
      ]
     },
     "execution_count": 40,
     "metadata": {},
     "output_type": "execute_result"
    }
   ],
   "source": [
    "String = 'PW Skills'\n",
    "String[::-1]        # To swap the string we can use slicing."
   ]
  },
  {
   "cell_type": "markdown",
   "id": "13d110b0-1e4b-4ea6-b105-4be6f970f0f8",
   "metadata": {},
   "source": [
    "29. Remove a specific word from a string."
   ]
  },
  {
   "cell_type": "code",
   "execution_count": 41,
   "id": "f11d1458-5616-45a3-b09f-47deab0442d7",
   "metadata": {},
   "outputs": [
    {
     "data": {
      "text/plain": [
       "'PW  Skills'"
      ]
     },
     "execution_count": 41,
     "metadata": {},
     "output_type": "execute_result"
    }
   ],
   "source": [
    "String = 'PW is Skills'\n",
    "String.replace('is','')    # replace() function will use to remove spacific word from the String."
   ]
  },
  {
   "cell_type": "markdown",
   "id": "d17cc81b-4e0a-4921-9ba4-606048a798d6",
   "metadata": {},
   "source": [
    "30. Check if a string is a valid email address"
   ]
  },
  {
   "cell_type": "code",
   "execution_count": 2,
   "id": "f9e7d4c7-7af5-4a5c-b67a-4fefa0984413",
   "metadata": {},
   "outputs": [
    {
     "name": "stdout",
     "output_type": "stream",
     "text": [
      "True\n",
      "The email address is not valid. It must have exactly one @-sign.\n"
     ]
    },
    {
     "name": "stderr",
     "output_type": "stream",
     "text": [
      "C:\\Users\\astral.rajkumar\\AppData\\Local\\Temp\\ipykernel_14800\\1708295491.py:8: DeprecationWarning: dict-like access to the return value of validate_email is deprecated and may not be supported in the future.\n",
      "  email = v[\"email\"]\n"
     ]
    }
   ],
   "source": [
    "from email_validator import validate_email, EmailNotValidError\n",
    "def check(email):\n",
    "\ttry:\n",
    "\t# validate and get info\n",
    "\t\tv = validate_email(email) \n",
    "\t\t# replace with normalized form\n",
    "\t\temail = v[\"email\"] \n",
    "\t\tprint(\"True\")\n",
    "\texcept EmailNotValidError as e:\n",
    "\t\t# email is not valid, the exception message is human-readable\n",
    "\t\tprint(str(e))\n",
    "\n",
    "check(\"my.ownsite@our-earth.org\")\n",
    "check(\"ankitrai326.com\")\n"
   ]
  },
  {
   "cell_type": "code",
   "execution_count": 51,
   "id": "52cd7e07-64ac-427b-a6ab-dd5aec8e1a40",
   "metadata": {},
   "outputs": [
    {
     "name": "stdout",
     "output_type": "stream",
     "text": [
      "Python 3.11.5\n"
     ]
    }
   ],
   "source": [
    "! python --version"
   ]
  },
  {
   "cell_type": "code",
   "execution_count": 1,
   "id": "440b7f37-be5b-4b43-aa85-111c418a14d9",
   "metadata": {},
   "outputs": [
    {
     "name": "stdout",
     "output_type": "stream",
     "text": [
      "Collecting email_validator\n",
      "  Obtaining dependency information for email_validator from https://files.pythonhosted.org/packages/e4/60/b02cb0f5ee0be88bd4fbfdd9cc91e43ec2dfcc47fe064e7c70587ff58a94/email_validator-2.1.1-py3-none-any.whl.metadata\n",
      "  Using cached email_validator-2.1.1-py3-none-any.whl.metadata (26 kB)\n",
      "Collecting dnspython>=2.0.0 (from email_validator)\n",
      "  Obtaining dependency information for dnspython>=2.0.0 from https://files.pythonhosted.org/packages/87/a1/8c5287991ddb8d3e4662f71356d9656d91ab3a36618c3dd11b280df0d255/dnspython-2.6.1-py3-none-any.whl.metadata\n",
      "  Using cached dnspython-2.6.1-py3-none-any.whl.metadata (5.8 kB)\n",
      "Requirement already satisfied: idna>=2.0.0 in c:\\users\\astral.rajkumar\\appdata\\local\\anaconda3\\lib\\site-packages (from email_validator) (3.4)\n",
      "Using cached email_validator-2.1.1-py3-none-any.whl (30 kB)\n",
      "Using cached dnspython-2.6.1-py3-none-any.whl (307 kB)\n",
      "Installing collected packages: dnspython, email_validator\n",
      "Successfully installed dnspython-2.6.1 email_validator-2.1.1\n",
      "Note: you may need to restart the kernel to use updated packages.\n"
     ]
    }
   ],
   "source": [
    "pip install email_validator"
   ]
  },
  {
   "cell_type": "markdown",
   "id": "d364b66a-1d76-442c-9f55-2f35b49f78b3",
   "metadata": {},
   "source": [
    "31. Extract the username from an email address string."
   ]
  },
  {
   "cell_type": "code",
   "execution_count": 5,
   "id": "4c1e5fec-6432-404c-8bbb-fa55b436aa3f",
   "metadata": {},
   "outputs": [
    {
     "name": "stdout",
     "output_type": "stream",
     "text": [
      "Original Email: rajkumar.rajbhar2605@gmail.com\n",
      "Extract the name from the said Email address:\n",
      "rajkumarrajbhar\n"
     ]
    }
   ],
   "source": [
    "# Define a function to extract the name from an email address\n",
    "def test(email_address):\n",
    "    # Find the index of the '@' symbol in the email address\n",
    "    r = email_address.index(\"@\")\n",
    "    \n",
    "    # Use a generator expression to join alphabetic characters before the '@' symbol\n",
    "    return \"\".join(l for l in email_address[:r] if l.isalpha())\n",
    "\n",
    "# Initialize an email address\n",
    "email_address = \"rajkumar.rajbhar2605@gmail.com\"\n",
    "print(\"Original Email:\", email_address)\n",
    "\n",
    "# Print a message indicating the extraction of the name from the email address\n",
    "print(\"Extract the name from the said Email address:\")\n",
    "\n",
    "# Call the function to extract the name and print the result\n",
    "print(test(email_address))\n",
    "\n"
   ]
  },
  {
   "cell_type": "markdown",
   "id": "0cbdebdc-7686-4977-bd01-51616f35f80e",
   "metadata": {},
   "source": [
    "32. Extract the domain name from an email address string."
   ]
  },
  {
   "cell_type": "code",
   "execution_count": 6,
   "id": "b8b33f5d-3aa7-461b-b3b2-17f0beda8155",
   "metadata": {},
   "outputs": [
    {
     "name": "stdout",
     "output_type": "stream",
     "text": [
      "The original string is : rajkumar.rajbhar2605@gmail.com\n",
      "The extracted domain name : gmail.com\n"
     ]
    }
   ],
   "source": [
    "# Extract domain name from Email address\n",
    "# Using index() + slicing \n",
    "\n",
    "# initializing strings\n",
    "test_str = 'rajkumar.rajbhar2605@gmail.com'\n",
    "\n",
    "# printing original string\n",
    "print(\"The original string is : \" + str(test_str))\n",
    "\n",
    "# slicing domain name using slicing \n",
    "res = test_str[test_str.index('@') + 1 : ]\n",
    "\n",
    "# printing result \n",
    "print(\"The extracted domain name : \" + str(res)) \n"
   ]
  },
  {
   "cell_type": "markdown",
   "id": "b9c07c0e-96bf-4022-aac2-2854045e9e0f",
   "metadata": {},
   "source": [
    "33. Replace multiple spaces in a string with a single space."
   ]
  },
  {
   "cell_type": "code",
   "execution_count": 17,
   "id": "b0a9e295-be0d-4563-8698-d7abfc5ccdc0",
   "metadata": {},
   "outputs": [
    {
     "name": "stdout",
     "output_type": "stream",
     "text": [
      "Below string is after removed extra spaces\n",
      "\n",
      "Replace multiple spaces in a string with a single space.\n"
     ]
    }
   ],
   "source": [
    "# String\n",
    "String = \"Replace   multiple    spaces in a   string with a single space.\"\n",
    "#Split = String.split()   \n",
    "#print(' '.join(Split))\n",
    "print(\"Below string is after removed extra spaces\\n\")\n",
    "print(' '.join(String.split()))    # Here first split the string and then join it together"
   ]
  },
  {
   "cell_type": "markdown",
   "id": "55c1a9df-2117-44b8-b679-d2b1d84053c7",
   "metadata": {},
   "source": [
    "34. Check if a string is a valid URL."
   ]
  },
  {
   "cell_type": "code",
   "execution_count": 20,
   "id": "8c17d76c-b09d-457b-934f-31773048a341",
   "metadata": {},
   "outputs": [
    {
     "name": "stdout",
     "output_type": "stream",
     "text": [
      "URLs:  ['https://accounts.pwskills.com/login?domain=pwskills.com&redirectUrl=%2F&action=logout', 'https://pwskills.com/learn/']\n"
     ]
    }
   ],
   "source": [
    "String = \"Our official website is https://accounts.pwskills.com/login?domain=pwskills.com&redirectUrl=%2F&action=logout and my account is https://pwskills.com/learn/\"\n",
    "Split = String.split()\n",
    "URL = []\n",
    "for i in Split:\n",
    "    if i.startswith('https') or i.startswith('htts'):\n",
    "        URL.append(i)\n",
    "print('URLs: ', URL)"
   ]
  },
  {
   "cell_type": "markdown",
   "id": "03410419-8983-4911-9717-05bf8d06423e",
   "metadata": {},
   "source": [
    "35. Extract the protocol (http or https) from a URL string."
   ]
  },
  {
   "cell_type": "code",
   "execution_count": 33,
   "id": "1f8cd54e-f9cd-4e3a-841e-59221f5244a5",
   "metadata": {},
   "outputs": [
    {
     "name": "stdout",
     "output_type": "stream",
     "text": [
      "https\n"
     ]
    }
   ],
   "source": [
    "# String\n",
    "String = \"https://accounts.pwskills.com/login?domain=pwskills.com&redirectUrl=%2F&action=logout\"\n",
    "\n",
    "# find the index of the specified string.\n",
    "Index = String.index(':')\n",
    "\n",
    "# Empty list to hold the value\n",
    "Protocol = []\n",
    "\n",
    "#Iterator with string slicing\n",
    "for i in String[:Index]:\n",
    "    if i.isalpha():      \n",
    "        Protocol.append(i)\n",
    "\n",
    "# Join the characters.\n",
    "print(''.join(Protocol))\n"
   ]
  },
  {
   "cell_type": "markdown",
   "id": "526f3bfb-007f-4463-bfa5-689088c29014",
   "metadata": {},
   "source": [
    "36. Find the frequency of each character in a string."
   ]
  },
  {
   "cell_type": "code",
   "execution_count": 70,
   "id": "6b387699-7fdb-41e6-8410-0dac93165187",
   "metadata": {},
   "outputs": [
    {
     "name": "stdout",
     "output_type": "stream",
     "text": [
      "Count of all characters in GeeksforGeeks is :\n",
      "  {'r': 4, 'a': 5, 'j': 2, 'k': 1, 'u': 1, 'm': 3, '.': 2, 'b': 1, 'h': 1, '2': 1, '6': 1, '0': 1, '5': 1, '@': 1, 'g': 1, 'i': 1, 'l': 1, 'c': 1, 'o': 1}\n"
     ]
    }
   ],
   "source": [
    "# Python3 code to demonstrate\n",
    "# each occurrence frequency using\n",
    "# naive method\n",
    "\n",
    "# initializing string\n",
    "String = \"Find the frequency of each character in a string.\"\n",
    "\n",
    "# using the naive method to get the count of each element in the string\n",
    "all_freq = {}\n",
    "for i in test_str:\n",
    "\tif i in all_freq:\n",
    "\t\tall_freq[i] += 1\n",
    "\telse:\n",
    "\t\tall_freq[i] = 1\n",
    "# printing result\n",
    "print(\"Count of all characters in GeeksforGeeks is :\\n \", str(all_freq))\n"
   ]
  },
  {
   "cell_type": "code",
   "execution_count": 67,
   "id": "f44c76cd-030b-4b82-ab81-f19d7e0d4ff9",
   "metadata": {},
   "outputs": [],
   "source": [
    "# Need to check Q.36"
   ]
  },
  {
   "cell_type": "markdown",
   "id": "617f03d0-67e7-4adf-b431-e8c581116882",
   "metadata": {},
   "source": [
    "37. Remove all punctuation from a string."
   ]
  },
  {
   "cell_type": "code",
   "execution_count": 69,
   "id": "0d0c0d57-9cee-47b7-89ce-60eaac88a7a9",
   "metadata": {},
   "outputs": [
    {
     "name": "stdout",
     "output_type": "stream",
     "text": [
      "What are All of the Punctuation Marks\n"
     ]
    }
   ],
   "source": [
    "import string\n",
    "String = \"What are All: of the Punctuation Marks?\"\n",
    "String = String.translate(str.maketrans('', '', string.punctuation))\n",
    "print(String)"
   ]
  },
  {
   "cell_type": "markdown",
   "id": "9d0e525f-4428-4a87-8eef-9ec456bbe8f6",
   "metadata": {},
   "source": [
    "38. Check if a string contains only digits."
   ]
  },
  {
   "cell_type": "code",
   "execution_count": 76,
   "id": "23cb69c6-c2a7-4959-b50f-1395abd7f2d5",
   "metadata": {},
   "outputs": [
    {
     "name": "stdin",
     "output_type": "stream",
     "text": [
      "Please enter your string:   1020\n"
     ]
    },
    {
     "name": "stdout",
     "output_type": "stream",
     "text": [
      "True\n"
     ]
    }
   ],
   "source": [
    "String = input(\"Please enter your string:  \")\n",
    "#String = 'Rajkumar Rajbhar roll number is 1001'\n",
    "if String.isdigit():\n",
    "    print(True)\n",
    "else:\n",
    "    print(False)\n",
    "        "
   ]
  },
  {
   "cell_type": "markdown",
   "id": "beff2d4d-ef6b-4d76-9aef-b3465c992cc2",
   "metadata": {},
   "source": [
    "39. Check if a string contains only alphabets."
   ]
  },
  {
   "cell_type": "code",
   "execution_count": 81,
   "id": "83c18353-8be8-4311-9d32-876c632fcba9",
   "metadata": {},
   "outputs": [
    {
     "name": "stdin",
     "output_type": "stream",
     "text": [
      "Please enter your string:   R1\n"
     ]
    },
    {
     "name": "stdout",
     "output_type": "stream",
     "text": [
      "False\n"
     ]
    }
   ],
   "source": [
    "String = input(\"Please enter your string:  \")\n",
    "#String = 'Rajkumar Rajbhar roll number is 1001'\n",
    "if String.isalpha():\n",
    "    print(True)\n",
    "else:\n",
    "    print(False)"
   ]
  },
  {
   "cell_type": "markdown",
   "id": "6715ee88-b660-4cf7-9f14-284dac6b12bd",
   "metadata": {},
   "source": [
    "40. Convert a string to a list of characters."
   ]
  },
  {
   "cell_type": "code",
   "execution_count": 83,
   "id": "92955726-dbd5-4bf0-944f-f17aee171415",
   "metadata": {},
   "outputs": [
    {
     "name": "stdout",
     "output_type": "stream",
     "text": [
      "['C', 'o', 'n', 'v', 'e', 'r', 't', ' ', 'a', ' ', 's', 't', 'r', 'i', 'n', 'g', ' ', 't', 'o', ' ', 'a', ' ', 'l', 'i', 's', 't', ' ', 'o', 'f', ' ', 'c', 'h', 'a', 'r', 'a', 'c', 't', 'e', 'r', 's']\n"
     ]
    }
   ],
   "source": [
    "String =\"Convert a string to a list of characters\"\n",
    "Char = []\n",
    "for i in String:\n",
    "    Char.append(i)\n",
    "print(Char)"
   ]
  },
  {
   "cell_type": "markdown",
   "id": "0ce5eeb2-7bf1-4ceb-a2bc-878ed1491726",
   "metadata": {},
   "source": [
    "41. Check if two strings are anagrams."
   ]
  },
  {
   "cell_type": "code",
   "execution_count": 88,
   "id": "8df5ff04-b247-4357-ae57-0df0ca96d100",
   "metadata": {},
   "outputs": [
    {
     "name": "stdout",
     "output_type": "stream",
     "text": [
      "Yes! strings are anagrams\n"
     ]
    }
   ],
   "source": [
    "S1 = 'listen'\n",
    "S2 = 'silent'\n",
    "# The sorted strings are checked \n",
    "if sorted(S1) == sorted(S2):\n",
    "    print(\"Yes! strings are anagrams\")\n",
    "else:\n",
    "    print('Ohh no.. strings are not anagrams')"
   ]
  },
  {
   "cell_type": "markdown",
   "id": "3bb4e89c-4ce5-472e-907d-3f1bfe278ca5",
   "metadata": {},
   "source": [
    "42. Encode a string using a Caesar cipher."
   ]
  },
  {
   "cell_type": "code",
   "execution_count": null,
   "id": "07fb5b22-b73b-45a5-ae65-668898173ee8",
   "metadata": {},
   "outputs": [],
   "source": []
  },
  {
   "cell_type": "code",
   "execution_count": null,
   "id": "7a517d26-e129-4d07-a8d4-66d094806525",
   "metadata": {},
   "outputs": [],
   "source": []
  },
  {
   "cell_type": "code",
   "execution_count": null,
   "id": "42376f9f-2f7e-4cd2-a3df-769d3fbb4f22",
   "metadata": {},
   "outputs": [],
   "source": []
  },
  {
   "cell_type": "code",
   "execution_count": null,
   "id": "d7c1dd5a-62ec-43a6-a493-8893c7d065db",
   "metadata": {},
   "outputs": [],
   "source": []
  },
  {
   "cell_type": "code",
   "execution_count": null,
   "id": "c5366ce9-e2c8-4479-975d-5a346d3bd08f",
   "metadata": {},
   "outputs": [],
   "source": []
  },
  {
   "cell_type": "code",
   "execution_count": null,
   "id": "cde486a4-73ac-47d7-837a-8a2115a8a43a",
   "metadata": {},
   "outputs": [],
   "source": []
  }
 ],
 "metadata": {
  "kernelspec": {
   "display_name": "Python 3 (ipykernel)",
   "language": "python",
   "name": "python3"
  },
  "language_info": {
   "codemirror_mode": {
    "name": "ipython",
    "version": 3
   },
   "file_extension": ".py",
   "mimetype": "text/x-python",
   "name": "python",
   "nbconvert_exporter": "python",
   "pygments_lexer": "ipython3",
   "version": "3.11.5"
  }
 },
 "nbformat": 4,
 "nbformat_minor": 5
}
