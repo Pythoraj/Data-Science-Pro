{
  "nbformat": 4,
  "nbformat_minor": 0,
  "metadata": {
    "colab": {
      "provenance": []
    },
    "kernelspec": {
      "name": "python3",
      "display_name": "Python 3"
    },
    "language_info": {
      "name": "python"
    }
  },
  "cells": [
    {
      "cell_type": "markdown",
      "source": [
        "Problem 1: Bank Account Create a class representing a bank account with attributes like account number, account holder name, and balance. Implement methods to deposit and withdraw money from the account."
      ],
      "metadata": {
        "id": "qTn-IhLTfU-b"
      }
    },
    {
      "cell_type": "code",
      "execution_count": 1,
      "metadata": {
        "id": "N_lSCaPafOmq"
      },
      "outputs": [],
      "source": [
        "class BankAccount:\n",
        "    def __init__(self, account_number, account_holder, initial_balance=0):\n",
        "        \"\"\"\n",
        "        Initializes a BankAccount object.\n",
        "\n",
        "        Args:\n",
        "            account_number (int): The account number.\n",
        "            account_holder (str): The account holder's name.\n",
        "            initial_balance (float, optional): The initial balance. Defaults to 0.\n",
        "        \"\"\"\n",
        "        self.account_number = account_number\n",
        "        self.account_holder = account_holder\n",
        "        self.balance = initial_balance\n",
        "\n",
        "    def deposit(self, amount):\n",
        "        \"\"\"\n",
        "        Deposits money into the account.\n",
        "\n",
        "        Args:\n",
        "            amount (float): The amount to deposit.\n",
        "\n",
        "        Returns:\n",
        "            float: The new balance.\n",
        "        \"\"\"\n",
        "        self.balance += amount\n",
        "        return self.balance\n",
        "\n",
        "    def withdraw(self, amount):\n",
        "        \"\"\"\n",
        "        Withdraws money from the account.\n",
        "\n",
        "        Args:\n",
        "            amount (float): The amount to withdraw.\n",
        "\n",
        "        Returns:\n",
        "            float: The new balance.\n",
        "\n",
        "        Raises:\n",
        "            ValueError: If the withdrawal amount exceeds the balance.\n",
        "        \"\"\"\n",
        "        if amount > self.balance:\n",
        "            raise ValueError(\"Insufficient balance\")\n",
        "        self.balance -= amount\n",
        "        return self.balance\n",
        "\n",
        "    def __str__(self):\n",
        "        \"\"\"\n",
        "        Returns a string representation of the account.\n",
        "\n",
        "        Returns:\n",
        "            str: A string representation of the account.\n",
        "        \"\"\"\n",
        "        return f\"Account {self.account_number} - {self.account_holder}: ${self.balance:.2f}\""
      ]
    },
    {
      "cell_type": "code",
      "source": [
        "account = BankAccount(12345, \"John Doe\", 1000)\n",
        "print(account)  # Output: Account 12345 - John Doe: $1000.00\n",
        "\n",
        "account.deposit(500)\n",
        "print(account)  # Output: Account 12345 - John Doe: $1500.00\n",
        "\n",
        "account.withdraw(200)\n",
        "print(account)  # Output: Account 12345 - John Doe: $1300.00\n",
        "\n",
        "try:\n",
        "    account.withdraw(1500)\n",
        "except ValueError as e:\n",
        "    print(e)  # Output: Insufficient balance"
      ],
      "metadata": {
        "colab": {
          "base_uri": "https://localhost:8080/"
        },
        "id": "2yMuqkJqffnh",
        "outputId": "a898c114-2cf6-4c64-95cc-019abb116ec5"
      },
      "execution_count": 2,
      "outputs": [
        {
          "output_type": "stream",
          "name": "stdout",
          "text": [
            "Account 12345 - John Doe: $1000.00\n",
            "Account 12345 - John Doe: $1500.00\n",
            "Account 12345 - John Doe: $1300.00\n",
            "Insufficient balance\n"
          ]
        }
      ]
    },
    {
      "cell_type": "markdown",
      "source": [
        "Problem 2: Employee Management Create a class representing an employee with attributes like employee ID, name, and salary. Implement methods to calculate the yearly bonus and display employee details."
      ],
      "metadata": {
        "id": "cSL-KD-UfoJD"
      }
    },
    {
      "cell_type": "code",
      "source": [
        "class Employee:\n",
        "    def __init__(self, employee_id, name, salary):\n",
        "        \"\"\"\n",
        "        Initializes an Employee object.\n",
        "\n",
        "        Args:\n",
        "            employee_id (int): The employee ID.\n",
        "            name (str): The employee's name.\n",
        "            salary (float): The employee's salary.\n",
        "        \"\"\"\n",
        "        self.employee_id = employee_id\n",
        "        self.name = name\n",
        "        self.salary = salary\n",
        "\n",
        "    def calculate_yearly_bonus(self, bonus_percentage):\n",
        "        \"\"\"\n",
        "        Calculates the yearly bonus based on the salary and bonus percentage.\n",
        "\n",
        "        Args:\n",
        "            bonus_percentage (float): The bonus percentage.\n",
        "\n",
        "        Returns:\n",
        "            float: The yearly bonus.\n",
        "        \"\"\"\n",
        "        return (self.salary / 12) * (bonus_percentage / 100)\n",
        "\n",
        "    def display_employee_details(self):\n",
        "        \"\"\"\n",
        "        Displays the employee's details, including ID, name, salary, and yearly bonus.\n",
        "        \"\"\"\n",
        "        bonus = self.calculate_yearly_bonus(10)  # Assuming a 10% bonus percentage\n",
        "        print(f\"Employee ID: {self.employee_id}\")\n",
        "        print(f\"Name: {self.name}\")\n",
        "        print(f\"Salary: ${self.salary:.2f}\")\n",
        "        print(f\"Yearly Bonus: ${bonus:.2f}\")\n",
        "\n",
        "    def __str__(self):\n",
        "        \"\"\"\n",
        "        Returns a string representation of the employee.\n",
        "\n",
        "        Returns:\n",
        "            str: A string representation of the employee.\n",
        "        \"\"\"\n",
        "        return f\"Employee {self.employee_id} - {self.name}: ${self.salary:.2f}\""
      ],
      "metadata": {
        "id": "_nNK4-4kfjhz"
      },
      "execution_count": 3,
      "outputs": []
    },
    {
      "cell_type": "code",
      "source": [
        "employee = Employee(123, \"John Smith\", 50000)\n",
        "print(employee)  # Output: Employee 123 - John Smith: $50000.00\n",
        "\n",
        "employee.display_employee_details()"
      ],
      "metadata": {
        "colab": {
          "base_uri": "https://localhost:8080/"
        },
        "id": "NqFek5VQf3g7",
        "outputId": "cbb1145c-81f2-44e7-a081-9e4e257ffbbf"
      },
      "execution_count": 4,
      "outputs": [
        {
          "output_type": "stream",
          "name": "stdout",
          "text": [
            "Employee 123 - John Smith: $50000.00\n",
            "Employee ID: 123\n",
            "Name: John Smith\n",
            "Salary: $50000.00\n",
            "Yearly Bonus: $416.67\n"
          ]
        }
      ]
    },
    {
      "cell_type": "markdown",
      "source": [
        "Problem 3: Vehicle Rental Create a class representing a vehicle rental system. Implement methods to rent a vehicle, return a vehicle, and display available vehicles."
      ],
      "metadata": {
        "id": "Xa0mZwgVf9WW"
      }
    },
    {
      "cell_type": "code",
      "source": [
        "class VehicleRentalSystem:\n",
        "    def __init__(self):\n",
        "        \"\"\"\n",
        "        Initializes a VehicleRentalSystem object.\n",
        "\n",
        "        Attributes:\n",
        "            vehicles (dict): A dictionary of available vehicles, where keys are vehicle IDs and values are vehicle names.\n",
        "            rented_vehicles (dict): A dictionary of rented vehicles, where keys are vehicle IDs and values are renter names.\n",
        "        \"\"\"\n",
        "        self.vehicles = {\n",
        "            1: \"Toyota Camry\",\n",
        "            2: \"Honda Civic\",\n",
        "            3: \"Ford Focus\",\n",
        "            4: \"Nissan Altima\",\n",
        "            5: \"Chevrolet Cruze\"\n",
        "        }\n",
        "        self.rented_vehicles = {}\n",
        "\n",
        "    def rent_vehicle(self, vehicle_id, renter_name):\n",
        "        \"\"\"\n",
        "        Rents a vehicle to a renter.\n",
        "\n",
        "        Args:\n",
        "            vehicle_id (int): The ID of the vehicle to rent.\n",
        "            renter_name (str): The name of the renter.\n",
        "\n",
        "        Returns:\n",
        "            str: A success message if the vehicle is available, or an error message if the vehicle is already rented.\n",
        "\n",
        "        Raises:\n",
        "            KeyError: If the vehicle ID is not found in the available vehicles.\n",
        "        \"\"\"\n",
        "        if vehicle_id in self.vehicles:\n",
        "            if vehicle_id not in self.rented_vehicles:\n",
        "                del self.vehicles[vehicle_id]\n",
        "                self.rented_vehicles[vehicle_id] = renter_name\n",
        "                return f\"Vehicle {vehicle_id} rented to {renter_name} successfully.\"\n",
        "            else:\n",
        "                return f\"Vehicle {vehicle_id} is already rented.\"\n",
        "        else:\n",
        "            raise KeyError(f\"Vehicle {vehicle_id} not found.\")\n",
        "\n",
        "    def return_vehicle(self, vehicle_id):\n",
        "        \"\"\"\n",
        "        Returns a rented vehicle.\n",
        "\n",
        "        Args:\n",
        "            vehicle_id (int): The ID of the vehicle to return.\n",
        "\n",
        "        Returns:\n",
        "            str: A success message if the vehicle is returned successfully, or an error message if the vehicle is not found.\n",
        "\n",
        "        Raises:\n",
        "            KeyError: If the vehicle ID is not found in the rented vehicles.\n",
        "        \"\"\"\n",
        "        if vehicle_id in self.rented_vehicles:\n",
        "            self.vehicles[vehicle_id] = self.rented_vehicles[vehicle_id]\n",
        "            del self.rented_vehicles[vehicle_id]\n",
        "            return f\"Vehicle {vehicle_id} returned successfully.\"\n",
        "        else:\n",
        "            raise KeyError(f\"Vehicle {vehicle_id} not found.\")\n",
        "\n",
        "    def display_available_vehicles(self):\n",
        "        \"\"\"\n",
        "        Displays the available vehicles.\n",
        "        \"\"\"\n",
        "        print(\"Available Vehicles:\")\n",
        "        for vehicle_id, vehicle_name in self.vehicles.items():\n",
        "            print(f\"{vehicle_id}: {vehicle_name}\")\n",
        "\n",
        "    def __str__(self):\n",
        "        \"\"\"\n",
        "        Returns a string representation of the vehicle rental system.\n",
        "\n",
        "        Returns:\n",
        "            str: A string representation of the vehicle rental system.\n",
        "        \"\"\"\n",
        "        return \"Vehicle Rental System\""
      ],
      "metadata": {
        "id": "cZjKXRA2f8B1"
      },
      "execution_count": 5,
      "outputs": []
    },
    {
      "cell_type": "code",
      "source": [
        "rental_system = VehicleRentalSystem()\n",
        "print(rental_system.display_available_vehicles())\n",
        "print(rental_system.rent_vehicle(1, \"John Doe\"))\n",
        "print(rental_system.display_available_vehicles())\n",
        "print(rental_system.return_vehicle(1))\n",
        "print(rental_system.display_available_vehicles())"
      ],
      "metadata": {
        "colab": {
          "base_uri": "https://localhost:8080/"
        },
        "id": "nlFneMymgKYx",
        "outputId": "498d3c46-402c-4667-aff8-c4fa6451ebc5"
      },
      "execution_count": 6,
      "outputs": [
        {
          "output_type": "stream",
          "name": "stdout",
          "text": [
            "Available Vehicles:\n",
            "1: Toyota Camry\n",
            "2: Honda Civic\n",
            "3: Ford Focus\n",
            "4: Nissan Altima\n",
            "5: Chevrolet Cruze\n",
            "None\n",
            "Vehicle 1 rented to John Doe successfully.\n",
            "Available Vehicles:\n",
            "2: Honda Civic\n",
            "3: Ford Focus\n",
            "4: Nissan Altima\n",
            "5: Chevrolet Cruze\n",
            "None\n",
            "Vehicle 1 returned successfully.\n",
            "Available Vehicles:\n",
            "2: Honda Civic\n",
            "3: Ford Focus\n",
            "4: Nissan Altima\n",
            "5: Chevrolet Cruze\n",
            "1: John Doe\n",
            "None\n"
          ]
        }
      ]
    },
    {
      "cell_type": "markdown",
      "source": [
        "Problem 4: Library Catalog Create classes representing a library and a book. Implement methods to add books to the library, borrow books, and display available books."
      ],
      "metadata": {
        "id": "iII91ayngdHI"
      }
    },
    {
      "cell_type": "code",
      "source": [
        "class Book:\n",
        "    def __init__(self, title, author, book_id):\n",
        "        \"\"\"\n",
        "        Initializes a Book object.\n",
        "\n",
        "        Args:\n",
        "            title (str): The book title.\n",
        "            author (str): The book author.\n",
        "            book_id (int): The book ID.\n",
        "        \"\"\"\n",
        "        self.title = title\n",
        "        self.author = author\n",
        "        self.book_id = book_id\n",
        "        self.is_available = True\n",
        "\n",
        "    def __str__(self):\n",
        "        \"\"\"\n",
        "        Returns a string representation of the book.\n",
        "\n",
        "        Returns:\n",
        "            str: A string representation of the book.\n",
        "        \"\"\"\n",
        "        return f\"{self.title} by {self.author} (ID: {self.book_id})\"\n",
        "\n",
        "\n",
        "class Library:\n",
        "    def __init__(self):\n",
        "        \"\"\"\n",
        "        Initializes a Library object.\n",
        "\n",
        "        Attributes:\n",
        "            books (dict): A dictionary of books, where keys are book IDs and values are Book objects.\n",
        "        \"\"\"\n",
        "        self.books = {}\n",
        "\n",
        "    def add_book(self, book):\n",
        "        \"\"\"\n",
        "        Adds a book to the library.\n",
        "\n",
        "        Args:\n",
        "            book (Book): The book to add.\n",
        "\n",
        "        Returns:\n",
        "            str: A success message if the book is added successfully.\n",
        "        \"\"\"\n",
        "        self.books[book.book_id] = book\n",
        "        return f\"Book {book.title} added to the library successfully.\"\n",
        "\n",
        "    def borrow_book(self, book_id):\n",
        "        \"\"\"\n",
        "        Borrows a book from the library.\n",
        "\n",
        "        Args:\n",
        "            book_id (int): The ID of the book to borrow.\n",
        "\n",
        "        Returns:\n",
        "            str: A success message if the book is borrowed successfully, or an error message if the book is not available.\n",
        "\n",
        "        Raises:\n",
        "            KeyError: If the book ID is not found in the library.\n",
        "        \"\"\"\n",
        "        if book_id in self.books:\n",
        "            if self.books[book_id].is_available:\n",
        "                self.books[book_id].is_available = False\n",
        "                return f\"Book {self.books[book_id].title} borrowed successfully.\"\n",
        "            else:\n",
        "                return f\"Book {self.books[book_id].title} is not available.\"\n",
        "        else:\n",
        "            raise KeyError(f\"Book {book_id} not found in the library.\")\n",
        "\n",
        "    def return_book(self, book_id):\n",
        "        \"\"\"\n",
        "        Returns a borrowed book to the library.\n",
        "\n",
        "        Args:\n",
        "            book_id (int): The ID of the book to return.\n",
        "\n",
        "        Returns:\n",
        "            str: A success message if the book is returned successfully.\n",
        "\n",
        "        Raises:\n",
        "            KeyError: If the book ID is not found in the library.\n",
        "        \"\"\"\n",
        "        if book_id in self.books:\n",
        "            self.books[book_id].is_available = True\n",
        "            return f\"Book {self.books[book_id].title} returned successfully.\"\n",
        "        else:\n",
        "            raise KeyError(f\"Book {book_id} not found in the library.\")\n",
        "\n",
        "    def display_available_books(self):\n",
        "        \"\"\"\n",
        "        Displays the available books in the library.\n",
        "        \"\"\"\n",
        "        print(\"Available Books:\")\n",
        "        for book_id, book in self.books.items():\n",
        "            if book.is_available:\n",
        "                print(book)\n",
        "\n",
        "    def __str__(self):\n",
        "        \"\"\"\n",
        "        Returns a string representation of the library.\n",
        "\n",
        "        Returns:\n",
        "            str: A string representation of the library.\n",
        "        \"\"\"\n",
        "        return \"Library Catalog\""
      ],
      "metadata": {
        "id": "wkIvooxhgYjx"
      },
      "execution_count": 7,
      "outputs": []
    },
    {
      "cell_type": "code",
      "source": [
        "library = Library()\n",
        "book1 = Book(\"To Kill a Mockingbird\", \"Harper Lee\", 1)\n",
        "book2 = Book(\"1984\", \"George Orwell\", 2)\n",
        "book3 = Book(\"The Great Gatsby\", \"F. Scott Fitzgerald\", 3)\n",
        "library.add_book(book1)\n",
        "library.add_book(book2)\n",
        "library.add_book(book3)\n",
        "library.display_available_books()\n",
        "print(library.borrow_book(1))\n",
        "library.display_available_books()"
      ],
      "metadata": {
        "colab": {
          "base_uri": "https://localhost:8080/"
        },
        "id": "d3aMPZeLgylz",
        "outputId": "e46f39e2-bb34-4775-a49a-6ea38ed3608a"
      },
      "execution_count": 8,
      "outputs": [
        {
          "output_type": "stream",
          "name": "stdout",
          "text": [
            "Available Books:\n",
            "To Kill a Mockingbird by Harper Lee (ID: 1)\n",
            "1984 by George Orwell (ID: 2)\n",
            "The Great Gatsby by F. Scott Fitzgerald (ID: 3)\n",
            "Book To Kill a Mockingbird borrowed successfully.\n",
            "Available Books:\n",
            "1984 by George Orwell (ID: 2)\n",
            "The Great Gatsby by F. Scott Fitzgerald (ID: 3)\n"
          ]
        }
      ]
    },
    {
      "cell_type": "markdown",
      "source": [
        "Problem 5: Product Inventory Create classes representing a product and an inventory system. Implement methods to add products to the inventory, update product quantity, and display available products."
      ],
      "metadata": {
        "id": "zaNViQiRhC4W"
      }
    },
    {
      "cell_type": "code",
      "source": [
        "class Product:\n",
        "    def __init__(self, name, product_id, quantity):\n",
        "        \"\"\"\n",
        "        Initializes a Product object.\n",
        "\n",
        "        Args:\n",
        "            name (str): The product name.\n",
        "            product_id (int): The product ID.\n",
        "            quantity (int): The initial quantity of the product.\n",
        "        \"\"\"\n",
        "        self.name = name\n",
        "        self.product_id = product_id\n",
        "        self.quantity = quantity\n",
        "\n",
        "    def __str__(self):\n",
        "        \"\"\"\n",
        "        Returns a string representation of the product.\n",
        "\n",
        "        Returns:\n",
        "            str: A string representation of the product.\n",
        "        \"\"\"\n",
        "        return f\"{self.name} (ID: {self.product_id}) - Quantity: {self.quantity}\"\n",
        "\n",
        "\n",
        "class InventorySystem:\n",
        "    def __init__(self):\n",
        "        \"\"\"\n",
        "        Initializes an InventorySystem object.\n",
        "\n",
        "        Attributes:\n",
        "            products (dict): A dictionary of products, where keys are product IDs and values are Product objects.\n",
        "        \"\"\"\n",
        "        self.products = {}\n",
        "\n",
        "    def add_product(self, product):\n",
        "        \"\"\"\n",
        "        Adds a product to the inventory.\n",
        "\n",
        "        Args:\n",
        "            product (Product): The product to add.\n",
        "\n",
        "        Returns:\n",
        "            str: A success message if the product is added successfully.\n",
        "        \"\"\"\n",
        "        self.products[product.product_id] = product\n",
        "        return f\"Product {product.name} added to the inventory successfully.\"\n",
        "\n",
        "    def update_quantity(self, product_id, quantity):\n",
        "        \"\"\"\n",
        "        Updates the quantity of a product in the inventory.\n",
        "\n",
        "        Args:\n",
        "            product_id (int): The ID of the product to update.\n",
        "            quantity (int): The new quantity of the product.\n",
        "\n",
        "        Returns:\n",
        "            str: A success message if the quantity is updated successfully.\n",
        "\n",
        "        Raises:\n",
        "            KeyError: If the product ID is not found in the inventory.\n",
        "        \"\"\"\n",
        "        if product_id in self.products:\n",
        "            self.products[product_id].quantity = quantity\n",
        "            return f\"Quantity of product {self.products[product_id].name} updated successfully.\"\n",
        "        else:\n",
        "            raise KeyError(f\"Product {product_id} not found in the inventory.\")\n",
        "\n",
        "    def display_available_products(self):\n",
        "        \"\"\"\n",
        "        Displays the available products in the inventory.\n",
        "        \"\"\"\n",
        "        print(\"Available Products:\")\n",
        "        for product_id, product in self.products.items():\n",
        "            print(product)\n",
        "\n",
        "    def __str__(self):\n",
        "        \"\"\"\n",
        "        Returns a string representation of the inventory system.\n",
        "\n",
        "        Returns:\n",
        "            str: A string representation of the inventory system.\n",
        "        \"\"\"\n",
        "        return \"Product Inventory System\""
      ],
      "metadata": {
        "id": "Bc6a565Kg-ZP"
      },
      "execution_count": 9,
      "outputs": []
    },
    {
      "cell_type": "code",
      "source": [
        "inventory_system = InventorySystem()\n",
        "product1 = Product(\"Apple iPhone\", 1, 10)\n",
        "product2 = Product(\"Samsung TV\", 2, 5)\n",
        "product3 = Product(\"Sony Headphones\", 3, 20)\n",
        "inventory_system.add_product(product1)\n",
        "inventory_system.add_product(product2)\n",
        "inventory_system.add_product(product3)\n",
        "inventory_system.display_available_products()\n",
        "print(inventory_system.update_quantity(1, 15))\n",
        "inventory_system.display_available_products()\n"
      ],
      "metadata": {
        "colab": {
          "base_uri": "https://localhost:8080/"
        },
        "id": "0yp8qNLjhJVt",
        "outputId": "cd8e29df-183b-4681-be1d-7b2455664139"
      },
      "execution_count": 10,
      "outputs": [
        {
          "output_type": "stream",
          "name": "stdout",
          "text": [
            "Available Products:\n",
            "Apple iPhone (ID: 1) - Quantity: 10\n",
            "Samsung TV (ID: 2) - Quantity: 5\n",
            "Sony Headphones (ID: 3) - Quantity: 20\n",
            "Quantity of product Apple iPhone updated successfully.\n",
            "Available Products:\n",
            "Apple iPhone (ID: 1) - Quantity: 15\n",
            "Samsung TV (ID: 2) - Quantity: 5\n",
            "Sony Headphones (ID: 3) - Quantity: 20\n"
          ]
        }
      ]
    },
    {
      "cell_type": "markdown",
      "source": [
        "Problem 6: Shape Calculation Create a class representing a shape with attributes like length, width, and height. Implement methods to calculate the area and perimeter of the shape."
      ],
      "metadata": {
        "id": "NlkjBUTXhXx1"
      }
    },
    {
      "cell_type": "code",
      "source": [
        "class Shape:\n",
        "    def __init__(self, length, width, height=0):\n",
        "        \"\"\"\n",
        "        Initializes a Shape object.\n",
        "\n",
        "        Args:\n",
        "            length (float): The length of the shape.\n",
        "            width (float): The width of the shape.\n",
        "            height (float, optional): The height of the shape (default is 0).\n",
        "        \"\"\"\n",
        "        self.length = length\n",
        "        self.width = width\n",
        "        self.height = height\n",
        "\n",
        "    def area(self):\n",
        "        \"\"\"\n",
        "        Calculates the area of the shape.\n",
        "\n",
        "        Returns:\n",
        "            float: The area of the shape.\n",
        "        \"\"\"\n",
        "        if self.height == 0:  # 2D shape\n",
        "            return self.length * self.width\n",
        "        else:  # 3D shape\n",
        "            return 2 * (self.length * self.width + self.width * self.height + self.height * self.length)\n",
        "\n",
        "    def perimeter(self):\n",
        "        \"\"\"\n",
        "        Calculates the perimeter of the shape.\n",
        "\n",
        "        Returns:\n",
        "            float: The perimeter of the shape.\n",
        "        \"\"\"\n",
        "        if self.height == 0:  # 2D shape\n",
        "            return 2 * (self.length + self.width)\n",
        "        else:  # 3D shape\n",
        "            return 4 * (self.length + self.width + self.height)\n",
        "\n",
        "    def __str__(self):\n",
        "        \"\"\"\n",
        "        Returns a string representation of the shape.\n",
        "\n",
        "        Returns:\n",
        "            str: A string representation of the shape.\n",
        "        \"\"\"\n",
        "        if self.height == 0:  # 2D shape\n",
        "            return f\"2D Shape - Length: {self.length}, Width: {self.width}\"\n",
        "        else:  # 3D shape\n",
        "            return f\"3D Shape - Length: {self.length}, Width: {self.width}, Height: {self.height}\""
      ],
      "metadata": {
        "id": "PRM70d48hS30"
      },
      "execution_count": 11,
      "outputs": []
    },
    {
      "cell_type": "code",
      "source": [
        "# 2D shape\n",
        "shape2d = Shape(5, 3)\n",
        "print(shape2d.area())  # Output: 15.0\n",
        "print(shape2d.perimeter())  # Output: 16.0\n",
        "print(shape2d)  # Output: 2D Shape - Length: 5, Width: 3\n",
        "\n",
        "# 3D shape\n",
        "shape3d = Shape(4, 5, 6)\n",
        "print(shape3d.area())  # Output: 148.0\n",
        "print(shape3d.perimeter())  # Output: 42.0\n",
        "print(shape3d)  # Output: 3D Shape - Length: 4, Width: 5, Height: 6"
      ],
      "metadata": {
        "colab": {
          "base_uri": "https://localhost:8080/"
        },
        "id": "ooHo9GxFhdCt",
        "outputId": "d52b03bc-12ad-4594-9f2b-3c88581e158a"
      },
      "execution_count": 12,
      "outputs": [
        {
          "output_type": "stream",
          "name": "stdout",
          "text": [
            "15\n",
            "16\n",
            "2D Shape - Length: 5, Width: 3\n",
            "148\n",
            "60\n",
            "3D Shape - Length: 4, Width: 5, Height: 6\n"
          ]
        }
      ]
    },
    {
      "cell_type": "markdown",
      "source": [
        "Problem 7: Student Management Create a class representing a student with attributes like student ID, name, and grades. Implement methods to calculate the average grade and display student details."
      ],
      "metadata": {
        "id": "G0xmxeMQhoBK"
      }
    },
    {
      "cell_type": "code",
      "source": [
        "class Student:\n",
        "    def __init__(self, student_id, name, grades=None):\n",
        "        \"\"\"\n",
        "        Initializes a Student object.\n",
        "\n",
        "        Args:\n",
        "            student_id (int): The student ID.\n",
        "            name (str): The student name.\n",
        "            grades (list, optional): A list of grades (default is an empty list).\n",
        "        \"\"\"\n",
        "        self.student_id = student_id\n",
        "        self.name = name\n",
        "        self.grades = grades if grades is not None else []\n",
        "\n",
        "    def add_grade(self, grade):\n",
        "        \"\"\"\n",
        "        Adds a grade to the student's grades.\n",
        "\n",
        "        Args:\n",
        "            grade (float): The grade to add.\n",
        "        \"\"\"\n",
        "        self.grades.append(grade)\n",
        "\n",
        "    def calculate_average_grade(self):\n",
        "        \"\"\"\n",
        "        Calculates the average grade of the student.\n",
        "\n",
        "        Returns:\n",
        "            float: The average grade of the student.\n",
        "        \"\"\"\n",
        "        if not self.grades:\n",
        "            return 0.0\n",
        "        return sum(self.grades) / len(self.grades)\n",
        "\n",
        "    def display_student_details(self):\n",
        "        \"\"\"\n",
        "        Displays the student details.\n",
        "        \"\"\"\n",
        "        print(f\"Student ID: {self.student_id}\")\n",
        "        print(f\"Name: {self.name}\")\n",
        "        print(f\"Grades: {', '.join(map(str, self.grades))}\")\n",
        "        print(f\"Average Grade: {self.calculate_average_grade():.2f}\")\n",
        "\n",
        "    def __str__(self):\n",
        "        \"\"\"\n",
        "        Returns a string representation of the student.\n",
        "\n",
        "        Returns:\n",
        "            str: A string representation of the student.\n",
        "        \"\"\"\n",
        "        return f\"Student {self.name} (ID: {self.student_id})\""
      ],
      "metadata": {
        "id": "jGwaVGfNhg5K"
      },
      "execution_count": 13,
      "outputs": []
    },
    {
      "cell_type": "code",
      "source": [
        "student = Student(1, \"Rajkumar Rajbhar\")\n",
        "student.add_grade(85)\n",
        "student.add_grade(90)\n",
        "student.add_grade(78)\n",
        "student.display_student_details()\n",
        "print(student)"
      ],
      "metadata": {
        "colab": {
          "base_uri": "https://localhost:8080/"
        },
        "id": "2u99bBzwhsXk",
        "outputId": "6cef7ab1-a6cc-4d33-d715-f591857fe93c"
      },
      "execution_count": 14,
      "outputs": [
        {
          "output_type": "stream",
          "name": "stdout",
          "text": [
            "Student ID: 1\n",
            "Name: Rajkumar Rajbhar\n",
            "Grades: 85, 90, 78\n",
            "Average Grade: 84.33\n",
            "Student Rajkumar Rajbhar (ID: 1)\n"
          ]
        }
      ]
    },
    {
      "cell_type": "markdown",
      "source": [
        "Problem 8: Email Management Create a class representing an email with attributes like sender, recipient, and subject. Implement methods to send an email and display email details."
      ],
      "metadata": {
        "id": "pjKdF-Q0h3KQ"
      }
    },
    {
      "cell_type": "code",
      "source": [
        "class Email:\n",
        "    def __init__(self, sender, recipient, subject, body=\"\"):\n",
        "        \"\"\"\n",
        "        Initializes an Email object.\n",
        "\n",
        "        Args:\n",
        "            sender (str): The sender's email address.\n",
        "            recipient (str): The recipient's email address.\n",
        "            subject (str): The subject of the email.\n",
        "            body (str, optional): The body of the email (default is an empty string).\n",
        "        \"\"\"\n",
        "        self.sender = sender\n",
        "        self.recipient = recipient\n",
        "        self.subject = subject\n",
        "        self.body = body\n",
        "\n",
        "    def send_email(self):\n",
        "        \"\"\"\n",
        "        Sends the email (simulated, as we can't actually send emails in Python).\n",
        "        \"\"\"\n",
        "        print(f\"Email sent from {self.sender} to {self.recipient} with subject '{self.subject}'\")\n",
        "\n",
        "    def display_email_details(self):\n",
        "        \"\"\"\n",
        "        Displays the email details.\n",
        "        \"\"\"\n",
        "        print(f\"Sender: {self.sender}\")\n",
        "        print(f\"Recipient: {self.recipient}\")\n",
        "        print(f\"Subject: {self.subject}\")\n",
        "        print(f\"Body: {self.body}\")\n",
        "\n",
        "    def __str__(self):\n",
        "        \"\"\"\n",
        "        Returns a string representation of the email.\n",
        "\n",
        "        Returns:\n",
        "            str: A string representation of the email.\n",
        "        \"\"\"\n",
        "        return f\"Email from {self.sender} to {self.recipient} with subject '{self.subject}'\""
      ],
      "metadata": {
        "id": "K3SnOkoqhyNi"
      },
      "execution_count": 15,
      "outputs": []
    },
    {
      "cell_type": "code",
      "source": [
        "email = Email(\"Rajkumar@example.com\", \"Raju@example.com\", \"Hello, Raju!\")\n",
        "email.body = \"This is a test email.\"\n",
        "email.send_email()\n",
        "# Output: Email sent from Rajkumar@example.com to Raju@example.com with subject 'Hello, Raju!'\n",
        "\n",
        "email.display_email_details()\n",
        "# Output:\n",
        "# Sender: Rajkumar@example.com\n",
        "# Recipient: Raju@example.com\n",
        "# Subject: Hello, Raju!\n",
        "# Body: This is a test email.\n",
        "\n",
        "print(email)  # Output: Email from Rajkumar@example.com to Raju@example.com with subject 'Hello, Raju!'"
      ],
      "metadata": {
        "colab": {
          "base_uri": "https://localhost:8080/"
        },
        "id": "z4bge22mh0-x",
        "outputId": "289e4b6e-615b-43c6-e0af-9ca2321984d4"
      },
      "execution_count": 17,
      "outputs": [
        {
          "output_type": "stream",
          "name": "stdout",
          "text": [
            "Email sent from Rajkumar@example.com to Raju@example.com with subject 'Hello, Raju!'\n",
            "Sender: Rajkumar@example.com\n",
            "Recipient: Raju@example.com\n",
            "Subject: Hello, Raju!\n",
            "Body: This is a test email.\n",
            "Email from Rajkumar@example.com to Raju@example.com with subject 'Hello, Raju!'\n"
          ]
        }
      ]
    },
    {
      "cell_type": "markdown",
      "source": [
        "Problem 9: Social Media Profile Create a class representing a social media profile with attributes like username and posts. Implement methods to add posts, display posts, and search for posts by keyword."
      ],
      "metadata": {
        "id": "RT4uHbfGiuZl"
      }
    },
    {
      "cell_type": "code",
      "source": [
        "class SocialMediaProfile:\n",
        "    def __init__(self, username):\n",
        "        \"\"\"\n",
        "        Initializes a SocialMediaProfile object.\n",
        "\n",
        "        Args:\n",
        "            username (str): The username of the profile.\n",
        "        \"\"\"\n",
        "        self.username = username\n",
        "        self.posts = []\n",
        "\n",
        "    def add_post(self, post):\n",
        "        \"\"\"\n",
        "        Adds a post to the profile.\n",
        "\n",
        "        Args:\n",
        "            post (str): The post to add.\n",
        "        \"\"\"\n",
        "        self.posts.append(post)\n",
        "\n",
        "    def display_posts(self):\n",
        "        \"\"\"\n",
        "        Displays all posts on the profile.\n",
        "        \"\"\"\n",
        "        for i, post in enumerate(self.posts, 1):\n",
        "            print(f\"Post {i}: {post}\")\n",
        "\n",
        "    def search_posts(self, keyword):\n",
        "        \"\"\"\n",
        "        Searches for posts containing a keyword.\n",
        "\n",
        "        Args:\n",
        "            keyword (str): The keyword to search for.\n",
        "\n",
        "        Returns:\n",
        "            list: A list of posts containing the keyword.\n",
        "        \"\"\"\n",
        "        return [post for post in self.posts if keyword in post]\n",
        "\n",
        "    def __str__(self):\n",
        "        \"\"\"\n",
        "        Returns a string representation of the profile.\n",
        "\n",
        "        Returns:\n",
        "            str: A string representation of the profile.\n",
        "        \"\"\"\n",
        "        return f\"Social Media Profile of {self.username}\""
      ],
      "metadata": {
        "id": "S9gryvlmiYqX"
      },
      "execution_count": 18,
      "outputs": []
    },
    {
      "cell_type": "code",
      "source": [
        "profile = SocialMediaProfile(\"john_doe\")\n",
        "profile.add_post(\"Hello, world!\")\n",
        "profile.add_post(\"I love coding!\")\n",
        "profile.add_post(\"Python is awesome!\")\n",
        "profile.display_posts()\n",
        "search_results = profile.search_posts(\"coding\")\n",
        "print(search_results)\n",
        "print(profile)"
      ],
      "metadata": {
        "colab": {
          "base_uri": "https://localhost:8080/"
        },
        "id": "cDQCELGji1ye",
        "outputId": "4ffdb06d-05b2-4ba7-88fe-6c2fc9ec4b05"
      },
      "execution_count": 19,
      "outputs": [
        {
          "output_type": "stream",
          "name": "stdout",
          "text": [
            "Post 1: Hello, world!\n",
            "Post 2: I love coding!\n",
            "Post 3: Python is awesome!\n",
            "['I love coding!']\n",
            "Social Media Profile of john_doe\n"
          ]
        }
      ]
    },
    {
      "cell_type": "markdown",
      "source": [
        "Problem 10: ToDo List Create a class representing a ToDo list with attributes like tasks and due dates. Implement methods to add tasks, mark tasks as completed, and display pending tasks."
      ],
      "metadata": {
        "id": "-r10eHrTjPGu"
      }
    },
    {
      "cell_type": "code",
      "source": [
        "class ToDoList:\n",
        "    def __init__(self):\n",
        "        \"\"\"\n",
        "        Initializes a ToDoList object.\n",
        "        \"\"\"\n",
        "        self.tasks = {}\n",
        "\n",
        "    def add_task(self, task, due_date):\n",
        "        \"\"\"\n",
        "        Adds a task to the ToDo list.\n",
        "\n",
        "        Args:\n",
        "            task (str): The task to add.\n",
        "            due_date (str): The due date of the task.\n",
        "        \"\"\"\n",
        "        self.tasks[task] = {\"due_date\": due_date, \"completed\": False}\n",
        "\n",
        "    def mark_task_as_completed(self, task):\n",
        "        \"\"\"\n",
        "        Marks a task as completed.\n",
        "\n",
        "        Args:\n",
        "            task (str): The task to mark as completed.\n",
        "        \"\"\"\n",
        "        if task in self.tasks:\n",
        "            self.tasks[task][\"completed\"] = True\n",
        "        else:\n",
        "            print(f\"Task '{task}' not found in the ToDo list.\")\n",
        "\n",
        "    def display_pending_tasks(self):\n",
        "        \"\"\"\n",
        "        Displays all pending tasks in the ToDo list.\n",
        "        \"\"\"\n",
        "        for task, details in self.tasks.items():\n",
        "            if not details[\"completed\"]:\n",
        "                print(f\"Task: {task}, Due Date: {details['due_date']}\")\n",
        "\n",
        "    def __str__(self):\n",
        "        \"\"\"\n",
        "        Returns a string representation of the ToDo list.\n",
        "\n",
        "        Returns:\n",
        "            str: A string representation of the ToDo list.\n",
        "        \"\"\"\n",
        "        return \"ToDo List\""
      ],
      "metadata": {
        "id": "DzB3bAu-jLIk"
      },
      "execution_count": 20,
      "outputs": []
    },
    {
      "cell_type": "code",
      "source": [
        "todo_list = ToDoList()\n",
        "todo_list.add_task(\"Task 1\", \"2023-02-20\")\n",
        "todo_list.add_task(\"Task 2\", \"2023-02-25\")\n",
        "todo_list.add_task(\"Task 3\", \"2023-03-01\")\n",
        "todo_list.display_pending_tasks()\n",
        "todo_list.mark_task_as_completed(\"Task 1\")\n",
        "todo_list.display_pending_tasks()\n",
        "print(todo_list)"
      ],
      "metadata": {
        "colab": {
          "base_uri": "https://localhost:8080/"
        },
        "id": "7qhKMNORjWgu",
        "outputId": "be0c0e26-fdcb-4975-eed6-0d8439ad0857"
      },
      "execution_count": 21,
      "outputs": [
        {
          "output_type": "stream",
          "name": "stdout",
          "text": [
            "Task: Task 1, Due Date: 2023-02-20\n",
            "Task: Task 2, Due Date: 2023-02-25\n",
            "Task: Task 3, Due Date: 2023-03-01\n",
            "Task: Task 2, Due Date: 2023-02-25\n",
            "Task: Task 3, Due Date: 2023-03-01\n",
            "ToDo List\n"
          ]
        }
      ]
    },
    {
      "cell_type": "code",
      "source": [],
      "metadata": {
        "id": "EYsgBkwVjdlm"
      },
      "execution_count": null,
      "outputs": []
    }
  ]
}