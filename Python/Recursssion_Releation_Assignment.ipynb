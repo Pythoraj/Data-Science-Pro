{
  "nbformat": 4,
  "nbformat_minor": 0,
  "metadata": {
    "colab": {
      "provenance": []
    },
    "kernelspec": {
      "name": "python3",
      "display_name": "Python 3"
    },
    "language_info": {
      "name": "python"
    }
  },
  "cells": [
    {
      "cell_type": "markdown",
      "source": [
        "1. Find the value of T(2) for the recurrence relation T(n) = 3T(n-1) + 12n, given that T(0)=5."
      ],
      "metadata": {
        "id": "kf5A40fwhb-U"
      }
    },
    {
      "cell_type": "markdown",
      "source": [
        "To find the value of T(2) for the given recurrence relation, we can start by using the base case T(0) = 5.\n",
        "\n",
        "The recurrence relation is T(n) = 3T(n-1) + 12n. We can apply this relation to find T(1) and then T(2).\n",
        "\n",
        "First, let's find T(1): T(1) = 3T(0) + 12(1) T(1) = 3(5) + 12 T(1) = 15 + 12 T(1) = 27\n",
        "\n",
        "Now that we have T(1), we can find T(2): T(2) = 3T(1) + 12(2) T(2) = 3(27) + 24 T(2) = 81 + 24 T(2) = 105\n",
        "\n",
        "Therefore, the value of T(2) is 105."
      ],
      "metadata": {
        "id": "D2mHT5f-hzUY"
      }
    },
    {
      "cell_type": "markdown",
      "source": [
        "2. Given a recurrence relation, solve it using the substitution method:\n",
        "a. T(n) = T(n-1) + c\n",
        "b. T(n) = 2T(n/2) + n\n",
        "c. T(n) = 2T(n/2) + c\n",
        "d. T(n) = T(n/2) + c"
      ],
      "metadata": {
        "id": "0JvK7Zdxh57K"
      }
    },
    {
      "cell_type": "markdown",
      "source": [
        "**a. T(n) = T(n-1) + c**\n",
        "\n",
        "We can start by writing out the first few terms:\n",
        "\n",
        "T(n) = T(n-1) + c T(n-1) = T(n-2) + c T(n-2) = T(n-3) + c ... T(1) = T(0) + c\n",
        "\n",
        "Now, we can substitute these expressions into each other:\n",
        "\n",
        "T(n) = (T(n-2) + c) + c T(n) = ((T(n-3) + c) + c) + c ... T(n) = T(0) + nc\n",
        "\n",
        "Since T(0) is a constant, we can write the solution as:\n",
        "\n",
        "T(n) = T(0) + nc\n",
        "\n",
        "**b. T(n) = 2T(n/2) + n**\n",
        "\n",
        "We can start by writing out the first few terms:\n",
        "\n",
        "T(n) = 2T(n/2) + n T(n/2) = 2T(n/4) + n/2 T(n/4) = 2T(n/8) + n/4 ... T(1) = 2T(1/2) + 1\n",
        "\n",
        "Now, we can substitute these expressions into each other:\n",
        "\n",
        "T(n) = 2(2T(n/4) + n/2) + n T(n) = 4T(n/4) + 2n/2 + n T(n) = 4(2T(n/8) + n/4) + 2n/2 + n ... T(n) = 2^k * T(n/2^k) + n(1 + 1/2 + 1/4 + ... + 1/2^(k-1))\n",
        "\n",
        "Since n/2^k = 1, we can write k = log2(n). Therefore, the solution is:\n",
        "\n",
        "T(n) = n + n(1 + 1/2 + 1/4 + ... + 1/2^(log2(n)-1)) T(n) = n + n(log2(n))\n",
        "\n",
        "**c. T(n) = 2T(n/2) + c**\n",
        "\n",
        "This recurrence relation is similar to the previous one. We can start by writing out the first few terms:\n",
        "\n",
        "T(n) = 2T(n/2) + c T(n/2) = 2T(n/4) + c T(n/4) = 2T(n/8) + c ... T(1) = 2T(1/2) + c\n",
        "\n",
        "Now, we can substitute these expressions into each other:\n",
        "\n",
        "T(n) = 2(2T(n/4) + c) + c T(n) = 4T(n/4) + 2c + c T(n) = 4(2T(n/8) + c) + 2c + c ... T(n) = 2^k * T(n/2^k) + ck\n",
        "\n",
        "Since n/2^k = 1, we can write k = log2(n). Therefore, the solution is:\n",
        "\n",
        "T(n) = n + c(log2(n))\n",
        "\n",
        "**d. T(n) = T(n/2) + c**\n",
        "\n",
        "We can start by writing out the first few terms:\n",
        "\n",
        "T(n) = T(n/2) + c T(n/2) = T(n/4) + c T(n/4) = T(n/8) + c ... T(1) = T(1/2) + c\n",
        "\n",
        "Now, we can substitute these expressions into each other:\n",
        "\n",
        "T(n) = (T(n/4) + c) + c T(n) = ((T(n/8) + c) + c) + c ... T(n) = T(1) + c(log2(n))\n",
        "\n",
        "Since T(1) is a constant, we can write the solution as:\n",
        "\n",
        "T(n) = T(1) + c(log2(n))\n"
      ],
      "metadata": {
        "id": "S2oByt-8iQzR"
      }
    },
    {
      "cell_type": "markdown",
      "source": [
        "3. Given a recurrence relation, solve it using the recursive tree approach:\n",
        "\n",
        "a. T(n) = 2T(n-1) +1\n",
        "\n",
        "b. T(n) = 2T(n/2) + n"
      ],
      "metadata": {
        "id": "U-U8Xp6AiycA"
      }
    },
    {
      "cell_type": "markdown",
      "source": [
        "a. T(n) = 2T(n-1) + 1\n",
        "\n",
        "We can draw a recursive tree to visualize the recurrence relation:"
      ],
      "metadata": {
        "id": "0hOChW4fi1Ba"
      }
    },
    {
      "cell_type": "code",
      "execution_count": null,
      "metadata": {
        "id": "Va5lZ0CBhSvM"
      },
      "outputs": [],
      "source": [
        "         T(n)\n",
        "       /      \\\n",
        "  T(n-1)       1\n",
        "  /  \\         /  \\\n",
        "T(n-2)  1    1     1\n",
        "  /  \\       /  \\\n",
        "T(n-3)  1  1     1\n",
        "  ...\n",
        "  /  \\\n",
        "T(1)  1\n",
        "  /\n",
        "T(0)"
      ]
    },
    {
      "cell_type": "markdown",
      "source": [
        "The total cost of the tree is the sum of the costs of all the nodes:\n",
        "\n",
        "T(n) = 2^0 * 1 + 2^1 * 1 + 2^2 * 1 + ... + 2^(n-1) * 1 T(n) = 2^(n-1) + 2^(n-2) + ... + 1 T(n) = 2^n - 1"
      ],
      "metadata": {
        "id": "Hcf8K_kwjBrR"
      }
    },
    {
      "cell_type": "markdown",
      "source": [
        "**b. T(n) = 2T(n/2) + n**\n",
        "\n",
        "We can draw a recursive tree to visualize the recurrence relation:"
      ],
      "metadata": {
        "id": "X5LRAiPZjDMo"
      }
    },
    {
      "cell_type": "code",
      "source": [
        "         T(n)\n",
        "       /      \\\n",
        "  T(n/2)       n\n",
        "  /  \\         / \\\n",
        "T(n/4) n/2  n/2    n\n",
        "  /  \\       / \\\n",
        "T(n/8)  n/4  n/4 n\n",
        "  ...\n",
        "  /  \\\n",
        "T(1)  n/2^n\n",
        "  /\n",
        "T(1)"
      ],
      "metadata": {
        "colab": {
          "base_uri": "https://localhost:8080/",
          "height": 106
        },
        "id": "FEJKO7GwjCSG",
        "outputId": "fe67f914-34fb-4d6a-fd76-c6db169a3bbb"
      },
      "execution_count": 4,
      "outputs": [
        {
          "output_type": "error",
          "ename": "IndentationError",
          "evalue": "unindent does not match any outer indentation level (<tokenize>, line 4)",
          "traceback": [
            "\u001b[0;36m  File \u001b[0;32m\"<tokenize>\"\u001b[0;36m, line \u001b[0;32m4\u001b[0m\n\u001b[0;31m    /  \\         / \\\u001b[0m\n\u001b[0m    ^\u001b[0m\n\u001b[0;31mIndentationError\u001b[0m\u001b[0;31m:\u001b[0m unindent does not match any outer indentation level\n"
          ]
        }
      ]
    },
    {
      "cell_type": "markdown",
      "source": [
        "The total cost of the tree is the sum of the costs of all the nodes:\n",
        "\n",
        "T(n) = n + n/2 + n/4 + ... + 1 T(n) = n(1 + 1/2 + 1/4 + ... + 1/2^(log2(n)-1)) T(n) = n(log2(n))"
      ],
      "metadata": {
        "id": "t9KrkcYSjO01"
      }
    },
    {
      "cell_type": "code",
      "source": [],
      "metadata": {
        "id": "LMjAgfI_jMG4"
      },
      "execution_count": null,
      "outputs": []
    }
  ]
}