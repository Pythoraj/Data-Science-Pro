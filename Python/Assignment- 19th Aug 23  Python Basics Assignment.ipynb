{
 "cells": [
  {
   "cell_type": "markdown",
   "id": "95c99744-d5fb-4514-b960-f9f5964eec9c",
   "metadata": {},
   "source": [
    "1. Declare two variables, `x` and `y`, and assign them integer values. Swap the\n",
    "values of these variables without using any temporary variable."
   ]
  },
  {
   "cell_type": "code",
   "execution_count": 1,
   "id": "46f3fa18-5155-47a7-922a-95c2f8ce260a",
   "metadata": {},
   "outputs": [
    {
     "name": "stdout",
     "output_type": "stream",
     "text": [
      "Before Swapping: x = 10  y = 12\n"
     ]
    }
   ],
   "source": [
    "# Variable decleration\n",
    "x = 10\n",
    "y = 12\n",
    "print(\"Before Swapping: x =\", x, \" y =\", y)"
   ]
  },
  {
   "cell_type": "code",
   "execution_count": 2,
   "id": "037715f0-9ae0-4bed-a446-5376b8eeb5c1",
   "metadata": {},
   "outputs": [],
   "source": [
    "# We have add x and y and also store the result in x and y (same variable)\n",
    "x = x+y       # x = 22 after added x+y together and stored it in x\n",
    "y = x-y       # y = 10 after subtracting x-y together and storing it in y\n",
    "x = x-y       # x = 12 after subtracting x-y together and storing it in x"
   ]
  },
  {
   "cell_type": "code",
   "execution_count": 3,
   "id": "3c024df0-c634-409f-a8d3-e6656e435908",
   "metadata": {},
   "outputs": [
    {
     "name": "stdout",
     "output_type": "stream",
     "text": [
      "After Swapping: x =  12 y = 10\n"
     ]
    }
   ],
   "source": [
    "print(\"After Swapping: x = \", x ,\"y =\", y)"
   ]
  },
  {
   "cell_type": "markdown",
   "id": "4e05483f-5a60-4249-98fe-75fb99385343",
   "metadata": {},
   "source": [
    "2. Create a program that calculates the area of a rectangle. Take the length and\n",
    "width as inputs from the user and store them in variables. Calculate and\n",
    "display the area."
   ]
  },
  {
   "cell_type": "code",
   "execution_count": 4,
   "id": "941c98fd-8ffc-416d-85db-4c3f45583e78",
   "metadata": {},
   "outputs": [
    {
     "name": "stdin",
     "output_type": "stream",
     "text": [
      "width = 3\n",
      "length = 6\n"
     ]
    },
    {
     "name": "stdout",
     "output_type": "stream",
     "text": [
      "Area Of Rectangle =  18\n"
     ]
    }
   ],
   "source": [
    "# Here we have declared two variables to calculate the width and length of the rectangle\n",
    "width = int(input(\"width =\"))\n",
    "length = int(input(\"length =\"))\n",
    "\n",
    "# Now we are using the formula to calculate the Area\n",
    "Area = (width * length)\n",
    "\n",
    "# After calculating, simply print it in a string\n",
    "print(\"Area Of Rectangle = \",(Area))"
   ]
  },
  {
   "cell_type": "markdown",
   "id": "21eee79e-0faf-47e7-bc5f-a05f54de25f4",
   "metadata": {},
   "source": [
    "3. Write a Python program that converts temperatures from Celsius to\n",
    "Fahrenheit. Take the temperature in Celsius as input, store it in a variable,\n",
    "convert it to Fahrenheit, and display the result."
   ]
  },
  {
   "cell_type": "code",
   "execution_count": 5,
   "id": "c4fbe8b2-8d51-4857-a5bb-4524cdba1657",
   "metadata": {},
   "outputs": [
    {
     "name": "stdin",
     "output_type": "stream",
     "text": [
      " 50\n"
     ]
    },
    {
     "name": "stdout",
     "output_type": "stream",
     "text": [
      "50.00 Celsius is equivalent to: 122.00 Fahrenheit\n"
     ]
    }
   ],
   "source": [
    "# We have declared a variable 'Celsius' to hold input value\n",
    "Celsius = float(input())\n",
    "\n",
    "# Formula of temperature conversion from Celsius to Fahrenheit \n",
    "Fahrenheit = float((Celsius * 1.8) + 32)  \n",
    "\n",
    "# The below statement prints the desired output on the console.\n",
    "print('%.2f Celsius is equivalent to: %.2f Fahrenheit'% (Celsius, Fahrenheit))"
   ]
  },
  {
   "cell_type": "code",
   "execution_count": null,
   "id": "6a38febc-5b57-44d6-a354-1c55a89c6380",
   "metadata": {},
   "outputs": [],
   "source": []
  },
  {
   "cell_type": "markdown",
   "id": "85eb24a6-d4a8-428c-a4d3-253c014bf739",
   "metadata": {},
   "source": [
    "TOPIC: String Based Questions"
   ]
  },
  {
   "cell_type": "markdown",
   "id": "b114be3d-ec03-47ba-942b-c196795a6bb2",
   "metadata": {},
   "source": [
    "1. Write a Python program that takes a string as input and prints the length of\n",
    "the string."
   ]
  },
  {
   "cell_type": "code",
   "execution_count": 6,
   "id": "96e50d34-2af7-4405-8882-2d005e803ffa",
   "metadata": {},
   "outputs": [
    {
     "name": "stdin",
     "output_type": "stream",
     "text": [
      " Rajkumar Rajbhar\n"
     ]
    },
    {
     "name": "stdout",
     "output_type": "stream",
     "text": [
      "Length of string is  16\n"
     ]
    }
   ],
   "source": [
    "# We have declared the User_Input variable to store user input.\n",
    "User_Input = input()   \n",
    "\n",
    "# Here we are using two functions\n",
    "# len() will give the total length of the string \n",
    "#and print() function will print the output.\n",
    "print(\"Length of string is \",len(User_Input))"
   ]
  },
  {
   "cell_type": "markdown",
   "id": "417a05f6-31e5-4c09-9154-11fca2ded2c1",
   "metadata": {},
   "source": [
    "2. Create a program that takes a sentence from the user and counts the number\n",
    "of vowels (a, e, i, o, u) in the string."
   ]
  },
  {
   "cell_type": "code",
   "execution_count": 7,
   "id": "5b0f999d-fb1a-4a74-995d-25816a6fda17",
   "metadata": {},
   "outputs": [
    {
     "name": "stdin",
     "output_type": "stream",
     "text": [
      " Rajkumar Rajbhar\n"
     ]
    },
    {
     "name": "stdout",
     "output_type": "stream",
     "text": [
      "Number of vowels in the given string is:  5\n"
     ]
    }
   ],
   "source": [
    "User_Input = input()              #Declere a variable 'User_Input' to store user input.  \n",
    "List = ['a','e','i','o','u']      # Create a list to hold the vowel\n",
    "Count = 0                         # The Count variable will be used to count the number of vowels\n",
    "for i in range(len(User_Input)):  # Iterator is used to iterate the user string\n",
    "    if User_Input[i] in List:     # Here we have used 'if' statement and in operator to check the vowels.\n",
    "        Count +=1                 # It will increment the count if the condition gets true.\n",
    "    \n",
    "print(\"Number of vowels in the given string is: \", Count)                      #It will print the vowel count."
   ]
  },
  {
   "cell_type": "markdown",
   "id": "04e20461-772d-4653-9600-3a4af637b216",
   "metadata": {},
   "source": [
    "3. Given a string, reverse the order of characters using string slicing and print\r\n",
    "the reversed string."
   ]
  },
  {
   "cell_type": "code",
   "execution_count": 2,
   "id": "4b7cffbb-853e-4b3e-8d2a-f03bd2735667",
   "metadata": {},
   "outputs": [
    {
     "data": {
      "text/plain": [
       "'rahbjaR ramukjaR'"
      ]
     },
     "execution_count": 2,
     "metadata": {},
     "output_type": "execute_result"
    }
   ],
   "source": [
    "s = 'Rajkumar Rajbhar'\n",
    "\n",
    "# We use string slicing for reverse the string.\n",
    "s[::-1]              "
   ]
  },
  {
   "cell_type": "markdown",
   "id": "e0743e24-728a-4ded-8ac1-29755e48e94d",
   "metadata": {},
   "source": [
    "4. Write a program that takes a string as input and checks if it is a palindrome\n",
    "(reads the same forwards and backwards)."
   ]
  },
  {
   "cell_type": "code",
   "execution_count": 1,
   "id": "530da0ae-60a6-45bd-b13e-c4e166138b6e",
   "metadata": {},
   "outputs": [
    {
     "name": "stdin",
     "output_type": "stream",
     "text": [
      " JAHAJ\n"
     ]
    },
    {
     "name": "stdout",
     "output_type": "stream",
     "text": [
      "Yes\n"
     ]
    }
   ],
   "source": [
    "# We have declared 'isPalindrome' variable to store user input.\n",
    "isPalindrome = input()\n",
    "if isPalindrome == isPalindrome[::-1]:       # Here we will check the string whether it Palindrome or not.\n",
    "    print('Yes')\n",
    "else:\n",
    "    print('No')"
   ]
  },
  {
   "cell_type": "markdown",
   "id": "94cd619b-da68-4a1c-943c-e6302a9e674b",
   "metadata": {},
   "source": [
    "5. Create a program that takes a string as input and removes all the spaces from\n",
    "it. Print the modified string without spaces."
   ]
  },
  {
   "cell_type": "code",
   "execution_count": 4,
   "id": "6a18ebb1-eec1-4e76-acd8-c30c33bb4774",
   "metadata": {},
   "outputs": [
    {
     "name": "stdin",
     "output_type": "stream",
     "text": [
      " Rajkumar Rajbha    r\n"
     ]
    },
    {
     "name": "stdout",
     "output_type": "stream",
     "text": [
      "String after removing while space or space:  RajkumarRajbhar\n"
     ]
    }
   ],
   "source": [
    "# We have declared the variable to take user input\n",
    "User_Input = input()\n",
    "User_Input.replace(\" \",\"\")    # In this line of code we have replaced white space\n",
    "print(\"String after removing while space or space: \", remove(User_Input))"
   ]
  },
  {
   "cell_type": "code",
   "execution_count": null,
   "id": "5a866c48-f631-44a8-bc61-d6db7f058fce",
   "metadata": {},
   "outputs": [],
   "source": []
  },
  {
   "cell_type": "code",
   "execution_count": null,
   "id": "05e8ba49-598b-4ce4-a928-6918f12e151e",
   "metadata": {},
   "outputs": [],
   "source": []
  },
  {
   "cell_type": "code",
   "execution_count": null,
   "id": "3baaae12-ee0f-4ac5-9048-d717bd391c8b",
   "metadata": {},
   "outputs": [],
   "source": []
  }
 ],
 "metadata": {
  "kernelspec": {
   "display_name": "Python 3 (ipykernel)",
   "language": "python",
   "name": "python3"
  },
  "language_info": {
   "codemirror_mode": {
    "name": "ipython",
    "version": 3
   },
   "file_extension": ".py",
   "mimetype": "text/x-python",
   "name": "python",
   "nbconvert_exporter": "python",
   "pygments_lexer": "ipython3",
   "version": "3.11.5"
  }
 },
 "nbformat": 4,
 "nbformat_minor": 5
}
