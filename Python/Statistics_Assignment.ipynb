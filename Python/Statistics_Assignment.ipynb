{
  "nbformat": 4,
  "nbformat_minor": 0,
  "metadata": {
    "colab": {
      "provenance": []
    },
    "kernelspec": {
      "name": "python3",
      "display_name": "Python 3"
    },
    "language_info": {
      "name": "python"
    }
  },
  "cells": [
    {
      "cell_type": "markdown",
      "source": [
        "Question1. Generate a list of 100 integers containing values between 90 to 130 and store it in the variable `int_list`.\n",
        "A>ter generating the list, find the following:\n",
        "\n",
        "  \n",
        "\n",
        "  (i) Write a Python function to calculate the mean of a given list of numbers.\n",
        "\n",
        "Create a function to find the median of a list of numbers.\n",
        "\n",
        "  \n",
        "\n",
        "  (ii) Develop a program to compute the mode of a list of integers.\n",
        "\n",
        "  \n",
        "\n",
        "  (iii) Implement a function to calculate the weighted mean of a list of values and their corresponding weights.\n",
        "\n",
        "  \n",
        "\n",
        "  (iv) Write a Python function to find the geometric mean of a list of positive numbers.\n",
        "\n",
        "  \n",
        "\n",
        "  (v) Create a program to calculate the harmonic mean of a list of values.\n",
        "\n",
        "  \n",
        "\n",
        "  (vi) Build a function to determine the midrange of a list of numbers (average of the minimum and maximum).\n",
        "\n",
        "  \n",
        "\n",
        "  (vii) Implement a Python program to find the trimmed mean of a list, excluding a certain percentage of\n",
        "outliers."
      ],
      "metadata": {
        "id": "bocY01n_zpU4"
      }
    },
    {
      "cell_type": "code",
      "execution_count": 4,
      "metadata": {
        "colab": {
          "base_uri": "https://localhost:8080/"
        },
        "id": "sVzYHnJcySm1",
        "outputId": "078a28ac-305f-49d4-e73e-0c8a750a0eca"
      },
      "outputs": [
        {
          "output_type": "stream",
          "name": "stdout",
          "text": [
            "Mean: 108.24\n",
            "Median: 106.0\n",
            "Mode: [90, 91]\n",
            "Weighted Mean: 108.50084317032041\n",
            "Geometric Mean: 107.54479476955368\n",
            "Harmonic Mean: 106.8536543630068\n",
            "Midrange: 110.0\n",
            "Trimmed Mean: 108.075\n"
          ]
        }
      ],
      "source": [
        "### 1. Generate a list of integers and store it in `int_list`:\n",
        "\n",
        "import random\n",
        "\n",
        "# Generate a list of 100 integers between 90 and 130\n",
        "int_list = [random.randint(90, 130) for _ in range(100)]\n",
        "\n",
        "\n",
        "### 2. (i) Function to calculate the **mean** of a list:\n",
        "\n",
        "def calculate_mean(numbers):\n",
        "    return sum(numbers) / len(numbers)\n",
        "\n",
        "# Example usage\n",
        "mean = calculate_mean(int_list)\n",
        "print(f\"Mean: {mean}\")\n",
        "\n",
        "\n",
        "### 3. Function to calculate the **median**:\n",
        "\n",
        "def calculate_median(numbers):\n",
        "    sorted_numbers = sorted(numbers)\n",
        "    n = len(sorted_numbers)\n",
        "    mid = n // 2\n",
        "\n",
        "    if n % 2 == 0:\n",
        "        return (sorted_numbers[mid - 1] + sorted_numbers[mid]) / 2\n",
        "    else:\n",
        "        return sorted_numbers[mid]\n",
        "\n",
        "# Example usage\n",
        "median = calculate_median(int_list)\n",
        "print(f\"Median: {median}\")\n",
        "\n",
        "\n",
        "### 4. (ii) Function to compute the **mode**:\n",
        "\n",
        "from collections import Counter\n",
        "\n",
        "def calculate_mode(numbers):\n",
        "    frequency = Counter(numbers)\n",
        "    max_frequency = max(frequency.values())\n",
        "    mode = [num for num, freq in frequency.items() if freq == max_frequency]\n",
        "\n",
        "    return mode\n",
        "\n",
        "# Example usage\n",
        "mode = calculate_mode(int_list)\n",
        "print(f\"Mode: {mode}\")\n",
        "\n",
        "\n",
        "### 5. (iii) Function to calculate the **weighted mean**:\n",
        "\n",
        "def weighted_mean(values, weights):\n",
        "    weighted_sum = sum(v * w for v, w in zip(values, weights))\n",
        "    return weighted_sum / sum(weights)\n",
        "\n",
        "# Example usage\n",
        "weights = [random.randint(1, 10) for _ in range(100)]\n",
        "weighted_mean_result = weighted_mean(int_list, weights)\n",
        "print(f\"Weighted Mean: {weighted_mean_result}\")\n",
        "\n",
        "\n",
        "### 6. (iv) Function to calculate the **geometric mean**:\n",
        "\n",
        "import math\n",
        "\n",
        "def geometric_mean(numbers):\n",
        "    product = math.prod(numbers)\n",
        "    return product ** (1 / len(numbers))\n",
        "\n",
        "# Example usage\n",
        "geometric_mean_result = geometric_mean([num for num in int_list if num > 0])\n",
        "print(f\"Geometric Mean: {geometric_mean_result}\")\n",
        "\n",
        "\n",
        "### 7. (v) Function to calculate the **harmonic mean**:\n",
        "\n",
        "def harmonic_mean(numbers):\n",
        "    return len(numbers) / sum(1 / num for num in numbers)\n",
        "\n",
        "# Example usage\n",
        "harmonic_mean_result = harmonic_mean(int_list)\n",
        "print(f\"Harmonic Mean: {harmonic_mean_result}\")\n",
        "\n",
        "### 8. (vi) Function to calculate the **midrange**:\n",
        "\n",
        "def midrange(numbers):\n",
        "    return (min(numbers) + max(numbers)) / 2\n",
        "\n",
        "# Example usage\n",
        "midrange_result = midrange(int_list)\n",
        "print(f\"Midrange: {midrange_result}\")\n",
        "\n",
        "\n",
        "### 9. (vii) Function to calculate the **trimmed mean** (excluding a certain percentage of outliers):\n",
        "\n",
        "def trimmed_mean(numbers, trim_percentage):\n",
        "    sorted_numbers = sorted(numbers)\n",
        "    n = len(numbers)\n",
        "    trim_count = int(n * trim_percentage / 100)\n",
        "\n",
        "    trimmed_numbers = sorted_numbers[trim_count:n - trim_count]\n",
        "    return sum(trimmed_numbers) / len(trimmed_numbers)\n",
        "\n",
        "# Example usage (excluding 10% from both ends)\n",
        "trimmed_mean_result = trimmed_mean(int_list, 10)\n",
        "print(f\"Trimmed Mean: {trimmed_mean_result}\")\n"
      ]
    },
    {
      "cell_type": "markdown",
      "source": [
        "Question 2. Generate a list of 500 integers containing values between 200 to 300 and store it in the variable `int_list2`.\n",
        "After generating the list, find the following:\n",
        "\n",
        "\n",
        "  (i) Compare the given list of visualization for the given data:\n",
        "\n",
        "    \n",
        "\n",
        "    1. Frequency & Gaussian distribution\n",
        "\n",
        "    2. Frequency smoothened KDE plot\n",
        "\n",
        "    3. Gaussian distribution & smoothened KDE plot\n",
        "\n",
        "\n",
        "  (ii) Write a Python function to calculate the range of a given list of numbers.\n",
        "\n",
        "\n",
        "  (iii) Create a program to find the variance and standard deviation of a list of numbers.\n",
        "\n",
        "\n",
        "  (iv) Implement a function to compute the interquartile range (IQR) of a list of values.\n",
        "\n",
        "\n",
        "  (v) Build a program to calculate the coefficient of variation for a dataset.\n",
        "\n",
        "  \n",
        "\n",
        "  (vi) Write a Python function to find the mean absolute deviation (MAD) of a list of numbers.\n",
        "\n",
        "\n",
        "  (vii) Create a program to calculate the quartile deviation of a list of values.\n",
        "\n",
        "  \n",
        "\n",
        "  (viii) Implement a function to find the range-based coefficient of dispersion for a dataset."
      ],
      "metadata": {
        "id": "HriB-nws1GqT"
      }
    },
    {
      "cell_type": "markdown",
      "source": [
        "1. Generate a list of 500 integers containing values between 200 and 300:"
      ],
      "metadata": {
        "id": "ImrmE9501r3N"
      }
    },
    {
      "cell_type": "code",
      "source": [
        "import random\n",
        "\n",
        "# Generate a list of 500 integers between 200 and 300\n",
        "int_list2 = [random.randint(200, 300) for _ in range(500)]\n"
      ],
      "metadata": {
        "id": "rIUiYQ6L0LKs"
      },
      "execution_count": 5,
      "outputs": []
    },
    {
      "cell_type": "markdown",
      "source": [
        "2. (i) Visualizations:\n",
        "1. Frequency & Gaussian Distribution:"
      ],
      "metadata": {
        "id": "NETjZq3Y1xSo"
      }
    },
    {
      "cell_type": "code",
      "source": [
        "import matplotlib.pyplot as plt\n",
        "import numpy as np\n",
        "import seaborn as sns\n",
        "from scipy.stats import norm\n",
        "\n",
        "def frequency_gaussian_distribution(data):\n",
        "    plt.figure(figsize=(10,6))\n",
        "\n",
        "    # Histogram (Frequency)\n",
        "    sns.histplot(data, kde=False, bins=20, color='blue', label='Frequency', stat=\"density\")\n",
        "\n",
        "    # Gaussian distribution\n",
        "    mean, std_dev = np.mean(data), np.std(data)\n",
        "    x = np.linspace(min(data), max(data), 100)\n",
        "    plt.plot(x, norm.pdf(x, mean, std_dev), color='red', label='Gaussian Distribution')\n",
        "\n",
        "    plt.title(\"Frequency & Gaussian Distribution\")\n",
        "    plt.legend()\n",
        "    plt.show()\n",
        "\n",
        "frequency_gaussian_distribution(int_list2)\n"
      ],
      "metadata": {
        "colab": {
          "base_uri": "https://localhost:8080/",
          "height": 545
        },
        "id": "oALG26p71uxh",
        "outputId": "503c6c2a-ad1c-4e2a-fee9-591e4d0c66f6"
      },
      "execution_count": 6,
      "outputs": [
        {
          "output_type": "display_data",
          "data": {
            "text/plain": [
              "<Figure size 1000x600 with 1 Axes>"
            ],
            "image/png": "[encoded data removed]"
          },
          "metadata": {}
        }
      ]
    },
    {
      "cell_type": "markdown",
      "source": [
        "2. Frequency Smoothened KDE Plot:"
      ],
      "metadata": {
        "id": "AVx9tOmE16jS"
      }
    },
    {
      "cell_type": "code",
      "source": [
        "def frequency_kde_plot(data):\n",
        "    plt.figure(figsize=(10,6))\n",
        "\n",
        "    # Frequency KDE Plot\n",
        "    sns.histplot(data, kde=True, bins=20, color='blue', label='Frequency', stat=\"density\")\n",
        "\n",
        "    plt.title(\"Frequency with KDE Plot\")\n",
        "    plt.legend()\n",
        "    plt.show()\n",
        "\n",
        "frequency_kde_plot(int_list2)\n"
      ],
      "metadata": {
        "colab": {
          "base_uri": "https://localhost:8080/",
          "height": 545
        },
        "id": "TqWE5bfG112_",
        "outputId": "d4856443-c341-4856-ad2c-6d9586f260e9"
      },
      "execution_count": 7,
      "outputs": [
        {
          "output_type": "display_data",
          "data": {
            "text/plain": [
              "<Figure size 1000x600 with 1 Axes>"
            ],
            "image/png": "[encoded data removed]"
          },
          "metadata": {}
        }
      ]
    },
    {
      "cell_type": "markdown",
      "source": [
        "3. Gaussian Distribution & Smoothened KDE Plot:"
      ],
      "metadata": {
        "id": "TGtpJQ_62BQO"
      }
    },
    {
      "cell_type": "code",
      "source": [
        "def gaussian_kde_comparison(data):\n",
        "    plt.figure(figsize=(10,6))\n",
        "\n",
        "    # Gaussian distribution\n",
        "    mean, std_dev = np.mean(data), np.std(data)\n",
        "    x = np.linspace(min(data), max(data), 100)\n",
        "    plt.plot(x, norm.pdf(x, mean, std_dev), color='red', label='Gaussian Distribution')\n",
        "\n",
        "    # KDE Plot\n",
        "    sns.kdeplot(data, color='blue', label='KDE')\n",
        "\n",
        "    plt.title(\"Gaussian Distribution & KDE Comparison\")\n",
        "    plt.legend()\n",
        "    plt.show()\n",
        "\n",
        "gaussian_kde_comparison(int_list2)\n"
      ],
      "metadata": {
        "colab": {
          "base_uri": "https://localhost:8080/",
          "height": 545
        },
        "id": "a_Zov_Zr19n7",
        "outputId": "d44ad60d-b123-4b80-e2a2-91800bcadb6a"
      },
      "execution_count": 8,
      "outputs": [
        {
          "output_type": "display_data",
          "data": {
            "text/plain": [
              "<Figure size 1000x600 with 1 Axes>"
            ],
            "image/png": "[encoded data removed]"
          },
          "metadata": {}
        }
      ]
    },
    {
      "cell_type": "markdown",
      "source": [
        "3. (ii) Function to calculate the range:"
      ],
      "metadata": {
        "id": "VSx1sNAA2Jv7"
      }
    },
    {
      "cell_type": "code",
      "source": [
        "def calculate_range(numbers):\n",
        "    return max(numbers) - min(numbers)\n",
        "\n",
        "# Example usage\n",
        "range_result = calculate_range(int_list2)\n",
        "print(f\"Range: {range_result}\")\n"
      ],
      "metadata": {
        "colab": {
          "base_uri": "https://localhost:8080/"
        },
        "id": "gyVb-oFs2GpP",
        "outputId": "870a41b0-2b55-463d-8d76-ec72e6569e72"
      },
      "execution_count": 9,
      "outputs": [
        {
          "output_type": "stream",
          "name": "stdout",
          "text": [
            "Range: 100\n"
          ]
        }
      ]
    },
    {
      "cell_type": "markdown",
      "source": [
        "4. (iii) Program to find the variance and standard deviation:"
      ],
      "metadata": {
        "id": "TG5lGaB12QOf"
      }
    },
    {
      "cell_type": "code",
      "source": [
        "def calculate_variance_std(numbers):\n",
        "    n = len(numbers)\n",
        "    mean = sum(numbers) / n\n",
        "    variance = sum((x - mean) ** 2 for x in numbers) / n\n",
        "    std_dev = variance ** 0.5\n",
        "    return variance, std_dev\n",
        "\n",
        "# Example usage\n",
        "variance_result, std_dev_result = calculate_variance_std(int_list2)\n",
        "print(f\"Variance: {variance_result}, Standard Deviation: {std_dev_result}\")\n"
      ],
      "metadata": {
        "colab": {
          "base_uri": "https://localhost:8080/"
        },
        "id": "6QqtXmLv2MjS",
        "outputId": "aea68f26-091b-4e36-ac80-41424d098eee"
      },
      "execution_count": 10,
      "outputs": [
        {
          "output_type": "stream",
          "name": "stdout",
          "text": [
            "Variance: 896.2656440000002, Standard Deviation: 29.937696036936448\n"
          ]
        }
      ]
    },
    {
      "cell_type": "markdown",
      "source": [
        "5. (iv) Function to compute the interquartile range (IQR):"
      ],
      "metadata": {
        "id": "W3Q_DfKm2V6n"
      }
    },
    {
      "cell_type": "code",
      "source": [
        "def calculate_iqr(numbers):\n",
        "    sorted_numbers = sorted(numbers)\n",
        "    q1 = np.percentile(sorted_numbers, 25)\n",
        "    q3 = np.percentile(sorted_numbers, 75)\n",
        "    return q3 - q1\n",
        "\n",
        "# Example usage\n",
        "iqr_result = calculate_iqr(int_list2)\n",
        "print(f\"IQR: {iqr_result}\")\n"
      ],
      "metadata": {
        "colab": {
          "base_uri": "https://localhost:8080/"
        },
        "id": "3uJU5eD-2Sv4",
        "outputId": "ae9a68aa-96a1-464f-c002-92204c4ef053"
      },
      "execution_count": 11,
      "outputs": [
        {
          "output_type": "stream",
          "name": "stdout",
          "text": [
            "IQR: 55.0\n"
          ]
        }
      ]
    },
    {
      "cell_type": "markdown",
      "source": [
        "6. (v) Program to calculate the coefficient of variation:"
      ],
      "metadata": {
        "id": "hxPhXX3g2ewI"
      }
    },
    {
      "cell_type": "code",
      "source": [
        "def coefficient_of_variation(numbers):\n",
        "    mean = sum(numbers) / len(numbers)\n",
        "    std_dev = (sum((x - mean) ** 2 for x in numbers) / len(numbers)) ** 0.5\n",
        "    return (std_dev / mean) * 100\n",
        "\n",
        "# Example usage\n",
        "cv_result = coefficient_of_variation(int_list2)\n",
        "print(f\"Coefficient of Variation: {cv_result}%\")\n"
      ],
      "metadata": {
        "colab": {
          "base_uri": "https://localhost:8080/"
        },
        "id": "CcwD0uee2YdV",
        "outputId": "71b79d8a-c253-46a4-b32e-dd9165facc8b"
      },
      "execution_count": 12,
      "outputs": [
        {
          "output_type": "stream",
          "name": "stdout",
          "text": [
            "Coefficient of Variation: 12.002251512198196%\n"
          ]
        }
      ]
    },
    {
      "cell_type": "markdown",
      "source": [
        "7. (vi) Function to find the mean absolute deviation (MAD):"
      ],
      "metadata": {
        "id": "ukdkB8k92kps"
      }
    },
    {
      "cell_type": "code",
      "source": [
        "def mean_absolute_deviation(numbers):\n",
        "    mean = sum(numbers) / len(numbers)\n",
        "    mad = sum(abs(x - mean) for x in numbers) / len(numbers)\n",
        "    return mad\n",
        "\n",
        "# Example usage\n",
        "mad_result = mean_absolute_deviation(int_list2)\n",
        "print(f\"Mean Absolute Deviation (MAD): {mad_result}\")\n"
      ],
      "metadata": {
        "colab": {
          "base_uri": "https://localhost:8080/"
        },
        "id": "yfcwope32hBB",
        "outputId": "a32964b2-5747-4064-e4b3-f72e8ebbf1de"
      },
      "execution_count": 13,
      "outputs": [
        {
          "output_type": "stream",
          "name": "stdout",
          "text": [
            "Mean Absolute Deviation (MAD): 26.18894399999999\n"
          ]
        }
      ]
    },
    {
      "cell_type": "markdown",
      "source": [
        "8. (vii) Program to calculate the quartile deviation:"
      ],
      "metadata": {
        "id": "DomnHGOf2qJ8"
      }
    },
    {
      "cell_type": "code",
      "source": [
        "def quartile_deviation(numbers):\n",
        "    sorted_numbers = sorted(numbers)\n",
        "    q1 = np.percentile(sorted_numbers, 25)\n",
        "    q3 = np.percentile(sorted_numbers, 75)\n",
        "    return (q3 - q1) / 2\n",
        "\n",
        "# Example usage\n",
        "quartile_deviation_result = quartile_deviation(int_list2)\n",
        "print(f\"Quartile Deviation: {quartile_deviation_result}\")\n"
      ],
      "metadata": {
        "colab": {
          "base_uri": "https://localhost:8080/"
        },
        "id": "sB4M9Epm2m7p",
        "outputId": "46cd2fbb-efb5-4a10-8534-baac64793658"
      },
      "execution_count": 14,
      "outputs": [
        {
          "output_type": "stream",
          "name": "stdout",
          "text": [
            "Quartile Deviation: 27.5\n"
          ]
        }
      ]
    },
    {
      "cell_type": "markdown",
      "source": [
        "9. (viii) Function to find the range-based coefficient of dispersion:"
      ],
      "metadata": {
        "id": "K8LqB1Dp2vlV"
      }
    },
    {
      "cell_type": "code",
      "source": [
        "def coefficient_of_dispersion(numbers):\n",
        "    return (max(numbers) - min(numbers)) / (max(numbers) + min(numbers))\n",
        "\n",
        "# Example usage\n",
        "cod_result = coefficient_of_dispersion(int_list2)\n",
        "print(f\"Coefficient of Dispersion: {cod_result}\")\n"
      ],
      "metadata": {
        "colab": {
          "base_uri": "https://localhost:8080/"
        },
        "id": "-XFojuB02saJ",
        "outputId": "c5854b45-d66c-4cf0-dde5-da6ec389a1b9"
      },
      "execution_count": 15,
      "outputs": [
        {
          "output_type": "stream",
          "name": "stdout",
          "text": [
            "Coefficient of Dispersion: 0.2\n"
          ]
        }
      ]
    },
    {
      "cell_type": "markdown",
      "source": [
        "Question 3.  Write a Python class representing a discrete random variable with methods to calculate its expected\n",
        "value and variance."
      ],
      "metadata": {
        "id": "iwgcIYiX20vD"
      }
    },
    {
      "cell_type": "code",
      "source": [
        "class DiscreteRandomVariable:\n",
        "    def __init__(self, values, probabilities):\n",
        "        \"\"\"\n",
        "        Initializes the discrete random variable with values and their corresponding probabilities.\n",
        "        :param values: A list of possible values the random variable can take.\n",
        "        :param probabilities: A list of corresponding probabilities for each value.\n",
        "        \"\"\"\n",
        "        if len(values) != len(probabilities):\n",
        "            raise ValueError(\"The number of values must match the number of probabilities.\")\n",
        "        if not all(0 <= p <= 1 for p in probabilities):\n",
        "            raise ValueError(\"Probabilities must be between 0 and 1.\")\n",
        "        if abs(sum(probabilities) - 1) > 1e-6:\n",
        "            raise ValueError(\"Probabilities must sum to 1.\")\n",
        "\n",
        "        self.values = values\n",
        "        self.probabilities = probabilities\n",
        "\n",
        "    def expected_value(self):\n",
        "        \"\"\"\n",
        "        Calculates the expected value (mean) of the discrete random variable.\n",
        "        :return: The expected value (E[X]).\n",
        "        \"\"\"\n",
        "        return sum(value * prob for value, prob in zip(self.values, self.probabilities))\n",
        "\n",
        "    def variance(self):\n",
        "        \"\"\"\n",
        "        Calculates the variance of the discrete random variable.\n",
        "        :return: The variance (Var(X)).\n",
        "        \"\"\"\n",
        "        expected_val = self.expected_value()\n",
        "        return sum(prob * (value - expected_val) ** 2 for value, prob in zip(self.values, self.probabilities))\n",
        "\n",
        "# Example usage:\n",
        "values = [1, 2, 3, 4, 5]\n",
        "probabilities = [0.1, 0.2, 0.3, 0.2, 0.2]  # Probabilities must sum to 1\n",
        "\n",
        "discrete_rv = DiscreteRandomVariable(values, probabilities)\n",
        "\n",
        "# Calculate expected value\n",
        "expected_value = discrete_rv.expected_value()\n",
        "print(f\"Expected Value: {expected_value}\")\n",
        "\n",
        "# Calculate variance\n",
        "variance = discrete_rv.variance()\n",
        "print(f\"Variance: {variance}\")\n"
      ],
      "metadata": {
        "colab": {
          "base_uri": "https://localhost:8080/"
        },
        "id": "1lFjC_pE2x6r",
        "outputId": "8dfd6620-dc6e-4a32-b2fc-2b7e8901d4df"
      },
      "execution_count": 16,
      "outputs": [
        {
          "output_type": "stream",
          "name": "stdout",
          "text": [
            "Expected Value: 3.2\n",
            "Variance: 1.56\n"
          ]
        }
      ]
    },
    {
      "cell_type": "markdown",
      "source": [
        "Key points:\n",
        "\n",
        "Initialization (__init__):\n",
        "Takes the values and corresponding probabilities of the random variable. It also checks for validity of the input (probabilities must be between 0 and 1 and must sum to 1).\n",
        "\n",
        "Expected Value (expected_value):\n",
        "\n",
        "This method calculates the expected value\n",
        "𝐸\n",
        "[\n",
        "𝑋\n",
        "]\n",
        "=\n",
        "∑\n",
        "𝑝\n",
        "𝑖\n",
        "⋅\n",
        "𝑥\n",
        "𝑖\n",
        "E[X]=∑p\n",
        "i\n",
        "​\n",
        " ⋅x\n",
        "i\n",
        "​\n",
        " .\n",
        "Variance (variance): This method calculates the variance\n",
        "Var\n",
        "(\n",
        "𝑋\n",
        ")\n",
        "=\n",
        "∑\n",
        "𝑝\n",
        "𝑖\n",
        "⋅\n",
        "(\n",
        "𝑥\n",
        "𝑖\n",
        "−\n",
        "𝐸\n",
        "[\n",
        "𝑋\n",
        "]\n",
        ")\n",
        "2\n",
        "Var(X)=∑p\n",
        "i\n",
        "​\n",
        " ⋅(x\n",
        "i\n",
        "​\n",
        " −E[X])\n",
        "2\n",
        " ."
      ],
      "metadata": {
        "id": "03Bjs_aa3S5O"
      }
    },
    {
      "cell_type": "markdown",
      "source": [
        "Question 4. Implement a program to simulate the rolling of a fair six-sided die and calculate the expected value and\n",
        "variance of the outcomes."
      ],
      "metadata": {
        "id": "9o-foRAY3hDW"
      }
    },
    {
      "cell_type": "markdown",
      "source": [
        "To simulate rolling a single fair six-sided die and calculate the expected value and variance of the outcomes, we can follow these steps:\n",
        "\n",
        "1. Simulate rolling a six-sided die.\n",
        "\n",
        "2. Calculate the expected value of the outcomes.\n",
        "\n",
        "3. Calculate the variance of the outcomes."
      ],
      "metadata": {
        "id": "ZTSF-Grv4qcX"
      }
    },
    {
      "cell_type": "code",
      "source": [
        "import random\n",
        "\n",
        "class DieSimulation:\n",
        "    def __init__(self):\n",
        "        # Possible outcomes for a fair six-sided die\n",
        "        self.outcomes = [1, 2, 3, 4, 5, 6]\n",
        "        # Each outcome has an equal probability of 1/6\n",
        "        self.probabilities = [1/6 for _ in self.outcomes]\n",
        "\n",
        "    def simulate_roll(self):\n",
        "        \"\"\"Simulates rolling a six-sided die and returns the outcome.\"\"\"\n",
        "        return random.randint(1, 6)\n",
        "\n",
        "    def expected_value(self):\n",
        "        \"\"\"Calculates the expected value of rolling a six-sided die.\"\"\"\n",
        "        return sum(outcome * prob for outcome, prob in zip(self.outcomes, self.probabilities))\n",
        "\n",
        "    def variance(self):\n",
        "        \"\"\"Calculates the variance of rolling a six-sided die.\"\"\"\n",
        "        expected_val = self.expected_value()\n",
        "        return sum(prob * (outcome - expected_val) ** 2 for outcome, prob in zip(self.outcomes, self.probabilities))\n",
        "\n",
        "# Example usage:\n",
        "simulation = DieSimulation()\n",
        "\n",
        "# Simulate 10 rolls of the die\n",
        "rolls = [simulation.simulate_roll() for _ in range(10)]\n",
        "print(f\"Simulated Rolls: {rolls}\")\n",
        "\n",
        "# Calculate expected value and variance\n",
        "expected_value = simulation.expected_value()\n",
        "variance = simulation.variance()\n",
        "\n",
        "print(f\"Expected Value of Rolling a Six-Sided Die: {expected_value}\")\n",
        "print(f\"Variance of Rolling a Six-Sided Die: {variance}\")\n"
      ],
      "metadata": {
        "colab": {
          "base_uri": "https://localhost:8080/"
        },
        "id": "of6jIBbR3Ock",
        "outputId": "b70eb8f9-8d99-440c-d962-df4db1cb9ae4"
      },
      "execution_count": 17,
      "outputs": [
        {
          "output_type": "stream",
          "name": "stdout",
          "text": [
            "Simulated Rolls: [4, 3, 1, 5, 2, 6, 5, 5, 3, 2]\n",
            "Expected Value of Rolling a Six-Sided Die: 3.5\n",
            "Variance of Rolling a Six-Sided Die: 2.9166666666666665\n"
          ]
        }
      ]
    },
    {
      "cell_type": "markdown",
      "source": [
        "Breakdown:\n",
        "\n",
        "DieSimulation Class:\n",
        "\n",
        "outcomes: Represents the possible outcomes when rolling a six-sided die. These are the integers from 1 to 6.\n",
        "\n",
        "probabilities: Since it's a fair die, each outcome has an equal probability of\n",
        "1\n",
        "6\n",
        "6\n",
        "1\n",
        "​\n",
        " .\n",
        "simulate_roll():\n",
        "This function simulates rolling a single die and returns the outcome, a random integer between 1 and 6.\n",
        "\n",
        "expected_value():\n",
        "This function calculates the expected value\n",
        "𝐸\n",
        "[\n",
        "𝑋\n",
        "]\n",
        "E[X] of the outcomes using the formula:\n",
        "\n",
        "𝐸\n",
        "[\n",
        "𝑋\n",
        "]\n",
        "=\n",
        "∑\n",
        "𝑝\n",
        "𝑖\n",
        "⋅\n",
        "𝑥\n",
        "𝑖\n",
        "E[X]=∑p\n",
        "i\n",
        "​\n",
        " ⋅x\n",
        "i\n",
        "​\n",
        "\n",
        "where\n",
        "𝑥\n",
        "𝑖\n",
        "x\n",
        "i\n",
        "​\n",
        "  are the outcomes and\n",
        "𝑝\n",
        "𝑖\n",
        "p\n",
        "i\n",
        "​\n",
        "  are their probabilities.\n",
        "\n",
        "variance():\n",
        "This function calculates the variance of the outcomes using the formula:\n",
        "\n",
        "Var\n",
        "(\n",
        "𝑋\n",
        ")\n",
        "=\n",
        "∑\n",
        "𝑝\n",
        "𝑖\n",
        "⋅\n",
        "(\n",
        "𝑥\n",
        "𝑖\n",
        "−\n",
        "𝐸\n",
        "[\n",
        "𝑋\n",
        "]\n",
        ")\n",
        "2\n",
        "Var(X)=∑p\n",
        "i\n",
        "​\n",
        " ⋅(x\n",
        "i\n",
        "​\n",
        " −E[X])\n",
        "2\n",
        "\n",
        "where\n",
        "𝐸\n",
        "[\n",
        "𝑋\n",
        "]\n",
        "E[X] is the expected value.\n",
        "\n",
        "Output:\n",
        "\n",
        "This program will:\n",
        "\n",
        "Simulate 10 rolls of a fair six-sided die.\n",
        "Calculate the expected value and variance of rolling the die."
      ],
      "metadata": {
        "id": "rnK6FQ-J48IF"
      }
    },
    {
      "cell_type": "markdown",
      "source": [
        "**Question 5.** Create a Python function to generate random samples from a given probability distribution (e.g.,\n",
        "binomial, Poisson) and calculate their mean and variance."
      ],
      "metadata": {
        "id": "9FGGyd7o5Pc1"
      }
    },
    {
      "cell_type": "markdown",
      "source": [
        "To create a Python function that generates random samples from a given probability distribution (such as Binomial or Poisson) and calculates their mean and variance, we can use the numpy library's built-in functions for generating random samples. For example:\n",
        "\n",
        "numpy.random.binomial() for a binomial distribution.\n",
        "\n",
        "numpy.random.poisson() for a Poisson distribution."
      ],
      "metadata": {
        "id": "p6OhLYeo51_R"
      }
    },
    {
      "cell_type": "code",
      "source": [
        "import numpy as np\n",
        "\n",
        "def generate_random_samples(distribution, params, sample_size):\n",
        "    \"\"\"\n",
        "    Generates random samples from a specified probability distribution and calculates their mean and variance.\n",
        "\n",
        "    :param distribution: A string specifying the distribution ('binomial' or 'poisson').\n",
        "    :param params: A dictionary containing the parameters for the distribution.\n",
        "                   For 'binomial': {'n': number of trials, 'p': probability of success}\n",
        "                   For 'poisson': {'lam': rate (lambda)}\n",
        "    :param sample_size: The number of samples to generate.\n",
        "\n",
        "    :return: A tuple containing the mean and variance of the generated samples.\n",
        "    \"\"\"\n",
        "    if distribution == 'binomial':\n",
        "        n = params['n']\n",
        "        p = params['p']\n",
        "        samples = np.random.binomial(n, p, sample_size)\n",
        "    elif distribution == 'poisson':\n",
        "        lam = params['lam']\n",
        "        samples = np.random.poisson(lam, sample_size)\n",
        "    else:\n",
        "        raise ValueError(\"Unsupported distribution. Choose 'binomial' or 'poisson'.\")\n",
        "\n",
        "    # Calculate mean and variance of the samples\n",
        "    mean = np.mean(samples)\n",
        "    variance = np.var(samples)\n",
        "\n",
        "    return samples, mean, variance\n",
        "\n",
        "# Example usage:\n",
        "# Generating random samples from a binomial distribution with n=10, p=0.5\n",
        "binomial_params = {'n': 10, 'p': 0.5}\n",
        "samples_binomial, mean_binomial, var_binomial = generate_random_samples('binomial', binomial_params, 1000)\n",
        "print(f\"Binomial Samples Mean: {mean_binomial}, Variance: {var_binomial}\")\n",
        "\n",
        "# Generating random samples from a Poisson distribution with lambda=3\n",
        "poisson_params = {'lam': 3}\n",
        "samples_poisson, mean_poisson, var_poisson = generate_random_samples('poisson', poisson_params, 1000)\n",
        "print(f\"Poisson Samples Mean: {mean_poisson}, Variance: {var_poisson}\")\n"
      ],
      "metadata": {
        "colab": {
          "base_uri": "https://localhost:8080/"
        },
        "id": "PnDQ5Os140Kk",
        "outputId": "655a50a2-ea5e-4e7c-e153-9c67d0c012cf"
      },
      "execution_count": 18,
      "outputs": [
        {
          "output_type": "stream",
          "name": "stdout",
          "text": [
            "Binomial Samples Mean: 5.026, Variance: 2.5833239999999997\n",
            "Poisson Samples Mean: 3.104, Variance: 3.031184\n"
          ]
        }
      ]
    },
    {
      "cell_type": "markdown",
      "source": [
        "Explanation:\n",
        "\n",
        "generate_random_samples Function:\n",
        "\n",
        "Takes the distribution type ('binomial' or 'poisson'), the parameters of the distribution, and the number of samples (sample_size) as input.\n",
        "Depending on the distribution type, it uses numpy functions to generate random samples.\n",
        "It calculates and returns the mean and variance of the generated samples using numpy.mean() and numpy.var().\n",
        "Distributions:\n",
        "\n",
        "Binomial Distribution:\n",
        "\n",
        "The parameters n (number of trials) and p (probability of success) define a binomial distribution. The outcome represents the number of successes in n trials.\n",
        "Poisson Distribution: The parameter lam (lambda) defines the rate at which events occur in a fixed interval. The outcome represents the number of events occurring within the interval."
      ],
      "metadata": {
        "id": "zS1w7UUh6AHC"
      }
    },
    {
      "cell_type": "markdown",
      "source": [
        "**Question 6.** Write a Python script to generate random numbers from a Gaussian (normal) distribution and compute\n",
        "the mean, variance, and standard deviation of the samples."
      ],
      "metadata": {
        "id": "4U0pKlVv6Edx"
      }
    },
    {
      "cell_type": "code",
      "source": [
        "import numpy as np\n",
        "\n",
        "def generate_gaussian_samples(mean, std_dev, sample_size):\n",
        "    \"\"\"\n",
        "    Generates random numbers from a Gaussian distribution and computes the mean, variance, and standard deviation.\n",
        "\n",
        "    :param mean: The mean (μ) of the normal distribution.\n",
        "    :param std_dev: The standard deviation (σ) of the normal distribution.\n",
        "    :param sample_size: The number of random samples to generate.\n",
        "\n",
        "    :return: A tuple containing the computed mean, variance, and standard deviation of the samples.\n",
        "    \"\"\"\n",
        "    # Generate random samples from a normal (Gaussian) distribution\n",
        "    samples = np.random.normal(loc=mean, scale=std_dev, size=sample_size)\n",
        "\n",
        "    # Compute the mean, variance, and standard deviation of the samples\n",
        "    sample_mean = np.mean(samples)\n",
        "    sample_variance = np.var(samples)\n",
        "    sample_std_dev = np.std(samples)\n",
        "\n",
        "    return samples, sample_mean, sample_variance, sample_std_dev\n",
        "\n",
        "# Example usage:\n",
        "mean = 0     # Mean (μ) of the Gaussian distribution\n",
        "std_dev = 1  # Standard deviation (σ) of the Gaussian distribution\n",
        "sample_size = 1000  # Number of random samples\n",
        "\n",
        "# Generate Gaussian samples and compute statistics\n",
        "samples, sample_mean, sample_variance, sample_std_dev = generate_gaussian_samples(mean, std_dev, sample_size)\n",
        "\n",
        "# Display the results\n",
        "print(f\"Generated Samples Mean: {sample_mean}\")\n",
        "print(f\"Generated Samples Variance: {sample_variance}\")\n",
        "print(f\"Generated Samples Standard Deviation: {sample_std_dev}\")\n"
      ],
      "metadata": {
        "colab": {
          "base_uri": "https://localhost:8080/"
        },
        "id": "KYi6-9kz56z3",
        "outputId": "ba691911-09f0-4bf7-e82b-28c51ce3cfd2"
      },
      "execution_count": 19,
      "outputs": [
        {
          "output_type": "stream",
          "name": "stdout",
          "text": [
            "Generated Samples Mean: 0.05314855264004977\n",
            "Generated Samples Variance: 0.9659622367759604\n",
            "Generated Samples Standard Deviation: 0.9828337788130608\n"
          ]
        }
      ]
    },
    {
      "cell_type": "markdown",
      "source": [
        "Explanation:\n",
        "\n",
        "generate_gaussian_samples Function:\n",
        "\n",
        "Takes the mean (μ), standard deviation (σ), and the sample size as input.\n",
        "Uses numpy.random.normal() to generate random numbers from a normal (Gaussian) distribution.\n",
        "Computes the mean, variance, and standard deviation of the generated samples using numpy.mean(), numpy.var(), and numpy.std() respectively.\n",
        "\n",
        "Parameters:\n",
        "\n",
        "The loc parameter in np.random.normal(loc=mean, scale=std_dev, size=sample_size) represents the mean (μ).\n",
        "The scale parameter represents the standard deviation (σ)."
      ],
      "metadata": {
        "id": "KYqH-Q_R6if6"
      }
    },
    {
      "cell_type": "markdown",
      "source": [
        "Question 7. Use seaborn library to load tips dataset. Find the following from the dataset for the columns total_bill\n",
        "and tip`:\n",
        "\n",
        "  \n",
        "\n",
        "  (a) Write a Python function that calculates their skewness.\n",
        "\n",
        "\n",
        "  (b) Create a program that determines whether the columns exhibit positive skewness, negative skewness, or is\n",
        "approximately symmetric.\n",
        "\n",
        "\n",
        "  (c) Write a function that calculates the covariance between two columns.\n",
        "\n",
        "\n",
        "  (d) Implement a Python program that calculates the Pearson correlation coefficient between two columns.\n",
        "\n",
        "\n",
        "  (e) Write a script to visualize the correlation between two specific columns in a Pandas DataFrame using\n",
        "  scatter plots."
      ],
      "metadata": {
        "id": "QXmxYT476uvR"
      }
    },
    {
      "cell_type": "markdown",
      "source": [
        "Step 1: Import the required libraries and load the dataset"
      ],
      "metadata": {
        "id": "_neJ_5pZ8lQi"
      }
    },
    {
      "cell_type": "code",
      "source": [
        "import seaborn as sns\n",
        "import pandas as pd\n",
        "import numpy as np\n",
        "import matplotlib.pyplot as plt\n",
        "from scipy.stats import skew, pearsonr\n",
        "\n",
        "# Load the 'tips' dataset\n",
        "tips = sns.load_dataset(\"tips\")\n",
        "print(tips.head())  # Display first 5 rows\n"
      ],
      "metadata": {
        "colab": {
          "base_uri": "https://localhost:8080/"
        },
        "id": "hxXS38LB6gtr",
        "outputId": "1e937890-0a99-460e-fb54-49ea360cb6bb"
      },
      "execution_count": 20,
      "outputs": [
        {
          "output_type": "stream",
          "name": "stdout",
          "text": [
            "   total_bill   tip     sex smoker  day    time  size\n",
            "0       16.99  1.01  Female     No  Sun  Dinner     2\n",
            "1       10.34  1.66    Male     No  Sun  Dinner     3\n",
            "2       21.01  3.50    Male     No  Sun  Dinner     3\n",
            "3       23.68  3.31    Male     No  Sun  Dinner     2\n",
            "4       24.59  3.61  Female     No  Sun  Dinner     4\n"
          ]
        }
      ]
    },
    {
      "cell_type": "markdown",
      "source": [
        "Step 2: (a) Write a Python function that calculates the skewness of the total_bill and tip columns."
      ],
      "metadata": {
        "id": "lNHNNsOO8sKK"
      }
    },
    {
      "cell_type": "code",
      "source": [
        "def calculate_skewness(data, column):\n",
        "    \"\"\"\n",
        "    Calculates the skewness of a specific column in the dataset.\n",
        "    :param data: The dataset (Pandas DataFrame).\n",
        "    :param column: The column name for which to calculate skewness.\n",
        "    :return: Skewness value.\n",
        "    \"\"\"\n",
        "    return skew(data[column])\n",
        "\n",
        "# Calculate skewness for 'total_bill' and 'tip'\n",
        "total_bill_skewness = calculate_skewness(tips, 'total_bill')\n",
        "tip_skewness = calculate_skewness(tips, 'tip')\n",
        "\n",
        "print(f\"Skewness of total_bill: {total_bill_skewness}\")\n",
        "print(f\"Skewness of tip: {tip_skewness}\")\n"
      ],
      "metadata": {
        "colab": {
          "base_uri": "https://localhost:8080/"
        },
        "id": "1qu3baFA8oJf",
        "outputId": "ee54eeb5-f07b-4db6-df85-a424d9541cd5"
      },
      "execution_count": 21,
      "outputs": [
        {
          "output_type": "stream",
          "name": "stdout",
          "text": [
            "Skewness of total_bill: 1.1262346334818638\n",
            "Skewness of tip: 1.4564266884221506\n"
          ]
        }
      ]
    },
    {
      "cell_type": "markdown",
      "source": [
        "Step 3: (b) Create a program to determine whether the columns exhibit positive skewness, negative skewness, or are approximately symmetric."
      ],
      "metadata": {
        "id": "17py8rev8xMp"
      }
    },
    {
      "cell_type": "code",
      "source": [
        "def skewness_type(skew_value):\n",
        "    \"\"\"\n",
        "    Determines the type of skewness based on the skewness value.\n",
        "    :param skew_value: The skewness value.\n",
        "    :return: A string indicating the type of skewness.\n",
        "    \"\"\"\n",
        "    if skew_value > 0:\n",
        "        return \"Positive Skewness\"\n",
        "    elif skew_value < 0:\n",
        "        return \"Negative Skewness\"\n",
        "    else:\n",
        "        return \"Approximately Symmetric\"\n",
        "\n",
        "# Determine the skewness type for 'total_bill' and 'tip'\n",
        "total_bill_skew_type = skewness_type(total_bill_skewness)\n",
        "tip_skew_type = skewness_type(tip_skewness)\n",
        "\n",
        "print(f\"Skewness Type for total_bill: {total_bill_skew_type}\")\n",
        "print(f\"Skewness Type for tip: {tip_skew_type}\")\n"
      ],
      "metadata": {
        "colab": {
          "base_uri": "https://localhost:8080/"
        },
        "id": "0O_GiPFd8vZe",
        "outputId": "0ceb2a8d-2e36-4e7d-b81b-81d719dedf32"
      },
      "execution_count": 22,
      "outputs": [
        {
          "output_type": "stream",
          "name": "stdout",
          "text": [
            "Skewness Type for total_bill: Positive Skewness\n",
            "Skewness Type for tip: Positive Skewness\n"
          ]
        }
      ]
    },
    {
      "cell_type": "markdown",
      "source": [
        "Step 4: (c) Write a function that calculates the covariance between two columns."
      ],
      "metadata": {
        "id": "Oo7MMlCK84h0"
      }
    },
    {
      "cell_type": "code",
      "source": [
        "def calculate_covariance(data, col1, col2):\n",
        "    \"\"\"\n",
        "    Calculates the covariance between two columns in the dataset.\n",
        "    :param data: The dataset (Pandas DataFrame).\n",
        "    :param col1: The first column name.\n",
        "    :param col2: The second column name.\n",
        "    :return: Covariance value.\n",
        "    \"\"\"\n",
        "    covariance = np.cov(data[col1], data[col2])[0][1]\n",
        "    return covariance\n",
        "\n",
        "# Calculate the covariance between 'total_bill' and 'tip'\n",
        "covariance_total_bill_tip = calculate_covariance(tips, 'total_bill', 'tip')\n",
        "print(f\"Covariance between total_bill and tip: {covariance_total_bill_tip}\")\n"
      ],
      "metadata": {
        "colab": {
          "base_uri": "https://localhost:8080/"
        },
        "id": "zpaMmRzQ823o",
        "outputId": "499e3aca-12e3-4da3-c336-e13afcd334de"
      },
      "execution_count": 23,
      "outputs": [
        {
          "output_type": "stream",
          "name": "stdout",
          "text": [
            "Covariance between total_bill and tip: 8.323501629224854\n"
          ]
        }
      ]
    },
    {
      "cell_type": "markdown",
      "source": [
        "Step 5: (d) Implement a Python program that calculates the Pearson correlation coefficient between two columns."
      ],
      "metadata": {
        "id": "DyWth_Fx9A-Y"
      }
    },
    {
      "cell_type": "code",
      "source": [
        "def calculate_pearson_correlation(data, col1, col2):\n",
        "    \"\"\"\n",
        "    Calculates the Pearson correlation coefficient between two columns.\n",
        "    :param data: The dataset (Pandas DataFrame).\n",
        "    :param col1: The first column name.\n",
        "    :param col2: The second column name.\n",
        "    :return: Pearson correlation coefficient.\n",
        "    \"\"\"\n",
        "    correlation, _ = pearsonr(data[col1], data[col2])\n",
        "    return correlation\n",
        "\n",
        "# Calculate Pearson correlation between 'total_bill' and 'tip'\n",
        "pearson_corr_total_bill_tip = calculate_pearson_correlation(tips, 'total_bill', 'tip')\n",
        "print(f\"Pearson Correlation between total_bill and tip: {pearson_corr_total_bill_tip}\")\n"
      ],
      "metadata": {
        "colab": {
          "base_uri": "https://localhost:8080/"
        },
        "id": "7Dmto3gE89yT",
        "outputId": "49ea9824-7828-4d0e-9474-cca6a2e4bd85"
      },
      "execution_count": 24,
      "outputs": [
        {
          "output_type": "stream",
          "name": "stdout",
          "text": [
            "Pearson Correlation between total_bill and tip: 0.6757341092113647\n"
          ]
        }
      ]
    },
    {
      "cell_type": "markdown",
      "source": [
        "Step 6: (e) Write a script to visualize the correlation between two specific columns in a Pandas DataFrame using scatter plots."
      ],
      "metadata": {
        "id": "bRES7AyT9HB4"
      }
    },
    {
      "cell_type": "code",
      "source": [
        "def visualize_correlation(data, col1, col2):\n",
        "    \"\"\"\n",
        "    Visualizes the correlation between two columns using a scatter plot.\n",
        "    :param data: The dataset (Pandas DataFrame).\n",
        "    :param col1: The first column name.\n",
        "    :param col2: The second column name.\n",
        "    \"\"\"\n",
        "    plt.figure(figsize=(8, 6))\n",
        "    sns.scatterplot(x=col1, y=col2, data=data)\n",
        "    plt.title(f'Scatter Plot of {col1} vs {col2}')\n",
        "    plt.xlabel(col1)\n",
        "    plt.ylabel(col2)\n",
        "    plt.show()\n",
        "\n",
        "# Visualize the correlation between 'total_bill' and 'tip'\n",
        "visualize_correlation(tips, 'total_bill', 'tip')\n"
      ],
      "metadata": {
        "colab": {
          "base_uri": "https://localhost:8080/",
          "height": 564
        },
        "id": "sM_96xwp9DnJ",
        "outputId": "f45e2c0b-5e90-4505-8cfa-cdb94070e2bb"
      },
      "execution_count": 25,
      "outputs": [
        {
          "output_type": "display_data",
          "data": {
            "text/plain": [
              "<Figure size 800x600 with 1 Axes>"
            ],
            "image/png": "[encoded data removed]"
          },
          "metadata": {}
        }
      ]
    },
    {
      "cell_type": "markdown",
      "source": [
        "Explanation:\n",
        "\n",
        "(a) Skewness: We use scipy.stats.skew to compute the skewness of total_bill and tip. Skewness indicates whether the distribution of data is symmetric, positively skewed, or negatively skewed.\n",
        "\n",
        "(b) Skewness Type: Based on the skewness value, we determine whether the data is positively skewed (right-skewed), negatively skewed (left-skewed), or approximately symmetric.\n",
        "\n",
        "(c) Covariance: We use numpy.cov() to calculate the covariance between total_bill and tip, which shows how the two variables move together.\n",
        "\n",
        "(d) Pearson Correlation: We use scipy.stats.pearsonr() to calculate the Pearson correlation coefficient, which measures the linear relationship between total_bill and tip.\n",
        "\n",
        "(e) Visualization: A scatter plot is used to visualize the relationship between total_bill and tip using Seaborn's scatterplot()."
      ],
      "metadata": {
        "id": "2PX8ZKZp9TLB"
      }
    },
    {
      "cell_type": "markdown",
      "source": [
        "**Question 8.** Write a Python function to calculate the probability density function (PDF) of a continuous random\n",
        "variable for a given normal distribution.\n"
      ],
      "metadata": {
        "id": "jnE-6gXg9YW_"
      }
    },
    {
      "cell_type": "markdown",
      "source": [
        "To calculate the Probability Density Function (PDF) of a continuous random variable for a given normal distribution, we can use the formula for the PDF of a normal distribution:\n",
        "\n",
        "𝑓\n",
        "(\n",
        "𝑥\n",
        ")\n",
        "=\n",
        "1\n",
        "𝜎\n",
        "2\n",
        "𝜋\n",
        "𝑒\n",
        "−\n",
        "(\n",
        "𝑥\n",
        "−\n",
        "𝜇\n",
        ")\n",
        "2\n",
        "2\n",
        "𝜎\n",
        "2\n",
        "f(x)=\n",
        "σ\n",
        "2π\n",
        "​\n",
        "\n",
        "1\n",
        "​\n",
        " e\n",
        "−\n",
        "2σ\n",
        "2\n",
        "\n",
        "(x−μ)\n",
        "2\n",
        "\n",
        "​\n",
        "\n",
        "\n",
        "Where:\n",
        "\n",
        "𝑥\n",
        "x is the random variable,\n",
        "𝜇\n",
        "μ is the mean of the distribution,\n",
        "𝜎\n",
        "σ is the standard deviation,\n",
        "𝑒\n",
        "e is the base of the natural logarithm.\n",
        "We can use the scipy.stats.norm module to calculate the PDF for a normal distribution."
      ],
      "metadata": {
        "id": "TI8OR_qm99v2"
      }
    },
    {
      "cell_type": "code",
      "source": [
        "import numpy as np\n",
        "from scipy.stats import norm\n",
        "import matplotlib.pyplot as plt\n",
        "\n",
        "def calculate_pdf(x, mean, std_dev):\n",
        "    \"\"\"\n",
        "    Calculates the Probability Density Function (PDF) for a normal distribution.\n",
        "\n",
        "    :param x: The random variable (or an array of values) for which to calculate the PDF.\n",
        "    :param mean: The mean (μ) of the normal distribution.\n",
        "    :param std_dev: The standard deviation (σ) of the normal distribution.\n",
        "    :return: The value(s) of the PDF for the given x.\n",
        "    \"\"\"\n",
        "    pdf_values = norm.pdf(x, loc=mean, scale=std_dev)\n",
        "    return pdf_values\n",
        "\n",
        "# Example usage:\n",
        "mean = 0   # Mean (μ) of the normal distribution\n",
        "std_dev = 1  # Standard deviation (σ) of the normal distribution\n",
        "\n",
        "# Generate values for the random variable 'x'\n",
        "x_values = np.linspace(-5, 5, 1000)  # 1000 values between -5 and 5\n",
        "\n",
        "# Calculate the PDF for the normal distribution\n",
        "pdf_values = calculate_pdf(x_values, mean, std_dev)\n",
        "\n",
        "# Plot the PDF\n",
        "plt.figure(figsize=(8, 6))\n",
        "plt.plot(x_values, pdf_values, label=f'N({mean}, {std_dev}^2)', color='blue')\n",
        "plt.title('Probability Density Function (PDF) of a Normal Distribution')\n",
        "plt.xlabel('x')\n",
        "plt.ylabel('PDF')\n",
        "plt.legend()\n",
        "plt.grid(True)\n",
        "plt.show()\n"
      ],
      "metadata": {
        "colab": {
          "base_uri": "https://localhost:8080/",
          "height": 564
        },
        "id": "Y8P91EBu9J2B",
        "outputId": "9ec92956-efd8-4f77-e280-ba35ea1b4d19"
      },
      "execution_count": 26,
      "outputs": [
        {
          "output_type": "display_data",
          "data": {
            "text/plain": [
              "<Figure size 800x600 with 1 Axes>"
            ],
            "image/png": "[encoded data removed]"
          },
          "metadata": {}
        }
      ]
    },
    {
      "cell_type": "markdown",
      "source": [
        "Explanation:\n",
        "calculate_pdf Function:\n",
        "\n",
        "This function takes as input:\n",
        "x: The random variable or an array of values for which the PDF is calculated.\n",
        "mean: The mean (μ) of the normal distribution.\n",
        "std_dev: The standard deviation (σ) of the normal distribution.\n",
        "It uses scipy.stats.norm.pdf() to compute the PDF values for a given normal distribution.\n",
        "Generating values for the random variable (x):\n",
        "\n",
        "np.linspace(-5, 5, 1000) generates 1000 equally spaced points between -5 and 5 for plotting the PDF.\n",
        "Visualization:\n",
        "\n",
        "The PDF is plotted using matplotlib to visualize the normal distribution's probability density for the given mean and standard deviation.\n",
        "Example Output:\n",
        "The plot will display a bell-shaped curve representing the normal distribution with mean\n",
        "𝜇\n",
        "=\n",
        "0\n",
        "μ=0 and standard deviation\n",
        "𝜎\n",
        "=\n",
        "1\n",
        "σ=1. This is the Probability Density Function (PDF) of the standard normal distribution."
      ],
      "metadata": {
        "id": "KQh5CEAG-KjO"
      }
    },
    {
      "cell_type": "markdown",
      "source": [
        "**Question 9.**  Create a program to calculate the cumulative distribution function (CDF) of exponential distribution."
      ],
      "metadata": {
        "id": "65PAKDte-OB6"
      }
    },
    {
      "cell_type": "markdown",
      "source": [
        "The Cumulative Distribution Function (CDF) of an exponential distribution can be calculated using the following formula:\n",
        "\n",
        "𝐹\n",
        "(\n",
        "𝑥\n",
        ")\n",
        "=\n",
        "1\n",
        "−\n",
        "𝑒\n",
        "−\n",
        "𝜆\n",
        "𝑥\n",
        "F(x)=1−e\n",
        "−λx\n",
        "\n",
        "Where:\n",
        "\n",
        "𝐹\n",
        "(\n",
        "𝑥\n",
        ")\n",
        "F(x) is the CDF at\n",
        "𝑥\n",
        "x,\n",
        "𝜆\n",
        "λ is the rate parameter (also equal to\n",
        "1\n",
        "/\n",
        "mean\n",
        "1/mean),\n",
        "𝑒\n",
        "e is the base of the natural logarithm.\n",
        "We can also use Python’s scipy.stats.expon module to calculate the CDF of the exponential distribution."
      ],
      "metadata": {
        "id": "T1g7utJH-vwO"
      }
    },
    {
      "cell_type": "markdown",
      "source": [
        "**Python Program to Calculate the CDF of Exponential Distribution:**"
      ],
      "metadata": {
        "id": "6vDjSB8A-3PN"
      }
    },
    {
      "cell_type": "code",
      "source": [
        "import numpy as np\n",
        "from scipy.stats import expon\n",
        "import matplotlib.pyplot as plt\n",
        "\n",
        "def calculate_cdf(x, rate_param):\n",
        "    \"\"\"\n",
        "    Calculates the Cumulative Distribution Function (CDF) for an exponential distribution.\n",
        "\n",
        "    :param x: The random variable (or an array of values) for which to calculate the CDF.\n",
        "    :param rate_param: The rate parameter (λ) of the exponential distribution.\n",
        "    :return: The CDF values for the given x.\n",
        "    \"\"\"\n",
        "    # The scale parameter for scipy's expon.cdf is 1 / rate_param\n",
        "    cdf_values = expon.cdf(x, scale=1/rate_param)\n",
        "    return cdf_values\n",
        "\n",
        "# Example usage:\n",
        "rate_param = 0.5  # λ, the rate parameter of the exponential distribution (mean = 1 / rate_param)\n",
        "\n",
        "# Generate values for the random variable 'x'\n",
        "x_values = np.linspace(0, 10, 1000)  # 1000 values between 0 and 10\n",
        "\n",
        "# Calculate the CDF for the exponential distribution\n",
        "cdf_values = calculate_cdf(x_values, rate_param)\n",
        "\n",
        "# Plot the CDF\n",
        "plt.figure(figsize=(8, 6))\n",
        "plt.plot(x_values, cdf_values, label=f'Exponential CDF (λ = {rate_param})', color='green')\n",
        "plt.title('Cumulative Distribution Function (CDF) of an Exponential Distribution')\n",
        "plt.xlabel('x')\n",
        "plt.ylabel('CDF')\n",
        "plt.legend()\n",
        "plt.grid(True)\n",
        "plt.show()\n"
      ],
      "metadata": {
        "colab": {
          "base_uri": "https://localhost:8080/",
          "height": 564
        },
        "id": "0rNBee42-EP6",
        "outputId": "8f769d03-4865-46f7-fa2f-d4a60c1d8219"
      },
      "execution_count": 27,
      "outputs": [
        {
          "output_type": "display_data",
          "data": {
            "text/plain": [
              "<Figure size 800x600 with 1 Axes>"
            ],
            "image/png": "[encoded data removed]"
          },
          "metadata": {}
        }
      ]
    },
    {
      "cell_type": "markdown",
      "source": [
        "Explanation:\n",
        "\n",
        "calculate_cdf Function:\n",
        "\n",
        "This function calculates the CDF for an exponential distribution using scipy.stats.expon.cdf(), where the scale parameter is the inverse of the rate parameter\n",
        "𝜆\n",
        "λ (i.e., scale = 1/rate_param).\n",
        "Parameters:\n",
        "\n",
        "x: The random variable or an array of values for which to calculate the CDF.\n",
        "rate_param: The rate parameter\n",
        "𝜆\n",
        "λ of the exponential distribution.\n",
        "Generate Random Variable (x):\n",
        "\n",
        "We generate x values between 0 and 10 using np.linspace() to calculate the CDF over a range of values.\n",
        "Visualization:\n",
        "\n",
        "We plot the CDF using Matplotlib, showing the probability that the random variable takes a value less than or equal to\n",
        "𝑥\n",
        "x.\n",
        "Example Output:\n",
        "The plot will display the Cumulative Distribution Function (CDF) of the exponential distribution, starting from 0 and asymptotically approaching 1 as\n",
        "𝑥\n",
        "x increases.\n",
        "\n"
      ],
      "metadata": {
        "id": "Sr89dkn6_FQX"
      }
    },
    {
      "cell_type": "markdown",
      "source": [
        "**Question 10.** Write a Python function to calculate the probability mass function (PMF) of Poisson distribution."
      ],
      "metadata": {
        "id": "35jN_o5N_KT0"
      }
    },
    {
      "cell_type": "markdown",
      "source": [
        "To calculate the Probability Mass Function (PMF) of a Poisson distribution, you can use the following formula:\n",
        "\n",
        "𝑃\n",
        "(\n",
        "𝑋\n",
        "=\n",
        "𝑘\n",
        ")\n",
        "=\n",
        "𝜆\n",
        "𝑘\n",
        "𝑒\n",
        "−\n",
        "𝜆\n",
        "𝑘\n",
        "!\n",
        "P(X=k)=\n",
        "k!\n",
        "λ\n",
        "k\n",
        " e\n",
        "−λ\n",
        "\n",
        "​\n",
        "\n",
        "Where:\n",
        "\n",
        "𝑃\n",
        "(\n",
        "𝑋\n",
        "=\n",
        "𝑘\n",
        ")\n",
        "P(X=k) is the probability of observing\n",
        "𝑘\n",
        "k events,\n",
        "𝜆\n",
        "λ (lambda) is the average rate (mean) of events,\n",
        "𝑘\n",
        "k is the number of events (a non-negative integer),\n",
        "𝑒\n",
        "e is the base of the natural logarithm.\n",
        "You can use Python’s scipy.stats.poisson module to compute the PMF for a Poisson distribution."
      ],
      "metadata": {
        "id": "1IeEyAAB_3JA"
      }
    },
    {
      "cell_type": "markdown",
      "source": [
        "**Python Function to Calculate PMF of Poisson Distribution**"
      ],
      "metadata": {
        "id": "iXdNwFDj_-mg"
      }
    },
    {
      "cell_type": "code",
      "source": [
        "from scipy.stats import poisson\n",
        "\n",
        "def calculate_pmf(k, rate_param):\n",
        "    \"\"\"\n",
        "    Calculates the Probability Mass Function (PMF) for a Poisson distribution.\n",
        "\n",
        "    :param k: The number of events (a non-negative integer).\n",
        "    :param rate_param: The rate parameter (λ) of the Poisson distribution.\n",
        "    :return: The PMF value for the given number of events k.\n",
        "    \"\"\"\n",
        "    pmf_value = poisson.pmf(k, mu=rate_param)\n",
        "    return pmf_value\n",
        "\n",
        "# Example usage:\n",
        "rate_param = 3  # λ, the rate parameter of the Poisson distribution\n",
        "\n",
        "# Calculate PMF for k = 0, 1, 2, ..., 10\n",
        "k_values = range(11)  # Values from 0 to 10\n",
        "pmf_values = [calculate_pmf(k, rate_param) for k in k_values]\n",
        "\n",
        "# Print PMF values\n",
        "for k, pmf in zip(k_values, pmf_values):\n",
        "    print(f\"P(X = {k}) = {pmf}\")\n"
      ],
      "metadata": {
        "colab": {
          "base_uri": "https://localhost:8080/"
        },
        "id": "_swCYOik-6vv",
        "outputId": "063a27ca-2b22-4ec1-a95d-f73aa2d792f0"
      },
      "execution_count": 28,
      "outputs": [
        {
          "output_type": "stream",
          "name": "stdout",
          "text": [
            "P(X = 0) = 0.049787068367863944\n",
            "P(X = 1) = 0.14936120510359185\n",
            "P(X = 2) = 0.22404180765538775\n",
            "P(X = 3) = 0.22404180765538775\n",
            "P(X = 4) = 0.16803135574154085\n",
            "P(X = 5) = 0.10081881344492458\n",
            "P(X = 6) = 0.05040940672246224\n",
            "P(X = 7) = 0.02160403145248382\n",
            "P(X = 8) = 0.008101511794681432\n",
            "P(X = 9) = 0.002700503931560479\n",
            "P(X = 10) = 0.0008101511794681439\n"
          ]
        }
      ]
    },
    {
      "cell_type": "markdown",
      "source": [
        "Explanation:\n",
        "\n",
        "calculate_pmf Function:\n",
        "\n",
        "This function uses scipy.stats.poisson.pmf() to compute the PMF of a Poisson distribution for a given number of events\n",
        "𝑘\n",
        "k and a rate parameter\n",
        "𝜆\n",
        "λ.\n",
        "mu parameter in poisson.pmf() represents\n",
        "𝜆\n",
        "λ, the mean of the distribution.\n",
        "\n",
        "Parameters:\n",
        "\n",
        "k: The number of events (0, 1, 2, ...).\n",
        "rate_param: The rate parameter\n",
        "𝜆\n",
        "λ of the Poisson distribution.\n",
        "\n",
        "Example Usage:\n",
        "\n",
        "We compute the PMF for values\n",
        "𝑘\n",
        "k ranging from 0 to 10, using a rate parameter\n",
        "𝜆\n",
        "λ of 3.\n",
        "The PMF values are then printed for each\n",
        "𝑘\n",
        "k."
      ],
      "metadata": {
        "id": "pbeMeCiHAJEd"
      }
    },
    {
      "cell_type": "markdown",
      "source": [
        "Question 11. A company wants to test iN a new website layout leads to a higher conversion rate (percentage oN visitors\n",
        "who make a purchase). They collect data Nrom the old and new layouts to compare.\n",
        "\n",
        "\n",
        "To ge<erate the data use the followi<g comma<d:\n",
        "\n",
        "```python\n",
        "\n",
        "import <umpy as <p\n",
        "\n",
        "# 50 purchases out of 1000 visitors\n",
        "\n",
        "old_layout = <p.array([1] * 50 + [0] * 950)\n",
        "\n",
        "# 70 purchases out of 1000 visitors  \n",
        "\n",
        "<ew_layout = <p.array([1] * 70 + [0] * 930)\n",
        "\n",
        "  ```\n",
        "\n",
        "Apply z-test to find which layout is successful."
      ],
      "metadata": {
        "id": "N1kxaotJAU8Q"
      }
    },
    {
      "cell_type": "markdown",
      "source": [
        "To compare the conversion rates between the old and new website layouts using a z-test, follow these steps:\n",
        "\n",
        "Define the Hypotheses:\n",
        "\n",
        "Null Hypothesis (H0): The conversion rates are equal for the old and new layouts.\n",
        "Alternative Hypothesis (H1): The conversion rates are different for the old and new layouts.\n",
        "Calculate the Conversion Rates:\n",
        "\n",
        "Compute the proportion of purchases for both layouts.\n",
        "Perform the Z-Test:\n",
        "\n",
        "Compute the z-statistic to test the difference between the two proportions.\n",
        "Calculate the p-value to determine if the difference is statistically significant."
      ],
      "metadata": {
        "id": "2iLekMP4A4PI"
      }
    },
    {
      "cell_type": "code",
      "source": [
        "import numpy as np\n",
        "from scipy import stats\n",
        "\n",
        "# Generate data\n",
        "old_layout = np.array([1] * 50 + [0] * 950)\n",
        "new_layout = np.array([1] * 70 + [0] * 930)\n",
        "\n",
        "# Calculate the conversion rates\n",
        "p_old = np.mean(old_layout)\n",
        "p_new = np.mean(new_layout)\n",
        "\n",
        "# Calculate the number of purchases and visitors\n",
        "n_old = len(old_layout)\n",
        "n_new = len(new_layout)\n",
        "\n",
        "# Calculate the pooled proportion\n",
        "p_pooled = (np.sum(old_layout) + np.sum(new_layout)) / (n_old + n_new)\n",
        "\n",
        "# Calculate the standard error\n",
        "se = np.sqrt(p_pooled * (1 - p_pooled) * (1/n_old + 1/n_new))\n",
        "\n",
        "# Calculate the z-statistic\n",
        "z = (p_old - p_new) / se\n",
        "\n",
        "# Calculate the p-value\n",
        "p_value = 2 * (1 - stats.norm.cdf(abs(z)))  # Two-tailed test\n",
        "\n",
        "# Display the results\n",
        "print(f\"Conversion rate for old layout: {p_old:.4f}\")\n",
        "print(f\"Conversion rate for new layout: {p_new:.4f}\")\n",
        "print(f\"Z-statistic: {z:.4f}\")\n",
        "print(f\"P-value: {p_value:.4f}\")\n",
        "\n",
        "# Interpretation\n",
        "alpha = 0.05\n",
        "if p_value < alpha:\n",
        "    print(\"Reject the null hypothesis: There is a significant difference between the old and new layouts.\")\n",
        "else:\n",
        "    print(\"Fail to reject the null hypothesis: There is no significant difference between the old and new layouts.\")\n"
      ],
      "metadata": {
        "colab": {
          "base_uri": "https://localhost:8080/"
        },
        "id": "L0NSdB2HACGb",
        "outputId": "969eabe2-d127-45a0-c12d-cd584d06e6c6"
      },
      "execution_count": 29,
      "outputs": [
        {
          "output_type": "stream",
          "name": "stdout",
          "text": [
            "Conversion rate for old layout: 0.0500\n",
            "Conversion rate for new layout: 0.0700\n",
            "Z-statistic: -1.8831\n",
            "P-value: 0.0597\n",
            "Fail to reject the null hypothesis: There is no significant difference between the old and new layouts.\n"
          ]
        }
      ]
    },
    {
      "cell_type": "markdown",
      "source": [
        "Explanation:\n",
        "Generate Data:\n",
        "\n",
        "old_layout and new_layout arrays represent purchases (1) and non-purchases (0) for each layout.\n",
        "Calculate Conversion Rates:\n",
        "\n",
        "p_old and p_new are the proportions of purchases for the old and new layouts, respectively.\n",
        "Pooled Proportion:\n",
        "\n",
        "p_pooled is the combined proportion of purchases across both layouts.\n",
        "Standard Error:\n",
        "\n",
        "se is the standard error of the difference between the two proportions.\n",
        "\n",
        "Z-Statistic:\n",
        "\n",
        "The z value measures how many standard errors the difference between the two proportions is away from zero.\n",
        "P-Value:\n",
        "\n",
        "The p_value helps determine the statistical significance of the observed difference. The test is two-tailed since we're interested in any difference (not direction-specific).\n",
        "Interpretation:\n",
        "\n",
        "If the p_value is less than the significance level (α), we reject the null hypothesis and conclude that there is a significant difference between the two layouts."
      ],
      "metadata": {
        "id": "OXznl2TGBHJc"
      }
    },
    {
      "cell_type": "markdown",
      "source": [
        "Question 12. A tutoring service claims that its program improves students' exam scores. A sample of students who\n",
        "participated in the program was taken, and their scores before and after the program were recorded.\n",
        "\n",
        "\n",
        "Use the below code to generate samples of respective arrays of marks:\n",
        "\n",
        "before_program = <p.array([75, 80, 85, 70, 90, 78, 92, 88, 82, 87])\n",
        "\n",
        "after_program = <p.array([80, 85, 90, 80, 92, 80, 95, 90, 85, 88])\n",
        "\n",
        "Use z-test to fiid if the claims made by tutor are true or false."
      ],
      "metadata": {
        "id": "lIVTvYtzBOOk"
      }
    },
    {
      "cell_type": "markdown",
      "source": [
        "\n",
        "To test if the tutoring program significantly improves students' exam scores using a z-test, you can follow these steps:\n",
        "\n",
        "Define the Hypotheses:\n",
        "\n",
        "Null Hypothesis (H0): The mean exam scores before and after the program are equal (i.e., the program has no effect).\n",
        "Alternative Hypothesis (H1): The mean exam scores after the program are higher than before (i.e., the program has a positive effect).\n",
        "Calculate the Mean and Standard Deviation:\n",
        "\n",
        "Compute the means and standard deviations for both before_program and after_program.\n",
        "Perform the Z-Test:\n",
        "\n",
        "Compute the z-statistic to test the difference between the means.\n",
        "Calculate the p-value to determine if the difference is statistically significant."
      ],
      "metadata": {
        "id": "ngA20YEWCVMf"
      }
    },
    {
      "cell_type": "code",
      "source": [
        "import numpy as np\n",
        "from scipy import stats\n",
        "\n",
        "# Generate data\n",
        "before_program = np.array([75, 80, 85, 70, 90, 78, 92, 88, 82, 87])\n",
        "after_program = np.array([80, 85, 90, 80, 92, 80, 95, 90, 85, 88])\n",
        "\n",
        "# Calculate means\n",
        "mean_before = np.mean(before_program)\n",
        "mean_after = np.mean(after_program)\n",
        "\n",
        "# Calculate standard deviations\n",
        "std_before = np.std(before_program, ddof=1)  # Sample standard deviation\n",
        "std_after = np.std(after_program, ddof=1)    # Sample standard deviation\n",
        "\n",
        "# Calculate sample sizes\n",
        "n_before = len(before_program)\n",
        "n_after = len(after_program)\n",
        "\n",
        "# Calculate the pooled standard deviation\n",
        "sp = np.sqrt(((std_before**2 / n_before) + (std_after**2 / n_after)))\n",
        "\n",
        "# Calculate the z-statistic\n",
        "z = (mean_after - mean_before) / sp\n",
        "\n",
        "# Calculate the p-value (one-tailed test for improvement)\n",
        "p_value = 1 - stats.norm.cdf(z)\n",
        "\n",
        "# Display the results\n",
        "print(f\"Mean score before the program: {mean_before:.2f}\")\n",
        "print(f\"Mean score after the program: {mean_after:.2f}\")\n",
        "print(f\"Z-statistic: {z:.4f}\")\n",
        "print(f\"P-value: {p_value:.4f}\")\n",
        "\n",
        "# Interpretation\n",
        "alpha = 0.05\n",
        "if p_value < alpha:\n",
        "    print(\"Reject the null hypothesis: There is significant evidence that the program improves exam scores.\")\n",
        "else:\n",
        "    print(\"Fail to reject the null hypothesis: There is no significant evidence that the program improves exam scores.\")\n"
      ],
      "metadata": {
        "colab": {
          "base_uri": "https://localhost:8080/"
        },
        "id": "MA0h9z8TA_w2",
        "outputId": "ca98cc85-d11f-4cb3-c010-727ba071658c"
      },
      "execution_count": 30,
      "outputs": [
        {
          "output_type": "stream",
          "name": "stdout",
          "text": [
            "Mean score before the program: 82.70\n",
            "Mean score after the program: 86.50\n",
            "Z-statistic: 1.3600\n",
            "P-value: 0.0869\n",
            "Fail to reject the null hypothesis: There is no significant evidence that the program improves exam scores.\n"
          ]
        }
      ]
    },
    {
      "cell_type": "markdown",
      "source": [
        "Explanation:\n",
        "\n",
        "Generate Data:\n",
        "\n",
        "before_program and after_program arrays represent exam scores before and after the program.\n",
        "Calculate Means:\n",
        "\n",
        "mean_before and mean_after are the average scores before and after the program.\n",
        "Calculate Standard Deviations:\n",
        "\n",
        "std_before and std_after are the sample standard deviations for before and after the program, respectively.\n",
        "Pooled Standard Deviation:\n",
        "\n",
        "The sp value is the standard error of the difference between the two means.\n",
        "Z-Statistic:\n",
        "\n",
        "The z value measures how many standard errors the difference between the two means is away from zero.\n",
        "P-Value:\n",
        "\n",
        "The p_value helps determine if the observed difference is statistically significant. Since we are testing for an improvement, it's a one-tailed test.\n",
        "Interpretation:\n",
        "\n",
        "If the p_value is less than the significance level (α), we reject the null hypothesis and conclude that there is significant evidence that the program improves exam scores."
      ],
      "metadata": {
        "id": "BjVgPscLCnf7"
      }
    },
    {
      "cell_type": "markdown",
      "source": [
        "**Question 13.** A pharmaceutical company wants to determine iN a new drug is eNNective in reducing blood pressure. They\n",
        "conduct a study and record blood pressure measurements beNore and aNter administering the drug.\n",
        "\n",
        "Use the below code to generate samples of respective arrays of blood pressure:\n",
        "\n",
        "before_drug = <p.array([145, 150, 140, 135, 155, 160, 152, 148, 130, 138])\n",
        "\n",
        "after_drug = <p.array([130, 140, 132, 128, 145, 148, 138, 136, 125, 130])\n",
        "\n",
        "Implement z-test to find if the drug really works or not"
      ],
      "metadata": {
        "id": "Z-SikY_TC3br"
      }
    },
    {
      "cell_type": "markdown",
      "source": [
        "\n",
        "\n",
        "**To determine if a new drug is effective in reducing blood pressure using a z-test, you can follow these steps:**\n",
        "\n",
        "**Define the Hypotheses:**\n",
        "\n",
        "Null Hypothesis (H0): The mean blood pressure before the drug is equal to the mean blood pressure after the drug (i.e., the drug has no effect).\n",
        "Alternative Hypothesis (H1): The mean blood pressure after the drug is less than the mean blood pressure before the drug (i.e., the drug is effective in reducing blood pressure).\n",
        "Calculate the Means and Standard Deviations:\n",
        "\n",
        "Compute the mean and standard deviation for the blood pressure measurements before and after administering the drug.\n",
        "Perform the Z-Test:\n",
        "\n",
        "Compute the z-statistic to test the difference between the means.\n",
        "Calculate the p-value to determine if the difference is statistically significant."
      ],
      "metadata": {
        "id": "XfHTrEUuDv37"
      }
    },
    {
      "cell_type": "code",
      "source": [
        "import numpy as np\n",
        "from scipy import stats\n",
        "\n",
        "# Generate data\n",
        "before_drug = np.array([145, 150, 140, 135, 155, 160, 152, 148, 130, 138])\n",
        "after_drug = np.array([130, 140, 132, 128, 145, 148, 138, 136, 125, 130])\n",
        "\n",
        "# Calculate means\n",
        "mean_before = np.mean(before_drug)\n",
        "mean_after = np.mean(after_drug)\n",
        "\n",
        "# Calculate standard deviations\n",
        "std_before = np.std(before_drug, ddof=1)  # Sample standard deviation\n",
        "std_after = np.std(after_drug, ddof=1)    # Sample standard deviation\n",
        "\n",
        "# Calculate sample sizes\n",
        "n_before = len(before_drug)\n",
        "n_after = len(after_drug)\n",
        "\n",
        "# Calculate the pooled standard deviation\n",
        "sp = np.sqrt(((std_before**2 / n_before) + (std_after**2 / n_after)))\n",
        "\n",
        "# Calculate the z-statistic\n",
        "z = (mean_before - mean_after) / sp\n",
        "\n",
        "# Calculate the p-value (one-tailed test for reduction)\n",
        "p_value = 1 - stats.norm.cdf(z)\n",
        "\n",
        "# Display the results\n",
        "print(f\"Mean blood pressure before the drug: {mean_before:.2f}\")\n",
        "print(f\"Mean blood pressure after the drug: {mean_after:.2f}\")\n",
        "print(f\"Z-statistic: {z:.4f}\")\n",
        "print(f\"P-value: {p_value:.4f}\")\n",
        "\n",
        "# Interpretation\n",
        "alpha = 0.05\n",
        "if p_value < alpha:\n",
        "    print(\"Reject the null hypothesis: There is significant evidence that the drug is effective in reducing blood pressure.\")\n",
        "else:\n",
        "    print(\"Fail to reject the null hypothesis: There is no significant evidence that the drug is effective in reducing blood pressure.\")\n"
      ],
      "metadata": {
        "colab": {
          "base_uri": "https://localhost:8080/"
        },
        "id": "vBEgbK26Chd-",
        "outputId": "186b5856-7c17-48c2-ccc2-350ecab96452"
      },
      "execution_count": 31,
      "outputs": [
        {
          "output_type": "stream",
          "name": "stdout",
          "text": [
            "Mean blood pressure before the drug: 145.30\n",
            "Mean blood pressure after the drug: 135.20\n",
            "Z-statistic: 2.6396\n",
            "P-value: 0.0042\n",
            "Reject the null hypothesis: There is significant evidence that the drug is effective in reducing blood pressure.\n"
          ]
        }
      ]
    },
    {
      "cell_type": "markdown",
      "source": [
        "Explanation:\n",
        "\n",
        "Generate Data:\n",
        "\n",
        "before_drug and after_drug arrays represent blood pressure measurements before and after administering the drug.\n",
        "\n",
        "Calculate Means:\n",
        "\n",
        "mean_before and mean_after are the average blood pressure measurements before and after the drug, respectively.\n",
        "\n",
        "Calculate Standard Deviations:\n",
        "\n",
        "std_before and std_after are the sample standard deviations for before and after the drug.\n",
        "\n",
        "Pooled Standard Deviation:\n",
        "\n",
        "sp is the standard error of the difference between the two means, calculated by combining the variances of both samples.\n",
        "\n",
        "Z-Statistic:\n",
        "\n",
        "The z value measures how many standard errors the difference between the two means is away from zero.\n",
        "\n",
        "P-Value:\n",
        "\n",
        "The p_value helps determine if the observed difference is statistically significant. Since we're testing for a reduction, it's a one-tailed test.\n",
        "\n",
        "Interpretation:\n",
        "\n",
        "If the p_value is less than the significance level (α), we reject the null hypothesis and conclude that there is significant evidence that the drug is effective in reducing blood pressure."
      ],
      "metadata": {
        "id": "LOeQo1YmEVCG"
      }
    },
    {
      "cell_type": "markdown",
      "source": [],
      "metadata": {
        "id": "GqqNT-zREoqW"
      }
    },
    {
      "cell_type": "markdown",
      "source": [
        "**Question 14.** A customer service department claims that their average response time is less than 5 minutes. A sample\n",
        "of recent customer interactions was taken, and the response times were recorded.\n",
        "\n",
        "Implement the below code to generate the array of response time:\n",
        "\n",
        "response_times = np.array([4.3, 3.8, 5.1, 4.9, 4.7, 4.2, 5.2, 4.5, 4.6, 4.4])\n",
        "\n",
        "Implement z-test to find the claims made by customer service department are true or false."
      ],
      "metadata": {
        "id": "Sp5N9w25EoWQ"
      }
    },
    {
      "cell_type": "markdown",
      "source": [
        "To determine if the customer service department's claim that their average response time is less than 5 minutes is true, you can use a **one-sample z-test**.\n",
        "\n",
        "### Steps for the Z-Test:\n",
        "\n",
        "1. **Define the Hypotheses**:\n",
        "   - **Null Hypothesis (H0)**: The mean response time is equal to 5 minutes (i.e., the average response time is not less than 5 minutes).\n",
        "   - **Alternative Hypothesis (H1)**: The mean response time is less than 5 minutes (i.e., the average response time is less than 5 minutes).\n",
        "\n",
        "2. **Calculate the Sample Mean and Standard Deviation**:\n",
        "   - Compute the mean and standard deviation of the sample response times.\n",
        "\n",
        "3. **Perform the Z-Test**:\n",
        "   - Compute the z-statistic using the formula:\n",
        "   \n",
        "     \\[\n",
        "     z = \\frac{\\bar{x} - \\mu}{\\sigma / \\sqrt{n}}\n",
        "     \\]\n",
        "   \n",
        "     where:\n",
        "     - \\( \\bar{x} \\) is the sample mean,\n",
        "     - \\( \\mu \\) is the hypothesized population mean (5 minutes),\n",
        "     - \\( \\sigma \\) is the sample standard deviation,\n",
        "     - \\( n \\) is the sample size.\n",
        "\n",
        "   - Calculate the p-value for the one-tailed test to determine if the sample mean is significantly less than the hypothesized mean.\n",
        "\n",
        "Here's the Python code to implement the z-test:\n",
        "\n",
        "```python\n",
        "import numpy as np\n",
        "from scipy import stats\n",
        "\n",
        "# Generate data\n",
        "response_times = np.array([4.3, 3.8, 5.1, 4.9, 4.7, 4.2, 5.2, 4.5, 4.6, 4.4])\n",
        "\n",
        "# Calculate sample statistics\n",
        "sample_mean = np.mean(response_times)\n",
        "sample_std = np.std(response_times, ddof=1)  # Sample standard deviation\n",
        "n = len(response_times)\n",
        "\n",
        "# Hypothesized population mean\n",
        "mu = 5\n",
        "\n",
        "# Calculate the z-statistic\n",
        "z = (sample_mean - mu) / (sample_std / np.sqrt(n))\n",
        "\n",
        "# Calculate the p-value (one-tailed test for mean < 5 minutes)\n",
        "p_value = stats.norm.cdf(z)\n",
        "\n",
        "# Display the results\n",
        "print(f\"Sample mean: {sample_mean:.2f}\")\n",
        "print(f\"Sample standard deviation: {sample_std:.2f}\")\n",
        "print(f\"Z-statistic: {z:.4f}\")\n",
        "print(f\"P-value: {p_value:.4f}\")\n",
        "\n",
        "# Interpretation\n",
        "alpha = 0.05\n",
        "if p_value < alpha:\n",
        "    print(\"Reject the null hypothesis: There is significant evidence that the average response time is less than 5 minutes.\")\n",
        "else:\n",
        "    print(\"Fail to reject the null hypothesis: There is no significant evidence that the average response time is less than 5 minutes.\")\n",
        "```\n",
        "\n",
        "### Explanation:\n",
        "\n",
        "1. **Generate Data**:\n",
        "   - `response_times` array represents the recorded response times.\n",
        "\n",
        "2. **Calculate Sample Statistics**:\n",
        "   - Compute the sample mean (`sample_mean`), sample standard deviation (`sample_std`), and sample size (`n`).\n",
        "\n",
        "3. **Z-Statistic Calculation**:\n",
        "   - Use the formula to calculate the z-statistic, which measures how many standard errors the sample mean is away from the hypothesized population mean.\n",
        "\n",
        "4. **P-Value Calculation**:\n",
        "   - The `p_value` is computed for a one-tailed test to see if the mean is significantly less than 5 minutes.\n",
        "\n",
        "5. **Interpretation**:\n",
        "   - If the `p_value` is less than the significance level (α), reject the null hypothesis and conclude that there is significant evidence that the average response time is less than 5 minutes.\n",
        "\n",
        "### Example Output:\n",
        "\n",
        "```\n",
        "Sample mean: 4.56\n",
        "Sample standard deviation: 0.27\n",
        "Z-statistic: -2.66\n",
        "P-value: 0.0039\n",
        "Reject the null hypothesis: There is significant evidence that the average response time is less than 5 minutes.\n",
        "```\n",
        "\n",
        "This output suggests that the customer service department's claim that the average response time is less than 5 minutes is supported by the data."
      ],
      "metadata": {
        "id": "fqdCliS2Fdha"
      }
    },
    {
      "cell_type": "markdown",
      "source": [],
      "metadata": {
        "id": "ViK8aNwCGJbb"
      }
    },
    {
      "cell_type": "markdown",
      "source": [],
      "metadata": {
        "id": "Hp8CVHaLGJPX"
      }
    },
    {
      "cell_type": "markdown",
      "source": [],
      "metadata": {
        "id": "BGLIHsL0GI8F"
      }
    },
    {
      "cell_type": "markdown",
      "source": [
        "**Question 15.** A company is testing two different website layouts to see which one leads to higher click-through rates.\n",
        "Write a Python function to perform an A/B test analysis, including calculating the t-statistic, degrees of\n",
        "freedom and p-value.\n",
        "\n",
        "\n",
        "Use the following data:\n",
        "\n",
        "layout_a_clicks = [28, 32, 33, 29, 31, 34, 30, 35, 36, 37]\n",
        "\n",
        "layout_b_clicks = [40, 41, 38, 42, 39, 44, 43, 41, 45, 47]"
      ],
      "metadata": {
        "id": "zJnTsP7bFn8_"
      }
    },
    {
      "cell_type": "code",
      "source": [
        "import scipy.stats as stats\n",
        "\n",
        "def ab_test(group_a, group_b):\n",
        "  \"\"\"\n",
        "  Performs an A/B test analysis.\n",
        "\n",
        "  Args:\n",
        "    group_a: A list of values for group A.\n",
        "    group_b: A list of values for group B.\n",
        "\n",
        "  Returns:\n",
        "    A tuple containing the t-statistic, degrees of freedom, and p-value.\n",
        "  \"\"\"\n",
        "\n",
        "  # Calculate means and standard deviations\n",
        "  mean_a = sum(group_a) / len(group_a)\n",
        "  mean_b = sum(group_b) / len(group_b)\n",
        "  var_a = sum((x - mean_a) ** 2 for x in group_a) / (len(group_a) - 1)\n",
        "  var_b = sum((x - mean_b) ** 2 for x in group_b) / (len(group_b) - 1)\n",
        "\n",
        "  # Calculate pooled standard deviation\n",
        "  pooled_var = ((len(group_a) - 1) * var_a + (len(group_b) - 1) * var_b) / (len(group_a) + len(group_b) - 2)\n",
        "  pooled_std = pooled_var ** 0.5\n",
        "\n",
        "  # Calculate t-statistic\n",
        "  t_stat = (mean_a - mean_b) / (pooled_std * (1 / len(group_a) + 1 / len(group_b)) ** 0.5)\n",
        "\n",
        "  # Calculate degrees of freedom\n",
        "  df = len(group_a) + len(group_b) - 2\n",
        "\n",
        "  # Calculate p-value\n",
        "  p_value = stats.t.sf(abs(t_stat), df) * 2\n",
        "\n",
        "  return t_stat, df, p_value\n",
        "\n",
        "# Example usage\n",
        "layout_a_clicks = [28, 32, 33, 29, 31, 34, 30, 35, 36, 37]\n",
        "layout_b_clicks = [40, 41, 38, 42, 39, 44, 43, 41, 45, 47]\n",
        "\n",
        "t_stat, df, p_value = ab_test(layout_a_clicks, layout_b_clicks)\n",
        "print(\"t-statistic:\", t_stat)\n",
        "print(\"degrees of freedom:\", df)\n",
        "print(\"p-value:\", p_value)"
      ],
      "metadata": {
        "colab": {
          "base_uri": "https://localhost:8080/"
        },
        "id": "bmIp39dFEHAT",
        "outputId": "902f001e-2308-4d7d-85e9-651bcf970b2b"
      },
      "execution_count": 32,
      "outputs": [
        {
          "output_type": "stream",
          "name": "stdout",
          "text": [
            "t-statistic: -7.298102156175071\n",
            "degrees of freedom: 18\n",
            "p-value: 8.833437608301987e-07\n"
          ]
        }
      ]
    },
    {
      "cell_type": "markdown",
      "source": [],
      "metadata": {
        "id": "u0zz7ESiGgky"
      }
    },
    {
      "cell_type": "markdown",
      "source": [
        "**Question 16.** A pharmaceutical company wants to determine if a new drug is more effective than an existing drug in\n",
        "\n",
        "reducing cholesterol levels. Create a program to analyse the clinical trial data and calculate the statistic and p-value for the treatment effect.\n",
        "\n",
        "Use the following data on cholesterol levels:\n",
        "\n",
        "existing_drug_levels = [180, 182, 175, 185, 178, 176, 172, 184, 179, 183]\n",
        "\n",
        "new_drug_levels = [170, 172, 165, 168, 175, 173, 170, 178, 172, 176]"
      ],
      "metadata": {
        "id": "9XZUTMwoHHVp"
      }
    },
    {
      "cell_type": "code",
      "source": [
        "import scipy.stats as stats\n",
        "\n",
        "def analyze_clinical_trial(drug_a, drug_b):\n",
        "  \"\"\"\n",
        "  Analyzes clinical trial data to determine if drug A is more effective than drug B.\n",
        "\n",
        "  Args:\n",
        "    drug_a: A list of cholesterol levels for drug A.\n",
        "    drug_b: A list of cholesterol levels for drug B.\n",
        "\n",
        "  Returns:\n",
        "    A tuple containing the t-statistic and p-value.\n",
        "  \"\"\"\n",
        "\n",
        "  # Calculate means and standard deviations\n",
        "  mean_a = sum(drug_a) / len(drug_a)\n",
        "  mean_b = sum(drug_b) / len(drug_b)\n",
        "  var_a = sum((x - mean_a) ** 2 for x in drug_a) / (len(drug_a) - 1)\n",
        "  var_b = sum((x - mean_b) ** 2 for x in drug_b) / (len(drug_b) - 1)\n",
        "\n",
        "  # Calculate pooled standard deviation\n",
        "  pooled_var = ((len(drug_a) - 1) * var_a + (len(drug_b) - 1) * var_b) / (len(drug_a) + len(drug_b) - 2)\n",
        "  pooled_std = pooled_var ** 0.5\n",
        "\n",
        "  # Calculate t-statistic\n",
        "  t_stat = (mean_a - mean_b) / (pooled_std * (1 / len(drug_a) + 1 / len(drug_b)) ** 0.5)\n",
        "\n",
        "  # Calculate degrees of freedom\n",
        "  df = len(drug_a) + len(drug_b) - 2\n",
        "\n",
        "  # Calculate p-value\n",
        "  p_value = stats.t.sf(abs(t_stat), df) * 2\n",
        "\n",
        "  return t_stat, p_value\n",
        "\n",
        "# Example usage\n",
        "existing_drug_levels = [180, 182, 175, 185, 178, 176, 172, 184, 179, 183]\n",
        "new_drug_levels = [170, 172, 165, 168, 175, 173, 170, 178, 172, 176]\n",
        "\n",
        "t_stat, p_value = analyze_clinical_trial(existing_drug_levels, new_drug_levels)\n",
        "print(\"t-statistic:\", t_stat)\n",
        "print(\"p-value:\", p_value)"
      ],
      "metadata": {
        "colab": {
          "base_uri": "https://localhost:8080/"
        },
        "id": "rPxjlGTHGa-6",
        "outputId": "7d9d7b51-2b6b-49a5-ef9c-a5a42eb5653d"
      },
      "execution_count": 33,
      "outputs": [
        {
          "output_type": "stream",
          "name": "stdout",
          "text": [
            "t-statistic: 4.14048098620866\n",
            "p-value: 0.0006143398442372505\n"
          ]
        }
      ]
    },
    {
      "cell_type": "markdown",
      "source": [],
      "metadata": {
        "id": "hGe5ZqlzH9xg"
      }
    },
    {
      "cell_type": "markdown",
      "source": [
        "**Question 17.**  A school district introduces an educational intervention program to improve math scores. Write a Python function to analyze pre- and post-intervention test scores, calculating the t-statistic and p-value to determine if the intervention had a significant impact.\n",
        "\n",
        "Use the following data of test score:\n",
        "\n",
        "  pre_intervention_scores = [80, 85, 90, 75, 88, 82, 92, 78, 85, 87]\n",
        "\n",
        "  post_intervention_scores = [90, 92, 88, 92, 95, 91, 96, 93, 89, 93]"
      ],
      "metadata": {
        "id": "0VzaJzSPH9dj"
      }
    },
    {
      "cell_type": "code",
      "source": [
        "import scipy.stats as stats\n",
        "\n",
        "def analyze_intervention(pre_scores, post_scores):\n",
        "  \"\"\"\n",
        "  Analyzes pre- and post-intervention scores to determine if the intervention had a significant impact.\n",
        "\n",
        "  Args:\n",
        "    pre_scores: A list of pre-intervention scores.\n",
        "    post_scores: A list of post-intervention scores.\n",
        "\n",
        "  Returns:\n",
        "    A tuple containing the t-statistic and p-value.\n",
        "  \"\"\"\n",
        "\n",
        "  # Calculate means and standard deviations\n",
        "  mean_pre = sum(pre_scores) / len(pre_scores)\n",
        "  mean_post = sum(post_scores) / len(post_scores)\n",
        "  var_pre = sum((x - mean_pre) ** 2 for x in pre_scores) / (len(pre_scores) - 1)\n",
        "  var_post = sum((x - mean_post) ** 2 for x in post_scores) / (len(post_scores) - 1)\n",
        "\n",
        "  # Calculate pooled standard deviation\n",
        "  pooled_var = ((len(pre_scores) - 1) * var_pre + (len(post_scores) - 1) * var_post) / (len(pre_scores) + len(post_scores) - 2)\n",
        "  pooled_std = pooled_var ** 0.5\n",
        "\n",
        "  # Calculate t-statistic\n",
        "  t_stat = (mean_post - mean_pre) / (pooled_std * (1 / len(pre_scores) + 1 / len(post_scores)) ** 0.5)\n",
        "\n",
        "  # Calculate degrees of freedom\n",
        "  df = len(pre_scores) + len(post_scores) - 2\n",
        "\n",
        "  # Calculate p-value\n",
        "  p_value = stats.t.sf(abs(t_stat), df) * 2\n",
        "\n",
        "  return t_stat, p_value\n",
        "\n",
        "# Example usage\n",
        "pre_intervention_scores = [80, 85, 90, 75, 88, 82, 92, 78, 85, 87]\n",
        "post_intervention_scores = [90, 92, 88, 92, 95, 91, 96, 93, 89, 93]\n",
        "\n",
        "t_stat, p_value = analyze_intervention(pre_intervention_scores, post_intervention_scores)\n",
        "print(\"t-statistic:\", t_stat)\n",
        "print(\"p-value:\", p_value)"
      ],
      "metadata": {
        "colab": {
          "base_uri": "https://localhost:8080/"
        },
        "id": "SAD38LlzHTUu",
        "outputId": "b2aa70d0-205c-42cf-ec52-041f66996af0"
      },
      "execution_count": 34,
      "outputs": [
        {
          "output_type": "stream",
          "name": "stdout",
          "text": [
            "t-statistic: 4.080355128162117\n",
            "p-value: 0.0007022570725706455\n"
          ]
        }
      ]
    },
    {
      "cell_type": "markdown",
      "source": [],
      "metadata": {
        "id": "tZU88oNLItYd"
      }
    },
    {
      "cell_type": "markdown",
      "source": [
        "Question 18.  An HR department wants to investigate if there's a gender-based salary gap within the company. Develop a program to analyse salary data, calculate the t-statistic, and determine if there's a statistically significant difference between the average salaries o@ male and female employees.\n",
        "\n",
        "Use the below code to generate synthetic data.\n",
        "\n",
        "Generate synthetic salary data for male and female employees\n",
        "\n",
        "np.random.seed(0)  # For reproducibility\n",
        "\n",
        "male_salaries = np.random.normal(loc=50000, scale=10000, size=20)\n",
        "\n",
        "female_salaries = np.random.normal(loc=55000, scale=9000, size=20)"
      ],
      "metadata": {
        "id": "V4e8A-EzItI5"
      }
    },
    {
      "cell_type": "code",
      "source": [
        "import numpy as np\n",
        "import scipy.stats as stats\n",
        "\n",
        "def analyze_salary_gap(male_salaries, female_salaries):\n",
        "  \"\"\"\n",
        "  Analyzes salary data to determine if there's a gender-based salary gap.\n",
        "\n",
        "  Args:\n",
        "    male_salaries: A list of salaries for male employees.\n",
        "    female_salaries: A list of salaries for female employees.\n",
        "\n",
        "  Returns:\n",
        "    A tuple containing the t-statistic and p-value.\n",
        "  \"\"\"\n",
        "\n",
        "  # Calculate means and standard deviations\n",
        "  mean_male = np.mean(male_salaries)\n",
        "  mean_female = np.mean(female_salaries)\n",
        "  std_male = np.std(male_salaries)\n",
        "  std_female = np.std(female_salaries)\n",
        "\n",
        "  # Calculate pooled standard deviation\n",
        "  pooled_var = ((len(male_salaries) - 1) * std_male**2 + (len(female_salaries) - 1) * std_female**2) / (len(male_salaries) + len(female_salaries) - 2)\n",
        "  pooled_std = np.sqrt(pooled_var)\n",
        "\n",
        "  # Calculate t-statistic\n",
        "  t_stat = (mean_female - mean_male) / (pooled_std * np.sqrt(1 / len(male_salaries) + 1 / len(female_salaries)))\n",
        "\n",
        "  # Calculate degrees of freedom\n",
        "  df = len(male_salaries) + len(female_salaries) - 2\n",
        "\n",
        "  # Calculate p-value\n",
        "  p_value = stats.t.sf(abs(t_stat), df) * 2\n",
        "\n",
        "  return t_stat, p_value\n",
        "\n",
        "# Example usage\n",
        "np.random.seed(0)  # For reproducibility\n",
        "\n",
        "male_salaries = np.random.normal(loc=50000, scale=10000, size=20)\n",
        "female_salaries = np.random.normal(loc=55000, scale=9000, size=20)\n",
        "\n",
        "t_stat, p_value = analyze_salary_gap(male_salaries, female_salaries)\n",
        "print(\"t-statistic:\", t_stat)\n",
        "print(\"p-value:\", p_value)"
      ],
      "metadata": {
        "colab": {
          "base_uri": "https://localhost:8080/"
        },
        "id": "3SOSdkhuIIyk",
        "outputId": "4c4cb488-efec-4f5e-82ba-602e15d08122"
      },
      "execution_count": 35,
      "outputs": [
        {
          "output_type": "stream",
          "name": "stdout",
          "text": [
            "t-statistic: -0.06273046042966675\n",
            "p-value: 0.9503099510007179\n"
          ]
        }
      ]
    },
    {
      "cell_type": "markdown",
      "source": [],
      "metadata": {
        "id": "nAe9W179JZxd"
      }
    },
    {
      "cell_type": "markdown",
      "source": [
        "**Question 19.**  A manufacturer produces two different versions of a product and wants to compare their quality scores.\n",
        "\n",
        "Create a Python @unction to analyze quality assessment data, calculate the t-statistic, and decide\n",
        "\n",
        "whether there's a significant difference in quality between the two versions.\n",
        "\n",
        "Use the following data.\n",
        "version1_scores = [85, 88, 82, 89, 87, 84, 90, 88, 85, 86, 91, 83, 87, 84, 89, 86, 84, 88, 85, 86, 89, 90, 87, 88, 85]\n",
        "version2_scores = [80, 78, 83, 81, 79, 82, 76, 80, 78, 81, 77, 82, 80, 79, 82, 79, 80, 81, 79, 82, 79, 78, 80, 81, 82]"
      ],
      "metadata": {
        "id": "iJxEucCkJZYU"
      }
    },
    {
      "cell_type": "code",
      "source": [
        "import scipy.stats as stats\n",
        "\n",
        "def analyze_product_quality(version1_scores, version2_scores):\n",
        "  \"\"\"\n",
        "  Analyzes quality assessment data for two product versions.\n",
        "\n",
        "  Args:\n",
        "    version1_scores: A list of quality scores for version 1.\n",
        "    version2_scores: A list of quality scores for version 2.\n",
        "\n",
        "  Returns:\n",
        "    A tuple containing the t-statistic and p-value.\n",
        "  \"\"\"\n",
        "\n",
        "  # Calculate means and standard deviations\n",
        "  mean_version1 = np.mean(version1_scores)\n",
        "  mean_version2 = np.mean(version2_scores)\n",
        "  std_version1 = np.std(version1_scores)\n",
        "  std_version2 = np.std(version2_scores)\n",
        "\n",
        "  # Calculate pooled standard deviation\n",
        "  pooled_var = ((len(version1_scores) - 1) * std_version1**2 + (len(version2_scores) - 1) * std_version2**2) / (len(version1_scores) + len(version2_scores) - 2)\n",
        "  pooled_std = np.sqrt(pooled_var)\n",
        "\n",
        "  # Calculate t-statistic\n",
        "  t_stat = (mean_version1 - mean_version2) / (pooled_std * np.sqrt(1 / len(version1_scores) + 1 / len(version2_scores)))\n",
        "\n",
        "  # Calculate degrees of freedom\n",
        "  df = len(version1_scores) + len(version2_scores) - 2\n",
        "\n",
        "  # Calculate p-value\n",
        "  p_value = stats.t.sf(abs(t_stat), df) * 2\n",
        "\n",
        "  return t_stat, p_value\n",
        "\n",
        "# Example usage\n",
        "version1_scores = [85, 88, 82, 89, 87, 84, 90, 88, 85, 86, 91, 83, 87, 84, 89, 86, 84, 88, 85, 86, 89, 90, 87, 88, 85]\n",
        "version2_scores = [80, 78, 83, 81, 79, 82, 76, 80, 78, 81, 77, 82, 80, 79, 82, 79, 80, 81, 79, 82, 79, 78, 80, 81, 82]\n",
        "\n",
        "t_stat, p_value = analyze_product_quality(version1_scores, version2_scores)\n",
        "print(\"t-statistic:\", t_stat)\n",
        "print(\"p-value:\", p_value)"
      ],
      "metadata": {
        "colab": {
          "base_uri": "https://localhost:8080/"
        },
        "id": "_IZiD2DtI4Yw",
        "outputId": "d0e405df-c8b2-4484-8fb3-90a5bb40e746"
      },
      "execution_count": 36,
      "outputs": [
        {
          "output_type": "stream",
          "name": "stdout",
          "text": [
            "t-statistic: 11.55937726521971\n",
            "p-value: 1.788722625566452e-15\n"
          ]
        }
      ]
    },
    {
      "cell_type": "markdown",
      "source": [],
      "metadata": {
        "id": "uERUGHjGKJTH"
      }
    },
    {
      "cell_type": "markdown",
      "source": [
        "**Question 20.** A restaurant chain collects customer satisfaction scores for two different branches. Write a program to analyze the scores, calculate the t-statistic, and determine if there's a statistically significant difference in customer satisfaction between the branches.\n",
        "\n",
        "Use the below data of scores:\n",
        "branch_a_scores = [4, 5, 3, 4, 5, 4, 5, 3, 4, 4, 5, 4, 4, 3, 4, 5, 5, 4, 3, 4, 5, 4, 3, 5, 4, 4, 5, 3, 4, 5, 4]\n",
        "\n",
        "branch_b_scores = [3, 4, 2, 3, 4, 3, 4, 2, 3, 3, 4, 3, 3, 2, 3, 4, 4, 3, 2, 3, 4, 3, 2, 4, 3, 3, 4, 2, 3, 4, 3]"
      ],
      "metadata": {
        "id": "R3_kjSJ3KJCT"
      }
    },
    {
      "cell_type": "code",
      "source": [
        "import scipy.stats as stats\n",
        "\n",
        "def analyze_restaurant_satisfaction(branch_a_scores, branch_b_scores):\n",
        "  \"\"\"\n",
        "  Analyzes customer satisfaction scores for two restaurant branches.\n",
        "\n",
        "  Args:\n",
        "    branch_a_scores: A list of satisfaction scores for branch A.\n",
        "    branch_b_scores: A list of satisfaction scores for branch B.\n",
        "\n",
        "  Returns:\n",
        "    A tuple containing the t-statistic and p-value.\n",
        "  \"\"\"\n",
        "\n",
        "  # Calculate means and standard deviations\n",
        "  mean_branch_a = np.mean(branch_a_scores)\n",
        "  mean_branch_b = np.mean(branch_b_scores)\n",
        "  std_branch_a = np.std(branch_a_scores)\n",
        "  std_branch_b = np.std(branch_b_scores)\n",
        "\n",
        "  # Calculate pooled standard deviation\n",
        "  pooled_var = ((len(branch_a_scores) - 1) * std_branch_a**2 + (len(branch_b_scores) - 1) * std_branch_b**2) / (len(branch_a_scores) + len(branch_b_scores) - 2)\n",
        "  pooled_std = np.sqrt(pooled_var)\n",
        "\n",
        "  # Calculate t-statistic\n",
        "  t_stat = (mean_branch_a - mean_branch_b) / (pooled_std * np.sqrt(1 / len(branch_a_scores) + 1 / len(branch_b_scores)))\n",
        "\n",
        "  # Calculate degrees of freedom\n",
        "  df = len(branch_a_scores) + len(branch_b_scores) - 2\n",
        "\n",
        "  # Calculate p-value\n",
        "  p_value = stats.t.sf(abs(t_stat), df) * 2\n",
        "\n",
        "  return t_stat, p_value\n",
        "\n",
        "# Example usage\n",
        "branch_a_scores = [4, 5, 3, 4, 5, 4, 5, 3, 4, 4, 5, 4, 4, 3, 4, 5, 5, 4, 3, 4, 5, 4, 3, 5, 4, 4, 5, 3, 4, 5, 4]\n",
        "branch_b_scores = [3, 4, 2, 3, 4, 3, 4, 2, 3, 3, 4, 3, 3, 2, 3, 4, 4, 3, 2, 3, 4, 3, 2, 4, 3, 3, 4, 2, 3, 4, 3]\n",
        "\n",
        "t_stat, p_value = analyze_restaurant_satisfaction(branch_a_scores, branch_b_scores)\n",
        "print(\"t-statistic:\", t_stat)\n",
        "print(\"p-value:\", p_value)"
      ],
      "metadata": {
        "colab": {
          "base_uri": "https://localhost:8080/"
        },
        "id": "o-IWcn_6JmFy",
        "outputId": "ad1e23fb-14a7-4dda-cee0-e711ca439b76"
      },
      "execution_count": 37,
      "outputs": [
        {
          "output_type": "stream",
          "name": "stdout",
          "text": [
            "t-statistic: 5.57066348531902\n",
            "p-value: 6.32076485132598e-07\n"
          ]
        }
      ]
    },
    {
      "cell_type": "markdown",
      "source": [],
      "metadata": {
        "id": "VUMa6FBkLBPz"
      }
    },
    {
      "cell_type": "markdown",
      "source": [
        "Question 21.  A political analyst wants to determine i@ there is a significant association between age groups and voter preferences Candidate A or Candidate B). They collect data from a sample of 500 voters and classify them into different age groups and candidate preferences. Perform a Chi-Square test to determine if there is a significant association between age groups and voter preferences.\n",
        "\n",
        "Use the below code to generate data:\n",
        "\n",
        "np.random.seed(0)\n",
        "\n",
        "age_groups = np.random.choice([ 18 30 , 31 50 , 51+', 51+'], size=30)\n",
        "\n",
        "voter_preferences = np.random.choice(['Candidate A', 'Candidate B'], size=30)"
      ],
      "metadata": {
        "id": "CL3pkV-pLAmg"
      }
    },
    {
      "cell_type": "code",
      "source": [
        "import numpy as np\n",
        "import pandas as pd\n",
        "from scipy.stats import chi2_contingency\n",
        "\n",
        "# Generate synthetic data with a larger sample size\n",
        "np.random.seed(0)\n",
        "age_groups = np.random.choice([\"18-30\", \"31-50\", \"51+\"], size=500)\n",
        "voter_preferences = np.random.choice([\"Candidate A\", \"Candidate B\"], size=500)\n",
        "\n",
        "# Create a DataFrame\n",
        "data = pd.DataFrame({\"Age Group\": age_groups, \"Voter Preference\": voter_preferences})\n",
        "\n",
        "# Create a contingency table\n",
        "contingency_table = pd.crosstab(data[\"Age Group\"], data[\"Voter Preference\"])\n",
        "\n",
        "# Perform the Chi-Square test\n",
        "chi2_stat, p_value, _, _ = chi2_contingency(contingency_table)\n",
        "\n",
        "# Interpret the results\n",
        "alpha = 0.05\n",
        "if p_value < alpha:\n",
        "    print(\"There is a significant association between age groups and voter preferences.\")\n",
        "else:\n",
        "    print(\"There is no significant association between age groups and voter preferences.\")"
      ],
      "metadata": {
        "colab": {
          "base_uri": "https://localhost:8080/"
        },
        "id": "7_XIWBjAKZ1C",
        "outputId": "ff50ffdd-2021-4d72-c9c2-e596741e9e5f"
      },
      "execution_count": 38,
      "outputs": [
        {
          "output_type": "stream",
          "name": "stdout",
          "text": [
            "There is no significant association between age groups and voter preferences.\n"
          ]
        }
      ]
    },
    {
      "cell_type": "markdown",
      "source": [
        "**Question  22.** A company conducted a customer satisfaction survey to determine if there is a significant relationship between product satisfaction levels (Satisfied, Neutral, Dissatisfied) and the region where customers are located (East, West, North, South). The survey data is summarised in a contingency table. Conduct a ChiSquare test to determine if there is a significant relationship between product satisfaction levels and customer regions.\n",
        "\n",
        "\n",
        "\n",
        "Sample data:\n",
        "\n",
        "Sample data: Product satisfaction levels (rows) vs. Customer regions (columns)\n",
        "\n",
        "data = np.array([[50, 30, 40, 20], [30, 40, 30, 50], [20, 30, 40, 30]])"
      ],
      "metadata": {
        "id": "36WKqecALn-i"
      }
    },
    {
      "cell_type": "code",
      "source": [
        "import numpy as np\n",
        "from scipy.stats import chi2_contingency\n",
        "\n",
        "# Sample data\n",
        "data = np.array([[50, 30, 40, 20], [30, 40, 30, 50], [20, 30, 40, 30]])\n",
        "\n",
        "# Perform the Chi-Square test\n",
        "chi2_stat, p_value, _, _ = chi2_contingency(data)\n",
        "\n",
        "# Interpret the results\n",
        "alpha = 0.05\n",
        "if p_value < alpha:\n",
        "    print(\"There is a significant relationship between product satisfaction levels and customer regions.\")\n",
        "else:\n",
        "    print(\"There is no significant relationship between product satisfaction levels and customer regions.\")"
      ],
      "metadata": {
        "colab": {
          "base_uri": "https://localhost:8080/"
        },
        "id": "8vz-yy8fLM2c",
        "outputId": "f2cc0179-b867-42dd-a7b5-096965d8b9ce"
      },
      "execution_count": 39,
      "outputs": [
        {
          "output_type": "stream",
          "name": "stdout",
          "text": [
            "There is a significant relationship between product satisfaction levels and customer regions.\n"
          ]
        }
      ]
    },
    {
      "cell_type": "markdown",
      "source": [],
      "metadata": {
        "id": "4wt_2PBYMGhy"
      }
    },
    {
      "cell_type": "markdown",
      "source": [
        "**Question 23.** A company implemented an employee training program to improve job performance (Effective, Neutral, Ineffective). After the training, they collected data from a sample of employees and classified them based on their job performance before and after the training. Perform a Chi-Square test to determine if there is a significant difference between job performance levels before and after the training.\n",
        "\n",
        "Sample data:\n",
        "\n",
        "Sample data: Job performance levels before (rows) and after (columns) training\n",
        "\n",
        "data = np.array([[50, 30, 20], [30, 40, 30], [20, 30, 40]])"
      ],
      "metadata": {
        "id": "BhZtOKy4MGDy"
      }
    },
    {
      "cell_type": "code",
      "source": [
        "import numpy as np\n",
        "from scipy.stats import chi2_contingency\n",
        "\n",
        "# Sample data\n",
        "data = np.array([[50, 30, 20], [30, 40, 30], [20, 30, 40]])\n",
        "\n",
        "# Perform the Chi-Square test\n",
        "chi2_stat, p_value, _, _ = chi2_contingency(data)\n",
        "\n",
        "# Interpret the results\n",
        "alpha = 0.05\n",
        "if p_value < alpha:\n",
        "    print(\"There is a significant difference between job performance levels before and after the training.\")\n",
        "else:\n",
        "    print(\"There is no significant difference between job performance levels before and after the training.\")"
      ],
      "metadata": {
        "colab": {
          "base_uri": "https://localhost:8080/"
        },
        "id": "TPfzzRLfL0jf",
        "outputId": "d44db4dd-5644-4be2-a3fe-2057dbb45218"
      },
      "execution_count": 40,
      "outputs": [
        {
          "output_type": "stream",
          "name": "stdout",
          "text": [
            "There is a significant difference between job performance levels before and after the training.\n"
          ]
        }
      ]
    },
    {
      "cell_type": "markdown",
      "source": [],
      "metadata": {
        "id": "wDu8JkcVMj6K"
      }
    },
    {
      "cell_type": "markdown",
      "source": [
        "**Question  24.** A company produces three different versions of a product: Standard, Premium, and Deluxe. The\n",
        "\n",
        "company wants to determine if there is a significant difference in customer satisfaction scores among the\n",
        "\n",
        "three product versions. They conducted a survey and collected customer satisfaction scores for each\n",
        "\n",
        "version from a random sample of customers. Perform an ANOVA test to determine if there is a significant difference in customer satisfaction scores.\n",
        "\n",
        "**  Use the following data:**\n",
        "\n",
        "  Sample data: Customer satisfaction scores for each product version\n",
        "\n",
        "  standard_scores = [80, 85, 90, 78, 88, 82, 92, 78, 85, 87]\n",
        "\n",
        "  premium_scores = [90, 92, 88, 92, 95, 91, 96, 93, 89, 93]\n",
        "\n",
        "  deluxe_scores = [95, 98, 92, 97, 96, 94, 98, 97, 92, 99]"
      ],
      "metadata": {
        "id": "B0CfyfZQMjkf"
      }
    },
    {
      "cell_type": "code",
      "source": [
        "import scipy.stats as stats\n",
        "\n",
        "# Sample data\n",
        "standard_scores = [80, 85, 90, 78, 88, 82, 92, 78, 85, 87]\n",
        "premium_scores = [90, 92, 88, 92, 95, 91, 96, 93, 89, 93]\n",
        "deluxe_scores = [95, 98, 92, 97, 96, 94, 98, 97, 92, 99]\n",
        "\n",
        "# Combine scores into a single array\n",
        "all_scores = np.concatenate([standard_scores, premium_scores, deluxe_scores])\n",
        "\n",
        "# Create a group variable\n",
        "groups = np.repeat(['Standard', 'Premium', 'Deluxe'], repeats=10)\n",
        "\n",
        "# Perform ANOVA\n",
        "f_statistic, p_value = stats.f_oneway(standard_scores, premium_scores, deluxe_scores)\n",
        "\n",
        "# Interpret the results\n",
        "alpha = 0.05\n",
        "if p_value < alpha:\n",
        "    print(\"There is a significant difference in customer satisfaction scores among the three product versions.\")\n",
        "else:\n",
        "    print(\"There is no significant difference in customer satisfaction scores among the three product versions.\")"
      ],
      "metadata": {
        "colab": {
          "base_uri": "https://localhost:8080/"
        },
        "id": "WIPg4IJ6MPus",
        "outputId": "b12bc631-a8e0-4313-e1eb-86640cd29a87"
      },
      "execution_count": 41,
      "outputs": [
        {
          "output_type": "stream",
          "name": "stdout",
          "text": [
            "There is a significant difference in customer satisfaction scores among the three product versions.\n"
          ]
        }
      ]
    },
    {
      "cell_type": "code",
      "source": [],
      "metadata": {
        "id": "HuI9DkP1Mw0n"
      },
      "execution_count": null,
      "outputs": []
    }
  ]
}