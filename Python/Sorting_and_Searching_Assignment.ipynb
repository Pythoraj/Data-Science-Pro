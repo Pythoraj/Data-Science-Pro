{
  "nbformat": 4,
  "nbformat_minor": 0,
  "metadata": {
    "colab": {
      "provenance": []
    },
    "kernelspec": {
      "name": "python3",
      "display_name": "Python 3"
    },
    "language_info": {
      "name": "python"
    }
  },
  "cells": [
    {
      "cell_type": "markdown",
      "source": [
        "Problem 1 :\n",
        "\n",
        "Intersection of Two Sorted Arrays\n",
        "Write a Python program to find the intersection of two sorted arrays.\n",
        "\n",
        "Input:\n",
        "A = [1, 3, 5, 7, 9]\n",
        "B = [2, 4, 5, 8]\n",
        "\n",
        "Output:\n",
        "Intersection: [5]"
      ],
      "metadata": {
        "id": "r3ABP7KSagYZ"
      }
    },
    {
      "cell_type": "code",
      "execution_count": 1,
      "metadata": {
        "colab": {
          "base_uri": "https://localhost:8080/"
        },
        "id": "gqAvhtTVZ7yI",
        "outputId": "35e9d4a4-3c9c-4077-e431-3216d7be91ea"
      },
      "outputs": [
        {
          "output_type": "stream",
          "name": "stdout",
          "text": [
            "Intersection: [5]\n"
          ]
        }
      ],
      "source": [
        "def find_intersection(A, B):\n",
        "    # Initialize pointers for both arrays\n",
        "    i, j = 0, 0\n",
        "    intersection = []\n",
        "\n",
        "    # Traverse both arrays using two pointers\n",
        "    while i < len(A) and j < len(B):\n",
        "        if A[i] == B[j]:\n",
        "            intersection.append(A[i])\n",
        "            i += 1\n",
        "            j += 1\n",
        "        elif A[i] < B[j]:\n",
        "            i += 1\n",
        "        else:\n",
        "            j += 1\n",
        "\n",
        "    return intersection\n",
        "\n",
        "# Input arrays\n",
        "A = [1, 3, 5, 7, 9]\n",
        "B = [2, 4, 5, 8]\n",
        "\n",
        "# Find intersection\n",
        "result = find_intersection(A, B)\n",
        "print(\"Intersection:\", result)\n"
      ]
    },
    {
      "cell_type": "markdown",
      "source": [
        "Problem 2 :\n",
        "\n",
        "Find the Kth Smallest Element\n",
        "Write a Python function to find the kth smallest element in an unsorted list.\n",
        "\n",
        "Input:\n",
        "[12, 3, 1, 7, 8, 20], k = 3\n",
        "\n",
        "Output:\n",
        "The 3rd smallest element is 7"
      ],
      "metadata": {
        "id": "MvFGPGyza8BR"
      }
    },
    {
      "cell_type": "code",
      "source": [
        "def find_kth_smallest(arr, k):\n",
        "    # Sort the array\n",
        "    arr_sorted = sorted(arr)\n",
        "\n",
        "    # Return the k-1th element (since list indices are 0-based)\n",
        "    return arr_sorted[k - 1]\n",
        "\n",
        "# Input array and k\n",
        "arr = [12, 3, 1, 7, 8, 20]\n",
        "k = 3\n",
        "\n",
        "# Find the kth smallest element\n",
        "result = find_kth_smallest(arr, k)\n",
        "print(f\"The {k}rd smallest element is {result}\")\n"
      ],
      "metadata": {
        "colab": {
          "base_uri": "https://localhost:8080/"
        },
        "id": "8985NZ8Va0Qa",
        "outputId": "e85c6740-3667-40ca-cfbe-32befa5d063a"
      },
      "execution_count": 2,
      "outputs": [
        {
          "output_type": "stream",
          "name": "stdout",
          "text": [
            "The 3rd smallest element is 7\n"
          ]
        }
      ]
    },
    {
      "cell_type": "markdown",
      "source": [
        "Problem 3 :\n",
        "\n",
        "Binary Search in a Rotated Sorted Array\n",
        "Implement a Python program to perform a binary search on a rotated sorted array.\n",
        "\n",
        "Input:\n",
        "[4, 5, 6, 7, 8, 9, 1, 2, 3], 6\n",
        "\n",
        "Output:\n",
        "Element 6 found at index 2"
      ],
      "metadata": {
        "id": "XhiCEF6NbKFi"
      }
    },
    {
      "cell_type": "code",
      "source": [
        "def binary_search_rotated(arr, target):\n",
        "    low, high = 0, len(arr) - 1\n",
        "\n",
        "    while low <= high:\n",
        "        mid = (low + high) // 2\n",
        "\n",
        "        # If the target is found at mid\n",
        "        if arr[mid] == target:\n",
        "            return mid\n",
        "\n",
        "        # Check if the left half is sorted\n",
        "        if arr[low] <= arr[mid]:\n",
        "            # Check if the target lies in the left half\n",
        "            if arr[low] <= target < arr[mid]:\n",
        "                high = mid - 1\n",
        "            else:\n",
        "                low = mid + 1\n",
        "        # Right half must be sorted\n",
        "        else:\n",
        "            # Check if the target lies in the right half\n",
        "            if arr[mid] < target <= arr[high]:\n",
        "                low = mid + 1\n",
        "            else:\n",
        "                high = mid - 1\n",
        "\n",
        "    # If the element is not found\n",
        "    return -1\n",
        "\n",
        "# Input array and target element\n",
        "arr = [4, 5, 6, 7, 8, 9, 1, 2, 3]\n",
        "target = 6\n",
        "\n",
        "# Perform binary search\n",
        "result = binary_search_rotated(arr, target)\n",
        "\n",
        "if result != -1:\n",
        "    print(f\"Element {target} found at index {result}\")\n",
        "else:\n",
        "    print(f\"Element {target} not found in the array\")\n"
      ],
      "metadata": {
        "colab": {
          "base_uri": "https://localhost:8080/"
        },
        "id": "GvCEGHGAbDqv",
        "outputId": "3f85e38c-2892-431c-82f3-e9377c46de1a"
      },
      "execution_count": 3,
      "outputs": [
        {
          "output_type": "stream",
          "name": "stdout",
          "text": [
            "Element 6 found at index 2\n"
          ]
        }
      ]
    },
    {
      "cell_type": "markdown",
      "source": [
        "Problem 4 :\n",
        "\n",
        "Searching in a Matrix\n",
        "Write a Python program that searches for a given element in a 2D matrix and returns its position.\n",
        "\n",
        "Input:\n",
        "Matrix = [\n",
        "[1, 3, 5],\n",
        "[7, 9, 11],\n",
        "[13, 15, 17]\n",
        "]\n",
        "Element = 11\n",
        "Output:\n",
        "Element 11 found at position (1, 2)"
      ],
      "metadata": {
        "id": "H32I5MmSboh-"
      }
    },
    {
      "cell_type": "code",
      "source": [
        "def search_matrix(matrix, element):\n",
        "    # Traverse through the rows\n",
        "    for i in range(len(matrix)):\n",
        "        # Traverse through each element in the row\n",
        "        for j in range(len(matrix[i])):\n",
        "            if matrix[i][j] == element:\n",
        "                return (i, j)  # Return the position (row, column)\n",
        "\n",
        "    return None  # Return None if the element is not found\n",
        "\n",
        "# Input matrix and element to search\n",
        "matrix = [\n",
        "    [1, 3, 5],\n",
        "    [7, 9, 11],\n",
        "    [13, 15, 17]\n",
        "]\n",
        "element = 11\n",
        "\n",
        "# Search for the element in the matrix\n",
        "result = search_matrix(matrix, element)\n",
        "\n",
        "if result:\n",
        "    print(f\"Element {element} found at position {result}\")\n",
        "else:\n",
        "    print(f\"Element {element} not found in the matrix\")\n"
      ],
      "metadata": {
        "colab": {
          "base_uri": "https://localhost:8080/"
        },
        "id": "opsqsyxUbUjQ",
        "outputId": "3adc407e-4b51-42cf-f3b3-5d45122909c4"
      },
      "execution_count": 4,
      "outputs": [
        {
          "output_type": "stream",
          "name": "stdout",
          "text": [
            "Element 11 found at position (1, 2)\n"
          ]
        }
      ]
    },
    {
      "cell_type": "markdown",
      "source": [
        "Problem 5 :\n",
        "\n",
        "Sorting Strings by Length\n",
        "Write a Python program that takes a list of strings and sorts them based on their length.\n",
        "\n",
        "Input:\n",
        "['apple', 'banana', 'kiwi', 'orange', 'grape']\n",
        "\n",
        "Output:\n",
        "['kiwi', 'grape', 'apple', 'banana', 'orange']"
      ],
      "metadata": {
        "id": "R8_v2NVSb8Nd"
      }
    },
    {
      "cell_type": "code",
      "source": [
        "def sort_strings_by_length(strings):\n",
        "    # Sort the strings based on their length using the key parameter\n",
        "    return sorted(strings, key=len)\n",
        "\n",
        "# Input list of strings\n",
        "strings = ['apple', 'banana', 'kiwi', 'orange', 'grape']\n",
        "\n",
        "# Sort the strings by length\n",
        "sorted_strings = sort_strings_by_length(strings)\n",
        "\n",
        "# Output the result\n",
        "print(sorted_strings)\n"
      ],
      "metadata": {
        "colab": {
          "base_uri": "https://localhost:8080/"
        },
        "id": "nYjjhu3Yb0ry",
        "outputId": "1b21d891-5569-4c6b-82ee-bdf50ec4561f"
      },
      "execution_count": 5,
      "outputs": [
        {
          "output_type": "stream",
          "name": "stdout",
          "text": [
            "['kiwi', 'apple', 'grape', 'banana', 'orange']\n"
          ]
        }
      ]
    },
    {
      "cell_type": "markdown",
      "source": [
        "Problem 6 :\n",
        "Implementing the merge sort ( Will be discussed in the class )"
      ],
      "metadata": {
        "id": "I7_W8jzlcN6Q"
      }
    },
    {
      "cell_type": "code",
      "source": [
        "def merge_sort(arr):\n",
        "    if len(arr) > 1:\n",
        "        # Find the middle point and divide the array into two halves\n",
        "        mid = len(arr) // 2\n",
        "        left_half = arr[:mid]\n",
        "        right_half = arr[mid:]\n",
        "\n",
        "        # Recursively sort both halves\n",
        "        merge_sort(left_half)\n",
        "        merge_sort(right_half)\n",
        "\n",
        "        # Merge the sorted halves\n",
        "        i = j = k = 0\n",
        "\n",
        "        # Copy data to temporary arrays left_half[] and right_half[]\n",
        "        while i < len(left_half) and j < len(right_half):\n",
        "            if left_half[i] < right_half[j]:\n",
        "                arr[k] = left_half[i]\n",
        "                i += 1\n",
        "            else:\n",
        "                arr[k] = right_half[j]\n",
        "                j += 1\n",
        "            k += 1\n",
        "\n",
        "        # Check if any element was left in left_half\n",
        "        while i < len(left_half):\n",
        "            arr[k] = left_half[i]\n",
        "            i += 1\n",
        "            k += 1\n",
        "\n",
        "        # Check if any element was left in right_half\n",
        "        while j < len(right_half):\n",
        "            arr[k] = right_half[j]\n",
        "            j += 1\n",
        "            k += 1\n",
        "\n",
        "# Input array\n",
        "arr = [38, 27, 43, 3, 9, 82, 10]\n",
        "\n",
        "# Call merge_sort function\n",
        "merge_sort(arr)\n",
        "\n",
        "# Output the sorted array\n",
        "print(\"Sorted array is:\", arr)\n"
      ],
      "metadata": {
        "colab": {
          "base_uri": "https://localhost:8080/"
        },
        "id": "FhdgupqfcIut",
        "outputId": "462df5a3-0cf2-416c-dbc8-0618ad863d5b"
      },
      "execution_count": 6,
      "outputs": [
        {
          "output_type": "stream",
          "name": "stdout",
          "text": [
            "Sorted array is: [3, 9, 10, 27, 38, 43, 82]\n"
          ]
        }
      ]
    },
    {
      "cell_type": "markdown",
      "source": [
        "Problem 7 :\n",
        "Implementing the quick sort."
      ],
      "metadata": {
        "id": "LjPxmDRucqF9"
      }
    },
    {
      "cell_type": "code",
      "source": [
        "def quick_sort(arr):\n",
        "    if len(arr) <= 1:\n",
        "        return arr\n",
        "    else:\n",
        "        # Select a pivot (here, we choose the last element)\n",
        "        pivot = arr[-1]\n",
        "        left = [x for x in arr[:-1] if x <= pivot]  # Elements smaller or equal to pivot\n",
        "        right = [x for x in arr[:-1] if x > pivot]  # Elements greater than pivot\n",
        "\n",
        "        # Recursively sort the left and right subarrays, then combine them with the pivot\n",
        "        return quick_sort(left) + [pivot] + quick_sort(right)\n",
        "\n",
        "# Input array\n",
        "arr = [38, 27, 43, 3, 9, 82, 10]\n",
        "\n",
        "# Call quick_sort function\n",
        "sorted_arr = quick_sort(arr)\n",
        "\n",
        "# Output the sorted array\n",
        "print(\"Sorted array is:\", sorted_arr)\n"
      ],
      "metadata": {
        "colab": {
          "base_uri": "https://localhost:8080/"
        },
        "id": "lk5s4qT1cXv8",
        "outputId": "11d82ef9-630c-4a44-fed8-d7dd3704ae67"
      },
      "execution_count": 7,
      "outputs": [
        {
          "output_type": "stream",
          "name": "stdout",
          "text": [
            "Sorted array is: [3, 9, 10, 27, 38, 43, 82]\n"
          ]
        }
      ]
    },
    {
      "cell_type": "markdown",
      "source": [
        "Problem 8 :\n",
        "Implementing the count sort."
      ],
      "metadata": {
        "id": "gx046g5xddEJ"
      }
    },
    {
      "cell_type": "code",
      "source": [
        "def counting_sort(arr):\n",
        "    # Find the maximum element in the array to determine the range of counts\n",
        "    max_val = max(arr)\n",
        "\n",
        "    # Initialize a count array of size (max_val + 1) with all values set to 0\n",
        "    count = [0] * (max_val + 1)\n",
        "\n",
        "    # Count occurrences of each element in the input array\n",
        "    for num in arr:\n",
        "        count[num] += 1\n",
        "\n",
        "    # Modify the count array to store cumulative counts\n",
        "    for i in range(1, len(count)):\n",
        "        count[i] += count[i - 1]\n",
        "\n",
        "    # Create an output array to store the sorted elements\n",
        "    output = [0] * len(arr)\n",
        "\n",
        "    # Build the output array by placing elements in their correct positions\n",
        "    for num in arr:\n",
        "        output[count[num] - 1] = num\n",
        "        count[num] -= 1\n",
        "\n",
        "    # Copy the sorted elements back to the original array\n",
        "    for i in range(len(arr)):\n",
        "        arr[i] = output[i]\n",
        "\n",
        "# Input array\n",
        "arr = [4, 2, 2, 8, 3, 3, 1]\n",
        "\n",
        "# Call counting_sort function\n",
        "counting_sort(arr)\n",
        "\n",
        "# Output the sorted array\n",
        "print(\"Sorted array is:\", arr)\n"
      ],
      "metadata": {
        "colab": {
          "base_uri": "https://localhost:8080/"
        },
        "id": "y4EYU8RxdV3Z",
        "outputId": "4ca9373d-1455-42c6-acc7-695e132b76b0"
      },
      "execution_count": 8,
      "outputs": [
        {
          "output_type": "stream",
          "name": "stdout",
          "text": [
            "Sorted array is: [1, 2, 2, 3, 3, 4, 8]\n"
          ]
        }
      ]
    },
    {
      "cell_type": "markdown",
      "source": [
        "Problem 9 :\n",
        "\n",
        "Implement a Python function to find a peak element in an array. A peak element is an element that is greater\n",
        "than or equal to its neighbors.\n",
        "\n",
        "Input:\n",
        "[1, 3, 20, 4, 1, 0]\n",
        "Output:\n",
        "Peak element is 20\n",
        "\n",
        "Problem 10 :"
      ],
      "metadata": {
        "id": "VLhAcBDAeGuX"
      }
    },
    {
      "cell_type": "code",
      "source": [
        "def find_peak_element(arr):\n",
        "    n = len(arr)\n",
        "\n",
        "    # Check if the array has only one element\n",
        "    if n == 1:\n",
        "        return arr[0]\n",
        "\n",
        "    # Check for peak element at the first or last index\n",
        "    if arr[0] >= arr[1]:\n",
        "        return arr[0]\n",
        "    if arr[n - 1] >= arr[n - 2]:\n",
        "        return arr[n - 1]\n",
        "\n",
        "    # Check for peak element in the middle of the array\n",
        "    for i in range(1, n - 1):\n",
        "        if arr[i] >= arr[i - 1] and arr[i] >= arr[i + 1]:\n",
        "            return arr[i]\n",
        "\n",
        "    return None  # This line is not required but added for completeness\n",
        "\n",
        "# Input array\n",
        "arr = [1, 3, 20, 4, 1, 0]\n",
        "\n",
        "# Find the peak element\n",
        "peak_element = find_peak_element(arr)\n",
        "\n",
        "# Output the result\n",
        "print(f\"Peak element is {peak_element}\")\n"
      ],
      "metadata": {
        "colab": {
          "base_uri": "https://localhost:8080/"
        },
        "id": "eF4F7c_4d87X",
        "outputId": "a68d75b2-ce98-44dd-e3f8-7ea99ad71892"
      },
      "execution_count": 10,
      "outputs": [
        {
          "output_type": "stream",
          "name": "stdout",
          "text": [
            "Peak element is 20\n"
          ]
        }
      ]
    },
    {
      "cell_type": "markdown",
      "source": [
        "Problem 10 :\n",
        "\n",
        "Search in a Nearly Sorted Array\n",
        "Implement a Python program to perform a binary search in a nearly sorted array. In a nearly sorted array, each\n",
        "element is at most k positions away from its sorted position.\n",
        "\n",
        "Input:\n",
        "[2, 1, 3, 4, 6, 5, 7], k = 1\n",
        "Output:\n",
        "Element 5 found at index 4"
      ],
      "metadata": {
        "id": "AjThoUDxexJX"
      }
    },
    {
      "cell_type": "code",
      "source": [
        "def search_nearly_sorted(arr, k, target):\n",
        "    n = len(arr)\n",
        "\n",
        "    # Function to perform binary search in the nearly sorted array\n",
        "    def binary_search_nearly_sorted(arr, k, target, low, high):\n",
        "        if low > high:\n",
        "            return -1\n",
        "\n",
        "        # Find the middle index\n",
        "        mid = (low + high) // 2\n",
        "\n",
        "        # Check if the middle element is the target\n",
        "        if arr[mid] == target:\n",
        "            return mid\n",
        "\n",
        "        # Check elements around the mid index within k positions\n",
        "        # Search left of mid\n",
        "        left_index = max(mid - k, low)\n",
        "        if left_index < mid and arr[left_index] == target:\n",
        "            return left_index\n",
        "\n",
        "        # Search right of mid\n",
        "        right_index = min(mid + k, high)\n",
        "        if right_index > mid and arr[right_index] == target:\n",
        "            return right_index\n",
        "\n",
        "        # Recursively search in the reduced range\n",
        "        if target < arr[mid]:\n",
        "            return binary_search_nearly_sorted(arr, k, target, low, mid - 1)\n",
        "        else:\n",
        "            return binary_search_nearly_sorted(arr, k, target, mid + 1, high)\n",
        "\n",
        "    # Call the helper function with initial range\n",
        "    return binary_search_nearly_sorted(arr, k, target, 0, n - 1)\n",
        "\n",
        "# Input array and target element\n",
        "arr = [2, 1, 3, 4, 6, 5, 7]\n",
        "k = 1\n",
        "target = 5\n",
        "\n",
        "# Find the index of the target element\n",
        "index = search_nearly_sorted(arr, k, target)\n",
        "\n",
        "if index != -1:\n",
        "    print(f\"Element {target} found at index {index}\")\n",
        "else:\n",
        "    print(f\"Element {target} not found in the array\")\n"
      ],
      "metadata": {
        "colab": {
          "base_uri": "https://localhost:8080/"
        },
        "id": "4BWm3-tJeWl3",
        "outputId": "0496485b-c8f8-4872-a78b-ff508174166f"
      },
      "execution_count": 11,
      "outputs": [
        {
          "output_type": "stream",
          "name": "stdout",
          "text": [
            "Element 5 found at index 5\n"
          ]
        }
      ]
    },
    {
      "cell_type": "code",
      "source": [],
      "metadata": {
        "id": "wZmPWJBwe4ZI"
      },
      "execution_count": null,
      "outputs": []
    }
  ]
}