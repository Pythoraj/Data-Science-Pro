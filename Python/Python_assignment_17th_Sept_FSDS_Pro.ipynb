{
  "nbformat": 4,
  "nbformat_minor": 0,
  "metadata": {
    "colab": {
      "provenance": []
    },
    "kernelspec": {
      "name": "python3",
      "display_name": "Python 3"
    },
    "language_info": {
      "name": "python"
    }
  },
  "cells": [
    {
      "cell_type": "markdown",
      "source": [
        "**For Loop :**"
      ],
      "metadata": {
        "id": "rm0_quoB1oWY"
      }
    },
    {
      "cell_type": "markdown",
      "source": [
        "1. Write a Python program to print numbers from 1 to 10 using a for loop."
      ],
      "metadata": {
        "id": "ERZsbP0u1ro4"
      }
    },
    {
      "cell_type": "code",
      "execution_count": null,
      "metadata": {
        "colab": {
          "base_uri": "https://localhost:8080/"
        },
        "id": "eJsX1ygH0ScN",
        "outputId": "0da296c8-9e74-4b65-cc40-00f856d78ec3"
      },
      "outputs": [
        {
          "output_type": "stream",
          "name": "stdout",
          "text": [
            "1\n",
            "2\n",
            "3\n",
            "4\n",
            "5\n",
            "6\n",
            "7\n",
            "8\n",
            "9\n",
            "10\n"
          ]
        }
      ],
      "source": [
        "for i in range(1, 11):\n",
        "    print(i)"
      ]
    },
    {
      "cell_type": "markdown",
      "source": [
        "2. Explain the difference between a for loop and a while loop in Python."
      ],
      "metadata": {
        "id": "Qu8bejU-11tq"
      }
    },
    {
      "cell_type": "code",
      "source": [
        "fruits = ['apple', 'banana', 'cherry']\n",
        "for fruit in fruits:\n",
        "    print(fruit)"
      ],
      "metadata": {
        "colab": {
          "base_uri": "https://localhost:8080/"
        },
        "id": "IAyQbrgE1zFX",
        "outputId": "9789d10d-4dee-437d-bd53-f07faf4659a2"
      },
      "execution_count": null,
      "outputs": [
        {
          "output_type": "stream",
          "name": "stdout",
          "text": [
            "apple\n",
            "banana\n",
            "cherry\n"
          ]
        }
      ]
    },
    {
      "cell_type": "markdown",
      "source": [
        "3. Write a Python program to calculate the sum of all numbers from 1 to 100 using a for loop."
      ],
      "metadata": {
        "id": "uNwFvv1-2ObP"
      }
    },
    {
      "cell_type": "code",
      "source": [
        "sum = 0\n",
        "for i in range(1, 101):\n",
        "    sum += i\n",
        "print(\"The sum of numbers from 1 to 100 is:\", sum)"
      ],
      "metadata": {
        "colab": {
          "base_uri": "https://localhost:8080/"
        },
        "id": "aibjkFku2KEB",
        "outputId": "1e4aedf4-5a4d-46b1-e341-98bef8a26ad0"
      },
      "execution_count": null,
      "outputs": [
        {
          "output_type": "stream",
          "name": "stdout",
          "text": [
            "The sum of numbers from 1 to 100 is: 5050\n"
          ]
        }
      ]
    },
    {
      "cell_type": "markdown",
      "source": [
        "4. How do you iterate through a list using a for loop in Python?"
      ],
      "metadata": {
        "id": "5up0VzBP2W9U"
      }
    },
    {
      "cell_type": "code",
      "source": [
        "my_list = [1, 2, 3, 4, 5]\n",
        "for element in my_list:\n",
        "    print(element)"
      ],
      "metadata": {
        "colab": {
          "base_uri": "https://localhost:8080/"
        },
        "id": "NLw9Jnz12RuY",
        "outputId": "1bf34c0b-5921-4f54-ce8b-17f3e3a20e56"
      },
      "execution_count": null,
      "outputs": [
        {
          "output_type": "stream",
          "name": "stdout",
          "text": [
            "1\n",
            "2\n",
            "3\n",
            "4\n",
            "5\n"
          ]
        }
      ]
    },
    {
      "cell_type": "markdown",
      "source": [
        "5. Write a Python program to find the product of all elements in a list using a for loop."
      ],
      "metadata": {
        "id": "RRFqrwpH2hXC"
      }
    },
    {
      "cell_type": "code",
      "source": [
        "def product_of_list_elements(my_list):\n",
        "    product = 1\n",
        "    for element in my_list:\n",
        "        product *= element\n",
        "    return product\n",
        "\n",
        "my_list = [1, 2, 3, 4, 5]\n",
        "result = product_of_list_elements(my_list)\n",
        "print(\"The product of elements in the list is:\", result)"
      ],
      "metadata": {
        "colab": {
          "base_uri": "https://localhost:8080/"
        },
        "id": "6ugIRVfw2jgt",
        "outputId": "ccba8bc2-61c3-4b21-d49c-a6affeac039c"
      },
      "execution_count": null,
      "outputs": [
        {
          "output_type": "stream",
          "name": "stdout",
          "text": [
            "The product of elements in the list is: 120\n"
          ]
        }
      ]
    },
    {
      "cell_type": "markdown",
      "source": [
        "6. Create a Python program that prints all even numbers from 1 to 20 using a for loop."
      ],
      "metadata": {
        "id": "0kdEfwER2w7K"
      }
    },
    {
      "cell_type": "code",
      "source": [
        "for number in range(1, 21):\n",
        "    if number % 2 == 0:\n",
        "        print(number)"
      ],
      "metadata": {
        "colab": {
          "base_uri": "https://localhost:8080/"
        },
        "id": "mb_DZWAh2v2B",
        "outputId": "d8fa5d2a-1107-47fb-a26a-8621e57ac7c1"
      },
      "execution_count": null,
      "outputs": [
        {
          "output_type": "stream",
          "name": "stdout",
          "text": [
            "2\n",
            "4\n",
            "6\n",
            "8\n",
            "10\n",
            "12\n",
            "14\n",
            "16\n",
            "18\n",
            "20\n"
          ]
        }
      ]
    },
    {
      "cell_type": "markdown",
      "source": [
        "7. Write a Python program that calculates the factorial of a number using a for loop."
      ],
      "metadata": {
        "id": "7mTHDNl226Ps"
      }
    },
    {
      "cell_type": "code",
      "source": [
        "def factorial(n):\n",
        "    result = 1\n",
        "    for i in range(1, n + 1):\n",
        "        result *= i\n",
        "    return result\n",
        "\n",
        "num = 5\n",
        "result = factorial(num)\n",
        "print(\"The factorial of\", num, \"is:\", result)"
      ],
      "metadata": {
        "colab": {
          "base_uri": "https://localhost:8080/"
        },
        "id": "AhL7_pR821f4",
        "outputId": "5fbbbc97-1cf7-41ca-f27f-7490633a999f"
      },
      "execution_count": null,
      "outputs": [
        {
          "output_type": "stream",
          "name": "stdout",
          "text": [
            "The factorial of 5 is: 120\n"
          ]
        }
      ]
    },
    {
      "cell_type": "markdown",
      "source": [
        "8. How can you iterate through the characters of a string using a for loop in Python?"
      ],
      "metadata": {
        "id": "OMNAiNeO3Bgr"
      }
    },
    {
      "cell_type": "code",
      "source": [
        "my_string = \"Hello, World!\"\n",
        "for char in my_string:\n",
        "    print(char)"
      ],
      "metadata": {
        "colab": {
          "base_uri": "https://localhost:8080/"
        },
        "id": "q0c4yCGb29oX",
        "outputId": "afd171da-6635-4a9f-a81a-f433799cdcaf"
      },
      "execution_count": null,
      "outputs": [
        {
          "output_type": "stream",
          "name": "stdout",
          "text": [
            "H\n",
            "e\n",
            "l\n",
            "l\n",
            "o\n",
            ",\n",
            " \n",
            "W\n",
            "o\n",
            "r\n",
            "l\n",
            "d\n",
            "!\n"
          ]
        }
      ]
    },
    {
      "cell_type": "markdown",
      "source": [
        "9. Write a Python program to find the largest number in a list using a for loop."
      ],
      "metadata": {
        "id": "5znoC2it3LTY"
      }
    },
    {
      "cell_type": "code",
      "source": [
        "def find_largest(numbers):\n",
        "    largest = numbers[0]\n",
        "    for num in numbers:\n",
        "        if num > largest:\n",
        "            largest = num\n",
        "    return largest\n",
        "\n",
        "my_list = [4, 2, 9, 6, 5, 1, 8, 3, 7]\n",
        "largest_num = find_largest(my_list)\n",
        "print(\"The largest number in the list is:\", largest_num)"
      ],
      "metadata": {
        "colab": {
          "base_uri": "https://localhost:8080/"
        },
        "id": "E6VdZum73GUh",
        "outputId": "40d87c33-be1f-423e-ca09-15ba3d145f2b"
      },
      "execution_count": null,
      "outputs": [
        {
          "output_type": "stream",
          "name": "stdout",
          "text": [
            "The largest number in the list is: 9\n"
          ]
        }
      ]
    },
    {
      "cell_type": "markdown",
      "source": [
        "10. Create a Python program that prints the Fibonacci sequence up to a specified limit using a for loop."
      ],
      "metadata": {
        "id": "0IzbdBgD3R1x"
      }
    },
    {
      "cell_type": "code",
      "source": [
        "def print_fibonacci(limit):\n",
        "    a, b = 0, 1\n",
        "    for i in range(limit):\n",
        "        print(a, end=' ')\n",
        "        a, b = b, a + b\n",
        "    print()\n",
        "\n",
        "limit = 10\n",
        "print(\"The Fibonacci sequence up to\", limit, \"is:\")\n",
        "print_fibonacci(limit)"
      ],
      "metadata": {
        "colab": {
          "base_uri": "https://localhost:8080/"
        },
        "id": "6rXNjErf3Oed",
        "outputId": "1fcdaa78-c90a-442e-e345-64e8276a4f7a"
      },
      "execution_count": null,
      "outputs": [
        {
          "output_type": "stream",
          "name": "stdout",
          "text": [
            "The Fibonacci sequence up to 10 is:\n",
            "0 1 1 2 3 5 8 13 21 34 \n"
          ]
        }
      ]
    },
    {
      "cell_type": "markdown",
      "source": [
        "11. Write a Python program to count the number of vowels in a given string using a for loop."
      ],
      "metadata": {
        "id": "wVTz7qX23Yp5"
      }
    },
    {
      "cell_type": "code",
      "source": [
        "def count_vowels(s):\n",
        "    vowels = 'aeiouAEIOU'\n",
        "    count = 0\n",
        "    for char in s:\n",
        "        if char in vowels:\n",
        "            count += 1\n",
        "    return count\n",
        "\n",
        "my_string = \"Hello, World!\"\n",
        "num_vowels = count_vowels(my_string)\n",
        "print(\"The number of vowels in the string is:\", num_vowels)"
      ],
      "metadata": {
        "colab": {
          "base_uri": "https://localhost:8080/"
        },
        "id": "aOuR-z0f3UVS",
        "outputId": "46eae7a2-a22d-4bdd-ab11-699105f1bc74"
      },
      "execution_count": null,
      "outputs": [
        {
          "output_type": "stream",
          "name": "stdout",
          "text": [
            "The number of vowels in the string is: 3\n"
          ]
        }
      ]
    },
    {
      "cell_type": "markdown",
      "source": [
        "12. Create a Python program that generates a multiplication table for a given number using a for loop."
      ],
      "metadata": {
        "id": "ZvDJKSgf3eUe"
      }
    },
    {
      "cell_type": "code",
      "source": [
        "def print_multiplication_table(n):\n",
        "    for i in range(1, 11):\n",
        "        print(f\"{n} x {i} = {n * i}\")\n",
        "\n",
        "num = 5\n",
        "print(\"Multiplication table for\", num, \":\")\n",
        "print_multiplication_table(num)"
      ],
      "metadata": {
        "colab": {
          "base_uri": "https://localhost:8080/"
        },
        "id": "xYA_qT_V3bAD",
        "outputId": "15d5adcc-32f7-4506-9eca-5e14c3661bc6"
      },
      "execution_count": null,
      "outputs": [
        {
          "output_type": "stream",
          "name": "stdout",
          "text": [
            "Multiplication table for 5 :\n",
            "5 x 1 = 5\n",
            "5 x 2 = 10\n",
            "5 x 3 = 15\n",
            "5 x 4 = 20\n",
            "5 x 5 = 25\n",
            "5 x 6 = 30\n",
            "5 x 7 = 35\n",
            "5 x 8 = 40\n",
            "5 x 9 = 45\n",
            "5 x 10 = 50\n"
          ]
        }
      ]
    },
    {
      "cell_type": "markdown",
      "source": [
        "13. Write a Python program to reverse a list using a for loop."
      ],
      "metadata": {
        "id": "-kTY8UIj3mhI"
      }
    },
    {
      "cell_type": "code",
      "source": [
        "def reverse_list(lst):\n",
        "    reversed_lst = []\n",
        "    for i in range(len(lst) - 1, -1, -1):\n",
        "        reversed_lst.append(lst[i])\n",
        "    return reversed_lst\n",
        "\n",
        "my_list = [1, 2, 3, 4, 5]\n",
        "reversed_list = reverse_list(my_list)\n",
        "print(\"Original list:\", my_list)\n",
        "print(\"Reversed list:\", reversed_list)"
      ],
      "metadata": {
        "colab": {
          "base_uri": "https://localhost:8080/"
        },
        "id": "qkynk7kE3jE4",
        "outputId": "e34877c4-99ab-412f-d982-47cd6a4bc56f"
      },
      "execution_count": null,
      "outputs": [
        {
          "output_type": "stream",
          "name": "stdout",
          "text": [
            "Original list: [1, 2, 3, 4, 5]\n",
            "Reversed list: [5, 4, 3, 2, 1]\n"
          ]
        }
      ]
    },
    {
      "cell_type": "markdown",
      "source": [
        "14. Write a Python program to find the common elements between two lists using a for loop."
      ],
      "metadata": {
        "id": "l277mtjy3xOj"
      }
    },
    {
      "cell_type": "code",
      "source": [
        "def find_common_elements(list1, list2):\n",
        "    common_elements = []\n",
        "    for element in list1:\n",
        "        if element in list2:\n",
        "            common_elements.append(element)\n",
        "    return common_elements\n",
        "\n",
        "list1 = [1, 2, 3, 4, 5]\n",
        "list2 = [4, 5, 6, 7, 8]\n",
        "common = find_common_elements(list1, list2)\n",
        "print(\"List 1:\", list1)\n",
        "print(\"List 2:\", list2)\n",
        "print(\"Common elements:\", common)"
      ],
      "metadata": {
        "colab": {
          "base_uri": "https://localhost:8080/"
        },
        "id": "Ed23fXnb3qzR",
        "outputId": "3504be3d-724f-4a15-e539-a3f3d96d3923"
      },
      "execution_count": null,
      "outputs": [
        {
          "output_type": "stream",
          "name": "stdout",
          "text": [
            "List 1: [1, 2, 3, 4, 5]\n",
            "List 2: [4, 5, 6, 7, 8]\n",
            "Common elements: [4, 5]\n"
          ]
        }
      ]
    },
    {
      "cell_type": "markdown",
      "source": [
        "15. Explain how to use a for loop to iterate through the keys and values of a dictionary in Python."
      ],
      "metadata": {
        "id": "ahVSPjHi33JW"
      }
    },
    {
      "cell_type": "code",
      "source": [
        "my_dict = {'a': 1, 'b': 2, 'c': 3}\n",
        "\n",
        "for key in my_dict:\n",
        "    print(key)"
      ],
      "metadata": {
        "colab": {
          "base_uri": "https://localhost:8080/"
        },
        "id": "tY_6g6Kp31Xa",
        "outputId": "1bcb4f40-0deb-4898-fc41-e71a8f80f78a"
      },
      "execution_count": null,
      "outputs": [
        {
          "output_type": "stream",
          "name": "stdout",
          "text": [
            "a\n",
            "b\n",
            "c\n"
          ]
        }
      ]
    },
    {
      "cell_type": "markdown",
      "source": [
        "16. Write a Python program to find the GCD (Greatest Common Divisor) of two numbers using a for loop."
      ],
      "metadata": {
        "id": "TWcJ-nQt4GuC"
      }
    },
    {
      "cell_type": "code",
      "source": [
        "def find_gcd(a, b):\n",
        "    gcd = 1\n",
        "    for i in range(1, min(a, b) + 1):\n",
        "        if a % i == 0 and b % i == 0:\n",
        "            gcd = i\n",
        "    return gcd\n",
        "\n",
        "num1 = 12\n",
        "num2 = 15\n",
        "gcd = find_gcd(num1, num2)\n",
        "print(\"Number 1:\", num1)\n",
        "print(\"Number 2:\", num2)\n",
        "print(\"GCD:\", gcd)"
      ],
      "metadata": {
        "colab": {
          "base_uri": "https://localhost:8080/"
        },
        "id": "K046H01j3--d",
        "outputId": "de5cfb45-59d1-4de7-95ea-8c4c289911b9"
      },
      "execution_count": null,
      "outputs": [
        {
          "output_type": "stream",
          "name": "stdout",
          "text": [
            "Number 1: 12\n",
            "Number 2: 15\n",
            "GCD: 3\n"
          ]
        }
      ]
    },
    {
      "cell_type": "markdown",
      "source": [
        "17. Create a Python program that checks if a string is a palindrome using a for loop."
      ],
      "metadata": {
        "id": "ZWYpV5ZW4T4Y"
      }
    },
    {
      "cell_type": "code",
      "source": [
        "def is_palindrome(s):\n",
        "    for i in range(len(s) // 2):\n",
        "        if s[i] != s[len(s) - 1 - i]:\n",
        "            return False\n",
        "    return True\n",
        "\n",
        "string = input(\"Enter a string: \")\n",
        "if is_palindrome(string):\n",
        "    print(\"The string is a palindrome.\")\n",
        "else:\n",
        "    print(\"The string is not a palindrome.\")"
      ],
      "metadata": {
        "colab": {
          "base_uri": "https://localhost:8080/"
        },
        "id": "pV7q1H3Y4LW1",
        "outputId": "f9ca84f0-03cb-490f-9a11-b27199f85316"
      },
      "execution_count": null,
      "outputs": [
        {
          "output_type": "stream",
          "name": "stdout",
          "text": [
            "Enter a string: Rajkumar Rajbhar\n",
            "The string is not a palindrome.\n"
          ]
        }
      ]
    },
    {
      "cell_type": "markdown",
      "source": [
        "18. Write a Python program to remove duplicates from a list using a for loop."
      ],
      "metadata": {
        "id": "SZf2UFXL4eRC"
      }
    },
    {
      "cell_type": "code",
      "source": [
        "def remove_duplicates(lst):\n",
        "    new_lst = []\n",
        "    for item in lst:\n",
        "        if item not in new_lst:\n",
        "            new_lst.append(item)\n",
        "    return new_lst\n",
        "\n",
        "my_list = [1, 2, 2, 3, 4, 4, 5, 6, 6]\n",
        "print(\"Original list:\", my_list)\n",
        "new_list = remove_duplicates(my_list)\n",
        "print(\"List with duplicates removed:\", new_list)"
      ],
      "metadata": {
        "colab": {
          "base_uri": "https://localhost:8080/"
        },
        "id": "GqJFSzRs4X8U",
        "outputId": "022fc95b-44a9-4400-dd58-e5006d2b31ca"
      },
      "execution_count": null,
      "outputs": [
        {
          "output_type": "stream",
          "name": "stdout",
          "text": [
            "Original list: [1, 2, 2, 3, 4, 4, 5, 6, 6]\n",
            "List with duplicates removed: [1, 2, 3, 4, 5, 6]\n"
          ]
        }
      ]
    },
    {
      "cell_type": "markdown",
      "source": [
        "19. Create a Python program that counts the number of words in a sentence using a for loop."
      ],
      "metadata": {
        "id": "-YGw5UuA4qGM"
      }
    },
    {
      "cell_type": "code",
      "source": [
        "def count_words(sentence):\n",
        "    words = sentence.split()\n",
        "    count = 0\n",
        "    for word in words:\n",
        "        count += 1\n",
        "    return count\n",
        "\n",
        "sentence = input(\"Enter a sentence: \")\n",
        "word_count = count_words(sentence)\n",
        "print(\"The sentence contains\", word_count, \"words.\")"
      ],
      "metadata": {
        "colab": {
          "base_uri": "https://localhost:8080/"
        },
        "id": "AejL1a3h4mWk",
        "outputId": "7a4da976-78dd-46c7-fc91-8dfc241ef74a"
      },
      "execution_count": null,
      "outputs": [
        {
          "output_type": "stream",
          "name": "stdout",
          "text": [
            "Enter a sentence: counts the number of words\n",
            "The sentence contains 5 words.\n"
          ]
        }
      ]
    },
    {
      "cell_type": "markdown",
      "source": [
        "20. Write a Python program to find the sum of all odd numbers from 1 to 50 using a for loop."
      ],
      "metadata": {
        "id": "KgQYrDrq41P4"
      }
    },
    {
      "cell_type": "code",
      "source": [
        "def sum_odd_numbers(n):\n",
        "    total = 0\n",
        "    for i in range(1, n+1):\n",
        "        if i % 2 != 0:\n",
        "            total += i\n",
        "    return total\n",
        "\n",
        "result = sum_odd_numbers(50)\n",
        "print(\"The sum of all odd numbers from 1 to 50 is:\", result)\n"
      ],
      "metadata": {
        "colab": {
          "base_uri": "https://localhost:8080/"
        },
        "id": "zqT3Wk324sv9",
        "outputId": "f8e94fc0-afd7-4c51-fd9d-6ee39eb67794"
      },
      "execution_count": null,
      "outputs": [
        {
          "output_type": "stream",
          "name": "stdout",
          "text": [
            "The sum of all odd numbers from 1 to 50 is: 625\n"
          ]
        }
      ]
    },
    {
      "cell_type": "markdown",
      "source": [
        "21. Write a Python program that checks if a given year is a leap year using a for loop."
      ],
      "metadata": {
        "id": "R_hJkzkb5AVW"
      }
    },
    {
      "cell_type": "code",
      "source": [
        "def is_leap_year(year):\n",
        "    for i in range(4):\n",
        "        if year % (i + 1) != 0:\n",
        "            return False\n",
        "    return True\n",
        "\n",
        "year = int(input(\"Enter a year: \"))\n",
        "if is_leap_year(year):\n",
        "    print(year, \"is a leap year.\")\n",
        "else:\n",
        "    print(year, \"is not a leap year.\")"
      ],
      "metadata": {
        "colab": {
          "base_uri": "https://localhost:8080/"
        },
        "id": "P0XuTX3O48wO",
        "outputId": "9c0f5c82-6e34-435c-beaf-9b739bb24e29"
      },
      "execution_count": null,
      "outputs": [
        {
          "output_type": "stream",
          "name": "stdout",
          "text": [
            "Enter a year: 2023\n",
            "2023 is not a leap year.\n"
          ]
        }
      ]
    },
    {
      "cell_type": "markdown",
      "source": [
        "22. Create a Python program that calculates the square root of a number using a for loop."
      ],
      "metadata": {
        "id": "ttHeCgaa5KLc"
      }
    },
    {
      "cell_type": "code",
      "source": [
        "def sqrt_approximation(n, num_iterations=100):\n",
        "    guess = n / 2.0\n",
        "    for _ in range(num_iterations):\n",
        "        better_guess = (guess + n / guess) / 2.0\n",
        "        guess = better_guess\n",
        "    return guess\n",
        "\n",
        "num = float(input(\"Enter a number: \"))\n",
        "result = sqrt_approximation(num)\n",
        "print(\"The square root of\", num, \"is approximately\", result)"
      ],
      "metadata": {
        "colab": {
          "base_uri": "https://localhost:8080/"
        },
        "id": "9a_hW0f15FR1",
        "outputId": "d372b9ca-f4af-4b88-9f02-655d74824ca0"
      },
      "execution_count": null,
      "outputs": [
        {
          "output_type": "stream",
          "name": "stdout",
          "text": [
            "Enter a number: 20\n",
            "The square root of 20.0 is approximately 4.47213595499958\n"
          ]
        }
      ]
    },
    {
      "cell_type": "markdown",
      "source": [
        "23. Write a Python program to find the LCM (Least Common Multiple) of two numbers using a for loop."
      ],
      "metadata": {
        "id": "wZujIYw85SIq"
      }
    },
    {
      "cell_type": "code",
      "source": [
        "def lcm(a, b):\n",
        "    max_num = max(a, b)\n",
        "    for i in range(max_num, a * b + 1):\n",
        "        if i % a == 0 and i % b == 0:\n",
        "            return i\n",
        "    return a * b\n",
        "\n",
        "num1 = int(input(\"Enter the first number: \"))\n",
        "num2 = int(input(\"Enter the second number: \"))\n",
        "result = lcm(num1, num2)\n",
        "print(\"The LCM of\", num1, \"and\", num2, \"is\", result)"
      ],
      "metadata": {
        "colab": {
          "base_uri": "https://localhost:8080/"
        },
        "id": "72r4d2tU5Npb",
        "outputId": "71af7ea9-c422-461c-cf5b-9cdf96acd773"
      },
      "execution_count": null,
      "outputs": [
        {
          "output_type": "stream",
          "name": "stdout",
          "text": [
            "Enter the first number: 3\n",
            "Enter the second number: 4\n",
            "The LCM of 3 and 4 is 12\n"
          ]
        }
      ]
    },
    {
      "cell_type": "markdown",
      "source": [
        "**If else:**"
      ],
      "metadata": {
        "id": "ct8K-K7R5cjL"
      }
    },
    {
      "cell_type": "markdown",
      "source": [
        "1. Write a Python program to check if a number is positive, negative, or zero using an if-else statement."
      ],
      "metadata": {
        "id": "aw7UTSg05tmQ"
      }
    },
    {
      "cell_type": "code",
      "source": [
        "num = float(input(\"Enter a number: \"))\n",
        "\n",
        "if num > 0:\n",
        "    print(num, \"is a positive number.\")\n",
        "elif num < 0:\n",
        "    print(num, \"is a negative number.\")\n",
        "else:\n",
        "    print(num, \"is zero.\")"
      ],
      "metadata": {
        "colab": {
          "base_uri": "https://localhost:8080/"
        },
        "id": "g_Mdre7t5W8b",
        "outputId": "8e5bbcec-1a91-468b-bfe9-9a3739eff1ce"
      },
      "execution_count": null,
      "outputs": [
        {
          "output_type": "stream",
          "name": "stdout",
          "text": [
            "Enter a number: 2\n",
            "2.0 is a positive number.\n"
          ]
        }
      ]
    },
    {
      "cell_type": "markdown",
      "source": [
        "2. Create a Python program that checks if a given number is even or odd using an if-else statement."
      ],
      "metadata": {
        "id": "i1M51ez852XA"
      }
    },
    {
      "cell_type": "code",
      "source": [
        "num = int(input(\"Enter a number: \"))\n",
        "\n",
        "if num % 2 == 0:\n",
        "    print(num, \"is an even number.\")\n",
        "else:\n",
        "    print(num, \"is an odd number.\")"
      ],
      "metadata": {
        "colab": {
          "base_uri": "https://localhost:8080/"
        },
        "id": "b0VJ080N5yBb",
        "outputId": "df9e9ce6-dcdd-4b9e-d178-d08e9149963a"
      },
      "execution_count": null,
      "outputs": [
        {
          "output_type": "stream",
          "name": "stdout",
          "text": [
            "Enter a number: 3\n",
            "3 is an odd number.\n"
          ]
        }
      ]
    },
    {
      "cell_type": "markdown",
      "source": [
        "3. How can you use nested if-else statements in Python, and provide an example?"
      ],
      "metadata": {
        "id": "nFcI4f025-f2"
      }
    },
    {
      "cell_type": "code",
      "source": [
        "x = int(input(\"Enter a number: \"))\n",
        "\n",
        "if x > 0:\n",
        "    if x % 2 == 0:\n",
        "        print(x, \"is a positive even number.\")\n",
        "    else:\n",
        "        print(x, \"is a positive odd number.\")\n",
        "else:\n",
        "    if x % 2 == 0:\n",
        "        print(x, \"is a negative even number.\")\n",
        "    else:\n",
        "        print(x, \"is a negative odd number.\")"
      ],
      "metadata": {
        "colab": {
          "base_uri": "https://localhost:8080/"
        },
        "id": "BpSLFgPx55LN",
        "outputId": "607482a9-493e-4808-fd20-4f7bea5a797a"
      },
      "execution_count": null,
      "outputs": [
        {
          "output_type": "stream",
          "name": "stdout",
          "text": [
            "Enter a number: 4\n",
            "4 is a positive even number.\n"
          ]
        }
      ]
    },
    {
      "cell_type": "markdown",
      "source": [
        "4. Write a Python program to determine the largest of three numbers using if-else."
      ],
      "metadata": {
        "id": "cEKhnVyW6IyM"
      }
    },
    {
      "cell_type": "code",
      "source": [
        "# Get the three numbers from the user\n",
        "num1 = int(input(\"Enter the first number: \"))\n",
        "num2 = int(input(\"Enter the second number: \"))\n",
        "num3 = int(input(\"Enter the third number: \"))\n",
        "\n",
        "# Determine the largest number using if-else statements\n",
        "if num1 >= num2 and num1 >= num3:\n",
        "    print(\"The largest number is\", num1)\n",
        "elif num2 >= num1 and num2 >= num3:\n",
        "    print(\"The largest number is\", num2)\n",
        "else:\n",
        "    print(\"The largest number is\", num3)"
      ],
      "metadata": {
        "colab": {
          "base_uri": "https://localhost:8080/"
        },
        "id": "nr9iNe-q6Bcu",
        "outputId": "5a629e23-5ae5-42b7-f28a-954b3740190a"
      },
      "execution_count": null,
      "outputs": [
        {
          "output_type": "stream",
          "name": "stdout",
          "text": [
            "Enter the first number: 20\n",
            "Enter the second number: 32\n",
            "Enter the third number: 34\n",
            "The largest number is 34\n"
          ]
        }
      ]
    },
    {
      "cell_type": "markdown",
      "source": [
        "5. Write a Python program that calculates the absolute value of a number using if-else."
      ],
      "metadata": {
        "id": "DSTZAaLT6ar3"
      }
    },
    {
      "cell_type": "code",
      "source": [
        "# Get the number from the user\n",
        "num = int(input(\"Enter a number: \"))\n",
        "\n",
        "# Calculate the absolute value using if-else statements\n",
        "if num < 0:\n",
        "    abs_num = -num\n",
        "else:\n",
        "    abs_num = num\n",
        "\n",
        "print(\"The absolute value of\", num, \"is\", abs_num)"
      ],
      "metadata": {
        "colab": {
          "base_uri": "https://localhost:8080/"
        },
        "id": "HLHWzHs56Su6",
        "outputId": "a7758fa7-9c9f-4e55-c99a-e98f392a63fa"
      },
      "execution_count": null,
      "outputs": [
        {
          "output_type": "stream",
          "name": "stdout",
          "text": [
            "Enter a number: 55\n",
            "The absolute value of 55 is 55\n"
          ]
        }
      ]
    },
    {
      "cell_type": "markdown",
      "source": [
        "6. Create a Python program that checks if a given character is a vowel or consonant using if-else."
      ],
      "metadata": {
        "id": "RYKtfeHL6hpn"
      }
    },
    {
      "cell_type": "code",
      "source": [
        "# Get the character from the user\n",
        "char = input(\"Enter a character: \")\n",
        "\n",
        "# Convert the character to lowercase for simplicity\n",
        "char = char.lower()\n",
        "\n",
        "# Check if the character is a vowel or consonant using if-else statements\n",
        "if char in 'aeiou':\n",
        "    print(char, \"is a vowel.\")\n",
        "else:\n",
        "    # Check if the character is an alphabet letter (to exclude non-alphabet characters)\n",
        "    if char.isalpha():\n",
        "        print(char, \"is a consonant.\")\n",
        "    else:\n",
        "        print(char, \"is not a letter.\")"
      ],
      "metadata": {
        "colab": {
          "base_uri": "https://localhost:8080/"
        },
        "id": "7CC0ju4o6dYv",
        "outputId": "ec58d217-ae68-4140-a876-89d520276597"
      },
      "execution_count": null,
      "outputs": [
        {
          "output_type": "stream",
          "name": "stdout",
          "text": [
            "Enter a character: r\n",
            "r is a consonant.\n"
          ]
        }
      ]
    },
    {
      "cell_type": "markdown",
      "source": [
        "7. Write a Python program to determine if a user is eligible to vote based on their age using if-else."
      ],
      "metadata": {
        "id": "WDQtyaMX6qVf"
      }
    },
    {
      "cell_type": "code",
      "source": [
        "# Get the user's age from the user\n",
        "age = int(input(\"Enter your age: \"))\n",
        "\n",
        "# Check if the user is eligible to vote using if-else statements\n",
        "if age >= 18:\n",
        "    print(\"You are eligible to vote.\")\n",
        "else:\n",
        "    print(\"You are not eligible to vote.\")"
      ],
      "metadata": {
        "colab": {
          "base_uri": "https://localhost:8080/"
        },
        "id": "mmbKubGG6kng",
        "outputId": "3ed15240-972d-46d2-efc7-961854491d09"
      },
      "execution_count": null,
      "outputs": [
        {
          "output_type": "stream",
          "name": "stdout",
          "text": [
            "Enter your age: 33\n",
            "You are eligible to vote.\n"
          ]
        }
      ]
    },
    {
      "cell_type": "markdown",
      "source": [
        "8. Create a Python program that calculates the discount amount based on the purchase amount using if-else."
      ],
      "metadata": {
        "id": "yc0Gqrd-6wjW"
      }
    },
    {
      "cell_type": "code",
      "source": [
        "# Get the purchase amount from the user\n",
        "purchase_amount = float(input(\"Enter the purchase amount: \"))\n",
        "\n",
        "# Define the discount rates\n",
        "discount_rate_1 = 0.05  # 5% discount for purchases between $100 and $500\n",
        "discount_rate_2 = 0.10  # 10% discount for purchases between $501 and $1000\n",
        "discount_rate_3 = 0.15  # 15% discount for purchases above $1000\n",
        "\n",
        "# Calculate the discount amount using if-else statements\n",
        "if purchase_amount >= 1000:\n",
        "    discount_amount = purchase_amount * discount_rate_3\n",
        "    print(f\"Discount amount: ${discount_amount:.2f}\")\n",
        "    print(f\"Amount to pay: ${purchase_amount - discount_amount:.2f}\")\n",
        "elif purchase_amount >= 500:\n",
        "    discount_amount = purchase_amount * discount_rate_2\n",
        "    print(f\"Discount amount: ${discount_amount:.2f}\")\n",
        "    print(f\"Amount to pay: ${purchase_amount - discount_amount:.2f}\")\n",
        "elif purchase_amount >= 100:\n",
        "    discount_amount = purchase_amount * discount_rate_1\n",
        "    print(f\"Discount amount: ${discount_amount:.2f}\")\n",
        "    print(f\"Amount to pay: ${purchase_amount - discount_amount:.2f}\")\n",
        "else:\n",
        "    print(\"No discount applicable.\")\n",
        "    print(f\"Amount to pay: ${purchase_amount:.2f}\")"
      ],
      "metadata": {
        "colab": {
          "base_uri": "https://localhost:8080/"
        },
        "id": "FhCMVtcj6sol",
        "outputId": "560e474f-6d18-4b0b-9c82-b3a811052d68"
      },
      "execution_count": null,
      "outputs": [
        {
          "output_type": "stream",
          "name": "stdout",
          "text": [
            "Enter the purchase amount: 200\n",
            "Discount amount: $10.00\n",
            "Amount to pay: $190.00\n"
          ]
        }
      ]
    },
    {
      "cell_type": "markdown",
      "source": [
        "9. Write a Python program to check if a number is within a specified range using if-else."
      ],
      "metadata": {
        "id": "aQfOIX8_67UC"
      }
    },
    {
      "cell_type": "code",
      "source": [
        "# Get the number from the user\n",
        "num = int(input(\"Enter a number: \"))\n",
        "\n",
        "# Define the range\n",
        "lower_bound = 10\n",
        "upper_bound = 50\n",
        "\n",
        "# Check if the number is within the range using if-else statements\n",
        "if lower_bound <= num <= upper_bound:\n",
        "    print(f\"{num} is within the range [{lower_bound}, {upper_bound}].\")\n",
        "else:\n",
        "    print(f\"{num} is not within the range [{lower_bound}, {upper_bound}].\")"
      ],
      "metadata": {
        "colab": {
          "base_uri": "https://localhost:8080/"
        },
        "id": "leHmBM8l60R0",
        "outputId": "44dfc22b-ac9b-4731-cd43-d186c07b63be"
      },
      "execution_count": null,
      "outputs": [
        {
          "output_type": "stream",
          "name": "stdout",
          "text": [
            "Enter a number: 10\n",
            "10 is within the range [10, 50].\n"
          ]
        }
      ]
    },
    {
      "cell_type": "markdown",
      "source": [
        "10. Create a Python program that determines the grade of a student based on their score using if-else."
      ],
      "metadata": {
        "id": "o43jcuHE7C46"
      }
    },
    {
      "cell_type": "code",
      "source": [
        "# Get the score from the user\n",
        "score = float(input(\"Enter the student's score (out of 100): \"))\n",
        "\n",
        "# Define the grade boundaries\n",
        "grade_boundaries = {\n",
        "    'A': (90, 100),\n",
        "    'B': (80, 89),\n",
        "    'C': (70, 79),\n",
        "    'D': (60, 69),\n",
        "    'F': (0, 59)\n",
        "}\n",
        "\n",
        "# Determine the grade using if-else statements\n",
        "for grade, (lower, upper) in grade_boundaries.items():\n",
        "    if lower <= score <= upper:\n",
        "        print(f\"The student's grade is {grade}.\")\n",
        "        break\n",
        "else:\n",
        "    print(\"Invalid score. Please enter a score between 0 and 100.\")"
      ],
      "metadata": {
        "colab": {
          "base_uri": "https://localhost:8080/"
        },
        "id": "ugHtb5zp69r2",
        "outputId": "53b96965-0374-46a2-8172-f3a974785bf6"
      },
      "execution_count": null,
      "outputs": [
        {
          "output_type": "stream",
          "name": "stdout",
          "text": [
            "Enter the student's score (out of 100): 90\n",
            "The student's grade is A.\n"
          ]
        }
      ]
    },
    {
      "cell_type": "markdown",
      "source": [
        "11. Write a Python program to check if a string is empty or not using if-else."
      ],
      "metadata": {
        "id": "P2_vpPBE7MqV"
      }
    },
    {
      "cell_type": "code",
      "source": [
        "# Get the string from the user\n",
        "string = input(\"Enter a string: \")\n",
        "\n",
        "# Check if the string is empty using if-else statements\n",
        "if string:\n",
        "    print(\"The string is not empty.\")\n",
        "else:\n",
        "    print(\"The string is empty.\")"
      ],
      "metadata": {
        "colab": {
          "base_uri": "https://localhost:8080/"
        },
        "id": "NAhwmHc17Hzz",
        "outputId": "b2d59f52-da0f-42d2-b963-3a11465596ad"
      },
      "execution_count": null,
      "outputs": [
        {
          "output_type": "stream",
          "name": "stdout",
          "text": [
            "Enter a string: Rajkumar Rajbhar\n",
            "The string is not empty.\n"
          ]
        }
      ]
    },
    {
      "cell_type": "markdown",
      "source": [
        "12. Create a Python program that identifies the type of a triangle (e.g., equilateral, isosceles, or scalene) based on input values using if-else."
      ],
      "metadata": {
        "id": "Yombds5n7asV"
      }
    },
    {
      "cell_type": "code",
      "source": [
        "# Get the side lengths from the user\n",
        "a = float(input(\"Enter the length of side a: \"))\n",
        "b = float(input(\"Enter the length of side b: \"))\n",
        "c = float(input(\"Enter the length of side c: \"))\n",
        "\n",
        "# Check if the input values form a valid triangle\n",
        "if a + b > c and a + c > b and b + c > a:\n",
        "    # Check the type of triangle using if-else statements\n",
        "    if a == b == c:\n",
        "        print(\"The triangle is equilateral.\")\n",
        "    elif a == b or a == c or b == c:\n",
        "        print(\"The triangle is isosceles.\")\n",
        "    else:\n",
        "        print(\"The triangle is scalene.\")\n",
        "else:\n",
        "    print(\"The input values do not form a valid triangle.\")"
      ],
      "metadata": {
        "colab": {
          "base_uri": "https://localhost:8080/"
        },
        "id": "3wB59wvf7QAq",
        "outputId": "036d2fc6-bad5-434e-9654-35f1d59e3b80"
      },
      "execution_count": null,
      "outputs": [
        {
          "output_type": "stream",
          "name": "stdout",
          "text": [
            "Enter the length of side a: 2\n",
            "Enter the length of side b: 3\n",
            "Enter the length of side c: 4\n",
            "The triangle is scalene.\n"
          ]
        }
      ]
    },
    {
      "cell_type": "markdown",
      "source": [
        "13. Write a Python program to determine the day of the week based on a user-provided number using if-else."
      ],
      "metadata": {
        "id": "T4EGsLdx7m5u"
      }
    },
    {
      "cell_type": "code",
      "source": [
        "# Get the day number from the user\n",
        "day_number = int(input(\"Enter a number between 1 and 7: \"))\n",
        "\n",
        "# Check the day of the week using if-else statements\n",
        "if day_number == 1:\n",
        "    print(\"The day of the week is Monday.\")\n",
        "elif day_number == 2:\n",
        "    print(\"The day of the week is Tuesday.\")\n",
        "elif day_number == 3:\n",
        "    print(\"The day of the week is Wednesday.\")\n",
        "elif day_number == 4:\n",
        "    print(\"The day of the week is Thursday.\")\n",
        "elif day_number == 5:\n",
        "    print(\"The day of the week is Friday.\")\n",
        "elif day_number == 6:\n",
        "    print(\"The day of the week is Saturday.\")\n",
        "elif day_number == 7:\n",
        "    print(\"The day of the week is Sunday.\")\n",
        "else:\n",
        "    print(\"Invalid day number. Please enter a number between 1 and 7.\")"
      ],
      "metadata": {
        "colab": {
          "base_uri": "https://localhost:8080/"
        },
        "id": "A16qeJZG7e_B",
        "outputId": "e07766bb-bf85-4f92-db61-8ea53731e901"
      },
      "execution_count": null,
      "outputs": [
        {
          "output_type": "stream",
          "name": "stdout",
          "text": [
            "Enter a number between 1 and 7: 4\n",
            "The day of the week is Thursday.\n"
          ]
        }
      ]
    },
    {
      "cell_type": "markdown",
      "source": [
        "14. Create a Python program that checks if a given year is a leap year using both if-else and a function."
      ],
      "metadata": {
        "id": "bodG2_7T7xik"
      }
    },
    {
      "cell_type": "code",
      "source": [
        "# Define a function to check if a year is a leap year\n",
        "def is_leap_year(year):\n",
        "    if year % 4 == 0:\n",
        "        if year % 100 == 0:\n",
        "            if year % 400 == 0:\n",
        "                return True\n",
        "            else:\n",
        "                return False\n",
        "        else:\n",
        "            return True\n",
        "    else:\n",
        "        return False\n",
        "\n",
        "# Get the year from the user\n",
        "year = int(input(\"Enter a year: \"))\n",
        "\n",
        "# Check if the year is a leap year using the function\n",
        "if is_leap_year(year):\n",
        "    print(f\"{year} is a leap year.\")\n",
        "else:\n",
        "    print(f\"{year} is not a leap year.\")"
      ],
      "metadata": {
        "colab": {
          "base_uri": "https://localhost:8080/"
        },
        "id": "zWQYoZPy7r2h",
        "outputId": "155a96b2-f8d0-47f7-b5d7-b05bf761d208"
      },
      "execution_count": null,
      "outputs": [
        {
          "output_type": "stream",
          "name": "stdout",
          "text": [
            "Enter a year: 2025\n",
            "2025 is not a leap year.\n"
          ]
        }
      ]
    },
    {
      "cell_type": "markdown",
      "source": [
        "15. How do you use the \"assert\" statement in Python to add debugging checks within if-else blocks?"
      ],
      "metadata": {
        "id": "2Kus3dw38ArI"
      }
    },
    {
      "cell_type": "code",
      "source": [
        "x = 5\n",
        "\n",
        "if x > 10:\n",
        "    assert x > 10, \"x should be greater than 10\"\n",
        "    print(\"x is greater than 10\")\n",
        "else:\n",
        "    assert x <= 10, \"x should be less than or equal to 10\"\n",
        "    print(\"x is less than or equal to 10\")"
      ],
      "metadata": {
        "colab": {
          "base_uri": "https://localhost:8080/"
        },
        "id": "EXdSFFAJ77qU",
        "outputId": "3e1c3ab1-1564-457d-fc7b-be4ade1a9023"
      },
      "execution_count": null,
      "outputs": [
        {
          "output_type": "stream",
          "name": "stdout",
          "text": [
            "x is less than or equal to 10\n"
          ]
        }
      ]
    },
    {
      "cell_type": "markdown",
      "source": [
        "16. Create a Python program that determines the eligibility of a person for a senior citizen discount based on age using if-else."
      ],
      "metadata": {
        "id": "SPS-Q3R18JE0"
      }
    },
    {
      "cell_type": "code",
      "source": [
        "# Get the age of the person from the user\n",
        "age = int(input(\"Enter your age: \"))\n",
        "\n",
        "# Determine the eligibility for senior citizen discount\n",
        "if age >= 60:\n",
        "    print(\"You are eligible for a senior citizen discount.\")\n",
        "else:\n",
        "    print(\"You are not eligible for a senior citizen discount.\")"
      ],
      "metadata": {
        "colab": {
          "base_uri": "https://localhost:8080/"
        },
        "id": "lt5cZYkI8E9m",
        "outputId": "43929da1-9e7d-45d0-9327-f55396cc5248"
      },
      "execution_count": null,
      "outputs": [
        {
          "output_type": "stream",
          "name": "stdout",
          "text": [
            "Enter your age: 33\n",
            "You are not eligible for a senior citizen discount.\n"
          ]
        }
      ]
    },
    {
      "cell_type": "markdown",
      "source": [
        "17. Write a Python program to categorize a given character as uppercase, lowercase, or neither using if-else."
      ],
      "metadata": {
        "id": "hnG2AGDw8VB9"
      }
    },
    {
      "cell_type": "code",
      "source": [
        "# Get the character from the user\n",
        "char = input(\"Enter a character: \")\n",
        "\n",
        "# Determine the category of the character\n",
        "if char.isupper():\n",
        "    print(\"The character is uppercase.\")\n",
        "elif char.islower():\n",
        "    print(\"The character is lowercase.\")\n",
        "else:\n",
        "    print(\"The character is neither uppercase nor lowercase.\")"
      ],
      "metadata": {
        "colab": {
          "base_uri": "https://localhost:8080/"
        },
        "id": "N-s2sw7f8Mbn",
        "outputId": "9c4ab017-8d3f-4a2b-d428-b78916b9bb08"
      },
      "execution_count": null,
      "outputs": [
        {
          "output_type": "stream",
          "name": "stdout",
          "text": [
            "Enter a character: r\n",
            "The character is lowercase.\n"
          ]
        }
      ]
    },
    {
      "cell_type": "markdown",
      "source": [
        "18. Write a Python program to determine the roots of a quadratic equation using if-else."
      ],
      "metadata": {
        "id": "c6KMl3Q48d1C"
      }
    },
    {
      "cell_type": "code",
      "source": [
        "# Get the coefficients of the quadratic equation from the user\n",
        "a = float(input(\"Enter coefficient a: \"))\n",
        "b = float(input(\"Enter coefficient b: \"))\n",
        "c = float(input(\"Enter coefficient c: \"))\n",
        "\n",
        "# Calculate the discriminant\n",
        "discriminant = b**2 - 4*a*c\n",
        "\n",
        "# Determine the roots of the quadratic equation\n",
        "if discriminant > 0:\n",
        "    root1 = (-b + discriminant**0.5) / (2*a)\n",
        "    root2 = (-b - discriminant**0.5) / (2*a)\n",
        "    print(\"The quadratic equation has two distinct roots: {} and {}\".format(root1, root2))\n",
        "elif discriminant == 0:\n",
        "    root = -b / (2*a)\n",
        "    print(\"The quadratic equation has one repeated root: {}\".format(root))\n",
        "else:\n",
        "    print(\"The quadratic equation has no real roots.\")"
      ],
      "metadata": {
        "colab": {
          "base_uri": "https://localhost:8080/"
        },
        "id": "jKo1kCVZ8YyD",
        "outputId": "ba06843c-0668-4a7d-933b-271d0b6b4721"
      },
      "execution_count": null,
      "outputs": [
        {
          "output_type": "stream",
          "name": "stdout",
          "text": [
            "Enter coefficient a: .3\n",
            "Enter coefficient b: .5\n",
            "Enter coefficient c: .6\n",
            "The quadratic equation has no real roots.\n"
          ]
        }
      ]
    },
    {
      "cell_type": "markdown",
      "source": [
        "19. Create a Python program that checks if a given year is a century year or not using if-else."
      ],
      "metadata": {
        "id": "-2L-KuTj8ukA"
      }
    },
    {
      "cell_type": "code",
      "source": [
        "# Get the year from the user\n",
        "year = int(input(\"Enter a year: \"))\n",
        "\n",
        "# Determine if the year is a century year\n",
        "if year % 100 == 0:\n",
        "    print(\"The year {} is a century year.\".format(year))\n",
        "else:\n",
        "    print(\"The year {} is not a century year.\".format(year))"
      ],
      "metadata": {
        "colab": {
          "base_uri": "https://localhost:8080/"
        },
        "id": "LDykAcbY8ggu",
        "outputId": "3aaff89f-856a-439b-fe54-13621d01cbfb"
      },
      "execution_count": null,
      "outputs": [
        {
          "output_type": "stream",
          "name": "stdout",
          "text": [
            "Enter a year: 3033\n",
            "The year 3033 is not a century year.\n"
          ]
        }
      ]
    },
    {
      "cell_type": "markdown",
      "source": [
        "20. Write a Python program to determine if a given number is a perfect square using if-else."
      ],
      "metadata": {
        "id": "QAAd6rib86r-"
      }
    },
    {
      "cell_type": "code",
      "source": [
        "# Get the number from the user\n",
        "num = int(input(\"Enter a number: \"))\n",
        "\n",
        "# Determine if the number is a perfect square\n",
        "root = num ** 0.5\n",
        "if root == int(root):\n",
        "    print(\"The number {} is a perfect square.\".format(num))\n",
        "else:\n",
        "    print(\"The number {} is not a perfect square.\".format(num))"
      ],
      "metadata": {
        "colab": {
          "base_uri": "https://localhost:8080/"
        },
        "id": "cQNmBsxb8zRx",
        "outputId": "18d051a1-b86f-498b-facb-b5d7e5fdddde"
      },
      "execution_count": null,
      "outputs": [
        {
          "output_type": "stream",
          "name": "stdout",
          "text": [
            "Enter a number: 4\n",
            "The number 4 is a perfect square.\n"
          ]
        }
      ]
    },
    {
      "cell_type": "markdown",
      "source": [
        "21. Explain the purpose of the \"continue\" and \"break\" statements within if-else loops."
      ],
      "metadata": {
        "id": "jcKcy3wY9F00"
      }
    },
    {
      "cell_type": "markdown",
      "source": [
        "In Python, the `continue` and `break` statements are used to control the flow of loops (`for` and `while`). They serve different purposes within loops:\n",
        "\n",
        "### `continue` Statement:\n",
        "- **Purpose:** The `continue` statement is used to skip the rest of the code inside the current loop iteration and jump to the next iteration of the loop.\n",
        "- **Usage:** It’s often used when you want to skip certain conditions or iterations but continue processing the rest of the loop.\n",
        "\n",
        "#### Example:\n",
        "```python\n",
        "for i in range(10):\n",
        "    if i % 2 == 0:  # Skip even numbers\n",
        "        continue\n",
        "    print(i)  # This line will only be executed for odd numbers\n",
        "```\n",
        "- **Explanation:** In this example, when `i` is even, the `continue` statement is executed, which skips the `print` statement and moves to the next iteration of the loop. As a result, only odd numbers are printed.\n",
        "\n",
        "### `break` Statement:\n",
        "- **Purpose:** The `break` statement is used to exit the loop prematurely, regardless of the loop's condition.\n",
        "- **Usage:** It’s useful when you want to stop the loop based on a certain condition.\n",
        "\n",
        "#### Example:\n",
        "```python\n",
        "for i in range(10):\n",
        "    if i == 5:\n",
        "        break  # Exit the loop when i equals 5\n",
        "    print(i)\n",
        "```\n",
        "- **Explanation:** In this example, when `i` equals 5, the `break` statement is executed, which terminates the loop immediately. As a result, the numbers 0 through 4 are printed, and the loop stops when `i` is 5.\n",
        "\n",
        "### Summary:\n",
        "- Use `continue` when you want to skip the rest of the current iteration and proceed to the next iteration of the loop.\n",
        "- Use `break` when you want to terminate the entire loop and exit out of it based on a specific condition."
      ],
      "metadata": {
        "id": "XqdvaMT_9lKv"
      }
    },
    {
      "cell_type": "markdown",
      "source": [
        "22. Create a Python program that calculates the BMI (Body Mass Index) of a person based on their weight and height using if-else."
      ],
      "metadata": {
        "id": "cInMRULF9lli"
      }
    },
    {
      "cell_type": "code",
      "source": [
        "# Get the user's weight and height\n",
        "weight = float(input(\"Enter your weight in kg: \"))\n",
        "height = float(input(\"Enter your height in meters: \"))\n",
        "\n",
        "# Calculate the BMI\n",
        "bmi = weight / (height ** 2)\n",
        "\n",
        "# Print the BMI\n",
        "print(\"Your BMI is: {:.2f}\".format(bmi))\n",
        "\n",
        "# Use if-else to categorize the BMI\n",
        "if bmi < 18.5:\n",
        "    print(\"You are underweight.\")\n",
        "elif bmi < 25:\n",
        "    print(\"You are normal weight.\")\n",
        "elif bmi < 30:\n",
        "    print(\"You are overweight.\")\n",
        "else:\n",
        "    print(\"You are obese.\")"
      ],
      "metadata": {
        "colab": {
          "base_uri": "https://localhost:8080/"
        },
        "id": "r9Sd-T5r89BZ",
        "outputId": "67db07f5-5dff-4e60-aeb5-a69f35f5eb02"
      },
      "execution_count": null,
      "outputs": [
        {
          "output_type": "stream",
          "name": "stdout",
          "text": [
            "Enter your weight in kg: 84\n",
            "Enter your height in meters: 3\n",
            "Your BMI is: 9.33\n",
            "You are underweight.\n"
          ]
        }
      ]
    },
    {
      "cell_type": "markdown",
      "source": [
        "23. How can you use the \"filter()\" function with if-else statements to filter elements from a list?"
      ],
      "metadata": {
        "id": "QlE4nLIx907I"
      }
    },
    {
      "cell_type": "code",
      "source": [
        "# Define a list of numbers\n",
        "numbers = [1, 2, 3, 4, 5, 6, 7, 8, 9, 10]\n",
        "\n",
        "# Define a function that takes a number as input and returns True if it's even, False otherwise\n",
        "def is_even(x):\n",
        "    if x % 2 == 0:\n",
        "        return True\n",
        "    else:\n",
        "        return False\n",
        "\n",
        "# Use the filter() function to filter the even numbers from the list\n",
        "even_numbers = list(filter(is_even, numbers))\n",
        "\n",
        "# Print the filtered list\n",
        "print(even_numbers)  # Output: [2, 4, 6, 8, 10]"
      ],
      "metadata": {
        "colab": {
          "base_uri": "https://localhost:8080/"
        },
        "id": "vjYSm0X0-HTJ",
        "outputId": "3e73ec20-f991-4f23-a5ed-bd152fd810f1"
      },
      "execution_count": null,
      "outputs": [
        {
          "output_type": "stream",
          "name": "stdout",
          "text": [
            "[2, 4, 6, 8, 10]\n"
          ]
        }
      ]
    },
    {
      "cell_type": "markdown",
      "source": [
        "24. Write a Python program to determine if a given number is prime or not using if-else."
      ],
      "metadata": {
        "id": "6ep87hrD-UI8"
      }
    },
    {
      "cell_type": "code",
      "source": [
        "# Get the user's input\n",
        "num = int(input(\"Enter a number: \"))\n",
        "\n",
        "# Define a function to check if the number is prime\n",
        "def is_prime(n):\n",
        "    if n <= 1:\n",
        "        return False\n",
        "    elif n <= 3:\n",
        "        return True\n",
        "    elif n % 2 == 0 or n % 3 == 0:\n",
        "        return False\n",
        "    i = 5\n",
        "    while i * i <= n:\n",
        "        if n % i == 0 or n % (i + 2) == 0:\n",
        "            return False\n",
        "        i += 6\n",
        "    return True\n",
        "\n",
        "# Check if the number is prime\n",
        "if is_prime(num):\n",
        "    print(f\"{num} is a prime number.\")\n",
        "else:\n",
        "    print(f\"{num} is not a prime number.\")"
      ],
      "metadata": {
        "colab": {
          "base_uri": "https://localhost:8080/"
        },
        "id": "RqUw_GDJ-IvX",
        "outputId": "9d9bd863-4494-4512-c991-40f8fd9c73bf"
      },
      "execution_count": null,
      "outputs": [
        {
          "output_type": "stream",
          "name": "stdout",
          "text": [
            "Enter a number: 3\n",
            "3 is a prime number.\n"
          ]
        }
      ]
    },
    {
      "cell_type": "markdown",
      "source": [
        "**Map :**"
      ],
      "metadata": {
        "id": "wC7XVRGS-dth"
      }
    },
    {
      "cell_type": "markdown",
      "source": [
        "1. Explain the purpose of the `map()` function in Python and provide an example of how it can be used to apply a function to each element of an iterable."
      ],
      "metadata": {
        "id": "DzsHRkkR-oWu"
      }
    },
    {
      "cell_type": "markdown",
      "source": [
        "The `map()` function in Python is used to apply a specified function to each item in an iterable (such as a list or tuple) and return an iterator that yields the results. It provides a convenient way to perform transformations or operations on each element of an iterable without the need for explicit loops.\n",
        "\n",
        "### Purpose of `map()`:\n",
        "- **Transformation:** Apply a function to each element in an iterable to transform or process the data.\n",
        "- **Convenience:** Avoid writing verbose loops for element-wise operations.\n",
        "- **Efficiency:** The `map()` function is often more efficient than using a loop for applying a function to each element, especially with large datasets.\n",
        "\n",
        "### Syntax:\n",
        "```python\n",
        "map(function, iterable)\n",
        "```\n",
        "- `function`: The function to apply to each element of the iterable.\n",
        "- `iterable`: The iterable (e.g., list, tuple) whose elements the function will be applied to.\n",
        "\n",
        "### Example:\n",
        "Let’s say we want to convert a list of temperatures from Celsius to Fahrenheit. Here’s how you can use `map()` to achieve that:\n",
        "\n",
        "```python\n",
        "# Define the function to convert Celsius to Fahrenheit\n",
        "def celsius_to_fahrenheit(celsius):\n",
        "    return (celsius * 9/5) + 32\n",
        "\n",
        "# List of temperatures in Celsius\n",
        "celsius_temperatures = [0, 20, 37, 100]\n",
        "\n",
        "# Use map() to apply the conversion function to each temperature\n",
        "fahrenheit_temperatures = map(celsius_to_fahrenheit, celsius_temperatures)\n",
        "\n",
        "# Convert the result to a list and print it\n",
        "fahrenheit_temperatures_list = list(fahrenheit_temperatures)\n",
        "print(f\"Fahrenheit temperatures: {fahrenheit_temperatures_list}\")\n",
        "```\n",
        "\n",
        "### Explanation:\n",
        "1. **Define a Conversion Function:** The function `celsius_to_fahrenheit` converts Celsius temperatures to Fahrenheit.\n",
        "2. **Create an Iterable:** The list `celsius_temperatures` contains temperatures in Celsius.\n",
        "3. **Apply `map()`:** The `map()` function applies `celsius_to_fahrenheit` to each element in `celsius_temperatures`.\n",
        "4. **Convert to List:** Since `map()` returns an iterator, we convert it to a list using `list()` and print the results.\n",
        "\n",
        "### Output:\n",
        "```\n",
        "Fahrenheit temperatures: [32.0, 68.0, 98.6, 212.0]\n",
        "```\n",
        "\n",
        "The `map()` function provides a clean and efficient way to apply a transformation to each element of an iterable."
      ],
      "metadata": {
        "id": "bup76x-q-2W0"
      }
    },
    {
      "cell_type": "markdown",
      "source": [
        "2. Write a Python program that uses the `map()` function to square each element of a list of numbers."
      ],
      "metadata": {
        "id": "Yf3ty6HL-70A"
      }
    },
    {
      "cell_type": "code",
      "source": [
        "# Define a list of numbers\n",
        "numbers = [1, 2, 3, 4, 5, 6, 7, 8, 9, 10]\n",
        "\n",
        "# Use the map() function to square each element of the list\n",
        "squared_numbers = list(map(lambda x: x ** 2, numbers))\n",
        "\n",
        "# Print the squared list\n",
        "print(squared_numbers)  # Output: [1, 4, 9, 16, 25, 36, 49, 64, 81, 100]"
      ],
      "metadata": {
        "colab": {
          "base_uri": "https://localhost:8080/"
        },
        "id": "Cge16wfE-Yf0",
        "outputId": "5ab8cbe2-4557-4edc-d982-42f36bdea09a"
      },
      "execution_count": null,
      "outputs": [
        {
          "output_type": "stream",
          "name": "stdout",
          "text": [
            "[1, 4, 9, 16, 25, 36, 49, 64, 81, 100]\n"
          ]
        }
      ]
    },
    {
      "cell_type": "markdown",
      "source": [
        "3. How does the `map()` function differ from a list comprehension in Python, and when would you choose one over the other?"
      ],
      "metadata": {
        "id": "xCAH89tx_K6w"
      }
    },
    {
      "cell_type": "markdown",
      "source": [
        "The `map()` function and list comprehensions in Python both serve to apply a function or operation to each element of an iterable and generate a new iterable with the results. However, there are some differences between the two in terms of syntax, readability, and use cases.\n",
        "\n",
        "### `map()` Function:\n",
        "- **Syntax:**\n",
        "  ```python\n",
        "  map(function, iterable)\n",
        "  ```\n",
        "- **Usage:** Takes a function and an iterable, applying the function to each item in the iterable and returning an iterator.\n",
        "- **Readability:** Can be less readable if the function is complex or if the operation involves multiple steps. It's often used when the function is already defined or imported.\n",
        "- **Example:**\n",
        "  ```python\n",
        "  def square(x):\n",
        "      return x * x\n",
        "\n",
        "  numbers = [1, 2, 3, 4]\n",
        "  squared_numbers = map(square, numbers)\n",
        "  squared_numbers_list = list(squared_numbers)\n",
        "  ```\n",
        "\n",
        "### List Comprehension:\n",
        "- **Syntax:**\n",
        "  ```python\n",
        "  [expression for item in iterable]\n",
        "  ```\n",
        "- **Usage:** A more flexible and readable way to generate a list by applying an expression to each item in the iterable. It can also include conditional logic.\n",
        "- **Readability:** Generally more readable and expressive, especially for simple transformations or when including conditions.\n",
        "- **Example:**\n",
        "  ```python\n",
        "  numbers = [1, 2, 3, 4]\n",
        "  squared_numbers = [x * x for x in numbers]\n",
        "  ```\n",
        "\n",
        "### Key Differences:\n",
        "1. **Readability:**\n",
        "   - List comprehensions are often more readable and concise, especially for simple operations or transformations.\n",
        "   - `map()` can be less readable if the function being applied is complex or if additional logic is needed.\n",
        "\n",
        "2. **Flexibility:**\n",
        "   - List comprehensions can easily incorporate conditional logic, such as filtering elements.\n",
        "   - `map()` is limited to applying a single function to each element and does not support conditional logic directly.\n",
        "\n",
        "3. **Function Definitions:**\n",
        "   - `map()` is useful when you have an existing function to apply, as it directly uses that function.\n",
        "   - List comprehensions are more flexible for creating ad-hoc operations or when you need to include more complex expressions.\n",
        "\n",
        "### When to Choose One Over the Other:\n",
        "- **Use `map()` when:**\n",
        "  - You have a well-defined function to apply to each item.\n",
        "  - You prefer to use built-in functions and want to keep the code functional and clean.\n",
        "  - You are working with other iterators or generators that you want to maintain in a lazy evaluation fashion.\n",
        "\n",
        "- **Use list comprehensions when:**\n",
        "  - You need to include conditional logic or multiple operations.\n",
        "  - You want to create a list with a clear and readable one-liner.\n",
        "  - You are generating a list and need the flexibility to include complex expressions or operations directly within the comprehension."
      ],
      "metadata": {
        "id": "ZEj8f27Q_dWa"
      }
    },
    {
      "cell_type": "markdown",
      "source": [
        "4. Create a Python program that uses the `map()` function to convert a list of names to uppercase."
      ],
      "metadata": {
        "id": "0AXMtVXI_9qh"
      }
    },
    {
      "cell_type": "code",
      "source": [
        "# Define a list of names\n",
        "names = ['john', 'emily', 'michael', 'sarah', 'david']\n",
        "\n",
        "# Use the map() function to convert each name to uppercase\n",
        "uppercase_names = list(map(str.upper, names))\n",
        "\n",
        "# Print the list of uppercase names\n",
        "print(uppercase_names)  # Output: ['JOHN', 'EMILY', 'MICHAEL', 'SARAH', 'DAVID']"
      ],
      "metadata": {
        "colab": {
          "base_uri": "https://localhost:8080/"
        },
        "id": "ugVLFRzS_F4_",
        "outputId": "98b5bced-eba8-46b4-f0ab-cf2ba9a829db"
      },
      "execution_count": null,
      "outputs": [
        {
          "output_type": "stream",
          "name": "stdout",
          "text": [
            "['JOHN', 'EMILY', 'MICHAEL', 'SARAH', 'DAVID']\n"
          ]
        }
      ]
    },
    {
      "cell_type": "markdown",
      "source": [
        "5. Write a Python program that uses the `map()` function to calculate the length of each word in a list of strings."
      ],
      "metadata": {
        "id": "i_4bTzUuAMWM"
      }
    },
    {
      "cell_type": "code",
      "source": [
        "# Define a list of words\n",
        "words = ['hello', 'world', 'python', 'programming', 'language']\n",
        "\n",
        "# Use the map() function to calculate the length of each word\n",
        "word_lengths = list(map(len, words))\n",
        "\n",
        "# Print the list of word lengths\n",
        "print(word_lengths)  # Output: [5, 5, 6, 12, 8]"
      ],
      "metadata": {
        "colab": {
          "base_uri": "https://localhost:8080/"
        },
        "id": "4Ql9z-4SAH39",
        "outputId": "2c593b80-b764-4193-e20a-43be3f83ed65"
      },
      "execution_count": null,
      "outputs": [
        {
          "output_type": "stream",
          "name": "stdout",
          "text": [
            "[5, 5, 6, 11, 8]\n"
          ]
        }
      ]
    },
    {
      "cell_type": "markdown",
      "source": [
        "6. How can you use the `map()` function to apply a custom function to elements of multiple lists simultaneously in Python?"
      ],
      "metadata": {
        "id": "sj7zshnBAXU5"
      }
    },
    {
      "cell_type": "code",
      "source": [
        "def add_numbers(a, b, c):\n",
        "    return a + b + c\n",
        "\n",
        "list1 = [1, 2, 3]\n",
        "list2 = [4, 5, 6]\n",
        "list3 = [7, 8, 9]\n",
        "\n",
        "result = list(map(add_numbers, list1, list2, list3))\n",
        "print(result)  # Output: [12, 15, 18]"
      ],
      "metadata": {
        "colab": {
          "base_uri": "https://localhost:8080/"
        },
        "id": "XucPMMrbAQes",
        "outputId": "30bed3d1-1227-4768-a5f5-84bd13e14fbb"
      },
      "execution_count": null,
      "outputs": [
        {
          "output_type": "stream",
          "name": "stdout",
          "text": [
            "[12, 15, 18]\n"
          ]
        }
      ]
    },
    {
      "cell_type": "markdown",
      "source": [
        "7. Create a Python program that uses `map()` to convert a list of temperatures from Celsius to Fahrenheit."
      ],
      "metadata": {
        "id": "HEpJ4j6cBG5h"
      }
    },
    {
      "cell_type": "code",
      "source": [
        "# Define a list of temperatures in Celsius\n",
        "temperatures_c = [0, 10, 20, 30, 40]\n",
        "\n",
        "# Define a function to convert Celsius to Fahrenheit\n",
        "def celsius_to_fahrenheit(c):\n",
        "    return (c * 9/5) + 32\n",
        "\n",
        "# Use the map() function to convert the temperatures\n",
        "temperatures_f = list(map(celsius_to_fahrenheit, temperatures_c))\n",
        "\n",
        "# Print the list of temperatures in Fahrenheit\n",
        "print(temperatures_f)  # Output: [32.0, 50.0, 68.0, 86.0, 104.0]"
      ],
      "metadata": {
        "colab": {
          "base_uri": "https://localhost:8080/"
        },
        "id": "PonpPUnvBCRS",
        "outputId": "319d12f2-bece-4e43-e094-4333d623bebf"
      },
      "execution_count": null,
      "outputs": [
        {
          "output_type": "stream",
          "name": "stdout",
          "text": [
            "[32.0, 50.0, 68.0, 86.0, 104.0]\n"
          ]
        }
      ]
    },
    {
      "cell_type": "markdown",
      "source": [
        "8. Write a Python program that uses the `map()` function to round each element of a list of floating-point numbers to the nearest integer."
      ],
      "metadata": {
        "id": "10pfeEYrBOa0"
      }
    },
    {
      "cell_type": "code",
      "source": [
        "# Define a list of floating-point numbers\n",
        "numbers = [3.14, 2.71, 1.62, 4.23, 5.91]\n",
        "\n",
        "# Use the map() function to round each element to the nearest integer\n",
        "rounded_numbers = list(map(round, numbers))\n",
        "\n",
        "# Print the list of rounded numbers\n",
        "print(rounded_numbers)  # Output: [3, 3, 2, 4, 6]"
      ],
      "metadata": {
        "colab": {
          "base_uri": "https://localhost:8080/"
        },
        "id": "hKUNvQ7xBLr1",
        "outputId": "f8c1427a-21a2-499d-9124-6e2b7df88b2f"
      },
      "execution_count": null,
      "outputs": [
        {
          "output_type": "stream",
          "name": "stdout",
          "text": [
            "[3, 3, 2, 4, 6]\n"
          ]
        }
      ]
    },
    {
      "cell_type": "markdown",
      "source": [
        "**Reduce :**"
      ],
      "metadata": {
        "id": "BhMYmou5BUAk"
      }
    },
    {
      "cell_type": "markdown",
      "source": [
        "1. What is the `reduce()` function in Python, and what module should you import to use it? Provide an example of its basic usage."
      ],
      "metadata": {
        "id": "xHNjzRcNBXQ1"
      }
    },
    {
      "cell_type": "markdown",
      "source": [
        "The `reduce()` function in Python is used to apply a function cumulatively to the items of an iterable, from left to right, so as to reduce the iterable to a single value. This function is particularly useful for operations where you need to aggregate or combine all elements of an iterable into one result.\n",
        "\n",
        "### Module to Import\n",
        "The `reduce()` function is not built into the core Python language but is available in the `functools` module. To use `reduce()`, you need to import it from `functools`:\n",
        "\n",
        "```python\n",
        "from functools import reduce\n",
        "```\n",
        "\n",
        "### Basic Usage\n",
        "To use `reduce()`, you need to pass it a function and an iterable. The function should take two arguments and return a single value. `reduce()` applies this function cumulatively to the items of the iterable.\n",
        "\n",
        "### Example\n",
        "Here's a simple example where `reduce()` is used to compute the product of all numbers in a list:\n",
        "\n",
        "```python\n",
        "from functools import reduce\n",
        "\n",
        "# Define a function to multiply two numbers\n",
        "def multiply(x, y):\n",
        "    return x * y\n",
        "\n",
        "# List of numbers\n",
        "numbers = [1, 2, 3, 4, 5]\n",
        "\n",
        "# Use reduce() to apply the multiply function cumulatively\n",
        "result = reduce(multiply, numbers)\n",
        "\n",
        "print(f\"Product of all numbers: {result}\")\n",
        "```\n",
        "\n",
        "### Explanation:\n",
        "1. **Function:** `multiply(x, y)` takes two arguments and returns their product.\n",
        "2. **List:** `numbers` is a list of integers to be processed.\n",
        "3. **`reduce()` Usage:** `reduce(multiply, numbers)` applies the `multiply` function cumulatively:\n",
        "   - It first applies `multiply(1, 2)`, which gives `2`.\n",
        "   - Then it applies `multiply(2, 3)`, which gives `6`.\n",
        "   - Then `multiply(6, 4)`, which gives `24`.\n",
        "   - Finally `multiply(24, 5)`, which gives `120`.\n",
        "4. **Result:** The result of reducing the list to a single product value is `120`.\n",
        "\n",
        "### Output:\n",
        "```\n",
        "Product of all numbers: 120\n",
        "```\n",
        "\n",
        "This example demonstrates how `reduce()` can be used to perform an accumulation operation, such as computing the product of a list of numbers. The key is to define a function that can be used to combine two elements, and `reduce()` will handle the process of combining all elements of the iterable."
      ],
      "metadata": {
        "id": "gatprPs0Bnc4"
      }
    },
    {
      "cell_type": "markdown",
      "source": [
        "2. Write a Python program that uses the `reduce()` function to find the product of all elements in a list."
      ],
      "metadata": {
        "id": "Awx9eEkZBgVU"
      }
    },
    {
      "cell_type": "code",
      "source": [
        "import functools\n",
        "\n",
        "# Define a list of numbers\n",
        "numbers = [1, 2, 3, 4, 5]\n",
        "\n",
        "# Use the reduce() function to find the product of all elements\n",
        "product = functools.reduce(lambda x, y: x * y, numbers)\n",
        "\n",
        "# Print the product\n",
        "print(product)  # Output: 120"
      ],
      "metadata": {
        "colab": {
          "base_uri": "https://localhost:8080/"
        },
        "id": "cdoo_JnaBhrV",
        "outputId": "29c5222a-db8e-4699-ce3a-79a4eebb015a"
      },
      "execution_count": null,
      "outputs": [
        {
          "output_type": "stream",
          "name": "stdout",
          "text": [
            "120\n"
          ]
        }
      ]
    },
    {
      "cell_type": "markdown",
      "source": [
        "3. Create a Python program that uses `reduce()` to find the maximum element in a list of numbers."
      ],
      "metadata": {
        "id": "OTdlyEywBrJP"
      }
    },
    {
      "cell_type": "code",
      "source": [
        "import functools\n",
        "\n",
        "# Define a list of numbers\n",
        "numbers = [3, 1, 4, 1, 5, 9, 2, 6]\n",
        "\n",
        "# Use the reduce() function to find the maximum element\n",
        "max_element = functools.reduce(lambda x, y: x if x > y else y, numbers)\n",
        "\n",
        "# Print the maximum element\n",
        "print(max_element)  # Output: 9"
      ],
      "metadata": {
        "colab": {
          "base_uri": "https://localhost:8080/"
        },
        "id": "EMl6gF3CBR5r",
        "outputId": "1cc39254-8644-4939-d2eb-d6a89e527421"
      },
      "execution_count": null,
      "outputs": [
        {
          "output_type": "stream",
          "name": "stdout",
          "text": [
            "9\n"
          ]
        }
      ]
    },
    {
      "cell_type": "markdown",
      "source": [
        "4. How can you use the `reduce()` function to concatenate a list of strings into a single string?"
      ],
      "metadata": {
        "id": "hxca7C1nBxWV"
      }
    },
    {
      "cell_type": "markdown",
      "source": [
        "You can use the `reduce()` function to concatenate a list of strings into a single string by providing a function that concatenates two strings at a time. Here’s a step-by-step guide and example of how to achieve this:\n",
        "\n",
        "### Steps:\n",
        "\n",
        "1. **Define the Concatenation Function:** Create a function that takes two strings and returns their concatenation.\n",
        "\n",
        "2. **Use `reduce()` with the Concatenation Function:** Pass the concatenation function and the list of strings to `reduce()`.\n",
        "\n",
        "3. **Get the Result:** The `reduce()` function will apply the concatenation function cumulatively to the items in the list to produce a single concatenated string.\n",
        "\n",
        "### Example Code:\n",
        "\n",
        "```python\n",
        "from functools import reduce\n",
        "\n",
        "# Define a function to concatenate two strings\n",
        "def concatenate(str1, str2):\n",
        "    return str1 + str2\n",
        "\n",
        "# List of strings to concatenate\n",
        "strings = [\"Hello\", \" \", \"world\", \"!\", \" How\", \" are\", \" you?\"]\n",
        "\n",
        "# Use reduce() to concatenate all strings in the list\n",
        "result = reduce(concatenate, strings)\n",
        "\n",
        "print(f\"Concatenated string: '{result}'\")\n",
        "```\n",
        "\n",
        "### Explanation:\n",
        "\n",
        "1. **Concatenation Function:** `concatenate(str1, str2)` takes two strings and returns their concatenation.\n",
        "2. **List of Strings:** `strings` contains the strings you want to concatenate.\n",
        "3. **`reduce()` Usage:** `reduce(concatenate, strings)` applies the `concatenate` function to the list:\n",
        "   - It first concatenates `\"Hello\"` and `\" \"`, which results in `\"Hello \"`.\n",
        "   - Then it concatenates `\"Hello \"` and `\"world\"`, which results in `\"Hello world\"`.\n",
        "   - This process continues until all strings in the list are concatenated.\n",
        "\n",
        "### Output:\n",
        "\n",
        "```\n",
        "Concatenated string: 'Hello world! How are you?'\n",
        "```\n",
        "\n",
        "In this example, `reduce()` is used to process the list of strings, combining them into one single string. This approach is handy when you need to perform an operation on elements in a sequence to reduce them to a single result."
      ],
      "metadata": {
        "id": "SVW6TmvFB5DD"
      }
    },
    {
      "cell_type": "markdown",
      "source": [
        "5. Write a Python program that calculates the factorial of a number using the `reduce()` function."
      ],
      "metadata": {
        "id": "ZZrHaRWQB5iQ"
      }
    },
    {
      "cell_type": "code",
      "source": [
        "import functools\n",
        "import operator\n",
        "\n",
        "def factorial(n):\n",
        "    # Create a list of numbers from 1 to n\n",
        "    numbers = list(range(1, n + 1))\n",
        "\n",
        "    # Use the reduce() function to calculate the factorial\n",
        "    result = functools.reduce(operator.mul, numbers)\n",
        "\n",
        "    return result\n",
        "\n",
        "# Test the function\n",
        "n = 5\n",
        "print(factorial(n))  # Output: 120"
      ],
      "metadata": {
        "colab": {
          "base_uri": "https://localhost:8080/"
        },
        "id": "4VRQ_3VHBi0w",
        "outputId": "ed797f28-4aa5-4656-d41e-fba9f1bfde7e"
      },
      "execution_count": null,
      "outputs": [
        {
          "output_type": "stream",
          "name": "stdout",
          "text": [
            "120\n"
          ]
        }
      ]
    },
    {
      "cell_type": "markdown",
      "source": [
        "6. Create a Python program that uses `reduce()` to find the GCD (Greatest Common Divisor) of a list of numbers"
      ],
      "metadata": {
        "id": "W-WYyzMPCIjv"
      }
    },
    {
      "cell_type": "code",
      "source": [
        "import functools\n",
        "import math\n",
        "\n",
        "def gcd(a, b):\n",
        "    \"\"\"Compute the greatest common divisor of a and b\"\"\"\n",
        "    while b:\n",
        "        a, b = b, a % b\n",
        "    return a\n",
        "\n",
        "def find_gcd(numbers):\n",
        "    \"\"\"Find the GCD of a list of numbers using reduce()\"\"\"\n",
        "    return functools.reduce(gcd, numbers)\n",
        "\n",
        "# Test the function\n",
        "numbers = [12, 18, 24, 30]\n",
        "print(find_gcd(numbers))  # Output: 6"
      ],
      "metadata": {
        "colab": {
          "base_uri": "https://localhost:8080/"
        },
        "id": "rtFJAL6VCAtn",
        "outputId": "c546fb24-b93b-4d02-b475-1acac15457c9"
      },
      "execution_count": null,
      "outputs": [
        {
          "output_type": "stream",
          "name": "stdout",
          "text": [
            "6\n"
          ]
        }
      ]
    },
    {
      "cell_type": "markdown",
      "source": [
        "7. Write a Python program that uses the `reduce()` function to find the sum of the digits of a given number."
      ],
      "metadata": {
        "id": "T8vSNqxMCS7R"
      }
    },
    {
      "cell_type": "code",
      "source": [
        "import functools\n",
        "import operator\n",
        "\n",
        "def sum_digits(n):\n",
        "    \"\"\"Find the sum of the digits of a number using reduce()\"\"\"\n",
        "    # Convert the number to a string to easily extract its digits\n",
        "    digits = [int(d) for d in str(n)]\n",
        "\n",
        "    # Use the reduce() function to sum the digits\n",
        "    return functools.reduce(operator.add, digits)\n",
        "\n",
        "# Test the function\n",
        "n = 12345\n",
        "print(sum_digits(n))  # Output: 15"
      ],
      "metadata": {
        "colab": {
          "base_uri": "https://localhost:8080/"
        },
        "id": "FE-v_GE0CQbR",
        "outputId": "e9cd728c-1907-4538-e70f-3bf99a65ec9c"
      },
      "execution_count": null,
      "outputs": [
        {
          "output_type": "stream",
          "name": "stdout",
          "text": [
            "15\n"
          ]
        }
      ]
    },
    {
      "cell_type": "markdown",
      "source": [
        "**Filter:**"
      ],
      "metadata": {
        "id": "xc2GXeu9CcOw"
      }
    },
    {
      "cell_type": "markdown",
      "source": [
        "1. Explain the purpose of the `filter()` function in Python and provide an example of how it can be used to filter elements from an iterable."
      ],
      "metadata": {
        "id": "rUZUBSLcChR2"
      }
    },
    {
      "cell_type": "markdown",
      "source": [
        "The `filter()` function in Python is used to filter elements from an iterable based on a specified condition. It applies a given function to each item in the iterable and returns an iterator that contains only those items for which the function returns `True`.\n",
        "\n",
        "### Purpose of `filter()`:\n",
        "- **Selective Inclusion:** `filter()` allows you to select and include only those items from an iterable that satisfy a specific condition.\n",
        "- **Data Processing:** It's useful for processing or transforming data by excluding elements that don't meet the criteria.\n",
        "\n",
        "### Syntax:\n",
        "```python\n",
        "filter(function, iterable)\n",
        "```\n",
        "- `function`: A function that takes one argument and returns either `True` or `False`. If `None`, it simply removes elements that are `False` in a Boolean context.\n",
        "- `iterable`: The iterable (e.g., list, tuple) whose elements will be filtered.\n",
        "\n",
        "### Example:\n",
        "Suppose you have a list of numbers and you want to filter out only the even numbers. Here’s how you can use `filter()` to achieve this:\n",
        "\n",
        "```python\n",
        "# Define a function to check if a number is even\n",
        "def is_even(number):\n",
        "    return number % 2 == 0\n",
        "\n",
        "# List of numbers to filter\n",
        "numbers = [1, 2, 3, 4, 5, 6, 7, 8, 9, 10]\n",
        "\n",
        "# Use filter() to apply the is_even function to each number\n",
        "even_numbers = filter(is_even, numbers)\n",
        "\n",
        "# Convert the result to a list and print it\n",
        "even_numbers_list = list(even_numbers)\n",
        "print(f\"Even numbers: {even_numbers_list}\")\n",
        "```\n",
        "\n",
        "### Explanation:\n",
        "1. **Function:** `is_even(number)` checks if a number is even (i.e., divisible by 2 with no remainder).\n",
        "2. **List of Numbers:** `numbers` is a list of integers.\n",
        "3. **`filter()` Usage:** `filter(is_even, numbers)` applies the `is_even` function to each element in the `numbers` list. Only those numbers for which `is_even` returns `True` are included in the result.\n",
        "4. **Convert to List:** Convert the filtered result to a list using `list()` and print it.\n",
        "\n",
        "### Output:\n",
        "```\n",
        "Even numbers: [2, 4, 6, 8, 10]\n",
        "```\n",
        "\n",
        "### Notes:\n",
        "- The function passed to `filter()` should return a Boolean value (`True` or `False`). If you pass `None` instead of a function, `filter()` will remove elements that are considered `False` in a Boolean context (e.g., `None`, `0`, `False`, `[]`).\n",
        "- `filter()` returns an iterator, so you often need to convert it to a list or another collection type to view or use the results.\n",
        "\n",
        "Using `filter()` is an efficient way to selectively process elements of an iterable based on specific criteria."
      ],
      "metadata": {
        "id": "eoi-U6dgDd7o"
      }
    },
    {
      "cell_type": "markdown",
      "source": [
        "2. Write a Python program that uses the `filter()` function to select even numbers from a list of integers."
      ],
      "metadata": {
        "id": "Bra9QLGCCndB"
      }
    },
    {
      "cell_type": "code",
      "source": [
        "def select_even_numbers(numbers):\n",
        "    \"\"\"Select even numbers from a list of integers using filter()\"\"\"\n",
        "    # Use the filter() function to select even numbers\n",
        "    even_numbers = list(filter(lambda x: x % 2 == 0, numbers))\n",
        "    return even_numbers\n",
        "\n",
        "# Test the function\n",
        "numbers = [1, 2, 3, 4, 5, 6, 7, 8, 9, 10]\n",
        "print(select_even_numbers(numbers))  # Output: [2, 4, 6, 8, 10]"
      ],
      "metadata": {
        "colab": {
          "base_uri": "https://localhost:8080/"
        },
        "id": "9bDqdnKTConO",
        "outputId": "af2fadbe-4aae-4057-882f-3dc662600de7"
      },
      "execution_count": null,
      "outputs": [
        {
          "output_type": "stream",
          "name": "stdout",
          "text": [
            "[2, 4, 6, 8, 10]\n"
          ]
        }
      ]
    },
    {
      "cell_type": "markdown",
      "source": [
        "3. Create a Python program that uses the `filter()` function to select names that start with a specific letter from a list of strings."
      ],
      "metadata": {
        "id": "AAJyjkSbCuQb"
      }
    },
    {
      "cell_type": "code",
      "source": [
        "def select_names_starting_with(names, letter):\n",
        "    \"\"\"Select names that start with a specific letter from a list of strings using filter()\"\"\"\n",
        "    # Use the filter() function to select names that start with the specified letter\n",
        "    selected_names = list(filter(lambda x: x[0].lower() == letter.lower(), names))\n",
        "    return selected_names\n",
        "\n",
        "# Test the function\n",
        "names = [\"Alice\", \"Bob\", \"Charlie\", \"David\", \"Eve\", \"Frank\", \"George\", \"Helen\"]\n",
        "letter = \"D\"\n",
        "print(select_names_starting_with(names, letter))  # Output: [\"David\"]"
      ],
      "metadata": {
        "colab": {
          "base_uri": "https://localhost:8080/"
        },
        "id": "XSI4ZQjVCrWj",
        "outputId": "c4f8be57-d6b9-444e-f285-0c773a8cd004"
      },
      "execution_count": null,
      "outputs": [
        {
          "output_type": "stream",
          "name": "stdout",
          "text": [
            "['David']\n"
          ]
        }
      ]
    },
    {
      "cell_type": "markdown",
      "source": [
        "4. Write a Python program that uses the `filter()` function to select prime numbers from a list of integers."
      ],
      "metadata": {
        "id": "TWWdEQimC2mc"
      }
    },
    {
      "cell_type": "code",
      "source": [
        "def is_prime(n):\n",
        "    \"\"\"Check if a number is prime\"\"\"\n",
        "    if n <= 1:\n",
        "        return False\n",
        "    for i in range(2, int(n ** 0.5) + 1):\n",
        "        if n % i == 0:\n",
        "            return False\n",
        "    return True\n",
        "\n",
        "def select_prime_numbers(numbers):\n",
        "    \"\"\"Select prime numbers from a list of integers using filter()\"\"\"\n",
        "    # Use the filter() function to select prime numbers\n",
        "    prime_numbers = list(filter(is_prime, numbers))\n",
        "    return prime_numbers\n",
        "\n",
        "# Test the function\n",
        "numbers = [1, 2, 3, 4, 5, 6, 7, 8, 9, 10, 11, 12]\n",
        "print(select_prime_numbers(numbers))  # Output: [2, 3, 5, 7, 11]"
      ],
      "metadata": {
        "colab": {
          "base_uri": "https://localhost:8080/"
        },
        "id": "9f30L8YCCzaf",
        "outputId": "642aa6d8-db18-4f50-a7d2-465b7bc120a1"
      },
      "execution_count": null,
      "outputs": [
        {
          "output_type": "stream",
          "name": "stdout",
          "text": [
            "[2, 3, 5, 7, 11]\n"
          ]
        }
      ]
    },
    {
      "cell_type": "markdown",
      "source": [
        "5. How can you use the `filter()` function to remove None values from a list in Python?"
      ],
      "metadata": {
        "id": "577QBJTUDDxM"
      }
    },
    {
      "cell_type": "markdown",
      "source": [
        "You can use the `filter()` function to remove `None` values from a list by passing a function that returns `True` for non-`None` values and `False` for `None` values. In this case, you can use `None` as the function argument for `filter()`, which will automatically filter out elements that are `None` (or any falsy value).\n",
        "\n",
        "### Example:\n",
        "\n",
        "Here's how you can use `filter()` to remove `None` values from a list:\n",
        "\n",
        "```python\n",
        "# List with some None values\n",
        "values = [1, None, 2, None, 3, None, 4]\n",
        "\n",
        "# Use filter() with None to remove None values\n",
        "filtered_values = filter(None, values)\n",
        "\n",
        "# Convert the result to a list and print it\n",
        "filtered_values_list = list(filtered_values)\n",
        "print(f\"List without None values: {filtered_values_list}\")\n",
        "```\n",
        "\n",
        "### Explanation:\n",
        "1. **List with `None` Values:** `values` is a list containing some `None` values interspersed with integers.\n",
        "2. **`filter()` Usage:** `filter(None, values)` uses `None` as the function argument, which means it will filter out all falsy values (including `None`, `0`, `False`, and `''`). In this case, since we only want to remove `None`, this approach works well.\n",
        "3. **Convert to List:** Convert the filtered result to a list using `list()` to get the final output.\n",
        "\n",
        "### Output:\n",
        "```\n",
        "List without None values: [1, 2, 3, 4]\n",
        "```\n",
        "\n",
        "### Alternative Approach:\n",
        "If you want to be explicit and only remove `None` values (and not other falsy values), you can use a lambda function:\n",
        "\n",
        "```python\n",
        "# List with some None values\n",
        "values = [1, None, 2, None, 3, None, 4]\n",
        "\n",
        "# Use filter() with a lambda function to remove only None values\n",
        "filtered_values = filter(lambda x: x is not None, values)\n",
        "\n",
        "# Convert the result to a list and print it\n",
        "filtered_values_list = list(filtered_values)\n",
        "print(f\"List without None values: {filtered_values_list}\")\n",
        "```\n",
        "\n",
        "### Explanation of Alternative Approach:\n",
        "- **Lambda Function:** `lambda x: x is not None` creates an anonymous function that returns `True` for values that are not `None` and `False` for `None` values.\n",
        "- **`filter()` Usage:** `filter(lambda x: x is not None, values)` applies this lambda function to each element, removing only `None` values.\n",
        "\n",
        "Both approaches are effective for removing `None` values from a list, with the lambda function providing more specific control if needed."
      ],
      "metadata": {
        "id": "hOHFjlqxD5JT"
      }
    },
    {
      "cell_type": "markdown",
      "source": [
        "6. Create a Python program that uses `filter()` to select words longer than a certain length from a list of strings."
      ],
      "metadata": {
        "id": "FwZYCK4IDEDL"
      }
    },
    {
      "cell_type": "code",
      "source": [
        "def select_words_longer_than(words, min_length):\n",
        "    \"\"\"Select words longer than a certain length from a list of strings using filter()\"\"\"\n",
        "    # Use the filter() function to select words longer than the specified length\n",
        "    long_words = list(filter(lambda x: len(x) > min_length, words))\n",
        "    return long_words\n",
        "\n",
        "# Test the function\n",
        "words = [\"hello\", \"world\", \"abc\", \"def\", \"ghi\", \"jklmnop\", \"qrstuvwxyz\"]\n",
        "min_length = 5\n",
        "print(select_words_longer_than(words, min_length))  # Output: [\"jklmnop\", \"qrstuvwxyz\"]"
      ],
      "metadata": {
        "colab": {
          "base_uri": "https://localhost:8080/"
        },
        "id": "6oXG6rDRC_H0",
        "outputId": "d6d13da0-c55d-4ed7-aef7-07ada28aa4c5"
      },
      "execution_count": null,
      "outputs": [
        {
          "output_type": "stream",
          "name": "stdout",
          "text": [
            "['jklmnop', 'qrstuvwxyz']\n"
          ]
        }
      ]
    },
    {
      "cell_type": "markdown",
      "source": [
        "7. Write a Python program that uses the `filter()` function to select elements greater than a specified threshold from a list of values."
      ],
      "metadata": {
        "id": "1aBwRDIEDMgm"
      }
    },
    {
      "cell_type": "code",
      "source": [
        "def select_elements_greater_than(values, threshold):\n",
        "    \"\"\"Select elements greater than a specified threshold from a list of values using filter()\"\"\"\n",
        "    # Use the filter() function to select elements greater than the specified threshold\n",
        "    greater_values = list(filter(lambda x: x > threshold, values))\n",
        "    return greater_values\n",
        "\n",
        "# Test the function\n",
        "values = [1, 2, 3, 4, 5, 6, 7, 8, 9, 10]\n",
        "threshold = 5\n",
        "print(select_elements_greater_than(values, threshold))  # Output: [6, 7, 8, 9, 10]"
      ],
      "metadata": {
        "colab": {
          "base_uri": "https://localhost:8080/"
        },
        "id": "DXp4is1PCZ6U",
        "outputId": "e3dd6917-d3f0-408a-82cd-f3c4f06f1c80"
      },
      "execution_count": null,
      "outputs": [
        {
          "output_type": "stream",
          "name": "stdout",
          "text": [
            "[6, 7, 8, 9, 10]\n"
          ]
        }
      ]
    },
    {
      "cell_type": "markdown",
      "source": [
        "**Recursion:**"
      ],
      "metadata": {
        "id": "IQMXNojGEAjr"
      }
    },
    {
      "cell_type": "markdown",
      "source": [
        "1. Explain the concept of recursion in Python. How does it differ from iteration?"
      ],
      "metadata": {
        "id": "hf67AjY8EHco"
      }
    },
    {
      "cell_type": "markdown",
      "source": [
        "I'd be glad to explain recursion in Python, along with its distinction from iteration:\n",
        "\n",
        "**Recursion in Python:**\n",
        "\n",
        "- **Definition:** Recursion is a programming technique where a function calls itself directly or indirectly.\n",
        "- **How it works:**\n",
        "    - A function calls itself with a smaller input.\n",
        "    - This process continues until a base case is reached, where the function doesn't call itself anymore.\n",
        "    - The results from the smaller calls are combined to produce the final result.\n",
        "- **Example:**\n",
        "    ```python\n",
        "    def factorial(n):\n",
        "        if n == 0:\n",
        "            return 1\n",
        "        else:\n",
        "            return n * factorial(n-1)\n",
        "    ```\n",
        "    In this example, `factorial(n)` calls itself with `n-1` until `n` becomes 0. The base case is `n == 0`, where the function returns 1. The results from the smaller calls are multiplied together to get the factorial of `n`.\n",
        "\n",
        "**Iteration in Python:**\n",
        "\n",
        "- **Definition:** Iteration is a programming technique that involves repeatedly executing a block of code until a certain condition is met.\n",
        "- **How it works:**\n",
        "    - A loop (e.g., `for` or `while`) is used to control the repetition.\n",
        "    - The loop body is executed multiple times, with the loop variable changing its value in each iteration.\n",
        "- **Example:**\n",
        "    ```python\n",
        "    def factorial(n):\n",
        "        result = 1\n",
        "        for i in range(1, n+1):\n",
        "            result *= i\n",
        "        return result\n",
        "    ```\n",
        "    In this example, a `for` loop iterates from 1 to `n`, multiplying `result` by `i` in each iteration. The final value of `result` is returned as the factorial of `n`.\n",
        "\n",
        "**Key Differences:**\n",
        "\n",
        "- **Function calls:** Recursion involves function calls, while iteration uses loops.\n",
        "- **Base case:** Recursion requires a base case to terminate the function calls, while iteration uses a loop condition to determine when to stop.\n",
        "- **Stack usage:** Recursion often uses more memory due to the function call stack, while iteration generally uses less memory.\n",
        "- **Readability:** Iteration is often considered more readable for simple problems, while recursion can be more concise for certain algorithms.\n",
        "\n",
        "**Choosing between Recursion and Iteration:**\n",
        "\n",
        "- **Tail recursion:** If the recursive call is the last operation in the function, it can be optimized by the compiler into iteration to avoid stack overflow.\n",
        "- **Clarity:** Choose the method that is more understandable for your specific problem and target audience.\n",
        "- **Performance:** Consider the performance implications, especially for large inputs or deep recursion, as excessive function calls can lead to stack overflows or performance bottlenecks.\n",
        "\n",
        "In conclusion, both recursion and iteration are powerful tools for solving problems in Python. The choice between them depends on the nature of the problem, the desired level of readability, and the performance considerations.\n"
      ],
      "metadata": {
        "id": "3pYKd0rkEQ8d"
      }
    },
    {
      "cell_type": "markdown",
      "source": [
        "2. Write a Python program to calculate the factorial of a number using recursion."
      ],
      "metadata": {
        "id": "tWKZBJ17Ea_g"
      }
    },
    {
      "cell_type": "code",
      "source": [
        "def factorial(n):\n",
        "    \"\"\"Calculate the factorial of a number using recursion\"\"\"\n",
        "    # Base case: 0! = 1\n",
        "    if n == 0:\n",
        "        return 1\n",
        "    # Recursive case: n! = n * (n-1)!\n",
        "    else:\n",
        "        return n * factorial(n-1)\n",
        "\n",
        "# Test the function\n",
        "num = 5\n",
        "print(factorial(num))  # Output: 120"
      ],
      "metadata": {
        "colab": {
          "base_uri": "https://localhost:8080/"
        },
        "id": "5X-RsfHaDQwh",
        "outputId": "66230508-c971-45d4-bd01-7bdfc8e02acf"
      },
      "execution_count": null,
      "outputs": [
        {
          "output_type": "stream",
          "name": "stdout",
          "text": [
            "120\n"
          ]
        }
      ]
    },
    {
      "cell_type": "markdown",
      "source": [
        "3. Create a recursive Python function to find the nth Fibonacci number."
      ],
      "metadata": {
        "id": "XsrVfgUHEkUS"
      }
    },
    {
      "cell_type": "code",
      "source": [
        "def fibonacci(n):\n",
        "    \"\"\"Find the nth Fibonacci number using recursion\"\"\"\n",
        "    # Base cases: F(0) = 0, F(1) = 1\n",
        "    if n == 0:\n",
        "        return 0\n",
        "    elif n == 1:\n",
        "        return 1\n",
        "    # Recursive case: F(n) = F(n-1) + F(n-2)\n",
        "    else:\n",
        "        return fibonacci(n-1) + fibonacci(n-2)\n",
        "\n",
        "# Test the function\n",
        "n = 10\n",
        "print(fibonacci(n))  # Output: 55"
      ],
      "metadata": {
        "colab": {
          "base_uri": "https://localhost:8080/"
        },
        "id": "aGjgLwsODIAV",
        "outputId": "96867f0f-4239-4667-fff0-aa983eaf291b"
      },
      "execution_count": null,
      "outputs": [
        {
          "output_type": "stream",
          "name": "stdout",
          "text": [
            "55\n"
          ]
        }
      ]
    },
    {
      "cell_type": "markdown",
      "source": [
        "4. Write a recursive Python function to calculate the sum of all elements in a list."
      ],
      "metadata": {
        "id": "YdwyRzK9Eq1l"
      }
    },
    {
      "cell_type": "code",
      "source": [
        "def recursive_sum(lst):\n",
        "    \"\"\"Calculate the sum of all elements in a list using recursion\"\"\"\n",
        "    # Base case: if the list is empty, return 0\n",
        "    if len(lst) == 0:\n",
        "        return 0\n",
        "    # Recursive case: add the first element to the sum of the rest of the list\n",
        "    else:\n",
        "        return lst[0] + recursive_sum(lst[1:])\n",
        "\n",
        "# Test the function\n",
        "my_list = [1, 2, 3, 4, 5]\n",
        "print(recursive_sum(my_list))  # Output: 15"
      ],
      "metadata": {
        "colab": {
          "base_uri": "https://localhost:8080/"
        },
        "id": "i7H-LYVBEnie",
        "outputId": "7b1a4f43-4aa3-43c8-d1f2-25ed71b05b28"
      },
      "execution_count": null,
      "outputs": [
        {
          "output_type": "stream",
          "name": "stdout",
          "text": [
            "15\n"
          ]
        }
      ]
    },
    {
      "cell_type": "markdown",
      "source": [
        "5. How can you prevent a recursive function from running indefinitely, causing a stack overflow error?"
      ],
      "metadata": {
        "id": "uSr4PmZfE3IA"
      }
    },
    {
      "cell_type": "markdown",
      "source": [
        "**Preventing Infinite Recursion and Stack Overflow in Python**\n",
        "\n",
        "To avoid infinite recursion and the subsequent stack overflow error, ensure your recursive function has a **well-defined base case** and **progresses towards that base case** in each recursive call.\n",
        "\n",
        "Here are some key strategies to prevent infinite recursion:\n",
        "\n",
        "1. **Clear Base Case:**\n",
        "   - Define a clear and unambiguous base case that terminates the recursion.\n",
        "   - Ensure the function returns a value or performs a specific action when the base case is reached.\n",
        "\n",
        "2. **Progress Towards Base Case:**\n",
        "   - In each recursive call, modify the input in a way that brings it closer to the base case.\n",
        "   - This ensures that the recursion eventually terminates.\n",
        "\n",
        "3. **Check for Invalid Inputs:**\n",
        "   - Before making a recursive call, check for invalid input values that might lead to infinite recursion.\n",
        "   - Handle invalid inputs gracefully, perhaps by raising an exception or returning a default value.\n",
        "\n",
        "4. **Tail Call Optimization:**\n",
        "   - In some Python implementations, tail call optimization can help prevent stack overflow by converting tail-recursive functions into iterative ones. This optimization, however, is not guaranteed to be available in all Python environments.\n",
        "\n",
        "**Example:**\n",
        "\n",
        "```python\n",
        "def factorial(n):\n",
        "    if n == 0:  # Base case\n",
        "        return 1\n",
        "    else:\n",
        "        return n * factorial(n - 1)  # Progress towards base case\n",
        "```\n",
        "\n",
        "In this example:\n",
        "- The base case is `n == 0`, which terminates the recursion.\n",
        "- In each recursive call, `n` is decremented, bringing it closer to the base case.\n",
        "\n",
        "**Additional Tips:**\n",
        "\n",
        "- **Use a debugger:** If you suspect infinite recursion, use a debugger to step through the code and examine the function calls and variable values.\n",
        "- **Write clear and concise code:** Well-structured code is easier to understand and debug, reducing the risk of accidental infinite recursion.\n",
        "- **Test thoroughly:** Test your recursive functions with a variety of input values to ensure they behave as expected and don't lead to infinite recursion.\n",
        "\n",
        "By following these guidelines, you can effectively prevent infinite recursion and stack overflow errors in your Python programs.\n"
      ],
      "metadata": {
        "id": "lzFO6AGUE5Fe"
      }
    },
    {
      "cell_type": "markdown",
      "source": [
        "6. Create a recursive Python function to find the greatest common divisor (GCD) of two numbers using the Euclidean algorithm."
      ],
      "metadata": {
        "id": "5MamYZozE8n_"
      }
    },
    {
      "cell_type": "code",
      "source": [
        "def gcd(a, b):\n",
        "    \"\"\"Find the greatest common divisor (GCD) of two numbers using the Euclidean algorithm and recursion\"\"\"\n",
        "    # Base case: if b is 0, the GCD is a\n",
        "    if b == 0:\n",
        "        return a\n",
        "    # Recursive case: GCD(a, b) = GCD(b, a % b)\n",
        "    else:\n",
        "        return gcd(b, a % b)\n",
        "\n",
        "# Test the function\n",
        "a = 48\n",
        "b = 18\n",
        "print(gcd(a, b))  # Output: 6"
      ],
      "metadata": {
        "colab": {
          "base_uri": "https://localhost:8080/"
        },
        "id": "9rxCOQCVExWH",
        "outputId": "58c3f499-cdcc-46a6-83f9-a710397eaa29"
      },
      "execution_count": null,
      "outputs": [
        {
          "output_type": "stream",
          "name": "stdout",
          "text": [
            "6\n"
          ]
        }
      ]
    },
    {
      "cell_type": "markdown",
      "source": [
        "7. Write a recursive Python function to reverse a string."
      ],
      "metadata": {
        "id": "bbdESA_XFN5G"
      }
    },
    {
      "cell_type": "code",
      "source": [
        "def reverse_string(s):\n",
        "    \"\"\"Reverse a string using recursion\"\"\"\n",
        "    # Base case: if the string is empty or has only one character, return the string itself\n",
        "    if len(s) <= 1:\n",
        "        return s\n",
        "    # Recursive case: reverse the rest of the string and add the first character to the end\n",
        "    else:\n",
        "        return reverse_string(s[1:]) + s[0]\n",
        "\n",
        "# Test the function\n",
        "my_string = \"hello\"\n",
        "print(reverse_string(my_string))  # Output: \"olleh\""
      ],
      "metadata": {
        "colab": {
          "base_uri": "https://localhost:8080/"
        },
        "id": "nowbjzPwFKzd",
        "outputId": "d3f2db2b-0bba-40f3-a89b-c910123a5d54"
      },
      "execution_count": null,
      "outputs": [
        {
          "output_type": "stream",
          "name": "stdout",
          "text": [
            "olleh\n"
          ]
        }
      ]
    },
    {
      "cell_type": "markdown",
      "source": [
        "8. Create a recursive Python function to calculate the power of a number (x^n)."
      ],
      "metadata": {
        "id": "ODl2bP0iFW2l"
      }
    },
    {
      "cell_type": "code",
      "source": [
        "def power(x, n):\n",
        "    \"\"\"Calculate the power of a number (x^n) using recursion\"\"\"\n",
        "    # Base case: if n is 0, return 1 (any number to the power of 0 is 1)\n",
        "    if n == 0:\n",
        "        return 1\n",
        "    # Recursive case: x^n = x * x^(n-1)\n",
        "    else:\n",
        "        return x * power(x, n-1)\n",
        "\n",
        "# Test the function\n",
        "x = 2\n",
        "n = 3\n",
        "print(power(x, n))  # Output: 8"
      ],
      "metadata": {
        "colab": {
          "base_uri": "https://localhost:8080/"
        },
        "id": "y1JzoVmRFTfU",
        "outputId": "377c12bf-4baa-43d8-d551-f84be643c546"
      },
      "execution_count": null,
      "outputs": [
        {
          "output_type": "stream",
          "name": "stdout",
          "text": [
            "8\n"
          ]
        }
      ]
    },
    {
      "cell_type": "markdown",
      "source": [
        "9. Write a recursive Python function to find all permutations of a given string."
      ],
      "metadata": {
        "id": "UHcFe2jhFfNl"
      }
    },
    {
      "cell_type": "code",
      "source": [
        "def permutations(s):\n",
        "    \"\"\"Find all permutations of a given string using recursion\"\"\"\n",
        "    # Base case: if the string is empty or has only one character, return a list with the string itself\n",
        "    if len(s) <= 1:\n",
        "        return [s]\n",
        "    # Recursive case: generate permutations for each character in the string\n",
        "    else:\n",
        "        result = []\n",
        "        for i, c in enumerate(s):\n",
        "            rest = s[:i] + s[i+1:]\n",
        "            for p in permutations(rest):\n",
        "                result.append(c + p)\n",
        "        return result\n",
        "\n",
        "# Test the function\n",
        "my_string = \"abc\"\n",
        "print(permutations(my_string))  # Output: ['abc', 'acb', 'bac', 'bca', 'cab', 'cba']"
      ],
      "metadata": {
        "colab": {
          "base_uri": "https://localhost:8080/"
        },
        "id": "_pohkGdkFaR4",
        "outputId": "1cbe627d-916d-4d4e-b5c5-0cd92b9571e4"
      },
      "execution_count": null,
      "outputs": [
        {
          "output_type": "stream",
          "name": "stdout",
          "text": [
            "['abc', 'acb', 'bac', 'bca', 'cab', 'cba']\n"
          ]
        }
      ]
    },
    {
      "cell_type": "markdown",
      "source": [
        "10. Write a recursive Python function to check if a string is a palindrome."
      ],
      "metadata": {
        "id": "wfFTL92GFknt"
      }
    },
    {
      "cell_type": "code",
      "source": [
        "def is_palindrome(s):\n",
        "    \"\"\"Check if a string is a palindrome using recursion\"\"\"\n",
        "    # Base case: if the string is empty or has only one character, it is a palindrome\n",
        "    if len(s) <= 1:\n",
        "        return True\n",
        "    # Recursive case: check if the first and last characters match, and recursively check the rest of the string\n",
        "    else:\n",
        "        if s[0] != s[-1]:\n",
        "            return False\n",
        "        else:\n",
        "            return is_palindrome(s[1:-1])\n",
        "\n",
        "# Test the function\n",
        "my_string = \"madam\"\n",
        "print(is_palindrome(my_string))  # Output: True\n",
        "\n",
        "my_string = \"hello\"\n",
        "print(is_palindrome(my_string))  # Output: False"
      ],
      "metadata": {
        "colab": {
          "base_uri": "https://localhost:8080/"
        },
        "id": "2bnsZRYIFhlX",
        "outputId": "60d2556e-da1e-4c50-ad43-fb480817e555"
      },
      "execution_count": null,
      "outputs": [
        {
          "output_type": "stream",
          "name": "stdout",
          "text": [
            "True\n",
            "False\n"
          ]
        }
      ]
    },
    {
      "cell_type": "markdown",
      "source": [
        "11. Create a recursive Python function to generate all possible combinations of a list of elements."
      ],
      "metadata": {
        "id": "8SDABfxTFr76"
      }
    },
    {
      "cell_type": "code",
      "source": [
        "def combinations(elements):\n",
        "    \"\"\"Generate all possible combinations of a list of elements using recursion\"\"\"\n",
        "    # Base case: if the list is empty, return a list with an empty list\n",
        "    if len(elements) == 0:\n",
        "        return [[]]\n",
        "    # Recursive case: generate combinations for each element in the list\n",
        "    else:\n",
        "        result = []\n",
        "        first_element = elements[0]\n",
        "        rest_elements = elements[1:]\n",
        "        for c in combinations(rest_elements):\n",
        "            result.append(c)\n",
        "            result.append([first_element] + c)\n",
        "        return result\n",
        "\n",
        "# Test the function\n",
        "my_list = [1, 2, 3]\n",
        "print(combinations(my_list))  # Output: [[], [1], [2], [1, 2], [3], [1, 3], [2, 3], [1, 2, 3]]"
      ],
      "metadata": {
        "colab": {
          "base_uri": "https://localhost:8080/"
        },
        "id": "MNAFb7r6FouE",
        "outputId": "1ca82570-71b7-4258-be09-ecbfa9a3db3f"
      },
      "execution_count": null,
      "outputs": [
        {
          "output_type": "stream",
          "name": "stdout",
          "text": [
            "[[], [1], [2], [1, 2], [3], [1, 3], [2, 3], [1, 2, 3]]\n"
          ]
        }
      ]
    },
    {
      "cell_type": "markdown",
      "source": [
        "**Basics of Functions:**"
      ],
      "metadata": {
        "id": "bIK5T2bdFx2w"
      }
    },
    {
      "cell_type": "markdown",
      "source": [
        "1. What is a function in Python, and why is it used?"
      ],
      "metadata": {
        "id": "kLjbTepqF5C7"
      }
    },
    {
      "cell_type": "markdown",
      "source": [
        "**Functions in Python**\n",
        "\n",
        "A function in Python is a block of reusable code that performs a specific task. It's a fundamental building block of Python programming that helps to organize and modularize your code.\n",
        "\n",
        "**Key components of a function:**\n",
        "\n",
        "- **Name:** A unique identifier that you choose for the function.\n",
        "- **Parameters (optional):** Values that are passed to the function when it's called.\n",
        "- **Body:** The code that the function executes.\n",
        "- **Return value (optional):** The value that the function sends back to the caller when it finishes.\n",
        "\n",
        "**Why use functions?**\n",
        "\n",
        "1. **Modularity:** Functions break down complex problems into smaller, more manageable parts.\n",
        "2. **Reusability:** Once defined, functions can be called multiple times from different parts of your code, avoiding code duplication.\n",
        "3. **Readability:** Functions make your code more readable and easier to understand by giving meaningful names to specific tasks.\n",
        "4. **Maintainability:** When changes are needed, you can modify the function's code without affecting other parts of your program.\n",
        "5. **Testing:** Functions can be tested independently, making it easier to identify and fix bugs.\n",
        "\n",
        "**Example:**\n",
        "\n",
        "```python\n",
        "def greet(name):\n",
        "    \"\"\"Greets a person with their name.\"\"\"\n",
        "    print(\"Hello, \" + name + \"!\")\n",
        "\n",
        "# Calling the function\n",
        "greet(\"Alice\")\n",
        "```\n",
        "\n",
        "In this example:\n",
        "- `greet` is the function name.\n",
        "- `name` is a parameter that receives the name to be greeted.\n",
        "- The function body prints a greeting message using the provided name.\n",
        "\n",
        "By using functions, you can write more organized, efficient, and maintainable Python code.\n"
      ],
      "metadata": {
        "id": "mZ0tF1jmF8X7"
      }
    },
    {
      "cell_type": "markdown",
      "source": [
        "2. How do you define a function in Python? Provide an example."
      ],
      "metadata": {
        "id": "NfRPmkcgF-GF"
      }
    },
    {
      "cell_type": "markdown",
      "source": [
        "**Defining a Function in Python**\n",
        "\n",
        "To define a function in Python, you use the `def` keyword followed by the function name, parentheses for parameters (if any), and a colon. The function body, which contains the code to be executed, is indented below the colon.\n",
        "\n",
        "**Syntax:**\n",
        "\n",
        "```python\n",
        "def function_name(parameter1, parameter2, ...):\n",
        "    \"\"\"Docstring: Brief description of the function\"\"\"\n",
        "    # Function body\n",
        "    # Code to be executed\n",
        "    return value  # Optional return statement\n",
        "```\n",
        "\n",
        "**Example:**\n",
        "\n",
        "```python\n",
        "def greet(name):\n",
        "    \"\"\"Greets a person with their name.\"\"\"\n",
        "    print(\"Hello, \" + name + \"!\")\n",
        "\n",
        "# Calling the function\n",
        "greet(\"Alice\")\n",
        "```\n",
        "\n",
        "In this example:\n",
        "- `greet` is the function name.\n",
        "- `name` is a parameter that receives the name to be greeted.\n",
        "- The function body prints a greeting message using the provided name.\n",
        "\n",
        "**Explanation:**\n",
        "\n",
        "- The `def` keyword indicates that a function is being defined.\n",
        "- `greet` is the chosen name for the function.\n",
        "- The parentheses `()` enclose the parameters. In this case, there's one parameter named `name`.\n",
        "- The colon `:` marks the beginning of the function body.\n",
        "- The indented code block is the function's body, which contains the instructions to be executed when the function is called.\n",
        "- The `print` statement outputs the greeting message.\n",
        "\n",
        "**Key points:**\n",
        "\n",
        "- Function names should be descriptive and follow Python's naming conventions (e.g., `snake_case`).\n",
        "- Parameters are optional. If a function doesn't need any parameters, the parentheses can be empty.\n",
        "- The `return` statement is optional. If included, it specifies the value that the function will return when it finishes executing.\n",
        "- Docstrings are optional but highly recommended. They provide a brief description of the function's purpose and usage.\n",
        "\n"
      ],
      "metadata": {
        "id": "cw0iRTJ9GIXV"
      }
    },
    {
      "cell_type": "markdown",
      "source": [
        "3. Explain the difference between a function definition and a function call."
      ],
      "metadata": {
        "id": "h6dJvFXSGPW3"
      }
    },
    {
      "cell_type": "markdown",
      "source": [
        "**Function Definition vs. Function Call**\n",
        "\n",
        "In Python, a function is a block of reusable code that performs a specific task. There are two main components to a function: the definition and the call.\n",
        "\n",
        "**Function Definition:**\n",
        "\n",
        "* **Purpose:** This is where you create the function, specifying its name, parameters, and the code it will execute.\n",
        "* **Syntax:**\n",
        "   ```python\n",
        "   def function_name(parameter1, parameter2, ...):\n",
        "       \"\"\"Docstring: Brief description of the function\"\"\"\n",
        "       # Function body\n",
        "   ```\n",
        "* **Example:**\n",
        "   ```python\n",
        "   def greet(name):\n",
        "       print(\"Hello, \" + name + \"!\")\n",
        "   ```\n",
        "* **Explanation:** This code defines a function named `greet` that takes a parameter `name` and prints a greeting message using that name.\n",
        "\n",
        "**Function Call:**\n",
        "\n",
        "* **Purpose:** This is when you invoke the function to execute its code.\n",
        "* **Syntax:**\n",
        "   ```python\n",
        "   function_name(argument1, argument2, ...)\n",
        "   ```\n",
        "* **Example:**\n",
        "   ```python\n",
        "   greet(\"Alice\")\n",
        "   ```\n",
        "* **Explanation:** This code calls the `greet` function, passing the argument `\"Alice\"` to the `name` parameter. The function will then print the greeting message: \"Hello, Alice!\".\n",
        "\n",
        "**Key Differences:**\n",
        "\n",
        "| Feature | Function Definition | Function Call |\n",
        "|---|---|---|\n",
        "| Purpose | Creates the function | Executes the function |\n",
        "| Syntax | `def function_name(...)` | `function_name(...)` |\n",
        "| Parameters | Defines the parameters | Passes arguments to the parameters |\n",
        "| Execution | Doesn't execute code | Executes the code in the function body |\n",
        "\n",
        "\n"
      ],
      "metadata": {
        "id": "FDKBYa24GWnL"
      }
    },
    {
      "cell_type": "markdown",
      "source": [
        "4. Write a Python program that defines a function to calculate the sum of two numbers and then calls the function."
      ],
      "metadata": {
        "id": "K31ocxcBGcg3"
      }
    },
    {
      "cell_type": "code",
      "source": [
        "def add_numbers(a, b):\n",
        "    \"\"\"Calculate the sum of two numbers\"\"\"\n",
        "    return a + b\n",
        "\n",
        "# Call the function with two numbers\n",
        "num1 = 5\n",
        "num2 = 3\n",
        "result = add_numbers(num1, num2)\n",
        "\n",
        "print(\"The sum of\", num1, \"and\", num2, \"is\", result)"
      ],
      "metadata": {
        "colab": {
          "base_uri": "https://localhost:8080/"
        },
        "id": "ae3ihWA6Fvum",
        "outputId": "fdbe288a-8436-4572-cb58-f4adf69c1cb4"
      },
      "execution_count": null,
      "outputs": [
        {
          "output_type": "stream",
          "name": "stdout",
          "text": [
            "The sum of 5 and 3 is 8\n"
          ]
        }
      ]
    },
    {
      "cell_type": "markdown",
      "source": [
        "5. What is a function signature, and what information does it typically include?"
      ],
      "metadata": {
        "id": "tbAw1XlPGlqI"
      }
    },
    {
      "cell_type": "markdown",
      "source": [
        "**Function Signature**\n",
        "\n",
        "A function signature in Python is a concise description of a function's characteristics. It provides essential information about the function, including its name, parameters, and return type (if applicable).\n",
        "\n",
        "**Information typically included in a function signature:**\n",
        "\n",
        "1. **Function Name:** This is the unique identifier that you use to call the function.\n",
        "2. **Parameters:** These are the variables that the function accepts as input. The signature lists the parameter names and their data types (if specified).\n",
        "3. **Return Type (Optional):** This indicates the type of value that the function returns. If the function doesn't return a value, the return type is `None`.\n",
        "\n",
        "**Example:**\n",
        "\n",
        "```python\n",
        "def greet(name: str) -> str:\n",
        "    return \"Hello, \" + name + \"!\"\n",
        "```\n",
        "\n",
        "In this example:\n",
        "\n",
        "- **Function Name:** `greet`\n",
        "- **Parameter:** `name` of type `str`\n",
        "- **Return Type:** `str`\n",
        "\n",
        "**Why is the function signature important?**\n",
        "\n",
        "* **Readability:** It provides a clear overview of the function's purpose and usage.\n",
        "* **Documentation:** It's often used in function documentation to describe the expected inputs and outputs.\n",
        "* **Type Hints (Optional):** In Python 3.5 and later, you can use type hints to specify the expected types of parameters and return values, improving code readability and maintainability.\n",
        "\n",
        "By understanding the function signature, you can more effectively use and interact with functions in your Python code.\n"
      ],
      "metadata": {
        "id": "G-WVdQpGGqDN"
      }
    },
    {
      "cell_type": "markdown",
      "source": [
        "6. Create a Python function that takes two arguments and returns their product."
      ],
      "metadata": {
        "id": "BezX0PwuGumV"
      }
    },
    {
      "cell_type": "code",
      "source": [
        "def multiply_numbers(a, b):\n",
        "    \"\"\"Return the product of two numbers\"\"\"\n",
        "    return a * b\n",
        "\n",
        "num1 = 4\n",
        "num2 = 5\n",
        "result = multiply_numbers(num1, num2)\n",
        "print(\"The product of\", num1, \"and\", num2, \"is\", result)"
      ],
      "metadata": {
        "colab": {
          "base_uri": "https://localhost:8080/"
        },
        "id": "xWAn4buaGiBE",
        "outputId": "cb183f97-733e-40b8-a9a6-d373277dd356"
      },
      "execution_count": null,
      "outputs": [
        {
          "output_type": "stream",
          "name": "stdout",
          "text": [
            "The product of 4 and 5 is 20\n"
          ]
        }
      ]
    },
    {
      "cell_type": "markdown",
      "source": [
        "**Function Parameters and Arguments:**"
      ],
      "metadata": {
        "id": "LcDvCMXtG9b6"
      }
    },
    {
      "cell_type": "markdown",
      "source": [
        "1. Explain the concepts of formal parameters and actual arguments in Python functions."
      ],
      "metadata": {
        "id": "T0DG9WhZHBYK"
      }
    },
    {
      "cell_type": "markdown",
      "source": [
        "I'd be glad to explain the concepts of formal parameters and actual arguments in Python functions:\n",
        "\n",
        "**Formal Parameters:**\n",
        "\n",
        "- **Definition:** Formal parameters are the variables listed within the parentheses of a function definition. They act as placeholders for the actual values that will be passed to the function when it's called.\n",
        "- **Purpose:** They define the expected inputs to the function and determine the structure of the function's code.\n",
        "- **Example:**\n",
        "  ```python\n",
        "  def greet(name):\n",
        "      print(\"Hello, \" + name + \"!\")\n",
        "  ```\n",
        "  In this example, `name` is a formal parameter.\n",
        "\n",
        "**Actual Arguments:**\n",
        "\n",
        "- **Definition:** Actual arguments are the values that are passed to a function when it's called. They are substituted for the formal parameters during the function's execution.\n",
        "- **Purpose:** They provide the specific data that the function will operate on.\n",
        "- **Example:**\n",
        "  ```python\n",
        "  greet(\"Alice\")\n",
        "  ```\n",
        "  In this example, `\"Alice\"` is an actual argument.\n",
        "\n",
        "**Relationship Between Formal Parameters and Actual Arguments:**\n",
        "\n",
        "- When a function is called, the actual arguments are matched with the formal parameters based on their positions.\n",
        "- The values of the actual arguments are assigned to the corresponding formal parameters within the function's body.\n",
        "- The function then executes its code using these values.\n",
        "\n",
        "**Example:**\n",
        "\n",
        "```python\n",
        "def add(x, y):\n",
        "    return x + y\n",
        "\n",
        "result = add(3, 5)  # Here, 3 and 5 are actual arguments\n",
        "print(result)  # Output: 8\n",
        "```\n",
        "\n",
        "In this example:\n",
        "\n",
        "- `x` and `y` are formal parameters in the `add` function.\n",
        "- `3` and `5` are actual arguments passed to the function when it's called.\n",
        "- The values of `3` and `5` are assigned to `x` and `y`, respectively, within the function's body.\n",
        "- The function calculates the sum and returns it.\n",
        "\n",
        "**Key Points:**\n",
        "\n",
        "- The number of actual arguments must match the number of formal parameters in a function call.\n",
        "- The data types of actual arguments should generally correspond to the expected data types of formal parameters for correct function behavior.\n",
        "- Formal parameters can be used to create more flexible and reusable functions.\n"
      ],
      "metadata": {
        "id": "dhf46LejHEXm"
      }
    },
    {
      "cell_type": "markdown",
      "source": [
        "2. Write a Python program that defines a function with default argument values."
      ],
      "metadata": {
        "id": "lzuft07hHIo7"
      }
    },
    {
      "cell_type": "code",
      "source": [
        "def greet(name, greeting=\"Hello\", punctuation=\"!\"):\n",
        "    \"\"\"Print a personalized greeting message\"\"\"\n",
        "    print(greeting + \" \" + name + punctuation)\n",
        "\n",
        "# Call the function with all arguments\n",
        "greet(\"John\", \"Hi\", \"?\")\n",
        "\n",
        "# Call the function with default greeting and punctuation\n",
        "greet(\"Jane\")\n",
        "\n",
        "# Call the function with default punctuation\n",
        "greet(\"Bob\", \"Hey\")"
      ],
      "metadata": {
        "colab": {
          "base_uri": "https://localhost:8080/"
        },
        "id": "RhUCS6HiGx2P",
        "outputId": "1da0aa13-0c6a-4792-abd8-973eddab316b"
      },
      "execution_count": null,
      "outputs": [
        {
          "output_type": "stream",
          "name": "stdout",
          "text": [
            "Hi John?\n",
            "Hello Jane!\n",
            "Hey Bob!\n"
          ]
        }
      ]
    },
    {
      "cell_type": "markdown",
      "source": [
        "3. How do you use keyword arguments in Python function calls? Provide an example."
      ],
      "metadata": {
        "id": "x5H2mE1-HbaI"
      }
    },
    {
      "cell_type": "markdown",
      "source": [
        "**Keyword Arguments in Python**\n",
        "\n",
        "Keyword arguments allow you to pass arguments to a function by specifying their names explicitly, rather than relying on their positional order. This provides more flexibility and readability, especially when dealing with functions that have many parameters.\n",
        "\n",
        "**Syntax:**\n",
        "\n",
        "```python\n",
        "function_name(keyword_argument1=value1, keyword_argument2=value2, ...)\n",
        "```\n",
        "\n",
        "**Example:**\n",
        "\n",
        "```python\n",
        "def greet(name, age):\n",
        "    print(\"Hello, \" + name + \"! You are \" + str(age) + \" years old.\")\n",
        "\n",
        "# Using keyword arguments\n",
        "greet(age=30, name=\"Alice\")\n",
        "```\n",
        "\n",
        "In this example:\n",
        "\n",
        "- `greet` is the function name.\n",
        "- `name` and `age` are formal parameters.\n",
        "- When calling the function, we use keyword arguments `age=30` and `name=\"Alice\"`. The order of these arguments doesn't matter because the Python interpreter matches them based on their names.\n",
        "\n",
        "**Benefits of Keyword Arguments:**\n",
        "\n",
        "- **Readability:** Keyword arguments make the code more self-documenting, as the names of the arguments clearly indicate their purpose.\n",
        "- **Flexibility:** You can pass arguments in any order, as long as you specify their names.\n",
        "- **Default Values:** You can define default values for parameters, and if a corresponding keyword argument is not provided, the default value will be used.\n",
        "\n",
        "**Example with Default Values:**\n",
        "\n",
        "```python\n",
        "def greet(name, age=30):\n",
        "    print(\"Hello, \" + name + \"! You are \" + str(age) + \" years old.\")\n",
        "\n",
        "# Using keyword arguments\n",
        "greet(name=\"Bob\")  # age will default to 30\n",
        "```\n",
        "\n",
        "In this example, the `age` parameter has a default value of 30. If you don't provide an `age` keyword argument, the default value will be used.\n",
        "\n",
        "**Key Points:**\n",
        "\n",
        "- You can use keyword arguments in combination with positional arguments. Positional arguments must come before keyword arguments in a function call.\n",
        "- Keyword arguments can be useful for functions with many parameters or when you want to make the code more readable and maintainable.\n"
      ],
      "metadata": {
        "id": "frpSRb_zHde_"
      }
    },
    {
      "cell_type": "markdown",
      "source": [
        "4. Create a Python function that accepts a variable number of arguments and calculates their sum."
      ],
      "metadata": {
        "id": "RSd3TXlAHlNe"
      }
    },
    {
      "cell_type": "code",
      "source": [],
      "metadata": {
        "id": "xTnCGa-_HXSP"
      },
      "execution_count": null,
      "outputs": []
    }
  ]
}