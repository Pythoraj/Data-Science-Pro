{
  "nbformat": 4,
  "nbformat_minor": 0,
  "metadata": {
    "colab": {
      "provenance": []
    },
    "kernelspec": {
      "name": "python3",
      "display_name": "Python 3"
    },
    "language_info": {
      "name": "python"
    }
  },
  "cells": [
    {
      "cell_type": "markdown",
      "source": [
        "1. Write a Python program to check if a given number is positive or negative."
      ],
      "metadata": {
        "id": "JVFYjde9eVlK"
      }
    },
    {
      "cell_type": "code",
      "execution_count": 1,
      "metadata": {
        "colab": {
          "base_uri": "https://localhost:8080/"
        },
        "id": "WPAKIjDveSQb",
        "outputId": "b292b04f-bcd6-4305-e3b2-63bdb6d6615b"
      },
      "outputs": [
        {
          "output_type": "stream",
          "name": "stdout",
          "text": [
            "Enter a number: 20\n",
            "20.0 is a positive number.\n"
          ]
        }
      ],
      "source": [
        "def check_number(num):\n",
        "    if num > 0:\n",
        "        return f\"{num} is a positive number.\"\n",
        "    elif num < 0:\n",
        "        return f\"{num} is a negative number.\"\n",
        "    else:\n",
        "        return f\"{num} is zero.\"\n",
        "\n",
        "# Get the number from the user\n",
        "num = float(input(\"Enter a number: \"))\n",
        "\n",
        "# Check the number\n",
        "result = check_number(num)\n",
        "\n",
        "# Print the result\n",
        "print(result)"
      ]
    },
    {
      "cell_type": "markdown",
      "source": [
        "2. Create a program that determines if a person is eligible to vote based on their age."
      ],
      "metadata": {
        "id": "PrK1ZeX2fNhH"
      }
    },
    {
      "cell_type": "code",
      "source": [
        "def check_eligibility(age):\n",
        "    if age >= 18:\n",
        "        return f\"You are eligible to vote.\"\n",
        "    else:\n",
        "        return f\"You are not eligible to vote. You must be at least 18 years old.\"\n",
        "\n",
        "# Get the age from the user\n",
        "age = int(input(\"Enter your age: \"))\n",
        "\n",
        "# Check the eligibility\n",
        "result = check_eligibility(age)\n",
        "\n",
        "# Print the result\n",
        "print(result)"
      ],
      "metadata": {
        "colab": {
          "base_uri": "https://localhost:8080/"
        },
        "id": "ROqAz4vCe5Z3",
        "outputId": "b1c7ffbd-8b98-4bac-fddb-ed4b09d957c0"
      },
      "execution_count": 2,
      "outputs": [
        {
          "output_type": "stream",
          "name": "stdout",
          "text": [
            "Enter your age: 33\n",
            "You are eligible to vote.\n"
          ]
        }
      ]
    },
    {
      "cell_type": "markdown",
      "source": [
        "3. Develop a program to find the maximum of two numbers using if-else statements."
      ],
      "metadata": {
        "id": "2jJ1d153fdT5"
      }
    },
    {
      "cell_type": "code",
      "source": [
        "def find_max(a, b):\n",
        "    if a > b:\n",
        "        return f\"The maximum number is {a}.\"\n",
        "    elif b > a:\n",
        "        return f\"The maximum number is {b}.\"\n",
        "    else:\n",
        "        return f\"Both numbers {a} and {b} are equal.\"\n",
        "\n",
        "# Get the numbers from the user\n",
        "num1 = float(input(\"Enter the first number: \"))\n",
        "num2 = float(input(\"Enter the second number: \"))\n",
        "\n",
        "# Find the maximum\n",
        "result = find_max(num1, num2)\n",
        "\n",
        "# Print the result\n",
        "print(result)"
      ],
      "metadata": {
        "colab": {
          "base_uri": "https://localhost:8080/"
        },
        "id": "S2dJyYVcfcue",
        "outputId": "8cd74a9b-06ff-4f32-b0be-b63dae321536"
      },
      "execution_count": 3,
      "outputs": [
        {
          "output_type": "stream",
          "name": "stdout",
          "text": [
            "Enter the first number: 30\n",
            "Enter the second number: 40\n",
            "The maximum number is 40.0.\n"
          ]
        }
      ]
    },
    {
      "cell_type": "markdown",
      "source": [
        "4. Write a Python script to classify a given year as a leap year or not."
      ],
      "metadata": {
        "id": "Gq5dO6vkfyFi"
      }
    },
    {
      "cell_type": "code",
      "source": [
        "def is_leap_year(year):\n",
        "    if year % 4 == 0:\n",
        "        if year % 100 == 0:\n",
        "            if year % 400 == 0:\n",
        "                return f\"{year} is a leap year.\"\n",
        "            else:\n",
        "                return f\"{year} is not a leap year.\"\n",
        "        else:\n",
        "            return f\"{year} is a leap year.\"\n",
        "    else:\n",
        "        return f\"{year} is not a leap year.\"\n",
        "\n",
        "# Get the year from the user\n",
        "year = int(input(\"Enter a year: \"))\n",
        "\n",
        "# Check if the year is a leap year\n",
        "result = is_leap_year(year)\n",
        "\n",
        "# Print the result\n",
        "print(result)"
      ],
      "metadata": {
        "colab": {
          "base_uri": "https://localhost:8080/"
        },
        "id": "Zb5cXrpOfsUo",
        "outputId": "4a19b9d6-defc-4f5f-95cc-75386774824d"
      },
      "execution_count": 4,
      "outputs": [
        {
          "output_type": "stream",
          "name": "stdout",
          "text": [
            "Enter a year: 2024\n",
            "2024 is a leap year.\n"
          ]
        }
      ]
    },
    {
      "cell_type": "markdown",
      "source": [
        "5. Create a program that checks whether a character is a vowel or a consonant."
      ],
      "metadata": {
        "id": "cOoKFwwWgCNv"
      }
    },
    {
      "cell_type": "code",
      "source": [
        "def check_character(char):\n",
        "    char = char.lower()  # Convert to lowercase for simplicity\n",
        "    if char.isalpha():  # Check if the character is a letter\n",
        "        if char in 'aeiou':\n",
        "            return f\"{char} is a vowel.\"\n",
        "        else:\n",
        "            return f\"{char} is a consonant.\"\n",
        "    else:\n",
        "        return f\"{char} is not a letter.\"\n",
        "\n",
        "# Get the character from the user\n",
        "char = input(\"Enter a character: \")\n",
        "\n",
        "# Check the character\n",
        "result = check_character(char)\n",
        "\n",
        "# Print the result\n",
        "print(result)"
      ],
      "metadata": {
        "colab": {
          "base_uri": "https://localhost:8080/"
        },
        "id": "lL5Laj5ff6Wu",
        "outputId": "cb5f6cdb-0931-4502-ac88-53a61654db77"
      },
      "execution_count": 6,
      "outputs": [
        {
          "output_type": "stream",
          "name": "stdout",
          "text": [
            "Enter a character: a\n",
            "a is a vowel.\n"
          ]
        }
      ]
    },
    {
      "cell_type": "markdown",
      "source": [
        "6. Implement a program to determine whether a given number is even or odd."
      ],
      "metadata": {
        "id": "DcPAHwvjgP-b"
      }
    },
    {
      "cell_type": "code",
      "source": [
        "def is_even_or_odd(num):\n",
        "    if num % 2 == 0:\n",
        "        return f\"{num} is even.\"\n",
        "    else:\n",
        "        return f\"{num} is odd.\"\n",
        "\n",
        "# Get the number from the user\n",
        "num = int(input(\"Enter a number: \"))\n",
        "\n",
        "# Check if the number is even or odd\n",
        "result = is_even_or_odd(num)\n",
        "\n",
        "# Print the result\n",
        "print(result)"
      ],
      "metadata": {
        "colab": {
          "base_uri": "https://localhost:8080/"
        },
        "id": "6kCcJXiGgGNg",
        "outputId": "dafe752f-de95-4361-c715-4c7956799a59"
      },
      "execution_count": 7,
      "outputs": [
        {
          "output_type": "stream",
          "name": "stdout",
          "text": [
            "Enter a number: 5\n",
            "5 is odd.\n"
          ]
        }
      ]
    },
    {
      "cell_type": "markdown",
      "source": [
        "7. Write a Python function to calculate the absolute value of a number without using the `abs()` function."
      ],
      "metadata": {
        "id": "gP5SEkVugaV5"
      }
    },
    {
      "cell_type": "code",
      "source": [
        "def calculate_absolute_value(num):\n",
        "    if num < 0:\n",
        "        return -num\n",
        "    else:\n",
        "        return num\n",
        "\n",
        "# Get the number from the user\n",
        "num = float(input(\"Enter a number: \"))\n",
        "\n",
        "# Calculate the absolute value\n",
        "result = calculate_absolute_value(num)\n",
        "\n",
        "# Print the result\n",
        "print(f\"The absolute value of {num} is {result}.\")"
      ],
      "metadata": {
        "colab": {
          "base_uri": "https://localhost:8080/"
        },
        "id": "MtTF5hQ0gWzp",
        "outputId": "244edb01-8393-4400-f42d-f0112774f00c"
      },
      "execution_count": 8,
      "outputs": [
        {
          "output_type": "stream",
          "name": "stdout",
          "text": [
            "Enter a number: 20\n",
            "The absolute value of 20.0 is 20.0.\n"
          ]
        }
      ]
    },
    {
      "cell_type": "markdown",
      "source": [
        "8. Develop a program that determines the largest of three given numbers using if-else statements."
      ],
      "metadata": {
        "id": "7riJvCcIgl29"
      }
    },
    {
      "cell_type": "code",
      "source": [
        "def find_largest_num(num1, num2, num3):\n",
        "    if num1 >= num2 and num1 >= num3:\n",
        "        return f\"The largest number is {num1}.\"\n",
        "    elif num2 >= num1 and num2 >= num3:\n",
        "        return f\"The largest number is {num2}.\"\n",
        "    else:\n",
        "        return f\"The largest number is {num3}.\"\n",
        "\n",
        "# Get the three numbers from the user\n",
        "num1 = float(input(\"Enter the first number: \"))\n",
        "num2 = float(input(\"Enter the second number: \"))\n",
        "num3 = float(input(\"Enter the third number: \"))\n",
        "\n",
        "# Find the largest number\n",
        "result = find_largest_num(num1, num2, num3)\n",
        "\n",
        "# Print the result\n",
        "print(result)"
      ],
      "metadata": {
        "colab": {
          "base_uri": "https://localhost:8080/"
        },
        "id": "5NCNkQ-Wgi6x",
        "outputId": "73b4db1a-85be-4317-d872-9eff99d98816"
      },
      "execution_count": 9,
      "outputs": [
        {
          "output_type": "stream",
          "name": "stdout",
          "text": [
            "Enter the first number: 10\n",
            "Enter the second number: 30\n",
            "Enter the third number: 32\n",
            "The largest number is 32.0.\n"
          ]
        }
      ]
    },
    {
      "cell_type": "markdown",
      "source": [
        "9. Create a program that checks if a given string is a palindrome."
      ],
      "metadata": {
        "id": "FIRpIB9Ugxn7"
      }
    },
    {
      "cell_type": "code",
      "source": [
        "def is_palindrome(s):\n",
        "    # Remove spaces and convert to lowercase\n",
        "    s = s.replace(\" \", \"\").lower()\n",
        "\n",
        "    # Compare the string with its reverse\n",
        "    if s == s[::-1]:\n",
        "        return f\"'{s}' is a palindrome.\"\n",
        "    else:\n",
        "        return f\"'{s}' is not a palindrome.\"\n",
        "\n",
        "# Get the string from the user\n",
        "s = input(\"Enter a string: \")\n",
        "\n",
        "# Check if the string is a palindrome\n",
        "result = is_palindrome(s)\n",
        "\n",
        "# Print the result\n",
        "print(result)"
      ],
      "metadata": {
        "colab": {
          "base_uri": "https://localhost:8080/"
        },
        "id": "LnQB7f3lgs5l",
        "outputId": "6e547738-a6b7-45b4-ec05-133df862d844"
      },
      "execution_count": 10,
      "outputs": [
        {
          "output_type": "stream",
          "name": "stdout",
          "text": [
            "Enter a string: Rajkumar Rajbhar\n",
            "'rajkumarrajbhar' is not a palindrome.\n"
          ]
        }
      ]
    },
    {
      "cell_type": "markdown",
      "source": [
        "10. Write a Python program to calculate the grade based on a student's score."
      ],
      "metadata": {
        "id": "xrjZ43chg9CU"
      }
    },
    {
      "cell_type": "code",
      "source": [
        "def calculate_grade(score):\n",
        "    if score >= 90:\n",
        "        return \"A\"\n",
        "    elif score >= 80:\n",
        "        return \"B\"\n",
        "    elif score >= 70:\n",
        "        return \"C\"\n",
        "    elif score >= 60:\n",
        "        return \"D\"\n",
        "    else:\n",
        "        return \"F\"\n",
        "\n",
        "# Get the student's score from the user\n",
        "score = float(input(\"Enter the student's score (out of 100): \"))\n",
        "\n",
        "# Calculate the grade\n",
        "grade = calculate_grade(score)\n",
        "\n",
        "# Print the result\n",
        "print(f\"The student's grade is {grade}.\")"
      ],
      "metadata": {
        "colab": {
          "base_uri": "https://localhost:8080/"
        },
        "id": "IOHVJkvFg4IL",
        "outputId": "04ed71b6-13a2-46ef-9962-1f747e914d01"
      },
      "execution_count": 11,
      "outputs": [
        {
          "output_type": "stream",
          "name": "stdout",
          "text": [
            "Enter the student's score (out of 100): 70\n",
            "The student's grade is C.\n"
          ]
        }
      ]
    },
    {
      "cell_type": "markdown",
      "source": [
        "11. Write a program to find the largest among three numbers using nested if-else statements."
      ],
      "metadata": {
        "id": "yJjRJ3xphKER"
      }
    },
    {
      "cell_type": "code",
      "source": [
        "def find_largest(a, b, c):\n",
        "    if a >= b:\n",
        "        if a >= c:\n",
        "            return a\n",
        "        else:\n",
        "            return c\n",
        "    else:\n",
        "        if b >= c:\n",
        "            return b\n",
        "        else:\n",
        "            return c\n",
        "\n",
        "# Get the three numbers from the user\n",
        "a = float(input(\"Enter the first number: \"))\n",
        "b = float(input(\"Enter the second number: \"))\n",
        "c = float(input(\"Enter the third number: \"))\n",
        "\n",
        "# Find the largest number\n",
        "largest = find_largest(a, b, c)\n",
        "\n",
        "# Print the result\n",
        "print(f\"The largest number is {largest}.\")"
      ],
      "metadata": {
        "colab": {
          "base_uri": "https://localhost:8080/"
        },
        "id": "T4z18grMhHTV",
        "outputId": "50538f3f-dbb3-43d5-c012-b94c64180a1e"
      },
      "execution_count": 12,
      "outputs": [
        {
          "output_type": "stream",
          "name": "stdout",
          "text": [
            "Enter the first number: 11\n",
            "Enter the second number: 21\n",
            "Enter the third number: 33\n",
            "The largest number is 33.0.\n"
          ]
        }
      ]
    },
    {
      "cell_type": "markdown",
      "source": [
        "12. Implement a program to determine if a triangle is equilateral, isosceles, or scalene."
      ],
      "metadata": {
        "id": "YqhFUWK5hgTZ"
      }
    },
    {
      "cell_type": "code",
      "source": [
        "def triangle_type(a, b, c):\n",
        "    if a == b == c:\n",
        "        return \"Equilateral\"\n",
        "    elif a == b or b == c or a == c:\n",
        "        return \"Isosceles\"\n",
        "    else:\n",
        "        return \"Scalene\"\n",
        "\n",
        "# Get the sides of the triangle from the user\n",
        "a = float(input(\"Enter the first side: \"))\n",
        "b = float(input(\"Enter the second side: \"))\n",
        "c = float(input(\"Enter the third side: \"))\n",
        "\n",
        "# Check if the sides form a valid triangle\n",
        "if a + b > c and a + c > b and b + c > a:\n",
        "    # Determine the type of the triangle\n",
        "    triangle = triangle_type(a, b, c)\n",
        "    print(f\"The triangle is {triangle}.\")\n",
        "else:\n",
        "    print(\"The sides do not form a valid triangle.\")"
      ],
      "metadata": {
        "colab": {
          "base_uri": "https://localhost:8080/"
        },
        "id": "xyHaWWhPhZpc",
        "outputId": "cff7d8cc-3679-4d3b-b109-b8b1b3a71d28"
      },
      "execution_count": 14,
      "outputs": [
        {
          "output_type": "stream",
          "name": "stdout",
          "text": [
            "Enter the first side: 10\n",
            "Enter the second side: 20\n",
            "Enter the third side: 24\n",
            "The triangle is Scalene.\n"
          ]
        }
      ]
    },
    {
      "cell_type": "markdown",
      "source": [
        "13. Develop a program that checks if a year is a leap year and also if it is a century year."
      ],
      "metadata": {
        "id": "1uKrUI81h2Dm"
      }
    },
    {
      "cell_type": "code",
      "source": [
        "def is_leap_year(year):\n",
        "    if year % 4 == 0:\n",
        "        if year % 100 == 0:\n",
        "            if year % 400 == 0:\n",
        "                return True\n",
        "            else:\n",
        "                return False\n",
        "        else:\n",
        "            return True\n",
        "    else:\n",
        "        return False\n",
        "\n",
        "def is_century_year(year):\n",
        "    if year % 100 == 0:\n",
        "        return True\n",
        "    else:\n",
        "        return False\n",
        "\n",
        "# Get the year from the user\n",
        "year = int(input(\"Enter a year: \"))\n",
        "\n",
        "# Check if the year is a leap year\n",
        "if is_leap_year(year):\n",
        "    print(f\"{year} is a leap year.\")\n",
        "else:\n",
        "    print(f\"{year} is not a leap year.\")\n",
        "\n",
        "# Check if the year is a century year\n",
        "if is_century_year(year):\n",
        "    print(f\"{year} is a century year.\")\n",
        "else:\n",
        "    print(f\"{year} is not a century year.\")"
      ],
      "metadata": {
        "colab": {
          "base_uri": "https://localhost:8080/"
        },
        "id": "RZnSevAOhpG8",
        "outputId": "05dd67b2-cc54-4a75-fd39-1f769c8d5e60"
      },
      "execution_count": 15,
      "outputs": [
        {
          "output_type": "stream",
          "name": "stdout",
          "text": [
            "Enter a year: 2023\n",
            "2023 is not a leap year.\n",
            "2023 is not a century year.\n"
          ]
        }
      ]
    },
    {
      "cell_type": "markdown",
      "source": [
        "14. Write a Python script to determine if a number is positive, negative, or zero."
      ],
      "metadata": {
        "id": "zVePQnzjiNN7"
      }
    },
    {
      "cell_type": "code",
      "source": [
        "def determine_number_type(num):\n",
        "    if num > 0:\n",
        "        return \"Positive\"\n",
        "    elif num < 0:\n",
        "        return \"Negative\"\n",
        "    else:\n",
        "        return \"Zero\"\n",
        "\n",
        "# Get the number from the user\n",
        "num = float(input(\"Enter a number: \"))\n",
        "\n",
        "# Determine the type of the number\n",
        "number_type = determine_number_type(num)\n",
        "\n",
        "print(f\"The number {num} is {number_type}.\")"
      ],
      "metadata": {
        "colab": {
          "base_uri": "https://localhost:8080/"
        },
        "id": "SZYQOVxTiHah",
        "outputId": "ba9c0b38-842a-44ce-f39a-b52a6b0c87db"
      },
      "execution_count": 17,
      "outputs": [
        {
          "output_type": "stream",
          "name": "stdout",
          "text": [
            "Enter a number: -9\n",
            "The number -9.0 is Negative.\n"
          ]
        }
      ]
    },
    {
      "cell_type": "markdown",
      "source": [
        "15. Create a program to check if a person is a teenager (between 13 and 19 years old)."
      ],
      "metadata": {
        "id": "FIZcyyDSiosF"
      }
    },
    {
      "cell_type": "code",
      "source": [
        "def is_teenger(age):\n",
        "    if 13 <= age <= 19:\n",
        "        return \"Yes, you are a teenager.\"\n",
        "    else:\n",
        "        return \"No, you are not a teenager.\"\n",
        "\n",
        "# Get the age from the user\n",
        "age = int(input(\"Enter your age: \"))\n",
        "\n",
        "# Check if the person is a teenager\n",
        "result = is_teenger(age)\n",
        "\n",
        "print(result)"
      ],
      "metadata": {
        "colab": {
          "base_uri": "https://localhost:8080/"
        },
        "id": "Cc8dckl4ikXZ",
        "outputId": "fa61e7e8-0813-4fb7-d3fa-9e49a4af65c0"
      },
      "execution_count": 18,
      "outputs": [
        {
          "output_type": "stream",
          "name": "stdout",
          "text": [
            "Enter your age: 33\n",
            "No, you are not a teenager.\n"
          ]
        }
      ]
    },
    {
      "cell_type": "markdown",
      "source": [
        "16. Develop a program that determines the type of angle based on its measure (acute, obtuse, or right).\n"
      ],
      "metadata": {
        "id": "1G6OZap1i2D8"
      }
    },
    {
      "cell_type": "code",
      "source": [
        "def determine_angle_type(angle_measure):\n",
        "    if 0 < angle_measure < 90:\n",
        "        return \"Acute\"\n",
        "    elif angle_measure == 90:\n",
        "        return \"Right\"\n",
        "    elif 90 < angle_measure < 180:\n",
        "        return \"Obtuse\"\n",
        "    else:\n",
        "        return \"Invalid angle measure\"\n",
        "\n",
        "# Get the angle measure from the user\n",
        "angle_measure = float(input(\"Enter the angle measure in degrees: \"))\n",
        "\n",
        "# Determine the type of angle\n",
        "angle_type = determine_angle_type(angle_measure)\n",
        "\n",
        "print(f\"The angle with measure {angle_measure} degrees is {angle_type}.\")"
      ],
      "metadata": {
        "colab": {
          "base_uri": "https://localhost:8080/"
        },
        "id": "lULO8KvuixB_",
        "outputId": "48a3b283-7286-4da7-b4f0-3c50950aee03"
      },
      "execution_count": 19,
      "outputs": [
        {
          "output_type": "stream",
          "name": "stdout",
          "text": [
            "Enter the angle measure in degrees: 40\n",
            "The angle with measure 40.0 degrees is Acute.\n"
          ]
        }
      ]
    },
    {
      "cell_type": "markdown",
      "source": [
        "17. Write a Python program to calculate the roots of a quadratic equation."
      ],
      "metadata": {
        "id": "aLWyyXk8jGDC"
      }
    },
    {
      "cell_type": "code",
      "source": [
        "# Get the coefficients of the quadratic equation from the user\n",
        "a = float(input(\"Enter coefficient a: \"))\n",
        "b = float(input(\"Enter coefficient b: \"))\n",
        "c = float(input(\"Enter coefficient c: \"))\n",
        "\n",
        "# Calculate the discriminant\n",
        "discriminant = b**2 - 4*a*c\n",
        "\n",
        "# Calculate the roots\n",
        "if discriminant > 0:\n",
        "    root1 = (-b + discriminant**0.5) / (2*a)\n",
        "    root2 = (-b - discriminant**0.5) / (2*a)\n",
        "    print(\"The roots are real and distinct: root1 = {:.2f}, root2 = {:.2f}\".format(root1, root2))\n",
        "elif discriminant == 0:\n",
        "    root = -b / (2*a)\n",
        "    print(\"The roots are real and equal: root = {:.2f}\".format(root))\n",
        "else:\n",
        "    root1_real = -b / (2*a)\n",
        "    root1_imag = (discriminant**0.5) / (2*a)\n",
        "    root2_real = -b / (2*a)\n",
        "    root2_imag = -(discriminant**0.5) / (2*a)\n",
        "    print(\"The roots are complex: root1 = {:.2f} + {:.2f}i, root2 = {:.2f} - {:.2f}i\".format(root1_real, root1_imag, root2_real, root2_imag))"
      ],
      "metadata": {
        "colab": {
          "base_uri": "https://localhost:8080/"
        },
        "id": "4AhGxhWii_Kv",
        "outputId": "8047776d-60d9-444b-87d6-ff3ddd4cca49"
      },
      "execution_count": 20,
      "outputs": [
        {
          "output_type": "stream",
          "name": "stdout",
          "text": [
            "Enter coefficient a: 2\n",
            "Enter coefficient b: 3\n",
            "Enter coefficient c: 4\n",
            "The roots are complex: root1 = -0.75 + 0.00+1.20ji, root2 = -0.75 - -0.00-1.20ji\n"
          ]
        }
      ]
    },
    {
      "cell_type": "markdown",
      "source": [
        "18. Implement a program to determine the day of the week based on a user-provided number (1 for Monday, 2\n",
        "for Tuesday, etc.)."
      ],
      "metadata": {
        "id": "mczcOHz2kaQW"
      }
    },
    {
      "cell_type": "code",
      "source": [
        "# Get the day number from the user\n",
        "day_number = int(input(\"Enter a day number (1-7): \"))\n",
        "\n",
        "# Define a dictionary to map day numbers to day names\n",
        "days = {\n",
        "    1: \"Monday\",\n",
        "    2: \"Tuesday\",\n",
        "    3: \"Wednesday\",\n",
        "    4: \"Thursday\",\n",
        "    5: \"Friday\",\n",
        "    6: \"Saturday\",\n",
        "    7: \"Sunday\"\n",
        "}\n",
        "\n",
        "# Check if the day number is valid\n",
        "if day_number in days:\n",
        "    print(\"The day of the week is:\", days[day_number])\n",
        "else:\n",
        "    print(\"Invalid day number. Please enter a number between 1 and 7.\")"
      ],
      "metadata": {
        "colab": {
          "base_uri": "https://localhost:8080/"
        },
        "id": "Gaz72YGgkQ2v",
        "outputId": "85390988-f12f-4033-f281-dc76daaa0142"
      },
      "execution_count": 21,
      "outputs": [
        {
          "output_type": "stream",
          "name": "stdout",
          "text": [
            "Enter a day number (1-7): 5\n",
            "The day of the week is: Friday\n"
          ]
        }
      ]
    },
    {
      "cell_type": "markdown",
      "source": [
        "19. Create a program that determines if a year is a leap year and also if it is evenly divisible by 400."
      ],
      "metadata": {
        "id": "O8Ud6rkckhGj"
      }
    },
    {
      "cell_type": "code",
      "source": [
        "# Get the year from the user\n",
        "year = int(input(\"Enter a year: \"))\n",
        "\n",
        "# Check if the year is a leap year\n",
        "if year % 4 == 0:\n",
        "    if year % 100 == 0:\n",
        "        if year % 400 == 0:\n",
        "            print(f\"{year} is a leap year and is evenly divisible by 400.\")\n",
        "        else:\n",
        "            print(f\"{year} is not a leap year, but it is divisible by 100.\")\n",
        "    else:\n",
        "        print(f\"{year} is a leap year, but it is not evenly divisible by 400.\")\n",
        "else:\n",
        "    print(f\"{year} is not a leap year.\")"
      ],
      "metadata": {
        "colab": {
          "base_uri": "https://localhost:8080/"
        },
        "id": "QPrZFpKskdNG",
        "outputId": "c329e68b-a82c-4b91-8590-8ee20bfae945"
      },
      "execution_count": 22,
      "outputs": [
        {
          "output_type": "stream",
          "name": "stdout",
          "text": [
            "Enter a year: 2024\n",
            "2024 is a leap year, but it is not evenly divisible by 400.\n"
          ]
        }
      ]
    },
    {
      "cell_type": "markdown",
      "source": [
        "20. Develop a program that checks if a given number is prime or not using nested if-else statements."
      ],
      "metadata": {
        "id": "sjBPsuPGkyxD"
      }
    },
    {
      "cell_type": "code",
      "source": [
        "# Get the number from the user\n",
        "num = int(input(\"Enter a number: \"))\n",
        "\n",
        "# Check if the number is less than 2\n",
        "if num < 2:\n",
        "    print(f\"{num} is not a prime number.\")\n",
        "else:\n",
        "    # Check if the number is 2\n",
        "    if num == 2:\n",
        "        print(f\"{num} is a prime number.\")\n",
        "    else:\n",
        "        # Check if the number is divisible by any number from 2 to sqrt(num)\n",
        "        for i in range(2, int(num ** 0.5) + 1):\n",
        "            if num % i == 0:\n",
        "                print(f\"{num} is not a prime number.\")\n",
        "                break\n",
        "        else:\n",
        "            print(f\"{num} is a prime number.\")"
      ],
      "metadata": {
        "colab": {
          "base_uri": "https://localhost:8080/"
        },
        "id": "xL3k48AMkuHG",
        "outputId": "b295bec0-9d9c-4e9e-c47c-6701c7b94147"
      },
      "execution_count": 24,
      "outputs": [
        {
          "output_type": "stream",
          "name": "stdout",
          "text": [
            "Enter a number: 2\n",
            "2 is a prime number.\n"
          ]
        }
      ]
    },
    {
      "cell_type": "markdown",
      "source": [
        "21. Write a Python program to assign grades based on different ranges of scores using elif statements."
      ],
      "metadata": {
        "id": "I0w9yANZk_Vn"
      }
    },
    {
      "cell_type": "code",
      "source": [
        "# Get the score from the user\n",
        "score = float(input(\"Enter a score (out of 100): \"))\n",
        "\n",
        "# Check if the score is within the valid range\n",
        "if score < 0 or score > 100:\n",
        "    print(\"Invalid score. Please enter a score between 0 and 100.\")\n",
        "else:\n",
        "    # Assign a grade based on the score\n",
        "    if score >= 90:\n",
        "        grade = \"A\"\n",
        "    elif score >= 80:\n",
        "        grade = \"B\"\n",
        "    elif score >= 70:\n",
        "        grade = \"C\"\n",
        "    elif score >= 60:\n",
        "        grade = \"D\"\n",
        "    else:\n",
        "        grade = \"F\"\n",
        "\n",
        "    print(f\"Score: {score:.2f}, Grade: {grade}\")"
      ],
      "metadata": {
        "colab": {
          "base_uri": "https://localhost:8080/"
        },
        "id": "YGV2Gc_fk39T",
        "outputId": "7c79c4b4-6c7d-4103-dffc-d2c6888e2c5c"
      },
      "execution_count": 25,
      "outputs": [
        {
          "output_type": "stream",
          "name": "stdout",
          "text": [
            "Enter a score (out of 100): 90\n",
            "Score: 90.00, Grade: A\n"
          ]
        }
      ]
    },
    {
      "cell_type": "markdown",
      "source": [
        "22. Implement a program to determine the type of a triangle based on its angles."
      ],
      "metadata": {
        "id": "EvXWxATelEv4"
      }
    },
    {
      "cell_type": "code",
      "source": [
        "# Get the angles from the user\n",
        "angle1 = float(input(\"Enter the first angle (in degrees): \"))\n",
        "angle2 = float(input(\"Enter the second angle (in degrees): \"))\n",
        "angle3 = float(input(\"Enter the third angle (in degrees): \"))\n",
        "\n",
        "# Check if the sum of the angles is 180 degrees\n",
        "if angle1 + angle2 + angle3 != 180:\n",
        "    print(\"The angles do not form a valid triangle.\")\n",
        "else:\n",
        "    # Determine the type of triangle based on its angles\n",
        "    if angle1 == 90 or angle2 == 90 or angle3 == 90:\n",
        "        print(\"The triangle is a right triangle.\")\n",
        "    elif angle1 > 90 or angle2 > 90 or angle3 > 90:\n",
        "        print(\"The triangle is an obtuse triangle.\")\n",
        "    else:\n",
        "        print(\"The triangle is an acute triangle.\")\n",
        "\n",
        "    # Check if the triangle is isosceles or equilateral\n",
        "    if angle1 == angle2 or angle2 == angle3 or angle1 == angle3:\n",
        "        if angle1 == angle2 == angle3:\n",
        "            print(\"The triangle is an equilateral triangle.\")\n",
        "        else:\n",
        "            print(\"The triangle is an isosceles triangle.\")\n",
        "    else:\n",
        "        print(\"The triangle is a scalene triangle.\")"
      ],
      "metadata": {
        "colab": {
          "base_uri": "https://localhost:8080/"
        },
        "id": "AGWBO0g-lB-O",
        "outputId": "84eb10a8-56f5-4dc7-9b3f-206275b0b1cb"
      },
      "execution_count": 30,
      "outputs": [
        {
          "output_type": "stream",
          "name": "stdout",
          "text": [
            "Enter the first angle (in degrees): 90\n",
            "Enter the second angle (in degrees): 90\n",
            "Enter the third angle (in degrees): 90\n",
            "The angles do not form a valid triangle.\n"
          ]
        }
      ]
    },
    {
      "cell_type": "markdown",
      "source": [
        "23. Develop a program to categorize a given person's BMI into underweight, normal, overweight, or obese using\n",
        "elif statements."
      ],
      "metadata": {
        "id": "9U5-fssvly6Y"
      }
    },
    {
      "cell_type": "code",
      "source": [
        "# Get the weight and height from the user\n",
        "weight = float(input(\"Enter your weight (in kg): \"))\n",
        "height = float(input(\"Enter your height (in meters): \"))\n",
        "\n",
        "# Calculate the BMI\n",
        "bmi = weight / (height ** 2)\n",
        "\n",
        "# Categorize the BMI\n",
        "if bmi < 18.5:\n",
        "    category = \"Underweight\"\n",
        "elif bmi < 25:\n",
        "    category = \"Normal\"\n",
        "elif bmi < 30:\n",
        "    category = \"Overweight\"\n",
        "else:\n",
        "    category = \"Obese\"\n",
        "\n",
        "print(f\"Your BMI is: {bmi:.2f}\")\n",
        "print(f\"Your BMI category is: {category}\")"
      ],
      "metadata": {
        "colab": {
          "base_uri": "https://localhost:8080/"
        },
        "id": "TIgZDAEHlRfO",
        "outputId": "6caf821b-d8ba-448d-a17a-237cbcf4a9df"
      },
      "execution_count": 32,
      "outputs": [
        {
          "output_type": "stream",
          "name": "stdout",
          "text": [
            "Enter your weight (in kg): 85\n",
            "Enter your height (in meters): 5.6\n",
            "Your BMI is: 2.71\n",
            "Your BMI category is: Underweight\n"
          ]
        }
      ]
    },
    {
      "cell_type": "markdown",
      "source": [
        "24. Create a program that determines whether a given number is positive, negative, or zero using elif\n",
        "statements."
      ],
      "metadata": {
        "id": "9Go9IsRwmI7m"
      }
    },
    {
      "cell_type": "code",
      "source": [
        "# Get the number from the user\n",
        "num = float(input(\"Enter a number: \"))\n",
        "\n",
        "# Determine whether the number is positive, negative, or zero\n",
        "if num > 0:\n",
        "    print(\"The number is positive.\")\n",
        "elif num < 0:\n",
        "    print(\"The number is negative.\")\n",
        "else:\n",
        "    print(\"The number is zero.\")"
      ],
      "metadata": {
        "colab": {
          "base_uri": "https://localhost:8080/"
        },
        "id": "SAEtNSLXl2Zq",
        "outputId": "111d332c-5c02-41d7-8d9f-72950ad13b73"
      },
      "execution_count": 33,
      "outputs": [
        {
          "output_type": "stream",
          "name": "stdout",
          "text": [
            "Enter a number: -1\n",
            "The number is negative.\n"
          ]
        }
      ]
    },
    {
      "cell_type": "markdown",
      "source": [
        "25. Write a Python script to determine the type of a character (uppercase, lowercase, or special) using elif\n",
        "statements."
      ],
      "metadata": {
        "id": "seDglsuXmQtN"
      }
    },
    {
      "cell_type": "code",
      "source": [
        "# Get the character from the user\n",
        "char = input(\"Enter a character: \")\n",
        "\n",
        "# Determine the type of the character\n",
        "if char.isupper():\n",
        "    print(\"The character is uppercase.\")\n",
        "elif char.islower():\n",
        "    print(\"The character is lowercase.\")\n",
        "else:\n",
        "    print(\"The character is special.\")"
      ],
      "metadata": {
        "colab": {
          "base_uri": "https://localhost:8080/"
        },
        "id": "NIzMrf4SmK_r",
        "outputId": "815ee520-3930-4ee5-dfd6-e4c5a49f7972"
      },
      "execution_count": 34,
      "outputs": [
        {
          "output_type": "stream",
          "name": "stdout",
          "text": [
            "Enter a character: w\n",
            "The character is lowercase.\n"
          ]
        }
      ]
    },
    {
      "cell_type": "markdown",
      "source": [
        "26. Implement a program to calculate the discounted price based on different purchase amounts using elif\n",
        "statements."
      ],
      "metadata": {
        "id": "LQDEOJHgmX7U"
      }
    },
    {
      "cell_type": "code",
      "source": [
        "# Get the purchase amount from the user\n",
        "amount = float(input(\"Enter the purchase amount: \"))\n",
        "\n",
        "# Calculate the discounted price based on the purchase amount\n",
        "if amount >= 1000:\n",
        "    discount = 0.1  # 10% discount for purchases above $1000\n",
        "elif amount >= 500:\n",
        "    discount = 0.05  # 5% discount for purchases between $500 and $1000\n",
        "elif amount >= 100:\n",
        "    discount = 0.02  # 2% discount for purchases between $100 and $500\n",
        "else:\n",
        "    discount = 0  # no discount for purchases below $100\n",
        "\n",
        "discounted_price = amount - (amount * discount)\n",
        "\n",
        "print(f\"The discounted price is: ${discounted_price:.2f}\")"
      ],
      "metadata": {
        "colab": {
          "base_uri": "https://localhost:8080/"
        },
        "id": "UDkLHu25mUuK",
        "outputId": "cb76faef-c474-44c5-c2a2-d38ea9664854"
      },
      "execution_count": 35,
      "outputs": [
        {
          "output_type": "stream",
          "name": "stdout",
          "text": [
            "Enter the purchase amount: 20\n",
            "The discounted price is: $20.00\n"
          ]
        }
      ]
    },
    {
      "cell_type": "markdown",
      "source": [
        "27. Develop a program to calculate the electricity bill based on different consumption slabs using elif\n",
        "statements."
      ],
      "metadata": {
        "id": "9PHHiqbLmjgp"
      }
    },
    {
      "cell_type": "code",
      "source": [
        "# Get the electricity consumption in units from the user\n",
        "units = float(input(\"Enter the electricity consumption in units: \"))\n",
        "\n",
        "# Calculate the electricity bill based on the consumption slab\n",
        "if units <= 100:\n",
        "    bill = units * 0.20  # Rs 0.20 per unit for consumption up to 100 units\n",
        "elif units <= 200:\n",
        "    bill = 100 * 0.20 + (units - 100) * 0.30  # Rs 0.20 per unit for first 100 units, Rs 0.30 per unit for next 100 units\n",
        "elif units <= 500:\n",
        "    bill = 100 * 0.20 + 100 * 0.30 + (units - 200) * 0.50  # Rs 0.20 per unit for first 100 units, Rs 0.30 per unit for next 100 units, Rs 0.50 per unit for next 200 units\n",
        "else:\n",
        "    bill = 100 * 0.20 + 100 * 0.30 + 300 * 0.50 + (units - 500) * 1.00  # Rs 0.20 per unit for first 100 units, Rs 0.30 per unit for next 100 units, Rs 0.50 per unit for next 300 units, Rs 1.00 per unit for units above 500\n",
        "\n",
        "print(f\"The electricity bill is: Rs {bill:.2f}\")"
      ],
      "metadata": {
        "colab": {
          "base_uri": "https://localhost:8080/"
        },
        "id": "vQD6HzF6mehA",
        "outputId": "33f0f070-65a4-4be6-8063-3234bde6b17e"
      },
      "execution_count": 36,
      "outputs": [
        {
          "output_type": "stream",
          "name": "stdout",
          "text": [
            "Enter the electricity consumption in units: 20\n",
            "The electricity bill is: Rs 4.00\n"
          ]
        }
      ]
    },
    {
      "cell_type": "markdown",
      "source": [
        "28. Create a program to determine the type of quadrilateral based on its angles and sides using elif\n",
        "statements."
      ],
      "metadata": {
        "id": "MOYFjM8XnMt_"
      }
    },
    {
      "cell_type": "code",
      "source": [
        "# Get the angles and sides of the quadrilateral from the user\n",
        "angle1 = float(input(\"Enter angle 1: \"))\n",
        "angle2 = float(input(\"Enter angle 2: \"))\n",
        "angle3 = float(input(\"Enter angle 3: \"))\n",
        "angle4 = float(input(\"Enter angle 4: \"))\n",
        "side1 = float(input(\"Enter side 1: \"))\n",
        "side2 = float(input(\"Enter side 2: \"))\n",
        "side3 = float(input(\"Enter side 3: \"))\n",
        "side4 = float(input(\"Enter side 4: \"))\n",
        "\n",
        "# Calculate the sum of the angles\n",
        "angle_sum = angle1 + angle2 + angle3 + angle4\n",
        "\n",
        "# Determine the type of quadrilateral based on the angles and sides\n",
        "if angle_sum == 360:\n",
        "    if side1 == side2 == side3 == side4:\n",
        "        print(\"The quadrilateral is a square.\")\n",
        "    elif side1 == side3 and side2 == side4:\n",
        "        print(\"The quadrilateral is a rectangle.\")\n",
        "    elif side1 + side2 == side3 + side4 and side1 + side3 == side2 + side4:\n",
        "        print(\"The quadrilateral is a parallelogram.\")\n",
        "    else:\n",
        "        print(\"The quadrilateral is a general quadrilateral.\")\n",
        "else:\n",
        "    print(\"The quadrilateral is not a valid quadrilateral.\")\n",
        "\n",
        "# Check for special cases\n",
        "if angle1 == angle2 == angle3 == angle4 == 90:\n",
        "    print(\"The quadrilateral is a rectangle.\")\n",
        "elif angle1 + angle2 == 180 and angle3 + angle4 == 180:\n",
        "    print(\"The quadrilateral is a parallelogram.\")"
      ],
      "metadata": {
        "colab": {
          "base_uri": "https://localhost:8080/"
        },
        "id": "1SqBlSllnIes",
        "outputId": "c563ec8d-34b8-4735-d012-e01fbbae3ca3"
      },
      "execution_count": 37,
      "outputs": [
        {
          "output_type": "stream",
          "name": "stdout",
          "text": [
            "Enter angle 1: 180\n",
            "Enter angle 2: 90\n",
            "Enter angle 3: 180\n",
            "Enter angle 4: 60\n",
            "Enter side 1: 20\n",
            "Enter side 2: 25\n",
            "Enter side 3: 30\n",
            "Enter side 4: 40\n",
            "The quadrilateral is not a valid quadrilateral.\n"
          ]
        }
      ]
    },
    {
      "cell_type": "markdown",
      "source": [
        "29. Write a Python script to determine the season based on a user-provided month using elif statements."
      ],
      "metadata": {
        "id": "tv7ceXfDnhUc"
      }
    },
    {
      "cell_type": "code",
      "source": [
        "# Get the month from the user\n",
        "month = input(\"Enter the month (1-12): \")\n",
        "\n",
        "# Determine the season based on the month\n",
        "if month == \"12\" or month == \"1\" or month == \"2\":\n",
        "    print(\"The season is Winter.\")\n",
        "elif month == \"3\" or month == \"4\" or month == \"5\":\n",
        "    print(\"The season is Spring.\")\n",
        "elif month == \"6\" or month == \"7\" or month == \"8\":\n",
        "    print(\"The season is Summer.\")\n",
        "elif month == \"9\" or month == \"10\" or month == \"11\":\n",
        "    print(\"The season is Autumn.\")\n",
        "else:\n",
        "    print(\"Invalid month. Please enter a month between 1 and 12.\")"
      ],
      "metadata": {
        "colab": {
          "base_uri": "https://localhost:8080/"
        },
        "id": "Cdo3rRPYnVtw",
        "outputId": "32376a7a-ee38-45ce-8c7c-8b01e5044876"
      },
      "execution_count": 38,
      "outputs": [
        {
          "output_type": "stream",
          "name": "stdout",
          "text": [
            "Enter the month (1-12): 10\n",
            "The season is Autumn.\n"
          ]
        }
      ]
    },
    {
      "cell_type": "markdown",
      "source": [
        "30. Implement a program to determine the type of a year (leap or common) and month (30 or 31 days) using\n",
        "elif statements."
      ],
      "metadata": {
        "id": "7oEWyVjUn0pK"
      }
    },
    {
      "cell_type": "code",
      "source": [
        "# Get the year and month from the user\n",
        "year = int(input(\"Enter the year: \"))\n",
        "month = int(input(\"Enter the month (1-12): \"))\n",
        "\n",
        "# Determine the type of year (leap or common)\n",
        "if year % 4 == 0 and (year % 100 != 0 or year % 400 == 0):\n",
        "    print(\"The year is a leap year.\")\n",
        "else:\n",
        "    print(\"The year is a common year.\")\n",
        "\n",
        "# Determine the type of month (30 or 31 days)\n",
        "if month in [1, 3, 5, 7, 8, 10, 12]:\n",
        "    print(\"The month has 31 days.\")\n",
        "elif month == 2:\n",
        "    if year % 4 == 0 and (year % 100 != 0 or year % 400 == 0):\n",
        "        print(\"The month has 29 days.\")\n",
        "    else:\n",
        "        print(\"The month has 28 days.\")\n",
        "else:\n",
        "    print(\"The month has 30 days.\")"
      ],
      "metadata": {
        "colab": {
          "base_uri": "https://localhost:8080/"
        },
        "id": "JqIOms4QnwFP",
        "outputId": "023a7d58-7116-4f4b-d1dd-37c26e2a0865"
      },
      "execution_count": 39,
      "outputs": [
        {
          "output_type": "stream",
          "name": "stdout",
          "text": [
            "Enter the year: 2024\n",
            "Enter the month (1-12): 11\n",
            "The year is a leap year.\n",
            "The month has 30 days.\n"
          ]
        }
      ]
    },
    {
      "cell_type": "markdown",
      "source": [
        "**Basic Level:**"
      ],
      "metadata": {
        "id": "oY_sP4W3oEq3"
      }
    },
    {
      "cell_type": "code",
      "source": [
        "# Get the number from the user\n",
        "num = float(input(\"Enter a number: \"))\n",
        "\n",
        "# Check if the number is positive, negative, or zero\n",
        "if num > 0:\n",
        "    print(\"The number is positive.\")\n",
        "elif num < 0:\n",
        "    print(\"The number is negative.\")\n",
        "else:\n",
        "    print(\"The number is zero.\")"
      ],
      "metadata": {
        "colab": {
          "base_uri": "https://localhost:8080/"
        },
        "id": "0vsgv3S4n7ff",
        "outputId": "f2ac1660-51dc-42be-cd20-8e5f351106ef"
      },
      "execution_count": 40,
      "outputs": [
        {
          "output_type": "stream",
          "name": "stdout",
          "text": [
            "Enter a number: 10\n",
            "The number is positive.\n"
          ]
        }
      ]
    },
    {
      "cell_type": "markdown",
      "source": [
        "2. Create a program to determine if a person is eligible to vote based on their age."
      ],
      "metadata": {
        "id": "Md867sv6oWB2"
      }
    },
    {
      "cell_type": "code",
      "source": [
        "# Get the age from the user\n",
        "age = int(input(\"Enter your age: \"))\n",
        "\n",
        "# Check if the person is eligible to vote\n",
        "if age >= 18:\n",
        "    print(\"You are eligible to vote.\")\n",
        "else:\n",
        "    print(\"You are not eligible to vote.\")"
      ],
      "metadata": {
        "colab": {
          "base_uri": "https://localhost:8080/"
        },
        "id": "vzoUhWcFoTKz",
        "outputId": "8a86464f-3736-4ba5-cf08-0596e45d61f9"
      },
      "execution_count": 41,
      "outputs": [
        {
          "output_type": "stream",
          "name": "stdout",
          "text": [
            "Enter your age: 33\n",
            "You are eligible to vote.\n"
          ]
        }
      ]
    },
    {
      "cell_type": "markdown",
      "source": [
        "3. Write a program to find the maximum of two given numbers using conditional statements."
      ],
      "metadata": {
        "id": "0SLWaja2oku0"
      }
    },
    {
      "cell_type": "code",
      "source": [
        "# Get the two numbers from the user\n",
        "num1 = float(input(\"Enter the first number: \"))\n",
        "num2 = float(input(\"Enter the second number: \"))\n",
        "\n",
        "# Check which number is maximum\n",
        "if num1 > num2:\n",
        "    print(\"The maximum number is\", num1)\n",
        "elif num2 > num1:\n",
        "    print(\"The maximum number is\", num2)\n",
        "else:\n",
        "    print(\"Both numbers are equal.\")"
      ],
      "metadata": {
        "colab": {
          "base_uri": "https://localhost:8080/"
        },
        "id": "DKg5dv-Jof1v",
        "outputId": "a82e29d8-ef15-4e37-cc11-c4dceb198224"
      },
      "execution_count": 42,
      "outputs": [
        {
          "output_type": "stream",
          "name": "stdout",
          "text": [
            "Enter the first number: 10\n",
            "Enter the second number: 20\n",
            "The maximum number is 20.0\n"
          ]
        }
      ]
    },
    {
      "cell_type": "markdown",
      "source": [
        "4. Develop a program that calculates the grade of a student based on their exam score."
      ],
      "metadata": {
        "id": "XWb7IVHvos7S"
      }
    },
    {
      "cell_type": "code",
      "source": [
        "# Get the exam score from the user\n",
        "score = float(input(\"Enter your exam score (out of 100): \"))\n",
        "\n",
        "# Determine the grade based on the score\n",
        "if score >= 90:\n",
        "    grade = \"A\"\n",
        "elif score >= 80:\n",
        "    grade = \"B\"\n",
        "elif score >= 70:\n",
        "    grade = \"C\"\n",
        "elif score >= 60:\n",
        "    grade = \"D\"\n",
        "else:\n",
        "    grade = \"F\"\n",
        "\n",
        "# Print the grade\n",
        "print(\"Your grade is\", grade)"
      ],
      "metadata": {
        "colab": {
          "base_uri": "https://localhost:8080/"
        },
        "id": "aQfQXhWvon42",
        "outputId": "4f402343-b1a5-470b-f1dd-3432c900d69b"
      },
      "execution_count": 43,
      "outputs": [
        {
          "output_type": "stream",
          "name": "stdout",
          "text": [
            "Enter your exam score (out of 100): 100\n",
            "Your grade is A\n"
          ]
        }
      ]
    },
    {
      "cell_type": "markdown",
      "source": [
        "5. Create a program that checks if a year is a leap year or not."
      ],
      "metadata": {
        "id": "nR-p-96so3km"
      }
    },
    {
      "cell_type": "code",
      "source": [
        "# Get the year from the user\n",
        "year = int(input(\"Enter a year: \"))\n",
        "\n",
        "# Check if the year is a leap year\n",
        "if year % 4 == 0:\n",
        "    if year % 100 == 0:\n",
        "        if year % 400 == 0:\n",
        "            print(year, \"is a leap year.\")\n",
        "        else:\n",
        "            print(year, \"is not a leap year.\")\n",
        "    else:\n",
        "        print(year, \"is a leap year.\")\n",
        "else:\n",
        "    print(year, \"is not a leap year.\")"
      ],
      "metadata": {
        "colab": {
          "base_uri": "https://localhost:8080/"
        },
        "id": "Oo4oy58povGG",
        "outputId": "589946c8-80a1-405f-ae15-c22eab9b2abb"
      },
      "execution_count": 44,
      "outputs": [
        {
          "output_type": "stream",
          "name": "stdout",
          "text": [
            "Enter a year: 2024\n",
            "2024 is a leap year.\n"
          ]
        }
      ]
    },
    {
      "cell_type": "markdown",
      "source": [
        "6. Write a program to classify a triangle based on its sides' lengths."
      ],
      "metadata": {
        "id": "qUmBF2xOpEed"
      }
    },
    {
      "cell_type": "code",
      "source": [
        "# Get the sides of the triangle from the user\n",
        "a = float(input(\"Enter the length of side a: \"))\n",
        "b = float(input(\"Enter the length of side b: \"))\n",
        "c = float(input(\"Enter the length of side c: \"))\n",
        "\n",
        "# Check if the sides form a valid triangle\n",
        "if a + b > c and a + c > b and b + c > a:\n",
        "    # Check if the triangle is equilateral, isosceles, or scalene\n",
        "    if a == b == c:\n",
        "        print(\"The triangle is equilateral.\")\n",
        "    elif a == b or a == c or b == c:\n",
        "        print(\"The triangle is isosceles.\")\n",
        "    else:\n",
        "        print(\"The triangle is scalene.\")\n",
        "    # Check if the triangle is right-angled, obtuse-angled, or acute-angled\n",
        "    if a**2 + b**2 == c**2 or a**2 + c**2 == b**2 or b**2 + c**2 == a**2:\n",
        "        print(\"The triangle is right-angled.\")\n",
        "    elif a**2 + b**2 < c**2 or a**2 + c**2 < b**2 or b**2 + c**2 < a**2:\n",
        "        print(\"The triangle is obtuse-angled.\")\n",
        "    else:\n",
        "        print(\"The triangle is acute-angled.\")\n",
        "else:\n",
        "    print(\"The sides do not form a valid triangle.\")"
      ],
      "metadata": {
        "colab": {
          "base_uri": "https://localhost:8080/"
        },
        "id": "1Mu-wOPmo9Y_",
        "outputId": "50ddc306-f698-4939-e442-05e41e1868bf"
      },
      "execution_count": 46,
      "outputs": [
        {
          "output_type": "stream",
          "name": "stdout",
          "text": [
            "Enter the length of side a: 20\n",
            "Enter the length of side b: 20\n",
            "Enter the length of side c: 20\n",
            "The triangle is equilateral.\n",
            "The triangle is acute-angled.\n"
          ]
        }
      ]
    },
    {
      "cell_type": "markdown",
      "source": [
        "7. Build a program that determines the largest of three given numbers."
      ],
      "metadata": {
        "id": "3_rTM7P2p-yW"
      }
    },
    {
      "cell_type": "code",
      "source": [
        "# Get the three numbers from the user\n",
        "num1 = float(input(\"Enter the first number: \"))\n",
        "num2 = float(input(\"Enter the second number: \"))\n",
        "num3 = float(input(\"Enter the third number: \"))\n",
        "\n",
        "# Determine the largest number\n",
        "if num1 >= num2 and num1 >= num3:\n",
        "    largest = num1\n",
        "elif num2 >= num1 and num2 >= num3:\n",
        "    largest = num2\n",
        "else:\n",
        "    largest = num3\n",
        "\n",
        "print(\"The largest number is\", largest)"
      ],
      "metadata": {
        "colab": {
          "base_uri": "https://localhost:8080/"
        },
        "id": "IWpmUhx2pHc1",
        "outputId": "47f96a06-a499-47de-c498-6d1769f785eb"
      },
      "execution_count": 47,
      "outputs": [
        {
          "output_type": "stream",
          "name": "stdout",
          "text": [
            "Enter the first number: 30\n",
            "Enter the second number: 40\n",
            "Enter the third number: 30\n",
            "The largest number is 40.0\n"
          ]
        }
      ]
    },
    {
      "cell_type": "markdown",
      "source": [
        "8. Develop a program that checks whether a character is a vowel or a consonant."
      ],
      "metadata": {
        "id": "2i59E1jzqHnW"
      }
    },
    {
      "cell_type": "code",
      "source": [
        "# Get the character from the user\n",
        "char = input(\"Enter a character: \")\n",
        "\n",
        "# Check if the character is a vowel or a consonant\n",
        "if char.lower() in 'aeiou':\n",
        "    print(char, \"is a vowel.\")\n",
        "else:\n",
        "    if char.isalpha():  # Check if the character is a letter\n",
        "        print(char, \"is a consonant.\")\n",
        "    else:\n",
        "        print(char, \"is not a letter.\")"
      ],
      "metadata": {
        "colab": {
          "base_uri": "https://localhost:8080/"
        },
        "id": "TldYxE-MqA0U",
        "outputId": "c10486b3-6189-470c-b633-90dcfd01c967"
      },
      "execution_count": 48,
      "outputs": [
        {
          "output_type": "stream",
          "name": "stdout",
          "text": [
            "Enter a character: d\n",
            "d is a consonant.\n"
          ]
        }
      ]
    },
    {
      "cell_type": "markdown",
      "source": [
        "9. Create a program to calculate the total cost of a shopping cart based on discounts."
      ],
      "metadata": {
        "id": "vpD2NEgZqWW7"
      }
    },
    {
      "cell_type": "code",
      "source": [
        "# Define the prices of the items in the shopping cart\n",
        "item1_price = 100.0\n",
        "item2_price = 50.0\n",
        "item3_price = 200.0\n",
        "\n",
        "# Define the discounts for each item\n",
        "item1_discount = 0.10  # 10% discount\n",
        "item2_discount = 0.20  # 20% discount\n",
        "item3_discount = 0.05  # 5% discount\n",
        "\n",
        "# Calculate the total cost of the items before discounts\n",
        "total_cost_before_discounts = item1_price + item2_price + item3_price\n",
        "\n",
        "# Calculate the total discount\n",
        "total_discount = (item1_price * item1_discount) + (item2_price * item2_discount) + (item3_price * item3_discount)\n",
        "\n",
        "# Calculate the total cost of the items after discounts\n",
        "total_cost_after_discounts = total_cost_before_discounts - total_discount\n",
        "\n",
        "print(\"Total cost before discounts: $\", total_cost_before_discounts)\n",
        "print(\"Total discount: $\", total_discount)\n",
        "print(\"Total cost after discounts: $\", total_cost_after_discounts)"
      ],
      "metadata": {
        "colab": {
          "base_uri": "https://localhost:8080/"
        },
        "id": "PilGGzVVqQxP",
        "outputId": "bca3bccc-f0b5-49ca-8581-2c147d3e3af9"
      },
      "execution_count": 49,
      "outputs": [
        {
          "output_type": "stream",
          "name": "stdout",
          "text": [
            "Total cost before discounts: $ 350.0\n",
            "Total discount: $ 30.0\n",
            "Total cost after discounts: $ 320.0\n"
          ]
        }
      ]
    },
    {
      "cell_type": "markdown",
      "source": [
        "10. Write a program that checks if a given number is even or odd."
      ],
      "metadata": {
        "id": "2PUYpeaFqcnv"
      }
    },
    {
      "cell_type": "code",
      "source": [
        "# Get the number from the user\n",
        "num = int(input(\"Enter a number: \"))\n",
        "\n",
        "# Check if the number is even or odd\n",
        "if num % 2 == 0:\n",
        "    print(num, \"is even.\")\n",
        "else:\n",
        "    print(num, \"is odd.\")"
      ],
      "metadata": {
        "colab": {
          "base_uri": "https://localhost:8080/"
        },
        "id": "deKyPK8Nqawy",
        "outputId": "ed269acc-ea23-4981-e831-fd5f9e887ffe"
      },
      "execution_count": 50,
      "outputs": [
        {
          "output_type": "stream",
          "name": "stdout",
          "text": [
            "Enter a number: 20\n",
            "20 is even.\n"
          ]
        }
      ]
    },
    {
      "cell_type": "markdown",
      "source": [
        "**Intermediate Level:**"
      ],
      "metadata": {
        "id": "oYqhtgKnqkRH"
      }
    },
    {
      "cell_type": "markdown",
      "source": [
        "11. Write a program that calculates the roots of a quadratic equation ."
      ],
      "metadata": {
        "id": "vrSax2lSqpGS"
      }
    },
    {
      "cell_type": "code",
      "source": [
        "# Get the coefficients of the quadratic equation from the user\n",
        "a = float(input(\"Enter coefficient a: \"))\n",
        "b = float(input(\"Enter coefficient b: \"))\n",
        "c = float(input(\"Enter coefficient c: \"))\n",
        "\n",
        "# Calculate the discriminant\n",
        "discriminant = b**2 - 4*a*c\n",
        "\n",
        "# Check if the discriminant is positive, negative, or zero\n",
        "if discriminant > 0:\n",
        "    # The equation has two distinct real roots\n",
        "    root1 = (-b + discriminant**0.5) / (2*a)\n",
        "    root2 = (-b - discriminant**0.5) / (2*a)\n",
        "    print(\"The equation has two distinct real roots: x1 =\", root1, \"and x2 =\", root2)\n",
        "elif discriminant == 0:\n",
        "    # The equation has one real root\n",
        "    root = -b / (2*a)\n",
        "    print(\"The equation has one real root: x =\", root)\n",
        "else:\n",
        "    # The equation has two complex roots\n",
        "    real_part = -b / (2*a)\n",
        "    imag_part = (abs(discriminant))**0.5 / (2*a)\n",
        "    print(\"The equation has two complex roots: x1 =\", real_part, \"+\", imag_part, \"i and x2 =\", real_part, \"-\", imag_part, \"i\")"
      ],
      "metadata": {
        "colab": {
          "base_uri": "https://localhost:8080/"
        },
        "id": "e-JfpHcfqhYq",
        "outputId": "417a2841-cf9a-40bd-f0f5-d4b1c525254b"
      },
      "execution_count": 51,
      "outputs": [
        {
          "output_type": "stream",
          "name": "stdout",
          "text": [
            "Enter coefficient a: 2\n",
            "Enter coefficient b: 2.4\n",
            "Enter coefficient c: 4\n",
            "The equation has two complex roots: x1 = -0.6 + 1.2806248474865698 i and x2 = -0.6 - 1.2806248474865698 i\n"
          ]
        }
      ]
    },
    {
      "cell_type": "markdown",
      "source": [
        "12. Create a program that determines the day of the week based on the day number (1-7)."
      ],
      "metadata": {
        "id": "GwPa4yp9qz_9"
      }
    },
    {
      "cell_type": "code",
      "source": [
        "# Get the day number from the user\n",
        "day_num = int(input(\"Enter a day number (1-7): \"))\n",
        "\n",
        "# Create a list of days of the week\n",
        "days = [\"Monday\", \"Tuesday\", \"Wednesday\", \"Thursday\", \"Friday\", \"Saturday\", \"Sunday\"]\n",
        "\n",
        "# Check if the day number is valid\n",
        "if 1 <= day_num <= 7:\n",
        "    # Calculate the day of the week\n",
        "    day = days[day_num - 1]\n",
        "    print(\"The day of the week is:\", day)\n",
        "else:\n",
        "    print(\"Invalid day number. Please enter a number between 1 and 7.\")"
      ],
      "metadata": {
        "colab": {
          "base_uri": "https://localhost:8080/"
        },
        "id": "eyOb6IR3qteY",
        "outputId": "ffd73305-8e06-4f3b-dbd9-5750c034ffc2"
      },
      "execution_count": 52,
      "outputs": [
        {
          "output_type": "stream",
          "name": "stdout",
          "text": [
            "Enter a day number (1-7): 4\n",
            "The day of the week is: Thursday\n"
          ]
        }
      ]
    },
    {
      "cell_type": "markdown",
      "source": [
        "13. Develop a program that calculates the factorial of a given number using recursion."
      ],
      "metadata": {
        "id": "eRdfXkU-rAEO"
      }
    },
    {
      "cell_type": "code",
      "source": [
        "def factorial(n):\n",
        "    # Base case: 0! = 1\n",
        "    if n == 0:\n",
        "        return 1\n",
        "    # Recursive case: n! = n * (n-1)!\n",
        "    else:\n",
        "        return n * factorial(n-1)\n",
        "\n",
        "# Get the number from the user\n",
        "num = int(input(\"Enter a number: \"))\n",
        "\n",
        "# Check if the number is non-negative\n",
        "if num >= 0:\n",
        "    # Calculate the factorial\n",
        "    result = factorial(num)\n",
        "    print(\"The factorial of\", num, \"is:\", result)\n",
        "else:\n",
        "    print(\"Error: Factorial is not defined for negative numbers.\")"
      ],
      "metadata": {
        "colab": {
          "base_uri": "https://localhost:8080/"
        },
        "id": "Drepr5gqq84Z",
        "outputId": "cfd66926-7e7d-4cf2-931a-dcae4eca4fb0"
      },
      "execution_count": 53,
      "outputs": [
        {
          "output_type": "stream",
          "name": "stdout",
          "text": [
            "Enter a number: 20\n",
            "The factorial of 20 is: 2432902008176640000\n"
          ]
        }
      ]
    },
    {
      "cell_type": "markdown",
      "source": [
        "14. Write a program to find the largest among three numbers without using the `max()` function."
      ],
      "metadata": {
        "id": "mai2B9emrNK3"
      }
    },
    {
      "cell_type": "code",
      "source": [
        "# Get the three numbers from the user\n",
        "num1 = int(input(\"Enter the first number: \"))\n",
        "num2 = int(input(\"Enter the second number: \"))\n",
        "num3 = int(input(\"Enter the third number: \"))\n",
        "\n",
        "# Initialize the largest number to the first number\n",
        "largest = num1\n",
        "\n",
        "# Check if the second number is larger\n",
        "if num2 > largest:\n",
        "    largest = num2\n",
        "\n",
        "# Check if the third number is larger\n",
        "if num3 > largest:\n",
        "    largest = num3\n",
        "\n",
        "# Print the largest number\n",
        "print(\"The largest number is:\", largest)"
      ],
      "metadata": {
        "colab": {
          "base_uri": "https://localhost:8080/"
        },
        "id": "n8JE8PfrrIZl",
        "outputId": "16d57532-fdcd-4d6c-c94a-47e98de6bd51"
      },
      "execution_count": 54,
      "outputs": [
        {
          "output_type": "stream",
          "name": "stdout",
          "text": [
            "Enter the first number: 10\n",
            "Enter the second number: 12\n",
            "Enter the third number: 13\n",
            "The largest number is: 13\n"
          ]
        }
      ]
    },
    {
      "cell_type": "markdown",
      "source": [
        "15. Create a program that simulates a basic ATM transaction menu."
      ],
      "metadata": {
        "id": "069NkZF1roHC"
      }
    },
    {
      "cell_type": "code",
      "source": [
        "# Initialize the account balance\n",
        "balance = 1000.0\n",
        "\n",
        "while True:\n",
        "    # Display the main menu\n",
        "    print(\"ATM Transaction Menu:\")\n",
        "    print(\"1. Check Balance\")\n",
        "    print(\"2. Withdraw Cash\")\n",
        "    print(\"3. Deposit Cash\")\n",
        "    print(\"4. Exit\")\n",
        "\n",
        "    # Get the user's choice\n",
        "    choice = int(input(\"Enter your choice: \"))\n",
        "\n",
        "    # Process the user's choice\n",
        "    if choice == 1:\n",
        "        # Check balance\n",
        "        print(\"Your current balance is: $\", balance)\n",
        "    elif choice == 2:\n",
        "        # Withdraw cash\n",
        "        amount = float(input(\"Enter the amount to withdraw: \"))\n",
        "        if amount > balance:\n",
        "            print(\"Insufficient funds!\")\n",
        "        else:\n",
        "            balance -= amount\n",
        "            print(\"Withdrawal successful. Your new balance is: $\", balance)\n",
        "    elif choice == 3:\n",
        "        # Deposit cash\n",
        "        amount = float(input(\"Enter the amount to deposit: \"))\n",
        "        balance += amount\n",
        "        print(\"Deposit successful. Your new balance is: $\", balance)\n",
        "    elif choice == 4:\n",
        "        # Exit\n",
        "        print(\"Thank you for using the ATM!\")\n",
        "        break\n",
        "    else:\n",
        "        print(\"Invalid choice. Please try again.\")"
      ],
      "metadata": {
        "colab": {
          "base_uri": "https://localhost:8080/"
        },
        "id": "FK_7JXhjrhZH",
        "outputId": "e19b76c0-278d-4c03-f36f-6b58a941d0b9"
      },
      "execution_count": 55,
      "outputs": [
        {
          "output_type": "stream",
          "name": "stdout",
          "text": [
            "ATM Transaction Menu:\n",
            "1. Check Balance\n",
            "2. Withdraw Cash\n",
            "3. Deposit Cash\n",
            "4. Exit\n",
            "Enter your choice: 1\n",
            "Your current balance is: $ 1000.0\n",
            "ATM Transaction Menu:\n",
            "1. Check Balance\n",
            "2. Withdraw Cash\n",
            "3. Deposit Cash\n",
            "4. Exit\n",
            "Enter your choice: 2\n",
            "Enter the amount to withdraw: 2000\n",
            "Insufficient funds!\n",
            "ATM Transaction Menu:\n",
            "1. Check Balance\n",
            "2. Withdraw Cash\n",
            "3. Deposit Cash\n",
            "4. Exit\n",
            "Enter your choice: 4\n",
            "Thank you for using the ATM!\n"
          ]
        }
      ]
    },
    {
      "cell_type": "markdown",
      "source": [
        "16. Build a program that checks if a given string is a palindrome or not."
      ],
      "metadata": {
        "id": "yAbc_7iwr2hQ"
      }
    },
    {
      "cell_type": "code",
      "source": [
        "# Get the input string from the user\n",
        "string = input(\"Enter a string: \")\n",
        "\n",
        "# Convert the string to lowercase and remove spaces\n",
        "string = string.lower().replace(\" \", \"\")\n",
        "\n",
        "# Initialize a variable to store the reversed string\n",
        "reversed_string = \"\"\n",
        "\n",
        "# Reverse the string\n",
        "for char in string:\n",
        "    reversed_string = char + reversed_string\n",
        "\n",
        "# Check if the original string is equal to the reversed string\n",
        "if string == reversed_string:\n",
        "    print(\"The string is a palindrome.\")\n",
        "else:\n",
        "    print(\"The string is not a palindrome.\")"
      ],
      "metadata": {
        "colab": {
          "base_uri": "https://localhost:8080/"
        },
        "id": "ZN8a0d6qrqKr",
        "outputId": "a60325a3-9ba7-47a1-a804-c2635905123f"
      },
      "execution_count": 56,
      "outputs": [
        {
          "output_type": "stream",
          "name": "stdout",
          "text": [
            "Enter a string: Rajkumar Rajbhar\n",
            "The string is not a palindrome.\n"
          ]
        }
      ]
    },
    {
      "cell_type": "markdown",
      "source": [
        "17. Write a program that calculates the average of a list of numbers, excluding the smallest and largest values."
      ],
      "metadata": {
        "id": "y4RDbBnTr-zX"
      }
    },
    {
      "cell_type": "code",
      "source": [
        "# Get the list of numbers from the user\n",
        "numbers = input(\"Enter a list of numbers (separated by spaces): \")\n",
        "\n",
        "# Convert the input string to a list of floats\n",
        "numbers = [float(num) for num in numbers.split()]\n",
        "\n",
        "# Remove the smallest and largest values from the list\n",
        "numbers.remove(min(numbers))\n",
        "numbers.remove(max(numbers))\n",
        "\n",
        "# Calculate the average of the remaining numbers\n",
        "average = sum(numbers) / len(numbers)\n",
        "\n",
        "# Print the result\n",
        "print(\"The average of the list, excluding the smallest and largest values, is:\", average)"
      ],
      "metadata": {
        "colab": {
          "base_uri": "https://localhost:8080/"
        },
        "id": "Ijf86IJxr4lP",
        "outputId": "837d8c07-c677-4d0c-fe80-992a39239e90"
      },
      "execution_count": 60,
      "outputs": [
        {
          "output_type": "stream",
          "name": "stdout",
          "text": [
            "Enter a list of numbers (separated by spaces): 1  2   2   2\n",
            "The average of the list, excluding the smallest and largest values, is: 2.0\n"
          ]
        }
      ]
    },
    {
      "cell_type": "markdown",
      "source": [
        "18. Develop a program that converts a given temperature from Celsius to Fahrenheit."
      ],
      "metadata": {
        "id": "mWgFP2cNsY8e"
      }
    },
    {
      "cell_type": "code",
      "source": [
        "# Get the temperature in Celsius from the user\n",
        "celsius = float(input(\"Enter a temperature in Celsius: \"))\n",
        "\n",
        "# Convert the temperature from Celsius to Fahrenheit\n",
        "fahrenheit = (celsius * 9/5) + 32\n",
        "\n",
        "# Print the result\n",
        "print(\"The temperature in Fahrenheit is:\", fahrenheit)"
      ],
      "metadata": {
        "colab": {
          "base_uri": "https://localhost:8080/"
        },
        "id": "B2h-SIPosAx8",
        "outputId": "e789fd43-e95f-4eba-8c12-455d64073c3f"
      },
      "execution_count": 61,
      "outputs": [
        {
          "output_type": "stream",
          "name": "stdout",
          "text": [
            "Enter a temperature in Celsius: 2\n",
            "The temperature in Fahrenheit is: 35.6\n"
          ]
        }
      ]
    },
    {
      "cell_type": "markdown",
      "source": [
        "19. Create a program that simulates a basic calculator for addition, subtraction, multiplication, and division."
      ],
      "metadata": {
        "id": "g388FYbKslEI"
      }
    },
    {
      "cell_type": "code",
      "source": [
        "def add(x, y):\n",
        "   return x + y\n",
        "\n",
        "def subtract(x, y):\n",
        "   return x - y\n",
        "\n",
        "def multiply(x, y):\n",
        "   return x * y\n",
        "\n",
        "def divide(x, y):\n",
        "   if y == 0:\n",
        "      return \"Error! Division by zero is not allowed.\"\n",
        "   else:\n",
        "      return x / y\n",
        "\n",
        "print(\"Select operation:\")\n",
        "print(\"1.Add\")\n",
        "print(\"2.Subtract\")\n",
        "print(\"3.Multiply\")\n",
        "print(\"4.Divide\")\n",
        "\n",
        "while True:\n",
        "   choice = input(\"Enter choice(1/2/3/4): \")\n",
        "\n",
        "   if choice in ('1', '2', '3', '4'):\n",
        "      num1 = float(input(\"Enter first number: \"))\n",
        "      num2 = float(input(\"Enter second number: \"))\n",
        "\n",
        "      if choice == '1':\n",
        "         print(num1, \"+\", num2, \"=\", add(num1, num2))\n",
        "\n",
        "      elif choice == '2':\n",
        "         print(num1, \"-\", num2, \"=\", subtract(num1, num2))\n",
        "\n",
        "      elif choice == '3':\n",
        "         print(num1, \"*\", num2, \"=\", multiply(num1, num2))\n",
        "\n",
        "      elif choice == '4':\n",
        "         print(num1, \"/\", num2, \"=\", divide(num1, num2))\n",
        "      break\n",
        "   else:\n",
        "      print(\"Invalid Input\")"
      ],
      "metadata": {
        "colab": {
          "base_uri": "https://localhost:8080/"
        },
        "id": "wXb5zkhjsdL1",
        "outputId": "5e674aaa-8df1-4443-ed7e-bd8ca9facde1"
      },
      "execution_count": 62,
      "outputs": [
        {
          "output_type": "stream",
          "name": "stdout",
          "text": [
            "Select operation:\n",
            "1.Add\n",
            "2.Subtract\n",
            "3.Multiply\n",
            "4.Divide\n",
            "Enter choice(1/2/3/4): 1\n",
            "Enter first number: 20\n",
            "Enter second number: 200\n",
            "20.0 + 200.0 = 220.0\n"
          ]
        }
      ]
    },
    {
      "cell_type": "markdown",
      "source": [
        "20. Write a program that determines the roots of a cubic equation using the Cardano formula."
      ],
      "metadata": {
        "id": "yFruoCFks4cj"
      }
    },
    {
      "cell_type": "code",
      "source": [
        "import math\n",
        "\n",
        "def cardano_formula(a, b, c, d):\n",
        "    # Calculate the coefficients\n",
        "    p = b - (a**2) / 3\n",
        "    q = (2 * (a**3)) - (9 * a * b) + (27 * c)\n",
        "    r = (q / 2)**2 + (p**3 / 27)\n",
        "\n",
        "    # Calculate the cube roots\n",
        "    u = ((-q / 2) + math.sqrt(r))**(1/3)\n",
        "    v = ((-q / 2) - math.sqrt(r))**(1/3)\n",
        "\n",
        "    # Calculate the roots\n",
        "    x1 = u + v - (a / 3)\n",
        "    x2 = -(u + v) / 2 - (a / 3) + (math.sqrt(3) / 2) * (u - v) * 1j\n",
        "    x3 = -(u + v) / 2 - (a / 3) - (math.sqrt(3) / 2) * (u - v) * 1j\n",
        "\n",
        "    return x1, x2, x3\n",
        "\n",
        "# Get the coefficients from the user\n",
        "a = float(input(\"Enter coefficient a: \"))\n",
        "b = float(input(\"Enter coefficient b: \"))\n",
        "c = float(input(\"Enter coefficient c: \"))\n",
        "d = float(input(\"Enter coefficient d: \"))\n",
        "\n",
        "# Calculate and print the roots\n",
        "x1, x2, x3 = cardano_formula(a, b, c, d)\n",
        "print(\"The roots of the cubic equation are:\")\n",
        "print(\"x1 =\", x1)\n",
        "print(\"x2 =\", x2)\n",
        "print(\"x3 =\", x3)"
      ],
      "metadata": {
        "colab": {
          "base_uri": "https://localhost:8080/"
        },
        "id": "gviOJmOGsv_J",
        "outputId": "ca30710c-4799-42b8-d9d1-2b58aba4dcd4"
      },
      "execution_count": 63,
      "outputs": [
        {
          "output_type": "stream",
          "name": "stdout",
          "text": [
            "Enter coefficient a: 2\n",
            "Enter coefficient b: 2.4\n",
            "Enter coefficient c: .2\n",
            "Enter coefficient d: .5\n",
            "The roots of the cubic equation are:\n",
            "x1 = (2.1905811174128753+0.11022300470174745j)\n",
            "x2 = (-1.9998346365532724+2.309114658867056j)\n",
            "x3 = (-2.190746480859602-2.419337663568804j)\n"
          ]
        }
      ]
    },
    {
      "cell_type": "markdown",
      "source": [
        "**Advanced Level:**"
      ],
      "metadata": {
        "id": "N6OUODWPtDmL"
      }
    },
    {
      "cell_type": "markdown",
      "source": [
        "21. Create a program that calculates the income tax based on the user's income and tax brackets."
      ],
      "metadata": {
        "id": "GFmcD3AztHR0"
      }
    },
    {
      "cell_type": "code",
      "source": [
        "def calculate_income_tax(income):\n",
        "    # Define the tax brackets and rates\n",
        "    tax_brackets = [\n",
        "        (0, 10000, 0.10),  # 10% tax on income up to $10,000\n",
        "        (10001, 30000, 0.15),  # 15% tax on income between $10,001 and $30,000\n",
        "        (30001, 100000, 0.20),  # 20% tax on income between $30,001 and $100,000\n",
        "        (100001, float('inf'), 0.25)  # 25% tax on income above $100,000\n",
        "    ]\n",
        "\n",
        "    # Initialize the total tax\n",
        "    total_tax = 0\n",
        "\n",
        "    # Iterate over the tax brackets\n",
        "    for bracket in tax_brackets:\n",
        "        if income > bracket[1]:\n",
        "            # Calculate the tax for this bracket\n",
        "            tax = (bracket[1] - bracket[0]) * bracket[2]\n",
        "            total_tax += tax\n",
        "        else:\n",
        "            # Calculate the tax for this bracket\n",
        "            tax = (income - bracket[0]) * bracket[2]\n",
        "            total_tax += tax\n",
        "            break\n",
        "\n",
        "    return total_tax\n",
        "\n",
        "# Get the user's income\n",
        "income = float(input(\"Enter your income: \"))\n",
        "\n",
        "# Calculate and print the income tax\n",
        "tax = calculate_income_tax(income)\n",
        "print(\"Your income tax is: $\", round(tax, 2))"
      ],
      "metadata": {
        "colab": {
          "base_uri": "https://localhost:8080/"
        },
        "id": "lUI3CP69s665",
        "outputId": "7107823e-c476-4877-f05c-2d5c32abc71c"
      },
      "execution_count": 64,
      "outputs": [
        {
          "output_type": "stream",
          "name": "stdout",
          "text": [
            "Enter your income: 50000\n",
            "Your income tax is: $ 7999.65\n"
          ]
        }
      ]
    },
    {
      "cell_type": "markdown",
      "source": [
        "22. Write a program that simulates a rock-paper-scissors game against the computer."
      ],
      "metadata": {
        "id": "VVhjyNYftRRS"
      }
    },
    {
      "cell_type": "code",
      "source": [
        "import random\n",
        "\n",
        "def get_computer_choice():\n",
        "    choices = [\"rock\", \"paper\", \"scissors\"]\n",
        "    return random.choice(choices)\n",
        "\n",
        "def determine_winner(user_choice, computer_choice):\n",
        "    if user_choice == computer_choice:\n",
        "        return \"It's a tie!\"\n",
        "    elif (user_choice == \"rock\" and computer_choice == \"scissors\") or \\\n",
        "         (user_choice == \"scissors\" and computer_choice == \"paper\") or \\\n",
        "         (user_choice == \"paper\" and computer_choice == \"rock\"):\n",
        "        return \"You win!\"\n",
        "    else:\n",
        "        return \"Computer wins!\"\n",
        "\n",
        "def play_game():\n",
        "    user_choice = input(\"Enter your choice (rock, paper, or scissors): \").lower()\n",
        "    while user_choice not in [\"rock\", \"paper\", \"scissors\"]:\n",
        "        user_choice = input(\"Invalid choice. Enter your choice (rock, paper, or scissors): \").lower()\n",
        "\n",
        "    computer_choice = get_computer_choice()\n",
        "    print(\"Computer chose:\", computer_choice)\n",
        "\n",
        "    result = determine_winner(user_choice, computer_choice)\n",
        "    print(result)\n",
        "\n",
        "play_game()"
      ],
      "metadata": {
        "colab": {
          "base_uri": "https://localhost:8080/"
        },
        "id": "XG5WhFzptLz0",
        "outputId": "999f5623-ed97-46c8-96da-4d5029c8c2c7"
      },
      "execution_count": 65,
      "outputs": [
        {
          "output_type": "stream",
          "name": "stdout",
          "text": [
            "Enter your choice (rock, paper, or scissors): rock\n",
            "Computer chose: paper\n",
            "Computer wins!\n"
          ]
        }
      ]
    },
    {
      "cell_type": "markdown",
      "source": [
        "23. Develop a program that generates a random password based on user preferences (length, complexity)."
      ],
      "metadata": {
        "id": "7ixpEM8Ytbod"
      }
    },
    {
      "cell_type": "code",
      "source": [
        "import random\n",
        "import string\n",
        "\n",
        "def generate_password(length, has_uppercase, has_numbers, has_special_chars):\n",
        "    password = []\n",
        "    char_set = string.ascii_lowercase\n",
        "\n",
        "    if has_uppercase:\n",
        "        char_set += string.ascii_uppercase\n",
        "    if has_numbers:\n",
        "        char_set += string.digits\n",
        "    if has_special_chars:\n",
        "        char_set += string.punctuation\n",
        "\n",
        "    for _ in range(length):\n",
        "        password.append(random.choice(char_set))\n",
        "\n",
        "    random.shuffle(password)\n",
        "    return ''.join(password)\n",
        "\n",
        "def main():\n",
        "    length = int(input(\"Enter the password length: \"))\n",
        "    has_uppercase = input(\"Include uppercase letters? (y/n): \").lower() == 'y'\n",
        "    has_numbers = input(\"Include numbers? (y/n): \").lower() == 'y'\n",
        "    has_special_chars = input(\"Include special characters? (y/n): \").lower() == 'y'\n",
        "\n",
        "    password = generate_password(length, has_uppercase, has_numbers, has_special_chars)\n",
        "    print(\"Generated password:\", password)\n",
        "\n",
        "if __name__ == \"__main__\":\n",
        "    main()"
      ],
      "metadata": {
        "colab": {
          "base_uri": "https://localhost:8080/"
        },
        "id": "o1bAEA-rtTWH",
        "outputId": "17713eb8-6286-4a00-b008-15622192ba7d"
      },
      "execution_count": 66,
      "outputs": [
        {
          "output_type": "stream",
          "name": "stdout",
          "text": [
            "Enter the password length: 10\n",
            "Include uppercase letters? (y/n): y\n",
            "Include numbers? (y/n): y\n",
            "Include special characters? (y/n): y\n",
            "Generated password: )C+&&y%mU`\n"
          ]
        }
      ]
    },
    {
      "cell_type": "markdown",
      "source": [
        "24. Create a program that implements a simple text-based adventure game with branching scenarios."
      ],
      "metadata": {
        "id": "sWf77Xm-tnwn"
      }
    },
    {
      "cell_type": "code",
      "source": [
        "def start_game():\n",
        "    print(\"Welcome to the adventure game!\")\n",
        "    print(\"You are standing at the entrance of a dark cave.\")\n",
        "    print(\"Do you want to:\")\n",
        "    print(\"A) Enter the cave\")\n",
        "    print(\"B) Go back home\")\n",
        "\n",
        "    choice = input(\"Enter your choice (A/B): \").upper()\n",
        "\n",
        "    if choice == \"A\":\n",
        "        cave_entrance()\n",
        "    elif choice == \"B\":\n",
        "        print(\"You go back home. Game over.\")\n",
        "    else:\n",
        "        print(\"Invalid choice. Please try again.\")\n",
        "        start_game()\n",
        "\n",
        "def cave_entrance():\n",
        "    print(\"You enter the cave and find yourself in a dimly lit chamber.\")\n",
        "    print(\"You see two passageways: one leading north and one leading east.\")\n",
        "    print(\"Do you want to:\")\n",
        "    print(\"A) Go north\")\n",
        "    print(\"B) Go east\")\n",
        "\n",
        "    choice = input(\"Enter your choice (A/B): \").upper()\n",
        "\n",
        "    if choice == \"A\":\n",
        "        north_passageway()\n",
        "    elif choice == \"B\":\n",
        "        east_passageway()\n",
        "    else:\n",
        "        print(\"Invalid choice. Please try again.\")\n",
        "        cave_entrance()\n",
        "\n",
        "def north_passageway():\n",
        "    print(\"You walk north and find a treasure chest.\")\n",
        "    print(\"Do you want to:\")\n",
        "    print(\"A) Open the chest\")\n",
        "    print(\"B) Go back to the entrance\")\n",
        "\n",
        "    choice = input(\"Enter your choice (A/B): \").upper()\n",
        "\n",
        "    if choice == \"A\":\n",
        "        treasure_chest()\n",
        "    elif choice == \"B\":\n",
        "        cave_entrance()\n",
        "    else:\n",
        "        print(\"Invalid choice. Please try again.\")\n",
        "        north_passageway()\n",
        "\n",
        "def east_passageway():\n",
        "    print(\"You walk east and find a mysterious door.\")\n",
        "    print(\"Do you want to:\")\n",
        "    print(\"A) Open the door\")\n",
        "    print(\"B) Go back to the entrance\")\n",
        "\n",
        "    choice = input(\"Enter your choice (A/B): \").upper()\n",
        "\n",
        "    if choice == \"A\":\n",
        "        mysterious_door()\n",
        "    elif choice == \"B\":\n",
        "        cave_entrance()\n",
        "    else:\n",
        "        print(\"Invalid choice. Please try again.\")\n",
        "        east_passageway()\n",
        "\n",
        "def treasure_chest():\n",
        "    print(\"You open the chest and find a treasure!\")\n",
        "    print(\"Congratulations, you won the game!\")\n",
        "\n",
        "def mysterious_door():\n",
        "    print(\"You open the door and find a dragon!\")\n",
        "    print(\"Game over. You lost.\")\n",
        "\n",
        "start_game()"
      ],
      "metadata": {
        "colab": {
          "base_uri": "https://localhost:8080/"
        },
        "id": "KbJaXwqWtdUH",
        "outputId": "67b7c904-4cb3-4daa-8875-7c0199191fcc"
      },
      "execution_count": 67,
      "outputs": [
        {
          "output_type": "stream",
          "name": "stdout",
          "text": [
            "Welcome to the adventure game!\n",
            "You are standing at the entrance of a dark cave.\n",
            "Do you want to:\n",
            "A) Enter the cave\n",
            "B) Go back home\n",
            "Enter your choice (A/B): a\n",
            "You enter the cave and find yourself in a dimly lit chamber.\n",
            "You see two passageways: one leading north and one leading east.\n",
            "Do you want to:\n",
            "A) Go north\n",
            "B) Go east\n",
            "Enter your choice (A/B): A\n",
            "You walk north and find a treasure chest.\n",
            "Do you want to:\n",
            "A) Open the chest\n",
            "B) Go back to the entrance\n",
            "Enter your choice (A/B): B\n",
            "You enter the cave and find yourself in a dimly lit chamber.\n",
            "You see two passageways: one leading north and one leading east.\n",
            "Do you want to:\n",
            "A) Go north\n",
            "B) Go east\n",
            "Enter your choice (A/B): A\n",
            "You walk north and find a treasure chest.\n",
            "Do you want to:\n",
            "A) Open the chest\n",
            "B) Go back to the entrance\n",
            "Enter your choice (A/B): A\n",
            "You open the chest and find a treasure!\n",
            "Congratulations, you won the game!\n"
          ]
        }
      ]
    },
    {
      "cell_type": "markdown",
      "source": [
        "25. Build a program that solves a linear equation for x, considering different cases."
      ],
      "metadata": {
        "id": "3Nm03hD3uHd2"
      }
    },
    {
      "cell_type": "code",
      "source": [
        "def solve_linear_equation(a, b):\n",
        "    if a == 0:\n",
        "        if b == 0:\n",
        "            print(\"The equation has infinitely many solutions.\")\n",
        "        else:\n",
        "            print(\"The equation has no solution.\")\n",
        "    else:\n",
        "        x = -b / a\n",
        "        print(\"The solution to the equation is x =\", x)\n",
        "\n",
        "def main():\n",
        "    a = float(input(\"Enter the coefficient of x: \"))\n",
        "    b = float(input(\"Enter the constant term: \"))\n",
        "\n",
        "    solve_linear_equation(a, b)\n",
        "\n",
        "if __name__ == \"__main__\":\n",
        "    main()"
      ],
      "metadata": {
        "colab": {
          "base_uri": "https://localhost:8080/"
        },
        "id": "l9lY6-Q7tpkK",
        "outputId": "7db78caf-314d-4225-ed28-0fa079ca5901"
      },
      "execution_count": 68,
      "outputs": [
        {
          "output_type": "stream",
          "name": "stdout",
          "text": [
            "Enter the coefficient of x: 2\n",
            "Enter the constant term: .2\n",
            "The solution to the equation is x = -0.1\n"
          ]
        }
      ]
    },
    {
      "cell_type": "markdown",
      "source": [
        "26. Write a program that simulates a basic quiz game with multiple-choice questions and scoring."
      ],
      "metadata": {
        "id": "eBs3xFXIuPLN"
      }
    },
    {
      "cell_type": "code",
      "source": [
        "def quiz_game():\n",
        "    score = 0\n",
        "    questions = [\n",
        "        {\n",
        "            \"question\": \"What is the capital of France?\",\n",
        "            \"options\": [\"Paris\", \"London\", \"Berlin\", \"Rome\"],\n",
        "            \"answer\": 0\n",
        "        },\n",
        "        {\n",
        "            \"question\": \"What is the largest planet in our solar system?\",\n",
        "            \"options\": [\"Earth\", \"Saturn\", \"Jupiter\", \"Uranus\"],\n",
        "            \"answer\": 2\n",
        "        },\n",
        "        {\n",
        "            \"question\": \"What is the smallest country in the world?\",\n",
        "            \"options\": [\"Vatican City\", \"Monaco\", \"Nauru\", \"Tuvalu\"],\n",
        "            \"answer\": 0\n",
        "        }\n",
        "    ]\n",
        "\n",
        "    for question in questions:\n",
        "        print(question[\"question\"])\n",
        "        for i, option in enumerate(question[\"options\"]):\n",
        "            print(f\"{i+1}. {option}\")\n",
        "        answer = int(input(\"Enter the number of your answer: \")) - 1\n",
        "        if answer == question[\"answer\"]:\n",
        "            print(\"Correct!\")\n",
        "            score += 1\n",
        "        else:\n",
        "            print(f\"Sorry, the correct answer is {question['options'][question['answer']]}\")\n",
        "\n",
        "    print(f\"Your final score is {score} out of {len(questions)}\")\n",
        "\n",
        "if __name__ == \"__main__\":\n",
        "    quiz_game()"
      ],
      "metadata": {
        "colab": {
          "base_uri": "https://localhost:8080/"
        },
        "id": "SSjcVzvUuJ-a",
        "outputId": "6bc9bdf7-16b8-4115-a42d-c3cd34ee2bad"
      },
      "execution_count": 69,
      "outputs": [
        {
          "output_type": "stream",
          "name": "stdout",
          "text": [
            "What is the capital of France?\n",
            "1. Paris\n",
            "2. London\n",
            "3. Berlin\n",
            "4. Rome\n",
            "Enter the number of your answer: 1\n",
            "Correct!\n",
            "What is the largest planet in our solar system?\n",
            "1. Earth\n",
            "2. Saturn\n",
            "3. Jupiter\n",
            "4. Uranus\n",
            "Enter the number of your answer: 3\n",
            "Correct!\n",
            "What is the smallest country in the world?\n",
            "1. Vatican City\n",
            "2. Monaco\n",
            "3. Nauru\n",
            "4. Tuvalu\n",
            "Enter the number of your answer: 2\n",
            "Sorry, the correct answer is Vatican City\n",
            "Your final score is 2 out of 3\n"
          ]
        }
      ]
    },
    {
      "cell_type": "markdown",
      "source": [
        "27. Develop a program that determines whether a given year is a prime number or not."
      ],
      "metadata": {
        "id": "RIJbQuH9uiVx"
      }
    },
    {
      "cell_type": "code",
      "source": [
        "def is_prime(year):\n",
        "    if year <= 1:\n",
        "        return False\n",
        "    for i in range(2, int(year ** 0.5) + 1):\n",
        "        if year % i == 0:\n",
        "            return False\n",
        "    return True\n",
        "\n",
        "def main():\n",
        "    year = int(input(\"Enter a year: \"))\n",
        "    if is_prime(year):\n",
        "        print(f\"{year} is a prime number.\")\n",
        "    else:\n",
        "        print(f\"{year} is not a prime number.\")\n",
        "\n",
        "if __name__ == \"__main__\":\n",
        "    main()"
      ],
      "metadata": {
        "colab": {
          "base_uri": "https://localhost:8080/"
        },
        "id": "r_aBoM7ruT9W",
        "outputId": "f3d3c48e-c198-4f30-fb8d-2f016f1d1745"
      },
      "execution_count": 71,
      "outputs": [
        {
          "output_type": "stream",
          "name": "stdout",
          "text": [
            "Enter a year: 2\n",
            "2 is a prime number.\n"
          ]
        }
      ]
    },
    {
      "cell_type": "markdown",
      "source": [
        "28. Create a program that sorts three numbers in ascending order using conditional statements."
      ],
      "metadata": {
        "id": "EAPktSNcurJD"
      }
    },
    {
      "cell_type": "code",
      "source": [
        "def sort_numbers(a, b, c):\n",
        "    if a > b:\n",
        "        a, b = b, a\n",
        "    if a > c:\n",
        "        a, c = c, a\n",
        "    if b > c:\n",
        "        b, c = c, b\n",
        "    return a, b, c\n",
        "\n",
        "def main():\n",
        "    num1 = int(input(\"Enter the first number: \"))\n",
        "    num2 = int(input(\"Enter the second number: \"))\n",
        "    num3 = int(input(\"Enter the third number: \"))\n",
        "    sorted_numbers = sort_numbers(num1, num2, num3)\n",
        "    print(\"The numbers in ascending order are:\", *sorted_numbers)\n",
        "\n",
        "if __name__ == \"__main__\":\n",
        "    main()"
      ],
      "metadata": {
        "colab": {
          "base_uri": "https://localhost:8080/"
        },
        "id": "nYO_-76HukgZ",
        "outputId": "c8301cce-4f08-4c8b-a6a0-abd0d88ec79a"
      },
      "execution_count": 72,
      "outputs": [
        {
          "output_type": "stream",
          "name": "stdout",
          "text": [
            "Enter the first number: 1\n",
            "Enter the second number: 3\n",
            "Enter the third number: 2\n",
            "The numbers in ascending order are: 1 2 3\n"
          ]
        }
      ]
    },
    {
      "cell_type": "markdown",
      "source": [
        "29. Build a program that determines the roots of a quartic equation using numerical methods."
      ],
      "metadata": {
        "id": "mg4XozIvu29C"
      }
    },
    {
      "cell_type": "code",
      "source": [
        "import numpy as np\n",
        "\n",
        "def quartic_roots(a, b, c, d, e):\n",
        "    \"\"\"\n",
        "    Finds the roots of a quartic equation of the form:\n",
        "    ax^4 + bx^3 + cx^2 + dx + e = 0\n",
        "    using the numpy.roots function.\n",
        "    \"\"\"\n",
        "    coeffs = [a, b, c, d, e]\n",
        "    roots = np.roots(coeffs)\n",
        "    return roots\n",
        "\n",
        "def main():\n",
        "    a = float(input(\"Enter coefficient a: \"))\n",
        "    b = float(input(\"Enter coefficient b: \"))\n",
        "    c = float(input(\"Enter coefficient c: \"))\n",
        "    d = float(input(\"Enter coefficient d: \"))\n",
        "    e = float(input(\"Enter coefficient e: \"))\n",
        "    roots = quartic_roots(a, b, c, d, e)\n",
        "    print(\"The roots of the quartic equation are:\")\n",
        "    for root in roots:\n",
        "        print(f\"x = {root:.4f}\")\n",
        "\n",
        "if __name__ == \"__main__\":\n",
        "    main()"
      ],
      "metadata": {
        "colab": {
          "base_uri": "https://localhost:8080/"
        },
        "id": "W-NobjHYuvsU",
        "outputId": "b7440c80-9341-478a-e82e-9d1bf8024730"
      },
      "execution_count": 73,
      "outputs": [
        {
          "output_type": "stream",
          "name": "stdout",
          "text": [
            "Enter coefficient a: .1\n",
            "Enter coefficient b: .2\n",
            "Enter coefficient c: .3\n",
            "Enter coefficient d: .4\n",
            "Enter coefficient e: .6\n",
            "The roots of the quartic equation are:\n",
            "x = -1.3557+0.9476j\n",
            "x = -1.3557-0.9476j\n",
            "x = 0.3557+1.4375j\n",
            "x = 0.3557-1.4375j\n"
          ]
        }
      ]
    },
    {
      "cell_type": "markdown",
      "source": [
        "30. Write a program that calculates the BMI (Body Mass Index) and provides health recommendations based\n",
        "on the user's input."
      ],
      "metadata": {
        "id": "bF_ntiTJvCc9"
      }
    },
    {
      "cell_type": "code",
      "source": [
        "def calculate_bmi(weight, height):\n",
        "    \"\"\"\n",
        "    Calculates the BMI (Body Mass Index) based on the user's weight and height.\n",
        "    \"\"\"\n",
        "    bmi = weight / (height ** 2)\n",
        "    return bmi\n",
        "\n",
        "def get_health_recommendation(bmi):\n",
        "    \"\"\"\n",
        "    Provides health recommendations based on the user's BMI.\n",
        "    \"\"\"\n",
        "    if bmi < 18.5:\n",
        "        return \"You are underweight. You may need to gain weight to reach a healthy weight.\"\n",
        "    elif bmi < 25:\n",
        "        return \"You are at a healthy weight. Keep up the good work!\"\n",
        "    elif bmi < 30:\n",
        "        return \"You are overweight. You may need to lose weight to reach a healthy weight.\"\n",
        "    else:\n",
        "        return \"You are obese. You should lose weight to reduce your risk of health problems.\"\n",
        "\n",
        "def main():\n",
        "    weight = float(input(\"Enter your weight in kg: \"))\n",
        "    height = float(input(\"Enter your height in meters: \"))\n",
        "    bmi = calculate_bmi(weight, height)\n",
        "    print(f\"Your BMI is: {bmi:.2f}\")\n",
        "    print(get_health_recommendation(bmi))\n",
        "\n",
        "if __name__ == \"__main__\":\n",
        "    main()"
      ],
      "metadata": {
        "colab": {
          "base_uri": "https://localhost:8080/"
        },
        "id": "kO2zJrvRu5Lb",
        "outputId": "d6efc442-274c-436b-bb18-549ca8e7ee6d"
      },
      "execution_count": 74,
      "outputs": [
        {
          "output_type": "stream",
          "name": "stdout",
          "text": [
            "Enter your weight in kg: 83\n",
            "Enter your height in meters: 3\n",
            "Your BMI is: 9.22\n",
            "You are underweight. You may need to gain weight to reach a healthy weight.\n"
          ]
        }
      ]
    },
    {
      "cell_type": "markdown",
      "source": [
        "**Challenge Level:**"
      ],
      "metadata": {
        "id": "xI02UU0MvP0e"
      }
    },
    {
      "cell_type": "markdown",
      "source": [
        "31. Create a program that validates a password based on complexity rules (length, characters, etc.)."
      ],
      "metadata": {
        "id": "UmJUUS1WvNLh"
      }
    },
    {
      "cell_type": "code",
      "source": [
        "import re\n",
        "\n",
        "def validate_password(password):\n",
        "    \"\"\"\n",
        "    Validates a password based on the following complexity rules:\n",
        "    - Length: at least 12 characters\n",
        "    - Characters: at least one uppercase letter, one lowercase letter, one digit, and one special character\n",
        "    \"\"\"\n",
        "    if len(password) < 12:\n",
        "        return False, \"Password must be at least 12 characters long.\"\n",
        "\n",
        "    if not re.search(\"[A-Z]\", password):\n",
        "        return False, \"Password must contain at least one uppercase letter.\"\n",
        "\n",
        "    if not re.search(\"[a-z]\", password):\n",
        "        return False, \"Password must contain at least one lowercase letter.\"\n",
        "\n",
        "    if not re.search(\"[0-9]\", password):\n",
        "        return False, \"Password must contain at least one digit.\"\n",
        "\n",
        "    if not re.search(\"[^A-Za-z0-9]\", password):\n",
        "        return False, \"Password must contain at least one special character.\"\n",
        "\n",
        "    return True, \"Password is valid.\"\n",
        "\n",
        "def main():\n",
        "    password = input(\"Enter a password: \")\n",
        "    valid, message = validate_password(password)\n",
        "    if valid:\n",
        "        print(\"Password is valid.\")\n",
        "    else:\n",
        "        print(message)\n",
        "\n",
        "if __name__ == \"__main__\":\n",
        "    main()"
      ],
      "metadata": {
        "colab": {
          "base_uri": "https://localhost:8080/"
        },
        "id": "Ceuj2clBvEqD",
        "outputId": "a21709d3-1d65-47b2-bfbb-06605e5430b4"
      },
      "execution_count": 77,
      "outputs": [
        {
          "output_type": "stream",
          "name": "stdout",
          "text": [
            "Enter a password: Rajkumar@123\n",
            "Password is valid.\n"
          ]
        }
      ]
    },
    {
      "cell_type": "markdown",
      "source": [
        "32. Develop a program that performs matrix addition and subtraction based on user input."
      ],
      "metadata": {
        "id": "_2rSpvlMvvLp"
      }
    },
    {
      "cell_type": "code",
      "source": [
        "def get_matrix(prompt):\n",
        "    \"\"\"\n",
        "    Prompts the user to enter a matrix and returns the matrix as a list of lists.\n",
        "    \"\"\"\n",
        "    rows = int(input(prompt + \" Enter the number of rows: \"))\n",
        "    cols = int(input(prompt + \" Enter the number of columns: \"))\n",
        "    matrix = []\n",
        "    for i in range(rows):\n",
        "        row = input(prompt + \" Enter row {} (space-separated values): \".format(i+1))\n",
        "        matrix.append([float(x) for x in row.split()])\n",
        "    return matrix\n",
        "\n",
        "def add_matrices(matrix1, matrix2):\n",
        "    \"\"\"\n",
        "    Adds two matrices element-wise.\n",
        "    \"\"\"\n",
        "    result = []\n",
        "    for i in range(len(matrix1)):\n",
        "        row = []\n",
        "        for j in range(len(matrix1[0])):\n",
        "            row.append(matrix1[i][j] + matrix2[i][j])\n",
        "        result.append(row)\n",
        "    return result\n",
        "\n",
        "def subtract_matrices(matrix1, matrix2):\n",
        "    \"\"\"\n",
        "    Subtracts two matrices element-wise.\n",
        "    \"\"\"\n",
        "    result = []\n",
        "    for i in range(len(matrix1)):\n",
        "        row = []\n",
        "        for j in range(len(matrix1[0])):\n",
        "            row.append(matrix1[i][j] - matrix2[i][j])\n",
        "        result.append(row)\n",
        "    return result\n",
        "\n",
        "def print_matrix(matrix, label):\n",
        "    \"\"\"\n",
        "    Prints a matrix with a label.\n",
        "    \"\"\"\n",
        "    print(label)\n",
        "    for row in matrix:\n",
        "        print(\" \".join(str(x) for x in row))\n",
        "\n",
        "def main():\n",
        "    print(\"Matrix Addition and Subtraction\")\n",
        "    print(\"---------------------------\")\n",
        "\n",
        "    matrix1 = get_matrix(\"Matrix 1: \")\n",
        "    matrix2 = get_matrix(\"Matrix 2: \")\n",
        "\n",
        "    if len(matrix1) != len(matrix2) or len(matrix1[0]) != len(matrix2[0]):\n",
        "        print(\"Error: Matrices must have the same dimensions for addition and subtraction.\")\n",
        "        return\n",
        "\n",
        "    print(\"Matrix 1:\")\n",
        "    print_matrix(matrix1, \"\")\n",
        "    print(\"Matrix 2:\")\n",
        "    print_matrix(matrix2, \"\")\n",
        "\n",
        "    print(\"Matrix Addition:\")\n",
        "    result_add = add_matrices(matrix1, matrix2)\n",
        "    print_matrix(result_add, \"\")\n",
        "\n",
        "    print(\"Matrix Subtraction:\")\n",
        "    result_subtract = subtract_matrices(matrix1, matrix2)\n",
        "    print_matrix(result_subtract, \"\")\n",
        "\n",
        "if __name__ == \"__main__\":\n",
        "    main()"
      ],
      "metadata": {
        "colab": {
          "base_uri": "https://localhost:8080/"
        },
        "id": "ezOIH6bjvUQR",
        "outputId": "e149ccfc-2358-4268-be74-cfcf3049b682"
      },
      "execution_count": 79,
      "outputs": [
        {
          "output_type": "stream",
          "name": "stdout",
          "text": [
            "Matrix Addition and Subtraction\n",
            "---------------------------\n",
            "Matrix 1:  Enter the number of rows: 2\n",
            "Matrix 1:  Enter the number of columns: 2\n",
            "Matrix 1:  Enter row 1 (space-separated values): 2\n",
            "Matrix 1:  Enter row 2 (space-separated values): 3\n",
            "Matrix 2:  Enter the number of rows: 2\n",
            "Matrix 2:  Enter the number of columns: 3\n",
            "Matrix 2:  Enter row 1 (space-separated values): 1\n",
            "Matrix 2:  Enter row 2 (space-separated values): 2\n",
            "Matrix 1:\n",
            "\n",
            "2.0\n",
            "3.0\n",
            "Matrix 2:\n",
            "\n",
            "1.0\n",
            "2.0\n",
            "Matrix Addition:\n",
            "\n",
            "3.0\n",
            "5.0\n",
            "Matrix Subtraction:\n",
            "\n",
            "1.0\n",
            "1.0\n"
          ]
        }
      ]
    },
    {
      "cell_type": "markdown",
      "source": [
        "33. Write a program that calculates the greatest common divisor (GCD) of two numbers using the Euclidean\n",
        "algorithm."
      ],
      "metadata": {
        "id": "k8dCy7VrwFvj"
      }
    },
    {
      "cell_type": "code",
      "source": [
        "def gcd(a, b):\n",
        "    \"\"\"\n",
        "    Calculates the greatest common divisor (GCD) of two numbers using the Euclidean algorithm.\n",
        "    \"\"\"\n",
        "    while b != 0:\n",
        "        a, b = b, a % b\n",
        "    return a\n",
        "\n",
        "def main():\n",
        "    num1 = int(input(\"Enter the first number: \"))\n",
        "    num2 = int(input(\"Enter the second number: \"))\n",
        "    result = gcd(num1, num2)\n",
        "    print(\"The greatest common divisor of {} and {} is {}\".format(num1, num2, result))\n",
        "\n",
        "if __name__ == \"__main__\":\n",
        "    main()"
      ],
      "metadata": {
        "colab": {
          "base_uri": "https://localhost:8080/"
        },
        "id": "uM_Lb-z4v35G",
        "outputId": "9a0f43ce-65b9-4b41-f40e-d9cf0b8ffb61"
      },
      "execution_count": 80,
      "outputs": [
        {
          "output_type": "stream",
          "name": "stdout",
          "text": [
            "Enter the first number: 20\n",
            "Enter the second number: 32\n",
            "The greatest common divisor of 20 and 32 is 4\n"
          ]
        }
      ]
    },
    {
      "cell_type": "markdown",
      "source": [
        "34. Build a program that performs matrix multiplication using nested loops and conditional statements."
      ],
      "metadata": {
        "id": "HqwoO1CpwbIB"
      }
    },
    {
      "cell_type": "code",
      "source": [
        "def multiply_matrices(matrix1, matrix2):\n",
        "    \"\"\"\n",
        "    Multiplies two matrices using nested loops and conditional statements.\n",
        "    \"\"\"\n",
        "    # Check if the matrices can be multiplied\n",
        "    if len(matrix1[0]) != len(matrix2):\n",
        "        raise ValueError(\"Matrices cannot be multiplied\")\n",
        "\n",
        "    # Create the result matrix filled with zeros\n",
        "    result = [[0 for _ in range(len(matrix2[0]))] for _ in range(len(matrix1))]\n",
        "\n",
        "    # Perform matrix multiplication\n",
        "    for i in range(len(matrix1)):\n",
        "        for j in range(len(matrix2[0])):\n",
        "            for k in range(len(matrix2)):\n",
        "                result[i][j] += matrix1[i][k] * matrix2[k][j]\n",
        "\n",
        "    return result\n",
        "\n",
        "def print_matrix(matrix, label):\n",
        "    \"\"\"\n",
        "    Prints a matrix with a label.\n",
        "    \"\"\"\n",
        "    print(label)\n",
        "    for row in matrix:\n",
        "        print(\" \".join(str(x) for x in row))\n",
        "\n",
        "def main():\n",
        "    print(\"Matrix Multiplication\")\n",
        "    print(\"-------------------\")\n",
        "\n",
        "    # Get the dimensions of the matrices\n",
        "    rows1 = int(input(\"Enter the number of rows in Matrix 1: \"))\n",
        "    cols1 = int(input(\"Enter the number of columns in Matrix 1: \"))\n",
        "    rows2 = int(input(\"Enter the number of rows in Matrix 2: \"))\n",
        "    cols2 = int(input(\"Enter the number of columns in Matrix 2: \"))\n",
        "\n",
        "    # Check if the matrices can be multiplied\n",
        "    if cols1 != rows2:\n",
        "        print(\"Error: Matrices cannot be multiplied\")\n",
        "        return\n",
        "\n",
        "    # Get the elements of the matrices\n",
        "    matrix1 = []\n",
        "    for i in range(rows1):\n",
        "        row = input(\"Enter row {} of Matrix 1 (space-separated values): \".format(i+1))\n",
        "        matrix1.append([float(x) for x in row.split()])\n",
        "\n",
        "    matrix2 = []\n",
        "    for i in range(rows2):\n",
        "        row = input(\"Enter row {} of Matrix 2 (space-separated values): \".format(i+1))\n",
        "        matrix2.append([float(x) for x in row.split()])\n",
        "\n",
        "    # Perform matrix multiplication\n",
        "    result = multiply_matrices(matrix1, matrix2)\n",
        "\n",
        "    # Print the result\n",
        "    print(\"Matrix 1:\")\n",
        "    print_matrix(matrix1, \"\")\n",
        "    print(\"Matrix 2:\")\n",
        "    print_matrix(matrix2, \"\")\n",
        "    print(\"Matrix Multiplication:\")\n",
        "    print_matrix(result, \"\")\n",
        "\n",
        "if __name__ == \"__main__\":\n",
        "    main()"
      ],
      "metadata": {
        "colab": {
          "base_uri": "https://localhost:8080/"
        },
        "id": "SFBNOk9rwVIA",
        "outputId": "dd4c6c12-fd05-420d-923d-3bfeaaa00571"
      },
      "execution_count": 81,
      "outputs": [
        {
          "output_type": "stream",
          "name": "stdout",
          "text": [
            "Matrix Multiplication\n",
            "-------------------\n",
            "Enter the number of rows in Matrix 1: 2\n",
            "Enter the number of columns in Matrix 1: 2\n",
            "Enter the number of rows in Matrix 2: 2\n",
            "Enter the number of columns in Matrix 2: 2\n",
            "Enter row 1 of Matrix 1 (space-separated values): 2 3\n",
            "Enter row 2 of Matrix 1 (space-separated values): 3 2\n",
            "Enter row 1 of Matrix 2 (space-separated values): 3 4\n",
            "Enter row 2 of Matrix 2 (space-separated values): 4 3\n",
            "Matrix 1:\n",
            "\n",
            "2.0 3.0\n",
            "3.0 2.0\n",
            "Matrix 2:\n",
            "\n",
            "3.0 4.0\n",
            "4.0 3.0\n",
            "Matrix Multiplication:\n",
            "\n",
            "18.0 17.0\n",
            "17.0 18.0\n"
          ]
        }
      ]
    },
    {
      "cell_type": "markdown",
      "source": [
        "35. Create a program that simulates a basic text-based tic-tac-toe game against the computer."
      ],
      "metadata": {
        "id": "B3Y_wmXFwxtJ"
      }
    },
    {
      "cell_type": "code",
      "source": [
        "import random\n",
        "\n",
        "def print_board(board):\n",
        "    \"\"\"\n",
        "    Prints the tic-tac-toe board.\n",
        "    \"\"\"\n",
        "    print(\" \" + board[0] + \" | \" + board[1] + \" | \" + board[2])\n",
        "    print(\"---+---+---\")\n",
        "    print(\" \" + board[3] + \" | \" + board[4] + \" | \" + board[5])\n",
        "    print(\"---+---+---\")\n",
        "    print(\" \" + board[6] + \" | \" + board[7] + \" | \" + board[8])\n",
        "\n",
        "def check_win(board):\n",
        "    \"\"\"\n",
        "    Checks if there is a winner.\n",
        "    \"\"\"\n",
        "    win_conditions = [(0, 1, 2), (3, 4, 5), (6, 7, 8), (0, 3, 6), (1, 4, 7), (2, 5, 8), (0, 4, 8), (2, 4, 6)]\n",
        "    for condition in win_conditions:\n",
        "        if board[condition[0]] == board[condition[1]] == board[condition[2]] != \" \":\n",
        "            return board[condition[0]]\n",
        "    if \" \" not in board:\n",
        "        return \"Tie\"\n",
        "    return False\n",
        "\n",
        "def computer_move(board):\n",
        "    \"\"\"\n",
        "    Makes a random move for the computer.\n",
        "    \"\"\"\n",
        "    available_moves = [i for i, x in enumerate(board) if x == \" \"]\n",
        "    move = random.choice(available_moves)\n",
        "    board[move] = \"O\"\n",
        "\n",
        "def main():\n",
        "    print(\"Tic-Tac-Toe Game\")\n",
        "    print(\"----------------\")\n",
        "\n",
        "    board = [\" \"] * 9\n",
        "    current_player = \"X\"\n",
        "\n",
        "    while True:\n",
        "        print_board(board)\n",
        "        if current_player == \"X\":\n",
        "            move = input(\"Enter your move (1-9): \")\n",
        "            board[int(move) - 1] = \"X\"\n",
        "        else:\n",
        "            computer_move(board)\n",
        "        result = check_win(board)\n",
        "        if result:\n",
        "            print_board(board)\n",
        "            if result == \"Tie\":\n",
        "                print(\"It's a tie!\")\n",
        "            else:\n",
        "                print(\"Player \" + result + \" wins!\")\n",
        "            break\n",
        "        current_player = \"O\" if current_player == \"X\" else \"X\"\n",
        "\n",
        "if __name__ == \"__main__\":\n",
        "    main()"
      ],
      "metadata": {
        "colab": {
          "base_uri": "https://localhost:8080/"
        },
        "id": "WtwxNGTwwiev",
        "outputId": "78ab98de-0ecd-4037-ab20-e64a98d33b8e"
      },
      "execution_count": 82,
      "outputs": [
        {
          "output_type": "stream",
          "name": "stdout",
          "text": [
            "Tic-Tac-Toe Game\n",
            "----------------\n",
            "   |   |  \n",
            "---+---+---\n",
            "   |   |  \n",
            "---+---+---\n",
            "   |   |  \n",
            "Enter your move (1-9): 1\n",
            " X |   |  \n",
            "---+---+---\n",
            "   |   |  \n",
            "---+---+---\n",
            "   |   |  \n",
            " X |   |  \n",
            "---+---+---\n",
            " O |   |  \n",
            "---+---+---\n",
            "   |   |  \n",
            "Enter your move (1-9): 2\n",
            " X | X |  \n",
            "---+---+---\n",
            " O |   |  \n",
            "---+---+---\n",
            "   |   |  \n",
            " X | X |  \n",
            "---+---+---\n",
            " O | O |  \n",
            "---+---+---\n",
            "   |   |  \n",
            "Enter your move (1-9): 4\n",
            " X | X |  \n",
            "---+---+---\n",
            " X | O |  \n",
            "---+---+---\n",
            "   |   |  \n",
            " X | X |  \n",
            "---+---+---\n",
            " X | O |  \n",
            "---+---+---\n",
            "   |   | O\n",
            "Enter your move (1-9): 2\n",
            " X | X |  \n",
            "---+---+---\n",
            " X | O |  \n",
            "---+---+---\n",
            "   |   | O\n",
            " X | X |  \n",
            "---+---+---\n",
            " X | O |  \n",
            "---+---+---\n",
            "   | O | O\n",
            "Enter your move (1-9): 5\n",
            " X | X |  \n",
            "---+---+---\n",
            " X | X |  \n",
            "---+---+---\n",
            "   | O | O\n",
            " X | X |  \n",
            "---+---+---\n",
            " X | X | O\n",
            "---+---+---\n",
            "   | O | O\n",
            "Enter your move (1-9): 2\n",
            " X | X |  \n",
            "---+---+---\n",
            " X | X | O\n",
            "---+---+---\n",
            "   | O | O\n",
            " X | X | O\n",
            "---+---+---\n",
            " X | X | O\n",
            "---+---+---\n",
            "   | O | O\n",
            "Player O wins!\n"
          ]
        }
      ]
    },
    {
      "cell_type": "markdown",
      "source": [
        "36. Write a program that generates Fibonacci numbers up to a specified term using iterative methods."
      ],
      "metadata": {
        "id": "dyqUbd3iw_Xs"
      }
    },
    {
      "cell_type": "code",
      "source": [
        "def fibonacci(n):\n",
        "    \"\"\"\n",
        "    Generates Fibonacci numbers up to the nth term using iterative methods.\n",
        "    \"\"\"\n",
        "    if n <= 0:\n",
        "        return \"Input should be a positive integer\"\n",
        "    elif n == 1:\n",
        "        return [0]\n",
        "    elif n == 2:\n",
        "        return [0, 1]\n",
        "    else:\n",
        "        fib_sequence = [0, 1]\n",
        "        while len(fib_sequence) < n:\n",
        "            fib_sequence.append(fib_sequence[-1] + fib_sequence[-2])\n",
        "        return fib_sequence\n",
        "\n",
        "def main():\n",
        "    print(\"Fibonacci Number Generator\")\n",
        "    print(\"-------------------------------\")\n",
        "\n",
        "    n = int(input(\"Enter the term up to which you want to generate Fibonacci numbers: \"))\n",
        "    fib_numbers = fibonacci(n)\n",
        "    print(\"Fibonacci numbers up to the {}th term:\".format(n))\n",
        "    print(fib_numbers)\n",
        "\n",
        "if __name__ == \"__main__\":\n",
        "    main()"
      ],
      "metadata": {
        "colab": {
          "base_uri": "https://localhost:8080/"
        },
        "id": "3Q0zPkTYw0CY",
        "outputId": "a7f8f205-92f4-43fd-e91f-103cde62d7cb"
      },
      "execution_count": 85,
      "outputs": [
        {
          "output_type": "stream",
          "name": "stdout",
          "text": [
            "Fibonacci Number Generator\n",
            "-------------------------------\n",
            "Enter the term up to which you want to generate Fibonacci numbers: 10\n",
            "Fibonacci numbers up to the 10th term:\n",
            "[0, 1, 1, 2, 3, 5, 8, 13, 21, 34]\n"
          ]
        }
      ]
    },
    {
      "cell_type": "markdown",
      "source": [
        "37. Develop a program that calculates the nth term of the Fibonacci sequence using memoization."
      ],
      "metadata": {
        "id": "MFuvVXeYxbm1"
      }
    },
    {
      "cell_type": "code",
      "source": [
        "def fibonacci(n, memo={}):\n",
        "    \"\"\"\n",
        "    Calculates the nth term of the Fibonacci sequence using memoization.\n",
        "    \"\"\"\n",
        "    if n <= 0:\n",
        "        return \"Input should be a positive integer\"\n",
        "    elif n == 1:\n",
        "        return 0\n",
        "    elif n == 2:\n",
        "        return 1\n",
        "    elif n not in memo:\n",
        "        memo[n] = fibonacci(n-1, memo) + fibonacci(n-2, memo)\n",
        "    return memo[n]\n",
        "\n",
        "def main():\n",
        "    print(\"Fibonacci Term Calculator\")\n",
        "    print(\"-------------------------------\")\n",
        "\n",
        "    n = int(input(\"Enter the term you want to calculate: \"))\n",
        "    result = fibonacci(n)\n",
        "    print(\"The {}th term of the Fibonacci sequence is:\".format(n))\n",
        "    print(result)\n",
        "\n",
        "if __name__ == \"__main__\":\n",
        "    main()"
      ],
      "metadata": {
        "colab": {
          "base_uri": "https://localhost:8080/"
        },
        "id": "_j5lKrGRxBgP",
        "outputId": "bfd98375-832f-4e7a-d337-aec1fcb8ed93"
      },
      "execution_count": 87,
      "outputs": [
        {
          "output_type": "stream",
          "name": "stdout",
          "text": [
            "Fibonacci Term Calculator\n",
            "-------------------------------\n",
            "Enter the term you want to calculate: 20\n",
            "The 20th term of the Fibonacci sequence is:\n",
            "4181\n"
          ]
        }
      ]
    },
    {
      "cell_type": "markdown",
      "source": [
        "38. Create a program that generates a calendar for a given month and year using conditional statements."
      ],
      "metadata": {
        "id": "VRWQgT9ByBs_"
      }
    },
    {
      "cell_type": "code",
      "source": [
        "import calendar\n",
        "\n",
        "def generate_calendar(year, month):\n",
        "    \"\"\"\n",
        "    Generates a calendar for a given month and year using conditional statements.\n",
        "    \"\"\"\n",
        "    if not isinstance(year, int) or not isinstance(month, int):\n",
        "        return \"Invalid input. Year and month must be integers.\"\n",
        "    if year < 1 or month < 1 or month > 12:\n",
        "        return \"Invalid input. Year must be a positive integer and month must be between 1 and 12.\"\n",
        "\n",
        "    month_name = calendar.month_name[month]\n",
        "    print(f\"Calendar for {month_name} {year}:\")\n",
        "    print(\"Mo Tu We Th Fr Sa Su\")\n",
        "\n",
        "    month_calendar = calendar.monthcalendar(year, month)\n",
        "    for week in month_calendar:\n",
        "        for day in week:\n",
        "            if day == 0:\n",
        "                print(\"  \", end=\"\")\n",
        "            else:\n",
        "                print(f\"{day:2}\", end=\" \")\n",
        "        print()\n",
        "\n",
        "def main():\n",
        "    print(\"Calendar Generator\")\n",
        "    print(\"-------------------\")\n",
        "\n",
        "    year = int(input(\"Enter the year: \"))\n",
        "    month = int(input(\"Enter the month (1-12): \"))\n",
        "    generate_calendar(year, month)\n",
        "\n",
        "if __name__ == \"__main__\":\n",
        "    main()"
      ],
      "metadata": {
        "colab": {
          "base_uri": "https://localhost:8080/"
        },
        "id": "0uXXRdwIx3w5",
        "outputId": "1632ee8c-c648-41f8-afe6-b7476e7382f6"
      },
      "execution_count": 88,
      "outputs": [
        {
          "output_type": "stream",
          "name": "stdout",
          "text": [
            "Calendar Generator\n",
            "-------------------\n",
            "Enter the year: 2024\n",
            "Enter the month (1-12): 2\n",
            "Calendar for February 2024:\n",
            "Mo Tu We Th Fr Sa Su\n",
            "       1  2  3  4 \n",
            " 5  6  7  8  9 10 11 \n",
            "12 13 14 15 16 17 18 \n",
            "19 20 21 22 23 24 25 \n",
            "26 27 28 29       \n"
          ]
        }
      ]
    },
    {
      "cell_type": "markdown",
      "source": [
        "39. Build a program that simulates a basic text-based blackjack game against the computer."
      ],
      "metadata": {
        "id": "f4dO_kL8yTt4"
      }
    },
    {
      "cell_type": "code",
      "source": [
        "import random\n",
        "\n",
        "def deal_card():\n",
        "    \"\"\"\n",
        "    Deals a random card from a deck of 52 cards.\n",
        "    \"\"\"\n",
        "    cards = [11, 2, 3, 4, 5, 6, 7, 8, 9, 10, 10, 10, 10]\n",
        "    return random.choice(cards)\n",
        "\n",
        "def calculate_score(hand):\n",
        "    \"\"\"\n",
        "    Calculates the total score of a hand of cards.\n",
        "    \"\"\"\n",
        "    if sum(hand) == 21 and len(hand) == 2:\n",
        "        return 0\n",
        "    if 11 in hand and sum(hand) > 21:\n",
        "        hand.remove(11)\n",
        "        hand.append(1)\n",
        "    return sum(hand)\n",
        "\n",
        "def blackjack():\n",
        "    \"\"\"\n",
        "    Simulates a game of blackjack against the computer.\n",
        "    \"\"\"\n",
        "    user_hand = []\n",
        "    computer_hand = []\n",
        "\n",
        "    for _ in range(2):\n",
        "        user_hand.append(deal_card())\n",
        "        computer_hand.append(deal_card())\n",
        "\n",
        "    game_over = False\n",
        "\n",
        "    while not game_over:\n",
        "        user_score = calculate_score(user_hand)\n",
        "        computer_score = calculate_score(computer_hand)\n",
        "\n",
        "        print(f\"Your cards: {user_hand}, current score: {user_score}\")\n",
        "        print(f\"Computer's first card: {computer_hand[0]}\")\n",
        "\n",
        "        if user_score == 0 or computer_score == 0 or user_score > 21:\n",
        "            game_over = True\n",
        "        else:\n",
        "            should_continue = input(\"Type 'y' to get another card, 'n' to pass: \")\n",
        "            if should_continue == 'y':\n",
        "                user_hand.append(deal_card())\n",
        "            else:\n",
        "                game_over = True\n",
        "\n",
        "    while computer_score != 0 and computer_score < 17:\n",
        "        computer_hand.append(deal_card())\n",
        "        computer_score = calculate_score(computer_hand)\n",
        "\n",
        "    print(f\"Your final hand: {user_hand}, final score: {user_score}\")\n",
        "    print(f\"Computer's final hand: {computer_hand}, final score: {computer_score}\")\n",
        "\n",
        "    if user_score > 21:\n",
        "        return \"You went over. You lose!\"\n",
        "    elif computer_score > 21:\n",
        "        return \"Computer went over. You win!\"\n",
        "    elif user_score == computer_score:\n",
        "        return \"It's a draw!\"\n",
        "    elif user_score == 0:\n",
        "        return \"Blackjack! You win!\"\n",
        "    elif computer_score == 0:\n",
        "        return \"Computer got a Blackjack. You lose!\"\n",
        "    elif user_score > computer_score:\n",
        "        return \"You win!\"\n",
        "    else:\n",
        "        return \"You lose!\"\n",
        "\n",
        "def main():\n",
        "    print(\"Welcome to Blackjack!\")\n",
        "    print(\"---------------------\")\n",
        "\n",
        "    play_again = 'y'\n",
        "    while play_again == 'y':\n",
        "        result = blackjack()\n",
        "        print(result)\n",
        "        play_again = input(\"Do you want to play again? (y/n): \")\n",
        "\n",
        "if __name__ == \"__main__\":\n",
        "    main()"
      ],
      "metadata": {
        "colab": {
          "base_uri": "https://localhost:8080/"
        },
        "id": "POZ0_sP0yGV9",
        "outputId": "171ea10e-e397-4086-cb57-3dd78550228e"
      },
      "execution_count": 89,
      "outputs": [
        {
          "name": "stdout",
          "output_type": "stream",
          "text": [
            "Welcome to Blackjack!\n",
            "---------------------\n",
            "Your cards: [9, 11], current score: 20\n",
            "Computer's first card: 10\n",
            "Type 'y' to get another card, 'n' to pass: y\n",
            "Your cards: [9, 10, 1], current score: 20\n",
            "Computer's first card: 10\n",
            "Type 'y' to get another card, 'n' to pass: y\n",
            "Your cards: [9, 10, 1, 6], current score: 26\n",
            "Computer's first card: 10\n",
            "Your final hand: [9, 10, 1, 6], final score: 26\n",
            "Computer's final hand: [10, 10], final score: 20\n",
            "You went over. You lose!\n",
            "Do you want to play again? (y/n): n\n"
          ]
        }
      ]
    },
    {
      "cell_type": "markdown",
      "source": [
        "40. Write a program that generates the prime factors of a given number using trial division."
      ],
      "metadata": {
        "id": "NOiWYN2Yypwo"
      }
    },
    {
      "cell_type": "code",
      "source": [
        "def generate_prime_factors(n):\n",
        "    \"\"\"\n",
        "    Generates the prime factors of a given number using trial division.\n",
        "    \"\"\"\n",
        "    factors = []\n",
        "    divisor = 2\n",
        "    while n > 1:\n",
        "        while n % divisor == 0:\n",
        "            factors.append(divisor)\n",
        "            n = n // divisor\n",
        "        divisor += 1\n",
        "    return factors\n",
        "\n",
        "def main():\n",
        "    print(\"Prime Factor Generator\")\n",
        "    print(\"----------------------\")\n",
        "\n",
        "    num = int(input(\"Enter a number: \"))\n",
        "    factors = generate_prime_factors(num)\n",
        "    print(f\"The prime factors of {num} are: {factors}\")\n",
        "\n",
        "if __name__ == \"__main__\":\n",
        "    main()"
      ],
      "metadata": {
        "colab": {
          "base_uri": "https://localhost:8080/"
        },
        "id": "oaShKTtMycK3",
        "outputId": "3ae0eb33-5730-40d6-d9af-cb20d9a3518e"
      },
      "execution_count": 90,
      "outputs": [
        {
          "output_type": "stream",
          "name": "stdout",
          "text": [
            "Prime Factor Generator\n",
            "----------------------\n",
            "Enter a number: 10\n",
            "The prime factors of 10 are: [2, 5]\n"
          ]
        }
      ]
    },
    {
      "cell_type": "code",
      "source": [],
      "metadata": {
        "id": "asSKoceHyrrl"
      },
      "execution_count": null,
      "outputs": []
    }
  ]
}