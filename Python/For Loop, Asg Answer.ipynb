{
  "nbformat": 4,
  "nbformat_minor": 0,
  "metadata": {
    "colab": {
      "provenance": []
    },
    "kernelspec": {
      "name": "python3",
      "display_name": "Python 3"
    },
    "language_info": {
      "name": "python"
    }
  },
  "cells": [
    {
      "cell_type": "markdown",
      "source": [
        "1. Write a Python program to print the numbers from 1 to 10 using a `for` loop."
      ],
      "metadata": {
        "id": "rizq3kFvQKDo"
      }
    },
    {
      "cell_type": "code",
      "execution_count": 1,
      "metadata": {
        "colab": {
          "base_uri": "https://localhost:8080/"
        },
        "id": "dlupjs0_P8a-",
        "outputId": "9086fd1d-9c68-4a5c-e959-b43557a4f97e"
      },
      "outputs": [
        {
          "output_type": "stream",
          "name": "stdout",
          "text": [
            "1\n",
            "2\n",
            "3\n",
            "4\n",
            "5\n",
            "6\n",
            "7\n",
            "8\n",
            "9\n",
            "10\n"
          ]
        }
      ],
      "source": [
        "for i in range(1, 11):   # range(1, 11) generates a sequence of numbers from 1 to 10\n",
        "    print(i)   # The for loop iterates over this sequence, and print(i) outputs each number."
      ]
    },
    {
      "cell_type": "markdown",
      "source": [
        "2. Create a program that calculates the sum of all numbers in a list using a `for` loop."
      ],
      "metadata": {
        "id": "W-64mxFEQ2Xm"
      }
    },
    {
      "cell_type": "code",
      "source": [
        "# list of numbers\n",
        "numbers = [2, 4, 6, 8, 10]\n",
        "\n",
        "# Variable to store the sum\n",
        "total_sum = 0\n",
        "\n",
        "# Loop through each number in the list\n",
        "for num in numbers:\n",
        "    total_sum += num  # Add each number to total_sum\n",
        "\n",
        "# Print the result\n",
        "print(\"The sum of all numbers in the list is:\", total_sum)\n"
      ],
      "metadata": {
        "colab": {
          "base_uri": "https://localhost:8080/"
        },
        "id": "X05bP8rOQo3O",
        "outputId": "aaa0e956-f456-4ecd-a80c-e935238f484a"
      },
      "execution_count": 2,
      "outputs": [
        {
          "output_type": "stream",
          "name": "stdout",
          "text": [
            "The sum of all numbers in the list is: 30\n"
          ]
        }
      ]
    },
    {
      "cell_type": "markdown",
      "source": [
        "3. Write a program to print the characters of a string in reverse order using a `for` loop."
      ],
      "metadata": {
        "id": "TCkV8ukxRE8N"
      }
    },
    {
      "cell_type": "code",
      "source": [
        "def reverse_string(string):\n",
        "  \"\"\"Reverses the characters of a string using a for loop.\n",
        "\n",
        "  Args:\n",
        "    string: The input string to be reversed.\n",
        "\n",
        "  Returns:\n",
        "    The reversed string.\n",
        "  \"\"\"\n",
        "\n",
        "  reversed_string = \"\"\n",
        "  for i in range(len(string) - 1, -1, -1):\n",
        "    reversed_string += string[i]\n",
        "  return reversed_string\n",
        "\n",
        "# Get input from the user\n",
        "input_string = input(\"Enter a string: \")\n",
        "\n",
        "# Reverse the string and print the result\n",
        "reversed_string = reverse_string(input_string)\n",
        "print(\"Reversed string:\", reversed_string)"
      ],
      "metadata": {
        "colab": {
          "base_uri": "https://localhost:8080/"
        },
        "id": "rv-QHg5IRH1H",
        "outputId": "77548aa4-db4e-4ef9-e436-dc3dfb70dd0c"
      },
      "execution_count": 3,
      "outputs": [
        {
          "output_type": "stream",
          "name": "stdout",
          "text": [
            "Enter a string: Rajkumar Rajbhar\n",
            "Reversed string: rahbjaR ramukjaR\n"
          ]
        }
      ]
    },
    {
      "cell_type": "markdown",
      "source": [
        "4. Develop a program that finds the factorial of a given number using a `for` loop."
      ],
      "metadata": {
        "id": "LPP8VdYbRXoa"
      }
    },
    {
      "cell_type": "code",
      "source": [
        "# Input: The number to find the factorial of\n",
        "number = int(input(\"Enter a number: \"))\n",
        "\n",
        "# Variable to store the factorial result\n",
        "factorial = 1\n",
        "\n",
        "# Loop to calculate the factorial\n",
        "for i in range(1, number + 1):\n",
        "    factorial *= i  # Multiply factorial by the current number\n",
        "\n",
        "# Print the result\n",
        "print(f\"The factorial of {number} is:\", factorial)\n"
      ],
      "metadata": {
        "colab": {
          "base_uri": "https://localhost:8080/"
        },
        "id": "iw8FV5dZRIk7",
        "outputId": "5e933dcf-9ae3-48f0-df76-58451df86b60"
      },
      "execution_count": 4,
      "outputs": [
        {
          "output_type": "stream",
          "name": "stdout",
          "text": [
            "Enter a number: 123\n",
            "The factorial of 123 is: 12146304367025329675766243241881295855454217088483382315328918161829235892362167668831156960612640202170735835221294047782591091570411651472186029519906261646730733907419814952960000000000000000000000000000\n"
          ]
        }
      ]
    },
    {
      "cell_type": "markdown",
      "source": [],
      "metadata": {
        "id": "Pq5k_rnlRsZC"
      }
    },
    {
      "cell_type": "markdown",
      "source": [
        "5. Create a program to print the multiplication table of a given number using a `for` loop."
      ],
      "metadata": {
        "id": "53pW3GS4Rs5I"
      }
    },
    {
      "cell_type": "code",
      "source": [
        "# Input: The number to print the multiplication table for\n",
        "number = int(input(\"Enter a number: \"))\n",
        "\n",
        "# Loop to generate and print the multiplication table\n",
        "for i in range(1, 11):\n",
        "    result = number * i\n",
        "    print(f\"{number} x {i} = {result}\")"
      ],
      "metadata": {
        "colab": {
          "base_uri": "https://localhost:8080/"
        },
        "id": "MDaPeyyjRpjK",
        "outputId": "c6ed5a8c-7f0c-4956-e6e8-31b6c939529b"
      },
      "execution_count": 6,
      "outputs": [
        {
          "output_type": "stream",
          "name": "stdout",
          "text": [
            "Enter a number: 2\n",
            "2 x 1 = 2\n",
            "2 x 2 = 4\n",
            "2 x 3 = 6\n",
            "2 x 4 = 8\n",
            "2 x 5 = 10\n",
            "2 x 6 = 12\n",
            "2 x 7 = 14\n",
            "2 x 8 = 16\n",
            "2 x 9 = 18\n",
            "2 x 10 = 20\n"
          ]
        }
      ]
    },
    {
      "cell_type": "markdown",
      "source": [
        "6. Write a program that counts the number of even and odd numbers in a list using a `for` loop."
      ],
      "metadata": {
        "id": "O9QCRoQaSEIO"
      }
    },
    {
      "cell_type": "code",
      "source": [
        "# Example list of numbers\n",
        "numbers = [1, 2, 3, 4, 5, 6, 7, 8, 9, 10]\n",
        "\n",
        "# Variables to store the counts\n",
        "even_count = 0\n",
        "odd_count = 0\n",
        "\n",
        "# Loop through each number in the list\n",
        "for num in numbers:\n",
        "    if num % 2 == 0:\n",
        "        even_count += 1  # Increment even_count if the number is even\n",
        "    else:\n",
        "        odd_count += 1   # Increment odd_count if the number is odd\n",
        "\n",
        "# Print the results\n",
        "print(\"Number of even numbers:\", even_count)\n",
        "print(\"Number of odd numbers:\", odd_count)"
      ],
      "metadata": {
        "colab": {
          "base_uri": "https://localhost:8080/"
        },
        "id": "Ba26bXcOR9lN",
        "outputId": "6906b100-7321-47c8-c124-c0a22b320d5e"
      },
      "execution_count": 7,
      "outputs": [
        {
          "output_type": "stream",
          "name": "stdout",
          "text": [
            "Number of even numbers: 5\n",
            "Number of odd numbers: 5\n"
          ]
        }
      ]
    },
    {
      "cell_type": "markdown",
      "source": [
        "7. Develop a program that prints the squares of numbers from 1 to 5 using a `for` loop."
      ],
      "metadata": {
        "id": "vZGdb2wZSSf0"
      }
    },
    {
      "cell_type": "code",
      "source": [
        "# Loop through numbers from 1 to 5\n",
        "for i in range(1, 6):\n",
        "    square = i ** 2  # Calculate the square of the current number\n",
        "    print(f\"The square of {i} is {square}\")"
      ],
      "metadata": {
        "colab": {
          "base_uri": "https://localhost:8080/"
        },
        "id": "JaOH9lDRSRBk",
        "outputId": "3743ec93-a689-4507-dcf5-6563a13f7b0d"
      },
      "execution_count": 8,
      "outputs": [
        {
          "output_type": "stream",
          "name": "stdout",
          "text": [
            "The square of 1 is 1\n",
            "The square of 2 is 4\n",
            "The square of 3 is 9\n",
            "The square of 4 is 16\n",
            "The square of 5 is 25\n"
          ]
        }
      ]
    },
    {
      "cell_type": "markdown",
      "source": [
        "8. Create a program to find the length of a string without using the `len()` function."
      ],
      "metadata": {
        "id": "A1LRvFloSepe"
      }
    },
    {
      "cell_type": "code",
      "source": [
        "# Input: The string to find the length of\n",
        "input_string = input(\"Enter a string: \")\n",
        "\n",
        "# Variable to store the length\n",
        "length = 0\n",
        "\n",
        "# Loop through each character in the string\n",
        "for char in input_string:\n",
        "    length += 1  # Increment the length for each character\n",
        "\n",
        "# Print the result\n",
        "print(\"The length of the string is:\", length)\n"
      ],
      "metadata": {
        "colab": {
          "base_uri": "https://localhost:8080/"
        },
        "id": "t8tlbYmdSdCQ",
        "outputId": "831ceacb-7673-40c9-b963-16bdefac8d41"
      },
      "execution_count": 9,
      "outputs": [
        {
          "output_type": "stream",
          "name": "stdout",
          "text": [
            "Enter a string: Rajkumar Rajbhar\n",
            "The length of the string is: 16\n"
          ]
        }
      ]
    },
    {
      "cell_type": "markdown",
      "source": [
        "9. Write a program that calculates the average of a list of numbers using a `for` loop."
      ],
      "metadata": {
        "id": "aEt7OqK1SwTU"
      }
    },
    {
      "cell_type": "code",
      "source": [
        "# Example list of numbers\n",
        "numbers = [10, 20, 30, 40, 50]\n",
        "\n",
        "# Variable to store the sum of the numbers\n",
        "total_sum = 0\n",
        "\n",
        "# Loop through each number in the list\n",
        "for num in numbers:\n",
        "    total_sum += num  # Add each number to total_sum\n",
        "\n",
        "# Calculate the average\n",
        "average = total_sum / len(numbers)\n",
        "\n",
        "# Print the result\n",
        "print(\"The average of the numbers in the list is:\", average)"
      ],
      "metadata": {
        "colab": {
          "base_uri": "https://localhost:8080/"
        },
        "id": "yZKAPSs1StRE",
        "outputId": "386e931e-dd64-4e14-fe59-97abfbe91695"
      },
      "execution_count": 10,
      "outputs": [
        {
          "output_type": "stream",
          "name": "stdout",
          "text": [
            "The average of the numbers in the list is: 30.0\n"
          ]
        }
      ]
    },
    {
      "cell_type": "markdown",
      "source": [
        "10. Develop a program that prints the first `n` Fibonacci numbers using a `for` loop."
      ],
      "metadata": {
        "id": "uChxx1R1S95u"
      }
    },
    {
      "cell_type": "code",
      "source": [
        "# Input: The number of Fibonacci numbers to print\n",
        "n = int(input(\"Enter the value of n: \"))\n",
        "\n",
        "# Initialize the first two Fibonacci numbers\n",
        "a, b = 0, 1\n",
        "\n",
        "# Print the first n Fibonacci numbers\n",
        "print(\"The first\", n, \"Fibonacci numbers are:\")\n",
        "for i in range(n):\n",
        "    print(a, end=\" \")\n",
        "    a, b = b, a + b  # Update a and b to the next Fibonacci numbers"
      ],
      "metadata": {
        "colab": {
          "base_uri": "https://localhost:8080/"
        },
        "id": "G_hpTNoxS8eq",
        "outputId": "81748f95-3efc-454b-b260-5bf3fad62810"
      },
      "execution_count": 12,
      "outputs": [
        {
          "output_type": "stream",
          "name": "stdout",
          "text": [
            "Enter the value of n: 4\n",
            "The first 4 Fibonacci numbers are:\n",
            "0 1 1 2 "
          ]
        }
      ]
    },
    {
      "cell_type": "markdown",
      "source": [
        "11. Write a program to check if a given list contains any duplicates using a `for` loop."
      ],
      "metadata": {
        "id": "uLZBLqZVTZwk"
      }
    },
    {
      "cell_type": "code",
      "source": [
        "# Example list of numbers\n",
        "numbers = [1, 2, 3, 4, 5, 2]\n",
        "\n",
        "# Variable to track duplicates\n",
        "has_duplicates = False\n",
        "\n",
        "# Loop to check for duplicates\n",
        "for i in range(len(numbers)):\n",
        "    for j in range(i + 1, len(numbers)):\n",
        "        if numbers[i] == numbers[j]:\n",
        "            has_duplicates = True\n",
        "            break\n",
        "    if has_duplicates:\n",
        "        break\n",
        "\n",
        "# Print the result\n",
        "if has_duplicates:\n",
        "    print(\"The list contains duplicates.\")\n",
        "else:\n",
        "    print(\"The list does not contain duplicates.\")"
      ],
      "metadata": {
        "colab": {
          "base_uri": "https://localhost:8080/"
        },
        "id": "-cmc9sGzTVFA",
        "outputId": "416a3fb5-0857-4acf-d961-fbda4d684480"
      },
      "execution_count": 13,
      "outputs": [
        {
          "output_type": "stream",
          "name": "stdout",
          "text": [
            "The list contains duplicates.\n"
          ]
        }
      ]
    },
    {
      "cell_type": "markdown",
      "source": [
        "12. Create a program that prints the prime numbers in a given range using a `for` loop."
      ],
      "metadata": {
        "id": "fYku_KpwTm8C"
      }
    },
    {
      "cell_type": "code",
      "source": [
        "# Input: The range to find prime numbers in\n",
        "start = int(input(\"Enter the start of the range: \"))\n",
        "end = int(input(\"Enter the end of the range: \"))\n",
        "\n",
        "# Function to check if a number is prime\n",
        "def is_prime(num):\n",
        "    if num <= 1:\n",
        "        return False\n",
        "    for i in range(2, int(num ** 0.5) + 1):\n",
        "        if num % i == 0:\n",
        "            return False\n",
        "    return True\n",
        "\n",
        "# Print prime numbers in the given range\n",
        "print(f\"Prime numbers between {start} and {end} are:\")\n",
        "for num in range(start, end + 1):\n",
        "    if is_prime(num):\n",
        "        print(num, end=\" \")"
      ],
      "metadata": {
        "colab": {
          "base_uri": "https://localhost:8080/"
        },
        "id": "z0IFdkFDTkEw",
        "outputId": "c4a24c46-6c45-47a5-c467-06bb2df282b3"
      },
      "execution_count": 14,
      "outputs": [
        {
          "output_type": "stream",
          "name": "stdout",
          "text": [
            "Enter the start of the range: 12\n",
            "Enter the end of the range: 20\n",
            "Prime numbers between 12 and 20 are:\n",
            "13 17 19 "
          ]
        }
      ]
    },
    {
      "cell_type": "markdown",
      "source": [
        "13. Develop a program that counts the number of vowels in a string using a `for` loop."
      ],
      "metadata": {
        "id": "n-mc5EBYUBuv"
      }
    },
    {
      "cell_type": "code",
      "source": [
        "# Input: The string to analyze\n",
        "input_string = input(\"Enter a string: \")\n",
        "\n",
        "# Set of vowels to check against\n",
        "vowels = \"aeiouAEIOU\"\n",
        "\n",
        "# Variable to store the count of vowels\n",
        "vowel_count = 0\n",
        "\n",
        "# Loop through each character in the string\n",
        "for char in input_string:\n",
        "    if char in vowels:\n",
        "        vowel_count += 1  # Increment the count if the character is a vowel\n",
        "\n",
        "# Print the result\n",
        "print(\"The number of vowels in the string is:\", vowel_count)"
      ],
      "metadata": {
        "colab": {
          "base_uri": "https://localhost:8080/"
        },
        "id": "bzyzMVY9T5j9",
        "outputId": "df9ecb51-21c9-42ec-9c6a-44e484b32f31"
      },
      "execution_count": 15,
      "outputs": [
        {
          "output_type": "stream",
          "name": "stdout",
          "text": [
            "Enter a string: Rajkumar Rajbhar\n",
            "The number of vowels in the string is: 5\n"
          ]
        }
      ]
    },
    {
      "cell_type": "markdown",
      "source": [
        "14. Write a program to find the maximum element in a 2D list using a nested `for` loop."
      ],
      "metadata": {
        "id": "XiH34L3ZUf7W"
      }
    },
    {
      "cell_type": "code",
      "source": [
        "# Example 2D list\n",
        "matrix = [\n",
        "    [3, 8, 2],\n",
        "    [4, 7, 9],\n",
        "    [1, 6, 5]\n",
        "]\n",
        "\n",
        "# Initialize max_element with the smallest possible value\n",
        "max_element = float('-inf')\n",
        "\n",
        "# Loop through each row in the 2D list\n",
        "for row in matrix:\n",
        "    # Loop through each element in the current row\n",
        "    for element in row:\n",
        "        # Update max_element if a larger element is found\n",
        "        if element > max_element:\n",
        "            max_element = element\n",
        "\n",
        "# Print the result\n",
        "print(\"The maximum element in the 2D list is:\", max_element)"
      ],
      "metadata": {
        "colab": {
          "base_uri": "https://localhost:8080/"
        },
        "id": "69F17U4AUb0O",
        "outputId": "2b5cac64-0698-4be2-c947-a8e24464511f"
      },
      "execution_count": 16,
      "outputs": [
        {
          "output_type": "stream",
          "name": "stdout",
          "text": [
            "The maximum element in the 2D list is: 9\n"
          ]
        }
      ]
    },
    {
      "cell_type": "markdown",
      "source": [
        "15. Create a program that removes all occurrences of a specific element from a list using a `for` loop."
      ],
      "metadata": {
        "id": "-FUFHNnNVPdq"
      }
    },
    {
      "cell_type": "code",
      "source": [
        "# Example list of elements\n",
        "numbers = [1, 2, 3, 4, 2, 5, 2, 6]\n",
        "\n",
        "# Input: The element to remove\n",
        "element_to_remove = int(input(\"Enter the element to remove: \"))\n",
        "\n",
        "# Create a new list to store elements that are not removed\n",
        "result = []\n",
        "\n",
        "# Loop through each element in the original list\n",
        "for num in numbers:\n",
        "    if num != element_to_remove:\n",
        "        result.append(num)  # Add elements to the result list if they are not the target\n",
        "\n",
        "# Print the modified list\n",
        "print(\"List after removing all occurrences of\", element_to_remove, \":\", result)"
      ],
      "metadata": {
        "colab": {
          "base_uri": "https://localhost:8080/"
        },
        "id": "EXrFeundVMea",
        "outputId": "5dcadaed-d4ee-48cd-9618-5e7ab58de105"
      },
      "execution_count": 17,
      "outputs": [
        {
          "output_type": "stream",
          "name": "stdout",
          "text": [
            "Enter the element to remove: 3\n",
            "List after removing all occurrences of 3 : [1, 2, 4, 2, 5, 2, 6]\n"
          ]
        }
      ]
    },
    {
      "cell_type": "markdown",
      "source": [
        "16. Develop a program that generates a multiplication table for numbers from 1 to 5 using a nested `for` loop."
      ],
      "metadata": {
        "id": "hjsycU5SVm5B"
      }
    },
    {
      "cell_type": "code",
      "source": [
        "# Loop through numbers from 1 to 5 for the rows\n",
        "for i in range(1, 6):\n",
        "    # Loop through numbers from 1 to 5 for the columns\n",
        "    for j in range(1, 6):\n",
        "        # Calculate and print the product\n",
        "        product = i * j\n",
        "        print(f\"{i} x {j} = {product}\", end=\"\\t\")\n",
        "    # Print a new line after each row of the table\n",
        "    print()"
      ],
      "metadata": {
        "colab": {
          "base_uri": "https://localhost:8080/"
        },
        "id": "D67bAfNfVjUS",
        "outputId": "3c626a7f-eccc-4747-d3d2-8bcbc0dedb04"
      },
      "execution_count": 18,
      "outputs": [
        {
          "output_type": "stream",
          "name": "stdout",
          "text": [
            "1 x 1 = 1\t1 x 2 = 2\t1 x 3 = 3\t1 x 4 = 4\t1 x 5 = 5\t\n",
            "2 x 1 = 2\t2 x 2 = 4\t2 x 3 = 6\t2 x 4 = 8\t2 x 5 = 10\t\n",
            "3 x 1 = 3\t3 x 2 = 6\t3 x 3 = 9\t3 x 4 = 12\t3 x 5 = 15\t\n",
            "4 x 1 = 4\t4 x 2 = 8\t4 x 3 = 12\t4 x 4 = 16\t4 x 5 = 20\t\n",
            "5 x 1 = 5\t5 x 2 = 10\t5 x 3 = 15\t5 x 4 = 20\t5 x 5 = 25\t\n"
          ]
        }
      ]
    },
    {
      "cell_type": "markdown",
      "source": [
        "17. Write a program that converts a list of Fahrenheit temperatures to Celsius using a `for` loop."
      ],
      "metadata": {
        "id": "zoGaIxhiWA_d"
      }
    },
    {
      "cell_type": "code",
      "source": [
        "# Define the list of Fahrenheit temperatures\n",
        "fahrenheit_temperatures = [32, 212, 100, 75, 50]\n",
        "\n",
        "# Create an empty list to store the Celsius temperatures\n",
        "celsius_temperatures = []\n",
        "\n",
        "# Use a for loop to convert each Fahrenheit temperature to Celsius\n",
        "for fahrenheit in fahrenheit_temperatures:\n",
        "    celsius = (fahrenheit - 32) * 5.0/9.0  # Convert Fahrenheit to Celsius\n",
        "    celsius_temperatures.append(celsius)  # Add the Celsius temperature to the list\n",
        "\n",
        "# Print the original Fahrenheit temperatures and their corresponding Celsius temperatures\n",
        "for i in range(len(fahrenheit_temperatures)):\n",
        "    print(f\"{fahrenheit_temperatures[i]}°F is equal to {celsius_temperatures[i]}°C\")"
      ],
      "metadata": {
        "colab": {
          "base_uri": "https://localhost:8080/"
        },
        "id": "MFMViA15V-Ma",
        "outputId": "04433393-afe6-4f73-a24f-4ee9ca844b9b"
      },
      "execution_count": 19,
      "outputs": [
        {
          "output_type": "stream",
          "name": "stdout",
          "text": [
            "32°F is equal to 0.0°C\n",
            "212°F is equal to 100.0°C\n",
            "100°F is equal to 37.77777777777778°C\n",
            "75°F is equal to 23.88888888888889°C\n",
            "50°F is equal to 10.0°C\n"
          ]
        }
      ]
    },
    {
      "cell_type": "markdown",
      "source": [
        "18. Create a program to print the common elements from two lists using a `for` loop."
      ],
      "metadata": {
        "id": "-805WpO0WAeO"
      }
    },
    {
      "cell_type": "code",
      "source": [
        "# Define the two lists\n",
        "list1 = [1, 2, 3, 4, 5, 6]\n",
        "list2 = [4, 5, 6, 7, 8, 9]\n",
        "\n",
        "# Create an empty list to store the common elements\n",
        "common_elements = []\n",
        "\n",
        "# Use a for loop to iterate over the elements in list1\n",
        "for element in list1:\n",
        "    # Check if the element is also in list2\n",
        "    if element in list2:\n",
        "        common_elements.append(element)  # Add the common element to the list\n",
        "\n",
        "# Print the common elements\n",
        "print(\"Common elements:\", common_elements)"
      ],
      "metadata": {
        "colab": {
          "base_uri": "https://localhost:8080/"
        },
        "id": "Ud-sjg_UWhxj",
        "outputId": "28e0147a-7f53-47c0-f014-54563212effa"
      },
      "execution_count": 20,
      "outputs": [
        {
          "output_type": "stream",
          "name": "stdout",
          "text": [
            "Common elements: [4, 5, 6]\n"
          ]
        }
      ]
    },
    {
      "cell_type": "markdown",
      "source": [
        "19. Develop a program that prints the pattern of right-angled triangles using a `for` loop. Use ‘*’ to draw the\n",
        "pattern"
      ],
      "metadata": {
        "id": "p3J_slCPW0JG"
      }
    },
    {
      "cell_type": "code",
      "source": [
        "# Define the size of the triangle\n",
        "size = 5\n",
        "\n",
        "# Use a for loop to print each row of the triangle\n",
        "for i in range(1, size + 1):\n",
        "    # Print the '*' characters for the current row\n",
        "    print('*' * i)"
      ],
      "metadata": {
        "colab": {
          "base_uri": "https://localhost:8080/"
        },
        "id": "2nt4nrO_WuBD",
        "outputId": "f3b7d730-efef-4b20-e192-d07c3c534af0"
      },
      "execution_count": 22,
      "outputs": [
        {
          "output_type": "stream",
          "name": "stdout",
          "text": [
            "*\n",
            "**\n",
            "***\n",
            "****\n",
            "*****\n"
          ]
        }
      ]
    },
    {
      "cell_type": "markdown",
      "source": [
        "20. Write a program to find the greatest common divisor (GCD) of two numbers using a `for` loop."
      ],
      "metadata": {
        "id": "qqfz2YqTWzvX"
      }
    },
    {
      "cell_type": "code",
      "source": [
        "# Define the two numbers\n",
        "num1 = 48\n",
        "num2 = 18\n",
        "\n",
        "# Initialize the GCD to 1\n",
        "gcd = 1\n",
        "\n",
        "# Use a for loop to iterate from 2 to the smaller of the two numbers\n",
        "for i in range(2, min(num1, num2) + 1):\n",
        "    # Check if i is a divisor of both numbers\n",
        "    if num1 % i == 0 and num2 % i == 0:\n",
        "        gcd = i  # Update the GCD if i is a common divisor\n",
        "\n",
        "# Print the GCD\n",
        "print(\"GCD of\", num1, \"and\", num2, \"is\", gcd)"
      ],
      "metadata": {
        "colab": {
          "base_uri": "https://localhost:8080/"
        },
        "id": "5HkG5nWaXBcr",
        "outputId": "577faeac-a7b9-4965-e27e-72281d3cf36e"
      },
      "execution_count": 23,
      "outputs": [
        {
          "output_type": "stream",
          "name": "stdout",
          "text": [
            "GCD of 48 and 18 is 6\n"
          ]
        }
      ]
    },
    {
      "cell_type": "markdown",
      "source": [
        "21. Create a program that calculates the sum of the digits of numbers in a list using a list comprehension."
      ],
      "metadata": {
        "id": "v6dfVXBTXXxJ"
      }
    },
    {
      "cell_type": "code",
      "source": [
        "# Define the list of numbers\n",
        "numbers = [12, 34, 56, 78, 90]\n",
        "\n",
        "# Use a list comprehension to calculate the sum of digits for each number\n",
        "sum_of_digits = [sum(int(digit) for digit in str(num)) for num in numbers]\n",
        "\n",
        "# Print the sum of digits for each number\n",
        "for i, num in enumerate(numbers):\n",
        "    print(\"Sum of digits of\", num, \"is\", sum_of_digits[i])"
      ],
      "metadata": {
        "colab": {
          "base_uri": "https://localhost:8080/"
        },
        "id": "Jayt3SVbXCVK",
        "outputId": "e8c3f9ac-8925-42d0-bef3-fcedda3b6d78"
      },
      "execution_count": 24,
      "outputs": [
        {
          "output_type": "stream",
          "name": "stdout",
          "text": [
            "Sum of digits of 12 is 3\n",
            "Sum of digits of 34 is 7\n",
            "Sum of digits of 56 is 11\n",
            "Sum of digits of 78 is 15\n",
            "Sum of digits of 90 is 9\n"
          ]
        }
      ]
    },
    {
      "cell_type": "markdown",
      "source": [
        "22. Write a program to find the prime factors of a given number using a `for` loop and list comprehension."
      ],
      "metadata": {
        "id": "KG8z6SiAXdFr"
      }
    },
    {
      "cell_type": "code",
      "source": [
        "# Define the number\n",
        "num = 315\n",
        "\n",
        "# Initialize an empty list to store prime factors\n",
        "prime_factors = []\n",
        "\n",
        "# Use a for loop to iterate from 2 to the square root of the number\n",
        "for i in range(2, int(num ** 0.5) + 1):\n",
        "    # Check if i is a factor of the number\n",
        "    while num % i == 0:\n",
        "        prime_factors.append(i)  # Add i to the list of prime factors\n",
        "        num //= i  # Divide the number by i\n",
        "\n",
        "# If the remaining number is greater than 1, it's a prime factor\n",
        "if num > 1:\n",
        "    prime_factors.append(num)\n",
        "\n",
        "# Use a list comprehension to filter out duplicates and sort the prime factors\n",
        "prime_factors = sorted(set(prime_factors))\n",
        "\n",
        "# Print the prime factors\n",
        "print(\"Prime factors are:\", prime_factors)"
      ],
      "metadata": {
        "colab": {
          "base_uri": "https://localhost:8080/"
        },
        "id": "lVy8waNZXbsj",
        "outputId": "65119601-24f2-4d9a-9876-fd683b317458"
      },
      "execution_count": 25,
      "outputs": [
        {
          "output_type": "stream",
          "name": "stdout",
          "text": [
            "Prime factors are: [3, 5, 7]\n"
          ]
        }
      ]
    },
    {
      "cell_type": "markdown",
      "source": [
        "23. Develop a program that extracts unique elements from a list and stores them in a new list using a list\n",
        "comprehension."
      ],
      "metadata": {
        "id": "hBGsxZnYXs0U"
      }
    },
    {
      "cell_type": "code",
      "source": [
        "# Define the original list\n",
        "original_list = [1, 2, 2, 3, 4, 4, 5, 6, 6, 7, 8, 8, 9]\n",
        "\n",
        "# Use a list comprehension to create a new list with unique elements\n",
        "unique_list = [x for i, x in enumerate(original_list) if x not in original_list[:i]]\n",
        "\n",
        "# Print the unique list\n",
        "print(\"Unique elements are:\", unique_list)"
      ],
      "metadata": {
        "colab": {
          "base_uri": "https://localhost:8080/"
        },
        "id": "jYVlDD1_XqFd",
        "outputId": "3c2d81f3-167a-42c3-8046-2ff82460e114"
      },
      "execution_count": 26,
      "outputs": [
        {
          "output_type": "stream",
          "name": "stdout",
          "text": [
            "Unique elements are: [1, 2, 3, 4, 5, 6, 7, 8, 9]\n"
          ]
        }
      ]
    },
    {
      "cell_type": "markdown",
      "source": [
        "24. Create a program that generates a list of all palindromic numbers up to a specified limit using a list\n",
        "comprehension."
      ],
      "metadata": {
        "id": "3ti9Q0xVX3zh"
      }
    },
    {
      "cell_type": "code",
      "source": [
        "# Define the limit\n",
        "limit = 50\n",
        "\n",
        "# Use a list comprehension to generate palindromic numbers up to the limit\n",
        "palindromic_numbers = [i for i in range(1, limit + 1) if str(i) == str(i)[::-1]]\n",
        "\n",
        "# Print the palindromic numbers\n",
        "print(\"Palindromic numbers up to\", limit, \"are:\", palindromic_numbers)"
      ],
      "metadata": {
        "colab": {
          "base_uri": "https://localhost:8080/"
        },
        "id": "OSTo7VG3X2uu",
        "outputId": "cb64d7ba-3e85-4b41-b8d9-0a336761b7d1"
      },
      "execution_count": 29,
      "outputs": [
        {
          "output_type": "stream",
          "name": "stdout",
          "text": [
            "Palindromic numbers up to 50 are: [1, 2, 3, 4, 5, 6, 7, 8, 9, 11, 22, 33, 44]\n"
          ]
        }
      ]
    },
    {
      "cell_type": "markdown",
      "source": [
        "25. Write a program to flatten a nested list using list comprehension."
      ],
      "metadata": {
        "id": "vOPSISG4YQTc"
      }
    },
    {
      "cell_type": "code",
      "source": [
        "# Define the nested list\n",
        "nested_list = [[1, 2, 3], [4, 5, 6], [7, 8, 9], [10, 11, 12], [13, 14, 15]]\n",
        "\n",
        "# Use a list comprehension to flatten the nested list\n",
        "flattened_list = [x for sublist in nested_list for x in sublist]\n",
        "\n",
        "# Print the flattened list\n",
        "print(\"Flattened list:\", flattened_list)"
      ],
      "metadata": {
        "colab": {
          "base_uri": "https://localhost:8080/"
        },
        "id": "RAuSQNVPYHg6",
        "outputId": "1d580d65-ab34-4266-da28-2709f1341826"
      },
      "execution_count": 30,
      "outputs": [
        {
          "output_type": "stream",
          "name": "stdout",
          "text": [
            "Flattened list: [1, 2, 3, 4, 5, 6, 7, 8, 9, 10, 11, 12, 13, 14, 15]\n"
          ]
        }
      ]
    },
    {
      "cell_type": "markdown",
      "source": [
        "26. Develop a program that computes the sum of even and odd numbers in a list separately using list\n",
        "comprehension."
      ],
      "metadata": {
        "id": "IfOrzkARYbxU"
      }
    },
    {
      "cell_type": "code",
      "source": [
        "# Define the list of numbers\n",
        "numbers = [1, 2, 3, 4, 5, 6, 7, 8, 9, 10]\n",
        "\n",
        "# Use list comprehension to compute the sum of even numbers\n",
        "even_sum = sum([x for x in numbers if x % 2 == 0])\n",
        "\n",
        "# Use list comprehension to compute the sum of odd numbers\n",
        "odd_sum = sum([x for x in numbers if x % 2 != 0])\n",
        "\n",
        "# Print the sums\n",
        "print(\"Sum of even numbers:\", even_sum)\n",
        "print(\"Sum of odd numbers:\", odd_sum)"
      ],
      "metadata": {
        "colab": {
          "base_uri": "https://localhost:8080/"
        },
        "id": "kJgDdu6kYbNd",
        "outputId": "291000c1-6c30-4dbc-bd8e-0446f1d87230"
      },
      "execution_count": 31,
      "outputs": [
        {
          "output_type": "stream",
          "name": "stdout",
          "text": [
            "Sum of even numbers: 30\n",
            "Sum of odd numbers: 25\n"
          ]
        }
      ]
    },
    {
      "cell_type": "markdown",
      "source": [
        "27. Create a program that generates a list of squares of odd numbers between 1 and 10 using list\n",
        "comprehension."
      ],
      "metadata": {
        "id": "gvLfSttsYp84"
      }
    },
    {
      "cell_type": "code",
      "source": [
        "# Use list comprehension to generate the list of squares of odd numbers\n",
        "squares_of_odd_numbers = [x**2 for x in range(1, 11) if x % 2 != 0]\n",
        "\n",
        "# Print the list\n",
        "print(\"List of squares of odd numbers:\", squares_of_odd_numbers)"
      ],
      "metadata": {
        "colab": {
          "base_uri": "https://localhost:8080/"
        },
        "id": "BdPdKsTJYnM0",
        "outputId": "1ee30fad-9834-4da0-d055-8eb441560e12"
      },
      "execution_count": 32,
      "outputs": [
        {
          "output_type": "stream",
          "name": "stdout",
          "text": [
            "List of squares of odd numbers: [1, 9, 25, 49, 81]\n"
          ]
        }
      ]
    },
    {
      "cell_type": "markdown",
      "source": [
        "28. Write a program that combines two lists into a dictionary using list comprehension."
      ],
      "metadata": {
        "id": "iSAAaP3nY5Q_"
      }
    },
    {
      "cell_type": "code",
      "source": [
        "# Define the two lists\n",
        "keys = ['a', 'b', 'c', 'd', 'e']\n",
        "values = [1, 2, 3, 4, 5]\n",
        "\n",
        "# Use list comprehension to combine the lists into a dictionary\n",
        "combined_dict = {key: value for key, value in zip(keys, values)}\n",
        "\n",
        "# Print the dictionary\n",
        "print(\"Combined dictionary:\", combined_dict)"
      ],
      "metadata": {
        "colab": {
          "base_uri": "https://localhost:8080/"
        },
        "id": "L3nRqH1cY1Up",
        "outputId": "867931af-8a0d-48e3-d2ad-bb01d015f1c9"
      },
      "execution_count": 33,
      "outputs": [
        {
          "output_type": "stream",
          "name": "stdout",
          "text": [
            "Combined dictionary: {'a': 1, 'b': 2, 'c': 3, 'd': 4, 'e': 5}\n"
          ]
        }
      ]
    },
    {
      "cell_type": "markdown",
      "source": [
        "29. Develop a program that extracts the vowels from a string and stores them in a list using list comprehension."
      ],
      "metadata": {
        "id": "OhG19qlsZE-l"
      }
    },
    {
      "cell_type": "code",
      "source": [
        "# Define the input string\n",
        "input_string = \"Hello, World!\"\n",
        "\n",
        "# Use list comprehension to extract the vowels from the string\n",
        "vowels = [char for char in input_string if char.lower() in 'aeiou']\n",
        "\n",
        "# Print the list of vowels\n",
        "print(\"Vowels in the string:\", vowels)"
      ],
      "metadata": {
        "colab": {
          "base_uri": "https://localhost:8080/"
        },
        "id": "cxem3fDtZBPG",
        "outputId": "50f2357a-ac2b-4e9b-eace-35fd91149cbe"
      },
      "execution_count": 34,
      "outputs": [
        {
          "output_type": "stream",
          "name": "stdout",
          "text": [
            "Vowels in the string: ['e', 'o', 'o']\n"
          ]
        }
      ]
    },
    {
      "cell_type": "markdown",
      "source": [
        "30. Create a program that removes all non-numeric characters from a list of strings using list comprehension."
      ],
      "metadata": {
        "id": "MThihIHbZP5Y"
      }
    },
    {
      "cell_type": "code",
      "source": [
        "# Define the list of strings\n",
        "input_list = [\"123abc\", \"456def\", \"ghi789\", \"jkl012\"]\n",
        "\n",
        "# Use list comprehension to remove non-numeric characters from each string\n",
        "numeric_list = [''.join(char for char in string if char.isdigit()) for string in input_list]\n",
        "\n",
        "# Print the list of numeric strings\n",
        "print(\"List of numeric strings:\", numeric_list)"
      ],
      "metadata": {
        "colab": {
          "base_uri": "https://localhost:8080/"
        },
        "id": "Ec48CgD-ZMen",
        "outputId": "8ab50f0e-faf8-4932-f15b-5c06a2eee0e5"
      },
      "execution_count": 35,
      "outputs": [
        {
          "output_type": "stream",
          "name": "stdout",
          "text": [
            "List of numeric strings: ['123', '456', '789', '012']\n"
          ]
        }
      ]
    },
    {
      "cell_type": "markdown",
      "source": [
        "31. Write a program to generate a list of prime numbers using the Sieve of Eratosthenes algorithm and list\n",
        "comprehension."
      ],
      "metadata": {
        "id": "ZkSQ7AbAZcZM"
      }
    },
    {
      "cell_type": "code",
      "source": [
        "# Define the upper limit for generating prime numbers\n",
        "upper_limit = 100\n",
        "\n",
        "# Create a boolean array, prime, of size upper_limit+1\n",
        "prime = [True] * (upper_limit + 1)\n",
        "\n",
        "# 0 and 1 are not prime numbers\n",
        "prime[0] = prime[1] = False\n",
        "\n",
        "# Iterate from 2 to sqrt(upper_limit)\n",
        "for p in range(2, int(upper_limit ** 0.5) + 1):\n",
        "    # If p is a prime number, mark its multiples as not prime\n",
        "    if prime[p]:\n",
        "        for i in range(p * p, upper_limit + 1, p):\n",
        "            prime[i] = False\n",
        "\n",
        "# Use list comprehension to generate the list of prime numbers\n",
        "prime_numbers = [p for p in range(2, upper_limit + 1) if prime[p]]\n",
        "\n",
        "# Print the list of prime numbers\n",
        "print(\"List of prime numbers:\", prime_numbers)"
      ],
      "metadata": {
        "colab": {
          "base_uri": "https://localhost:8080/"
        },
        "id": "T6YvcnkdZXBu",
        "outputId": "24b160ed-e687-44e9-a070-d5e265285545"
      },
      "execution_count": 36,
      "outputs": [
        {
          "output_type": "stream",
          "name": "stdout",
          "text": [
            "List of prime numbers: [2, 3, 5, 7, 11, 13, 17, 19, 23, 29, 31, 37, 41, 43, 47, 53, 59, 61, 67, 71, 73, 79, 83, 89, 97]\n"
          ]
        }
      ]
    },
    {
      "cell_type": "markdown",
      "source": [
        "32. Create a program that generates a list of all Pythagorean triplets up to a specified limit using list\n",
        "comprehension."
      ],
      "metadata": {
        "id": "ExtogSP8ZnNn"
      }
    },
    {
      "cell_type": "code",
      "source": [
        "# Define the upper limit for generating Pythagorean triplets\n",
        "upper_limit = 100\n",
        "\n",
        "# Use list comprehension to generate the list of Pythagorean triplets\n",
        "pythagorean_triplets = [(a, b, c) for a in range(1, upper_limit + 1)\n",
        "                        for b in range(a, upper_limit + 1)\n",
        "                        for c in range(b, upper_limit + 1)\n",
        "                        if a ** 2 + b ** 2 == c ** 2]\n",
        "\n",
        "# Print the list of Pythagorean triplets\n",
        "print(\"List of Pythagorean triplets:\", pythagorean_triplets)"
      ],
      "metadata": {
        "colab": {
          "base_uri": "https://localhost:8080/"
        },
        "id": "oKK5oU2rZjat",
        "outputId": "d073531c-d38f-4afc-fd4d-980c88cd8f1e"
      },
      "execution_count": 37,
      "outputs": [
        {
          "output_type": "stream",
          "name": "stdout",
          "text": [
            "List of Pythagorean triplets: [(3, 4, 5), (5, 12, 13), (6, 8, 10), (7, 24, 25), (8, 15, 17), (9, 12, 15), (9, 40, 41), (10, 24, 26), (11, 60, 61), (12, 16, 20), (12, 35, 37), (13, 84, 85), (14, 48, 50), (15, 20, 25), (15, 36, 39), (16, 30, 34), (16, 63, 65), (18, 24, 30), (18, 80, 82), (20, 21, 29), (20, 48, 52), (21, 28, 35), (21, 72, 75), (24, 32, 40), (24, 45, 51), (24, 70, 74), (25, 60, 65), (27, 36, 45), (28, 45, 53), (28, 96, 100), (30, 40, 50), (30, 72, 78), (32, 60, 68), (33, 44, 55), (33, 56, 65), (35, 84, 91), (36, 48, 60), (36, 77, 85), (39, 52, 65), (39, 80, 89), (40, 42, 58), (40, 75, 85), (42, 56, 70), (45, 60, 75), (48, 55, 73), (48, 64, 80), (51, 68, 85), (54, 72, 90), (57, 76, 95), (60, 63, 87), (60, 80, 100), (65, 72, 97)]\n"
          ]
        }
      ]
    },
    {
      "cell_type": "markdown",
      "source": [
        "33. Develop a program that generates a list of all possible combinations of two lists using list comprehension."
      ],
      "metadata": {
        "id": "Mj46NqOkaBwF"
      }
    },
    {
      "cell_type": "code",
      "source": [
        "# Define the two lists\n",
        "list1 = [1, 2, 3]\n",
        "list2 = ['a', 'b', 'c']\n",
        "\n",
        "# Use list comprehension to generate the list of combinations\n",
        "combinations = [(x, y) for x in list1 for y in list2]\n",
        "\n",
        "# Print the list of combinations\n",
        "print(\"List of combinations:\", combinations)"
      ],
      "metadata": {
        "colab": {
          "base_uri": "https://localhost:8080/"
        },
        "id": "ESj994Z0ZuNr",
        "outputId": "b7d1aeca-f9de-4612-b9d8-48fdc8f4579b"
      },
      "execution_count": 38,
      "outputs": [
        {
          "output_type": "stream",
          "name": "stdout",
          "text": [
            "List of combinations: [(1, 'a'), (1, 'b'), (1, 'c'), (2, 'a'), (2, 'b'), (2, 'c'), (3, 'a'), (3, 'b'), (3, 'c')]\n"
          ]
        }
      ]
    },
    {
      "cell_type": "markdown",
      "source": [
        "34. Write a program that calculates the mean, median, and mode of a list of numbers using list\n",
        "comprehension."
      ],
      "metadata": {
        "id": "_GWVaZOhaLCw"
      }
    },
    {
      "cell_type": "code",
      "source": [
        "# Define the list of numbers\n",
        "numbers = [12, 15, 18, 20, 22, 25, 28, 30, 32, 35]\n",
        "\n",
        "# Calculate the mean using list comprehension\n",
        "mean = sum(numbers) / len(numbers)\n",
        "\n",
        "# Calculate the median using list comprehension\n",
        "numbers_sorted = sorted(numbers)\n",
        "median = numbers_sorted[len(numbers_sorted) // 2] if len(numbers_sorted) % 2 != 0 else (numbers_sorted[len(numbers_sorted) // 2 - 1] + numbers_sorted[len(numbers_sorted) // 2]) / 2\n",
        "\n",
        "# Calculate the mode using list comprehension\n",
        "mode = max(set(numbers), key = numbers.count)\n",
        "\n",
        "# Print the results\n",
        "print(\"Mean:\", mean)\n",
        "print(\"Median:\", median)\n",
        "print(\"Mode:\", mode)"
      ],
      "metadata": {
        "colab": {
          "base_uri": "https://localhost:8080/"
        },
        "id": "YAB9YJImaICF",
        "outputId": "d0e5a712-f15a-47fe-d283-a9c2a2d6fd92"
      },
      "execution_count": 39,
      "outputs": [
        {
          "output_type": "stream",
          "name": "stdout",
          "text": [
            "Mean: 23.7\n",
            "Median: 23.5\n",
            "Mode: 32\n"
          ]
        }
      ]
    },
    {
      "cell_type": "markdown",
      "source": [
        "35. Create a program that generates Pascal's triangle up to a specified number of rows using list\n",
        "comprehension."
      ],
      "metadata": {
        "id": "TpwLOhVQaT9e"
      }
    },
    {
      "cell_type": "code",
      "source": [
        "def generate_pascals_triangle(n):\n",
        "    triangle = [[1 for _ in range(i+1)] for i in range(n)]\n",
        "    for i in range(2, n):\n",
        "        for j in range(1, i):\n",
        "            triangle[i][j] = triangle[i-1][j-1] + triangle[i-1][j]\n",
        "    return triangle\n",
        "\n",
        "# Specify the number of rows\n",
        "n = 5\n",
        "\n",
        "# Generate Pascal's triangle\n",
        "pascals_triangle = generate_pascals_triangle(n)\n",
        "\n",
        "# Print Pascal's triangle\n",
        "for row in pascals_triangle:\n",
        "    print(' '.join(str(num) for num in row))"
      ],
      "metadata": {
        "colab": {
          "base_uri": "https://localhost:8080/"
        },
        "id": "iyRniABkaQWn",
        "outputId": "d04bb922-51f0-4490-a2ad-1dd210f1395b"
      },
      "execution_count": 40,
      "outputs": [
        {
          "output_type": "stream",
          "name": "stdout",
          "text": [
            "1\n",
            "1 1\n",
            "1 2 1\n",
            "1 3 3 1\n",
            "1 4 6 4 1\n"
          ]
        }
      ]
    },
    {
      "cell_type": "markdown",
      "source": [
        "36. Develop a program that calculates the sum of the digits of a factorial of numbers from 1 to 5 using list\n",
        "comprehension."
      ],
      "metadata": {
        "id": "u9FJ_yk8afvQ"
      }
    },
    {
      "cell_type": "code",
      "source": [
        "import math\n",
        "\n",
        "# Calculate the factorial of numbers from 1 to 5\n",
        "factorials = [math.factorial(i) for i in range(1, 6)]\n",
        "\n",
        "# Calculate the sum of digits of each factorial\n",
        "sum_of_digits = [sum(int(digit) for digit in str(factorial)) for factorial in factorials]\n",
        "\n",
        "# Print the results\n",
        "for i, sum_of_digit in enumerate(sum_of_digits, start=1):\n",
        "    print(f\"The sum of digits of {i}! is {sum_of_digit}\")"
      ],
      "metadata": {
        "colab": {
          "base_uri": "https://localhost:8080/"
        },
        "id": "p8yBBTzJadOt",
        "outputId": "cc988425-59d2-4a4d-cb57-3613df504a8e"
      },
      "execution_count": 41,
      "outputs": [
        {
          "output_type": "stream",
          "name": "stdout",
          "text": [
            "The sum of digits of 1! is 1\n",
            "The sum of digits of 2! is 2\n",
            "The sum of digits of 3! is 6\n",
            "The sum of digits of 4! is 6\n",
            "The sum of digits of 5! is 3\n"
          ]
        }
      ]
    },
    {
      "cell_type": "markdown",
      "source": [
        "37. Write a program that finds the longest word in a sentence using list comprehension."
      ],
      "metadata": {
        "id": "e44ciYC8a0Gf"
      }
    },
    {
      "cell_type": "code",
      "source": [
        "def find_longest_word(sentence):\n",
        "    words = sentence.split()\n",
        "    longest_word = max(words, key=len)\n",
        "    return longest_word\n",
        "\n",
        "# Specify the sentence\n",
        "sentence = \"This is a sample sentence\"\n",
        "\n",
        "# Find the longest word\n",
        "longest_word = find_longest_word(sentence)\n",
        "\n",
        "# Print the result\n",
        "print(f\"The longest word in the sentence is '{longest_word}'\")"
      ],
      "metadata": {
        "colab": {
          "base_uri": "https://localhost:8080/"
        },
        "id": "V1OzmqbEaync",
        "outputId": "c9a0cedf-79fa-4602-cd67-624f2bcb8238"
      },
      "execution_count": 42,
      "outputs": [
        {
          "output_type": "stream",
          "name": "stdout",
          "text": [
            "The longest word in the sentence is 'sentence'\n"
          ]
        }
      ]
    },
    {
      "cell_type": "markdown",
      "source": [
        "38. Create a program that filters a list of strings to include only those with more than three vowels using list\n",
        "comprehension."
      ],
      "metadata": {
        "id": "AMtbHWTKbwz6"
      }
    },
    {
      "cell_type": "code",
      "source": [
        "def count_vowels(word):\n",
        "    vowels = 'aeiou'\n",
        "    return sum(1 for char in word.lower() if char in vowels)\n",
        "\n",
        "# Specify the list of strings\n",
        "strings = [\"hello\", \"world\", \"python\", \"programming\", \"aeiou\", \"xyz\"]\n",
        "\n",
        "# Filter the list to include only those with more than three vowels\n",
        "filtered_strings = [string for string in strings if count_vowels(string) > 3]\n",
        "\n",
        "# Print the result\n",
        "print(\"Strings with more than three vowels:\")\n",
        "for string in filtered_strings:\n",
        "    print(string)"
      ],
      "metadata": {
        "colab": {
          "base_uri": "https://localhost:8080/"
        },
        "id": "acJVaG-bbrPQ",
        "outputId": "b551e154-0074-4fcd-ee69-bb8d33fad7be"
      },
      "execution_count": 43,
      "outputs": [
        {
          "output_type": "stream",
          "name": "stdout",
          "text": [
            "Strings with more than three vowels:\n",
            "aeiou\n"
          ]
        }
      ]
    },
    {
      "cell_type": "markdown",
      "source": [
        "39. Develop a program that calculates the sum of the digits of numbers from 1 to 1000 using list\n",
        "comprehension."
      ],
      "metadata": {
        "id": "WhXbarr-bwR8"
      }
    },
    {
      "cell_type": "code",
      "source": [
        "def sum_of_digits(n):\n",
        "    return sum(int(digit) for digit in str(n))\n",
        "\n",
        "# Calculate the sum of digits for numbers from 1 to 1000\n",
        "sum_of_all_digits = sum(sum_of_digits(i) for i in range(1, 1001))\n",
        "\n",
        "# Print the result\n",
        "print(\"The sum of the digits of numbers from 1 to 1000 is:\", sum_of_all_digits)"
      ],
      "metadata": {
        "colab": {
          "base_uri": "https://localhost:8080/"
        },
        "id": "zD-PeiUBb6SS",
        "outputId": "0166c65e-7834-4a02-b365-df49c10b57c4"
      },
      "execution_count": 44,
      "outputs": [
        {
          "output_type": "stream",
          "name": "stdout",
          "text": [
            "The sum of the digits of numbers from 1 to 1000 is: 13501\n"
          ]
        }
      ]
    },
    {
      "cell_type": "markdown",
      "source": [
        "40. Write a program that generates a list of prime palindromic numbers using list comprehension."
      ],
      "metadata": {
        "id": "GdgbeAZAcCuu"
      }
    },
    {
      "cell_type": "code",
      "source": [
        "def is_prime(n):\n",
        "    if n < 2:\n",
        "        return False\n",
        "    for i in range(2, int(n**0.5) + 1):\n",
        "        if n % i == 0:\n",
        "            return False\n",
        "    return True\n",
        "\n",
        "def is_palindromic(n):\n",
        "    return str(n) == str(n)[::-1]\n",
        "\n",
        "# Generate a list of prime palindromic numbers\n",
        "prime_palindromic_numbers = [n for n in range(2, 1000) if is_prime(n) and is_palindromic(n)]\n",
        "\n",
        "# Print the result\n",
        "print(\"Prime palindromic numbers:\")\n",
        "for num in prime_palindromic_numbers:\n",
        "    print(num)"
      ],
      "metadata": {
        "colab": {
          "base_uri": "https://localhost:8080/"
        },
        "id": "CYIqPkozcBb6",
        "outputId": "e0ac56d7-b782-4355-f891-55d9b3d812c6"
      },
      "execution_count": 45,
      "outputs": [
        {
          "output_type": "stream",
          "name": "stdout",
          "text": [
            "Prime palindromic numbers:\n",
            "2\n",
            "3\n",
            "5\n",
            "7\n",
            "11\n",
            "101\n",
            "131\n",
            "151\n",
            "181\n",
            "191\n",
            "313\n",
            "353\n",
            "373\n",
            "383\n",
            "727\n",
            "757\n",
            "787\n",
            "797\n",
            "919\n",
            "929\n"
          ]
        }
      ]
    },
    {
      "cell_type": "code",
      "source": [],
      "metadata": {
        "id": "pnjXPKB5cQSP"
      },
      "execution_count": null,
      "outputs": []
    }
  ]
}