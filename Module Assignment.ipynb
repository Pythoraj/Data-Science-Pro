{
 "cells": [
  {
   "cell_type": "markdown",
   "id": "5134eae1-db7e-4d8d-83c5-6cecf3c7428a",
   "metadata": {},
   "source": [
    "Question .1.1: Write the Answer to these questions."
   ]
  },
  {
   "cell_type": "markdown",
   "id": "d9235e54-2576-40b0-8581-2564fde3d6bc",
   "metadata": {},
   "source": [
    "1. What is the diff b/w static and dynamic variables in Python?\n",
    "   \n",
    "Static Variables (Class Variables):\n",
    "\r",
    "- \n",
    "Shared across all instances: Static variables in Python are typically implemented as class variables. These variables are defined within the class but\n",
    "   outside any method. They hold the same value for all instances (objects) of that class\n",
    ".- \r\n",
    "Access and modification: You can access and modify class variables using the class name or through any instance of the class. Modifying a clas\n",
    "  s variable through the class name affects all instance\n",
    "\n",
    "Dynamic Variables (Instance Variables):\n",
    "\r",
    "- \n",
    "Specific to each instance: Dynamic variables in Python are typically implemented as instance variables. These variables are defined within the\n",
    "   __init__ method (constructor) and are unique to each object created from the class\n",
    "  .- \r\n",
    "Access and modification: You can access and modify instance variables only through the object (instance) itself.s.  "
   ]
  },
  {
   "cell_type": "code",
   "execution_count": 8,
   "id": "c309ae86-ab86-4bad-9b2b-db3b417dee37",
   "metadata": {},
   "outputs": [
    {
     "name": "stdout",
     "output_type": "stream",
     "text": [
      "3.14159\n",
      "3.14159\n",
      "3.14\n",
      "3.14\n"
     ]
    }
   ],
   "source": [
    "# Example for Static Variable or Class variable\n",
    "class Circle:\n",
    "    pi = 3.14159  # Class variable (static)\n",
    "\n",
    "    def __init__(self, radius):\n",
    "        self.radius = radius\n",
    "\n",
    "    def area(self):\n",
    "        return Circle.pi * self.radius ** 2\n",
    "\n",
    "c1 = Circle(5)\n",
    "c2 = Circle(10)\n",
    "\n",
    "print(c1.pi) \n",
    "print(c2.pi) \n",
    "\n",
    "Circle.pi = 3.14  # Modifying class variable through class name\n",
    "\n",
    "print(c1.pi) \n",
    "print(c2.pi) "
   ]
  },
  {
   "cell_type": "code",
   "execution_count": 10,
   "id": "65d02a77-e574-4038-b77e-7006ec095839",
   "metadata": {},
   "outputs": [
    {
     "name": "stdout",
     "output_type": "stream",
     "text": [
      "red\n",
      "blue\n"
     ]
    }
   ],
   "source": [
    "# Example of Dynamic variable or Instance variable.\n",
    "\n",
    "class Car:\n",
    "    def __init__(self, color):\n",
    "        self.color = color  # Instance variable (dynamic)\n",
    "\n",
    "car1 = Car(\"red\")\n",
    "car2 = Car(\"blue\")\n",
    "\n",
    "print(car1.color) \n",
    "print(car2.color) "
   ]
  },
  {
   "cell_type": "markdown",
   "id": "ef4c0076-ed3e-4e84-8b7a-98f48fe4ad9e",
   "metadata": {},
   "source": [
    "2. Explain the purpose of  \"pop\", \"popitem\", and\" clear()\" in a dictionary with suitable examples.\n",
    "\n",
    "   1. pop(key[, default]):\n",
    "      - Removes the item with the specified key from the dictionary.\n",
    "   2. popitem():\n",
    "      - Removes and returns the last inserted key-value pair as a tuple.\n",
    "   3. clear():\n",
    "      - Removes all items from the dictionary, leaving it empty."
   ]
  },
  {
   "cell_type": "code",
   "execution_count": 17,
   "id": "74bcbeeb-51b5-436d-bd37-3b3a263d231b",
   "metadata": {},
   "outputs": [
    {
     "name": "stdout",
     "output_type": "stream",
     "text": [
      "Removed Value:  2\n",
      "Dict after removed element:  {'a': 1, 'c': 3}\n",
      "Removed Value:  ('c', 3)\n",
      "Dict after removed element:  {'a': 1, 'b': 2}\n",
      "Dict after cleared element:  {}\n"
     ]
    }
   ],
   "source": [
    "# Example of above dictionary method.\n",
    "my_dict = {'a': 1, 'b': 2, 'c': 3}\n",
    "\n",
    "value = my_dict.pop('b')  # Removes 'b' and returns 2\n",
    "print(\"Removed Value: \",value)\n",
    "print(\"Dict after removed element: \",my_dict)\n",
    "#------------------------------------------\n",
    "\n",
    "my_dict1 = {'a': 1, 'b': 2, 'c': 3}\n",
    "\n",
    "item = my_dict1.popitem()  # Removes ('c', 3)\n",
    "print(\"Removed Value: \",item)\n",
    "print(\"Dict after removed element: \", my_dict1)\n",
    "\n",
    "#------------------------------------------\n",
    "my_dict2 = {'a': 1, 'b': 2, 'c': 3}\n",
    "\n",
    "my_dict2.clear()\n",
    "print(\"Dict after cleared element: \",my_dict2)"
   ]
  },
  {
   "cell_type": "markdown",
   "id": "24ac2389-49c2-46bc-9271-0f26db7dedc5",
   "metadata": {},
   "source": [
    "3. What do you mean by FrozenSet? Explain it with a suitable example.\n",
    "   \n",
    "   FrozenSet():\n",
    "   The frozenset() function returns an unchangeable frozenset object (which is like a set object, only unchangeable)."
   ]
  },
  {
   "cell_type": "code",
   "execution_count": 22,
   "id": "f2dfd871-8925-459c-bdaf-1e1dd5f8c8e2",
   "metadata": {},
   "outputs": [
    {
     "ename": "TypeError",
     "evalue": "'frozenset' object does not support item assignment",
     "output_type": "error",
     "traceback": [
      "\u001b[1;31m---------------------------------------------------------------------------\u001b[0m",
      "\u001b[1;31mTypeError\u001b[0m                                 Traceback (most recent call last)",
      "Cell \u001b[1;32mIn[22], line 5\u001b[0m\n\u001b[0;32m      3\u001b[0m mylist \u001b[38;5;241m=\u001b[39m [\u001b[38;5;124m'\u001b[39m\u001b[38;5;124mapple\u001b[39m\u001b[38;5;124m'\u001b[39m, \u001b[38;5;124m'\u001b[39m\u001b[38;5;124mbanana\u001b[39m\u001b[38;5;124m'\u001b[39m, \u001b[38;5;124m'\u001b[39m\u001b[38;5;124mcherry\u001b[39m\u001b[38;5;124m'\u001b[39m]\n\u001b[0;32m      4\u001b[0m x \u001b[38;5;241m=\u001b[39m \u001b[38;5;28mfrozenset\u001b[39m(mylist)\n\u001b[1;32m----> 5\u001b[0m x[\u001b[38;5;241m1\u001b[39m] \u001b[38;5;241m=\u001b[39m \u001b[38;5;124m\"\u001b[39m\u001b[38;5;124mstrawberry\u001b[39m\u001b[38;5;124m\"\u001b[39m\n",
      "\u001b[1;31mTypeError\u001b[0m: 'frozenset' object does not support item assignment"
     ]
    }
   ],
   "source": [
    "# Example of FrozenSet()\n",
    "# Freeze the list, and make it unchangeable.\n",
    "mylist = ['apple', 'banana', 'cherry']\n",
    "x = frozenset(mylist)\n",
    "x[1] = \"strawberry\""
   ]
  },
  {
   "cell_type": "markdown",
   "id": "608bc5f7-0c23-493f-b82a-491bbf7e7a5d",
   "metadata": {},
   "source": [
    "4. Differentiate b/w mutable and immutable data types in Python and give examples of mutable and immutable data types.\n",
    "\n",
    "   "
   ]
  }
 ],
 "metadata": {
  "kernelspec": {
   "display_name": "Python 3 (ipykernel)",
   "language": "python",
   "name": "python3"
  },
  "language_info": {
   "codemirror_mode": {
    "name": "ipython",
    "version": 3
   },
   "file_extension": ".py",
   "mimetype": "text/x-python",
   "name": "python",
   "nbconvert_exporter": "python",
   "pygments_lexer": "ipython3",
   "version": "3.11.5"
  }
 },
 "nbformat": 4,
 "nbformat_minor": 5
}
